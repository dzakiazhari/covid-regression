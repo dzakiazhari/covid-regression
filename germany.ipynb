{
 "cells": [
  {
   "cell_type": "markdown",
   "metadata": {},
   "source": [
    "# Germany"
   ]
  },
  {
   "cell_type": "markdown",
   "metadata": {},
   "source": [
    "## Basic Data (Import and Visualization)"
   ]
  },
  {
   "cell_type": "markdown",
   "metadata": {},
   "source": [
    "### Start (Importing Libraries)"
   ]
  },
  {
   "cell_type": "code",
   "execution_count": 1,
   "metadata": {},
   "outputs": [],
   "source": [
    "import matplotlib.pyplot as plt\n",
    "import numpy as np\n",
    "import pandas as pd\n",
    "import seaborn as sns\n",
    "from sklearn.metrics import r2_score\n",
    "%matplotlib inline"
   ]
  },
  {
   "cell_type": "markdown",
   "metadata": {},
   "source": [
    "### Read data and Plotting"
   ]
  },
  {
   "cell_type": "code",
   "execution_count": 2,
   "metadata": {},
   "outputs": [
    {
     "data": {
      "text/plain": [
       "pandas.core.frame.DataFrame"
      ]
     },
     "execution_count": 2,
     "metadata": {},
     "output_type": "execute_result"
    }
   ],
   "source": [
    "df = pd.read_csv('/Users/abdul/Documents/Academics/Metnum/UTS/dataset/csv/germany.csv')\n",
    "type(df)"
   ]
  },
  {
   "cell_type": "code",
   "execution_count": 3,
   "metadata": {},
   "outputs": [
    {
     "data": {
      "text/plain": [
       "(41, 5)"
      ]
     },
     "execution_count": 3,
     "metadata": {},
     "output_type": "execute_result"
    }
   ],
   "source": [
    "df.shape"
   ]
  },
  {
   "cell_type": "code",
   "execution_count": 4,
   "metadata": {},
   "outputs": [],
   "source": [
    "df.columns\n",
    "df['Date'] = pd.to_datetime(df['Date'])\n",
    "df.set_index('Date', inplace=True)"
   ]
  },
  {
   "cell_type": "code",
   "execution_count": 5,
   "metadata": {},
   "outputs": [
    {
     "data": {
      "text/html": [
       "<div>\n",
       "<style scoped>\n",
       "    .dataframe tbody tr th:only-of-type {\n",
       "        vertical-align: middle;\n",
       "    }\n",
       "\n",
       "    .dataframe tbody tr th {\n",
       "        vertical-align: top;\n",
       "    }\n",
       "\n",
       "    .dataframe thead th {\n",
       "        text-align: right;\n",
       "    }\n",
       "</style>\n",
       "<table border=\"1\" class=\"dataframe\">\n",
       "  <thead>\n",
       "    <tr style=\"text-align: right;\">\n",
       "      <th></th>\n",
       "      <th>Confirmed</th>\n",
       "      <th>New</th>\n",
       "      <th>Deaths</th>\n",
       "      <th>Active</th>\n",
       "    </tr>\n",
       "    <tr>\n",
       "      <th>Date</th>\n",
       "      <th></th>\n",
       "      <th></th>\n",
       "      <th></th>\n",
       "      <th></th>\n",
       "    </tr>\n",
       "  </thead>\n",
       "  <tbody>\n",
       "    <tr>\n",
       "      <th>2020-02-15</th>\n",
       "      <td>16</td>\n",
       "      <td>0</td>\n",
       "      <td>0</td>\n",
       "      <td>13</td>\n",
       "    </tr>\n",
       "    <tr>\n",
       "      <th>2020-02-16</th>\n",
       "      <td>16</td>\n",
       "      <td>0</td>\n",
       "      <td>0</td>\n",
       "      <td>13</td>\n",
       "    </tr>\n",
       "    <tr>\n",
       "      <th>2020-02-17</th>\n",
       "      <td>16</td>\n",
       "      <td>0</td>\n",
       "      <td>0</td>\n",
       "      <td>9</td>\n",
       "    </tr>\n",
       "    <tr>\n",
       "      <th>2020-02-18</th>\n",
       "      <td>16</td>\n",
       "      <td>0</td>\n",
       "      <td>0</td>\n",
       "      <td>7</td>\n",
       "    </tr>\n",
       "    <tr>\n",
       "      <th>2020-02-19</th>\n",
       "      <td>16</td>\n",
       "      <td>0</td>\n",
       "      <td>0</td>\n",
       "      <td>7</td>\n",
       "    </tr>\n",
       "    <tr>\n",
       "      <th>2020-02-20</th>\n",
       "      <td>16</td>\n",
       "      <td>0</td>\n",
       "      <td>0</td>\n",
       "      <td>3</td>\n",
       "    </tr>\n",
       "    <tr>\n",
       "      <th>2020-02-21</th>\n",
       "      <td>16</td>\n",
       "      <td>0</td>\n",
       "      <td>0</td>\n",
       "      <td>2</td>\n",
       "    </tr>\n",
       "    <tr>\n",
       "      <th>2020-02-22</th>\n",
       "      <td>16</td>\n",
       "      <td>0</td>\n",
       "      <td>0</td>\n",
       "      <td>2</td>\n",
       "    </tr>\n",
       "    <tr>\n",
       "      <th>2020-02-23</th>\n",
       "      <td>16</td>\n",
       "      <td>0</td>\n",
       "      <td>0</td>\n",
       "      <td>2</td>\n",
       "    </tr>\n",
       "    <tr>\n",
       "      <th>2020-02-24</th>\n",
       "      <td>16</td>\n",
       "      <td>0</td>\n",
       "      <td>0</td>\n",
       "      <td>2</td>\n",
       "    </tr>\n",
       "    <tr>\n",
       "      <th>2020-02-25</th>\n",
       "      <td>18</td>\n",
       "      <td>2</td>\n",
       "      <td>0</td>\n",
       "      <td>3</td>\n",
       "    </tr>\n",
       "    <tr>\n",
       "      <th>2020-02-26</th>\n",
       "      <td>26</td>\n",
       "      <td>8</td>\n",
       "      <td>0</td>\n",
       "      <td>11</td>\n",
       "    </tr>\n",
       "    <tr>\n",
       "      <th>2020-02-27</th>\n",
       "      <td>48</td>\n",
       "      <td>22</td>\n",
       "      <td>0</td>\n",
       "      <td>32</td>\n",
       "    </tr>\n",
       "    <tr>\n",
       "      <th>2020-02-28</th>\n",
       "      <td>74</td>\n",
       "      <td>26</td>\n",
       "      <td>0</td>\n",
       "      <td>58</td>\n",
       "    </tr>\n",
       "    <tr>\n",
       "      <th>2020-02-29</th>\n",
       "      <td>79</td>\n",
       "      <td>5</td>\n",
       "      <td>0</td>\n",
       "      <td>63</td>\n",
       "    </tr>\n",
       "    <tr>\n",
       "      <th>2020-03-01</th>\n",
       "      <td>130</td>\n",
       "      <td>51</td>\n",
       "      <td>0</td>\n",
       "      <td>114</td>\n",
       "    </tr>\n",
       "    <tr>\n",
       "      <th>2020-03-02</th>\n",
       "      <td>165</td>\n",
       "      <td>35</td>\n",
       "      <td>0</td>\n",
       "      <td>149</td>\n",
       "    </tr>\n",
       "    <tr>\n",
       "      <th>2020-03-03</th>\n",
       "      <td>203</td>\n",
       "      <td>38</td>\n",
       "      <td>0</td>\n",
       "      <td>187</td>\n",
       "    </tr>\n",
       "    <tr>\n",
       "      <th>2020-03-04</th>\n",
       "      <td>262</td>\n",
       "      <td>59</td>\n",
       "      <td>0</td>\n",
       "      <td>246</td>\n",
       "    </tr>\n",
       "    <tr>\n",
       "      <th>2020-03-05</th>\n",
       "      <td>545</td>\n",
       "      <td>283</td>\n",
       "      <td>0</td>\n",
       "      <td>528</td>\n",
       "    </tr>\n",
       "    <tr>\n",
       "      <th>2020-03-06</th>\n",
       "      <td>670</td>\n",
       "      <td>125</td>\n",
       "      <td>0</td>\n",
       "      <td>652</td>\n",
       "    </tr>\n",
       "    <tr>\n",
       "      <th>2020-03-07</th>\n",
       "      <td>800</td>\n",
       "      <td>130</td>\n",
       "      <td>0</td>\n",
       "      <td>782</td>\n",
       "    </tr>\n",
       "    <tr>\n",
       "      <th>2020-03-08</th>\n",
       "      <td>1040</td>\n",
       "      <td>240</td>\n",
       "      <td>0</td>\n",
       "      <td>1022</td>\n",
       "    </tr>\n",
       "    <tr>\n",
       "      <th>2020-03-09</th>\n",
       "      <td>1224</td>\n",
       "      <td>184</td>\n",
       "      <td>2</td>\n",
       "      <td>1204</td>\n",
       "    </tr>\n",
       "    <tr>\n",
       "      <th>2020-03-10</th>\n",
       "      <td>1565</td>\n",
       "      <td>341</td>\n",
       "      <td>2</td>\n",
       "      <td>1545</td>\n",
       "    </tr>\n",
       "    <tr>\n",
       "      <th>2020-03-11</th>\n",
       "      <td>1966</td>\n",
       "      <td>401</td>\n",
       "      <td>3</td>\n",
       "      <td>1938</td>\n",
       "    </tr>\n",
       "    <tr>\n",
       "      <th>2020-03-12</th>\n",
       "      <td>2745</td>\n",
       "      <td>779</td>\n",
       "      <td>6</td>\n",
       "      <td>2714</td>\n",
       "    </tr>\n",
       "    <tr>\n",
       "      <th>2020-03-13</th>\n",
       "      <td>3675</td>\n",
       "      <td>930</td>\n",
       "      <td>8</td>\n",
       "      <td>3621</td>\n",
       "    </tr>\n",
       "    <tr>\n",
       "      <th>2020-03-14</th>\n",
       "      <td>4599</td>\n",
       "      <td>924</td>\n",
       "      <td>9</td>\n",
       "      <td>4544</td>\n",
       "    </tr>\n",
       "    <tr>\n",
       "      <th>2020-03-15</th>\n",
       "      <td>5813</td>\n",
       "      <td>1214</td>\n",
       "      <td>13</td>\n",
       "      <td>5754</td>\n",
       "    </tr>\n",
       "    <tr>\n",
       "      <th>2020-03-16</th>\n",
       "      <td>7272</td>\n",
       "      <td>1459</td>\n",
       "      <td>17</td>\n",
       "      <td>7188</td>\n",
       "    </tr>\n",
       "    <tr>\n",
       "      <th>2020-03-17</th>\n",
       "      <td>9367</td>\n",
       "      <td>2095</td>\n",
       "      <td>26</td>\n",
       "      <td>9274</td>\n",
       "    </tr>\n",
       "    <tr>\n",
       "      <th>2020-03-18</th>\n",
       "      <td>12327</td>\n",
       "      <td>2960</td>\n",
       "      <td>28</td>\n",
       "      <td>12194</td>\n",
       "    </tr>\n",
       "    <tr>\n",
       "      <th>2020-03-19</th>\n",
       "      <td>15320</td>\n",
       "      <td>2993</td>\n",
       "      <td>44</td>\n",
       "      <td>15161</td>\n",
       "    </tr>\n",
       "    <tr>\n",
       "      <th>2020-03-20</th>\n",
       "      <td>19848</td>\n",
       "      <td>4528</td>\n",
       "      <td>68</td>\n",
       "      <td>19600</td>\n",
       "    </tr>\n",
       "    <tr>\n",
       "      <th>2020-03-21</th>\n",
       "      <td>22364</td>\n",
       "      <td>2516</td>\n",
       "      <td>84</td>\n",
       "      <td>22071</td>\n",
       "    </tr>\n",
       "    <tr>\n",
       "      <th>2020-03-22</th>\n",
       "      <td>24873</td>\n",
       "      <td>2509</td>\n",
       "      <td>94</td>\n",
       "      <td>24513</td>\n",
       "    </tr>\n",
       "    <tr>\n",
       "      <th>2020-03-23</th>\n",
       "      <td>29056</td>\n",
       "      <td>4183</td>\n",
       "      <td>123</td>\n",
       "      <td>28480</td>\n",
       "    </tr>\n",
       "    <tr>\n",
       "      <th>2020-03-24</th>\n",
       "      <td>32991</td>\n",
       "      <td>3935</td>\n",
       "      <td>159</td>\n",
       "      <td>29542</td>\n",
       "    </tr>\n",
       "    <tr>\n",
       "      <th>2020-03-25</th>\n",
       "      <td>37323</td>\n",
       "      <td>4332</td>\n",
       "      <td>206</td>\n",
       "      <td>33570</td>\n",
       "    </tr>\n",
       "    <tr>\n",
       "      <th>2020-03-26</th>\n",
       "      <td>43938</td>\n",
       "      <td>6615</td>\n",
       "      <td>267</td>\n",
       "      <td>37998</td>\n",
       "    </tr>\n",
       "  </tbody>\n",
       "</table>\n",
       "</div>"
      ],
      "text/plain": [
       "            Confirmed   New  Deaths  Active\n",
       "Date                                       \n",
       "2020-02-15         16     0       0      13\n",
       "2020-02-16         16     0       0      13\n",
       "2020-02-17         16     0       0       9\n",
       "2020-02-18         16     0       0       7\n",
       "2020-02-19         16     0       0       7\n",
       "2020-02-20         16     0       0       3\n",
       "2020-02-21         16     0       0       2\n",
       "2020-02-22         16     0       0       2\n",
       "2020-02-23         16     0       0       2\n",
       "2020-02-24         16     0       0       2\n",
       "2020-02-25         18     2       0       3\n",
       "2020-02-26         26     8       0      11\n",
       "2020-02-27         48    22       0      32\n",
       "2020-02-28         74    26       0      58\n",
       "2020-02-29         79     5       0      63\n",
       "2020-03-01        130    51       0     114\n",
       "2020-03-02        165    35       0     149\n",
       "2020-03-03        203    38       0     187\n",
       "2020-03-04        262    59       0     246\n",
       "2020-03-05        545   283       0     528\n",
       "2020-03-06        670   125       0     652\n",
       "2020-03-07        800   130       0     782\n",
       "2020-03-08       1040   240       0    1022\n",
       "2020-03-09       1224   184       2    1204\n",
       "2020-03-10       1565   341       2    1545\n",
       "2020-03-11       1966   401       3    1938\n",
       "2020-03-12       2745   779       6    2714\n",
       "2020-03-13       3675   930       8    3621\n",
       "2020-03-14       4599   924       9    4544\n",
       "2020-03-15       5813  1214      13    5754\n",
       "2020-03-16       7272  1459      17    7188\n",
       "2020-03-17       9367  2095      26    9274\n",
       "2020-03-18      12327  2960      28   12194\n",
       "2020-03-19      15320  2993      44   15161\n",
       "2020-03-20      19848  4528      68   19600\n",
       "2020-03-21      22364  2516      84   22071\n",
       "2020-03-22      24873  2509      94   24513\n",
       "2020-03-23      29056  4183     123   28480\n",
       "2020-03-24      32991  3935     159   29542\n",
       "2020-03-25      37323  4332     206   33570\n",
       "2020-03-26      43938  6615     267   37998"
      ]
     },
     "execution_count": 5,
     "metadata": {},
     "output_type": "execute_result"
    }
   ],
   "source": [
    "df"
   ]
  },
  {
   "cell_type": "code",
   "execution_count": 6,
   "metadata": {},
   "outputs": [
    {
     "data": {
      "text/plain": [
       "<matplotlib.axes._subplots.AxesSubplot at 0x18df694a3c8>"
      ]
     },
     "execution_count": 6,
     "metadata": {},
     "output_type": "execute_result"
    },
    {
     "data": {
      "image/png": "[encoded data removed]",
      "text/plain": [
       "<Figure size 1080x288 with 1 Axes>"
      ]
     },
     "metadata": {
      "needs_background": "light"
     },
     "output_type": "display_data"
    }
   ],
   "source": [
    "df.plot.area(y=[\"Active\", \"Confirmed\", \"Deaths\", \"New\"], figsize=(15,4), alpha=0.4, subplots=False, stacked=False)"
   ]
  },
  {
   "cell_type": "code",
   "execution_count": 7,
   "metadata": {},
   "outputs": [
    {
     "data": {
      "image/png": "[encoded data removed]",
      "text/plain": [
       "<Figure size 432x288 with 2 Axes>"
      ]
     },
     "metadata": {
      "needs_background": "light"
     },
     "output_type": "display_data"
    }
   ],
   "source": [
    "fig, ax = plt.subplots()\n",
    "ax2 = ax.twinx()\n",
    "ax.bar(df.index, df[\"Confirmed\"], color=(190/255,190/255,190/255,0.7), label='Confirmed')\n",
    "ax2.plot(df.index, df[\"Active\"], color='green', label='Active')\n",
    "ax.set_xticklabels(df.index)\n",
    "ax.legend(loc='best')\n",
    "ax2.legend(loc='best')\n",
    "ax.xaxis.grid(True)\n",
    "ax.yaxis.grid(True)\n",
    "ax.set_title('Banyak kasus aktif dibanding dengan total kasus')\n",
    "fig.autofmt_xdate()"
   ]
  },
  {
   "cell_type": "code",
   "execution_count": 8,
   "metadata": {},
   "outputs": [
    {
     "data": {
      "image/png": "[encoded data removed]",
      "text/plain": [
       "<Figure size 432x288 with 2 Axes>"
      ]
     },
     "metadata": {
      "needs_background": "light"
     },
     "output_type": "display_data"
    }
   ],
   "source": [
    "fig, ax3 = plt.subplots()\n",
    "ax4 = ax3.twinx()\n",
    "ax3.bar(df.index, df[\"New\"], color=(190/255,190/255,190/255,0.7), label='New')\n",
    "ax4.plot(df.index, df[\"Deaths\"], color='red', label='Deaths')\n",
    "ax3.set_xticklabels(df.index)\n",
    "ax3.legend(loc='best')\n",
    "ax4.legend(loc='best')\n",
    "ax3.xaxis.grid(True)\n",
    "ax4.yaxis.grid(True)\n",
    "ax3.set_title('Banyak kasus kematian dibanding dengan kasus baru')\n",
    "fig.autofmt_xdate()"
   ]
  },
  {
   "cell_type": "markdown",
   "metadata": {},
   "source": [
    "## Regressions"
   ]
  },
  {
   "cell_type": "markdown",
   "metadata": {},
   "source": [
    "### Active "
   ]
  },
  {
   "cell_type": "markdown",
   "metadata": {},
   "source": [
    "- Start: 15-Feb-2020\n",
    "- End: 26-Mar-2020\n",
    "- Range: 41 Days"
   ]
  },
  {
   "cell_type": "markdown",
   "metadata": {},
   "source": [
    "**Data**"
   ]
  },
  {
   "cell_type": "code",
   "execution_count": 9,
   "metadata": {},
   "outputs": [
    {
     "data": {
      "text/plain": [
       "array([1.3000e+01, 1.3000e+01, 9.0000e+00, 7.0000e+00, 7.0000e+00,\n",
       "       3.0000e+00, 2.0000e+00, 2.0000e+00, 2.0000e+00, 2.0000e+00,\n",
       "       3.0000e+00, 1.1000e+01, 3.2000e+01, 5.8000e+01, 6.3000e+01,\n",
       "       1.1400e+02, 1.4900e+02, 1.8700e+02, 2.4600e+02, 5.2800e+02,\n",
       "       6.5200e+02, 7.8200e+02, 1.0220e+03, 1.2040e+03, 1.5450e+03,\n",
       "       1.9380e+03, 2.7140e+03, 3.6210e+03, 4.5440e+03, 5.7540e+03,\n",
       "       7.1880e+03, 9.2740e+03, 1.2194e+04, 1.5161e+04, 1.9600e+04,\n",
       "       2.2071e+04, 2.4513e+04, 2.8480e+04, 2.9542e+04, 3.3570e+04,\n",
       "       3.7998e+04])"
      ]
     },
     "execution_count": 9,
     "metadata": {},
     "output_type": "execute_result"
    }
   ],
   "source": [
    "y = np.array ((13, 13, 9, 7, 7, 3, 2, 2, 2, 2, 3, 11, 32, 58, 63, 114, 149, 187, 246, 528, 652, 782, 1022, 1204, 1545, 1938, 2714, 3621, 4544, 5754, 7188, 9274, 12194, 15161, 19600, 22071, 24513, 28480, 29542, 33570, 37998))\n",
    "y = y.astype('float64')\n",
    "y"
   ]
  },
  {
   "cell_type": "code",
   "execution_count": 10,
   "metadata": {},
   "outputs": [
    {
     "data": {
      "text/plain": [
       "array([ 1.,  2.,  3.,  4.,  5.,  6.,  7.,  8.,  9., 10., 11., 12., 13.,\n",
       "       14., 15., 16., 17., 18., 19., 20., 21., 22., 23., 24., 25., 26.,\n",
       "       27., 28., 29., 30., 31., 32., 33., 34., 35., 36., 37., 38., 39.,\n",
       "       40., 41.])"
      ]
     },
     "execution_count": 10,
     "metadata": {},
     "output_type": "execute_result"
    }
   ],
   "source": [
    "x = np.array((range(1,1+len(y))))\n",
    "x = x.astype('float64')\n",
    "x"
   ]
  },
  {
   "cell_type": "markdown",
   "metadata": {},
   "source": [
    "**Plot**"
   ]
  },
  {
   "cell_type": "code",
   "execution_count": 11,
   "metadata": {},
   "outputs": [
    {
     "data": {
      "text/plain": [
       "Text(0, 0.5, 'y-jumlah orang')"
      ]
     },
     "execution_count": 11,
     "metadata": {},
     "output_type": "execute_result"
    },
    {
     "data": {
      "image/png": "[encoded data removed]",
      "text/plain": [
       "<Figure size 432x288 with 1 Axes>"
      ]
     },
     "metadata": {
      "needs_background": "light"
     },
     "output_type": "display_data"
    }
   ],
   "source": [
    "ax = plt.plot(x,y,'ro')\n",
    "plt.grid()\n",
    "plt.xlabel('x-hari')\n",
    "plt.ylabel('y-jumlah orang')"
   ]
  },
  {
   "cell_type": "markdown",
   "metadata": {},
   "source": [
    "#### Regresi Berpangkat"
   ]
  },
  {
   "cell_type": "markdown",
   "metadata": {},
   "source": [
    "**Data**"
   ]
  },
  {
   "cell_type": "code",
   "execution_count": 12,
   "metadata": {},
   "outputs": [
    {
     "data": {
      "text/plain": [
       "array([1.3000e+01, 1.3000e+01, 9.0000e+00, 7.0000e+00, 7.0000e+00,\n",
       "       3.0000e+00, 2.0000e+00, 2.0000e+00, 2.0000e+00, 2.0000e+00,\n",
       "       3.0000e+00, 1.1000e+01, 3.2000e+01, 5.8000e+01, 6.3000e+01,\n",
       "       1.1400e+02, 1.4900e+02, 1.8700e+02, 2.4600e+02, 5.2800e+02,\n",
       "       6.5200e+02, 7.8200e+02, 1.0220e+03, 1.2040e+03, 1.5450e+03,\n",
       "       1.9380e+03, 2.7140e+03, 3.6210e+03, 4.5440e+03, 5.7540e+03,\n",
       "       7.1880e+03, 9.2740e+03, 1.2194e+04, 1.5161e+04, 1.9600e+04,\n",
       "       2.2071e+04, 2.4513e+04, 2.8480e+04, 2.9542e+04, 3.3570e+04,\n",
       "       3.7998e+04])"
      ]
     },
     "execution_count": 12,
     "metadata": {},
     "output_type": "execute_result"
    }
   ],
   "source": [
    "y = np.array ((13, 13, 9, 7, 7, 3, 2, 2, 2, 2, 3, 11, 32, 58, 63, 114, 149, 187, 246, 528, 652, 782, 1022, 1204, 1545, 1938, 2714, 3621, 4544, 5754, 7188, 9274, 12194, 15161, 19600, 22071, 24513, 28480, 29542, 33570, 37998))\n",
    "y = y.astype('float64')\n",
    "y"
   ]
  },
  {
   "cell_type": "code",
   "execution_count": 13,
   "metadata": {},
   "outputs": [
    {
     "data": {
      "text/plain": [
       "array([ 1.,  2.,  3.,  4.,  5.,  6.,  7.,  8.,  9., 10., 11., 12., 13.,\n",
       "       14., 15., 16., 17., 18., 19., 20., 21., 22., 23., 24., 25., 26.,\n",
       "       27., 28., 29., 30., 31., 32., 33., 34., 35., 36., 37., 38., 39.,\n",
       "       40., 41.])"
      ]
     },
     "execution_count": 13,
     "metadata": {},
     "output_type": "execute_result"
    }
   ],
   "source": [
    "x = np.array((range(1,1+len(y))))\n",
    "x = x.astype('float64')\n",
    "x"
   ]
  },
  {
   "attachments": {
    "image.png": {
     "image/png": "[encoded data removed]"
    }
   },
   "cell_type": "markdown",
   "metadata": {},
   "source": [
    "![image.png](attachment:image.png)"
   ]
  },
  {
   "cell_type": "markdown",
   "metadata": {},
   "source": [
    "**Membuat xreg untuk plotting selanjutnya**"
   ]
  },
  {
   "cell_type": "code",
   "execution_count": 14,
   "metadata": {},
   "outputs": [
    {
     "data": {
      "text/plain": [
       "array([ 1. ,  1.1,  1.2,  1.3,  1.4,  1.5,  1.6,  1.7,  1.8,  1.9,  2. ,\n",
       "        2.1,  2.2,  2.3,  2.4,  2.5,  2.6,  2.7,  2.8,  2.9,  3. ,  3.1,\n",
       "        3.2,  3.3,  3.4,  3.5,  3.6,  3.7,  3.8,  3.9,  4. ,  4.1,  4.2,\n",
       "        4.3,  4.4,  4.5,  4.6,  4.7,  4.8,  4.9,  5. ,  5.1,  5.2,  5.3,\n",
       "        5.4,  5.5,  5.6,  5.7,  5.8,  5.9,  6. ,  6.1,  6.2,  6.3,  6.4,\n",
       "        6.5,  6.6,  6.7,  6.8,  6.9,  7. ,  7.1,  7.2,  7.3,  7.4,  7.5,\n",
       "        7.6,  7.7,  7.8,  7.9,  8. ,  8.1,  8.2,  8.3,  8.4,  8.5,  8.6,\n",
       "        8.7,  8.8,  8.9,  9. ,  9.1,  9.2,  9.3,  9.4,  9.5,  9.6,  9.7,\n",
       "        9.8,  9.9, 10. , 10.1, 10.2, 10.3, 10.4, 10.5, 10.6, 10.7, 10.8,\n",
       "       10.9, 11. , 11.1, 11.2, 11.3, 11.4, 11.5, 11.6, 11.7, 11.8, 11.9,\n",
       "       12. , 12.1, 12.2, 12.3, 12.4, 12.5, 12.6, 12.7, 12.8, 12.9, 13. ,\n",
       "       13.1, 13.2, 13.3, 13.4, 13.5, 13.6, 13.7, 13.8, 13.9, 14. , 14.1,\n",
       "       14.2, 14.3, 14.4, 14.5, 14.6, 14.7, 14.8, 14.9, 15. , 15.1, 15.2,\n",
       "       15.3, 15.4, 15.5, 15.6, 15.7, 15.8, 15.9, 16. , 16.1, 16.2, 16.3,\n",
       "       16.4, 16.5, 16.6, 16.7, 16.8, 16.9, 17. , 17.1, 17.2, 17.3, 17.4,\n",
       "       17.5, 17.6, 17.7, 17.8, 17.9, 18. , 18.1, 18.2, 18.3, 18.4, 18.5,\n",
       "       18.6, 18.7, 18.8, 18.9, 19. , 19.1, 19.2, 19.3, 19.4, 19.5, 19.6,\n",
       "       19.7, 19.8, 19.9, 20. , 20.1, 20.2, 20.3, 20.4, 20.5, 20.6, 20.7,\n",
       "       20.8, 20.9, 21. , 21.1, 21.2, 21.3, 21.4, 21.5, 21.6, 21.7, 21.8,\n",
       "       21.9, 22. , 22.1, 22.2, 22.3, 22.4, 22.5, 22.6, 22.7, 22.8, 22.9,\n",
       "       23. , 23.1, 23.2, 23.3, 23.4, 23.5, 23.6, 23.7, 23.8, 23.9, 24. ,\n",
       "       24.1, 24.2, 24.3, 24.4, 24.5, 24.6, 24.7, 24.8, 24.9, 25. , 25.1,\n",
       "       25.2, 25.3, 25.4, 25.5, 25.6, 25.7, 25.8, 25.9, 26. , 26.1, 26.2,\n",
       "       26.3, 26.4, 26.5, 26.6, 26.7, 26.8, 26.9, 27. , 27.1, 27.2, 27.3,\n",
       "       27.4, 27.5, 27.6, 27.7, 27.8, 27.9, 28. , 28.1, 28.2, 28.3, 28.4,\n",
       "       28.5, 28.6, 28.7, 28.8, 28.9, 29. , 29.1, 29.2, 29.3, 29.4, 29.5,\n",
       "       29.6, 29.7, 29.8, 29.9, 30. , 30.1, 30.2, 30.3, 30.4, 30.5, 30.6,\n",
       "       30.7, 30.8, 30.9, 31. , 31.1, 31.2, 31.3, 31.4, 31.5, 31.6, 31.7,\n",
       "       31.8, 31.9, 32. , 32.1, 32.2, 32.3, 32.4, 32.5, 32.6, 32.7, 32.8,\n",
       "       32.9, 33. , 33.1, 33.2, 33.3, 33.4, 33.5, 33.6, 33.7, 33.8, 33.9,\n",
       "       34. , 34.1, 34.2, 34.3, 34.4, 34.5, 34.6, 34.7, 34.8, 34.9, 35. ,\n",
       "       35.1, 35.2, 35.3, 35.4, 35.5, 35.6, 35.7, 35.8, 35.9, 36. , 36.1,\n",
       "       36.2, 36.3, 36.4, 36.5, 36.6, 36.7, 36.8, 36.9, 37. , 37.1, 37.2,\n",
       "       37.3, 37.4, 37.5, 37.6, 37.7, 37.8, 37.9, 38. , 38.1, 38.2, 38.3,\n",
       "       38.4, 38.5, 38.6, 38.7, 38.8, 38.9, 39. , 39.1, 39.2, 39.3, 39.4,\n",
       "       39.5, 39.6, 39.7, 39.8, 39.9, 40. , 40.1, 40.2, 40.3, 40.4, 40.5,\n",
       "       40.6, 40.7, 40.8, 40.9, 41. , 41.1, 41.2, 41.3, 41.4, 41.5, 41.6,\n",
       "       41.7, 41.8, 41.9])"
      ]
     },
     "execution_count": 14,
     "metadata": {},
     "output_type": "execute_result"
    }
   ],
   "source": [
    "#membuat xreg\n",
    "xreg = np.array(range(10,int((x[-1]+1)*10)))\n",
    "xreg = xreg/10 #memperhalus bentuk garis\n",
    "xreg = xreg.astype('float64')\n",
    "xreg"
   ]
  },
  {
   "cell_type": "markdown",
   "metadata": {},
   "source": [
    "**Regresi berpangkat**"
   ]
  },
  {
   "attachments": {
    "image.png": {
     "image/png": "[encoded data removed]"
    }
   },
   "cell_type": "markdown",
   "metadata": {},
   "source": [
    "![image.png](attachment:image.png)"
   ]
  },
  {
   "attachments": {
    "image.png": {
     "image/png": "[encoded data removed]"
    }
   },
   "cell_type": "markdown",
   "metadata": {},
   "source": [
    "![image.png](attachment:image.png)"
   ]
  },
  {
   "attachments": {
    "image.png": {
     "image/png": "[encoded data removed]"
    }
   },
   "cell_type": "markdown",
   "metadata": {},
   "source": [
    "![image.png](attachment:image.png)"
   ]
  },
  {
   "cell_type": "code",
   "execution_count": 15,
   "metadata": {},
   "outputs": [],
   "source": [
    "p = np.log10(y)\n",
    "q = np.log10(x)"
   ]
  },
  {
   "cell_type": "markdown",
   "metadata": {},
   "source": [
    "**Hitung regresi linear**"
   ]
  },
  {
   "cell_type": "code",
   "execution_count": 16,
   "metadata": {},
   "outputs": [],
   "source": [
    "n = len(y)\n",
    "pq = p*q\n",
    "qq = q**2\n",
    "B = (n*pq.sum() - q.sum()*p.sum())/(n*qq.sum() - (q.sum())**2)\n",
    "A = p.mean()-B*q.mean()"
   ]
  },
  {
   "cell_type": "markdown",
   "metadata": {},
   "source": [
    "**Hasil regresi linear**"
   ]
  },
  {
   "cell_type": "code",
   "execution_count": 17,
   "metadata": {},
   "outputs": [
    {
     "name": "stdout",
     "output_type": "stream",
     "text": [
      "p = 3.2016q -1.3164\n"
     ]
    }
   ],
   "source": [
    "if A>0 :\n",
    "    print (\"p = {:.4f}q + {:.4f}\". format(B,A))\n",
    "else :\n",
    "    print (\"p = {:.4f}q {:.4f}\". format(B,A))"
   ]
  },
  {
   "cell_type": "markdown",
   "metadata": {},
   "source": [
    "**Kembalikan ke bentuk pangkat**"
   ]
  },
  {
   "cell_type": "code",
   "execution_count": 18,
   "metadata": {},
   "outputs": [
    {
     "name": "stdout",
     "output_type": "stream",
     "text": [
      "y = 0.0483x^(3.2016)\n"
     ]
    }
   ],
   "source": [
    "a = 10**A #A=log(a)\n",
    "b = B\n",
    "print (\"y = {:.4f}x^({:.4f})\".format(a,b))"
   ]
  },
  {
   "cell_type": "markdown",
   "metadata": {},
   "source": [
    "**Koefisien Korelasi ( r ) dan Derajat Kesesuaian ( R ) r-square**"
   ]
  },
  {
   "cell_type": "code",
   "execution_count": 19,
   "metadata": {},
   "outputs": [
    {
     "name": "stdout",
     "output_type": "stream",
     "text": [
      "r = 0.8289 dan r^2 = 0.6871\n"
     ]
    }
   ],
   "source": [
    "yDt = ((p - p.mean())**2).sum()\n",
    "yD = ((p - (q*B) - A)**2).sum()\n",
    "r = np.sqrt((yDt-yD)/yDt)\n",
    "r2 = r**2\n",
    "print('r = {:.4f} dan r^2 = {:.4f}'.format(r,r2))"
   ]
  },
  {
   "cell_type": "markdown",
   "metadata": {},
   "source": [
    "**Plot**"
   ]
  },
  {
   "cell_type": "code",
   "execution_count": 20,
   "metadata": {},
   "outputs": [
    {
     "data": {
      "text/plain": [
       "array([4.82650115e-02, 6.54869878e-02, 8.65244147e-02, 1.11797694e-01,\n",
       "       1.41734363e-01, 1.76768653e-01, 2.17341102e-01, 2.63898216e-01,\n",
       "       3.16892169e-01, 3.76780536e-01, 4.44026046e-01, 5.19096371e-01,\n",
       "       6.02463924e-01, 6.94605677e-01, 7.96002995e-01, 9.07141483e-01,\n",
       "       1.02851085e+00, 1.16060475e+00, 1.30392072e+00, 1.45895999e+00,\n",
       "       1.62622743e+00, 1.80623144e+00, 1.99948383e+00, 2.20649976e+00,\n",
       "       2.42779764e+00, 2.66389909e+00, 2.91532878e+00, 3.18261444e+00,\n",
       "       3.46628678e+00, 3.76687938e+00, 4.08492867e+00, 4.42097387e+00,\n",
       "       4.77555691e+00, 5.14922239e+00, 5.54251756e+00, 5.95599221e+00,\n",
       "       6.39019866e+00, 6.84569173e+00, 7.32302865e+00, 7.82276907e+00,\n",
       "       8.34547498e+00, 8.89171068e+00, 9.46204279e+00, 1.00570401e+01,\n",
       "       1.06772737e+01, 1.13233168e+01, 1.19957448e+01, 1.26951351e+01,\n",
       "       1.34220674e+01, 1.41771231e+01, 1.49608860e+01, 1.57739418e+01,\n",
       "       1.66168779e+01, 1.74902840e+01, 1.83947516e+01, 1.93308740e+01,\n",
       "       2.02992464e+01, 2.13004660e+01, 2.23351317e+01, 2.34038442e+01,\n",
       "       2.45072059e+01, 2.56458213e+01, 2.68202963e+01, 2.80312386e+01,\n",
       "       2.92792576e+01, 3.05649646e+01, 3.18889722e+01, 3.32518950e+01,\n",
       "       3.46543490e+01, 3.60969519e+01, 3.75803230e+01, 3.91050832e+01,\n",
       "       4.06718549e+01, 4.22812621e+01, 4.39339302e+01, 4.56304865e+01,\n",
       "       4.73715594e+01, 4.91577789e+01, 5.09897766e+01, 5.28681855e+01,\n",
       "       5.47936401e+01, 5.67667761e+01, 5.87882309e+01, 6.08586433e+01,\n",
       "       6.29786533e+01, 6.51489025e+01, 6.73700337e+01, 6.96426913e+01,\n",
       "       7.19675207e+01, 7.43451690e+01, 7.67762844e+01, 7.92615166e+01,\n",
       "       8.18015165e+01, 8.43969362e+01, 8.70484293e+01, 8.97566506e+01,\n",
       "       9.25222561e+01, 9.53459032e+01, 9.82282504e+01, 1.01169957e+02,\n",
       "       1.04171686e+02, 1.07234097e+02, 1.10357855e+02, 1.13543624e+02,\n",
       "       1.16792071e+02, 1.20103862e+02, 1.23479666e+02, 1.26920152e+02,\n",
       "       1.30425990e+02, 1.33997853e+02, 1.37636413e+02, 1.41342345e+02,\n",
       "       1.45116323e+02, 1.48959024e+02, 1.52871125e+02, 1.56853304e+02,\n",
       "       1.60906243e+02, 1.65030620e+02, 1.69227118e+02, 1.73496420e+02,\n",
       "       1.77839210e+02, 1.82256173e+02, 1.86747995e+02, 1.91315363e+02,\n",
       "       1.95958965e+02, 2.00679491e+02, 2.05477631e+02, 2.10354076e+02,\n",
       "       2.15309518e+02, 2.20344652e+02, 2.25460171e+02, 2.30656771e+02,\n",
       "       2.35935148e+02, 2.41295999e+02, 2.46740024e+02, 2.52267921e+02,\n",
       "       2.57880390e+02, 2.63578134e+02, 2.69361854e+02, 2.75232253e+02,\n",
       "       2.81190037e+02, 2.87235909e+02, 2.93370576e+02, 2.99594746e+02,\n",
       "       3.05909125e+02, 3.12314424e+02, 3.18811352e+02, 3.25400619e+02,\n",
       "       3.32082938e+02, 3.38859021e+02, 3.45729582e+02, 3.52695334e+02,\n",
       "       3.59756994e+02, 3.66915278e+02, 3.74170902e+02, 3.81524585e+02,\n",
       "       3.88977046e+02, 3.96529004e+02, 4.04181180e+02, 4.11934296e+02,\n",
       "       4.19789074e+02, 4.27746237e+02, 4.35806509e+02, 4.43970616e+02,\n",
       "       4.52239283e+02, 4.60613236e+02, 4.69093204e+02, 4.77679914e+02,\n",
       "       4.86374097e+02, 4.95176481e+02, 5.04087797e+02, 5.13108778e+02,\n",
       "       5.22240156e+02, 5.31482663e+02, 5.40837035e+02, 5.50304006e+02,\n",
       "       5.59884311e+02, 5.69578688e+02, 5.79387874e+02, 5.89312606e+02,\n",
       "       5.99353624e+02, 6.09511667e+02, 6.19787476e+02, 6.30181792e+02,\n",
       "       6.40695358e+02, 6.51328915e+02, 6.62083208e+02, 6.72958980e+02,\n",
       "       6.83956978e+02, 6.95077946e+02, 7.06322632e+02, 7.17691783e+02,\n",
       "       7.29186148e+02, 7.40806474e+02, 7.52553511e+02, 7.64428011e+02,\n",
       "       7.76430724e+02, 7.88562403e+02, 8.00823798e+02, 8.13215665e+02,\n",
       "       8.25738758e+02, 8.38393830e+02, 8.51181637e+02, 8.64102937e+02,\n",
       "       8.77158485e+02, 8.90349039e+02, 9.03675358e+02, 9.17138202e+02,\n",
       "       9.30738329e+02, 9.44476500e+02, 9.58353477e+02, 9.72370021e+02,\n",
       "       9.86526896e+02, 1.00082486e+03, 1.01526469e+03, 1.02984714e+03,\n",
       "       1.04457297e+03, 1.05944296e+03, 1.07445787e+03, 1.08961847e+03,\n",
       "       1.10492552e+03, 1.12037980e+03, 1.13598207e+03, 1.15173311e+03,\n",
       "       1.16763368e+03, 1.18368456e+03, 1.19988652e+03, 1.21624033e+03,\n",
       "       1.23274677e+03, 1.24940660e+03, 1.26622061e+03, 1.28318957e+03,\n",
       "       1.30031425e+03, 1.31759544e+03, 1.33503391e+03, 1.35263043e+03,\n",
       "       1.37038580e+03, 1.38830077e+03, 1.40637615e+03, 1.42461270e+03,\n",
       "       1.44301121e+03, 1.46157246e+03, 1.48029723e+03, 1.49918630e+03,\n",
       "       1.51824047e+03, 1.53746051e+03, 1.55684720e+03, 1.57640134e+03,\n",
       "       1.59612371e+03, 1.61601510e+03, 1.63607630e+03, 1.65630808e+03,\n",
       "       1.67671125e+03, 1.69728659e+03, 1.71803489e+03, 1.73895694e+03,\n",
       "       1.76005353e+03, 1.78132546e+03, 1.80277351e+03, 1.82439848e+03,\n",
       "       1.84620117e+03, 1.86818236e+03, 1.89034286e+03, 1.91268345e+03,\n",
       "       1.93520493e+03, 1.95790811e+03, 1.98079377e+03, 2.00386271e+03,\n",
       "       2.02711574e+03, 2.05055365e+03, 2.07417724e+03, 2.09798731e+03,\n",
       "       2.12198466e+03, 2.14617009e+03, 2.17054441e+03, 2.19510841e+03,\n",
       "       2.21986290e+03, 2.24480868e+03, 2.26994657e+03, 2.29527735e+03,\n",
       "       2.32080184e+03, 2.34652084e+03, 2.37243515e+03, 2.39854560e+03,\n",
       "       2.42485297e+03, 2.45135809e+03, 2.47806175e+03, 2.50496477e+03,\n",
       "       2.53206796e+03, 2.55937212e+03, 2.58687807e+03, 2.61458663e+03,\n",
       "       2.64249859e+03, 2.67061477e+03, 2.69893600e+03, 2.72746307e+03,\n",
       "       2.75619680e+03, 2.78513801e+03, 2.81428751e+03, 2.84364613e+03,\n",
       "       2.87321466e+03, 2.90299394e+03, 2.93298477e+03, 2.96318798e+03,\n",
       "       2.99360439e+03, 3.02423480e+03, 3.05508005e+03, 3.08614095e+03,\n",
       "       3.11741832e+03, 3.14891298e+03, 3.18062576e+03, 3.21255747e+03,\n",
       "       3.24470895e+03, 3.27708100e+03, 3.30967445e+03, 3.34249014e+03,\n",
       "       3.37552887e+03, 3.40879149e+03, 3.44227880e+03, 3.47599165e+03,\n",
       "       3.50993085e+03, 3.54409723e+03, 3.57849163e+03, 3.61311486e+03,\n",
       "       3.64796775e+03, 3.68305115e+03, 3.71836586e+03, 3.75391273e+03,\n",
       "       3.78969259e+03, 3.82570626e+03, 3.86195458e+03, 3.89843838e+03,\n",
       "       3.93515850e+03, 3.97211575e+03, 4.00931099e+03, 4.04674503e+03,\n",
       "       4.08441873e+03, 4.12233290e+03, 4.16048840e+03, 4.19888604e+03,\n",
       "       4.23752668e+03, 4.27641114e+03, 4.31554026e+03, 4.35491489e+03,\n",
       "       4.39453585e+03, 4.43440399e+03, 4.47452016e+03, 4.51488517e+03,\n",
       "       4.55549989e+03, 4.59636514e+03, 4.63748177e+03, 4.67885063e+03,\n",
       "       4.72047254e+03, 4.76234837e+03, 4.80447894e+03, 4.84686510e+03,\n",
       "       4.88950770e+03, 4.93240758e+03, 4.97556558e+03, 5.01898255e+03,\n",
       "       5.06265935e+03, 5.10659680e+03, 5.15079576e+03, 5.19525708e+03,\n",
       "       5.23998161e+03, 5.28497019e+03, 5.33022367e+03, 5.37574289e+03,\n",
       "       5.42152872e+03, 5.46758200e+03, 5.51390358e+03, 5.56049431e+03,\n",
       "       5.60735504e+03, 5.65448662e+03, 5.70188991e+03, 5.74956576e+03,\n",
       "       5.79751502e+03, 5.84573855e+03, 5.89423720e+03, 5.94301182e+03,\n",
       "       5.99206327e+03, 6.04139240e+03, 6.09100007e+03, 6.14088714e+03,\n",
       "       6.19105446e+03, 6.24150289e+03, 6.29223329e+03, 6.34324652e+03,\n",
       "       6.39454342e+03, 6.44612487e+03, 6.49799173e+03, 6.55014484e+03,\n",
       "       6.60258507e+03, 6.65531329e+03, 6.70833035e+03, 6.76163712e+03,\n",
       "       6.81523445e+03, 6.86912321e+03, 6.92330426e+03, 6.97777847e+03,\n",
       "       7.03254669e+03, 7.08760980e+03, 7.14296865e+03, 7.19862412e+03,\n",
       "       7.25457706e+03, 7.31082835e+03, 7.36737884e+03, 7.42422941e+03,\n",
       "       7.48138092e+03, 7.53883424e+03])"
      ]
     },
     "execution_count": 20,
     "metadata": {},
     "output_type": "execute_result"
    }
   ],
   "source": [
    "#membuat yreg\n",
    "yreg = a*(xreg**b)\n",
    "yreg\n",
    "    "
   ]
  },
  {
   "cell_type": "code",
   "execution_count": 21,
   "metadata": {},
   "outputs": [
    {
     "data": {
      "text/plain": [
       "Text(0, 0.5, 'y-banyak orang')"
      ]
     },
     "execution_count": 21,
     "metadata": {},
     "output_type": "execute_result"
    },
    {
     "data": {
      "image/png": "[encoded data removed]",
      "text/plain": [
       "<Figure size 432x288 with 1 Axes>"
      ]
     },
     "metadata": {
      "needs_background": "light"
     },
     "output_type": "display_data"
    }
   ],
   "source": [
    "ax = plt.plot(x,y,'ro')\n",
    "plt.plot(xreg,yreg,'g')\n",
    "plt.grid()\n",
    "plt.xlabel('x-hari ke')\n",
    "plt.ylabel('y-banyak orang')"
   ]
  },
  {
   "cell_type": "markdown",
   "metadata": {},
   "source": [
    "#### Regresi Eksponensial"
   ]
  },
  {
   "attachments": {
    "image.png": {
     "image/png": "[encoded data removed]"
    }
   },
   "cell_type": "markdown",
   "metadata": {},
   "source": [
    "![image.png](attachment:image.png)"
   ]
  },
  {
   "attachments": {
    "image.png": {
     "image/png": "[encoded data removed]"
    }
   },
   "cell_type": "markdown",
   "metadata": {},
   "source": [
    "![image.png](attachment:image.png)"
   ]
  },
  {
   "attachments": {
    "image.png": {
     "image/png": "[encoded data removed]"
    }
   },
   "cell_type": "markdown",
   "metadata": {},
   "source": [
    "![image.png](attachment:image.png)"
   ]
  },
  {
   "cell_type": "markdown",
   "metadata": {},
   "source": [
    "**Linearisasi**"
   ]
  },
  {
   "cell_type": "code",
   "execution_count": 22,
   "metadata": {},
   "outputs": [
    {
     "data": {
      "text/plain": [
       "array([1.3000e+01, 1.3000e+01, 9.0000e+00, 7.0000e+00, 7.0000e+00,\n",
       "       3.0000e+00, 2.0000e+00, 2.0000e+00, 2.0000e+00, 2.0000e+00,\n",
       "       3.0000e+00, 1.1000e+01, 3.2000e+01, 5.8000e+01, 6.3000e+01,\n",
       "       1.1400e+02, 1.4900e+02, 1.8700e+02, 2.4600e+02, 5.2800e+02,\n",
       "       6.5200e+02, 7.8200e+02, 1.0220e+03, 1.2040e+03, 1.5450e+03,\n",
       "       1.9380e+03, 2.7140e+03, 3.6210e+03, 4.5440e+03, 5.7540e+03,\n",
       "       7.1880e+03, 9.2740e+03, 1.2194e+04, 1.5161e+04, 1.9600e+04,\n",
       "       2.2071e+04, 2.4513e+04, 2.8480e+04, 2.9542e+04, 3.3570e+04,\n",
       "       3.7998e+04])"
      ]
     },
     "execution_count": 22,
     "metadata": {},
     "output_type": "execute_result"
    }
   ],
   "source": [
    "y = np.array ((13, 13, 9, 7, 7, 3, 2, 2, 2, 2, 3, 11, 32, 58, 63, 114, 149, 187, 246, 528, 652, 782, 1022, 1204, 1545, 1938, 2714, 3621, 4544, 5754, 7188, 9274, 12194, 15161, 19600, 22071, 24513, 28480, 29542, 33570, 37998))\n",
    "y = y.astype('float64')\n",
    "y"
   ]
  },
  {
   "cell_type": "code",
   "execution_count": 23,
   "metadata": {},
   "outputs": [
    {
     "data": {
      "text/plain": [
       "array([ 1.,  2.,  3.,  4.,  5.,  6.,  7.,  8.,  9., 10., 11., 12., 13.,\n",
       "       14., 15., 16., 17., 18., 19., 20., 21., 22., 23., 24., 25., 26.,\n",
       "       27., 28., 29., 30., 31., 32., 33., 34., 35., 36., 37., 38., 39.,\n",
       "       40., 41.])"
      ]
     },
     "execution_count": 23,
     "metadata": {},
     "output_type": "execute_result"
    }
   ],
   "source": [
    "x = np.array((range(1,1+len(y))))\n",
    "x = x.astype('float64')\n",
    "x"
   ]
  },
  {
   "cell_type": "code",
   "execution_count": 24,
   "metadata": {},
   "outputs": [],
   "source": [
    "p = np.log(y)\n",
    "q = x"
   ]
  },
  {
   "cell_type": "markdown",
   "metadata": {},
   "source": [
    "**Hitung regresi linear**"
   ]
  },
  {
   "attachments": {
    "image.png": {
     "image/png": "[encoded data removed]"
    }
   },
   "cell_type": "markdown",
   "metadata": {},
   "source": [
    "![image.png](attachment:image.png)"
   ]
  },
  {
   "cell_type": "code",
   "execution_count": 25,
   "metadata": {},
   "outputs": [],
   "source": [
    "n = len(y)\n",
    "pq = p*q\n",
    "qq = q**2\n",
    "B = (n*pq.sum() - q.sum()*p.sum())/(n*qq.sum() - (q.sum())**2)\n",
    "A = p.mean()-B*q.mean()"
   ]
  },
  {
   "cell_type": "markdown",
   "metadata": {},
   "source": [
    "**Hasil persamaan linear**"
   ]
  },
  {
   "cell_type": "code",
   "execution_count": 26,
   "metadata": {},
   "outputs": [
    {
     "name": "stdout",
     "output_type": "stream",
     "text": [
      "p = 0.2718q + 0.1665\n"
     ]
    }
   ],
   "source": [
    "if A>0 :\n",
    "    print (\"p = {:.4f}q + {:.4f}\". format(B,A))\n",
    "else :\n",
    "    print (\"p = {:.4f}q {:.4f}\". format(B,A))"
   ]
  },
  {
   "cell_type": "markdown",
   "metadata": {},
   "source": [
    "**Hitung kembali dalam bentuk bilangan berpangkat**"
   ]
  },
  {
   "cell_type": "code",
   "execution_count": 27,
   "metadata": {},
   "outputs": [],
   "source": [
    "a = np.e**A\n",
    "b = B"
   ]
  },
  {
   "cell_type": "code",
   "execution_count": 28,
   "metadata": {},
   "outputs": [
    {
     "name": "stdout",
     "output_type": "stream",
     "text": [
      "y = 1.1812x^(0.2718)\n"
     ]
    }
   ],
   "source": [
    "print (\"y = {:.4f}x^({:.4f})\".format(a,b))"
   ]
  },
  {
   "cell_type": "markdown",
   "metadata": {},
   "source": [
    "**Koefisien Korelasi ( r ) dan Derajat Kesesuaian ( R ) r-square**"
   ]
  },
  {
   "cell_type": "code",
   "execution_count": 29,
   "metadata": {},
   "outputs": [
    {
     "name": "stdout",
     "output_type": "stream",
     "text": [
      "r = 0.9631 dan r^2 = 0.9275\n"
     ]
    }
   ],
   "source": [
    "yDt = ((p - p.mean())**2).sum()\n",
    "yD = ((p - (q*B) - A)**2).sum()\n",
    "r = np.sqrt((yDt-yD)/yDt)\n",
    "r2 = r**2\n",
    "print('r = {:.4f} dan r^2 = {:.4f}'.format(r,r2))"
   ]
  },
  {
   "cell_type": "markdown",
   "metadata": {},
   "source": [
    "**Plot data dan regresinya**"
   ]
  },
  {
   "cell_type": "code",
   "execution_count": 30,
   "metadata": {},
   "outputs": [
    {
     "data": {
      "text/plain": [
       "array([ 0. ,  0.1,  0.2,  0.3,  0.4,  0.5,  0.6,  0.7,  0.8,  0.9,  1. ,\n",
       "        1.1,  1.2,  1.3,  1.4,  1.5,  1.6,  1.7,  1.8,  1.9,  2. ,  2.1,\n",
       "        2.2,  2.3,  2.4,  2.5,  2.6,  2.7,  2.8,  2.9,  3. ,  3.1,  3.2,\n",
       "        3.3,  3.4,  3.5,  3.6,  3.7,  3.8,  3.9,  4. ,  4.1,  4.2,  4.3,\n",
       "        4.4,  4.5,  4.6,  4.7,  4.8,  4.9,  5. ,  5.1,  5.2,  5.3,  5.4,\n",
       "        5.5,  5.6,  5.7,  5.8,  5.9,  6. ,  6.1,  6.2,  6.3,  6.4,  6.5,\n",
       "        6.6,  6.7,  6.8,  6.9,  7. ,  7.1,  7.2,  7.3,  7.4,  7.5,  7.6,\n",
       "        7.7,  7.8,  7.9,  8. ,  8.1,  8.2,  8.3,  8.4,  8.5,  8.6,  8.7,\n",
       "        8.8,  8.9,  9. ,  9.1,  9.2,  9.3,  9.4,  9.5,  9.6,  9.7,  9.8,\n",
       "        9.9, 10. , 10.1, 10.2, 10.3, 10.4, 10.5, 10.6, 10.7, 10.8, 10.9,\n",
       "       11. , 11.1, 11.2, 11.3, 11.4, 11.5, 11.6, 11.7, 11.8, 11.9, 12. ,\n",
       "       12.1, 12.2, 12.3, 12.4, 12.5, 12.6, 12.7, 12.8, 12.9, 13. , 13.1,\n",
       "       13.2, 13.3, 13.4, 13.5, 13.6, 13.7, 13.8, 13.9, 14. , 14.1, 14.2,\n",
       "       14.3, 14.4, 14.5, 14.6, 14.7, 14.8, 14.9, 15. , 15.1, 15.2, 15.3,\n",
       "       15.4, 15.5, 15.6, 15.7, 15.8, 15.9, 16. , 16.1, 16.2, 16.3, 16.4,\n",
       "       16.5, 16.6, 16.7, 16.8, 16.9, 17. , 17.1, 17.2, 17.3, 17.4, 17.5,\n",
       "       17.6, 17.7, 17.8, 17.9, 18. , 18.1, 18.2, 18.3, 18.4, 18.5, 18.6,\n",
       "       18.7, 18.8, 18.9, 19. , 19.1, 19.2, 19.3, 19.4, 19.5, 19.6, 19.7,\n",
       "       19.8, 19.9, 20. , 20.1, 20.2, 20.3, 20.4, 20.5, 20.6, 20.7, 20.8,\n",
       "       20.9, 21. , 21.1, 21.2, 21.3, 21.4, 21.5, 21.6, 21.7, 21.8, 21.9,\n",
       "       22. , 22.1, 22.2, 22.3, 22.4, 22.5, 22.6, 22.7, 22.8, 22.9, 23. ,\n",
       "       23.1, 23.2, 23.3, 23.4, 23.5, 23.6, 23.7, 23.8, 23.9, 24. , 24.1,\n",
       "       24.2, 24.3, 24.4, 24.5, 24.6, 24.7, 24.8, 24.9, 25. , 25.1, 25.2,\n",
       "       25.3, 25.4, 25.5, 25.6, 25.7, 25.8, 25.9, 26. , 26.1, 26.2, 26.3,\n",
       "       26.4, 26.5, 26.6, 26.7, 26.8, 26.9, 27. , 27.1, 27.2, 27.3, 27.4,\n",
       "       27.5, 27.6, 27.7, 27.8, 27.9, 28. , 28.1, 28.2, 28.3, 28.4, 28.5,\n",
       "       28.6, 28.7, 28.8, 28.9, 29. , 29.1, 29.2, 29.3, 29.4, 29.5, 29.6,\n",
       "       29.7, 29.8, 29.9, 30. , 30.1, 30.2, 30.3, 30.4, 30.5, 30.6, 30.7,\n",
       "       30.8, 30.9, 31. , 31.1, 31.2, 31.3, 31.4, 31.5, 31.6, 31.7, 31.8,\n",
       "       31.9, 32. , 32.1, 32.2, 32.3, 32.4, 32.5, 32.6, 32.7, 32.8, 32.9,\n",
       "       33. , 33.1, 33.2, 33.3, 33.4, 33.5, 33.6, 33.7, 33.8, 33.9, 34. ,\n",
       "       34.1, 34.2, 34.3, 34.4, 34.5, 34.6, 34.7, 34.8, 34.9, 35. , 35.1,\n",
       "       35.2, 35.3, 35.4, 35.5, 35.6, 35.7, 35.8, 35.9, 36. , 36.1, 36.2,\n",
       "       36.3, 36.4, 36.5, 36.6, 36.7, 36.8, 36.9, 37. , 37.1, 37.2, 37.3,\n",
       "       37.4, 37.5, 37.6, 37.7, 37.8, 37.9, 38. , 38.1, 38.2, 38.3, 38.4,\n",
       "       38.5, 38.6, 38.7, 38.8, 38.9, 39. , 39.1, 39.2, 39.3, 39.4, 39.5,\n",
       "       39.6, 39.7, 39.8, 39.9, 40. , 40.1, 40.2, 40.3, 40.4, 40.5, 40.6,\n",
       "       40.7, 40.8, 40.9, 41. , 41.1, 41.2, 41.3, 41.4, 41.5, 41.6, 41.7,\n",
       "       41.8, 41.9])"
      ]
     },
     "execution_count": 30,
     "metadata": {},
     "output_type": "execute_result"
    }
   ],
   "source": [
    "#membuat xreg\n",
    "xreg = np.array(range(0,int((x[-1]+1)*10)))\n",
    "xreg = xreg/10 #memperhalus bentuk garis\n",
    "xreg = xreg.astype('float64')\n",
    "xreg"
   ]
  },
  {
   "cell_type": "code",
   "execution_count": 31,
   "metadata": {},
   "outputs": [
    {
     "data": {
      "text/plain": [
       "array([1.18120054e+00, 1.21374173e+00, 1.24717942e+00, 1.28153828e+00,\n",
       "       1.31684371e+00, 1.35312177e+00, 1.39039927e+00, 1.42870373e+00,\n",
       "       1.46806346e+00, 1.50850751e+00, 1.55006577e+00, 1.59276893e+00,\n",
       "       1.63664853e+00, 1.68173698e+00, 1.72806758e+00, 1.77567456e+00,\n",
       "       1.82459307e+00, 1.87485925e+00, 1.92651023e+00, 1.97958415e+00,\n",
       "       2.03412022e+00, 2.09015872e+00, 2.14774103e+00, 2.20690970e+00,\n",
       "       2.26770842e+00, 2.33018210e+00, 2.39437688e+00, 2.46034018e+00,\n",
       "       2.52812072e+00, 2.59776857e+00, 2.66933516e+00, 2.74287335e+00,\n",
       "       2.81843747e+00, 2.89608333e+00, 2.97586827e+00, 3.05785122e+00,\n",
       "       3.14209275e+00, 3.22865507e+00, 3.31760211e+00, 3.40899958e+00,\n",
       "       3.50291498e+00, 3.59941768e+00, 3.69857896e+00, 3.80047206e+00,\n",
       "       3.90517223e+00, 4.01275682e+00, 4.12330528e+00, 4.23689928e+00,\n",
       "       4.35362270e+00, 4.47356176e+00, 4.59680506e+00, 4.72344362e+00,\n",
       "       4.85357097e+00, 4.98728324e+00, 5.12467918e+00, 5.26586028e+00,\n",
       "       5.41093081e+00, 5.55999793e+00, 5.71317173e+00, 5.87056536e+00,\n",
       "       6.03229506e+00, 6.19848030e+00, 6.36924382e+00, 6.54471175e+00,\n",
       "       6.72501369e+00, 6.91028281e+00, 7.10065596e+00, 7.29627374e+00,\n",
       "       7.49728065e+00, 7.70382515e+00, 7.91605980e+00, 8.13414136e+00,\n",
       "       8.35823090e+00, 8.58849394e+00, 8.82510056e+00, 9.06822551e+00,\n",
       "       9.31804837e+00, 9.57475367e+00, 9.83853100e+00, 1.01095752e+01,\n",
       "       1.03880865e+01, 1.06742705e+01, 1.09683387e+01, 1.12705083e+01,\n",
       "       1.15810024e+01, 1.19000504e+01, 1.22278880e+01, 1.25647572e+01,\n",
       "       1.29109069e+01, 1.32665927e+01, 1.36320775e+01, 1.40076311e+01,\n",
       "       1.43935309e+01, 1.47900620e+01, 1.51975172e+01, 1.56161974e+01,\n",
       "       1.60464121e+01, 1.64884788e+01, 1.69427241e+01, 1.74094835e+01,\n",
       "       1.78891018e+01, 1.83819333e+01, 1.88883419e+01, 1.94087016e+01,\n",
       "       1.99433969e+01, 2.04928226e+01, 2.10573847e+01, 2.16374999e+01,\n",
       "       2.22335970e+01, 2.28461160e+01, 2.34755095e+01, 2.41222423e+01,\n",
       "       2.47867921e+01, 2.54696498e+01, 2.61713197e+01, 2.68923201e+01,\n",
       "       2.76331835e+01, 2.83944571e+01, 2.91767033e+01, 2.99804997e+01,\n",
       "       3.08064402e+01, 3.16551347e+01, 3.25272101e+01, 3.34233105e+01,\n",
       "       3.43440978e+01, 3.52902522e+01, 3.62624723e+01, 3.72614765e+01,\n",
       "       3.82880024e+01, 3.93428084e+01, 4.04266735e+01, 4.15403982e+01,\n",
       "       4.26848053e+01, 4.38607399e+01, 4.50690706e+01, 4.63106900e+01,\n",
       "       4.75865150e+01, 4.88974881e+01, 5.02445775e+01, 5.16287782e+01,\n",
       "       5.30511126e+01, 5.45126313e+01, 5.60144137e+01, 5.75575691e+01,\n",
       "       5.91432373e+01, 6.07725895e+01, 6.24468291e+01, 6.41671927e+01,\n",
       "       6.59349511e+01, 6.77514099e+01, 6.96179109e+01, 7.15358325e+01,\n",
       "       7.35065914e+01, 7.55316433e+01, 7.76124839e+01, 7.97506500e+01,\n",
       "       8.19477211e+01, 8.42053198e+01, 8.65251137e+01, 8.89088162e+01,\n",
       "       9.13581879e+01, 9.38750379e+01, 9.64612254e+01, 9.91186603e+01,\n",
       "       1.01849306e+02, 1.04655178e+02, 1.07538350e+02, 1.10500952e+02,\n",
       "       1.13545171e+02, 1.16673256e+02, 1.19887517e+02, 1.23190329e+02,\n",
       "       1.26584131e+02, 1.30071430e+02, 1.33654801e+02, 1.37336891e+02,\n",
       "       1.41120420e+02, 1.45008183e+02, 1.49003050e+02, 1.53107973e+02,\n",
       "       1.57325984e+02, 1.61660198e+02, 1.66113816e+02, 1.70690128e+02,\n",
       "       1.75392514e+02, 1.80224447e+02, 1.85189496e+02, 1.90291329e+02,\n",
       "       1.95533714e+02, 2.00920522e+02, 2.06455733e+02, 2.12143434e+02,\n",
       "       2.17987828e+02, 2.23993231e+02, 2.30164077e+02, 2.36504926e+02,\n",
       "       2.43020461e+02, 2.49715494e+02, 2.56594970e+02, 2.63663970e+02,\n",
       "       2.70927716e+02, 2.78391573e+02, 2.86061054e+02, 2.93941823e+02,\n",
       "       3.02039702e+02, 3.10360671e+02, 3.18910876e+02, 3.27696633e+02,\n",
       "       3.36724432e+02, 3.46000939e+02, 3.55533007e+02, 3.65327677e+02,\n",
       "       3.75392183e+02, 3.85733958e+02, 3.96360641e+02, 4.07280082e+02,\n",
       "       4.18500345e+02, 4.30029718e+02, 4.41876717e+02, 4.54050092e+02,\n",
       "       4.66558834e+02, 4.79412182e+02, 4.92619631e+02, 5.06190935e+02,\n",
       "       5.20136119e+02, 5.34465482e+02, 5.49189608e+02, 5.64319373e+02,\n",
       "       5.79865951e+02, 5.95840827e+02, 6.12255798e+02, 6.29122990e+02,\n",
       "       6.46454860e+02, 6.64264210e+02, 6.82564194e+02, 7.01368330e+02,\n",
       "       7.20690505e+02, 7.40544992e+02, 7.60946456e+02, 7.81909964e+02,\n",
       "       8.03451002e+02, 8.25585479e+02, 8.48329744e+02, 8.71700597e+02,\n",
       "       8.95715300e+02, 9.20391590e+02, 9.45747693e+02, 9.71802338e+02,\n",
       "       9.98574769e+02, 1.02608476e+03, 1.05435263e+03, 1.08339926e+03,\n",
       "       1.11324611e+03, 1.14391521e+03, 1.17542922e+03, 1.20781142e+03,\n",
       "       1.24108573e+03, 1.27527671e+03, 1.31040964e+03, 1.34651045e+03,\n",
       "       1.38360581e+03, 1.42172312e+03, 1.46089053e+03, 1.50113698e+03,\n",
       "       1.54249219e+03, 1.58498670e+03, 1.62865190e+03, 1.67352005e+03,\n",
       "       1.71962428e+03, 1.76699865e+03, 1.81567815e+03, 1.86569873e+03,\n",
       "       1.91709734e+03, 1.96991194e+03, 2.02418155e+03, 2.07994625e+03,\n",
       "       2.13724722e+03, 2.19612679e+03, 2.25662845e+03, 2.31879688e+03,\n",
       "       2.38267801e+03, 2.44831902e+03, 2.51576838e+03, 2.58507593e+03,\n",
       "       2.65629285e+03, 2.72947174e+03, 2.80466665e+03, 2.88193313e+03,\n",
       "       2.96132824e+03, 3.04291063e+03, 3.12674055e+03, 3.21287993e+03,\n",
       "       3.30139238e+03, 3.39234328e+03, 3.48579982e+03, 3.58183101e+03,\n",
       "       3.68050778e+03, 3.78190303e+03, 3.88609165e+03, 3.99315058e+03,\n",
       "       4.10315891e+03, 4.21619788e+03, 4.33235099e+03, 4.45170404e+03,\n",
       "       4.57434517e+03, 4.70036498e+03, 4.82985653e+03, 4.96291549e+03,\n",
       "       5.09964011e+03, 5.24013140e+03, 5.38449312e+03, 5.53283190e+03,\n",
       "       5.68525730e+03, 5.84188191e+03, 6.00282141e+03, 6.16819467e+03,\n",
       "       6.33812384e+03, 6.51273443e+03, 6.69215542e+03, 6.87651932e+03,\n",
       "       7.06596231e+03, 7.26062431e+03, 7.46064911e+03, 7.66618444e+03,\n",
       "       7.87738211e+03, 8.09439813e+03, 8.31739277e+03, 8.54653075e+03,\n",
       "       8.78198131e+03, 9.02391836e+03, 9.27252059e+03, 9.52797164e+03,\n",
       "       9.79046016e+03, 1.00601801e+04, 1.03373305e+04, 1.06221163e+04,\n",
       "       1.09147477e+04, 1.12154409e+04, 1.15244179e+04, 1.18419070e+04,\n",
       "       1.21681428e+04, 1.25033660e+04, 1.28478245e+04, 1.32017725e+04,\n",
       "       1.35654715e+04, 1.39391901e+04, 1.43232044e+04, 1.47177981e+04,\n",
       "       1.51232624e+04, 1.55398971e+04, 1.59680097e+04, 1.64079164e+04,\n",
       "       1.68599423e+04, 1.73244212e+04, 1.78016961e+04, 1.82921196e+04,\n",
       "       1.87960539e+04, 1.93138711e+04, 1.98459539e+04, 2.03926952e+04,\n",
       "       2.09544988e+04, 2.15317796e+04, 2.21249641e+04, 2.27344904e+04,\n",
       "       2.33608087e+04, 2.40043816e+04, 2.46656844e+04, 2.53452057e+04,\n",
       "       2.60434472e+04, 2.67609248e+04, 2.74981684e+04, 2.82557224e+04,\n",
       "       2.90341466e+04, 2.98340157e+04, 3.06559206e+04, 3.15004684e+04,\n",
       "       3.23682829e+04, 3.32600050e+04, 3.41762933e+04, 3.51178248e+04,\n",
       "       3.60852947e+04, 3.70794177e+04, 3.81009281e+04, 3.91505803e+04,\n",
       "       4.02291496e+04, 4.13374328e+04, 4.24762483e+04, 4.36464373e+04,\n",
       "       4.48488642e+04, 4.60844170e+04, 4.73540084e+04, 4.86585761e+04,\n",
       "       4.99990836e+04, 5.13765211e+04, 5.27919061e+04, 5.42462838e+04,\n",
       "       5.57407285e+04, 5.72763441e+04, 5.88542648e+04, 6.04756559e+04,\n",
       "       6.21417153e+04, 6.38536733e+04, 6.56127944e+04, 6.74203781e+04,\n",
       "       6.92777593e+04, 7.11863100e+04, 7.31474399e+04, 7.51625974e+04,\n",
       "       7.72332710e+04, 7.93609901e+04, 8.15473263e+04, 8.37938945e+04,\n",
       "       8.61023539e+04, 8.84744097e+04, 9.09118138e+04, 9.34163666e+04,\n",
       "       9.59899180e+04, 9.86343688e+04, 1.01351672e+05, 1.04143835e+05])"
      ]
     },
     "execution_count": 31,
     "metadata": {},
     "output_type": "execute_result"
    }
   ],
   "source": [
    "#membuat yreg\n",
    "yreg = a*np.e**(b*xreg)\n",
    "yreg"
   ]
  },
  {
   "cell_type": "code",
   "execution_count": 32,
   "metadata": {},
   "outputs": [
    {
     "data": {
      "text/plain": [
       "Text(0, 0.5, 'y-banyak orang')"
      ]
     },
     "execution_count": 32,
     "metadata": {},
     "output_type": "execute_result"
    },
    {
     "data": {
      "image/png": "[encoded data removed]",
      "text/plain": [
       "<Figure size 432x288 with 1 Axes>"
      ]
     },
     "metadata": {
      "needs_background": "light"
     },
     "output_type": "display_data"
    }
   ],
   "source": [
    "ax = plt.plot(x,y,'ro')\n",
    "plt.plot(xreg,yreg,'b')\n",
    "plt.grid()\n",
    "plt.xlabel('x-hari ke')\n",
    "plt.ylabel('y-banyak orang')"
   ]
  },
  {
   "cell_type": "markdown",
   "metadata": {},
   "source": [
    "**Selesai**"
   ]
  },
  {
   "cell_type": "markdown",
   "metadata": {},
   "source": [
    "#### Regresi Polinomial"
   ]
  },
  {
   "cell_type": "code",
   "execution_count": 33,
   "metadata": {},
   "outputs": [
    {
     "data": {
      "text/plain": [
       "array([1.3000e+01, 1.3000e+01, 9.0000e+00, 7.0000e+00, 7.0000e+00,\n",
       "       3.0000e+00, 2.0000e+00, 2.0000e+00, 2.0000e+00, 2.0000e+00,\n",
       "       3.0000e+00, 1.1000e+01, 3.2000e+01, 5.8000e+01, 6.3000e+01,\n",
       "       1.1400e+02, 1.4900e+02, 1.8700e+02, 2.4600e+02, 5.2800e+02,\n",
       "       6.5200e+02, 7.8200e+02, 1.0220e+03, 1.2040e+03, 1.5450e+03,\n",
       "       1.9380e+03, 2.7140e+03, 3.6210e+03, 4.5440e+03, 5.7540e+03,\n",
       "       7.1880e+03, 9.2740e+03, 1.2194e+04, 1.5161e+04, 1.9600e+04,\n",
       "       2.2071e+04, 2.4513e+04, 2.8480e+04, 2.9542e+04, 3.3570e+04,\n",
       "       3.7998e+04])"
      ]
     },
     "execution_count": 33,
     "metadata": {},
     "output_type": "execute_result"
    }
   ],
   "source": [
    "y = np.array ((13, 13, 9, 7, 7, 3, 2, 2, 2, 2, 3, 11, 32, 58, 63, 114, 149, 187, 246, 528, 652, 782, 1022, 1204, 1545, 1938, 2714, 3621, 4544, 5754, 7188, 9274, 12194, 15161, 19600, 22071, 24513, 28480, 29542, 33570, 37998))\n",
    "y = y.astype('float64')\n",
    "y"
   ]
  },
  {
   "cell_type": "code",
   "execution_count": 34,
   "metadata": {},
   "outputs": [
    {
     "data": {
      "text/plain": [
       "array([ 1.,  2.,  3.,  4.,  5.,  6.,  7.,  8.,  9., 10., 11., 12., 13.,\n",
       "       14., 15., 16., 17., 18., 19., 20., 21., 22., 23., 24., 25., 26.,\n",
       "       27., 28., 29., 30., 31., 32., 33., 34., 35., 36., 37., 38., 39.,\n",
       "       40., 41.])"
      ]
     },
     "execution_count": 34,
     "metadata": {},
     "output_type": "execute_result"
    }
   ],
   "source": [
    "x = np.array((range(1,1+len(y))))\n",
    "x = x.astype('float64')\n",
    "x"
   ]
  },
  {
   "cell_type": "markdown",
   "metadata": {},
   "source": [
    "**Membentuk regresi polinomial dari matriks**"
   ]
  },
  {
   "attachments": {
    "image.png": {
     "image/png": "[encoded data removed]"
    }
   },
   "cell_type": "markdown",
   "metadata": {},
   "source": [
    "![image.png](attachment:image.png)"
   ]
  },
  {
   "cell_type": "markdown",
   "metadata": {},
   "source": [
    "**Mendefinisikan elemen-elemen matriks kiri**"
   ]
  },
  {
   "cell_type": "code",
   "execution_count": 35,
   "metadata": {},
   "outputs": [
    {
     "data": {
      "text/plain": [
       "array([[4.10000000e+01, 8.61000000e+02, 2.38210000e+04, 7.41321000e+05],\n",
       "       [8.61000000e+02, 2.38210000e+04, 7.41321000e+05, 2.46070930e+07],\n",
       "       [2.38210000e+04, 7.41321000e+05, 2.46070930e+07, 8.50789401e+08],\n",
       "       [7.41321000e+05, 2.46070930e+07, 8.50789401e+08, 3.02550079e+10]])"
      ]
     },
     "execution_count": 35,
     "metadata": {},
     "output_type": "execute_result"
    }
   ],
   "source": [
    "n = len(y)\n",
    "a = x.sum()\n",
    "b = (x**2).sum()\n",
    "c = (x**3).sum()\n",
    "d = (x**4).sum()\n",
    "e = (x**5).sum()\n",
    "f = (x**6).sum()\n",
    "A = np.array(([n, a, b, c],\n",
    "    [a, b, c, d],\n",
    "    [b, c, d, e],\n",
    "    [c, d, e, f]))\n",
    "A"
   ]
  },
  {
   "cell_type": "markdown",
   "metadata": {},
   "source": [
    "**Mendefinisikan elemen-elemen matriks kanan**"
   ]
  },
  {
   "cell_type": "code",
   "execution_count": 36,
   "metadata": {},
   "outputs": [
    {
     "data": {
      "text/plain": [
       "array([[2.64818000e+05],\n",
       "       [9.63698800e+06],\n",
       "       [3.55487294e+08],\n",
       "       [1.32557896e+10]])"
      ]
     },
     "execution_count": 36,
     "metadata": {},
     "output_type": "execute_result"
    }
   ],
   "source": [
    "g = y.sum()\n",
    "h = (x*y).sum()\n",
    "i = ((x**2)*y).sum()\n",
    "j = ((x**3)*y).sum()\n",
    "B = np.array(([g],\n",
    "    [h],\n",
    "    [i],\n",
    "    [j]))\n",
    "B"
   ]
  },
  {
   "cell_type": "markdown",
   "metadata": {},
   "source": [
    "**Invers matriks sisi kiri**"
   ]
  },
  {
   "cell_type": "code",
   "execution_count": 37,
   "metadata": {},
   "outputs": [
    {
     "data": {
      "text/plain": [
       "array([[ 4.71264935e-01, -8.50613871e-02,  4.09795596e-03,\n",
       "        -5.76017906e-05],\n",
       "       [-8.50613871e-02,  1.95585587e-02, -1.04382586e-03,\n",
       "         1.55298092e-05],\n",
       "       [ 4.09795596e-03, -1.04382586e-03,  5.90991836e-05,\n",
       "        -9.13347631e-07],\n",
       "       [-5.76017906e-05,  1.55298092e-05, -9.13347631e-07,\n",
       "         1.44975814e-08]])"
      ]
     },
     "execution_count": 37,
     "metadata": {},
     "output_type": "execute_result"
    }
   ],
   "source": [
    "Ainv = np.linalg.inv(A)\n",
    "Ainv"
   ]
  },
  {
   "cell_type": "markdown",
   "metadata": {},
   "source": [
    "**Mencari nilai a0, a1, a2, dst dengan a = (A^-1)B namun di sini variabel a diganti dengan Y**"
   ]
  },
  {
   "cell_type": "code",
   "execution_count": 38,
   "metadata": {},
   "outputs": [
    {
     "name": "stdout",
     "output_type": "stream",
     "text": [
      "[[-1722.06833218]\n",
      " [  752.86077811]\n",
      " [  -72.25994615]\n",
      " [    1.90000533]]\n"
     ]
    }
   ],
   "source": [
    "Y = Ainv.dot(B)\n",
    "print(Y)"
   ]
  },
  {
   "cell_type": "code",
   "execution_count": 39,
   "metadata": {},
   "outputs": [],
   "source": [
    "a0 = Y[0,0]\n",
    "a1 = Y[1,0]\n",
    "a2 = Y[2,0]\n",
    "a3 = Y[3,0]"
   ]
  },
  {
   "cell_type": "markdown",
   "metadata": {},
   "source": [
    "**Hasil persamaan regresi polinomial**"
   ]
  },
  {
   "cell_type": "code",
   "execution_count": 40,
   "metadata": {},
   "outputs": [
    {
     "name": "stdout",
     "output_type": "stream",
     "text": [
      "y = 1.9000x^3 + -72.2599X^2 + 752.8608x + -1722.0683\n"
     ]
    }
   ],
   "source": [
    "print('y = {:.4f}x^3 + {:.4f}X^2 + {:.4f}x + {:.4f}'.format(a3, a2, a1, a0))"
   ]
  },
  {
   "cell_type": "code",
   "execution_count": 41,
   "metadata": {},
   "outputs": [
    {
     "data": {
      "text/plain": [
       "array([1.3000e+01, 1.3000e+01, 9.0000e+00, 7.0000e+00, 7.0000e+00,\n",
       "       3.0000e+00, 2.0000e+00, 2.0000e+00, 2.0000e+00, 2.0000e+00,\n",
       "       3.0000e+00, 1.1000e+01, 3.2000e+01, 5.8000e+01, 6.3000e+01,\n",
       "       1.1400e+02, 1.4900e+02, 1.8700e+02, 2.4600e+02, 5.2800e+02,\n",
       "       6.5200e+02, 7.8200e+02, 1.0220e+03, 1.2040e+03, 1.5450e+03,\n",
       "       1.9380e+03, 2.7140e+03, 3.6210e+03, 4.5440e+03, 5.7540e+03,\n",
       "       7.1880e+03, 9.2740e+03, 1.2194e+04, 1.5161e+04, 1.9600e+04,\n",
       "       2.2071e+04, 2.4513e+04, 2.8480e+04, 2.9542e+04, 3.3570e+04,\n",
       "       3.7998e+04])"
      ]
     },
     "execution_count": 41,
     "metadata": {},
     "output_type": "execute_result"
    }
   ],
   "source": [
    "y"
   ]
  },
  {
   "cell_type": "markdown",
   "metadata": {},
   "source": [
    "**Koefisien Korelasi ( r ) dan Derajat Kesesuaian ( R ) r-square**"
   ]
  },
  {
   "cell_type": "code",
   "execution_count": 42,
   "metadata": {},
   "outputs": [
    {
     "name": "stdout",
     "output_type": "stream",
     "text": [
      "r = 0.9968 dan r^2 = 0.9275\n"
     ]
    }
   ],
   "source": [
    "yDt = (y-y.mean())**2\n",
    "yD = (y-a0-a1*x-a2*(x**2)-a3*(x**3))**2\n",
    "r = np.sqrt((yDt.sum()-yD.sum())/yDt.sum())\n",
    "R2 = r**2\n",
    "print('r = {:.4f} dan r^2 = {:.4f}'.format(r,r2))"
   ]
  },
  {
   "cell_type": "markdown",
   "metadata": {},
   "source": [
    "**Plot**"
   ]
  },
  {
   "cell_type": "code",
   "execution_count": 43,
   "metadata": {},
   "outputs": [
    {
     "data": {
      "text/plain": [
       "Text(0, 0.5, 'y')"
      ]
     },
     "execution_count": 43,
     "metadata": {},
     "output_type": "execute_result"
    },
    {
     "data": {
      "image/png": "[encoded data removed]",
      "text/plain": [
       "<Figure size 432x288 with 1 Axes>"
      ]
     },
     "metadata": {
      "needs_background": "light"
     },
     "output_type": "display_data"
    }
   ],
   "source": [
    "xreg = np.array(range(0,int((x[-1]+0.5)*10)))\n",
    "xreg = xreg/10\n",
    "yreg = a0 + a1*xreg + a2*(xreg**2) + a3*(xreg**3)\n",
    "ax = plt.plot(x,y,'ro')\n",
    "plt.plot(xreg,yreg,'b')\n",
    "plt.grid()\n",
    "plt.xlabel('x')\n",
    "plt.ylabel('y')"
   ]
  },
  {
   "cell_type": "markdown",
   "metadata": {},
   "source": [
    "**Perbandingan jika memakai polyfit dengan derajat dinaikkan**"
   ]
  },
  {
   "cell_type": "code",
   "execution_count": 44,
   "metadata": {},
   "outputs": [
    {
     "data": {
      "image/png": "[encoded data removed]",
      "text/plain": [
       "<Figure size 432x288 with 1 Axes>"
      ]
     },
     "metadata": {
      "needs_background": "light"
     },
     "output_type": "display_data"
    }
   ],
   "source": [
    "regpoly = np.poly1d(np.polyfit(x, y, 5))\n",
    "\n",
    "myline = np.linspace(1, len(y), 100)\n",
    "\n",
    "plt.scatter(x, y)\n",
    "plt.plot(myline, regpoly(myline), linewidth=3, color='r')\n",
    "plt.show()"
   ]
  },
  {
   "cell_type": "code",
   "execution_count": 45,
   "metadata": {},
   "outputs": [
    {
     "name": "stdout",
     "output_type": "stream",
     "text": [
      "           5         4         3         2\n",
      "-0.003964 x + 0.431 x - 14.98 x + 212.6 x - 1154 x + 1624\n"
     ]
    }
   ],
   "source": [
    "print (regpoly)"
   ]
  },
  {
   "cell_type": "code",
   "execution_count": 46,
   "metadata": {},
   "outputs": [
    {
     "name": "stdout",
     "output_type": "stream",
     "text": [
      "0.9965513851104089\n"
     ]
    }
   ],
   "source": [
    "print(r2_score(y, regpoly(x)))"
   ]
  },
  {
   "cell_type": "markdown",
   "metadata": {},
   "source": [
    "**Selesai**"
   ]
  },
  {
   "cell_type": "markdown",
   "metadata": {},
   "source": [
    "### Total Death"
   ]
  },
  {
   "cell_type": "markdown",
   "metadata": {},
   "source": [
    "- Start: 9-Mar-2020\n",
    "- End: 26-Mar-2020\n",
    "- Range: 18 Days"
   ]
  },
  {
   "cell_type": "markdown",
   "metadata": {},
   "source": [
    "**Data**"
   ]
  },
  {
   "cell_type": "code",
   "execution_count": 47,
   "metadata": {},
   "outputs": [
    {
     "data": {
      "text/plain": [
       "array([  2.,   2.,   3.,   6.,   8.,   9.,  13.,  17.,  26.,  28.,  44.,\n",
       "        68.,  84.,  94., 123., 159., 206., 267.])"
      ]
     },
     "execution_count": 47,
     "metadata": {},
     "output_type": "execute_result"
    }
   ],
   "source": [
    "y = np.array ((2, 2, 3, 6, 8, 9, 13, 17, 26, 28, 44, 68, 84, 94, 123, 159, 206, 267))\n",
    "y = y.astype('float64')\n",
    "y"
   ]
  },
  {
   "cell_type": "code",
   "execution_count": 48,
   "metadata": {},
   "outputs": [
    {
     "data": {
      "text/plain": [
       "array([ 1.,  2.,  3.,  4.,  5.,  6.,  7.,  8.,  9., 10., 11., 12., 13.,\n",
       "       14., 15., 16., 17., 18.])"
      ]
     },
     "execution_count": 48,
     "metadata": {},
     "output_type": "execute_result"
    }
   ],
   "source": [
    "x = np.array((range(1,1+len(y))))\n",
    "x = x.astype('float64')\n",
    "x"
   ]
  },
  {
   "cell_type": "markdown",
   "metadata": {},
   "source": [
    "**Plot**"
   ]
  },
  {
   "cell_type": "code",
   "execution_count": 49,
   "metadata": {},
   "outputs": [
    {
     "data": {
      "text/plain": [
       "Text(0, 0.5, 'y-jumlah orang')"
      ]
     },
     "execution_count": 49,
     "metadata": {},
     "output_type": "execute_result"
    },
    {
     "data": {
      "image/png": "[encoded data removed]",
      "text/plain": [
       "<Figure size 432x288 with 1 Axes>"
      ]
     },
     "metadata": {
      "needs_background": "light"
     },
     "output_type": "display_data"
    }
   ],
   "source": [
    "ax = plt.plot(x,y,'ro')\n",
    "plt.grid()\n",
    "plt.xlabel('x-hari')\n",
    "plt.ylabel('y-jumlah orang')"
   ]
  },
  {
   "cell_type": "markdown",
   "metadata": {},
   "source": [
    "#### Regresi Berpangkat"
   ]
  },
  {
   "cell_type": "markdown",
   "metadata": {},
   "source": [
    "**Data**"
   ]
  },
  {
   "cell_type": "code",
   "execution_count": 50,
   "metadata": {},
   "outputs": [
    {
     "data": {
      "text/plain": [
       "array([  2.,   2.,   3.,   6.,   8.,   9.,  13.,  17.,  26.,  28.,  44.,\n",
       "        68.,  84.,  94., 123., 159., 206., 267.])"
      ]
     },
     "execution_count": 50,
     "metadata": {},
     "output_type": "execute_result"
    }
   ],
   "source": [
    "y = np.array ((2, 2, 3, 6, 8, 9, 13, 17, 26, 28, 44, 68, 84, 94, 123, 159, 206, 267))\n",
    "y = y.astype('float64')\n",
    "y"
   ]
  },
  {
   "cell_type": "code",
   "execution_count": 51,
   "metadata": {},
   "outputs": [
    {
     "data": {
      "text/plain": [
       "array([ 1.,  2.,  3.,  4.,  5.,  6.,  7.,  8.,  9., 10., 11., 12., 13.,\n",
       "       14., 15., 16., 17., 18.])"
      ]
     },
     "execution_count": 51,
     "metadata": {},
     "output_type": "execute_result"
    }
   ],
   "source": [
    "x = np.array((range(1,1+len(y))))\n",
    "x = x.astype('float64')\n",
    "x"
   ]
  },
  {
   "attachments": {
    "image.png": {
     "image/png": "[encoded data removed]"
    }
   },
   "cell_type": "markdown",
   "metadata": {},
   "source": [
    "![image.png](attachment:image.png)"
   ]
  },
  {
   "cell_type": "markdown",
   "metadata": {},
   "source": [
    "**Membuat xreg untuk plotting selanjutnya**"
   ]
  },
  {
   "cell_type": "code",
   "execution_count": 52,
   "metadata": {},
   "outputs": [
    {
     "data": {
      "text/plain": [
       "array([ 1. ,  1.1,  1.2,  1.3,  1.4,  1.5,  1.6,  1.7,  1.8,  1.9,  2. ,\n",
       "        2.1,  2.2,  2.3,  2.4,  2.5,  2.6,  2.7,  2.8,  2.9,  3. ,  3.1,\n",
       "        3.2,  3.3,  3.4,  3.5,  3.6,  3.7,  3.8,  3.9,  4. ,  4.1,  4.2,\n",
       "        4.3,  4.4,  4.5,  4.6,  4.7,  4.8,  4.9,  5. ,  5.1,  5.2,  5.3,\n",
       "        5.4,  5.5,  5.6,  5.7,  5.8,  5.9,  6. ,  6.1,  6.2,  6.3,  6.4,\n",
       "        6.5,  6.6,  6.7,  6.8,  6.9,  7. ,  7.1,  7.2,  7.3,  7.4,  7.5,\n",
       "        7.6,  7.7,  7.8,  7.9,  8. ,  8.1,  8.2,  8.3,  8.4,  8.5,  8.6,\n",
       "        8.7,  8.8,  8.9,  9. ,  9.1,  9.2,  9.3,  9.4,  9.5,  9.6,  9.7,\n",
       "        9.8,  9.9, 10. , 10.1, 10.2, 10.3, 10.4, 10.5, 10.6, 10.7, 10.8,\n",
       "       10.9, 11. , 11.1, 11.2, 11.3, 11.4, 11.5, 11.6, 11.7, 11.8, 11.9,\n",
       "       12. , 12.1, 12.2, 12.3, 12.4, 12.5, 12.6, 12.7, 12.8, 12.9, 13. ,\n",
       "       13.1, 13.2, 13.3, 13.4, 13.5, 13.6, 13.7, 13.8, 13.9, 14. , 14.1,\n",
       "       14.2, 14.3, 14.4, 14.5, 14.6, 14.7, 14.8, 14.9, 15. , 15.1, 15.2,\n",
       "       15.3, 15.4, 15.5, 15.6, 15.7, 15.8, 15.9, 16. , 16.1, 16.2, 16.3,\n",
       "       16.4, 16.5, 16.6, 16.7, 16.8, 16.9, 17. , 17.1, 17.2, 17.3, 17.4,\n",
       "       17.5, 17.6, 17.7, 17.8, 17.9, 18. , 18.1, 18.2, 18.3, 18.4, 18.5,\n",
       "       18.6, 18.7, 18.8, 18.9])"
      ]
     },
     "execution_count": 52,
     "metadata": {},
     "output_type": "execute_result"
    }
   ],
   "source": [
    "#membuat xreg\n",
    "xreg = np.array(range(10,int((x[-1]+1)*10)))\n",
    "xreg = xreg/10 #memperhalus bentuk garis\n",
    "xreg = xreg.astype('float64')\n",
    "xreg"
   ]
  },
  {
   "cell_type": "markdown",
   "metadata": {},
   "source": [
    "**Regresi berpangkat**"
   ]
  },
  {
   "attachments": {
    "image.png": {
     "image/png": "[encoded data removed]"
    }
   },
   "cell_type": "markdown",
   "metadata": {},
   "source": [
    "![image.png](attachment:image.png)"
   ]
  },
  {
   "attachments": {
    "image.png": {
     "image/png": "[encoded data removed]"
    }
   },
   "cell_type": "markdown",
   "metadata": {},
   "source": [
    "![image.png](attachment:image.png)"
   ]
  },
  {
   "attachments": {
    "image.png": {
     "image/png": "[encoded data removed]"
    }
   },
   "cell_type": "markdown",
   "metadata": {},
   "source": [
    "![image.png](attachment:image.png)"
   ]
  },
  {
   "cell_type": "code",
   "execution_count": 53,
   "metadata": {},
   "outputs": [],
   "source": [
    "p = np.log10(y)\n",
    "q = np.log10(x)"
   ]
  },
  {
   "cell_type": "markdown",
   "metadata": {},
   "source": [
    "**Hitung regresi linear**"
   ]
  },
  {
   "cell_type": "code",
   "execution_count": 54,
   "metadata": {},
   "outputs": [],
   "source": [
    "n = len(y)\n",
    "pq = p*q\n",
    "qq = q**2\n",
    "B = (n*pq.sum() - q.sum()*p.sum())/(n*qq.sum() - (q.sum())**2)\n",
    "A = p.mean()-B*q.mean()"
   ]
  },
  {
   "cell_type": "markdown",
   "metadata": {},
   "source": [
    "**Hasil regresi linear**"
   ]
  },
  {
   "cell_type": "code",
   "execution_count": 55,
   "metadata": {},
   "outputs": [
    {
     "name": "stdout",
     "output_type": "stream",
     "text": [
      "p = 1.8756q -0.2400\n"
     ]
    }
   ],
   "source": [
    "if A>0 :\n",
    "    print (\"p = {:.4f}q + {:.4f}\". format(B,A))\n",
    "else :\n",
    "    print (\"p = {:.4f}q {:.4f}\". format(B,A))"
   ]
  },
  {
   "cell_type": "markdown",
   "metadata": {},
   "source": [
    "**Kembalikan ke bentuk pangkat**"
   ]
  },
  {
   "cell_type": "code",
   "execution_count": 56,
   "metadata": {},
   "outputs": [
    {
     "name": "stdout",
     "output_type": "stream",
     "text": [
      "y = 0.5755x^(1.8756)\n"
     ]
    }
   ],
   "source": [
    "a = 10**A #A=log(a)\n",
    "b = B\n",
    "print (\"y = {:.4f}x^({:.4f})\".format(a,b))"
   ]
  },
  {
   "cell_type": "markdown",
   "metadata": {},
   "source": [
    "**Koefisien Korelasi ( r ) dan Derajat Kesesuaian ( R ) r-square**"
   ]
  },
  {
   "cell_type": "code",
   "execution_count": 57,
   "metadata": {},
   "outputs": [
    {
     "name": "stdout",
     "output_type": "stream",
     "text": [
      "r = 0.9481 dan r^2 = 0.8988\n"
     ]
    }
   ],
   "source": [
    "yDt = ((p - p.mean())**2).sum()\n",
    "yD = ((p - (q*B) - A)**2).sum()\n",
    "r = np.sqrt((yDt-yD)/yDt)\n",
    "r2 = r**2\n",
    "print('r = {:.4f} dan r^2 = {:.4f}'.format(r,r2))"
   ]
  },
  {
   "cell_type": "markdown",
   "metadata": {},
   "source": [
    "**Plot**"
   ]
  },
  {
   "cell_type": "code",
   "execution_count": 58,
   "metadata": {},
   "outputs": [
    {
     "data": {
      "text/plain": [
       "array([  0.57547983,   0.68812043,   0.81010079,   0.94132019,\n",
       "         1.08168695,   1.231117  ,   1.3895328 ,   1.5568624 ,\n",
       "         1.73303878,   1.91799919,   2.11168469,   2.31403974,\n",
       "         2.52501184,   2.74455122,   2.97261062,   3.209145  ,\n",
       "         3.45411142,   3.7074688 ,   3.96917782,   4.23920076,\n",
       "         4.51750138,   4.80404483,   5.09879754,   5.40172713,\n",
       "         5.71280233,   6.03199295,   6.35926976,   6.69460444,\n",
       "         7.03796958,   7.38933856,   7.74868555,   8.11598545,\n",
       "         8.49121386,   8.87434703,   9.26536184,   9.66423579,\n",
       "        10.07094692,  10.48547382,  10.90779559,  11.33789186,\n",
       "        11.77574268,  12.22132858,  12.67463053,  13.13562991,\n",
       "        13.60430848,  14.0806484 ,  14.56463221,  15.05624277,\n",
       "        15.5554633 ,  16.06227736,  16.5766688 ,  17.0986218 ,\n",
       "        17.62812081,  18.16515058,  18.70969613,  19.26174274,\n",
       "        19.82127595,  20.38828156,  20.96274559,  21.54465431,\n",
       "        22.13399419,  22.73075196,  23.33491451,  23.94646898,\n",
       "        24.56540269,  25.19170315,  25.82535807,  26.46635534,\n",
       "        27.11468302,  27.77032935,  28.43328273,  29.10353175,\n",
       "        29.78106512,  30.46587173,  31.15794062,  31.85726098,\n",
       "        32.56382213,  33.27761354,  33.99862481,  34.7268457 ,\n",
       "        35.46226605,  36.20487588,  36.9546653 ,  37.71162455,\n",
       "        38.47574399,  39.2470141 ,  40.02542547,  40.8109688 ,\n",
       "        41.6036349 ,  42.40341469,  43.21029917,  44.02427947,\n",
       "        44.84534681,  45.67349251,  46.50870797,  47.3509847 ,\n",
       "        48.2003143 ,  49.05668845,  49.92009893,  50.7905376 ,\n",
       "        51.66799639,  52.55246733,  53.44394254,  54.3424142 ,\n",
       "        55.24787457,  56.16031599,  57.07973089,  58.00611175,\n",
       "        58.93945114,  59.87974168,  60.82697609,  61.78114714,\n",
       "        62.74224766,  63.71027056,  64.68520882,  65.66705546,\n",
       "        66.65580359,  67.65144637,  68.65397701,  69.66338881,\n",
       "        70.67967509,  71.70282925,  72.73284475,  73.7697151 ,\n",
       "        74.81343386,  75.86399466,  76.92139116,  77.98561708,\n",
       "        79.05666622,  80.13453238,  81.21920946,  82.31069137,\n",
       "        83.4089721 ,  84.51404566,  85.62590614,  86.74454763,\n",
       "        87.86996431,  89.00215038,  90.1411001 ,  91.28680777,\n",
       "        92.43926771,  93.59847432,  94.76442201,  95.93710525,\n",
       "        97.11651856,  98.30265646,  99.49551356, 100.69508447,\n",
       "       101.90136386, 103.11434642, 104.33402691, 105.56040009,\n",
       "       106.79346078, 108.03320382, 109.27962411, 110.53271655,\n",
       "       111.79247612, 113.05889778, 114.33197657, 115.61170755,\n",
       "       116.89808579, 118.19110643, 119.49076461, 120.79705553,\n",
       "       122.10997439, 123.42951645, 124.75567699, 126.08845131,\n",
       "       127.42783475, 128.77382268, 130.12641049, 131.48559362,\n",
       "       132.85136752, 134.22372767, 135.60266958, 136.98818878,\n",
       "       138.38028085, 139.77894138, 141.18416598, 142.5959503 ])"
      ]
     },
     "execution_count": 58,
     "metadata": {},
     "output_type": "execute_result"
    }
   ],
   "source": [
    "#membuat yreg\n",
    "yreg = a*(xreg**b)\n",
    "yreg\n",
    "    "
   ]
  },
  {
   "cell_type": "code",
   "execution_count": 59,
   "metadata": {},
   "outputs": [
    {
     "data": {
      "text/plain": [
       "Text(0, 0.5, 'y-banyak orang')"
      ]
     },
     "execution_count": 59,
     "metadata": {},
     "output_type": "execute_result"
    },
    {
     "data": {
      "image/png": "[encoded data removed]",
      "text/plain": [
       "<Figure size 432x288 with 1 Axes>"
      ]
     },
     "metadata": {
      "needs_background": "light"
     },
     "output_type": "display_data"
    }
   ],
   "source": [
    "ax = plt.plot(x,y,'ro')\n",
    "plt.plot(xreg,yreg,'g')\n",
    "plt.grid()\n",
    "plt.xlabel('x-hari ke')\n",
    "plt.ylabel('y-banyak orang')"
   ]
  },
  {
   "cell_type": "markdown",
   "metadata": {},
   "source": [
    "#### Regresi Eksponensial"
   ]
  },
  {
   "attachments": {
    "image.png": {
     "image/png": "[encoded data removed]"
    }
   },
   "cell_type": "markdown",
   "metadata": {},
   "source": [
    "![image.png](attachment:image.png)"
   ]
  },
  {
   "attachments": {
    "image.png": {
     "image/png": "[encoded data removed]"
    }
   },
   "cell_type": "markdown",
   "metadata": {},
   "source": [
    "![image.png](attachment:image.png)"
   ]
  },
  {
   "attachments": {
    "image.png": {
     "image/png": "[encoded data removed]"
    }
   },
   "cell_type": "markdown",
   "metadata": {},
   "source": [
    "![image.png](attachment:image.png)"
   ]
  },
  {
   "cell_type": "markdown",
   "metadata": {},
   "source": [
    "**Linearisasi**"
   ]
  },
  {
   "cell_type": "code",
   "execution_count": 60,
   "metadata": {},
   "outputs": [
    {
     "data": {
      "text/plain": [
       "array([  2.,   2.,   3.,   6.,   8.,   9.,  13.,  17.,  26.,  28.,  44.,\n",
       "        68.,  84.,  94., 123., 159., 206., 267.])"
      ]
     },
     "execution_count": 60,
     "metadata": {},
     "output_type": "execute_result"
    }
   ],
   "source": [
    "y = np.array ((2, 2, 3, 6, 8, 9, 13, 17, 26, 28, 44, 68, 84, 94, 123, 159, 206, 267))\n",
    "y = y.astype('float64')\n",
    "y"
   ]
  },
  {
   "cell_type": "code",
   "execution_count": 61,
   "metadata": {},
   "outputs": [
    {
     "data": {
      "text/plain": [
       "array([ 1.,  2.,  3.,  4.,  5.,  6.,  7.,  8.,  9., 10., 11., 12., 13.,\n",
       "       14., 15., 16., 17., 18.])"
      ]
     },
     "execution_count": 61,
     "metadata": {},
     "output_type": "execute_result"
    }
   ],
   "source": [
    "x = np.array((range(1,1+len(y))))\n",
    "x = x.astype('float64')\n",
    "x"
   ]
  },
  {
   "cell_type": "code",
   "execution_count": 62,
   "metadata": {},
   "outputs": [],
   "source": [
    "p = np.log(y)\n",
    "q = x"
   ]
  },
  {
   "cell_type": "markdown",
   "metadata": {},
   "source": [
    "**Hitung regresi linear**"
   ]
  },
  {
   "attachments": {
    "image.png": {
     "image/png": "[encoded data removed]"
    }
   },
   "cell_type": "markdown",
   "metadata": {},
   "source": [
    "![image.png](attachment:image.png)"
   ]
  },
  {
   "cell_type": "code",
   "execution_count": 63,
   "metadata": {},
   "outputs": [],
   "source": [
    "n = len(y)\n",
    "pq = p*q\n",
    "qq = q**2\n",
    "B = (n*pq.sum() - q.sum()*p.sum())/(n*qq.sum() - (q.sum())**2)\n",
    "A = p.mean()-B*q.mean()"
   ]
  },
  {
   "cell_type": "markdown",
   "metadata": {},
   "source": [
    "**Hasil persamaan linear**"
   ]
  },
  {
   "cell_type": "code",
   "execution_count": 64,
   "metadata": {},
   "outputs": [
    {
     "name": "stdout",
     "output_type": "stream",
     "text": [
      "p = 0.2957q + 0.4303\n"
     ]
    }
   ],
   "source": [
    "if A>0 :\n",
    "    print (\"p = {:.4f}q + {:.4f}\". format(B,A))\n",
    "else :\n",
    "    print (\"p = {:.4f}q {:.4f}\". format(B,A))"
   ]
  },
  {
   "cell_type": "markdown",
   "metadata": {},
   "source": [
    "**Hitung kembali dalam bentuk bilangan berpangkat**"
   ]
  },
  {
   "cell_type": "code",
   "execution_count": 65,
   "metadata": {},
   "outputs": [],
   "source": [
    "a = np.e**A\n",
    "b = B"
   ]
  },
  {
   "cell_type": "code",
   "execution_count": 66,
   "metadata": {},
   "outputs": [
    {
     "name": "stdout",
     "output_type": "stream",
     "text": [
      "y = 1.5377x^(0.2957)\n"
     ]
    }
   ],
   "source": [
    "print (\"y = {:.4f}x^({:.4f})\".format(a,b))"
   ]
  },
  {
   "cell_type": "markdown",
   "metadata": {},
   "source": [
    "**Koefisien Korelasi ( r ) dan Derajat Kesesuaian ( R ) r-square**"
   ]
  },
  {
   "cell_type": "code",
   "execution_count": 67,
   "metadata": {},
   "outputs": [
    {
     "name": "stdout",
     "output_type": "stream",
     "text": [
      "r = 0.9953 dan r^2 = 0.9906\n"
     ]
    }
   ],
   "source": [
    "yDt = ((p - p.mean())**2).sum()\n",
    "yD = ((p - (q*B) - A)**2).sum()\n",
    "r = np.sqrt((yDt-yD)/yDt)\n",
    "r2 = r**2\n",
    "print('r = {:.4f} dan r^2 = {:.4f}'.format(r,r2))"
   ]
  },
  {
   "cell_type": "markdown",
   "metadata": {},
   "source": [
    "**Plot data dan regresinya**"
   ]
  },
  {
   "cell_type": "code",
   "execution_count": 68,
   "metadata": {},
   "outputs": [
    {
     "data": {
      "text/plain": [
       "array([ 0. ,  0.1,  0.2,  0.3,  0.4,  0.5,  0.6,  0.7,  0.8,  0.9,  1. ,\n",
       "        1.1,  1.2,  1.3,  1.4,  1.5,  1.6,  1.7,  1.8,  1.9,  2. ,  2.1,\n",
       "        2.2,  2.3,  2.4,  2.5,  2.6,  2.7,  2.8,  2.9,  3. ,  3.1,  3.2,\n",
       "        3.3,  3.4,  3.5,  3.6,  3.7,  3.8,  3.9,  4. ,  4.1,  4.2,  4.3,\n",
       "        4.4,  4.5,  4.6,  4.7,  4.8,  4.9,  5. ,  5.1,  5.2,  5.3,  5.4,\n",
       "        5.5,  5.6,  5.7,  5.8,  5.9,  6. ,  6.1,  6.2,  6.3,  6.4,  6.5,\n",
       "        6.6,  6.7,  6.8,  6.9,  7. ,  7.1,  7.2,  7.3,  7.4,  7.5,  7.6,\n",
       "        7.7,  7.8,  7.9,  8. ,  8.1,  8.2,  8.3,  8.4,  8.5,  8.6,  8.7,\n",
       "        8.8,  8.9,  9. ,  9.1,  9.2,  9.3,  9.4,  9.5,  9.6,  9.7,  9.8,\n",
       "        9.9, 10. , 10.1, 10.2, 10.3, 10.4, 10.5, 10.6, 10.7, 10.8, 10.9,\n",
       "       11. , 11.1, 11.2, 11.3, 11.4, 11.5, 11.6, 11.7, 11.8, 11.9, 12. ,\n",
       "       12.1, 12.2, 12.3, 12.4, 12.5, 12.6, 12.7, 12.8, 12.9, 13. , 13.1,\n",
       "       13.2, 13.3, 13.4, 13.5, 13.6, 13.7, 13.8, 13.9, 14. , 14.1, 14.2,\n",
       "       14.3, 14.4, 14.5, 14.6, 14.7, 14.8, 14.9, 15. , 15.1, 15.2, 15.3,\n",
       "       15.4, 15.5, 15.6, 15.7, 15.8, 15.9, 16. , 16.1, 16.2, 16.3, 16.4,\n",
       "       16.5, 16.6, 16.7, 16.8, 16.9, 17. , 17.1, 17.2, 17.3, 17.4, 17.5,\n",
       "       17.6, 17.7, 17.8, 17.9, 18. , 18.1, 18.2, 18.3, 18.4, 18.5, 18.6,\n",
       "       18.7, 18.8, 18.9])"
      ]
     },
     "execution_count": 68,
     "metadata": {},
     "output_type": "execute_result"
    }
   ],
   "source": [
    "#membuat xreg\n",
    "xreg = np.array(range(0,int((x[-1]+1)*10)))\n",
    "xreg = xreg/10 #memperhalus bentuk garis\n",
    "xreg = xreg.astype('float64')\n",
    "xreg"
   ]
  },
  {
   "cell_type": "code",
   "execution_count": 69,
   "metadata": {},
   "outputs": [
    {
     "data": {
      "text/plain": [
       "array([  1.53767236,   1.58382607,   1.63136509,   1.68033101,\n",
       "         1.73076666,   1.78271615,   1.83622492,   1.89133977,\n",
       "         1.94810892,   2.006582  ,   2.06681017,   2.12884611,\n",
       "         2.19274408,   2.25855996,   2.32635133,   2.39617747,\n",
       "         2.46809947,   2.54218023,   2.61848454,   2.69707916,\n",
       "         2.77803281,   2.86141631,   2.9473026 ,   3.03576679,\n",
       "         3.12688625,   3.2207407 ,   3.31741221,   3.41698536,\n",
       "         3.51954721,   3.6251875 ,   3.73399861,   3.84607572,\n",
       "         3.96151685,   4.08042299,   4.20289813,   4.32904941,\n",
       "         4.45898714,   4.59282501,   4.73068005,   4.87267286,\n",
       "         5.01892762,   5.16957227,   5.32473856,   5.48456221,\n",
       "         5.64918302,   5.81874497,   5.99339638,   6.17329   ,\n",
       "         6.35858319,   6.549438  ,   6.74602138,   6.94850528,\n",
       "         7.15706678,   7.37188833,   7.59315781,   7.82106876,\n",
       "         8.05582052,   8.29761844,   8.54667399,   8.80320502,\n",
       "         9.0674359 ,   9.33959776,   9.61992864,   9.90867374,\n",
       "        10.2060856 ,  10.51242438,  10.82795801,  11.15296247,\n",
       "        11.48772205,  11.83252953,  12.18768652,  12.55350365,\n",
       "        12.9303009 ,  13.31840783,  13.71816391,  14.12991878,\n",
       "        14.55403261,  14.99087634,  15.44083208,  15.90429337,\n",
       "        16.38166559,  16.87336628,  17.37982552,  17.90148629,\n",
       "        18.43880487,  18.99225123,  19.56230945,  20.14947814,\n",
       "        20.75427088,  21.37721666,  22.01886034,  22.67976316,\n",
       "        23.36050318,  24.06167581,  24.78389436,  25.52779052,\n",
       "        26.29401494,  27.08323783,  27.89614949,  28.73346093,\n",
       "        29.59590453,  30.48423465,  31.39922826,  32.34168568,\n",
       "        33.31243125,  34.31231405,  35.34220863,  36.40301582,\n",
       "        37.49566345,  38.62110724,  39.78033157,  40.97435037,\n",
       "        42.204208  ,  43.4709802 ,  44.77577494,  46.1197335 ,\n",
       "        47.50403138,  48.92987939,  50.39852466,  51.91125177,\n",
       "        53.46938384,  55.07428372,  56.72735517,  58.43004405,\n",
       "        60.18383967,  61.99027599,  63.85093306,  65.76743831,\n",
       "        67.74146805,  69.7747489 ,  71.86905929,  74.02623105,\n",
       "        76.24815098,  78.53676252,  80.89406743,  83.32212756,\n",
       "        85.82306666,  88.39907222,  91.05239736,  93.78536287,\n",
       "        96.60035918,  99.49984846, 102.48636679, 105.56252638,\n",
       "       108.73101785, 111.99461255, 115.35616504, 118.81861556,\n",
       "       122.38499259, 126.05841551, 129.84209735, 133.73934755,\n",
       "       137.7535749 , 141.88829052, 146.14711088, 150.53376104,\n",
       "       155.05207785, 159.70601331, 164.49963806, 169.43714493,\n",
       "       174.52285258, 179.76120929, 185.15679688, 190.71433467,\n",
       "       196.43868366, 202.33485074, 208.40799307, 214.66342262,\n",
       "       221.10661079, 227.74319323, 234.57897472, 241.61993428,\n",
       "       248.87223038, 256.34220637, 264.03639597, 271.96152902,\n",
       "       280.12453736, 288.53256089, 297.19295381, 306.11329107,\n",
       "       315.30137497, 324.76524202, 334.51316993, 344.55368487,\n",
       "       354.89556893, 365.5478678 , 376.51989868, 387.82125841,\n",
       "       399.4618319 , 411.45180076])"
      ]
     },
     "execution_count": 69,
     "metadata": {},
     "output_type": "execute_result"
    }
   ],
   "source": [
    "#membuat yreg\n",
    "yreg = a*np.e**(b*xreg)\n",
    "yreg"
   ]
  },
  {
   "cell_type": "code",
   "execution_count": 70,
   "metadata": {},
   "outputs": [
    {
     "data": {
      "text/plain": [
       "Text(0, 0.5, 'y-banyak orang')"
      ]
     },
     "execution_count": 70,
     "metadata": {},
     "output_type": "execute_result"
    },
    {
     "data": {
      "image/png": "[encoded data removed]",
      "text/plain": [
       "<Figure size 432x288 with 1 Axes>"
      ]
     },
     "metadata": {
      "needs_background": "light"
     },
     "output_type": "display_data"
    }
   ],
   "source": [
    "ax = plt.plot(x,y,'ro')\n",
    "plt.plot(xreg,yreg,'b')\n",
    "plt.grid()\n",
    "plt.xlabel('x-hari ke')\n",
    "plt.ylabel('y-banyak orang')"
   ]
  },
  {
   "cell_type": "markdown",
   "metadata": {},
   "source": [
    "**Selesai**"
   ]
  },
  {
   "cell_type": "markdown",
   "metadata": {},
   "source": [
    "#### Regresi Polinomial"
   ]
  },
  {
   "cell_type": "code",
   "execution_count": 71,
   "metadata": {},
   "outputs": [
    {
     "data": {
      "text/plain": [
       "array([  2.,   2.,   3.,   6.,   8.,   9.,  13.,  17.,  26.,  28.,  44.,\n",
       "        68.,  84.,  94., 123., 159., 206., 267.])"
      ]
     },
     "execution_count": 71,
     "metadata": {},
     "output_type": "execute_result"
    }
   ],
   "source": [
    "y = np.array ((2, 2, 3, 6, 8, 9, 13, 17, 26, 28, 44, 68, 84, 94, 123, 159, 206, 267))\n",
    "y = y.astype('float64')\n",
    "y"
   ]
  },
  {
   "cell_type": "code",
   "execution_count": 72,
   "metadata": {},
   "outputs": [
    {
     "data": {
      "text/plain": [
       "array([ 1.,  2.,  3.,  4.,  5.,  6.,  7.,  8.,  9., 10., 11., 12., 13.,\n",
       "       14., 15., 16., 17., 18.])"
      ]
     },
     "execution_count": 72,
     "metadata": {},
     "output_type": "execute_result"
    }
   ],
   "source": [
    "x = np.array((range(1,1+len(y))))\n",
    "x = x.astype('float64')\n",
    "x"
   ]
  },
  {
   "cell_type": "markdown",
   "metadata": {},
   "source": [
    "**Membentuk regresi polinomial dari matriks**"
   ]
  },
  {
   "attachments": {
    "image.png": {
     "image/png": "[encoded data removed]"
    }
   },
   "cell_type": "markdown",
   "metadata": {},
   "source": [
    "![image.png](attachment:image.png)"
   ]
  },
  {
   "cell_type": "markdown",
   "metadata": {},
   "source": [
    "**Mendefinisikan elemen-elemen matriks kiri**"
   ]
  },
  {
   "cell_type": "code",
   "execution_count": 73,
   "metadata": {},
   "outputs": [
    {
     "data": {
      "text/plain": [
       "array([[1.80000000e+01, 1.71000000e+02, 2.10900000e+03, 2.92410000e+04],\n",
       "       [1.71000000e+02, 2.10900000e+03, 2.92410000e+04, 4.32345000e+05],\n",
       "       [2.10900000e+03, 2.92410000e+04, 4.32345000e+05, 6.65720100e+06],\n",
       "       [2.92410000e+04, 4.32345000e+05, 6.65720100e+06, 1.05409929e+08]])"
      ]
     },
     "execution_count": 73,
     "metadata": {},
     "output_type": "execute_result"
    }
   ],
   "source": [
    "n = len(y)\n",
    "a = x.sum()\n",
    "b = (x**2).sum()\n",
    "c = (x**3).sum()\n",
    "d = (x**4).sum()\n",
    "e = (x**5).sum()\n",
    "f = (x**6).sum()\n",
    "A = np.array(([n, a, b, c],\n",
    "    [a, b, c, d],\n",
    "    [b, c, d, e],\n",
    "    [c, d, e, f]))\n",
    "A"
   ]
  },
  {
   "cell_type": "markdown",
   "metadata": {},
   "source": [
    "**Mendefinisikan elemen-elemen matriks kanan**"
   ]
  },
  {
   "cell_type": "code",
   "execution_count": 74,
   "metadata": {},
   "outputs": [
    {
     "data": {
      "text/plain": [
       "array([[1.159000e+03],\n",
       "       [1.727900e+04],\n",
       "       [2.694450e+05],\n",
       "       [4.317707e+06]])"
      ]
     },
     "execution_count": 74,
     "metadata": {},
     "output_type": "execute_result"
    }
   ],
   "source": [
    "g = y.sum()\n",
    "h = (x*y).sum()\n",
    "i = ((x**2)*y).sum()\n",
    "j = ((x**3)*y).sum()\n",
    "B = np.array(([g],\n",
    "    [h],\n",
    "    [i],\n",
    "    [j]))\n",
    "B"
   ]
  },
  {
   "cell_type": "markdown",
   "metadata": {},
   "source": [
    "**Invers matriks sisi kiri**"
   ]
  },
  {
   "cell_type": "code",
   "execution_count": 75,
   "metadata": {},
   "outputs": [
    {
     "data": {
      "text/plain": [
       "array([[ 1.39052288e+00, -5.60185185e-01,  6.04575163e-02,\n",
       "        -1.90631808e-03],\n",
       "       [-5.60185185e-01,  2.73518423e-01, -3.21350763e-02,\n",
       "         1.06304705e-03],\n",
       "       [ 6.04575163e-02, -3.21350763e-02,  3.97746818e-03,\n",
       "        -1.36165577e-04],\n",
       "       [-1.90631808e-03,  1.06304705e-03, -1.36165577e-04,\n",
       "         4.77773956e-06]])"
      ]
     },
     "execution_count": 75,
     "metadata": {},
     "output_type": "execute_result"
    }
   ],
   "source": [
    "Ainv = np.linalg.inv(A)\n",
    "Ainv"
   ]
  },
  {
   "cell_type": "markdown",
   "metadata": {},
   "source": [
    "**Mencari nilai a0, a1, a2, dst dengan a = (A^-1)B namun di sini variabel a diganti dengan Y**"
   ]
  },
  {
   "cell_type": "code",
   "execution_count": 76,
   "metadata": {},
   "outputs": [
    {
     "name": "stdout",
     "output_type": "stream",
     "text": [
      "[[-8.77124183]\n",
      " [ 8.16027405]\n",
      " [-1.40587375]\n",
      " [ 0.09871288]]\n"
     ]
    }
   ],
   "source": [
    "Y = Ainv.dot(B)\n",
    "print(Y)"
   ]
  },
  {
   "cell_type": "code",
   "execution_count": 77,
   "metadata": {},
   "outputs": [],
   "source": [
    "a0 = Y[0,0]\n",
    "a1 = Y[1,0]\n",
    "a2 = Y[2,0]\n",
    "a3 = Y[3,0]"
   ]
  },
  {
   "cell_type": "markdown",
   "metadata": {},
   "source": [
    "**Hasil persamaan regresi polinomial**"
   ]
  },
  {
   "cell_type": "code",
   "execution_count": 78,
   "metadata": {},
   "outputs": [
    {
     "name": "stdout",
     "output_type": "stream",
     "text": [
      "y = 0.0987x^3 + -1.4059X^2 + 8.1603x + -8.7712\n"
     ]
    }
   ],
   "source": [
    "print('y = {:.4f}x^3 + {:.4f}X^2 + {:.4f}x + {:.4f}'.format(a3, a2, a1, a0))"
   ]
  },
  {
   "cell_type": "code",
   "execution_count": 79,
   "metadata": {},
   "outputs": [
    {
     "data": {
      "text/plain": [
       "array([  2.,   2.,   3.,   6.,   8.,   9.,  13.,  17.,  26.,  28.,  44.,\n",
       "        68.,  84.,  94., 123., 159., 206., 267.])"
      ]
     },
     "execution_count": 79,
     "metadata": {},
     "output_type": "execute_result"
    }
   ],
   "source": [
    "y"
   ]
  },
  {
   "cell_type": "markdown",
   "metadata": {},
   "source": [
    "**Koefisien Korelasi ( r ) dan Derajat Kesesuaian ( R ) r-square**"
   ]
  },
  {
   "cell_type": "code",
   "execution_count": 80,
   "metadata": {},
   "outputs": [
    {
     "name": "stdout",
     "output_type": "stream",
     "text": [
      "r = 0.9978 dan r^2 = 0.9906\n"
     ]
    }
   ],
   "source": [
    "yDt = (y-y.mean())**2\n",
    "yD = (y-a0-a1*x-a2*(x**2)-a3*(x**3))**2\n",
    "r = np.sqrt((yDt.sum()-yD.sum())/yDt.sum())\n",
    "R2 = r**2\n",
    "print('r = {:.4f} dan r^2 = {:.4f}'.format(r,r2))"
   ]
  },
  {
   "cell_type": "markdown",
   "metadata": {},
   "source": [
    "**Plot**"
   ]
  },
  {
   "cell_type": "code",
   "execution_count": 81,
   "metadata": {},
   "outputs": [
    {
     "data": {
      "text/plain": [
       "Text(0, 0.5, 'y')"
      ]
     },
     "execution_count": 81,
     "metadata": {},
     "output_type": "execute_result"
    },
    {
     "data": {
      "image/png": "[encoded data removed]",
      "text/plain": [
       "<Figure size 432x288 with 1 Axes>"
      ]
     },
     "metadata": {
      "needs_background": "light"
     },
     "output_type": "display_data"
    }
   ],
   "source": [
    "xreg = np.array(range(0,int((x[-1]+0.5)*10)))\n",
    "xreg = xreg/10\n",
    "yreg = a0 + a1*xreg + a2*(xreg**2) + a3*(xreg**3)\n",
    "ax = plt.plot(x,y,'ro')\n",
    "plt.plot(xreg,yreg,'b')\n",
    "plt.grid()\n",
    "plt.xlabel('x')\n",
    "plt.ylabel('y')"
   ]
  },
  {
   "cell_type": "markdown",
   "metadata": {},
   "source": [
    "**Perbandingan jika memakai polyfit dengan derajat dinaikkan**"
   ]
  },
  {
   "cell_type": "code",
   "execution_count": 82,
   "metadata": {},
   "outputs": [
    {
     "data": {
      "image/png": "[encoded data removed]",
      "text/plain": [
       "<Figure size 432x288 with 1 Axes>"
      ]
     },
     "metadata": {
      "needs_background": "light"
     },
     "output_type": "display_data"
    }
   ],
   "source": [
    "regpoly = np.poly1d(np.polyfit(x, y, 5))\n",
    "\n",
    "myline = np.linspace(1, len(y), 100)\n",
    "\n",
    "plt.scatter(x, y)\n",
    "plt.plot(myline, regpoly(myline), linewidth=3, color='r')\n",
    "plt.show()"
   ]
  },
  {
   "cell_type": "code",
   "execution_count": 83,
   "metadata": {},
   "outputs": [
    {
     "name": "stdout",
     "output_type": "stream",
     "text": [
      "          5           4          3         2\n",
      "0.001048 x - 0.04318 x + 0.7011 x - 4.633 x + 13.34 x - 8.974\n"
     ]
    }
   ],
   "source": [
    "print (regpoly)"
   ]
  },
  {
   "cell_type": "code",
   "execution_count": 84,
   "metadata": {},
   "outputs": [
    {
     "name": "stdout",
     "output_type": "stream",
     "text": [
      "0.9981192764658658\n"
     ]
    }
   ],
   "source": [
    "print(r2_score(y, regpoly(x)))"
   ]
  },
  {
   "cell_type": "markdown",
   "metadata": {},
   "source": [
    "**Selesai**"
   ]
  },
  {
   "cell_type": "code",
   "execution_count": null,
   "metadata": {},
   "outputs": [],
   "source": []
  }
 ],
 "metadata": {
  "kernelspec": {
   "display_name": "Python 3",
   "language": "python",
   "name": "python3"
  },
  "language_info": {
   "codemirror_mode": {
    "name": "ipython",
    "version": 3
   },
   "file_extension": ".py",
   "mimetype": "text/x-python",
   "name": "python",
   "nbconvert_exporter": "python",
   "pygments_lexer": "ipython3",
   "version": "3.7.6"
  },
  "toc": {
   "base_numbering": 1,
   "nav_menu": {},
   "number_sections": true,
   "sideBar": true,
   "skip_h1_title": false,
   "title_cell": "Table of Contents",
   "title_sidebar": "Contents",
   "toc_cell": false,
   "toc_position": {
    "height": "calc(100% - 180px)",
    "left": "10px",
    "top": "150px",
    "width": "286.957px"
   },
   "toc_section_display": true,
   "toc_window_display": true
  }
 },
 "nbformat": 4,
 "nbformat_minor": 4
}
