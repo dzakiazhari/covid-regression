{
 "cells": [
  {
   "cell_type": "markdown",
   "metadata": {},
   "source": [
    "# Australia"
   ]
  },
  {
   "cell_type": "markdown",
   "metadata": {},
   "source": [
    "## Basic Data (Import and Visualization)"
   ]
  },
  {
   "cell_type": "markdown",
   "metadata": {},
   "source": [
    "### Start (Importing Libraries)"
   ]
  },
  {
   "cell_type": "code",
   "execution_count": 1,
   "metadata": {},
   "outputs": [],
   "source": [
    "import matplotlib.pyplot as plt\n",
    "import numpy as np\n",
    "import pandas as pd\n",
    "import seaborn as sns\n",
    "from sklearn.metrics import r2_score\n",
    "%matplotlib inline"
   ]
  },
  {
   "cell_type": "markdown",
   "metadata": {},
   "source": [
    "### Read data and Plotting"
   ]
  },
  {
   "cell_type": "code",
   "execution_count": 2,
   "metadata": {},
   "outputs": [
    {
     "data": {
      "text/plain": [
       "pandas.core.frame.DataFrame"
      ]
     },
     "execution_count": 2,
     "metadata": {},
     "output_type": "execute_result"
    }
   ],
   "source": [
    "df = pd.read_csv('/Users/abdul/Documents/Academics/Metnum/UTS/dataset/csv/australia.csv')\n",
    "type(df)"
   ]
  },
  {
   "cell_type": "code",
   "execution_count": 3,
   "metadata": {},
   "outputs": [
    {
     "data": {
      "text/plain": [
       "(42, 5)"
      ]
     },
     "execution_count": 3,
     "metadata": {},
     "output_type": "execute_result"
    }
   ],
   "source": [
    "df.shape"
   ]
  },
  {
   "cell_type": "code",
   "execution_count": 4,
   "metadata": {},
   "outputs": [],
   "source": [
    "df.columns\n",
    "df['Date'] = pd.to_datetime(df['Date'])\n",
    "df.set_index('Date', inplace=True)"
   ]
  },
  {
   "cell_type": "code",
   "execution_count": 5,
   "metadata": {},
   "outputs": [
    {
     "data": {
      "text/html": [
       "<div>\n",
       "<style scoped>\n",
       "    .dataframe tbody tr th:only-of-type {\n",
       "        vertical-align: middle;\n",
       "    }\n",
       "\n",
       "    .dataframe tbody tr th {\n",
       "        vertical-align: top;\n",
       "    }\n",
       "\n",
       "    .dataframe thead th {\n",
       "        text-align: right;\n",
       "    }\n",
       "</style>\n",
       "<table border=\"1\" class=\"dataframe\">\n",
       "  <thead>\n",
       "    <tr style=\"text-align: right;\">\n",
       "      <th></th>\n",
       "      <th>Confirmed</th>\n",
       "      <th>New</th>\n",
       "      <th>Deaths</th>\n",
       "      <th>Active</th>\n",
       "    </tr>\n",
       "    <tr>\n",
       "      <th>Date</th>\n",
       "      <th></th>\n",
       "      <th></th>\n",
       "      <th></th>\n",
       "      <th></th>\n",
       "    </tr>\n",
       "  </thead>\n",
       "  <tbody>\n",
       "    <tr>\n",
       "      <th>2020-02-15</th>\n",
       "      <td>15.0</td>\n",
       "      <td>0.0</td>\n",
       "      <td>0.0</td>\n",
       "      <td>5.0</td>\n",
       "    </tr>\n",
       "    <tr>\n",
       "      <th>2020-02-16</th>\n",
       "      <td>15.0</td>\n",
       "      <td>0.0</td>\n",
       "      <td>0.0</td>\n",
       "      <td>5.0</td>\n",
       "    </tr>\n",
       "    <tr>\n",
       "      <th>2020-02-17</th>\n",
       "      <td>15.0</td>\n",
       "      <td>0.0</td>\n",
       "      <td>0.0</td>\n",
       "      <td>5.0</td>\n",
       "    </tr>\n",
       "    <tr>\n",
       "      <th>2020-02-18</th>\n",
       "      <td>15.0</td>\n",
       "      <td>0.0</td>\n",
       "      <td>0.0</td>\n",
       "      <td>5.0</td>\n",
       "    </tr>\n",
       "    <tr>\n",
       "      <th>2020-02-19</th>\n",
       "      <td>19.0</td>\n",
       "      <td>4.0</td>\n",
       "      <td>0.0</td>\n",
       "      <td>5.0</td>\n",
       "    </tr>\n",
       "    <tr>\n",
       "      <th>2020-02-20</th>\n",
       "      <td>15.0</td>\n",
       "      <td>-4.0</td>\n",
       "      <td>0.0</td>\n",
       "      <td>6.0</td>\n",
       "    </tr>\n",
       "    <tr>\n",
       "      <th>2020-02-21</th>\n",
       "      <td>19.0</td>\n",
       "      <td>4.0</td>\n",
       "      <td>0.0</td>\n",
       "      <td>8.0</td>\n",
       "    </tr>\n",
       "    <tr>\n",
       "      <th>2020-02-22</th>\n",
       "      <td>21.0</td>\n",
       "      <td>2.0</td>\n",
       "      <td>0.0</td>\n",
       "      <td>10.0</td>\n",
       "    </tr>\n",
       "    <tr>\n",
       "      <th>2020-02-23</th>\n",
       "      <td>22.0</td>\n",
       "      <td>1.0</td>\n",
       "      <td>0.0</td>\n",
       "      <td>11.0</td>\n",
       "    </tr>\n",
       "    <tr>\n",
       "      <th>2020-02-24</th>\n",
       "      <td>22.0</td>\n",
       "      <td>0.0</td>\n",
       "      <td>0.0</td>\n",
       "      <td>11.0</td>\n",
       "    </tr>\n",
       "    <tr>\n",
       "      <th>2020-02-25</th>\n",
       "      <td>22.0</td>\n",
       "      <td>0.0</td>\n",
       "      <td>0.0</td>\n",
       "      <td>7.0</td>\n",
       "    </tr>\n",
       "    <tr>\n",
       "      <th>2020-02-26</th>\n",
       "      <td>23.0</td>\n",
       "      <td>1.0</td>\n",
       "      <td>0.0</td>\n",
       "      <td>8.0</td>\n",
       "    </tr>\n",
       "    <tr>\n",
       "      <th>2020-02-27</th>\n",
       "      <td>23.0</td>\n",
       "      <td>0.0</td>\n",
       "      <td>0.0</td>\n",
       "      <td>8.0</td>\n",
       "    </tr>\n",
       "    <tr>\n",
       "      <th>2020-02-28</th>\n",
       "      <td>25.0</td>\n",
       "      <td>2.0</td>\n",
       "      <td>0.0</td>\n",
       "      <td>10.0</td>\n",
       "    </tr>\n",
       "    <tr>\n",
       "      <th>2020-02-29</th>\n",
       "      <td>25.0</td>\n",
       "      <td>0.0</td>\n",
       "      <td>0.0</td>\n",
       "      <td>10.0</td>\n",
       "    </tr>\n",
       "    <tr>\n",
       "      <th>2020-03-01</th>\n",
       "      <td>29.0</td>\n",
       "      <td>4.0</td>\n",
       "      <td>1.0</td>\n",
       "      <td>13.0</td>\n",
       "    </tr>\n",
       "    <tr>\n",
       "      <th>2020-03-02</th>\n",
       "      <td>33.0</td>\n",
       "      <td>4.0</td>\n",
       "      <td>1.0</td>\n",
       "      <td>17.0</td>\n",
       "    </tr>\n",
       "    <tr>\n",
       "      <th>2020-03-03</th>\n",
       "      <td>39.0</td>\n",
       "      <td>6.0</td>\n",
       "      <td>1.0</td>\n",
       "      <td>17.0</td>\n",
       "    </tr>\n",
       "    <tr>\n",
       "      <th>2020-03-04</th>\n",
       "      <td>53.0</td>\n",
       "      <td>14.0</td>\n",
       "      <td>2.0</td>\n",
       "      <td>30.0</td>\n",
       "    </tr>\n",
       "    <tr>\n",
       "      <th>2020-03-05</th>\n",
       "      <td>60.0</td>\n",
       "      <td>7.0</td>\n",
       "      <td>2.0</td>\n",
       "      <td>36.0</td>\n",
       "    </tr>\n",
       "    <tr>\n",
       "      <th>2020-03-06</th>\n",
       "      <td>63.0</td>\n",
       "      <td>3.0</td>\n",
       "      <td>2.0</td>\n",
       "      <td>39.0</td>\n",
       "    </tr>\n",
       "    <tr>\n",
       "      <th>2020-03-07</th>\n",
       "      <td>74.0</td>\n",
       "      <td>11.0</td>\n",
       "      <td>3.0</td>\n",
       "      <td>49.0</td>\n",
       "    </tr>\n",
       "    <tr>\n",
       "      <th>2020-03-08</th>\n",
       "      <td>83.0</td>\n",
       "      <td>9.0</td>\n",
       "      <td>3.0</td>\n",
       "      <td>58.0</td>\n",
       "    </tr>\n",
       "    <tr>\n",
       "      <th>2020-03-09</th>\n",
       "      <td>93.0</td>\n",
       "      <td>10.0</td>\n",
       "      <td>3.0</td>\n",
       "      <td>68.0</td>\n",
       "    </tr>\n",
       "    <tr>\n",
       "      <th>2020-03-10</th>\n",
       "      <td>116.0</td>\n",
       "      <td>23.0</td>\n",
       "      <td>3.0</td>\n",
       "      <td>91.0</td>\n",
       "    </tr>\n",
       "    <tr>\n",
       "      <th>2020-03-11</th>\n",
       "      <td>128.0</td>\n",
       "      <td>12.0</td>\n",
       "      <td>3.0</td>\n",
       "      <td>10.0</td>\n",
       "    </tr>\n",
       "    <tr>\n",
       "      <th>2020-03-12</th>\n",
       "      <td>156.0</td>\n",
       "      <td>28.0</td>\n",
       "      <td>3.0</td>\n",
       "      <td>127.0</td>\n",
       "    </tr>\n",
       "    <tr>\n",
       "      <th>2020-03-13</th>\n",
       "      <td>199.0</td>\n",
       "      <td>43.0</td>\n",
       "      <td>3.0</td>\n",
       "      <td>170.0</td>\n",
       "    </tr>\n",
       "    <tr>\n",
       "      <th>2020-03-14</th>\n",
       "      <td>248.0</td>\n",
       "      <td>49.0</td>\n",
       "      <td>3.0</td>\n",
       "      <td>218.0</td>\n",
       "    </tr>\n",
       "    <tr>\n",
       "      <th>2020-03-15</th>\n",
       "      <td>300.0</td>\n",
       "      <td>52.0</td>\n",
       "      <td>5.0</td>\n",
       "      <td>268.0</td>\n",
       "    </tr>\n",
       "    <tr>\n",
       "      <th>2020-03-16</th>\n",
       "      <td>401.0</td>\n",
       "      <td>101.0</td>\n",
       "      <td>5.0</td>\n",
       "      <td>369.0</td>\n",
       "    </tr>\n",
       "    <tr>\n",
       "      <th>2020-03-17</th>\n",
       "      <td>455.0</td>\n",
       "      <td>54.0</td>\n",
       "      <td>5.0</td>\n",
       "      <td>423.0</td>\n",
       "    </tr>\n",
       "    <tr>\n",
       "      <th>2020-03-18</th>\n",
       "      <td>596.0</td>\n",
       "      <td>141.0</td>\n",
       "      <td>6.0</td>\n",
       "      <td>547.0</td>\n",
       "    </tr>\n",
       "    <tr>\n",
       "      <th>2020-03-19</th>\n",
       "      <td>756.0</td>\n",
       "      <td>160.0</td>\n",
       "      <td>7.0</td>\n",
       "      <td>703.0</td>\n",
       "    </tr>\n",
       "    <tr>\n",
       "      <th>2020-03-20</th>\n",
       "      <td>928.0</td>\n",
       "      <td>172.0</td>\n",
       "      <td>7.0</td>\n",
       "      <td>875.0</td>\n",
       "    </tr>\n",
       "    <tr>\n",
       "      <th>2020-03-21</th>\n",
       "      <td>1072.0</td>\n",
       "      <td>144.0</td>\n",
       "      <td>7.0</td>\n",
       "      <td>1019.0</td>\n",
       "    </tr>\n",
       "    <tr>\n",
       "      <th>2020-03-22</th>\n",
       "      <td>1609.0</td>\n",
       "      <td>537.0</td>\n",
       "      <td>7.0</td>\n",
       "      <td>1514.0</td>\n",
       "    </tr>\n",
       "    <tr>\n",
       "      <th>2020-03-23</th>\n",
       "      <td>1887.0</td>\n",
       "      <td>278.0</td>\n",
       "      <td>7.0</td>\n",
       "      <td>1762.0</td>\n",
       "    </tr>\n",
       "    <tr>\n",
       "      <th>2020-03-24</th>\n",
       "      <td>2317.0</td>\n",
       "      <td>430.0</td>\n",
       "      <td>8.0</td>\n",
       "      <td>2191.0</td>\n",
       "    </tr>\n",
       "    <tr>\n",
       "      <th>2020-03-25</th>\n",
       "      <td>2676.0</td>\n",
       "      <td>359.0</td>\n",
       "      <td>11.0</td>\n",
       "      <td>2547.0</td>\n",
       "    </tr>\n",
       "    <tr>\n",
       "      <th>2020-03-26</th>\n",
       "      <td>3050.0</td>\n",
       "      <td>374.0</td>\n",
       "      <td>13.0</td>\n",
       "      <td>2867.0</td>\n",
       "    </tr>\n",
       "    <tr>\n",
       "      <th>NaT</th>\n",
       "      <td>NaN</td>\n",
       "      <td>NaN</td>\n",
       "      <td>NaN</td>\n",
       "      <td>NaN</td>\n",
       "    </tr>\n",
       "  </tbody>\n",
       "</table>\n",
       "</div>"
      ],
      "text/plain": [
       "            Confirmed    New  Deaths  Active\n",
       "Date                                        \n",
       "2020-02-15       15.0    0.0     0.0     5.0\n",
       "2020-02-16       15.0    0.0     0.0     5.0\n",
       "2020-02-17       15.0    0.0     0.0     5.0\n",
       "2020-02-18       15.0    0.0     0.0     5.0\n",
       "2020-02-19       19.0    4.0     0.0     5.0\n",
       "2020-02-20       15.0   -4.0     0.0     6.0\n",
       "2020-02-21       19.0    4.0     0.0     8.0\n",
       "2020-02-22       21.0    2.0     0.0    10.0\n",
       "2020-02-23       22.0    1.0     0.0    11.0\n",
       "2020-02-24       22.0    0.0     0.0    11.0\n",
       "2020-02-25       22.0    0.0     0.0     7.0\n",
       "2020-02-26       23.0    1.0     0.0     8.0\n",
       "2020-02-27       23.0    0.0     0.0     8.0\n",
       "2020-02-28       25.0    2.0     0.0    10.0\n",
       "2020-02-29       25.0    0.0     0.0    10.0\n",
       "2020-03-01       29.0    4.0     1.0    13.0\n",
       "2020-03-02       33.0    4.0     1.0    17.0\n",
       "2020-03-03       39.0    6.0     1.0    17.0\n",
       "2020-03-04       53.0   14.0     2.0    30.0\n",
       "2020-03-05       60.0    7.0     2.0    36.0\n",
       "2020-03-06       63.0    3.0     2.0    39.0\n",
       "2020-03-07       74.0   11.0     3.0    49.0\n",
       "2020-03-08       83.0    9.0     3.0    58.0\n",
       "2020-03-09       93.0   10.0     3.0    68.0\n",
       "2020-03-10      116.0   23.0     3.0    91.0\n",
       "2020-03-11      128.0   12.0     3.0    10.0\n",
       "2020-03-12      156.0   28.0     3.0   127.0\n",
       "2020-03-13      199.0   43.0     3.0   170.0\n",
       "2020-03-14      248.0   49.0     3.0   218.0\n",
       "2020-03-15      300.0   52.0     5.0   268.0\n",
       "2020-03-16      401.0  101.0     5.0   369.0\n",
       "2020-03-17      455.0   54.0     5.0   423.0\n",
       "2020-03-18      596.0  141.0     6.0   547.0\n",
       "2020-03-19      756.0  160.0     7.0   703.0\n",
       "2020-03-20      928.0  172.0     7.0   875.0\n",
       "2020-03-21     1072.0  144.0     7.0  1019.0\n",
       "2020-03-22     1609.0  537.0     7.0  1514.0\n",
       "2020-03-23     1887.0  278.0     7.0  1762.0\n",
       "2020-03-24     2317.0  430.0     8.0  2191.0\n",
       "2020-03-25     2676.0  359.0    11.0  2547.0\n",
       "2020-03-26     3050.0  374.0    13.0  2867.0\n",
       "NaT               NaN    NaN     NaN     NaN"
      ]
     },
     "execution_count": 5,
     "metadata": {},
     "output_type": "execute_result"
    }
   ],
   "source": [
    "df"
   ]
  },
  {
   "cell_type": "code",
   "execution_count": 6,
   "metadata": {},
   "outputs": [
    {
     "data": {
      "text/plain": [
       "<matplotlib.axes._subplots.AxesSubplot at 0x29ba0ef3e88>"
      ]
     },
     "execution_count": 6,
     "metadata": {},
     "output_type": "execute_result"
    },
    {
     "data": {
      "image/png": "[encoded data removed]",
      "text/plain": [
       "<Figure size 1080x288 with 1 Axes>"
      ]
     },
     "metadata": {
      "needs_background": "light"
     },
     "output_type": "display_data"
    }
   ],
   "source": [
    "df.plot.area(y=[\"Active\", \"Confirmed\", \"Deaths\", \"New\"], figsize=(15,4), alpha=0.4, subplots=False, stacked=False)"
   ]
  },
  {
   "cell_type": "code",
   "execution_count": 7,
   "metadata": {},
   "outputs": [
    {
     "data": {
      "image/png": "[encoded data removed]",
      "text/plain": [
       "<Figure size 432x288 with 2 Axes>"
      ]
     },
     "metadata": {
      "needs_background": "light"
     },
     "output_type": "display_data"
    }
   ],
   "source": [
    "fig, ax = plt.subplots()\n",
    "ax2 = ax.twinx()\n",
    "ax.bar(df.index, df[\"Confirmed\"], color=(190/255,190/255,190/255,0.7), label='Confirmed')\n",
    "ax2.plot(df.index, df[\"Active\"], color='green', label='Active')\n",
    "ax.set_xticklabels(df.index)\n",
    "ax.legend(loc='best')\n",
    "ax2.legend(loc='best')\n",
    "ax.xaxis.grid(True)\n",
    "ax.yaxis.grid(True)\n",
    "ax.set_title('Banyak kasus aktif dibanding dengan total kasus')\n",
    "fig.autofmt_xdate()"
   ]
  },
  {
   "cell_type": "code",
   "execution_count": 8,
   "metadata": {},
   "outputs": [
    {
     "data": {
      "image/png": "[encoded data removed]",
      "text/plain": [
       "<Figure size 432x288 with 2 Axes>"
      ]
     },
     "metadata": {
      "needs_background": "light"
     },
     "output_type": "display_data"
    }
   ],
   "source": [
    "fig, ax3 = plt.subplots()\n",
    "ax4 = ax3.twinx()\n",
    "ax3.bar(df.index, df[\"New\"], color=(190/255,190/255,190/255,0.7), label='New')\n",
    "ax4.plot(df.index, df[\"Deaths\"], color='red', label='Deaths')\n",
    "ax3.set_xticklabels(df.index)\n",
    "ax3.legend(loc='best')\n",
    "ax4.legend(loc='best')\n",
    "ax3.xaxis.grid(True)\n",
    "ax4.yaxis.grid(True)\n",
    "ax3.set_title('Banyak kasus kematian dibanding dengan kasus baru')\n",
    "fig.autofmt_xdate()"
   ]
  },
  {
   "cell_type": "markdown",
   "metadata": {},
   "source": [
    "## Regressions"
   ]
  },
  {
   "cell_type": "markdown",
   "metadata": {},
   "source": [
    "### Active "
   ]
  },
  {
   "cell_type": "markdown",
   "metadata": {},
   "source": [
    "- Start: 15-Feb-2020\n",
    "- End: 26-Mar-2020\n",
    "- Range: 41 Days"
   ]
  },
  {
   "cell_type": "markdown",
   "metadata": {},
   "source": [
    "**Data**"
   ]
  },
  {
   "cell_type": "code",
   "execution_count": 9,
   "metadata": {},
   "outputs": [
    {
     "data": {
      "text/plain": [
       "array([   5.,    5.,    5.,    5.,    5.,    6.,    8.,   10.,   11.,\n",
       "         11.,    7.,    8.,    8.,   10.,   10.,   13.,   17.,   17.,\n",
       "         30.,   36.,   39.,   49.,   58.,   68.,   91.,   10.,  127.,\n",
       "        170.,  218.,  268.,  369.,  423.,  547.,  703.,  875., 1019.,\n",
       "       1514., 1762., 2191., 2547., 2867.])"
      ]
     },
     "execution_count": 9,
     "metadata": {},
     "output_type": "execute_result"
    }
   ],
   "source": [
    "y = np.array ((5, 5, 5, 5, 5, 6, 8, 10, 11, 11, 7, 8, 8, 10, 10, 13, 17, 17, 30, 36, 39, 49, 58, 68, 91, 10, 127, 170, 218, 268, 369, 423, 547, 703, 875, 1019, 1514, 1762, 2191, 2547, 2867))\n",
    "y = y.astype('float64')\n",
    "y"
   ]
  },
  {
   "cell_type": "code",
   "execution_count": 10,
   "metadata": {},
   "outputs": [
    {
     "data": {
      "text/plain": [
       "array([ 1.,  2.,  3.,  4.,  5.,  6.,  7.,  8.,  9., 10., 11., 12., 13.,\n",
       "       14., 15., 16., 17., 18., 19., 20., 21., 22., 23., 24., 25., 26.,\n",
       "       27., 28., 29., 30., 31., 32., 33., 34., 35., 36., 37., 38., 39.,\n",
       "       40., 41.])"
      ]
     },
     "execution_count": 10,
     "metadata": {},
     "output_type": "execute_result"
    }
   ],
   "source": [
    "x = np.array((range(1,1+len(y))))\n",
    "x = x.astype('float64')\n",
    "x"
   ]
  },
  {
   "cell_type": "markdown",
   "metadata": {},
   "source": [
    "**Plot**"
   ]
  },
  {
   "cell_type": "code",
   "execution_count": 11,
   "metadata": {},
   "outputs": [
    {
     "data": {
      "text/plain": [
       "Text(0, 0.5, 'y-jumlah orang')"
      ]
     },
     "execution_count": 11,
     "metadata": {},
     "output_type": "execute_result"
    },
    {
     "data": {
      "image/png": "[encoded data removed]",
      "text/plain": [
       "<Figure size 432x288 with 1 Axes>"
      ]
     },
     "metadata": {
      "needs_background": "light"
     },
     "output_type": "display_data"
    }
   ],
   "source": [
    "ax = plt.plot(x,y,'ro')\n",
    "plt.grid()\n",
    "plt.xlabel('x-hari')\n",
    "plt.ylabel('y-jumlah orang')"
   ]
  },
  {
   "cell_type": "markdown",
   "metadata": {},
   "source": [
    "#### Regresi Berpangkat"
   ]
  },
  {
   "cell_type": "markdown",
   "metadata": {},
   "source": [
    "**Data**"
   ]
  },
  {
   "cell_type": "code",
   "execution_count": 12,
   "metadata": {},
   "outputs": [
    {
     "data": {
      "text/plain": [
       "array([   5.,    5.,    5.,    5.,    5.,    6.,    8.,   10.,   11.,\n",
       "         11.,    7.,    8.,    8.,   10.,   10.,   13.,   17.,   17.,\n",
       "         30.,   36.,   39.,   49.,   58.,   68.,   91.,   10.,  127.,\n",
       "        170.,  218.,  268.,  369.,  423.,  547.,  703.,  875., 1019.,\n",
       "       1514., 1762., 2191., 2547., 2867.])"
      ]
     },
     "execution_count": 12,
     "metadata": {},
     "output_type": "execute_result"
    }
   ],
   "source": [
    "y = np.array ((5, 5, 5, 5, 5, 6, 8, 10, 11, 11, 7, 8, 8, 10, 10, 13, 17, 17, 30, 36, 39, 49, 58, 68, 91, 10, 127, 170, 218, 268, 369, 423, 547, 703, 875, 1019, 1514, 1762, 2191, 2547, 2867))\n",
    "y = y.astype('float64')\n",
    "y"
   ]
  },
  {
   "cell_type": "code",
   "execution_count": 13,
   "metadata": {},
   "outputs": [
    {
     "data": {
      "text/plain": [
       "array([ 1.,  2.,  3.,  4.,  5.,  6.,  7.,  8.,  9., 10., 11., 12., 13.,\n",
       "       14., 15., 16., 17., 18., 19., 20., 21., 22., 23., 24., 25., 26.,\n",
       "       27., 28., 29., 30., 31., 32., 33., 34., 35., 36., 37., 38., 39.,\n",
       "       40., 41.])"
      ]
     },
     "execution_count": 13,
     "metadata": {},
     "output_type": "execute_result"
    }
   ],
   "source": [
    "x = np.array((range(1,1+len(y))))\n",
    "x = x.astype('float64')\n",
    "x"
   ]
  },
  {
   "attachments": {
    "image.png": {
     "image/png": "[encoded data removed]"
    }
   },
   "cell_type": "markdown",
   "metadata": {},
   "source": [
    "![image.png](attachment:image.png)"
   ]
  },
  {
   "cell_type": "markdown",
   "metadata": {},
   "source": [
    "**Membuat xreg untuk plotting selanjutnya**"
   ]
  },
  {
   "cell_type": "code",
   "execution_count": 14,
   "metadata": {},
   "outputs": [
    {
     "data": {
      "text/plain": [
       "array([ 1. ,  1.1,  1.2,  1.3,  1.4,  1.5,  1.6,  1.7,  1.8,  1.9,  2. ,\n",
       "        2.1,  2.2,  2.3,  2.4,  2.5,  2.6,  2.7,  2.8,  2.9,  3. ,  3.1,\n",
       "        3.2,  3.3,  3.4,  3.5,  3.6,  3.7,  3.8,  3.9,  4. ,  4.1,  4.2,\n",
       "        4.3,  4.4,  4.5,  4.6,  4.7,  4.8,  4.9,  5. ,  5.1,  5.2,  5.3,\n",
       "        5.4,  5.5,  5.6,  5.7,  5.8,  5.9,  6. ,  6.1,  6.2,  6.3,  6.4,\n",
       "        6.5,  6.6,  6.7,  6.8,  6.9,  7. ,  7.1,  7.2,  7.3,  7.4,  7.5,\n",
       "        7.6,  7.7,  7.8,  7.9,  8. ,  8.1,  8.2,  8.3,  8.4,  8.5,  8.6,\n",
       "        8.7,  8.8,  8.9,  9. ,  9.1,  9.2,  9.3,  9.4,  9.5,  9.6,  9.7,\n",
       "        9.8,  9.9, 10. , 10.1, 10.2, 10.3, 10.4, 10.5, 10.6, 10.7, 10.8,\n",
       "       10.9, 11. , 11.1, 11.2, 11.3, 11.4, 11.5, 11.6, 11.7, 11.8, 11.9,\n",
       "       12. , 12.1, 12.2, 12.3, 12.4, 12.5, 12.6, 12.7, 12.8, 12.9, 13. ,\n",
       "       13.1, 13.2, 13.3, 13.4, 13.5, 13.6, 13.7, 13.8, 13.9, 14. , 14.1,\n",
       "       14.2, 14.3, 14.4, 14.5, 14.6, 14.7, 14.8, 14.9, 15. , 15.1, 15.2,\n",
       "       15.3, 15.4, 15.5, 15.6, 15.7, 15.8, 15.9, 16. , 16.1, 16.2, 16.3,\n",
       "       16.4, 16.5, 16.6, 16.7, 16.8, 16.9, 17. , 17.1, 17.2, 17.3, 17.4,\n",
       "       17.5, 17.6, 17.7, 17.8, 17.9, 18. , 18.1, 18.2, 18.3, 18.4, 18.5,\n",
       "       18.6, 18.7, 18.8, 18.9, 19. , 19.1, 19.2, 19.3, 19.4, 19.5, 19.6,\n",
       "       19.7, 19.8, 19.9, 20. , 20.1, 20.2, 20.3, 20.4, 20.5, 20.6, 20.7,\n",
       "       20.8, 20.9, 21. , 21.1, 21.2, 21.3, 21.4, 21.5, 21.6, 21.7, 21.8,\n",
       "       21.9, 22. , 22.1, 22.2, 22.3, 22.4, 22.5, 22.6, 22.7, 22.8, 22.9,\n",
       "       23. , 23.1, 23.2, 23.3, 23.4, 23.5, 23.6, 23.7, 23.8, 23.9, 24. ,\n",
       "       24.1, 24.2, 24.3, 24.4, 24.5, 24.6, 24.7, 24.8, 24.9, 25. , 25.1,\n",
       "       25.2, 25.3, 25.4, 25.5, 25.6, 25.7, 25.8, 25.9, 26. , 26.1, 26.2,\n",
       "       26.3, 26.4, 26.5, 26.6, 26.7, 26.8, 26.9, 27. , 27.1, 27.2, 27.3,\n",
       "       27.4, 27.5, 27.6, 27.7, 27.8, 27.9, 28. , 28.1, 28.2, 28.3, 28.4,\n",
       "       28.5, 28.6, 28.7, 28.8, 28.9, 29. , 29.1, 29.2, 29.3, 29.4, 29.5,\n",
       "       29.6, 29.7, 29.8, 29.9, 30. , 30.1, 30.2, 30.3, 30.4, 30.5, 30.6,\n",
       "       30.7, 30.8, 30.9, 31. , 31.1, 31.2, 31.3, 31.4, 31.5, 31.6, 31.7,\n",
       "       31.8, 31.9, 32. , 32.1, 32.2, 32.3, 32.4, 32.5, 32.6, 32.7, 32.8,\n",
       "       32.9, 33. , 33.1, 33.2, 33.3, 33.4, 33.5, 33.6, 33.7, 33.8, 33.9,\n",
       "       34. , 34.1, 34.2, 34.3, 34.4, 34.5, 34.6, 34.7, 34.8, 34.9, 35. ,\n",
       "       35.1, 35.2, 35.3, 35.4, 35.5, 35.6, 35.7, 35.8, 35.9, 36. , 36.1,\n",
       "       36.2, 36.3, 36.4, 36.5, 36.6, 36.7, 36.8, 36.9, 37. , 37.1, 37.2,\n",
       "       37.3, 37.4, 37.5, 37.6, 37.7, 37.8, 37.9, 38. , 38.1, 38.2, 38.3,\n",
       "       38.4, 38.5, 38.6, 38.7, 38.8, 38.9, 39. , 39.1, 39.2, 39.3, 39.4,\n",
       "       39.5, 39.6, 39.7, 39.8, 39.9, 40. , 40.1, 40.2, 40.3, 40.4, 40.5,\n",
       "       40.6, 40.7, 40.8, 40.9, 41. , 41.1, 41.2, 41.3, 41.4, 41.5, 41.6,\n",
       "       41.7, 41.8, 41.9])"
      ]
     },
     "execution_count": 14,
     "metadata": {},
     "output_type": "execute_result"
    }
   ],
   "source": [
    "#membuat xreg\n",
    "xreg = np.array(range(10,int((x[-1]+1)*10)))\n",
    "xreg = xreg/10 #memperhalus bentuk garis\n",
    "xreg = xreg.astype('float64')\n",
    "xreg"
   ]
  },
  {
   "cell_type": "markdown",
   "metadata": {},
   "source": [
    "**Regresi berpangkat**"
   ]
  },
  {
   "attachments": {
    "image.png": {
     "image/png": "[encoded data removed]"
    }
   },
   "cell_type": "markdown",
   "metadata": {},
   "source": [
    "![image.png](attachment:image.png)"
   ]
  },
  {
   "attachments": {
    "image.png": {
     "image/png": "[encoded data removed]"
    }
   },
   "cell_type": "markdown",
   "metadata": {},
   "source": [
    "![image.png](attachment:image.png)"
   ]
  },
  {
   "attachments": {
    "image.png": {
     "image/png": "[encoded data removed]"
    }
   },
   "cell_type": "markdown",
   "metadata": {},
   "source": [
    "![image.png](attachment:image.png)"
   ]
  },
  {
   "cell_type": "code",
   "execution_count": 15,
   "metadata": {},
   "outputs": [],
   "source": [
    "p = np.log10(y)\n",
    "q = np.log10(x)"
   ]
  },
  {
   "cell_type": "markdown",
   "metadata": {},
   "source": [
    "**Hitung regresi linear**"
   ]
  },
  {
   "cell_type": "code",
   "execution_count": 16,
   "metadata": {},
   "outputs": [],
   "source": [
    "n = len(y)\n",
    "pq = p*q\n",
    "qq = q**2\n",
    "B = (n*pq.sum() - q.sum()*p.sum())/(n*qq.sum() - (q.sum())**2)\n",
    "A = p.mean()-B*q.mean()"
   ]
  },
  {
   "cell_type": "markdown",
   "metadata": {},
   "source": [
    "**Hasil regresi linear**"
   ]
  },
  {
   "cell_type": "code",
   "execution_count": 17,
   "metadata": {},
   "outputs": [
    {
     "name": "stdout",
     "output_type": "stream",
     "text": [
      "p = 1.9380q -0.5894\n"
     ]
    }
   ],
   "source": [
    "if A>0 :\n",
    "    print (\"p = {:.4f}q + {:.4f}\". format(B,A))\n",
    "else :\n",
    "    print (\"p = {:.4f}q {:.4f}\". format(B,A))"
   ]
  },
  {
   "cell_type": "markdown",
   "metadata": {},
   "source": [
    "**Kembalikan ke bentuk pangkat**"
   ]
  },
  {
   "cell_type": "code",
   "execution_count": 18,
   "metadata": {},
   "outputs": [
    {
     "name": "stdout",
     "output_type": "stream",
     "text": [
      "y = 0.2574x^(1.9380)\n"
     ]
    }
   ],
   "source": [
    "a = 10**A #A=log(a)\n",
    "b = B\n",
    "print (\"y = {:.4f}x^({:.4f})\".format(a,b))"
   ]
  },
  {
   "cell_type": "markdown",
   "metadata": {},
   "source": [
    "**Koefisien Korelasi ( r ) dan Derajat Kesesuaian ( R ) r-square**"
   ]
  },
  {
   "cell_type": "code",
   "execution_count": 19,
   "metadata": {},
   "outputs": [
    {
     "name": "stdout",
     "output_type": "stream",
     "text": [
      "r = 0.7981 dan r^2 = 0.6369\n"
     ]
    }
   ],
   "source": [
    "yDt = ((p - p.mean())**2).sum()\n",
    "yD = ((p - (q*B) - A)**2).sum()\n",
    "r = np.sqrt((yDt-yD)/yDt)\n",
    "r2 = r**2\n",
    "print('r = {:.4f} dan r^2 = {:.4f}'.format(r,r2))"
   ]
  },
  {
   "cell_type": "markdown",
   "metadata": {},
   "source": [
    "**Plot**"
   ]
  },
  {
   "cell_type": "code",
   "execution_count": 20,
   "metadata": {},
   "outputs": [
    {
     "data": {
      "text/plain": [
       "array([2.57403806e-01, 3.09623950e-01, 3.66496041e-01, 4.27995023e-01,\n",
       "       4.94097970e-01, 5.64783760e-01, 6.40032820e-01, 7.19826918e-01,\n",
       "       8.04148995e-01, 8.92983026e-01, 9.86313909e-01, 1.08412736e+00,\n",
       "       1.18640984e+00, 1.29314847e+00, 1.40433099e+00, 1.51994569e+00,\n",
       "       1.63998136e+00, 1.76442726e+00, 1.89327309e+00, 2.02650893e+00,\n",
       "       2.16412525e+00, 2.30611285e+00, 2.45246285e+00, 2.60316667e+00,\n",
       "       2.75821602e+00, 2.91760285e+00, 3.08131938e+00, 3.24935807e+00,\n",
       "       3.42171156e+00, 3.59837273e+00, 3.77933466e+00, 3.96459059e+00,\n",
       "       4.15413396e+00, 4.34795837e+00, 4.54605758e+00, 4.74842550e+00,\n",
       "       4.95505619e+00, 5.16594384e+00, 5.38108278e+00, 5.60046747e+00,\n",
       "       5.82409248e+00, 6.05195251e+00, 6.28404236e+00, 6.52035694e+00,\n",
       "       6.76089127e+00, 7.00564046e+00, 7.25459972e+00, 7.50776434e+00,\n",
       "       7.76512972e+00, 8.02669134e+00, 8.29244473e+00, 8.56238555e+00,\n",
       "       8.83650950e+00, 9.11481237e+00, 9.39729002e+00, 9.68393837e+00,\n",
       "       9.97475341e+00, 1.02697312e+01, 1.05688679e+01, 1.08721596e+01,\n",
       "       1.11796026e+01, 1.14911933e+01, 1.18069278e+01, 1.21268028e+01,\n",
       "       1.24508145e+01, 1.27789596e+01, 1.31112346e+01, 1.34476361e+01,\n",
       "       1.37881608e+01, 1.41328053e+01, 1.44815665e+01, 1.48344411e+01,\n",
       "       1.51914259e+01, 1.55525178e+01, 1.59177137e+01, 1.62870107e+01,\n",
       "       1.66604056e+01, 1.70378955e+01, 1.74194775e+01, 1.78051487e+01,\n",
       "       1.81949062e+01, 1.85887472e+01, 1.89866689e+01, 1.93886685e+01,\n",
       "       1.97947433e+01, 2.02048905e+01, 2.06191076e+01, 2.10373919e+01,\n",
       "       2.14597408e+01, 2.18861516e+01, 2.23166219e+01, 2.27511491e+01,\n",
       "       2.31897306e+01, 2.36323641e+01, 2.40790471e+01, 2.45297772e+01,\n",
       "       2.49845518e+01, 2.54433688e+01, 2.59062257e+01, 2.63731201e+01,\n",
       "       2.68440499e+01, 2.73190127e+01, 2.77980062e+01, 2.82810282e+01,\n",
       "       2.87680765e+01, 2.92591489e+01, 2.97542432e+01, 3.02533572e+01,\n",
       "       3.07564889e+01, 3.12636360e+01, 3.17747965e+01, 3.22899684e+01,\n",
       "       3.28091495e+01, 3.33323378e+01, 3.38595313e+01, 3.43907279e+01,\n",
       "       3.49259257e+01, 3.54651227e+01, 3.60083170e+01, 3.65555065e+01,\n",
       "       3.71066894e+01, 3.76618638e+01, 3.82210277e+01, 3.87841793e+01,\n",
       "       3.93513168e+01, 3.99224382e+01, 4.04975417e+01, 4.10766255e+01,\n",
       "       4.16596879e+01, 4.22467269e+01, 4.28377409e+01, 4.34327281e+01,\n",
       "       4.40316866e+01, 4.46346148e+01, 4.52415110e+01, 4.58523734e+01,\n",
       "       4.64672004e+01, 4.70859901e+01, 4.77087411e+01, 4.83354515e+01,\n",
       "       4.89661198e+01, 4.96007443e+01, 5.02393234e+01, 5.08818555e+01,\n",
       "       5.15283389e+01, 5.21787720e+01, 5.28331533e+01, 5.34914813e+01,\n",
       "       5.41537543e+01, 5.48199707e+01, 5.54901291e+01, 5.61642280e+01,\n",
       "       5.68422657e+01, 5.75242408e+01, 5.82101517e+01, 5.88999971e+01,\n",
       "       5.95937753e+01, 6.02914850e+01, 6.09931247e+01, 6.16986929e+01,\n",
       "       6.24081881e+01, 6.31216090e+01, 6.38389541e+01, 6.45602219e+01,\n",
       "       6.52854112e+01, 6.60145204e+01, 6.67475482e+01, 6.74844932e+01,\n",
       "       6.82253541e+01, 6.89701294e+01, 6.97188178e+01, 7.04714179e+01,\n",
       "       7.12279285e+01, 7.19883481e+01, 7.27526754e+01, 7.35209092e+01,\n",
       "       7.42930481e+01, 7.50690908e+01, 7.58490360e+01, 7.66328825e+01,\n",
       "       7.74206289e+01, 7.82122739e+01, 7.90078163e+01, 7.98072549e+01,\n",
       "       8.06105883e+01, 8.14178153e+01, 8.22289348e+01, 8.30439454e+01,\n",
       "       8.38628459e+01, 8.46856352e+01, 8.55123119e+01, 8.63428749e+01,\n",
       "       8.71773230e+01, 8.80156550e+01, 8.88578697e+01, 8.97039659e+01,\n",
       "       9.05539424e+01, 9.14077981e+01, 9.22655318e+01, 9.31271424e+01,\n",
       "       9.39926286e+01, 9.48619895e+01, 9.57352237e+01, 9.66123302e+01,\n",
       "       9.74933078e+01, 9.83781555e+01, 9.92668720e+01, 1.00159456e+02,\n",
       "       1.01055907e+02, 1.01956224e+02, 1.02860405e+02, 1.03768450e+02,\n",
       "       1.04680356e+02, 1.05596124e+02, 1.06515753e+02, 1.07439240e+02,\n",
       "       1.08366585e+02, 1.09297787e+02, 1.10232845e+02, 1.11171758e+02,\n",
       "       1.12114525e+02, 1.13061145e+02, 1.14011616e+02, 1.14965938e+02,\n",
       "       1.15924109e+02, 1.16886130e+02, 1.17851998e+02, 1.18821712e+02,\n",
       "       1.19795272e+02, 1.20772677e+02, 1.21753925e+02, 1.22739016e+02,\n",
       "       1.23727949e+02, 1.24720722e+02, 1.25717335e+02, 1.26717786e+02,\n",
       "       1.27722075e+02, 1.28730201e+02, 1.29742163e+02, 1.30757960e+02,\n",
       "       1.31777590e+02, 1.32801053e+02, 1.33828348e+02, 1.34859475e+02,\n",
       "       1.35894431e+02, 1.36933216e+02, 1.37975830e+02, 1.39022271e+02,\n",
       "       1.40072538e+02, 1.41126631e+02, 1.42184548e+02, 1.43246289e+02,\n",
       "       1.44311852e+02, 1.45381238e+02, 1.46454444e+02, 1.47531470e+02,\n",
       "       1.48612315e+02, 1.49696978e+02, 1.50785459e+02, 1.51877756e+02,\n",
       "       1.52973869e+02, 1.54073796e+02, 1.55177537e+02, 1.56285091e+02,\n",
       "       1.57396457e+02, 1.58511634e+02, 1.59630622e+02, 1.60753418e+02,\n",
       "       1.61880024e+02, 1.63010437e+02, 1.64144658e+02, 1.65282684e+02,\n",
       "       1.66424516e+02, 1.67570151e+02, 1.68719591e+02, 1.69872833e+02,\n",
       "       1.71029877e+02, 1.72190723e+02, 1.73355368e+02, 1.74523813e+02,\n",
       "       1.75696056e+02, 1.76872098e+02, 1.78051936e+02, 1.79235570e+02,\n",
       "       1.80423000e+02, 1.81614224e+02, 1.82809243e+02, 1.84008054e+02,\n",
       "       1.85210657e+02, 1.86417052e+02, 1.87627237e+02, 1.88841212e+02,\n",
       "       1.90058977e+02, 1.91280529e+02, 1.92505869e+02, 1.93734996e+02,\n",
       "       1.94967908e+02, 1.96204606e+02, 1.97445088e+02, 1.98689354e+02,\n",
       "       1.99937403e+02, 2.01189234e+02, 2.02444846e+02, 2.03704239e+02,\n",
       "       2.04967412e+02, 2.06234364e+02, 2.07505094e+02, 2.08779602e+02,\n",
       "       2.10057887e+02, 2.11339948e+02, 2.12625784e+02, 2.13915395e+02,\n",
       "       2.15208780e+02, 2.16505939e+02, 2.17806869e+02, 2.19111572e+02,\n",
       "       2.20420046e+02, 2.21732290e+02, 2.23048303e+02, 2.24368086e+02,\n",
       "       2.25691637e+02, 2.27018955e+02, 2.28350040e+02, 2.29684891e+02,\n",
       "       2.31023508e+02, 2.32365889e+02, 2.33712034e+02, 2.35061943e+02,\n",
       "       2.36415614e+02, 2.37773047e+02, 2.39134241e+02, 2.40499196e+02,\n",
       "       2.41867911e+02, 2.43240385e+02, 2.44616617e+02, 2.45996607e+02,\n",
       "       2.47380354e+02, 2.48767858e+02, 2.50159118e+02, 2.51554132e+02,\n",
       "       2.52952901e+02, 2.54355424e+02, 2.55761700e+02, 2.57171729e+02,\n",
       "       2.58585509e+02, 2.60003040e+02, 2.61424322e+02, 2.62849354e+02,\n",
       "       2.64278135e+02, 2.65710664e+02, 2.67146942e+02, 2.68586966e+02,\n",
       "       2.70030737e+02, 2.71478254e+02, 2.72929517e+02, 2.74384524e+02,\n",
       "       2.75843275e+02, 2.77305770e+02, 2.78772007e+02, 2.80241986e+02,\n",
       "       2.81715707e+02, 2.83193169e+02, 2.84674371e+02, 2.86159313e+02,\n",
       "       2.87647993e+02, 2.89140412e+02, 2.90636569e+02, 2.92136463e+02,\n",
       "       2.93640094e+02, 2.95147460e+02, 2.96658562e+02, 2.98173398e+02,\n",
       "       2.99691969e+02, 3.01214273e+02, 3.02740310e+02, 3.04270079e+02,\n",
       "       3.05803580e+02, 3.07340812e+02, 3.08881774e+02, 3.10426467e+02,\n",
       "       3.11974888e+02, 3.13527038e+02, 3.15082917e+02, 3.16642523e+02,\n",
       "       3.18205855e+02, 3.19772914e+02, 3.21343699e+02, 3.22918209e+02,\n",
       "       3.24496444e+02, 3.26078403e+02, 3.27664085e+02, 3.29253489e+02,\n",
       "       3.30846617e+02, 3.32443465e+02, 3.34044035e+02, 3.35648326e+02,\n",
       "       3.37256336e+02, 3.38868066e+02, 3.40483515e+02, 3.42102682e+02,\n",
       "       3.43725567e+02, 3.45352168e+02, 3.46982487e+02, 3.48616521e+02,\n",
       "       3.50254271e+02, 3.51895736e+02, 3.53540915e+02, 3.55189808e+02,\n",
       "       3.56842415e+02, 3.58498734e+02])"
      ]
     },
     "execution_count": 20,
     "metadata": {},
     "output_type": "execute_result"
    }
   ],
   "source": [
    "#membuat yreg\n",
    "yreg = a*(xreg**b)\n",
    "yreg\n",
    "    "
   ]
  },
  {
   "cell_type": "code",
   "execution_count": 21,
   "metadata": {},
   "outputs": [
    {
     "data": {
      "text/plain": [
       "Text(0, 0.5, 'y-banyak orang')"
      ]
     },
     "execution_count": 21,
     "metadata": {},
     "output_type": "execute_result"
    },
    {
     "data": {
      "image/png": "[encoded data removed]",
      "text/plain": [
       "<Figure size 432x288 with 1 Axes>"
      ]
     },
     "metadata": {
      "needs_background": "light"
     },
     "output_type": "display_data"
    }
   ],
   "source": [
    "ax = plt.plot(x,y,'ro')\n",
    "plt.plot(xreg,yreg,'g')\n",
    "plt.grid()\n",
    "plt.xlabel('x-hari ke')\n",
    "plt.ylabel('y-banyak orang')"
   ]
  },
  {
   "cell_type": "markdown",
   "metadata": {},
   "source": [
    "#### Regresi Eksponensial"
   ]
  },
  {
   "attachments": {
    "image.png": {
     "image/png": "[encoded data removed]"
    }
   },
   "cell_type": "markdown",
   "metadata": {},
   "source": [
    "![image.png](attachment:image.png)"
   ]
  },
  {
   "attachments": {
    "image.png": {
     "image/png": "[encoded data removed]"
    }
   },
   "cell_type": "markdown",
   "metadata": {},
   "source": [
    "![image.png](attachment:image.png)"
   ]
  },
  {
   "attachments": {
    "image.png": {
     "image/png": "[encoded data removed]"
    }
   },
   "cell_type": "markdown",
   "metadata": {},
   "source": [
    "![image.png](attachment:image.png)"
   ]
  },
  {
   "cell_type": "markdown",
   "metadata": {},
   "source": [
    "**Linearisasi**"
   ]
  },
  {
   "cell_type": "code",
   "execution_count": 22,
   "metadata": {},
   "outputs": [
    {
     "data": {
      "text/plain": [
       "array([   5.,    5.,    5.,    5.,    5.,    6.,    8.,   10.,   11.,\n",
       "         11.,    7.,    8.,    8.,   10.,   10.,   13.,   17.,   17.,\n",
       "         30.,   36.,   39.,   49.,   58.,   68.,   91.,   10.,  127.,\n",
       "        170.,  218.,  268.,  369.,  423.,  547.,  703.,  875., 1019.,\n",
       "       1514., 1762., 2191., 2547., 2867.])"
      ]
     },
     "execution_count": 22,
     "metadata": {},
     "output_type": "execute_result"
    }
   ],
   "source": [
    "y = np.array ((5, 5, 5, 5, 5, 6, 8, 10, 11, 11, 7, 8, 8, 10, 10, 13, 17, 17, 30, 36, 39, 49, 58, 68, 91, 10, 127, 170, 218, 268, 369, 423, 547, 703, 875, 1019, 1514, 1762, 2191, 2547, 2867))\n",
    "y = y.astype('float64')\n",
    "y"
   ]
  },
  {
   "cell_type": "code",
   "execution_count": 23,
   "metadata": {},
   "outputs": [
    {
     "data": {
      "text/plain": [
       "array([ 1.,  2.,  3.,  4.,  5.,  6.,  7.,  8.,  9., 10., 11., 12., 13.,\n",
       "       14., 15., 16., 17., 18., 19., 20., 21., 22., 23., 24., 25., 26.,\n",
       "       27., 28., 29., 30., 31., 32., 33., 34., 35., 36., 37., 38., 39.,\n",
       "       40., 41.])"
      ]
     },
     "execution_count": 23,
     "metadata": {},
     "output_type": "execute_result"
    }
   ],
   "source": [
    "x = np.array((range(1,1+len(y))))\n",
    "x = x.astype('float64')\n",
    "x"
   ]
  },
  {
   "cell_type": "code",
   "execution_count": 24,
   "metadata": {},
   "outputs": [],
   "source": [
    "p = np.log(y)\n",
    "q = x"
   ]
  },
  {
   "cell_type": "markdown",
   "metadata": {},
   "source": [
    "**Hitung regresi linear**"
   ]
  },
  {
   "attachments": {
    "image.png": {
     "image/png": "[encoded data removed]"
    }
   },
   "cell_type": "markdown",
   "metadata": {},
   "source": [
    "![image.png](attachment:image.png)"
   ]
  },
  {
   "cell_type": "code",
   "execution_count": 25,
   "metadata": {},
   "outputs": [],
   "source": [
    "n = len(y)\n",
    "pq = p*q\n",
    "qq = q**2\n",
    "B = (n*pq.sum() - q.sum()*p.sum())/(n*qq.sum() - (q.sum())**2)\n",
    "A = p.mean()-B*q.mean()"
   ]
  },
  {
   "cell_type": "markdown",
   "metadata": {},
   "source": [
    "**Hasil persamaan linear**"
   ]
  },
  {
   "cell_type": "code",
   "execution_count": 26,
   "metadata": {},
   "outputs": [
    {
     "name": "stdout",
     "output_type": "stream",
     "text": [
      "p = 0.1699q + 0.4658\n"
     ]
    }
   ],
   "source": [
    "if A>0 :\n",
    "    print (\"p = {:.4f}q + {:.4f}\". format(B,A))\n",
    "else :\n",
    "    print (\"p = {:.4f}q {:.4f}\". format(B,A))"
   ]
  },
  {
   "cell_type": "markdown",
   "metadata": {},
   "source": [
    "**Hitung kembali dalam bentuk bilangan berpangkat**"
   ]
  },
  {
   "cell_type": "code",
   "execution_count": 27,
   "metadata": {},
   "outputs": [],
   "source": [
    "a = np.e**A\n",
    "b = B"
   ]
  },
  {
   "cell_type": "code",
   "execution_count": 28,
   "metadata": {},
   "outputs": [
    {
     "name": "stdout",
     "output_type": "stream",
     "text": [
      "y = 1.5932x^(0.1699)\n"
     ]
    }
   ],
   "source": [
    "print (\"y = {:.4f}x^({:.4f})\".format(a,b))"
   ]
  },
  {
   "cell_type": "markdown",
   "metadata": {},
   "source": [
    "**Koefisien Korelasi ( r ) dan Derajat Kesesuaian ( R ) r-square**"
   ]
  },
  {
   "cell_type": "code",
   "execution_count": 29,
   "metadata": {},
   "outputs": [
    {
     "name": "stdout",
     "output_type": "stream",
     "text": [
      "r = 0.9574 dan r^2 = 0.9167\n"
     ]
    }
   ],
   "source": [
    "yDt = ((p - p.mean())**2).sum()\n",
    "yD = ((p - (q*B) - A)**2).sum()\n",
    "r = np.sqrt((yDt-yD)/yDt)\n",
    "r2 = r**2\n",
    "print('r = {:.4f} dan r^2 = {:.4f}'.format(r,r2))"
   ]
  },
  {
   "cell_type": "markdown",
   "metadata": {},
   "source": [
    "**Plot data dan regresinya**"
   ]
  },
  {
   "cell_type": "code",
   "execution_count": 30,
   "metadata": {},
   "outputs": [
    {
     "data": {
      "text/plain": [
       "array([ 0. ,  0.1,  0.2,  0.3,  0.4,  0.5,  0.6,  0.7,  0.8,  0.9,  1. ,\n",
       "        1.1,  1.2,  1.3,  1.4,  1.5,  1.6,  1.7,  1.8,  1.9,  2. ,  2.1,\n",
       "        2.2,  2.3,  2.4,  2.5,  2.6,  2.7,  2.8,  2.9,  3. ,  3.1,  3.2,\n",
       "        3.3,  3.4,  3.5,  3.6,  3.7,  3.8,  3.9,  4. ,  4.1,  4.2,  4.3,\n",
       "        4.4,  4.5,  4.6,  4.7,  4.8,  4.9,  5. ,  5.1,  5.2,  5.3,  5.4,\n",
       "        5.5,  5.6,  5.7,  5.8,  5.9,  6. ,  6.1,  6.2,  6.3,  6.4,  6.5,\n",
       "        6.6,  6.7,  6.8,  6.9,  7. ,  7.1,  7.2,  7.3,  7.4,  7.5,  7.6,\n",
       "        7.7,  7.8,  7.9,  8. ,  8.1,  8.2,  8.3,  8.4,  8.5,  8.6,  8.7,\n",
       "        8.8,  8.9,  9. ,  9.1,  9.2,  9.3,  9.4,  9.5,  9.6,  9.7,  9.8,\n",
       "        9.9, 10. , 10.1, 10.2, 10.3, 10.4, 10.5, 10.6, 10.7, 10.8, 10.9,\n",
       "       11. , 11.1, 11.2, 11.3, 11.4, 11.5, 11.6, 11.7, 11.8, 11.9, 12. ,\n",
       "       12.1, 12.2, 12.3, 12.4, 12.5, 12.6, 12.7, 12.8, 12.9, 13. , 13.1,\n",
       "       13.2, 13.3, 13.4, 13.5, 13.6, 13.7, 13.8, 13.9, 14. , 14.1, 14.2,\n",
       "       14.3, 14.4, 14.5, 14.6, 14.7, 14.8, 14.9, 15. , 15.1, 15.2, 15.3,\n",
       "       15.4, 15.5, 15.6, 15.7, 15.8, 15.9, 16. , 16.1, 16.2, 16.3, 16.4,\n",
       "       16.5, 16.6, 16.7, 16.8, 16.9, 17. , 17.1, 17.2, 17.3, 17.4, 17.5,\n",
       "       17.6, 17.7, 17.8, 17.9, 18. , 18.1, 18.2, 18.3, 18.4, 18.5, 18.6,\n",
       "       18.7, 18.8, 18.9, 19. , 19.1, 19.2, 19.3, 19.4, 19.5, 19.6, 19.7,\n",
       "       19.8, 19.9, 20. , 20.1, 20.2, 20.3, 20.4, 20.5, 20.6, 20.7, 20.8,\n",
       "       20.9, 21. , 21.1, 21.2, 21.3, 21.4, 21.5, 21.6, 21.7, 21.8, 21.9,\n",
       "       22. , 22.1, 22.2, 22.3, 22.4, 22.5, 22.6, 22.7, 22.8, 22.9, 23. ,\n",
       "       23.1, 23.2, 23.3, 23.4, 23.5, 23.6, 23.7, 23.8, 23.9, 24. , 24.1,\n",
       "       24.2, 24.3, 24.4, 24.5, 24.6, 24.7, 24.8, 24.9, 25. , 25.1, 25.2,\n",
       "       25.3, 25.4, 25.5, 25.6, 25.7, 25.8, 25.9, 26. , 26.1, 26.2, 26.3,\n",
       "       26.4, 26.5, 26.6, 26.7, 26.8, 26.9, 27. , 27.1, 27.2, 27.3, 27.4,\n",
       "       27.5, 27.6, 27.7, 27.8, 27.9, 28. , 28.1, 28.2, 28.3, 28.4, 28.5,\n",
       "       28.6, 28.7, 28.8, 28.9, 29. , 29.1, 29.2, 29.3, 29.4, 29.5, 29.6,\n",
       "       29.7, 29.8, 29.9, 30. , 30.1, 30.2, 30.3, 30.4, 30.5, 30.6, 30.7,\n",
       "       30.8, 30.9, 31. , 31.1, 31.2, 31.3, 31.4, 31.5, 31.6, 31.7, 31.8,\n",
       "       31.9, 32. , 32.1, 32.2, 32.3, 32.4, 32.5, 32.6, 32.7, 32.8, 32.9,\n",
       "       33. , 33.1, 33.2, 33.3, 33.4, 33.5, 33.6, 33.7, 33.8, 33.9, 34. ,\n",
       "       34.1, 34.2, 34.3, 34.4, 34.5, 34.6, 34.7, 34.8, 34.9, 35. , 35.1,\n",
       "       35.2, 35.3, 35.4, 35.5, 35.6, 35.7, 35.8, 35.9, 36. , 36.1, 36.2,\n",
       "       36.3, 36.4, 36.5, 36.6, 36.7, 36.8, 36.9, 37. , 37.1, 37.2, 37.3,\n",
       "       37.4, 37.5, 37.6, 37.7, 37.8, 37.9, 38. , 38.1, 38.2, 38.3, 38.4,\n",
       "       38.5, 38.6, 38.7, 38.8, 38.9, 39. , 39.1, 39.2, 39.3, 39.4, 39.5,\n",
       "       39.6, 39.7, 39.8, 39.9, 40. , 40.1, 40.2, 40.3, 40.4, 40.5, 40.6,\n",
       "       40.7, 40.8, 40.9, 41. , 41.1, 41.2, 41.3, 41.4, 41.5, 41.6, 41.7,\n",
       "       41.8, 41.9])"
      ]
     },
     "execution_count": 30,
     "metadata": {},
     "output_type": "execute_result"
    }
   ],
   "source": [
    "#membuat xreg\n",
    "xreg = np.array(range(0,int((x[-1]+1)*10)))\n",
    "xreg = xreg/10 #memperhalus bentuk garis\n",
    "xreg = xreg.astype('float64')\n",
    "xreg"
   ]
  },
  {
   "cell_type": "code",
   "execution_count": 31,
   "metadata": {},
   "outputs": [
    {
     "data": {
      "text/plain": [
       "array([1.59323630e+00, 1.62053250e+00, 1.64829636e+00, 1.67653588e+00,\n",
       "       1.70525922e+00, 1.73447466e+00, 1.76419064e+00, 1.79441573e+00,\n",
       "       1.82515865e+00, 1.85642828e+00, 1.88823363e+00, 1.92058389e+00,\n",
       "       1.95348840e+00, 1.98695664e+00, 2.02099828e+00, 2.05562313e+00,\n",
       "       2.09084121e+00, 2.12666265e+00, 2.16309781e+00, 2.20015720e+00,\n",
       "       2.23785150e+00, 2.27619161e+00, 2.31518858e+00, 2.35485367e+00,\n",
       "       2.39519833e+00, 2.43623419e+00, 2.47797310e+00, 2.52042710e+00,\n",
       "       2.56360845e+00, 2.60752961e+00, 2.65220324e+00, 2.69764225e+00,\n",
       "       2.74385975e+00, 2.79086907e+00, 2.83868378e+00, 2.88731768e+00,\n",
       "       2.93678480e+00, 2.98709942e+00, 3.03827606e+00, 3.09032948e+00,\n",
       "       3.14327471e+00, 3.19712703e+00, 3.25190197e+00, 3.30761535e+00,\n",
       "       3.36428325e+00, 3.42192201e+00, 3.48054826e+00, 3.54017894e+00,\n",
       "       3.60083124e+00, 3.66252267e+00, 3.72527103e+00, 3.78909443e+00,\n",
       "       3.85401129e+00, 3.92004034e+00, 3.98720063e+00, 4.05551156e+00,\n",
       "       4.12499282e+00, 4.19566448e+00, 4.26754692e+00, 4.34066089e+00,\n",
       "       4.41502749e+00, 4.49066818e+00, 4.56760478e+00, 4.64585951e+00,\n",
       "       4.72545494e+00, 4.80641404e+00, 4.88876018e+00, 4.97251712e+00,\n",
       "       5.05770903e+00, 5.14436050e+00, 5.23249652e+00, 5.32214254e+00,\n",
       "       5.41332443e+00, 5.50606849e+00, 5.60040150e+00, 5.69635067e+00,\n",
       "       5.79394369e+00, 5.89320874e+00, 5.99417444e+00, 6.09686995e+00,\n",
       "       6.20132489e+00, 6.30756942e+00, 6.41563418e+00, 6.52555037e+00,\n",
       "       6.63734970e+00, 6.75106444e+00, 6.86672740e+00, 6.98437197e+00,\n",
       "       7.10403209e+00, 7.22574229e+00, 7.34953769e+00, 7.47545403e+00,\n",
       "       7.60352764e+00, 7.73379547e+00, 7.86629513e+00, 8.00106484e+00,\n",
       "       8.13814350e+00, 8.27757067e+00, 8.41938658e+00, 8.56363216e+00,\n",
       "       8.71034904e+00, 8.85957955e+00, 9.01136676e+00, 9.16575447e+00,\n",
       "       9.32278724e+00, 9.48251038e+00, 9.64496998e+00, 9.81021293e+00,\n",
       "       9.97828692e+00, 1.01492404e+01, 1.03231228e+01, 1.04999843e+01,\n",
       "       1.06798758e+01, 1.08628493e+01, 1.10489577e+01, 1.12382545e+01,\n",
       "       1.14307945e+01, 1.16266332e+01, 1.18258271e+01, 1.20284337e+01,\n",
       "       1.22345114e+01, 1.24441199e+01, 1.26573194e+01, 1.28741716e+01,\n",
       "       1.30947390e+01, 1.33190853e+01, 1.35472752e+01, 1.37793746e+01,\n",
       "       1.40154505e+01, 1.42555709e+01, 1.44998052e+01, 1.47482239e+01,\n",
       "       1.50008986e+01, 1.52579023e+01, 1.55193091e+01, 1.57851945e+01,\n",
       "       1.60556351e+01, 1.63307091e+01, 1.66104959e+01, 1.68950761e+01,\n",
       "       1.71845318e+01, 1.74789467e+01, 1.77784057e+01, 1.80829952e+01,\n",
       "       1.83928030e+01, 1.87079187e+01, 1.90284331e+01, 1.93544387e+01,\n",
       "       1.96860296e+01, 2.00233016e+01, 2.03663518e+01, 2.07152794e+01,\n",
       "       2.10701850e+01, 2.14311711e+01, 2.17983417e+01, 2.21718029e+01,\n",
       "       2.25516625e+01, 2.29380300e+01, 2.33310170e+01, 2.37307369e+01,\n",
       "       2.41373050e+01, 2.45508386e+01, 2.49714572e+01, 2.53992820e+01,\n",
       "       2.58344365e+01, 2.62770463e+01, 2.67272392e+01, 2.71851450e+01,\n",
       "       2.76508959e+01, 2.81246263e+01, 2.86064730e+01, 2.90965749e+01,\n",
       "       2.95950735e+01, 3.01021126e+01, 3.06178386e+01, 3.11424003e+01,\n",
       "       3.16759491e+01, 3.22186390e+01, 3.27706265e+01, 3.33320710e+01,\n",
       "       3.39031344e+01, 3.44839816e+01, 3.50747803e+01, 3.56757008e+01,\n",
       "       3.62869166e+01, 3.69086041e+01, 3.75409427e+01, 3.81841148e+01,\n",
       "       3.88383062e+01, 3.95037055e+01, 4.01805048e+01, 4.08688994e+01,\n",
       "       4.15690879e+01, 4.22812725e+01, 4.30056586e+01, 4.37424553e+01,\n",
       "       4.44918752e+01, 4.52541346e+01, 4.60294534e+01, 4.68180554e+01,\n",
       "       4.76201682e+01, 4.84360232e+01, 4.92658559e+01, 5.01099058e+01,\n",
       "       5.09684163e+01, 5.18416354e+01, 5.27298149e+01, 5.36332112e+01,\n",
       "       5.45520850e+01, 5.54867015e+01, 5.64373303e+01, 5.74042458e+01,\n",
       "       5.83877270e+01, 5.93880578e+01, 6.04055268e+01, 6.14404277e+01,\n",
       "       6.24930590e+01, 6.35637246e+01, 6.46527334e+01, 6.57603998e+01,\n",
       "       6.68870432e+01, 6.80329890e+01, 6.91985677e+01, 7.03841158e+01,\n",
       "       7.15899754e+01, 7.28164944e+01, 7.40640267e+01, 7.53329326e+01,\n",
       "       7.66235780e+01, 7.79363354e+01, 7.92715837e+01, 8.06297083e+01,\n",
       "       8.20111010e+01, 8.34161605e+01, 8.48452922e+01, 8.62989086e+01,\n",
       "       8.77774291e+01, 8.92812805e+01, 9.08108967e+01, 9.23667192e+01,\n",
       "       9.39491968e+01, 9.55587863e+01, 9.71959522e+01, 9.88611670e+01,\n",
       "       1.00554911e+02, 1.02277673e+02, 1.04029951e+02, 1.05812249e+02,\n",
       "       1.07625083e+02, 1.09468976e+02, 1.11344459e+02, 1.13252073e+02,\n",
       "       1.15192371e+02, 1.17165910e+02, 1.19173261e+02, 1.21215003e+02,\n",
       "       1.23291725e+02, 1.25404027e+02, 1.27552518e+02, 1.29737819e+02,\n",
       "       1.31960558e+02, 1.34221380e+02, 1.36520934e+02, 1.38859886e+02,\n",
       "       1.41238911e+02, 1.43658694e+02, 1.46119934e+02, 1.48623341e+02,\n",
       "       1.51169638e+02, 1.53759560e+02, 1.56393854e+02, 1.59073280e+02,\n",
       "       1.61798611e+02, 1.64570634e+02, 1.67390149e+02, 1.70257970e+02,\n",
       "       1.73174923e+02, 1.76141852e+02, 1.79159611e+02, 1.82229072e+02,\n",
       "       1.85351122e+02, 1.88526659e+02, 1.91756602e+02, 1.95041882e+02,\n",
       "       1.98383447e+02, 2.01782262e+02, 2.05239307e+02, 2.08755580e+02,\n",
       "       2.12332096e+02, 2.15969887e+02, 2.19670002e+02, 2.23433510e+02,\n",
       "       2.27261497e+02, 2.31155066e+02, 2.35115342e+02, 2.39143468e+02,\n",
       "       2.43240606e+02, 2.47407939e+02, 2.51646668e+02, 2.55958018e+02,\n",
       "       2.60343232e+02, 2.64803576e+02, 2.69340337e+02, 2.73954824e+02,\n",
       "       2.78648370e+02, 2.83422327e+02, 2.88278075e+02, 2.93217014e+02,\n",
       "       2.98240570e+02, 3.03350192e+02, 3.08547355e+02, 3.13833559e+02,\n",
       "       3.19210329e+02, 3.24679216e+02, 3.30241800e+02, 3.35899685e+02,\n",
       "       3.41654504e+02, 3.47507918e+02, 3.53461615e+02, 3.59517315e+02,\n",
       "       3.65676764e+02, 3.71941740e+02, 3.78314051e+02, 3.84795537e+02,\n",
       "       3.91388066e+02, 3.98093543e+02, 4.04913901e+02, 4.11851110e+02,\n",
       "       4.18907170e+02, 4.26084119e+02, 4.33384028e+02, 4.40809002e+02,\n",
       "       4.48361186e+02, 4.56042757e+02, 4.63855933e+02, 4.71802969e+02,\n",
       "       4.79886158e+02, 4.88107833e+02, 4.96470366e+02, 5.04976171e+02,\n",
       "       5.13627701e+02, 5.22427455e+02, 5.31377970e+02, 5.40481831e+02,\n",
       "       5.49741664e+02, 5.59160142e+02, 5.68739982e+02, 5.78483950e+02,\n",
       "       5.88394856e+02, 5.98475562e+02, 6.08728976e+02, 6.19158057e+02,\n",
       "       6.29765815e+02, 6.40555310e+02, 6.51529658e+02, 6.62692024e+02,\n",
       "       6.74045629e+02, 6.85593751e+02, 6.97339722e+02, 7.09286931e+02,\n",
       "       7.21438827e+02, 7.33798915e+02, 7.46370763e+02, 7.59157999e+02,\n",
       "       7.72164313e+02, 7.85393459e+02, 7.98849253e+02, 8.12535580e+02,\n",
       "       8.26456388e+02, 8.40615695e+02, 8.55017588e+02, 8.69666221e+02,\n",
       "       8.84565823e+02, 8.99720693e+02, 9.15135205e+02, 9.30813807e+02,\n",
       "       9.46761023e+02, 9.62981456e+02, 9.79479786e+02, 9.96260774e+02,\n",
       "       1.01332926e+03, 1.03069018e+03, 1.04834853e+03, 1.06630942e+03,\n",
       "       1.08457802e+03, 1.10315961e+03, 1.12205955e+03, 1.14128330e+03,\n",
       "       1.16083639e+03, 1.18072448e+03, 1.20095330e+03, 1.22152870e+03,\n",
       "       1.24245660e+03, 1.26374306e+03, 1.28539420e+03, 1.30741628e+03,\n",
       "       1.32981566e+03, 1.35259880e+03, 1.37577227e+03, 1.39934276e+03,\n",
       "       1.42331707e+03, 1.44770213e+03, 1.47250496e+03, 1.49773273e+03,\n",
       "       1.52339271e+03, 1.54949231e+03, 1.57603907e+03, 1.60304064e+03,\n",
       "       1.63050482e+03, 1.65843953e+03, 1.68685283e+03, 1.71575293e+03,\n",
       "       1.74514815e+03, 1.77504700e+03, 1.80545808e+03, 1.83639019e+03,\n",
       "       1.86785224e+03, 1.89985331e+03, 1.93240265e+03, 1.96550964e+03])"
      ]
     },
     "execution_count": 31,
     "metadata": {},
     "output_type": "execute_result"
    }
   ],
   "source": [
    "#membuat yreg\n",
    "yreg = a*np.e**(b*xreg)\n",
    "yreg"
   ]
  },
  {
   "cell_type": "code",
   "execution_count": 32,
   "metadata": {},
   "outputs": [
    {
     "data": {
      "text/plain": [
       "Text(0, 0.5, 'y-banyak orang')"
      ]
     },
     "execution_count": 32,
     "metadata": {},
     "output_type": "execute_result"
    },
    {
     "data": {
      "image/png": "[encoded data removed]",
      "text/plain": [
       "<Figure size 432x288 with 1 Axes>"
      ]
     },
     "metadata": {
      "needs_background": "light"
     },
     "output_type": "display_data"
    }
   ],
   "source": [
    "ax = plt.plot(x,y,'ro')\n",
    "plt.plot(xreg,yreg,'b')\n",
    "plt.grid()\n",
    "plt.xlabel('x-hari ke')\n",
    "plt.ylabel('y-banyak orang')"
   ]
  },
  {
   "cell_type": "markdown",
   "metadata": {},
   "source": [
    "**Selesai**"
   ]
  },
  {
   "cell_type": "markdown",
   "metadata": {},
   "source": [
    "#### Regresi Polinomial"
   ]
  },
  {
   "cell_type": "code",
   "execution_count": 33,
   "metadata": {},
   "outputs": [
    {
     "data": {
      "text/plain": [
       "array([   5.,    5.,    5.,    5.,    5.,    6.,    8.,   10.,   11.,\n",
       "         11.,    7.,    8.,    8.,   10.,   10.,   13.,   17.,   17.,\n",
       "         30.,   36.,   39.,   49.,   58.,   68.,   91.,   10.,  127.,\n",
       "        170.,  218.,  268.,  369.,  423.,  547.,  703.,  875., 1019.,\n",
       "       1514., 1762., 2191., 2547., 2867.])"
      ]
     },
     "execution_count": 33,
     "metadata": {},
     "output_type": "execute_result"
    }
   ],
   "source": [
    "y = np.array ((5, 5, 5, 5, 5, 6, 8, 10, 11, 11, 7, 8, 8, 10, 10, 13, 17, 17, 30, 36, 39, 49, 58, 68, 91, 10, 127, 170, 218, 268, 369, 423, 547, 703, 875, 1019, 1514, 1762, 2191, 2547, 2867))\n",
    "y = y.astype('float64')\n",
    "y"
   ]
  },
  {
   "cell_type": "code",
   "execution_count": 34,
   "metadata": {},
   "outputs": [
    {
     "data": {
      "text/plain": [
       "array([ 1.,  2.,  3.,  4.,  5.,  6.,  7.,  8.,  9., 10., 11., 12., 13.,\n",
       "       14., 15., 16., 17., 18., 19., 20., 21., 22., 23., 24., 25., 26.,\n",
       "       27., 28., 29., 30., 31., 32., 33., 34., 35., 36., 37., 38., 39.,\n",
       "       40., 41.])"
      ]
     },
     "execution_count": 34,
     "metadata": {},
     "output_type": "execute_result"
    }
   ],
   "source": [
    "x = np.array((range(1,1+len(y))))\n",
    "x = x.astype('float64')\n",
    "x"
   ]
  },
  {
   "cell_type": "markdown",
   "metadata": {},
   "source": [
    "**Membentuk regresi polinomial dari matriks**"
   ]
  },
  {
   "attachments": {
    "image.png": {
     "image/png": "[encoded data removed]"
    }
   },
   "cell_type": "markdown",
   "metadata": {},
   "source": [
    "![image.png](attachment:image.png)"
   ]
  },
  {
   "cell_type": "markdown",
   "metadata": {},
   "source": [
    "**Mendefinisikan elemen-elemen matriks kiri**"
   ]
  },
  {
   "cell_type": "code",
   "execution_count": 35,
   "metadata": {},
   "outputs": [
    {
     "data": {
      "text/plain": [
       "array([[4.10000000e+01, 8.61000000e+02, 2.38210000e+04, 7.41321000e+05],\n",
       "       [8.61000000e+02, 2.38210000e+04, 7.41321000e+05, 2.46070930e+07],\n",
       "       [2.38210000e+04, 7.41321000e+05, 2.46070930e+07, 8.50789401e+08],\n",
       "       [7.41321000e+05, 2.46070930e+07, 8.50789401e+08, 3.02550079e+10]])"
      ]
     },
     "execution_count": 35,
     "metadata": {},
     "output_type": "execute_result"
    }
   ],
   "source": [
    "n = len(y)\n",
    "a = x.sum()\n",
    "b = (x**2).sum()\n",
    "c = (x**3).sum()\n",
    "d = (x**4).sum()\n",
    "e = (x**5).sum()\n",
    "f = (x**6).sum()\n",
    "A = np.array(([n, a, b, c],\n",
    "    [a, b, c, d],\n",
    "    [b, c, d, e],\n",
    "    [c, d, e, f]))\n",
    "A"
   ]
  },
  {
   "cell_type": "markdown",
   "metadata": {},
   "source": [
    "**Mendefinisikan elemen-elemen matriks kanan**"
   ]
  },
  {
   "cell_type": "code",
   "execution_count": 36,
   "metadata": {},
   "outputs": [
    {
     "data": {
      "text/plain": [
       "array([[1.61420000e+04],\n",
       "       [5.95152000e+05],\n",
       "       [2.23075980e+07],\n",
       "       [8.44917186e+08]])"
      ]
     },
     "execution_count": 36,
     "metadata": {},
     "output_type": "execute_result"
    }
   ],
   "source": [
    "g = y.sum()\n",
    "h = (x*y).sum()\n",
    "i = ((x**2)*y).sum()\n",
    "j = ((x**3)*y).sum()\n",
    "B = np.array(([g],\n",
    "    [h],\n",
    "    [i],\n",
    "    [j]))\n",
    "B"
   ]
  },
  {
   "cell_type": "markdown",
   "metadata": {},
   "source": [
    "**Invers matriks sisi kiri**"
   ]
  },
  {
   "cell_type": "code",
   "execution_count": 37,
   "metadata": {},
   "outputs": [
    {
     "data": {
      "text/plain": [
       "array([[ 4.71264935e-01, -8.50613871e-02,  4.09795596e-03,\n",
       "        -5.76017906e-05],\n",
       "       [-8.50613871e-02,  1.95585587e-02, -1.04382586e-03,\n",
       "         1.55298092e-05],\n",
       "       [ 4.09795596e-03, -1.04382586e-03,  5.90991836e-05,\n",
       "        -9.13347631e-07],\n",
       "       [-5.76017906e-05,  1.55298092e-05, -9.13347631e-07,\n",
       "         1.44975814e-08]])"
      ]
     },
     "execution_count": 37,
     "metadata": {},
     "output_type": "execute_result"
    }
   ],
   "source": [
    "Ainv = np.linalg.inv(A)\n",
    "Ainv"
   ]
  },
  {
   "cell_type": "markdown",
   "metadata": {},
   "source": [
    "**Mencari nilai a0, a1, a2, dst dengan a = (A^-1)B namun di sini variabel a diganti dengan Y**"
   ]
  },
  {
   "cell_type": "code",
   "execution_count": 38,
   "metadata": {},
   "outputs": [
    {
     "name": "stdout",
     "output_type": "stream",
     "text": [
      "[[-2.70484694e+02]\n",
      " [ 1.03409398e+02]\n",
      " [-8.42812475e+00]\n",
      " [ 1.87452858e-01]]\n"
     ]
    }
   ],
   "source": [
    "Y = Ainv.dot(B)\n",
    "print(Y)"
   ]
  },
  {
   "cell_type": "code",
   "execution_count": 39,
   "metadata": {},
   "outputs": [],
   "source": [
    "a0 = Y[0,0]\n",
    "a1 = Y[1,0]\n",
    "a2 = Y[2,0]\n",
    "a3 = Y[3,0]"
   ]
  },
  {
   "cell_type": "markdown",
   "metadata": {},
   "source": [
    "**Hasil persamaan regresi polinomial**"
   ]
  },
  {
   "cell_type": "code",
   "execution_count": 40,
   "metadata": {},
   "outputs": [
    {
     "name": "stdout",
     "output_type": "stream",
     "text": [
      "y = 0.1875x^3 + -8.4281X^2 + 103.4094x + -270.4847\n"
     ]
    }
   ],
   "source": [
    "print('y = {:.4f}x^3 + {:.4f}X^2 + {:.4f}x + {:.4f}'.format(a3, a2, a1, a0))"
   ]
  },
  {
   "cell_type": "code",
   "execution_count": 41,
   "metadata": {},
   "outputs": [
    {
     "data": {
      "text/plain": [
       "array([   5.,    5.,    5.,    5.,    5.,    6.,    8.,   10.,   11.,\n",
       "         11.,    7.,    8.,    8.,   10.,   10.,   13.,   17.,   17.,\n",
       "         30.,   36.,   39.,   49.,   58.,   68.,   91.,   10.,  127.,\n",
       "        170.,  218.,  268.,  369.,  423.,  547.,  703.,  875., 1019.,\n",
       "       1514., 1762., 2191., 2547., 2867.])"
      ]
     },
     "execution_count": 41,
     "metadata": {},
     "output_type": "execute_result"
    }
   ],
   "source": [
    "y"
   ]
  },
  {
   "cell_type": "markdown",
   "metadata": {},
   "source": [
    "**Koefisien Korelasi ( r ) dan Derajat Kesesuaian ( R ) r-square**"
   ]
  },
  {
   "cell_type": "code",
   "execution_count": 42,
   "metadata": {},
   "outputs": [
    {
     "name": "stdout",
     "output_type": "stream",
     "text": [
      "r = 0.9894 dan r^2 = 0.9167\n"
     ]
    }
   ],
   "source": [
    "yDt = (y-y.mean())**2\n",
    "yD = (y-a0-a1*x-a2*(x**2)-a3*(x**3))**2\n",
    "r = np.sqrt((yDt.sum()-yD.sum())/yDt.sum())\n",
    "R2 = r**2\n",
    "print('r = {:.4f} dan r^2 = {:.4f}'.format(r,r2))"
   ]
  },
  {
   "cell_type": "markdown",
   "metadata": {},
   "source": [
    "**Plot**"
   ]
  },
  {
   "cell_type": "code",
   "execution_count": 43,
   "metadata": {},
   "outputs": [
    {
     "data": {
      "text/plain": [
       "Text(0, 0.5, 'y')"
      ]
     },
     "execution_count": 43,
     "metadata": {},
     "output_type": "execute_result"
    },
    {
     "data": {
      "image/png": "[encoded data removed]",
      "text/plain": [
       "<Figure size 432x288 with 1 Axes>"
      ]
     },
     "metadata": {
      "needs_background": "light"
     },
     "output_type": "display_data"
    }
   ],
   "source": [
    "xreg = np.array(range(0,int((x[-1]+0.5)*10)))\n",
    "xreg = xreg/10\n",
    "yreg = a0 + a1*xreg + a2*(xreg**2) + a3*(xreg**3)\n",
    "ax = plt.plot(x,y,'ro')\n",
    "plt.plot(xreg,yreg,'b')\n",
    "plt.grid()\n",
    "plt.xlabel('x')\n",
    "plt.ylabel('y')"
   ]
  },
  {
   "cell_type": "markdown",
   "metadata": {},
   "source": [
    "**Perbandingan jika memakai polyfit dengan derajat dinaikkan**"
   ]
  },
  {
   "cell_type": "code",
   "execution_count": 44,
   "metadata": {},
   "outputs": [
    {
     "data": {
      "image/png": "[encoded data removed]",
      "text/plain": [
       "<Figure size 432x288 with 1 Axes>"
      ]
     },
     "metadata": {
      "needs_background": "light"
     },
     "output_type": "display_data"
    }
   ],
   "source": [
    "regpoly = np.poly1d(np.polyfit(x, y, 5))\n",
    "\n",
    "myline = np.linspace(1, len(y), 100)\n",
    "\n",
    "plt.scatter(x, y)\n",
    "plt.plot(myline, regpoly(myline), linewidth=3, color='r')\n",
    "plt.show()"
   ]
  },
  {
   "cell_type": "code",
   "execution_count": 45,
   "metadata": {},
   "outputs": [
    {
     "name": "stdout",
     "output_type": "stream",
     "text": [
      "           5            4            3         2\n",
      "0.0001077 x - 0.004132 x + 0.009419 x + 1.166 x - 11.22 x + 25.9\n"
     ]
    }
   ],
   "source": [
    "print (regpoly)"
   ]
  },
  {
   "cell_type": "code",
   "execution_count": 46,
   "metadata": {},
   "outputs": [
    {
     "name": "stdout",
     "output_type": "stream",
     "text": [
      "0.9966917321593413\n"
     ]
    }
   ],
   "source": [
    "print(r2_score(y, regpoly(x)))"
   ]
  },
  {
   "cell_type": "markdown",
   "metadata": {},
   "source": [
    "**Selesai**"
   ]
  },
  {
   "cell_type": "markdown",
   "metadata": {},
   "source": [
    "### Total Death"
   ]
  },
  {
   "cell_type": "markdown",
   "metadata": {},
   "source": [
    "- Start: 1-Mar-2020\n",
    "- End: 26-Mar-2020\n",
    "- Range: 27 Days"
   ]
  },
  {
   "cell_type": "markdown",
   "metadata": {},
   "source": [
    "**Data**"
   ]
  },
  {
   "cell_type": "code",
   "execution_count": 47,
   "metadata": {},
   "outputs": [
    {
     "data": {
      "text/plain": [
       "array([ 1.,  1.,  1.,  2.,  2.,  2.,  3.,  3.,  3.,  3.,  3.,  3.,  3.,\n",
       "        3.,  5.,  5.,  5.,  6.,  7.,  7.,  7.,  7.,  7.,  8., 11., 13.])"
      ]
     },
     "execution_count": 47,
     "metadata": {},
     "output_type": "execute_result"
    }
   ],
   "source": [
    "y = np.array ((1, 1, 1, 2, 2, 2, 3, 3, 3, 3, 3, 3, 3, 3, 5, 5, 5, 6, 7, 7, 7, 7, 7, 8, 11, 13))\n",
    "y = y.astype('float64')\n",
    "y"
   ]
  },
  {
   "cell_type": "code",
   "execution_count": 48,
   "metadata": {},
   "outputs": [
    {
     "data": {
      "text/plain": [
       "array([ 1.,  2.,  3.,  4.,  5.,  6.,  7.,  8.,  9., 10., 11., 12., 13.,\n",
       "       14., 15., 16., 17., 18., 19., 20., 21., 22., 23., 24., 25., 26.])"
      ]
     },
     "execution_count": 48,
     "metadata": {},
     "output_type": "execute_result"
    }
   ],
   "source": [
    "x = np.array((range(1,1+len(y))))\n",
    "x = x.astype('float64')\n",
    "x"
   ]
  },
  {
   "cell_type": "markdown",
   "metadata": {},
   "source": [
    "**Plot**"
   ]
  },
  {
   "cell_type": "code",
   "execution_count": 49,
   "metadata": {},
   "outputs": [
    {
     "data": {
      "text/plain": [
       "Text(0, 0.5, 'y-jumlah orang')"
      ]
     },
     "execution_count": 49,
     "metadata": {},
     "output_type": "execute_result"
    },
    {
     "data": {
      "image/png": "[encoded data removed]",
      "text/plain": [
       "<Figure size 432x288 with 1 Axes>"
      ]
     },
     "metadata": {
      "needs_background": "light"
     },
     "output_type": "display_data"
    }
   ],
   "source": [
    "ax = plt.plot(x,y,'ro')\n",
    "plt.grid()\n",
    "plt.xlabel('x-hari')\n",
    "plt.ylabel('y-jumlah orang')"
   ]
  },
  {
   "cell_type": "markdown",
   "metadata": {},
   "source": [
    "#### Regresi Berpangkat"
   ]
  },
  {
   "cell_type": "markdown",
   "metadata": {},
   "source": [
    "**Data**"
   ]
  },
  {
   "cell_type": "code",
   "execution_count": 50,
   "metadata": {},
   "outputs": [
    {
     "data": {
      "text/plain": [
       "array([ 1.,  1.,  1.,  2.,  2.,  2.,  3.,  3.,  3.,  3.,  3.,  3.,  3.,\n",
       "        3.,  5.,  5.,  5.,  6.,  7.,  7.,  7.,  7.,  7.,  8., 11., 13.])"
      ]
     },
     "execution_count": 50,
     "metadata": {},
     "output_type": "execute_result"
    }
   ],
   "source": [
    "y = np.array ((1, 1, 1, 2, 2, 2, 3, 3, 3, 3, 3, 3, 3, 3, 5, 5, 5, 6, 7, 7, 7, 7, 7, 8, 11, 13))\n",
    "y = y.astype('float64')\n",
    "y"
   ]
  },
  {
   "cell_type": "code",
   "execution_count": 51,
   "metadata": {},
   "outputs": [
    {
     "data": {
      "text/plain": [
       "array([ 1.,  2.,  3.,  4.,  5.,  6.,  7.,  8.,  9., 10., 11., 12., 13.,\n",
       "       14., 15., 16., 17., 18., 19., 20., 21., 22., 23., 24., 25., 26.])"
      ]
     },
     "execution_count": 51,
     "metadata": {},
     "output_type": "execute_result"
    }
   ],
   "source": [
    "x = np.array((range(1,1+len(y))))\n",
    "x = x.astype('float64')\n",
    "x"
   ]
  },
  {
   "attachments": {
    "image.png": {
     "image/png": "[encoded data removed]"
    }
   },
   "cell_type": "markdown",
   "metadata": {},
   "source": [
    "![image.png](attachment:image.png)"
   ]
  },
  {
   "cell_type": "markdown",
   "metadata": {},
   "source": [
    "**Membuat xreg untuk plotting selanjutnya**"
   ]
  },
  {
   "cell_type": "code",
   "execution_count": 52,
   "metadata": {},
   "outputs": [
    {
     "data": {
      "text/plain": [
       "array([ 1. ,  1.1,  1.2,  1.3,  1.4,  1.5,  1.6,  1.7,  1.8,  1.9,  2. ,\n",
       "        2.1,  2.2,  2.3,  2.4,  2.5,  2.6,  2.7,  2.8,  2.9,  3. ,  3.1,\n",
       "        3.2,  3.3,  3.4,  3.5,  3.6,  3.7,  3.8,  3.9,  4. ,  4.1,  4.2,\n",
       "        4.3,  4.4,  4.5,  4.6,  4.7,  4.8,  4.9,  5. ,  5.1,  5.2,  5.3,\n",
       "        5.4,  5.5,  5.6,  5.7,  5.8,  5.9,  6. ,  6.1,  6.2,  6.3,  6.4,\n",
       "        6.5,  6.6,  6.7,  6.8,  6.9,  7. ,  7.1,  7.2,  7.3,  7.4,  7.5,\n",
       "        7.6,  7.7,  7.8,  7.9,  8. ,  8.1,  8.2,  8.3,  8.4,  8.5,  8.6,\n",
       "        8.7,  8.8,  8.9,  9. ,  9.1,  9.2,  9.3,  9.4,  9.5,  9.6,  9.7,\n",
       "        9.8,  9.9, 10. , 10.1, 10.2, 10.3, 10.4, 10.5, 10.6, 10.7, 10.8,\n",
       "       10.9, 11. , 11.1, 11.2, 11.3, 11.4, 11.5, 11.6, 11.7, 11.8, 11.9,\n",
       "       12. , 12.1, 12.2, 12.3, 12.4, 12.5, 12.6, 12.7, 12.8, 12.9, 13. ,\n",
       "       13.1, 13.2, 13.3, 13.4, 13.5, 13.6, 13.7, 13.8, 13.9, 14. , 14.1,\n",
       "       14.2, 14.3, 14.4, 14.5, 14.6, 14.7, 14.8, 14.9, 15. , 15.1, 15.2,\n",
       "       15.3, 15.4, 15.5, 15.6, 15.7, 15.8, 15.9, 16. , 16.1, 16.2, 16.3,\n",
       "       16.4, 16.5, 16.6, 16.7, 16.8, 16.9, 17. , 17.1, 17.2, 17.3, 17.4,\n",
       "       17.5, 17.6, 17.7, 17.8, 17.9, 18. , 18.1, 18.2, 18.3, 18.4, 18.5,\n",
       "       18.6, 18.7, 18.8, 18.9, 19. , 19.1, 19.2, 19.3, 19.4, 19.5, 19.6,\n",
       "       19.7, 19.8, 19.9, 20. , 20.1, 20.2, 20.3, 20.4, 20.5, 20.6, 20.7,\n",
       "       20.8, 20.9, 21. , 21.1, 21.2, 21.3, 21.4, 21.5, 21.6, 21.7, 21.8,\n",
       "       21.9, 22. , 22.1, 22.2, 22.3, 22.4, 22.5, 22.6, 22.7, 22.8, 22.9,\n",
       "       23. , 23.1, 23.2, 23.3, 23.4, 23.5, 23.6, 23.7, 23.8, 23.9, 24. ,\n",
       "       24.1, 24.2, 24.3, 24.4, 24.5, 24.6, 24.7, 24.8, 24.9, 25. , 25.1,\n",
       "       25.2, 25.3, 25.4, 25.5, 25.6, 25.7, 25.8, 25.9, 26. , 26.1, 26.2,\n",
       "       26.3, 26.4, 26.5, 26.6, 26.7, 26.8, 26.9])"
      ]
     },
     "execution_count": 52,
     "metadata": {},
     "output_type": "execute_result"
    }
   ],
   "source": [
    "#membuat xreg\n",
    "xreg = np.array(range(10,int((x[-1]+1)*10)))\n",
    "xreg = xreg/10 #memperhalus bentuk garis\n",
    "xreg = xreg.astype('float64')\n",
    "xreg"
   ]
  },
  {
   "cell_type": "markdown",
   "metadata": {},
   "source": [
    "**Regresi berpangkat**"
   ]
  },
  {
   "attachments": {
    "image.png": {
     "image/png": "[encoded data removed]"
    }
   },
   "cell_type": "markdown",
   "metadata": {},
   "source": [
    "![image.png](attachment:image.png)"
   ]
  },
  {
   "attachments": {
    "image.png": {
     "image/png": "[encoded data removed]"
    }
   },
   "cell_type": "markdown",
   "metadata": {},
   "source": [
    "![image.png](attachment:image.png)"
   ]
  },
  {
   "attachments": {
    "image.png": {
     "image/png": "[encoded data removed]"
    }
   },
   "cell_type": "markdown",
   "metadata": {},
   "source": [
    "![image.png](attachment:image.png)"
   ]
  },
  {
   "cell_type": "code",
   "execution_count": 53,
   "metadata": {},
   "outputs": [],
   "source": [
    "p = np.log10(y)\n",
    "q = np.log10(x)"
   ]
  },
  {
   "cell_type": "markdown",
   "metadata": {},
   "source": [
    "**Hitung regresi linear**"
   ]
  },
  {
   "cell_type": "code",
   "execution_count": 54,
   "metadata": {},
   "outputs": [],
   "source": [
    "n = len(y)\n",
    "pq = p*q\n",
    "qq = q**2\n",
    "B = (n*pq.sum() - q.sum()*p.sum())/(n*qq.sum() - (q.sum())**2)\n",
    "A = p.mean()-B*q.mean()"
   ]
  },
  {
   "cell_type": "markdown",
   "metadata": {},
   "source": [
    "**Hasil regresi linear**"
   ]
  },
  {
   "cell_type": "code",
   "execution_count": 55,
   "metadata": {},
   "outputs": [
    {
     "name": "stdout",
     "output_type": "stream",
     "text": [
      "p = 0.7911q -0.2373\n"
     ]
    }
   ],
   "source": [
    "if A>0 :\n",
    "    print (\"p = {:.4f}q + {:.4f}\". format(B,A))\n",
    "else :\n",
    "    print (\"p = {:.4f}q {:.4f}\". format(B,A))"
   ]
  },
  {
   "cell_type": "markdown",
   "metadata": {},
   "source": [
    "**Kembalikan ke bentuk pangkat**"
   ]
  },
  {
   "cell_type": "code",
   "execution_count": 56,
   "metadata": {},
   "outputs": [
    {
     "name": "stdout",
     "output_type": "stream",
     "text": [
      "y = 0.5791x^(0.7911)\n"
     ]
    }
   ],
   "source": [
    "a = 10**A #A=log(a)\n",
    "b = B\n",
    "print (\"y = {:.4f}x^({:.4f})\".format(a,b))"
   ]
  },
  {
   "cell_type": "markdown",
   "metadata": {},
   "source": [
    "**Koefisien Korelasi ( r ) dan Derajat Kesesuaian ( R ) r-square**"
   ]
  },
  {
   "cell_type": "code",
   "execution_count": 57,
   "metadata": {},
   "outputs": [
    {
     "name": "stdout",
     "output_type": "stream",
     "text": [
      "r = 0.9367 dan r^2 = 0.8774\n"
     ]
    }
   ],
   "source": [
    "yDt = ((p - p.mean())**2).sum()\n",
    "yD = ((p - (q*B) - A)**2).sum()\n",
    "r = np.sqrt((yDt-yD)/yDt)\n",
    "r2 = r**2\n",
    "print('r = {:.4f} dan r^2 = {:.4f}'.format(r,r2))"
   ]
  },
  {
   "cell_type": "markdown",
   "metadata": {},
   "source": [
    "**Plot**"
   ]
  },
  {
   "cell_type": "code",
   "execution_count": 58,
   "metadata": {},
   "outputs": [
    {
     "data": {
      "text/plain": [
       "array([0.5790604 , 0.62441082, 0.6689069 , 0.71263418, 0.75566371,\n",
       "       0.79805542, 0.83986042, 0.88112281, 0.92188098, 0.96216865,\n",
       "       1.00201561, 1.04144838, 1.08049071, 1.11916396, 1.15748746,\n",
       "       1.19547876, 1.23315386, 1.27052741, 1.30761287, 1.34442264,\n",
       "       1.38096817, 1.41726008, 1.45330823, 1.48912179, 1.52470934,\n",
       "       1.5600789 , 1.59523796, 1.63019359, 1.6649524 , 1.69952066,\n",
       "       1.73390423, 1.76810871, 1.80213935, 1.83600114, 1.86969883,\n",
       "       1.90323691, 1.93661966, 1.96985115, 2.00293527, 2.03587572,\n",
       "       2.06867603, 2.10133959, 2.13386964, 2.16626927, 2.19854145,\n",
       "       2.23068903, 2.26271474, 2.29462122, 2.32641097, 2.35808644,\n",
       "       2.38964996, 2.42110378, 2.45245007, 2.48369093, 2.51482837,\n",
       "       2.54586435, 2.57680075, 2.60763939, 2.63838204, 2.66903039,\n",
       "       2.69958609, 2.73005075, 2.76042591, 2.79071308, 2.8209137 ,\n",
       "       2.85102919, 2.88106093, 2.91101023, 2.94087839, 2.97066668,\n",
       "       3.0003763 , 3.03000845, 3.05956429, 3.08904492, 3.11845146,\n",
       "       3.14778496, 3.17704647, 3.20623698, 3.2353575 , 3.26440897,\n",
       "       3.29339234, 3.32230852, 3.3511584 , 3.37994285, 3.40866271,\n",
       "       3.43731883, 3.46591201, 3.49444305, 3.5229127 , 3.55132174,\n",
       "       3.57967091, 3.60796091, 3.63619247, 3.66436627, 3.692483  ,\n",
       "       3.72054331, 3.74854785, 3.77649726, 3.80439216, 3.83223316,\n",
       "       3.86002086, 3.88775584, 3.91543868, 3.94306993, 3.97065016,\n",
       "       3.9981799 , 4.02565967, 4.05309001, 4.08047142, 4.1078044 ,\n",
       "       4.13508945, 4.16232704, 4.18951766, 4.21666175, 4.24375979,\n",
       "       4.27081223, 4.29781949, 4.32478201, 4.35170023, 4.37857455,\n",
       "       4.4054054 , 4.43219316, 4.45893825, 4.48564105, 4.51230194,\n",
       "       4.53892131, 4.56549951, 4.59203693, 4.61853392, 4.64499083,\n",
       "       4.67140802, 4.69778581, 4.72412456, 4.7504246 , 4.77668624,\n",
       "       4.80290982, 4.82909565, 4.85524404, 4.8813553 , 4.90742973,\n",
       "       4.93346764, 4.95946931, 4.98543504, 5.01136511, 5.03725981,\n",
       "       5.0631194 , 5.08894417, 5.11473438, 5.14049031, 5.1662122 ,\n",
       "       5.19190033, 5.21755494, 5.24317629, 5.26876462, 5.29432018,\n",
       "       5.31984322, 5.34533396, 5.37079265, 5.39621952, 5.42161479,\n",
       "       5.44697869, 5.47231145, 5.49761328, 5.5228844 , 5.54812502,\n",
       "       5.57333537, 5.59851564, 5.62366604, 5.64878678, 5.67387806,\n",
       "       5.69894008, 5.72397303, 5.74897711, 5.7739525 , 5.79889941,\n",
       "       5.82381801, 5.84870849, 5.87357104, 5.89840582, 5.92321303,\n",
       "       5.94799284, 5.97274542, 5.99747095, 6.02216959, 6.04684152,\n",
       "       6.07148689, 6.09610588, 6.12069864, 6.14526535, 6.16980615,\n",
       "       6.1943212 , 6.21881067, 6.24327469, 6.26771344, 6.29212704,\n",
       "       6.31651567, 6.34087945, 6.36521855, 6.38953309, 6.41382324,\n",
       "       6.43808911, 6.46233086, 6.48654863, 6.51074255, 6.53491275,\n",
       "       6.55905937, 6.58318254, 6.60728239, 6.63135906, 6.65541267,\n",
       "       6.67944335, 6.70345123, 6.72743642, 6.75139905, 6.77533925,\n",
       "       6.79925714, 6.82315283, 6.84702645, 6.87087811, 6.89470792,\n",
       "       6.91851601, 6.94230249, 6.96606747, 6.98981106, 7.01353338,\n",
       "       7.03723453, 7.06091462, 7.08457376, 7.10821206, 7.13182962,\n",
       "       7.15542655, 7.17900296, 7.20255893, 7.22609458, 7.24961001,\n",
       "       7.27310532, 7.29658061, 7.32003597, 7.3434715 , 7.3668873 ,\n",
       "       7.39028347, 7.41366009, 7.43701728, 7.46035511, 7.48367367,\n",
       "       7.50697307, 7.5302534 , 7.55351473, 7.57675717, 7.59998079,\n",
       "       7.6231857 , 7.64637197, 7.66953969, 7.69268895, 7.71581982,\n",
       "       7.73893241, 7.76202678, 7.78510303, 7.80816123, 7.83120146])"
      ]
     },
     "execution_count": 58,
     "metadata": {},
     "output_type": "execute_result"
    }
   ],
   "source": [
    "#membuat yreg\n",
    "yreg = a*(xreg**b)\n",
    "yreg\n",
    "    "
   ]
  },
  {
   "cell_type": "code",
   "execution_count": 59,
   "metadata": {},
   "outputs": [
    {
     "data": {
      "text/plain": [
       "Text(0, 0.5, 'y-banyak orang')"
      ]
     },
     "execution_count": 59,
     "metadata": {},
     "output_type": "execute_result"
    },
    {
     "data": {
      "image/png": "[encoded data removed]",
      "text/plain": [
       "<Figure size 432x288 with 1 Axes>"
      ]
     },
     "metadata": {
      "needs_background": "light"
     },
     "output_type": "display_data"
    }
   ],
   "source": [
    "ax = plt.plot(x,y,'ro')\n",
    "plt.plot(xreg,yreg,'g')\n",
    "plt.grid()\n",
    "plt.xlabel('x-hari ke')\n",
    "plt.ylabel('y-banyak orang')"
   ]
  },
  {
   "cell_type": "markdown",
   "metadata": {},
   "source": [
    "#### Regresi Eksponensial"
   ]
  },
  {
   "attachments": {
    "image.png": {
     "image/png": "[encoded data removed]"
    }
   },
   "cell_type": "markdown",
   "metadata": {},
   "source": [
    "![image.png](attachment:image.png)"
   ]
  },
  {
   "attachments": {
    "image.png": {
     "image/png": "[encoded data removed]"
    }
   },
   "cell_type": "markdown",
   "metadata": {},
   "source": [
    "![image.png](attachment:image.png)"
   ]
  },
  {
   "attachments": {
    "image.png": {
     "image/png": "[encoded data removed]"
    }
   },
   "cell_type": "markdown",
   "metadata": {},
   "source": [
    "![image.png](attachment:image.png)"
   ]
  },
  {
   "cell_type": "markdown",
   "metadata": {},
   "source": [
    "**Linearisasi**"
   ]
  },
  {
   "cell_type": "code",
   "execution_count": 60,
   "metadata": {},
   "outputs": [
    {
     "data": {
      "text/plain": [
       "array([ 1.,  1.,  1.,  2.,  2.,  2.,  3.,  3.,  3.,  3.,  3.,  3.,  3.,\n",
       "        3.,  5.,  5.,  5.,  6.,  7.,  7.,  7.,  7.,  7.,  8., 11., 13.])"
      ]
     },
     "execution_count": 60,
     "metadata": {},
     "output_type": "execute_result"
    }
   ],
   "source": [
    "y = np.array ((1, 1, 1, 2, 2, 2, 3, 3, 3, 3, 3, 3, 3, 3, 5, 5, 5, 6, 7, 7, 7, 7, 7, 8, 11, 13))\n",
    "y = y.astype('float64')\n",
    "y"
   ]
  },
  {
   "cell_type": "code",
   "execution_count": 61,
   "metadata": {},
   "outputs": [
    {
     "data": {
      "text/plain": [
       "array([ 1.,  2.,  3.,  4.,  5.,  6.,  7.,  8.,  9., 10., 11., 12., 13.,\n",
       "       14., 15., 16., 17., 18., 19., 20., 21., 22., 23., 24., 25., 26.])"
      ]
     },
     "execution_count": 61,
     "metadata": {},
     "output_type": "execute_result"
    }
   ],
   "source": [
    "x = np.array((range(1,1+len(y))))\n",
    "x = x.astype('float64')\n",
    "x"
   ]
  },
  {
   "cell_type": "code",
   "execution_count": 62,
   "metadata": {},
   "outputs": [],
   "source": [
    "p = np.log(y)\n",
    "q = x"
   ]
  },
  {
   "cell_type": "markdown",
   "metadata": {},
   "source": [
    "**Hitung regresi linear**"
   ]
  },
  {
   "attachments": {
    "image.png": {
     "image/png": "[encoded data removed]"
    }
   },
   "cell_type": "markdown",
   "metadata": {},
   "source": [
    "![image.png](attachment:image.png)"
   ]
  },
  {
   "cell_type": "code",
   "execution_count": 63,
   "metadata": {},
   "outputs": [],
   "source": [
    "n = len(y)\n",
    "pq = p*q\n",
    "qq = q**2\n",
    "B = (n*pq.sum() - q.sum()*p.sum())/(n*qq.sum() - (q.sum())**2)\n",
    "A = p.mean()-B*q.mean()"
   ]
  },
  {
   "cell_type": "markdown",
   "metadata": {},
   "source": [
    "**Hasil persamaan linear**"
   ]
  },
  {
   "cell_type": "code",
   "execution_count": 64,
   "metadata": {},
   "outputs": [
    {
     "name": "stdout",
     "output_type": "stream",
     "text": [
      "p = 0.0893q + 0.1128\n"
     ]
    }
   ],
   "source": [
    "if A>0 :\n",
    "    print (\"p = {:.4f}q + {:.4f}\". format(B,A))\n",
    "else :\n",
    "    print (\"p = {:.4f}q {:.4f}\". format(B,A))"
   ]
  },
  {
   "cell_type": "markdown",
   "metadata": {},
   "source": [
    "**Hitung kembali dalam bentuk bilangan berpangkat**"
   ]
  },
  {
   "cell_type": "code",
   "execution_count": 65,
   "metadata": {},
   "outputs": [],
   "source": [
    "a = np.e**A\n",
    "b = B"
   ]
  },
  {
   "cell_type": "code",
   "execution_count": 66,
   "metadata": {},
   "outputs": [
    {
     "name": "stdout",
     "output_type": "stream",
     "text": [
      "y = 1.1194x^(0.0893)\n"
     ]
    }
   ],
   "source": [
    "print (\"y = {:.4f}x^({:.4f})\".format(a,b))"
   ]
  },
  {
   "cell_type": "markdown",
   "metadata": {},
   "source": [
    "**Koefisien Korelasi ( r ) dan Derajat Kesesuaian ( R ) r-square**"
   ]
  },
  {
   "cell_type": "code",
   "execution_count": 67,
   "metadata": {},
   "outputs": [
    {
     "name": "stdout",
     "output_type": "stream",
     "text": [
      "r = 0.9647 dan r^2 = 0.9306\n"
     ]
    }
   ],
   "source": [
    "yDt = ((p - p.mean())**2).sum()\n",
    "yD = ((p - (q*B) - A)**2).sum()\n",
    "r = np.sqrt((yDt-yD)/yDt)\n",
    "r2 = r**2\n",
    "print('r = {:.4f} dan r^2 = {:.4f}'.format(r,r2))"
   ]
  },
  {
   "cell_type": "markdown",
   "metadata": {},
   "source": [
    "**Plot data dan regresinya**"
   ]
  },
  {
   "cell_type": "code",
   "execution_count": 68,
   "metadata": {},
   "outputs": [
    {
     "data": {
      "text/plain": [
       "array([ 0. ,  0.1,  0.2,  0.3,  0.4,  0.5,  0.6,  0.7,  0.8,  0.9,  1. ,\n",
       "        1.1,  1.2,  1.3,  1.4,  1.5,  1.6,  1.7,  1.8,  1.9,  2. ,  2.1,\n",
       "        2.2,  2.3,  2.4,  2.5,  2.6,  2.7,  2.8,  2.9,  3. ,  3.1,  3.2,\n",
       "        3.3,  3.4,  3.5,  3.6,  3.7,  3.8,  3.9,  4. ,  4.1,  4.2,  4.3,\n",
       "        4.4,  4.5,  4.6,  4.7,  4.8,  4.9,  5. ,  5.1,  5.2,  5.3,  5.4,\n",
       "        5.5,  5.6,  5.7,  5.8,  5.9,  6. ,  6.1,  6.2,  6.3,  6.4,  6.5,\n",
       "        6.6,  6.7,  6.8,  6.9,  7. ,  7.1,  7.2,  7.3,  7.4,  7.5,  7.6,\n",
       "        7.7,  7.8,  7.9,  8. ,  8.1,  8.2,  8.3,  8.4,  8.5,  8.6,  8.7,\n",
       "        8.8,  8.9,  9. ,  9.1,  9.2,  9.3,  9.4,  9.5,  9.6,  9.7,  9.8,\n",
       "        9.9, 10. , 10.1, 10.2, 10.3, 10.4, 10.5, 10.6, 10.7, 10.8, 10.9,\n",
       "       11. , 11.1, 11.2, 11.3, 11.4, 11.5, 11.6, 11.7, 11.8, 11.9, 12. ,\n",
       "       12.1, 12.2, 12.3, 12.4, 12.5, 12.6, 12.7, 12.8, 12.9, 13. , 13.1,\n",
       "       13.2, 13.3, 13.4, 13.5, 13.6, 13.7, 13.8, 13.9, 14. , 14.1, 14.2,\n",
       "       14.3, 14.4, 14.5, 14.6, 14.7, 14.8, 14.9, 15. , 15.1, 15.2, 15.3,\n",
       "       15.4, 15.5, 15.6, 15.7, 15.8, 15.9, 16. , 16.1, 16.2, 16.3, 16.4,\n",
       "       16.5, 16.6, 16.7, 16.8, 16.9, 17. , 17.1, 17.2, 17.3, 17.4, 17.5,\n",
       "       17.6, 17.7, 17.8, 17.9, 18. , 18.1, 18.2, 18.3, 18.4, 18.5, 18.6,\n",
       "       18.7, 18.8, 18.9, 19. , 19.1, 19.2, 19.3, 19.4, 19.5, 19.6, 19.7,\n",
       "       19.8, 19.9, 20. , 20.1, 20.2, 20.3, 20.4, 20.5, 20.6, 20.7, 20.8,\n",
       "       20.9, 21. , 21.1, 21.2, 21.3, 21.4, 21.5, 21.6, 21.7, 21.8, 21.9,\n",
       "       22. , 22.1, 22.2, 22.3, 22.4, 22.5, 22.6, 22.7, 22.8, 22.9, 23. ,\n",
       "       23.1, 23.2, 23.3, 23.4, 23.5, 23.6, 23.7, 23.8, 23.9, 24. , 24.1,\n",
       "       24.2, 24.3, 24.4, 24.5, 24.6, 24.7, 24.8, 24.9, 25. , 25.1, 25.2,\n",
       "       25.3, 25.4, 25.5, 25.6, 25.7, 25.8, 25.9, 26. , 26.1, 26.2, 26.3,\n",
       "       26.4, 26.5, 26.6, 26.7, 26.8, 26.9])"
      ]
     },
     "execution_count": 68,
     "metadata": {},
     "output_type": "execute_result"
    }
   ],
   "source": [
    "#membuat xreg\n",
    "xreg = np.array(range(0,int((x[-1]+1)*10)))\n",
    "xreg = xreg/10 #memperhalus bentuk garis\n",
    "xreg = xreg.astype('float64')\n",
    "xreg"
   ]
  },
  {
   "cell_type": "code",
   "execution_count": 69,
   "metadata": {},
   "outputs": [
    {
     "data": {
      "text/plain": [
       "array([ 1.11936523,  1.12940083,  1.1395264 ,  1.14974274,  1.16005069,\n",
       "        1.17045104,  1.18094464,  1.19153232,  1.20221493,  1.21299331,\n",
       "        1.22386832,  1.23484083,  1.24591171,  1.25708185,  1.26835213,\n",
       "        1.27972346,  1.29119674,  1.30277287,  1.3144528 ,  1.32623744,\n",
       "        1.33812773,  1.35012463,  1.36222908,  1.37444205,  1.38676452,\n",
       "        1.39919747,  1.41174188,  1.42439876,  1.43716911,  1.45005395,\n",
       "        1.46305431,  1.47617123,  1.48940575,  1.50275891,  1.5162318 ,\n",
       "        1.52982547,  1.54354102,  1.55737954,  1.57134212,  1.58542988,\n",
       "        1.59964395,  1.61398545,  1.62845553,  1.64305534,  1.65778604,\n",
       "        1.67264881,  1.68764484,  1.7027753 ,  1.71804142,  1.73344441,\n",
       "        1.74898549,  1.7646659 ,  1.7804869 ,  1.79644973,  1.81255568,\n",
       "        1.82880603,  1.84520207,  1.86174511,  1.87843646,  1.89527746,\n",
       "        1.91226944,  1.92941377,  1.9467118 ,  1.96416491,  1.9817745 ,\n",
       "        1.99954197,  2.01746873,  2.03555621,  2.05380586,  2.07221911,\n",
       "        2.09079746,  2.10954236,  2.12845532,  2.14753785,  2.16679146,\n",
       "        2.18621768,  2.20581807,  2.22559419,  2.2455476 ,  2.26567991,\n",
       "        2.28599271,  2.30648763,  2.32716629,  2.34803035,  2.36908146,\n",
       "        2.3903213 ,  2.41175156,  2.43337396,  2.45519022,  2.47720206,\n",
       "        2.49941125,  2.52181956,  2.54442876,  2.56724067,  2.59025709,\n",
       "        2.61347987,  2.63691085,  2.6605519 ,  2.6844049 ,  2.70847176,\n",
       "        2.73275438,  2.75725471,  2.78197469,  2.8069163 ,  2.83208152,\n",
       "        2.85747236,  2.88309084,  2.908939  ,  2.9350189 ,  2.96133261,\n",
       "        2.98788224,  3.0146699 ,  3.04169773,  3.06896786,  3.09648249,\n",
       "        3.1242438 ,  3.152254  ,  3.18051532,  3.20903002,  3.23780037,\n",
       "        3.26682865,  3.29611719,  3.32566831,  3.35548436,  3.38556774,\n",
       "        3.41592082,  3.44654603,  3.47744581,  3.50862262,  3.54007894,\n",
       "        3.57181728,  3.60384017,  3.63615016,  3.66874982,  3.70164176,\n",
       "        3.73482858,  3.76831294,  3.8020975 ,  3.83618495,  3.87057801,\n",
       "        3.90527942,  3.94029194,  3.97561837,  4.01126151,  4.04722421,\n",
       "        4.08350933,  4.12011976,  4.15705842,  4.19432825,  4.23193222,\n",
       "        4.26987333,  4.30815459,  4.34677907,  4.38574983,  4.42506997,\n",
       "        4.46474265,  4.504771  ,  4.54515822,  4.58590754,  4.62702219,\n",
       "        4.66850545,  4.71036062,  4.75259105,  4.79520009,  4.83819113,\n",
       "        4.88156761,  4.92533298,  4.96949073,  5.01404437,  5.05899745,\n",
       "        5.10435355,  5.1501163 ,  5.19628932,  5.24287631,  5.28988097,\n",
       "        5.33730704,  5.38515832,  5.43343859,  5.48215173,  5.53130159,\n",
       "        5.58089211,  5.63092723,  5.68141093,  5.73234724,  5.78374022,\n",
       "        5.83559396,  5.88791259,  5.94070028,  5.99396123,  6.04769969,\n",
       "        6.10191994,  6.1566263 ,  6.21182312,  6.26751481,  6.3237058 ,\n",
       "        6.38040056,  6.43760362,  6.49531953,  6.55355288,  6.61230832,\n",
       "        6.67159053,  6.73140424,  6.79175419,  6.85264521,  6.91408215,\n",
       "        6.97606989,  7.03861338,  7.1017176 ,  7.16538758,  7.22962839,\n",
       "        7.29444514,  7.359843  ,  7.42582718,  7.49240294,  7.55957558,\n",
       "        7.62735046,  7.69573296,  7.76472854,  7.8343427 ,  7.90458098,\n",
       "        7.97544897,  8.04695233,  8.11909675,  8.19188797,  8.2653318 ,\n",
       "        8.33943408,  8.41420072,  8.48963768,  8.56575096,  8.64254663,\n",
       "        8.72003081,  8.79820966,  8.87708943,  8.95667638,  9.03697687,\n",
       "        9.11799728,  9.19974408,  9.28222378,  9.36544294,  9.44940819,\n",
       "        9.53412623,  9.61960381,  9.70584773,  9.79286486,  9.88066214,\n",
       "        9.96924656, 10.05862518, 10.14880511, 10.23979355, 10.33159774,\n",
       "       10.42422499, 10.51768268, 10.61197827, 10.70711926, 10.80311322,\n",
       "       10.89996781, 10.99769075, 11.09628982, 11.19577286, 11.29614782,\n",
       "       11.39742268, 11.49960552, 11.60270447, 11.70672774, 11.81168363,\n",
       "       11.9175805 , 12.02442677, 12.13223097, 12.24100168, 12.35074757])"
      ]
     },
     "execution_count": 69,
     "metadata": {},
     "output_type": "execute_result"
    }
   ],
   "source": [
    "#membuat yreg\n",
    "yreg = a*np.e**(b*xreg)\n",
    "yreg"
   ]
  },
  {
   "cell_type": "code",
   "execution_count": 70,
   "metadata": {},
   "outputs": [
    {
     "data": {
      "text/plain": [
       "Text(0, 0.5, 'y-banyak orang')"
      ]
     },
     "execution_count": 70,
     "metadata": {},
     "output_type": "execute_result"
    },
    {
     "data": {
      "image/png": "[encoded data removed]",
      "text/plain": [
       "<Figure size 432x288 with 1 Axes>"
      ]
     },
     "metadata": {
      "needs_background": "light"
     },
     "output_type": "display_data"
    }
   ],
   "source": [
    "ax = plt.plot(x,y,'ro')\n",
    "plt.plot(xreg,yreg,'b')\n",
    "plt.grid()\n",
    "plt.xlabel('x-hari ke')\n",
    "plt.ylabel('y-banyak orang')"
   ]
  },
  {
   "cell_type": "markdown",
   "metadata": {},
   "source": [
    "**Selesai**"
   ]
  },
  {
   "cell_type": "markdown",
   "metadata": {},
   "source": [
    "#### Regresi Polinomial"
   ]
  },
  {
   "cell_type": "code",
   "execution_count": 71,
   "metadata": {},
   "outputs": [
    {
     "data": {
      "text/plain": [
       "array([ 1.,  1.,  1.,  2.,  2.,  2.,  3.,  3.,  3.,  3.,  3.,  3.,  3.,\n",
       "        3.,  5.,  5.,  5.,  6.,  7.,  7.,  7.,  7.,  7.,  8., 11., 13.])"
      ]
     },
     "execution_count": 71,
     "metadata": {},
     "output_type": "execute_result"
    }
   ],
   "source": [
    "y = np.array ((1, 1, 1, 2, 2, 2, 3, 3, 3, 3, 3, 3, 3, 3, 5, 5, 5, 6, 7, 7, 7, 7, 7, 8, 11, 13))\n",
    "y = y.astype('float64')\n",
    "y"
   ]
  },
  {
   "cell_type": "code",
   "execution_count": 72,
   "metadata": {},
   "outputs": [
    {
     "data": {
      "text/plain": [
       "array([ 1.,  2.,  3.,  4.,  5.,  6.,  7.,  8.,  9., 10., 11., 12., 13.,\n",
       "       14., 15., 16., 17., 18., 19., 20., 21., 22., 23., 24., 25., 26.])"
      ]
     },
     "execution_count": 72,
     "metadata": {},
     "output_type": "execute_result"
    }
   ],
   "source": [
    "x = np.array((range(1,1+len(y))))\n",
    "x = x.astype('float64')\n",
    "x"
   ]
  },
  {
   "cell_type": "markdown",
   "metadata": {},
   "source": [
    "**Membentuk regresi polinomial dari matriks**"
   ]
  },
  {
   "attachments": {
    "image.png": {
     "image/png": "[encoded data removed]"
    }
   },
   "cell_type": "markdown",
   "metadata": {},
   "source": [
    "![image.png](attachment:image.png)"
   ]
  },
  {
   "cell_type": "markdown",
   "metadata": {},
   "source": [
    "**Mendefinisikan elemen-elemen matriks kiri**"
   ]
  },
  {
   "cell_type": "code",
   "execution_count": 73,
   "metadata": {},
   "outputs": [
    {
     "data": {
      "text/plain": [
       "array([[2.6000000e+01, 3.5100000e+02, 6.2010000e+03, 1.2320100e+05],\n",
       "       [3.5100000e+02, 6.2010000e+03, 1.2320100e+05, 2.6106210e+06],\n",
       "       [6.2010000e+03, 1.2320100e+05, 2.6106210e+06, 5.7617001e+07],\n",
       "       [1.2320100e+05, 2.6106210e+06, 5.7617001e+07, 1.3077971e+09]])"
      ]
     },
     "execution_count": 73,
     "metadata": {},
     "output_type": "execute_result"
    }
   ],
   "source": [
    "n = len(y)\n",
    "a = x.sum()\n",
    "b = (x**2).sum()\n",
    "c = (x**3).sum()\n",
    "d = (x**4).sum()\n",
    "e = (x**5).sum()\n",
    "f = (x**6).sum()\n",
    "A = np.array(([n, a, b, c],\n",
    "    [a, b, c, d],\n",
    "    [b, c, d, e],\n",
    "    [c, d, e, f]))\n",
    "A"
   ]
  },
  {
   "cell_type": "markdown",
   "metadata": {},
   "source": [
    "**Mendefinisikan elemen-elemen matriks kanan**"
   ]
  },
  {
   "cell_type": "code",
   "execution_count": 74,
   "metadata": {},
   "outputs": [
    {
     "data": {
      "text/plain": [
       "array([[1.2100e+02],\n",
       "       [2.1760e+03],\n",
       "       [4.4510e+04],\n",
       "       [9.6901e+05]])"
      ]
     },
     "execution_count": 74,
     "metadata": {},
     "output_type": "execute_result"
    }
   ],
   "source": [
    "g = y.sum()\n",
    "h = (x*y).sum()\n",
    "i = ((x**2)*y).sum()\n",
    "j = ((x**3)*y).sum()\n",
    "B = np.array(([g],\n",
    "    [h],\n",
    "    [i],\n",
    "    [j]))\n",
    "B"
   ]
  },
  {
   "cell_type": "markdown",
   "metadata": {},
   "source": [
    "**Invers matriks sisi kiri**"
   ]
  },
  {
   "cell_type": "code",
   "execution_count": 75,
   "metadata": {},
   "outputs": [
    {
     "data": {
      "text/plain": [
       "array([[ 8.33110368e-01, -2.35061315e-01,  1.77257525e-02,\n",
       "        -3.90189521e-04],\n",
       "       [-2.35061315e-01,  8.25185444e-02, -6.83724072e-03,\n",
       "         1.58645748e-04],\n",
       "       [ 1.77257525e-02, -6.83724072e-03,  5.99105209e-04,\n",
       "        -1.44158690e-05],\n",
       "       [-3.90189521e-04,  1.58645748e-04, -1.44158690e-05,\n",
       "         3.55947382e-07]])"
      ]
     },
     "execution_count": 75,
     "metadata": {},
     "output_type": "execute_result"
    }
   ],
   "source": [
    "Ainv = np.linalg.inv(A)\n",
    "Ainv"
   ]
  },
  {
   "cell_type": "markdown",
   "metadata": {},
   "source": [
    "**Mencari nilai a0, a1, a2, dst dengan a = (A^-1)B namun di sini variabel a diganti dengan Y**"
   ]
  },
  {
   "cell_type": "code",
   "execution_count": 76,
   "metadata": {},
   "outputs": [
    {
     "name": "stdout",
     "output_type": "stream",
     "text": [
      "[[ 0.18862876]\n",
      " [ 0.52166548]\n",
      " [-0.0359681 ]\n",
      " [ 0.00126646]]\n"
     ]
    }
   ],
   "source": [
    "Y = Ainv.dot(B)\n",
    "print(Y)"
   ]
  },
  {
   "cell_type": "code",
   "execution_count": 77,
   "metadata": {},
   "outputs": [],
   "source": [
    "a0 = Y[0,0]\n",
    "a1 = Y[1,0]\n",
    "a2 = Y[2,0]\n",
    "a3 = Y[3,0]"
   ]
  },
  {
   "cell_type": "markdown",
   "metadata": {},
   "source": [
    "**Hasil persamaan regresi polinomial**"
   ]
  },
  {
   "cell_type": "code",
   "execution_count": 78,
   "metadata": {},
   "outputs": [
    {
     "name": "stdout",
     "output_type": "stream",
     "text": [
      "y = 0.0013x^3 + -0.0360X^2 + 0.5217x + 0.1886\n"
     ]
    }
   ],
   "source": [
    "print('y = {:.4f}x^3 + {:.4f}X^2 + {:.4f}x + {:.4f}'.format(a3, a2, a1, a0))"
   ]
  },
  {
   "cell_type": "code",
   "execution_count": 79,
   "metadata": {},
   "outputs": [
    {
     "data": {
      "text/plain": [
       "array([ 1.,  1.,  1.,  2.,  2.,  2.,  3.,  3.,  3.,  3.,  3.,  3.,  3.,\n",
       "        3.,  5.,  5.,  5.,  6.,  7.,  7.,  7.,  7.,  7.,  8., 11., 13.])"
      ]
     },
     "execution_count": 79,
     "metadata": {},
     "output_type": "execute_result"
    }
   ],
   "source": [
    "y"
   ]
  },
  {
   "cell_type": "markdown",
   "metadata": {},
   "source": [
    "**Koefisien Korelasi ( r ) dan Derajat Kesesuaian ( R ) r-square**"
   ]
  },
  {
   "cell_type": "code",
   "execution_count": 80,
   "metadata": {},
   "outputs": [
    {
     "name": "stdout",
     "output_type": "stream",
     "text": [
      "r = 0.9723 dan r^2 = 0.9306\n"
     ]
    }
   ],
   "source": [
    "yDt = (y-y.mean())**2\n",
    "yD = (y-a0-a1*x-a2*(x**2)-a3*(x**3))**2\n",
    "r = np.sqrt((yDt.sum()-yD.sum())/yDt.sum())\n",
    "R2 = r**2\n",
    "print('r = {:.4f} dan r^2 = {:.4f}'.format(r,r2))"
   ]
  },
  {
   "cell_type": "markdown",
   "metadata": {},
   "source": [
    "**Plot**"
   ]
  },
  {
   "cell_type": "code",
   "execution_count": 81,
   "metadata": {},
   "outputs": [
    {
     "data": {
      "text/plain": [
       "Text(0, 0.5, 'y')"
      ]
     },
     "execution_count": 81,
     "metadata": {},
     "output_type": "execute_result"
    },
    {
     "data": {
      "image/png": "[encoded data removed]",
      "text/plain": [
       "<Figure size 432x288 with 1 Axes>"
      ]
     },
     "metadata": {
      "needs_background": "light"
     },
     "output_type": "display_data"
    }
   ],
   "source": [
    "xreg = np.array(range(0,int((x[-1]+0.5)*10)))\n",
    "xreg = xreg/10\n",
    "yreg = a0 + a1*xreg + a2*(xreg**2) + a3*(xreg**3)\n",
    "ax = plt.plot(x,y,'ro')\n",
    "plt.plot(xreg,yreg,'b')\n",
    "plt.grid()\n",
    "plt.xlabel('x')\n",
    "plt.ylabel('y')"
   ]
  },
  {
   "cell_type": "markdown",
   "metadata": {},
   "source": [
    "**Perbandingan jika memakai polyfit dengan derajat dinaikkan**"
   ]
  },
  {
   "cell_type": "code",
   "execution_count": 82,
   "metadata": {},
   "outputs": [
    {
     "data": {
      "image/png": "[encoded data removed]",
      "text/plain": [
       "<Figure size 432x288 with 1 Axes>"
      ]
     },
     "metadata": {
      "needs_background": "light"
     },
     "output_type": "display_data"
    }
   ],
   "source": [
    "regpoly = np.poly1d(np.polyfit(x, y, 5))\n",
    "\n",
    "myline = np.linspace(1, len(y), 100)\n",
    "\n",
    "plt.scatter(x, y)\n",
    "plt.plot(myline, regpoly(myline), linewidth=3, color='r')\n",
    "plt.show()"
   ]
  },
  {
   "cell_type": "code",
   "execution_count": 83,
   "metadata": {},
   "outputs": [
    {
     "name": "stdout",
     "output_type": "stream",
     "text": [
      "           5            4           3          2\n",
      "2.579e-05 x - 0.001657 x + 0.03897 x - 0.3972 x + 1.859 x - 1.115\n"
     ]
    }
   ],
   "source": [
    "print (regpoly)"
   ]
  },
  {
   "cell_type": "code",
   "execution_count": 84,
   "metadata": {},
   "outputs": [
    {
     "name": "stdout",
     "output_type": "stream",
     "text": [
      "0.9626955428786206\n"
     ]
    }
   ],
   "source": [
    "print(r2_score(y, regpoly(x)))"
   ]
  },
  {
   "cell_type": "markdown",
   "metadata": {},
   "source": [
    "**Selesai**"
   ]
  },
  {
   "cell_type": "code",
   "execution_count": null,
   "metadata": {},
   "outputs": [],
   "source": []
  }
 ],
 "metadata": {
  "kernelspec": {
   "display_name": "Python 3",
   "language": "python",
   "name": "python3"
  },
  "language_info": {
   "codemirror_mode": {
    "name": "ipython",
    "version": 3
   },
   "file_extension": ".py",
   "mimetype": "text/x-python",
   "name": "python",
   "nbconvert_exporter": "python",
   "pygments_lexer": "ipython3",
   "version": "3.7.6"
  },
  "toc": {
   "base_numbering": 1,
   "nav_menu": {},
   "number_sections": true,
   "sideBar": true,
   "skip_h1_title": false,
   "title_cell": "Table of Contents",
   "title_sidebar": "Contents",
   "toc_cell": false,
   "toc_position": {
    "height": "calc(100% - 180px)",
    "left": "10px",
    "top": "150px",
    "width": "286.957px"
   },
   "toc_section_display": true,
   "toc_window_display": true
  }
 },
 "nbformat": 4,
 "nbformat_minor": 4
}
