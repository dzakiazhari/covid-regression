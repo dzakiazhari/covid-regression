{
 "cells": [
  {
   "cell_type": "markdown",
   "metadata": {},
   "source": [
    "# China"
   ]
  },
  {
   "cell_type": "markdown",
   "metadata": {},
   "source": [
    "---"
   ]
  },
  {
   "cell_type": "markdown",
   "metadata": {},
   "source": [
    "## Basic Data (Import and Visualization)"
   ]
  },
  {
   "cell_type": "markdown",
   "metadata": {},
   "source": [
    "### Start (Importing Libraries)"
   ]
  },
  {
   "cell_type": "code",
   "execution_count": 1,
   "metadata": {},
   "outputs": [],
   "source": [
    "import matplotlib.pyplot as plt\n",
    "import numpy as np\n",
    "import pandas as pd\n",
    "import seaborn as sns\n",
    "from sklearn.metrics import r2_score\n",
    "%matplotlib inline"
   ]
  },
  {
   "cell_type": "markdown",
   "metadata": {},
   "source": [
    "### Read data and Plotting"
   ]
  },
  {
   "cell_type": "code",
   "execution_count": 2,
   "metadata": {},
   "outputs": [
    {
     "data": {
      "text/plain": [
       "pandas.core.frame.DataFrame"
      ]
     },
     "execution_count": 2,
     "metadata": {},
     "output_type": "execute_result"
    }
   ],
   "source": [
    "df = pd.read_csv('/Users/abdul/Documents/Academics/Metnum/UTS/dataset/csv/china.csv')\n",
    "type(df)"
   ]
  },
  {
   "cell_type": "code",
   "execution_count": 3,
   "metadata": {},
   "outputs": [
    {
     "data": {
      "text/plain": [
       "(65, 5)"
      ]
     },
     "execution_count": 3,
     "metadata": {},
     "output_type": "execute_result"
    }
   ],
   "source": [
    "df.shape"
   ]
  },
  {
   "cell_type": "code",
   "execution_count": 4,
   "metadata": {},
   "outputs": [],
   "source": [
    "df.columns\n",
    "df['Date'] = pd.to_datetime(df['Date'])\n",
    "df.set_index('Date', inplace=True)"
   ]
  },
  {
   "cell_type": "code",
   "execution_count": 5,
   "metadata": {},
   "outputs": [
    {
     "data": {
      "text/html": [
       "<div>\n",
       "<style scoped>\n",
       "    .dataframe tbody tr th:only-of-type {\n",
       "        vertical-align: middle;\n",
       "    }\n",
       "\n",
       "    .dataframe tbody tr th {\n",
       "        vertical-align: top;\n",
       "    }\n",
       "\n",
       "    .dataframe thead th {\n",
       "        text-align: right;\n",
       "    }\n",
       "</style>\n",
       "<table border=\"1\" class=\"dataframe\">\n",
       "  <thead>\n",
       "    <tr style=\"text-align: right;\">\n",
       "      <th></th>\n",
       "      <th>Confirmed</th>\n",
       "      <th>New</th>\n",
       "      <th>Deaths</th>\n",
       "      <th>Active</th>\n",
       "    </tr>\n",
       "    <tr>\n",
       "      <th>Date</th>\n",
       "      <th></th>\n",
       "      <th></th>\n",
       "      <th></th>\n",
       "      <th></th>\n",
       "    </tr>\n",
       "  </thead>\n",
       "  <tbody>\n",
       "    <tr>\n",
       "      <th>2020-01-22</th>\n",
       "      <td>571</td>\n",
       "      <td>0</td>\n",
       "      <td>17</td>\n",
       "      <td>554</td>\n",
       "    </tr>\n",
       "    <tr>\n",
       "      <th>2020-01-23</th>\n",
       "      <td>830</td>\n",
       "      <td>259</td>\n",
       "      <td>25</td>\n",
       "      <td>771</td>\n",
       "    </tr>\n",
       "    <tr>\n",
       "      <th>2020-01-24</th>\n",
       "      <td>1287</td>\n",
       "      <td>457</td>\n",
       "      <td>41</td>\n",
       "      <td>1208</td>\n",
       "    </tr>\n",
       "    <tr>\n",
       "      <th>2020-01-25</th>\n",
       "      <td>1975</td>\n",
       "      <td>688</td>\n",
       "      <td>56</td>\n",
       "      <td>1870</td>\n",
       "    </tr>\n",
       "    <tr>\n",
       "      <th>2020-01-26</th>\n",
       "      <td>2744</td>\n",
       "      <td>769</td>\n",
       "      <td>80</td>\n",
       "      <td>2613</td>\n",
       "    </tr>\n",
       "    <tr>\n",
       "      <th>...</th>\n",
       "      <td>...</td>\n",
       "      <td>...</td>\n",
       "      <td>...</td>\n",
       "      <td>...</td>\n",
       "    </tr>\n",
       "    <tr>\n",
       "      <th>2020-03-22</th>\n",
       "      <td>81093</td>\n",
       "      <td>39</td>\n",
       "      <td>3270</td>\n",
       "      <td>5120</td>\n",
       "    </tr>\n",
       "    <tr>\n",
       "      <th>2020-03-23</th>\n",
       "      <td>81171</td>\n",
       "      <td>78</td>\n",
       "      <td>3277</td>\n",
       "      <td>4735</td>\n",
       "    </tr>\n",
       "    <tr>\n",
       "      <th>2020-03-24</th>\n",
       "      <td>81218</td>\n",
       "      <td>47</td>\n",
       "      <td>3281</td>\n",
       "      <td>4287</td>\n",
       "    </tr>\n",
       "    <tr>\n",
       "      <th>2020-03-25</th>\n",
       "      <td>81285</td>\n",
       "      <td>67</td>\n",
       "      <td>3287</td>\n",
       "      <td>3947</td>\n",
       "    </tr>\n",
       "    <tr>\n",
       "      <th>2020-03-26</th>\n",
       "      <td>81340</td>\n",
       "      <td>55</td>\n",
       "      <td>3292</td>\n",
       "      <td>3460</td>\n",
       "    </tr>\n",
       "  </tbody>\n",
       "</table>\n",
       "<p>65 rows × 4 columns</p>\n",
       "</div>"
      ],
      "text/plain": [
       "            Confirmed  New  Deaths  Active\n",
       "Date                                      \n",
       "2020-01-22        571    0      17     554\n",
       "2020-01-23        830  259      25     771\n",
       "2020-01-24       1287  457      41    1208\n",
       "2020-01-25       1975  688      56    1870\n",
       "2020-01-26       2744  769      80    2613\n",
       "...               ...  ...     ...     ...\n",
       "2020-03-22      81093   39    3270    5120\n",
       "2020-03-23      81171   78    3277    4735\n",
       "2020-03-24      81218   47    3281    4287\n",
       "2020-03-25      81285   67    3287    3947\n",
       "2020-03-26      81340   55    3292    3460\n",
       "\n",
       "[65 rows x 4 columns]"
      ]
     },
     "execution_count": 5,
     "metadata": {},
     "output_type": "execute_result"
    }
   ],
   "source": [
    "df"
   ]
  },
  {
   "cell_type": "code",
   "execution_count": 6,
   "metadata": {},
   "outputs": [
    {
     "data": {
      "text/plain": [
       "<matplotlib.axes._subplots.AxesSubplot at 0x16fc5fff8c8>"
      ]
     },
     "execution_count": 6,
     "metadata": {},
     "output_type": "execute_result"
    },
    {
     "data": {
      "image/png": "[encoded data removed]",
      "text/plain": [
       "<Figure size 1080x288 with 1 Axes>"
      ]
     },
     "metadata": {
      "needs_background": "light"
     },
     "output_type": "display_data"
    }
   ],
   "source": [
    "df.plot.area(y=[\"Active\", \"Confirmed\", \"Deaths\", \"New\"], figsize=(15,4), alpha=0.5, subplots=False, stacked=False)"
   ]
  },
  {
   "cell_type": "code",
   "execution_count": 7,
   "metadata": {},
   "outputs": [
    {
     "data": {
      "text/plain": [
       "<matplotlib.legend.Legend at 0x16fc697f188>"
      ]
     },
     "execution_count": 7,
     "metadata": {},
     "output_type": "execute_result"
    },
    {
     "data": {
      "image/png": "[encoded data removed]",
      "text/plain": [
       "<Figure size 432x288 with 2 Axes>"
      ]
     },
     "metadata": {
      "needs_background": "light"
     },
     "output_type": "display_data"
    }
   ],
   "source": [
    "fig, ax = plt.subplots()\n",
    "ax2 = ax.twinx()\n",
    "ax.bar(df.index, df[\"Confirmed\"], color=(190/255,190/255,190/255,0.7), label='Confirmed')\n",
    "ax2.plot(df.index, df[\"Active\"], color='green', label='Active')\n",
    "ax.set_xticklabels(df.index)\n",
    "ax.legend(loc='best')\n",
    "ax2.legend(loc='best')\n",
    "ax.xaxis.grid(True)\n",
    "ax.yaxis.grid(True)\n",
    "ax.set_title('Banyak kasus aktif dibanding dengan total kasus')\n",
    "fig.autofmt_xdate()"
   ]
  },
  {
   "cell_type": "code",
   "execution_count": 8,
   "metadata": {},
   "outputs": [
    {
     "data": {
      "text/plain": [
       "<matplotlib.legend.Legend at 0x16fc6c95288>"
      ]
     },
     "execution_count": 8,
     "metadata": {},
     "output_type": "execute_result"
    },
    {
     "data": {
      "image/png": "[encoded data removed]",
      "text/plain": [
       "<Figure size 432x288 with 2 Axes>"
      ]
     },
     "metadata": {
      "needs_background": "light"
     },
     "output_type": "display_data"
    }
   ],
   "source": [
    "fig, ax3 = plt.subplots()\n",
    "ax4 = ax3.twinx()\n",
    "ax3.bar(df.index, df[\"New\"], color=(190/255,190/255,190/255,0.7), label='New')\n",
    "ax4.plot(df.index, df[\"Deaths\"], color='red', label='Deaths')\n",
    "ax3.set_xticklabels(df.index)\n",
    "ax3.legend(loc='best')\n",
    "ax4.legend(loc='best')\n",
    "ax3.xaxis.grid(True)\n",
    "ax4.yaxis.grid(True)\n",
    "ax3.set_title('Banyak kasus kematian dibanding dengan kasus baru')\n",
    "fig.autofmt_xdate()"
   ]
  },
  {
   "cell_type": "markdown",
   "metadata": {},
   "source": [
    "## Regressions"
   ]
  },
  {
   "cell_type": "markdown",
   "metadata": {},
   "source": [
    "### Active (Trend Naik)"
   ]
  },
  {
   "cell_type": "markdown",
   "metadata": {},
   "source": [
    "- Start: 22-Jan-2020\n",
    "- End: 17-Feb-2020\n",
    "- Range: 27 Days"
   ]
  },
  {
   "cell_type": "markdown",
   "metadata": {},
   "source": [
    "**Data**"
   ]
  },
  {
   "cell_type": "code",
   "execution_count": 9,
   "metadata": {},
   "outputs": [
    {
     "data": {
      "text/plain": [
       "array([  554.,   771.,  1208.,  1870.,  2613.,  4349.,  5739.,  7417.,\n",
       "        9308., 11289., 13748., 16369., 19383., 22942., 26302., 28985.,\n",
       "       31774., 33738., 35982., 37626., 38791., 51591., 55748., 56873.,\n",
       "       57416., 57934., 58016.])"
      ]
     },
     "execution_count": 9,
     "metadata": {},
     "output_type": "execute_result"
    }
   ],
   "source": [
    "y = np.array ((554, 771, 1208, 1870, 2613, 4349, 5739, 7417, 9308, 11289, 13748, 16369, 19383, 22942, 26302, 28985, 31774, 33738, 35982, 37626, 38791, 51591, 55748, 56873, 57416, 57934, 58016))\n",
    "y = y.astype('float64')\n",
    "y"
   ]
  },
  {
   "cell_type": "code",
   "execution_count": 10,
   "metadata": {},
   "outputs": [
    {
     "data": {
      "text/plain": [
       "array([ 1.,  2.,  3.,  4.,  5.,  6.,  7.,  8.,  9., 10., 11., 12., 13.,\n",
       "       14., 15., 16., 17., 18., 19., 20., 21., 22., 23., 24., 25., 26.,\n",
       "       27.])"
      ]
     },
     "execution_count": 10,
     "metadata": {},
     "output_type": "execute_result"
    }
   ],
   "source": [
    "x = np.array((range(1,1+len(y))))\n",
    "x = x.astype('float64')\n",
    "x"
   ]
  },
  {
   "cell_type": "markdown",
   "metadata": {},
   "source": [
    "**Plot**"
   ]
  },
  {
   "cell_type": "code",
   "execution_count": 11,
   "metadata": {},
   "outputs": [
    {
     "data": {
      "text/plain": [
       "Text(0, 0.5, 'y-jumlah orang')"
      ]
     },
     "execution_count": 11,
     "metadata": {},
     "output_type": "execute_result"
    },
    {
     "data": {
      "image/png": "[encoded data removed]",
      "text/plain": [
       "<Figure size 432x288 with 1 Axes>"
      ]
     },
     "metadata": {
      "needs_background": "light"
     },
     "output_type": "display_data"
    }
   ],
   "source": [
    "ax = plt.plot(x,y,'ro')\n",
    "plt.grid()\n",
    "plt.xlabel('x-hari')\n",
    "plt.ylabel('y-jumlah orang')"
   ]
  },
  {
   "cell_type": "markdown",
   "metadata": {},
   "source": [
    "#### Regresi Berpangkat"
   ]
  },
  {
   "attachments": {
    "image.png": {
     "image/png": "[encoded data removed]"
    }
   },
   "cell_type": "markdown",
   "metadata": {},
   "source": [
    "![image.png](attachment:image.png)"
   ]
  },
  {
   "cell_type": "markdown",
   "metadata": {},
   "source": [
    " **Membuat xreg untuk plotting selanjutnya**"
   ]
  },
  {
   "cell_type": "code",
   "execution_count": 12,
   "metadata": {},
   "outputs": [],
   "source": [
    "xreg = np.array(range(0,int((x[-1]+1)*10)))\n",
    "xreg = xreg/10 #memperhalus bentuk garis\n",
    "xreg = xreg.astype('float64')"
   ]
  },
  {
   "cell_type": "markdown",
   "metadata": {},
   "source": [
    "<b>Menghitung regresi linear</b>"
   ]
  },
  {
   "attachments": {
    "image.png": {
     "image/png": "[encoded data removed]"
    }
   },
   "cell_type": "markdown",
   "metadata": {},
   "source": [
    "![image.png](attachment:image.png)"
   ]
  },
  {
   "attachments": {
    "image.png": {
     "image/png": "[encoded data removed]"
    }
   },
   "cell_type": "markdown",
   "metadata": {},
   "source": [
    "![image.png](attachment:image.png)"
   ]
  },
  {
   "attachments": {
    "image.png": {
     "image/png": "[encoded data removed]"
    }
   },
   "cell_type": "markdown",
   "metadata": {},
   "source": [
    "![image.png](attachment:image.png)"
   ]
  },
  {
   "cell_type": "code",
   "execution_count": 13,
   "metadata": {},
   "outputs": [],
   "source": [
    "p = np.log10(y)\n",
    "q = np.log10(x)\n",
    "n = len(y)\n",
    "pq = p*q\n",
    "qq = q**2\n",
    "B = (n*pq.sum() - q.sum()*p.sum())/(n*qq.sum() - (q.sum())**2)\n",
    "A = p.mean()-B*q.mean()"
   ]
  },
  {
   "cell_type": "markdown",
   "metadata": {},
   "source": [
    "**Hasil regresi linear**"
   ]
  },
  {
   "cell_type": "code",
   "execution_count": 14,
   "metadata": {},
   "outputs": [
    {
     "name": "stdout",
     "output_type": "stream",
     "text": [
      "p = 1.6592q + 2.4187\n"
     ]
    }
   ],
   "source": [
    "if A>0 :\n",
    "    print (\"p = {:.4f}q + {:.4f}\". format(B,A))\n",
    "else :\n",
    "    print (\"p = {:.4f}q {:.4f}\". format(B,A))"
   ]
  },
  {
   "cell_type": "markdown",
   "metadata": {},
   "source": [
    "**Hitung kembali dalam bentuk bilangan berpangkat**"
   ]
  },
  {
   "cell_type": "code",
   "execution_count": 15,
   "metadata": {},
   "outputs": [
    {
     "name": "stdout",
     "output_type": "stream",
     "text": [
      "y = 262.2287x^(1.6592)\n"
     ]
    }
   ],
   "source": [
    "a = 10**A #A=log(a)\n",
    "b = B\n",
    "print (\"y = {:.4f}x^({:.4f})\".format(a,b))"
   ]
  },
  {
   "cell_type": "markdown",
   "metadata": {},
   "source": [
    "**Hitung Koefisien Korelasi [r-square]**"
   ]
  },
  {
   "cell_type": "code",
   "execution_count": 16,
   "metadata": {},
   "outputs": [
    {
     "name": "stdout",
     "output_type": "stream",
     "text": [
      "r = 0.9894 dan r^2 = 0.9789\n"
     ]
    }
   ],
   "source": [
    "yDt = ((p - p.mean())**2).sum()\n",
    "yD = ((p - (q*B) - A)**2).sum()\n",
    "r = np.sqrt((yDt-yD)/yDt)\n",
    "r2 = r**2\n",
    "print('r = {:.4f} dan r^2 = {:.4f}'.format(r,r2))"
   ]
  },
  {
   "cell_type": "markdown",
   "metadata": {},
   "source": [
    "**Plot data dan perbandingan dengan hasil regresinya**"
   ]
  },
  {
   "cell_type": "code",
   "execution_count": 17,
   "metadata": {},
   "outputs": [],
   "source": [
    "yreg = a*(xreg**b)"
   ]
  },
  {
   "cell_type": "code",
   "execution_count": 18,
   "metadata": {},
   "outputs": [
    {
     "data": {
      "text/plain": [
       "Text(0, 0.5, 'banyak kasus aktif')"
      ]
     },
     "execution_count": 18,
     "metadata": {},
     "output_type": "execute_result"
    },
    {
     "data": {
      "image/png": "[encoded data removed]",
      "text/plain": [
       "<Figure size 432x288 with 1 Axes>"
      ]
     },
     "metadata": {
      "needs_background": "light"
     },
     "output_type": "display_data"
    }
   ],
   "source": [
    "ax = plt.plot(x,y,'ro')\n",
    "plt.plot(xreg,yreg,'g')\n",
    "plt.grid()\n",
    "plt.xlabel('x-hari ke')\n",
    "plt.ylabel('banyak kasus aktif')"
   ]
  },
  {
   "cell_type": "markdown",
   "metadata": {},
   "source": [
    "**Selesai**"
   ]
  },
  {
   "cell_type": "markdown",
   "metadata": {},
   "source": [
    "#### Regresi Eksponensial"
   ]
  },
  {
   "attachments": {
    "image.png": {
     "image/png": "[encoded data removed]"
    }
   },
   "cell_type": "markdown",
   "metadata": {},
   "source": [
    "![image.png](attachment:image.png)"
   ]
  },
  {
   "attachments": {
    "image.png": {
     "image/png": "[encoded data removed]"
    }
   },
   "cell_type": "markdown",
   "metadata": {},
   "source": [
    "![image.png](attachment:image.png)"
   ]
  },
  {
   "attachments": {
    "image.png": {
     "image/png": "[encoded data removed]"
    }
   },
   "cell_type": "markdown",
   "metadata": {},
   "source": [
    "![image.png](attachment:image.png)"
   ]
  },
  {
   "cell_type": "markdown",
   "metadata": {},
   "source": [
    "**Linearisasi**"
   ]
  },
  {
   "cell_type": "code",
   "execution_count": 19,
   "metadata": {},
   "outputs": [
    {
     "data": {
      "text/plain": [
       "array([ 1.,  2.,  3.,  4.,  5.,  6.,  7.,  8.,  9., 10., 11., 12., 13.,\n",
       "       14., 15., 16., 17., 18., 19., 20., 21., 22., 23., 24., 25., 26.,\n",
       "       27.])"
      ]
     },
     "execution_count": 19,
     "metadata": {},
     "output_type": "execute_result"
    }
   ],
   "source": [
    "x"
   ]
  },
  {
   "cell_type": "code",
   "execution_count": 20,
   "metadata": {},
   "outputs": [
    {
     "data": {
      "text/plain": [
       "array([  554.,   771.,  1208.,  1870.,  2613.,  4349.,  5739.,  7417.,\n",
       "        9308., 11289., 13748., 16369., 19383., 22942., 26302., 28985.,\n",
       "       31774., 33738., 35982., 37626., 38791., 51591., 55748., 56873.,\n",
       "       57416., 57934., 58016.])"
      ]
     },
     "execution_count": 20,
     "metadata": {},
     "output_type": "execute_result"
    }
   ],
   "source": [
    "y"
   ]
  },
  {
   "cell_type": "code",
   "execution_count": 21,
   "metadata": {},
   "outputs": [],
   "source": [
    "p = np.log(y)\n",
    "q = x"
   ]
  },
  {
   "cell_type": "markdown",
   "metadata": {},
   "source": [
    "**Hitung regresi linear**"
   ]
  },
  {
   "attachments": {
    "image.png": {
     "image/png": "[encoded data removed]"
    }
   },
   "cell_type": "markdown",
   "metadata": {},
   "source": [
    "![image.png](attachment:image.png)"
   ]
  },
  {
   "cell_type": "code",
   "execution_count": 22,
   "metadata": {},
   "outputs": [],
   "source": [
    "n = len(q)\n",
    "pq = p*q\n",
    "qq = q**2"
   ]
  },
  {
   "cell_type": "code",
   "execution_count": 23,
   "metadata": {},
   "outputs": [
    {
     "data": {
      "text/plain": [
       "0.16756689028354152"
      ]
     },
     "execution_count": 23,
     "metadata": {},
     "output_type": "execute_result"
    }
   ],
   "source": [
    "B = (n*pq.sum()-q.sum()*p.sum())/(n*qq.sum()-(q.sum())**2)\n",
    "B"
   ]
  },
  {
   "cell_type": "code",
   "execution_count": 24,
   "metadata": {},
   "outputs": [
    {
     "data": {
      "text/plain": [
       "7.190413544807566"
      ]
     },
     "execution_count": 24,
     "metadata": {},
     "output_type": "execute_result"
    }
   ],
   "source": [
    "A = p.mean()-B*q.mean()\n",
    "A"
   ]
  },
  {
   "cell_type": "markdown",
   "metadata": {},
   "source": [
    "**Hasil persamaan linear**"
   ]
  },
  {
   "cell_type": "code",
   "execution_count": 25,
   "metadata": {},
   "outputs": [
    {
     "name": "stdout",
     "output_type": "stream",
     "text": [
      "p = 0.1676q7.1904\n"
     ]
    }
   ],
   "source": [
    "print(\"p = {:.4f}q{:.4f}\".format(B,A))"
   ]
  },
  {
   "cell_type": "markdown",
   "metadata": {},
   "source": [
    "**Hitung kembali dalam bentuk bilangan berpangkat**"
   ]
  },
  {
   "cell_type": "code",
   "execution_count": 26,
   "metadata": {},
   "outputs": [],
   "source": [
    "a = np.e**A # A=log(a)\n",
    "b = B"
   ]
  },
  {
   "cell_type": "code",
   "execution_count": 27,
   "metadata": {},
   "outputs": [
    {
     "name": "stdout",
     "output_type": "stream",
     "text": [
      "y = 1326.6517e^(0.1676x)\n"
     ]
    }
   ],
   "source": [
    "print(\"y = {:.4f}e^({:.4f}x)\".format(a,b))"
   ]
  },
  {
   "cell_type": "markdown",
   "metadata": {},
   "source": [
    "**Hitung Koefisien Korelasi [r-square]**"
   ]
  },
  {
   "cell_type": "code",
   "execution_count": 28,
   "metadata": {},
   "outputs": [],
   "source": [
    "yDt = (y-y.mean())**2\n",
    "yD = (y - a*(np.e**(b*x)))**2"
   ]
  },
  {
   "cell_type": "code",
   "execution_count": 29,
   "metadata": {},
   "outputs": [],
   "source": [
    "r = np.sqrt((yDt.sum()-yD.sum())/yDt.sum())\n",
    "R2 = r**2"
   ]
  },
  {
   "cell_type": "code",
   "execution_count": 30,
   "metadata": {},
   "outputs": [
    {
     "name": "stdout",
     "output_type": "stream",
     "text": [
      "r = 0.5191 dan r^2 = 0.2695\n"
     ]
    }
   ],
   "source": [
    "print('r = {:.4f} dan r^2 = {:.4f}'.format(r,R2))"
   ]
  },
  {
   "cell_type": "markdown",
   "metadata": {},
   "source": [
    "**Plot data dan regresinya**"
   ]
  },
  {
   "cell_type": "code",
   "execution_count": 31,
   "metadata": {},
   "outputs": [],
   "source": [
    "xreg = np.array(range(0,int (x[-1]+1)*10))\n",
    "xreg = xreg/10 #memperhalus bentuk garis regresi"
   ]
  },
  {
   "cell_type": "code",
   "execution_count": 32,
   "metadata": {},
   "outputs": [],
   "source": [
    "yreg = a*(np.e**(b*xreg))"
   ]
  },
  {
   "cell_type": "code",
   "execution_count": 33,
   "metadata": {},
   "outputs": [
    {
     "data": {
      "text/plain": [
       "Text(0, 0.5, 'y')"
      ]
     },
     "execution_count": 33,
     "metadata": {},
     "output_type": "execute_result"
    },
    {
     "data": {
      "image/png": "[encoded data removed]",
      "text/plain": [
       "<Figure size 432x288 with 1 Axes>"
      ]
     },
     "metadata": {
      "needs_background": "light"
     },
     "output_type": "display_data"
    }
   ],
   "source": [
    "ax = plt.plot(x,y,'ro')\n",
    "plt.plot(xreg,yreg,'b')\n",
    "plt.grid()\n",
    "plt.xlabel('x')\n",
    "plt.ylabel('y')"
   ]
  },
  {
   "cell_type": "markdown",
   "metadata": {},
   "source": [
    "**Selesai**"
   ]
  },
  {
   "cell_type": "markdown",
   "metadata": {},
   "source": [
    "#### Regresi Polinomial"
   ]
  },
  {
   "cell_type": "code",
   "execution_count": 34,
   "metadata": {},
   "outputs": [
    {
     "data": {
      "text/plain": [
       "array([ 1.,  2.,  3.,  4.,  5.,  6.,  7.,  8.,  9., 10., 11., 12., 13.,\n",
       "       14., 15., 16., 17., 18., 19., 20., 21., 22., 23., 24., 25., 26.,\n",
       "       27.])"
      ]
     },
     "execution_count": 34,
     "metadata": {},
     "output_type": "execute_result"
    }
   ],
   "source": [
    "x"
   ]
  },
  {
   "cell_type": "code",
   "execution_count": 35,
   "metadata": {},
   "outputs": [
    {
     "data": {
      "text/plain": [
       "array([  554.,   771.,  1208.,  1870.,  2613.,  4349.,  5739.,  7417.,\n",
       "        9308., 11289., 13748., 16369., 19383., 22942., 26302., 28985.,\n",
       "       31774., 33738., 35982., 37626., 38791., 51591., 55748., 56873.,\n",
       "       57416., 57934., 58016.])"
      ]
     },
     "execution_count": 35,
     "metadata": {},
     "output_type": "execute_result"
    }
   ],
   "source": [
    "y"
   ]
  },
  {
   "cell_type": "markdown",
   "metadata": {},
   "source": [
    "**Membentuk regresi polinomial dari matriks**"
   ]
  },
  {
   "attachments": {
    "image.png": {
     "image/png": "[encoded data removed]"
    }
   },
   "cell_type": "markdown",
   "metadata": {},
   "source": [
    "![image.png](attachment:image.png)"
   ]
  },
  {
   "cell_type": "markdown",
   "metadata": {},
   "source": [
    "**Mendefinisikan elemen-elemen matriks kiri**"
   ]
  },
  {
   "cell_type": "code",
   "execution_count": 36,
   "metadata": {},
   "outputs": [
    {
     "data": {
      "text/plain": [
       "array([[2.70000000e+01, 3.78000000e+02, 6.93000000e+03, 1.42884000e+05],\n",
       "       [3.78000000e+02, 6.93000000e+03, 1.42884000e+05, 3.14206200e+06],\n",
       "       [6.93000000e+03, 1.42884000e+05, 3.14206200e+06, 7.19659080e+07],\n",
       "       [1.42884000e+05, 3.14206200e+06, 7.19659080e+07, 1.69521759e+09]])"
      ]
     },
     "execution_count": 36,
     "metadata": {},
     "output_type": "execute_result"
    }
   ],
   "source": [
    "n = len(y)\n",
    "a = x.sum()\n",
    "b = (x**2).sum()\n",
    "c = (x**3).sum()\n",
    "d = (x**4).sum()\n",
    "e = (x**5).sum()\n",
    "f = (x**6).sum()\n",
    "A = np.array(([n, a, b, c],\n",
    "    [a, b, c, d],\n",
    "    [b, c, d, e],\n",
    "    [c, d, e, f]))\n",
    "A"
   ]
  },
  {
   "cell_type": "markdown",
   "metadata": {},
   "source": [
    "**Mendefinisikan elemen-elemen matriks kanan**"
   ]
  },
  {
   "cell_type": "code",
   "execution_count": 37,
   "metadata": {},
   "outputs": [
    {
     "data": {
      "text/plain": [
       "array([[6.88336000e+05],\n",
       "       [1.38161480e+07],\n",
       "       [2.97858342e+08],\n",
       "       [6.71593768e+09]])"
      ]
     },
     "execution_count": 37,
     "metadata": {},
     "output_type": "execute_result"
    }
   ],
   "source": [
    "g = y.sum()\n",
    "h = (x*y).sum()\n",
    "i = ((x**2)*y).sum()\n",
    "j = ((x**3)*y).sum()\n",
    "B = np.array(([g],\n",
    "    [h],\n",
    "    [i],\n",
    "    [j]))\n",
    "B"
   ]
  },
  {
   "cell_type": "markdown",
   "metadata": {},
   "source": [
    "**Invers matriks sisi kiri**"
   ]
  },
  {
   "cell_type": "code",
   "execution_count": 38,
   "metadata": {},
   "outputs": [
    {
     "data": {
      "text/plain": [
       "array([[ 7.92877493e-01, -2.15622032e-01,  1.56695157e-02,\n",
       "        -3.32383666e-04],\n",
       "       [-2.15622032e-01,  7.31260828e-02, -5.84373056e-03,\n",
       "         1.30715744e-04],\n",
       "       [ 1.56695157e-02, -5.84373056e-03,  4.94014287e-04,\n",
       "        -1.14615057e-05],\n",
       "       [-3.32383666e-04,  1.30715744e-04, -1.14615057e-05,\n",
       "         2.72892993e-07]])"
      ]
     },
     "execution_count": 38,
     "metadata": {},
     "output_type": "execute_result"
    }
   ],
   "source": [
    "Ainv = np.linalg.inv(A)\n",
    "Ainv"
   ]
  },
  {
   "cell_type": "markdown",
   "metadata": {},
   "source": [
    "**Mencari nilai a0, a1, a2, dst dengan a = (A^-1)B namun di sini variabel a diganti dengan Y**"
   ]
  },
  {
   "cell_type": "code",
   "execution_count": 39,
   "metadata": {},
   "outputs": [
    {
     "name": "stdout",
     "output_type": "stream",
     "text": [
      "[[1728.18290599]\n",
      " [-824.72991032]\n",
      " [ 219.56384152]\n",
      " [  -3.97633363]]\n"
     ]
    }
   ],
   "source": [
    "Y = Ainv.dot(B)\n",
    "print(Y)"
   ]
  },
  {
   "cell_type": "code",
   "execution_count": 40,
   "metadata": {},
   "outputs": [],
   "source": [
    "a0 = Y[0,0]\n",
    "a1 = Y[1,0]\n",
    "a2 = Y[2,0]\n",
    "a3 = Y[3,0]"
   ]
  },
  {
   "cell_type": "markdown",
   "metadata": {},
   "source": [
    "**Hasil persamaan regresi polinomial**"
   ]
  },
  {
   "cell_type": "code",
   "execution_count": 41,
   "metadata": {},
   "outputs": [
    {
     "name": "stdout",
     "output_type": "stream",
     "text": [
      "y = -3.9763x^3 + 219.5638X^2 + -824.7299x + 1728.1829\n"
     ]
    }
   ],
   "source": [
    "print('y = {:.4f}x^3 + {:.4f}X^2 + {:.4f}x + {:.4f}'.format(a3, a2, a1, a0))"
   ]
  },
  {
   "cell_type": "code",
   "execution_count": 42,
   "metadata": {},
   "outputs": [
    {
     "data": {
      "text/plain": [
       "array([  554.,   771.,  1208.,  1870.,  2613.,  4349.,  5739.,  7417.,\n",
       "        9308., 11289., 13748., 16369., 19383., 22942., 26302., 28985.,\n",
       "       31774., 33738., 35982., 37626., 38791., 51591., 55748., 56873.,\n",
       "       57416., 57934., 58016.])"
      ]
     },
     "execution_count": 42,
     "metadata": {},
     "output_type": "execute_result"
    }
   ],
   "source": [
    "y"
   ]
  },
  {
   "cell_type": "markdown",
   "metadata": {},
   "source": [
    "**Hitung Koefisien Korelasi [r-square] dan hasil regresi**"
   ]
  },
  {
   "cell_type": "code",
   "execution_count": 43,
   "metadata": {},
   "outputs": [
    {
     "name": "stdout",
     "output_type": "stream",
     "text": [
      "nilai r-square =  0.9890381268571793\n"
     ]
    }
   ],
   "source": [
    "yDt = (y-y.mean())**2\n",
    "yD = (y-a0-a1*x-a2*(x**2)-a3*(x**3))**2\n",
    "r = np.sqrt((yDt.sum()-yD.sum())/yDt.sum())\n",
    "R2 = r**2\n",
    "print('nilai r-square = ',R2)"
   ]
  },
  {
   "cell_type": "markdown",
   "metadata": {},
   "source": [
    "**Plot**"
   ]
  },
  {
   "cell_type": "code",
   "execution_count": 44,
   "metadata": {},
   "outputs": [
    {
     "data": {
      "text/plain": [
       "Text(0, 0.5, 'y')"
      ]
     },
     "execution_count": 44,
     "metadata": {},
     "output_type": "execute_result"
    },
    {
     "data": {
      "image/png": "[encoded data removed]",
      "text/plain": [
       "<Figure size 432x288 with 1 Axes>"
      ]
     },
     "metadata": {
      "needs_background": "light"
     },
     "output_type": "display_data"
    }
   ],
   "source": [
    "xreg = np.array(range(0,int((x[-1]+0.5)*10)))\n",
    "xreg = xreg/10\n",
    "yreg = a0 + a1*xreg + a2*(xreg**2) + a3*(xreg**3)\n",
    "ax = plt.plot(x,y,'ro')\n",
    "plt.plot(xreg,yreg,'b')\n",
    "plt.grid()\n",
    "plt.xlabel('x')\n",
    "plt.ylabel('y')"
   ]
  },
  {
   "cell_type": "markdown",
   "metadata": {},
   "source": [
    "**Perbandingan jika memakai polyfit dengan derajat dinaikkan**"
   ]
  },
  {
   "cell_type": "code",
   "execution_count": 45,
   "metadata": {},
   "outputs": [
    {
     "data": {
      "image/png": "[encoded data removed]",
      "text/plain": [
       "<Figure size 432x288 with 1 Axes>"
      ]
     },
     "metadata": {
      "needs_background": "light"
     },
     "output_type": "display_data"
    }
   ],
   "source": [
    "regpoly = np.poly1d(np.polyfit(x, y, 5))\n",
    "\n",
    "myline = np.linspace(1, 27, 100)\n",
    "\n",
    "plt.scatter(x, y)\n",
    "plt.plot(myline, regpoly(myline), linewidth=3, color='r')\n",
    "plt.show()"
   ]
  },
  {
   "cell_type": "code",
   "execution_count": 46,
   "metadata": {},
   "outputs": [
    {
     "name": "stdout",
     "output_type": "stream",
     "text": [
      "          5         4         3         2\n",
      "-0.05217 x + 3.409 x - 82.14 x + 963.2 x - 3484 x + 4105\n"
     ]
    }
   ],
   "source": [
    "print (regpoly)"
   ]
  },
  {
   "cell_type": "code",
   "execution_count": 47,
   "metadata": {},
   "outputs": [
    {
     "name": "stdout",
     "output_type": "stream",
     "text": [
      "0.99174148057525\n"
     ]
    }
   ],
   "source": [
    "print(r2_score(y, regpoly(x)))"
   ]
  },
  {
   "cell_type": "markdown",
   "metadata": {},
   "source": [
    "**Selesai**"
   ]
  },
  {
   "cell_type": "markdown",
   "metadata": {},
   "source": [
    "### Active (Trend Turun)"
   ]
  },
  {
   "cell_type": "markdown",
   "metadata": {},
   "source": [
    "- Start: 17-Feb-2020\n",
    "- End: 26-Mar-2020\n",
    "- Range: 39 Days"
   ]
  },
  {
   "cell_type": "markdown",
   "metadata": {},
   "source": [
    "**Data**"
   ]
  },
  {
   "cell_type": "code",
   "execution_count": 141,
   "metadata": {},
   "outputs": [
    {
     "data": {
      "text/plain": [
       "array([58016., 57805., 56301., 54921., 53284., 52093., 49824., 47765.,\n",
       "       45600., 43258., 39919., 37414., 35129., 32616., 30004., 27423.,\n",
       "       25353., 23784., 22179., 20533., 19016., 17721., 16136., 14831.,\n",
       "       13524., 12088., 10733.,  9893.,  8967.,  8056.,  7263.,  6569.,\n",
       "        6013.,  5353.,  5120.,  4735.,  4287.,  3947.,  3460.])"
      ]
     },
     "execution_count": 141,
     "metadata": {},
     "output_type": "execute_result"
    }
   ],
   "source": [
    "y = np.array ((58016, 57805, 56301, 54921, 53284, 52093, 49824, 47765, 45600, 43258, 39919, 37414, 35129, 32616, 30004, 27423, 25353, 23784, 22179, 20533, 19016, 17721, 16136, 14831, 13524, 12088, 10733, 9893, 8967, 8056, 7263, 6569, 6013, 5353, 5120, 4735, 4287, 3947, 3460))\n",
    "y = y.astype('float64')\n",
    "y"
   ]
  },
  {
   "cell_type": "code",
   "execution_count": 142,
   "metadata": {},
   "outputs": [
    {
     "data": {
      "text/plain": [
       "array([ 1.,  2.,  3.,  4.,  5.,  6.,  7.,  8.,  9., 10., 11., 12., 13.,\n",
       "       14., 15., 16., 17., 18., 19., 20., 21., 22., 23., 24., 25., 26.,\n",
       "       27., 28., 29., 30., 31., 32., 33., 34., 35., 36., 37., 38., 39.])"
      ]
     },
     "execution_count": 142,
     "metadata": {},
     "output_type": "execute_result"
    }
   ],
   "source": [
    "x = np.array((range(1,1+len(y))))\n",
    "x = x.astype('float64')\n",
    "x"
   ]
  },
  {
   "cell_type": "markdown",
   "metadata": {},
   "source": [
    "**Plot**"
   ]
  },
  {
   "cell_type": "code",
   "execution_count": 143,
   "metadata": {},
   "outputs": [
    {
     "data": {
      "text/plain": [
       "Text(0, 0.5, 'y-jumlah orang')"
      ]
     },
     "execution_count": 143,
     "metadata": {},
     "output_type": "execute_result"
    },
    {
     "data": {
      "image/png": "[encoded data removed]",
      "text/plain": [
       "<Figure size 432x288 with 1 Axes>"
      ]
     },
     "metadata": {
      "needs_background": "light"
     },
     "output_type": "display_data"
    }
   ],
   "source": [
    "ax = plt.plot(x,y,'ro')\n",
    "plt.grid()\n",
    "plt.xlabel('x-hari')\n",
    "plt.ylabel('y-jumlah orang')"
   ]
  },
  {
   "cell_type": "markdown",
   "metadata": {},
   "source": [
    "#### Regresi Berpangkat"
   ]
  },
  {
   "cell_type": "markdown",
   "metadata": {},
   "source": [
    "**Data**"
   ]
  },
  {
   "cell_type": "code",
   "execution_count": 144,
   "metadata": {},
   "outputs": [
    {
     "data": {
      "text/plain": [
       "array([58016., 57805., 56301., 54921., 53284., 52093., 49824., 47765.,\n",
       "       45600., 43258., 39919., 37414., 35129., 32616., 30004., 27423.,\n",
       "       25353., 23784., 22179., 20533., 19016., 17721., 16136., 14831.,\n",
       "       13524., 12088., 10733.,  9893.,  8967.,  8056.,  7263.,  6569.,\n",
       "        6013.,  5353.,  5120.,  4735.,  4287.,  3947.,  3460.])"
      ]
     },
     "execution_count": 144,
     "metadata": {},
     "output_type": "execute_result"
    }
   ],
   "source": [
    "y = np.array ((58016, 57805, 56301, 54921, 53284, 52093, 49824, 47765, 45600, 43258, 39919, 37414, 35129, 32616, 30004, 27423, 25353, 23784, 22179, 20533, 19016, 17721, 16136, 14831, 13524, 12088, 10733, 9893, 8967, 8056, 7263, 6569, 6013, 5353, 5120, 4735, 4287, 3947, 3460))\n",
    "y = y.astype('float64')\n",
    "y"
   ]
  },
  {
   "cell_type": "code",
   "execution_count": 145,
   "metadata": {},
   "outputs": [
    {
     "data": {
      "text/plain": [
       "array([ 1.,  2.,  3.,  4.,  5.,  6.,  7.,  8.,  9., 10., 11., 12., 13.,\n",
       "       14., 15., 16., 17., 18., 19., 20., 21., 22., 23., 24., 25., 26.,\n",
       "       27., 28., 29., 30., 31., 32., 33., 34., 35., 36., 37., 38., 39.])"
      ]
     },
     "execution_count": 145,
     "metadata": {},
     "output_type": "execute_result"
    }
   ],
   "source": [
    "x = np.array((range(1,1+len(y))))\n",
    "x = x.astype('float64')\n",
    "x"
   ]
  },
  {
   "attachments": {
    "image.png": {
     "image/png": "[encoded data removed]"
    }
   },
   "cell_type": "markdown",
   "metadata": {},
   "source": [
    "![image.png](attachment:image.png)"
   ]
  },
  {
   "cell_type": "markdown",
   "metadata": {},
   "source": [
    "**Membuat xreg untuk plotting selanjutnya**"
   ]
  },
  {
   "cell_type": "code",
   "execution_count": 146,
   "metadata": {},
   "outputs": [
    {
     "data": {
      "text/plain": [
       "array([ 1. ,  1.1,  1.2,  1.3,  1.4,  1.5,  1.6,  1.7,  1.8,  1.9,  2. ,\n",
       "        2.1,  2.2,  2.3,  2.4,  2.5,  2.6,  2.7,  2.8,  2.9,  3. ,  3.1,\n",
       "        3.2,  3.3,  3.4,  3.5,  3.6,  3.7,  3.8,  3.9,  4. ,  4.1,  4.2,\n",
       "        4.3,  4.4,  4.5,  4.6,  4.7,  4.8,  4.9,  5. ,  5.1,  5.2,  5.3,\n",
       "        5.4,  5.5,  5.6,  5.7,  5.8,  5.9,  6. ,  6.1,  6.2,  6.3,  6.4,\n",
       "        6.5,  6.6,  6.7,  6.8,  6.9,  7. ,  7.1,  7.2,  7.3,  7.4,  7.5,\n",
       "        7.6,  7.7,  7.8,  7.9,  8. ,  8.1,  8.2,  8.3,  8.4,  8.5,  8.6,\n",
       "        8.7,  8.8,  8.9,  9. ,  9.1,  9.2,  9.3,  9.4,  9.5,  9.6,  9.7,\n",
       "        9.8,  9.9, 10. , 10.1, 10.2, 10.3, 10.4, 10.5, 10.6, 10.7, 10.8,\n",
       "       10.9, 11. , 11.1, 11.2, 11.3, 11.4, 11.5, 11.6, 11.7, 11.8, 11.9,\n",
       "       12. , 12.1, 12.2, 12.3, 12.4, 12.5, 12.6, 12.7, 12.8, 12.9, 13. ,\n",
       "       13.1, 13.2, 13.3, 13.4, 13.5, 13.6, 13.7, 13.8, 13.9, 14. , 14.1,\n",
       "       14.2, 14.3, 14.4, 14.5, 14.6, 14.7, 14.8, 14.9, 15. , 15.1, 15.2,\n",
       "       15.3, 15.4, 15.5, 15.6, 15.7, 15.8, 15.9, 16. , 16.1, 16.2, 16.3,\n",
       "       16.4, 16.5, 16.6, 16.7, 16.8, 16.9, 17. , 17.1, 17.2, 17.3, 17.4,\n",
       "       17.5, 17.6, 17.7, 17.8, 17.9, 18. , 18.1, 18.2, 18.3, 18.4, 18.5,\n",
       "       18.6, 18.7, 18.8, 18.9, 19. , 19.1, 19.2, 19.3, 19.4, 19.5, 19.6,\n",
       "       19.7, 19.8, 19.9, 20. , 20.1, 20.2, 20.3, 20.4, 20.5, 20.6, 20.7,\n",
       "       20.8, 20.9, 21. , 21.1, 21.2, 21.3, 21.4, 21.5, 21.6, 21.7, 21.8,\n",
       "       21.9, 22. , 22.1, 22.2, 22.3, 22.4, 22.5, 22.6, 22.7, 22.8, 22.9,\n",
       "       23. , 23.1, 23.2, 23.3, 23.4, 23.5, 23.6, 23.7, 23.8, 23.9, 24. ,\n",
       "       24.1, 24.2, 24.3, 24.4, 24.5, 24.6, 24.7, 24.8, 24.9, 25. , 25.1,\n",
       "       25.2, 25.3, 25.4, 25.5, 25.6, 25.7, 25.8, 25.9, 26. , 26.1, 26.2,\n",
       "       26.3, 26.4, 26.5, 26.6, 26.7, 26.8, 26.9, 27. , 27.1, 27.2, 27.3,\n",
       "       27.4, 27.5, 27.6, 27.7, 27.8, 27.9, 28. , 28.1, 28.2, 28.3, 28.4,\n",
       "       28.5, 28.6, 28.7, 28.8, 28.9, 29. , 29.1, 29.2, 29.3, 29.4, 29.5,\n",
       "       29.6, 29.7, 29.8, 29.9, 30. , 30.1, 30.2, 30.3, 30.4, 30.5, 30.6,\n",
       "       30.7, 30.8, 30.9, 31. , 31.1, 31.2, 31.3, 31.4, 31.5, 31.6, 31.7,\n",
       "       31.8, 31.9, 32. , 32.1, 32.2, 32.3, 32.4, 32.5, 32.6, 32.7, 32.8,\n",
       "       32.9, 33. , 33.1, 33.2, 33.3, 33.4, 33.5, 33.6, 33.7, 33.8, 33.9,\n",
       "       34. , 34.1, 34.2, 34.3, 34.4, 34.5, 34.6, 34.7, 34.8, 34.9, 35. ,\n",
       "       35.1, 35.2, 35.3, 35.4, 35.5, 35.6, 35.7, 35.8, 35.9, 36. , 36.1,\n",
       "       36.2, 36.3, 36.4, 36.5, 36.6, 36.7, 36.8, 36.9, 37. , 37.1, 37.2,\n",
       "       37.3, 37.4, 37.5, 37.6, 37.7, 37.8, 37.9, 38. , 38.1, 38.2, 38.3,\n",
       "       38.4, 38.5, 38.6, 38.7, 38.8, 38.9, 39. , 39.1, 39.2, 39.3, 39.4,\n",
       "       39.5, 39.6, 39.7, 39.8, 39.9])"
      ]
     },
     "execution_count": 146,
     "metadata": {},
     "output_type": "execute_result"
    }
   ],
   "source": [
    "#membuat xreg\n",
    "xreg = np.array(range(10,int((x[-1]+1)*10)))\n",
    "xreg = xreg/10 #memperhalus bentuk garis\n",
    "xreg = xreg.astype('float64')\n",
    "xreg"
   ]
  },
  {
   "cell_type": "markdown",
   "metadata": {},
   "source": [
    "**Regresi berpangkat**"
   ]
  },
  {
   "attachments": {
    "image.png": {
     "image/png": "[encoded data removed]"
    }
   },
   "cell_type": "markdown",
   "metadata": {},
   "source": [
    "![image.png](attachment:image.png)"
   ]
  },
  {
   "attachments": {
    "image.png": {
     "image/png": "[encoded data removed]"
    }
   },
   "cell_type": "markdown",
   "metadata": {},
   "source": [
    "![image.png](attachment:image.png)"
   ]
  },
  {
   "attachments": {
    "image.png": {
     "image/png": "[encoded data removed]"
    }
   },
   "cell_type": "markdown",
   "metadata": {},
   "source": [
    "![image.png](attachment:image.png)"
   ]
  },
  {
   "cell_type": "code",
   "execution_count": 147,
   "metadata": {},
   "outputs": [],
   "source": [
    "p = np.log10(y)\n",
    "q = np.log10(x)"
   ]
  },
  {
   "cell_type": "markdown",
   "metadata": {},
   "source": [
    "**Hitung regresi linear**"
   ]
  },
  {
   "cell_type": "code",
   "execution_count": 148,
   "metadata": {},
   "outputs": [],
   "source": [
    "n = len(y)\n",
    "pq = p*q\n",
    "qq = q**2\n",
    "B = (n*pq.sum() - q.sum()*p.sum())/(n*qq.sum() - (q.sum())**2)\n",
    "A = p.mean()-B*q.mean()"
   ]
  },
  {
   "cell_type": "markdown",
   "metadata": {},
   "source": [
    "**Hasil regresi linear**"
   ]
  },
  {
   "cell_type": "code",
   "execution_count": 149,
   "metadata": {},
   "outputs": [
    {
     "name": "stdout",
     "output_type": "stream",
     "text": [
      "p = -0.8850q + 5.3088\n"
     ]
    }
   ],
   "source": [
    "if A>0 :\n",
    "    print (\"p = {:.4f}q + {:.4f}\". format(B,A))\n",
    "else :\n",
    "    print (\"p = {:.4f}q {:.4f}\". format(B,A))"
   ]
  },
  {
   "cell_type": "markdown",
   "metadata": {},
   "source": [
    "**Kembalikan ke bentuk pangkat**"
   ]
  },
  {
   "cell_type": "code",
   "execution_count": 150,
   "metadata": {},
   "outputs": [
    {
     "name": "stdout",
     "output_type": "stream",
     "text": [
      "y = 203612.7389x^(-0.8850)\n"
     ]
    }
   ],
   "source": [
    "a = 10**A #A=log(a)\n",
    "b = B\n",
    "print (\"y = {:.4f}x^({:.4f})\".format(a,b))"
   ]
  },
  {
   "cell_type": "markdown",
   "metadata": {},
   "source": [
    "**Koefisien Korelasi ( r ) dan Derajat Kesesuaian ( R ) r-square**"
   ]
  },
  {
   "cell_type": "code",
   "execution_count": 151,
   "metadata": {},
   "outputs": [
    {
     "name": "stdout",
     "output_type": "stream",
     "text": [
      "r = 0.8556 dan r^2 = 0.7321\n"
     ]
    }
   ],
   "source": [
    "yDt = ((p - p.mean())**2).sum()\n",
    "yD = ((p - (q*B) - A)**2).sum()\n",
    "r = np.sqrt((yDt-yD)/yDt)\n",
    "r2 = r**2\n",
    "print('r = {:.4f} dan r^2 = {:.4f}'.format(r,r2))"
   ]
  },
  {
   "cell_type": "markdown",
   "metadata": {},
   "source": [
    "**Plot**"
   ]
  },
  {
   "cell_type": "code",
   "execution_count": 152,
   "metadata": {},
   "outputs": [
    {
     "data": {
      "text/plain": [
       "array([203612.73889645, 187143.21554736, 173273.73368931, 161424.58192892,\n",
       "       151177.62641997, 142223.47215347, 134328.1352913 , 127311.29511298,\n",
       "       121031.68088526, 115376.99966951, 110256.83698421, 105597.55277543,\n",
       "       101338.54650322,  97429.48040703,  93828.18537078,  90499.0609406 ,\n",
       "        87411.83833313,  84540.6136638 ,  81863.08480593,  79359.94343523,\n",
       "        77014.38657298,  74811.72103603,  72739.04076669,  70784.96180931,\n",
       "        68939.40323969,  67193.40499218,  65538.97551606,  63968.96370172,\n",
       "        62476.95067231,  61057.1579285 ,  59704.36902745,  58413.86251992,\n",
       "        57181.35429736,  56002.94784017,  54875.09112927,  53794.53919997,\n",
       "        52758.32149263,  51763.71329661,  50808.21069949,  49889.50854867,\n",
       "        49005.48100984,  48154.16437143,  47333.7417974 ,  46542.52977483,\n",
       "        45778.96604011,  45041.59879845,  44329.07707735,  43640.14207724,\n",
       "        42973.61940043,  42328.41205607,  41703.49415188,  41097.90519495,\n",
       "        40510.74493415,  39941.16868465,  39388.38308285,  38851.64222589,\n",
       "        38330.24415585,  37823.52765285,  37330.86930604,  36851.6808346 ,\n",
       "        36385.40663413,  35931.52152659,  35489.52869428,  35058.95778057,\n",
       "        34639.3631417 ,  34230.32223595,  33831.43413758,  33442.31816445,\n",
       "        33062.61260925,  32691.97356537,  32330.07383911,  31976.60194106,\n",
       "        31631.26114989,  31293.76864255,  30963.85468547,  30641.2618818 ,\n",
       "        30325.74447019,  30017.06767099,  29715.00707631,  29419.3480803 ,\n",
       "        29129.88534685,  28846.4223116 ,  28568.77071592,  28296.75017037,\n",
       "        28030.18774549,  27768.91758797,  27512.78056037,  27261.62390269,\n",
       "        27015.30091431,  26773.6706548 ,  26536.5976624 ,  26303.95168887,\n",
       "        26075.60744965,  25851.44438835,  25631.34645452,  25415.20189389,\n",
       "        25202.90305031,  24994.34617851,  24789.43126715,  24588.06187137,\n",
       "        24390.14495431,  24195.59073709,  24004.31255661,  23816.22673079,\n",
       "        23631.25243075,  23449.31155959,  23270.32863727,  23094.23069125,\n",
       "        22920.94715272,  22750.40975781,  22582.55245372,  22417.31130947,\n",
       "        22254.62443083,  22094.43187942,  21936.67559565,  21781.29932523,\n",
       "        21628.24854914,  21477.47041689,  21328.91368278,  21182.52864514,\n",
       "        21038.26708823,  20896.08222686,  20755.92865339,  20617.76228714,\n",
       "        20481.54032597,  20347.22119999,  20214.76452732,  20084.13107169,\n",
       "        19955.28270184,  19828.18235273,  19702.79398827,  19579.08256568,\n",
       "        19457.0140013 ,  19336.55513783,  19217.67371285,  19100.33832871,\n",
       "        18984.51842355,  18870.18424352,  18757.30681612,  18645.85792455,\n",
       "        18535.81008311,  18427.13651351,  18319.81112216,  18213.80847829,\n",
       "        18109.1037929 ,  18005.67289854,  17903.49222985,  17802.5388048 ,\n",
       "        17702.79020667,  17604.22456664,  17506.82054711,  17410.55732552,\n",
       "        17315.41457884,  17221.3724686 ,  17128.41162645,  17036.51314023,\n",
       "        16945.65854054,  16855.82978777,  16767.00925965,  16679.17973911,\n",
       "        16592.3244027 ,  16506.4268093 ,  16421.47088928,  16337.44093397,\n",
       "        16254.32158558,  16172.09782736,  16090.75497414,  16010.27866319,\n",
       "        15930.65484533,  15851.86977643,  15773.91000909,  15696.76238461,\n",
       "        15620.4140253 ,  15544.85232691,  15470.06495142,  15396.03981998,\n",
       "        15322.76510609,  15250.22922906,  15178.42084755,  15107.32885343,\n",
       "        15036.94236578,  14967.25072505,  14898.24348745,  14829.91041948,\n",
       "        14762.24149262,  14695.22687822,  14628.85694251,  14563.12224173,\n",
       "        14498.0135175 ,  14433.52169222,  14369.63786469,  14306.35330578,\n",
       "        14243.65945431,  14181.54791298,  14120.01044445,  14059.03896753,\n",
       "        13998.6255535 ,  13938.76242244,  13879.44193983,  13820.65661306,\n",
       "        13762.39908821,  13704.66214677,  13647.43870255,  13590.72179865,\n",
       "        13534.50460451,  13478.78041301,  13423.54263769,  13368.78481007,\n",
       "        13314.50057694,  13260.68369785,  13207.32804256,  13154.42758863,\n",
       "        13101.97641904,  13049.96871987,  12998.39877808,  12947.26097927,\n",
       "        12896.54980561,  12846.25983371,  12796.3857326 ,  12746.9222618 ,\n",
       "        12697.86426935,  12649.20668998,  12600.94454322,  12553.07293172,\n",
       "        12505.58703941,  12458.48212987,  12411.75354469,  12365.39670181,\n",
       "        12319.40709401,  12273.78028732,  12228.5119196 ,  12183.59769902,\n",
       "        12139.03340267,  12094.81487517,  12050.93802732,  12007.39883478,\n",
       "        11964.19333678,  11921.31763485,  11878.76789161,  11836.54032957,\n",
       "        11794.63122996,  11753.03693157,  11711.75382965,  11670.77837482,\n",
       "        11630.10707199,  11589.73647935,  11549.66320731,  11509.88391755,\n",
       "        11470.39532201,  11431.19418199,  11392.27730715,  11353.6415547 ,\n",
       "        11315.28382842,  11277.20107786,  11239.39029747,  11201.84852575,\n",
       "        11164.57284448,  11127.56037791,  11090.80829198,  11054.31379358,\n",
       "        11018.07412978,  10982.08658714,  10946.34849098,  10910.85720468,\n",
       "        10875.61012902,  10840.60470152,  10805.83839575,  10771.30872074,\n",
       "        10737.01322033,  10702.94947257,  10669.11508912,  10635.50771468,\n",
       "        10602.12502638,  10568.96473327,  10536.02457571,  10503.30232491,\n",
       "        10470.79578234,  10438.50277923,  10406.42117609,  10374.54886218,\n",
       "        10342.88375504,  10311.42380004,  10280.16696987,  10249.11126412,\n",
       "        10218.2547088 ,  10187.59535593,  10157.13128312,  10126.86059311,\n",
       "        10096.78141339,  10066.89189576,  10037.190216  ,  10007.6745734 ,\n",
       "         9978.34319045,   9949.19431241,   9920.22620699,   9891.43716396,\n",
       "         9862.82549479,   9834.38953236,   9806.12763055,   9778.03816394,\n",
       "         9750.11952751,   9722.37013628,   9694.78842499,   9667.37284784,\n",
       "         9640.12187815,   9613.03400806,   9586.10774827,   9559.34162772,\n",
       "         9532.73419334,   9506.28400974,   9479.98965898,   9453.84974027,\n",
       "         9427.86286972,   9402.02768011,   9376.34282059,   9350.80695649,\n",
       "         9325.41876901,   9300.17695506,   9275.08022696,   9250.12731226,\n",
       "         9225.31695346,   9200.64790786,   9176.11894727,   9151.72885787,\n",
       "         9127.47643992,   9103.36050761,   9079.37988887,   9055.5334251 ,\n",
       "         9031.81997105,   9008.23839459,   8984.78757652,   8961.4664104 ,\n",
       "         8938.27380236,   8915.20867093,   8892.26994683,   8869.45657285,\n",
       "         8846.76750364,   8824.20170556,   8801.75815651,   8779.43584576,\n",
       "         8757.23377382,   8735.15095225,   8713.18640352,   8691.33916088,\n",
       "         8669.60826816,   8647.99277967,   8626.49176006,   8605.10428413,\n",
       "         8583.82943674,   8562.66631266,   8541.6140164 ,   8520.67166215,\n",
       "         8499.83837357,   8479.11328373,   8458.49553494,   8437.98427865,\n",
       "         8417.57867529,   8397.27789422,   8377.08111353,   8356.98752001,\n",
       "         8336.99630894,   8317.10668407,   8297.31785745,   8277.62904933,\n",
       "         8258.03948806,   8238.54841002,   8219.15505943,   8199.85868834,\n",
       "         8180.65855647,   8161.55393113,   8142.54408713,   8123.62830666,\n",
       "         8104.80587923,   8086.07610155,   8067.43827744,   8048.89171775,\n",
       "         8030.43574028,   8012.06966967,   7993.7928373 ,   7975.60458127,\n",
       "         7957.50424625,   7939.49118342,   7921.5647504 ,   7903.72431117,\n",
       "         7885.96923596,   7868.29890121,   7850.71268948,   7833.20998935,\n",
       "         7815.79019541,   7798.45270811])"
      ]
     },
     "execution_count": 152,
     "metadata": {},
     "output_type": "execute_result"
    }
   ],
   "source": [
    "#membuat yreg\n",
    "yreg = a*(xreg**b)\n",
    "yreg\n",
    "    "
   ]
  },
  {
   "cell_type": "code",
   "execution_count": 153,
   "metadata": {},
   "outputs": [
    {
     "data": {
      "text/plain": [
       "Text(0, 0.5, 'y-banyak orang')"
      ]
     },
     "execution_count": 153,
     "metadata": {},
     "output_type": "execute_result"
    },
    {
     "data": {
      "image/png": "[encoded data removed]",
      "text/plain": [
       "<Figure size 432x288 with 1 Axes>"
      ]
     },
     "metadata": {
      "needs_background": "light"
     },
     "output_type": "display_data"
    }
   ],
   "source": [
    "ax = plt.plot(x,y,'ro')\n",
    "plt.plot(xreg,yreg,'g')\n",
    "plt.grid()\n",
    "plt.xlabel('x-hari ke')\n",
    "plt.ylabel('y-banyak orang')"
   ]
  },
  {
   "cell_type": "markdown",
   "metadata": {},
   "source": [
    "#### Regresi Eksponensial"
   ]
  },
  {
   "attachments": {
    "image.png": {
     "image/png": "[encoded data removed]"
    }
   },
   "cell_type": "markdown",
   "metadata": {},
   "source": [
    "![image.png](attachment:image.png)"
   ]
  },
  {
   "attachments": {
    "image.png": {
     "image/png": "[encoded data removed]"
    }
   },
   "cell_type": "markdown",
   "metadata": {},
   "source": [
    "![image.png](attachment:image.png)"
   ]
  },
  {
   "attachments": {
    "image.png": {
     "image/png": "[encoded data removed]"
    }
   },
   "cell_type": "markdown",
   "metadata": {},
   "source": [
    "![image.png](attachment:image.png)"
   ]
  },
  {
   "cell_type": "markdown",
   "metadata": {},
   "source": [
    "**Linearisasi**"
   ]
  },
  {
   "cell_type": "code",
   "execution_count": 61,
   "metadata": {},
   "outputs": [
    {
     "data": {
      "text/plain": [
       "array([58016., 57805., 56301., 54921., 53284., 52093., 49824., 47765.,\n",
       "       45600., 43258., 39919., 37414., 35129., 32616., 30004., 27423.,\n",
       "       25353., 23784., 22179., 20533., 19016., 17721., 16136., 14831.,\n",
       "       13524., 12088., 10733.,  9893.,  8967.,  8056.,  7263.,  6569.,\n",
       "        6013.,  5353.,  5120.,  4735.,  4287.,  3947.,  3460.])"
      ]
     },
     "execution_count": 61,
     "metadata": {},
     "output_type": "execute_result"
    }
   ],
   "source": [
    "y = np.array ((58016, 57805, 56301, 54921, 53284, 52093, 49824, 47765, 45600, 43258, 39919, 37414, 35129, 32616, 30004, 27423, 25353, 23784, 22179, 20533, 19016, 17721, 16136, 14831, 13524, 12088, 10733, 9893, 8967, 8056, 7263, 6569, 6013, 5353, 5120, 4735, 4287, 3947, 3460))\n",
    "y = y.astype('float64')\n",
    "y"
   ]
  },
  {
   "cell_type": "code",
   "execution_count": 62,
   "metadata": {},
   "outputs": [
    {
     "data": {
      "text/plain": [
       "array([ 1.,  2.,  3.,  4.,  5.,  6.,  7.,  8.,  9., 10., 11., 12., 13.,\n",
       "       14., 15., 16., 17., 18., 19., 20., 21., 22., 23., 24., 25., 26.,\n",
       "       27., 28., 29., 30., 31., 32., 33., 34., 35., 36., 37., 38., 39.])"
      ]
     },
     "execution_count": 62,
     "metadata": {},
     "output_type": "execute_result"
    }
   ],
   "source": [
    "x = np.array((range(1,1+len(y))))\n",
    "x = x.astype('float64')\n",
    "x"
   ]
  },
  {
   "cell_type": "code",
   "execution_count": 63,
   "metadata": {},
   "outputs": [],
   "source": [
    "p = np.log(y)\n",
    "q = x"
   ]
  },
  {
   "cell_type": "markdown",
   "metadata": {},
   "source": [
    "**Hitung regresi linear**"
   ]
  },
  {
   "attachments": {
    "image.png": {
     "image/png": "[encoded data removed]"
    }
   },
   "cell_type": "markdown",
   "metadata": {},
   "source": [
    "![image.png](attachment:image.png)"
   ]
  },
  {
   "cell_type": "code",
   "execution_count": 64,
   "metadata": {},
   "outputs": [],
   "source": [
    "n = len(q)\n",
    "pq = p*q\n",
    "qq = q**2"
   ]
  },
  {
   "cell_type": "code",
   "execution_count": 65,
   "metadata": {},
   "outputs": [
    {
     "data": {
      "text/plain": [
       "-0.07835187543302591"
      ]
     },
     "execution_count": 65,
     "metadata": {},
     "output_type": "execute_result"
    }
   ],
   "source": [
    "B = (n*pq.sum()-q.sum()*p.sum())/(n*qq.sum()-(q.sum())**2)\n",
    "B"
   ]
  },
  {
   "cell_type": "code",
   "execution_count": 66,
   "metadata": {},
   "outputs": [
    {
     "data": {
      "text/plain": [
       "11.371402094822034"
      ]
     },
     "execution_count": 66,
     "metadata": {},
     "output_type": "execute_result"
    }
   ],
   "source": [
    "A = p.mean()-B*q.mean()\n",
    "A"
   ]
  },
  {
   "cell_type": "markdown",
   "metadata": {},
   "source": [
    "**Hasil persamaan linear**"
   ]
  },
  {
   "cell_type": "code",
   "execution_count": 67,
   "metadata": {},
   "outputs": [
    {
     "name": "stdout",
     "output_type": "stream",
     "text": [
      "p = -0.0784q11.3714\n"
     ]
    }
   ],
   "source": [
    "print(\"p = {:.4f}q{:.4f}\".format(B,A))"
   ]
  },
  {
   "cell_type": "markdown",
   "metadata": {},
   "source": [
    "**Hitung kembali dalam bentuk bilangan berpangkat**"
   ]
  },
  {
   "cell_type": "code",
   "execution_count": 68,
   "metadata": {},
   "outputs": [],
   "source": [
    "a = np.e**A # A=log(a)\n",
    "b = B"
   ]
  },
  {
   "cell_type": "code",
   "execution_count": 69,
   "metadata": {},
   "outputs": [
    {
     "name": "stdout",
     "output_type": "stream",
     "text": [
      "y = 86803.4889e^(-0.0784x)\n"
     ]
    }
   ],
   "source": [
    "print(\"y = {:.4f}e^({:.4f}x)\".format(a,b))"
   ]
  },
  {
   "cell_type": "markdown",
   "metadata": {},
   "source": [
    "**Hitung Koefisien Korelasi [r-square]**"
   ]
  },
  {
   "cell_type": "code",
   "execution_count": 70,
   "metadata": {},
   "outputs": [],
   "source": [
    "yDt = (y-y.mean())**2\n",
    "yD = (y - a*(np.e**(b*x)))**2"
   ]
  },
  {
   "cell_type": "code",
   "execution_count": 71,
   "metadata": {},
   "outputs": [],
   "source": [
    "r = np.sqrt((yDt.sum()-yD.sum())/yDt.sum())\n",
    "R2 = r**2"
   ]
  },
  {
   "cell_type": "code",
   "execution_count": 72,
   "metadata": {},
   "outputs": [
    {
     "name": "stdout",
     "output_type": "stream",
     "text": [
      "r = 0.9549 dan r^2 = 0.9119\n"
     ]
    }
   ],
   "source": [
    "print('r = {:.4f} dan r^2 = {:.4f}'.format(r,R2))"
   ]
  },
  {
   "cell_type": "markdown",
   "metadata": {},
   "source": [
    "**Plot data dan regresinya**"
   ]
  },
  {
   "cell_type": "code",
   "execution_count": 73,
   "metadata": {},
   "outputs": [],
   "source": [
    "xreg = np.array(range(0,int (x[-1]+1)*10))\n",
    "xreg = xreg/10 #memperhalus bentuk garis regresi"
   ]
  },
  {
   "cell_type": "code",
   "execution_count": 74,
   "metadata": {},
   "outputs": [],
   "source": [
    "yreg = a*(np.e**(b*xreg))"
   ]
  },
  {
   "cell_type": "code",
   "execution_count": 75,
   "metadata": {},
   "outputs": [
    {
     "data": {
      "text/plain": [
       "Text(0, 0.5, 'y')"
      ]
     },
     "execution_count": 75,
     "metadata": {},
     "output_type": "execute_result"
    },
    {
     "data": {
      "image/png": "[encoded data removed]",
      "text/plain": [
       "<Figure size 432x288 with 1 Axes>"
      ]
     },
     "metadata": {
      "needs_background": "light"
     },
     "output_type": "display_data"
    }
   ],
   "source": [
    "ax = plt.plot(x,y,'ro')\n",
    "plt.plot(xreg,yreg,'b')\n",
    "plt.grid()\n",
    "plt.xlabel('x')\n",
    "plt.ylabel('y')"
   ]
  },
  {
   "cell_type": "markdown",
   "metadata": {},
   "source": [
    "**Selesai**"
   ]
  },
  {
   "cell_type": "markdown",
   "metadata": {},
   "source": [
    "#### Regresi Polinomial"
   ]
  },
  {
   "cell_type": "code",
   "execution_count": 127,
   "metadata": {},
   "outputs": [
    {
     "data": {
      "text/plain": [
       "array([58016., 57805., 56301., 54921., 53284., 52093., 49824., 47765.,\n",
       "       45600., 43258., 39919., 37414., 35129., 32616., 30004., 27423.,\n",
       "       25353., 23784., 22179., 20533., 19016., 17721., 16136., 14831.,\n",
       "       13524., 12088., 10733.,  9893.,  8967.,  8056.,  7263.,  6569.,\n",
       "        6013.,  5353.,  5120.,  4735.,  4287.,  3947.,  3460.])"
      ]
     },
     "execution_count": 127,
     "metadata": {},
     "output_type": "execute_result"
    }
   ],
   "source": [
    "y = np.array ((58016, 57805, 56301, 54921, 53284, 52093, 49824, 47765, 45600, 43258, 39919, 37414, 35129, 32616, 30004, 27423, 25353, 23784, 22179, 20533, 19016, 17721, 16136, 14831, 13524, 12088, 10733, 9893, 8967, 8056, 7263, 6569, 6013, 5353, 5120, 4735, 4287, 3947, 3460))\n",
    "y = y.astype('float64')\n",
    "y"
   ]
  },
  {
   "cell_type": "code",
   "execution_count": 128,
   "metadata": {},
   "outputs": [
    {
     "data": {
      "text/plain": [
       "array([ 1.,  2.,  3.,  4.,  5.,  6.,  7.,  8.,  9., 10., 11., 12., 13.,\n",
       "       14., 15., 16., 17., 18., 19., 20., 21., 22., 23., 24., 25., 26.,\n",
       "       27., 28., 29., 30., 31., 32., 33., 34., 35., 36., 37., 38., 39.])"
      ]
     },
     "execution_count": 128,
     "metadata": {},
     "output_type": "execute_result"
    }
   ],
   "source": [
    "x = np.array((range(1,1+len(y))))\n",
    "x = x.astype('float64')\n",
    "x"
   ]
  },
  {
   "cell_type": "markdown",
   "metadata": {},
   "source": [
    "**Membentuk regresi polinomial dari matriks**"
   ]
  },
  {
   "attachments": {
    "image.png": {
     "image/png": "[encoded data removed]"
    }
   },
   "cell_type": "markdown",
   "metadata": {},
   "source": [
    "![image.png](attachment:image.png)"
   ]
  },
  {
   "cell_type": "markdown",
   "metadata": {},
   "source": [
    "**Mendefinisikan elemen-elemen matriks kiri**"
   ]
  },
  {
   "cell_type": "code",
   "execution_count": 129,
   "metadata": {},
   "outputs": [
    {
     "data": {
      "text/plain": [
       "array([[3.90000000e+01, 7.80000000e+02, 2.05400000e+04, 6.08400000e+05],\n",
       "       [7.80000000e+02, 2.05400000e+04, 6.08400000e+05, 1.92213320e+07],\n",
       "       [2.05400000e+04, 6.08400000e+05, 1.92213320e+07, 6.32533200e+08],\n",
       "       [6.08400000e+05, 1.92213320e+07, 6.32533200e+08, 2.14089036e+10]])"
      ]
     },
     "execution_count": 129,
     "metadata": {},
     "output_type": "execute_result"
    }
   ],
   "source": [
    "n = len(y)\n",
    "a = x.sum()\n",
    "b = (x**2).sum()\n",
    "c = (x**3).sum()\n",
    "d = (x**4).sum()\n",
    "e = (x**5).sum()\n",
    "f = (x**6).sum()\n",
    "A = np.array(([n, a, b, c],\n",
    "    [a, b, c, d],\n",
    "    [b, c, d, e],\n",
    "    [c, d, e, f]))\n",
    "A"
   ]
  },
  {
   "cell_type": "markdown",
   "metadata": {},
   "source": [
    "**Mendefinisikan elemen-elemen matriks kanan**"
   ]
  },
  {
   "cell_type": "code",
   "execution_count": 130,
   "metadata": {},
   "outputs": [
    {
     "data": {
      "text/plain": [
       "array([[9.90933000e+05],\n",
       "       [1.19426120e+07],\n",
       "       [2.22691196e+08],\n",
       "       [5.21129615e+09]])"
      ]
     },
     "execution_count": 130,
     "metadata": {},
     "output_type": "execute_result"
    }
   ],
   "source": [
    "g = y.sum()\n",
    "h = (x*y).sum()\n",
    "i = ((x**2)*y).sum()\n",
    "j = ((x**3)*y).sum()\n",
    "B = np.array(([g],\n",
    "    [h],\n",
    "    [i],\n",
    "    [j]))\n",
    "B"
   ]
  },
  {
   "cell_type": "markdown",
   "metadata": {},
   "source": [
    "**Invers matriks sisi kiri**"
   ]
  },
  {
   "cell_type": "code",
   "execution_count": 131,
   "metadata": {},
   "outputs": [
    {
     "data": {
      "text/plain": [
       "array([[ 5.00407290e-01, -9.48823317e-02,  4.80237322e-03,\n",
       "        -7.09211236e-05],\n",
       "       [-9.48823317e-02,  2.28686234e-02, -1.28127535e-03,\n",
       "         2.00201848e-05],\n",
       "       [ 4.80237322e-03, -1.28127535e-03,  7.61351852e-05,\n",
       "        -1.23555964e-06],\n",
       "       [-7.09211236e-05,  2.00201848e-05, -1.23555964e-06,\n",
       "         2.05926607e-08]])"
      ]
     },
     "execution_count": 131,
     "metadata": {},
     "output_type": "execute_result"
    }
   ],
   "source": [
    "Ainv = np.linalg.inv(A)\n",
    "Ainv"
   ]
  },
  {
   "cell_type": "markdown",
   "metadata": {},
   "source": [
    "**Mencari nilai a0, a1, a2, dst dengan a = (A^-1)B namun di sini variabel a diganti dengan Y**"
   ]
  },
  {
   "cell_type": "code",
   "execution_count": 132,
   "metadata": {},
   "outputs": [
    {
     "name": "stdout",
     "output_type": "stream",
     "text": [
      "[[ 6.25824822e+04]\n",
      " [-1.90856618e+03]\n",
      " [-2.71760257e+01]\n",
      " [ 9.81415824e-01]]\n"
     ]
    }
   ],
   "source": [
    "Y = Ainv.dot(B)\n",
    "print(Y)"
   ]
  },
  {
   "cell_type": "code",
   "execution_count": 133,
   "metadata": {},
   "outputs": [],
   "source": [
    "a0 = Y[0,0]\n",
    "a1 = Y[1,0]\n",
    "a2 = Y[2,0]\n",
    "a3 = Y[3,0]"
   ]
  },
  {
   "cell_type": "markdown",
   "metadata": {},
   "source": [
    "**Hasil persamaan regresi polinomial**"
   ]
  },
  {
   "cell_type": "code",
   "execution_count": 134,
   "metadata": {},
   "outputs": [
    {
     "name": "stdout",
     "output_type": "stream",
     "text": [
      "y = 0.9814x^3 + -27.1760X^2 + -1908.5662x + 62582.4822\n"
     ]
    }
   ],
   "source": [
    "print('y = {:.4f}x^3 + {:.4f}X^2 + {:.4f}x + {:.4f}'.format(a3, a2, a1, a0))"
   ]
  },
  {
   "cell_type": "code",
   "execution_count": 135,
   "metadata": {},
   "outputs": [
    {
     "data": {
      "text/plain": [
       "array([58016., 57805., 56301., 54921., 53284., 52093., 49824., 47765.,\n",
       "       45600., 43258., 39919., 37414., 35129., 32616., 30004., 27423.,\n",
       "       25353., 23784., 22179., 20533., 19016., 17721., 16136., 14831.,\n",
       "       13524., 12088., 10733.,  9893.,  8967.,  8056.,  7263.,  6569.,\n",
       "        6013.,  5353.,  5120.,  4735.,  4287.,  3947.,  3460.])"
      ]
     },
     "execution_count": 135,
     "metadata": {},
     "output_type": "execute_result"
    }
   ],
   "source": [
    "y"
   ]
  },
  {
   "cell_type": "markdown",
   "metadata": {},
   "source": [
    "**Hitung Koefisien Korelasi [r-square] dan hasil regresi**"
   ]
  },
  {
   "cell_type": "code",
   "execution_count": 136,
   "metadata": {},
   "outputs": [
    {
     "name": "stdout",
     "output_type": "stream",
     "text": [
      "nilai r-square =  0.9969206775962449\n"
     ]
    }
   ],
   "source": [
    "yDt = (y-y.mean())**2\n",
    "yD = (y-a0-a1*x-a2*(x**2)-a3*(x**3))**2\n",
    "r = np.sqrt((yDt.sum()-yD.sum())/yDt.sum())\n",
    "R2 = r**2\n",
    "print('nilai r-square = ',R2)"
   ]
  },
  {
   "cell_type": "markdown",
   "metadata": {},
   "source": [
    "**Plot**"
   ]
  },
  {
   "cell_type": "code",
   "execution_count": 137,
   "metadata": {},
   "outputs": [
    {
     "data": {
      "text/plain": [
       "Text(0, 0.5, 'y')"
      ]
     },
     "execution_count": 137,
     "metadata": {},
     "output_type": "execute_result"
    },
    {
     "data": {
      "image/png": "[encoded data removed]",
      "text/plain": [
       "<Figure size 432x288 with 1 Axes>"
      ]
     },
     "metadata": {
      "needs_background": "light"
     },
     "output_type": "display_data"
    }
   ],
   "source": [
    "xreg = np.array(range(0,int((x[-1]+0.5)*10)))\n",
    "xreg = xreg/10\n",
    "yreg = a0 + a1*xreg + a2*(xreg**2) + a3*(xreg**3)\n",
    "ax = plt.plot(x,y,'ro')\n",
    "plt.plot(xreg,yreg,'b')\n",
    "plt.grid()\n",
    "plt.xlabel('x')\n",
    "plt.ylabel('y')"
   ]
  },
  {
   "cell_type": "markdown",
   "metadata": {},
   "source": [
    "**Perbandingan jika memakai polyfit dengan derajat dinaikkan**"
   ]
  },
  {
   "cell_type": "code",
   "execution_count": 138,
   "metadata": {},
   "outputs": [
    {
     "data": {
      "image/png": "[encoded data removed]",
      "text/plain": [
       "<Figure size 432x288 with 1 Axes>"
      ]
     },
     "metadata": {
      "needs_background": "light"
     },
     "output_type": "display_data"
    }
   ],
   "source": [
    "regpoly = np.poly1d(np.polyfit(x, y, 5))\n",
    "\n",
    "myline = np.linspace(1, 39, 100)\n",
    "\n",
    "plt.scatter(x, y)\n",
    "plt.plot(myline, regpoly(myline), linewidth=3, color='r')\n",
    "plt.show()"
   ]
  },
  {
   "cell_type": "code",
   "execution_count": 139,
   "metadata": {},
   "outputs": [
    {
     "name": "stdout",
     "output_type": "stream",
     "text": [
      "          5          4         3         2\n",
      "0.003352 x - 0.4173 x + 19.55 x - 381.1 x + 754.9 x + 5.738e+04\n"
     ]
    }
   ],
   "source": [
    "print (regpoly)"
   ]
  },
  {
   "cell_type": "code",
   "execution_count": 140,
   "metadata": {},
   "outputs": [
    {
     "name": "stdout",
     "output_type": "stream",
     "text": [
      "0.999672237446161\n"
     ]
    }
   ],
   "source": [
    "print(r2_score(y, regpoly(x)))"
   ]
  },
  {
   "cell_type": "markdown",
   "metadata": {},
   "source": [
    "**Selesai**"
   ]
  },
  {
   "cell_type": "markdown",
   "metadata": {},
   "source": [
    "### Total Death"
   ]
  },
  {
   "cell_type": "markdown",
   "metadata": {},
   "source": [
    "- Start: 22-Jan-2020\n",
    "- End: 26-Mar-2020\n",
    "- Range: 65 Days"
   ]
  },
  {
   "cell_type": "markdown",
   "metadata": {},
   "source": [
    "**Data**"
   ]
  },
  {
   "cell_type": "code",
   "execution_count": 90,
   "metadata": {},
   "outputs": [
    {
     "data": {
      "text/plain": [
       "array([  17.,   25.,   41.,   56.,   80.,  106.,  132.,  170.,  213.,\n",
       "        259.,  304.,  361.,  425.,  490.,  563.,  636.,  722.,  811.,\n",
       "        908., 1016., 1113., 1259., 1380., 1523., 1665., 1770., 1868.,\n",
       "       2004., 2118., 2236., 2345., 2442., 2592., 2663., 2715., 2744.,\n",
       "       2788., 2835., 2870., 2912., 2943., 2981., 3012., 3042., 3070.,\n",
       "       3097., 3119., 3136., 3158., 3169., 3176., 3189., 3199., 3213.,\n",
       "       3226., 3237., 3245., 3248., 3255., 3261., 3270., 3277., 3281.,\n",
       "       3287., 3292.])"
      ]
     },
     "execution_count": 90,
     "metadata": {},
     "output_type": "execute_result"
    }
   ],
   "source": [
    "y = np.array ((17, 25, 41, 56, 80, 106, 132, 170, 213, 259, 304, 361, 425, 490, 563, 636, 722, 811, 908, 1016, 1113, 1259, 1380, 1523, 1665, 1770, 1868, 2004, 2118, 2236, 2345, 2442, 2592, 2663, 2715, 2744, 2788, 2835, 2870, 2912, 2943, 2981, 3012, 3042, 3070, 3097, 3119, 3136, 3158, 3169, 3176, 3189, 3199, 3213, 3226, 3237, 3245, 3248, 3255, 3261, 3270, 3277, 3281, 3287, 3292))\n",
    "y = y.astype('float64')\n",
    "y"
   ]
  },
  {
   "cell_type": "code",
   "execution_count": 91,
   "metadata": {},
   "outputs": [
    {
     "data": {
      "text/plain": [
       "array([ 1.,  2.,  3.,  4.,  5.,  6.,  7.,  8.,  9., 10., 11., 12., 13.,\n",
       "       14., 15., 16., 17., 18., 19., 20., 21., 22., 23., 24., 25., 26.,\n",
       "       27., 28., 29., 30., 31., 32., 33., 34., 35., 36., 37., 38., 39.,\n",
       "       40., 41., 42., 43., 44., 45., 46., 47., 48., 49., 50., 51., 52.,\n",
       "       53., 54., 55., 56., 57., 58., 59., 60., 61., 62., 63., 64., 65.])"
      ]
     },
     "execution_count": 91,
     "metadata": {},
     "output_type": "execute_result"
    }
   ],
   "source": [
    "x = np.array((range(1,1+len(y))))\n",
    "x = x.astype('float64')\n",
    "x"
   ]
  },
  {
   "cell_type": "markdown",
   "metadata": {},
   "source": [
    "**Plot**"
   ]
  },
  {
   "cell_type": "code",
   "execution_count": 92,
   "metadata": {},
   "outputs": [
    {
     "data": {
      "text/plain": [
       "Text(0, 0.5, 'y-jumlah orang')"
      ]
     },
     "execution_count": 92,
     "metadata": {},
     "output_type": "execute_result"
    },
    {
     "data": {
      "image/png": "[encoded data removed]",
      "text/plain": [
       "<Figure size 432x288 with 1 Axes>"
      ]
     },
     "metadata": {
      "needs_background": "light"
     },
     "output_type": "display_data"
    }
   ],
   "source": [
    "ax = plt.plot(x,y,'ro')\n",
    "plt.grid()\n",
    "plt.xlabel('x-hari')\n",
    "plt.ylabel('y-jumlah orang')"
   ]
  },
  {
   "cell_type": "markdown",
   "metadata": {},
   "source": [
    "#### Regresi Berpangkat"
   ]
  },
  {
   "attachments": {
    "image.png": {
     "image/png": "[encoded data removed]"
    }
   },
   "cell_type": "markdown",
   "metadata": {},
   "source": [
    "![image.png](attachment:image.png)"
   ]
  },
  {
   "cell_type": "markdown",
   "metadata": {},
   "source": [
    " **Membuat xreg untuk plotting selanjutnya**"
   ]
  },
  {
   "cell_type": "code",
   "execution_count": 93,
   "metadata": {},
   "outputs": [],
   "source": [
    "xreg = np.array(range(0,int((x[-1]+1)*10)))\n",
    "xreg = xreg/10 #memperhalus bentuk garis\n",
    "xreg = xreg.astype('float64')"
   ]
  },
  {
   "cell_type": "markdown",
   "metadata": {},
   "source": [
    "<b>Menghitung regresi linear</b>"
   ]
  },
  {
   "attachments": {
    "image.png": {
     "image/png": "[encoded data removed]"
    }
   },
   "cell_type": "markdown",
   "metadata": {},
   "source": [
    "![image.png](attachment:image.png)"
   ]
  },
  {
   "attachments": {
    "image.png": {
     "image/png": "[encoded data removed]"
    }
   },
   "cell_type": "markdown",
   "metadata": {},
   "source": [
    "![image.png](attachment:image.png)"
   ]
  },
  {
   "attachments": {
    "image.png": {
     "image/png": "[encoded data removed]"
    }
   },
   "cell_type": "markdown",
   "metadata": {},
   "source": [
    "![image.png](attachment:image.png)"
   ]
  },
  {
   "cell_type": "code",
   "execution_count": 94,
   "metadata": {},
   "outputs": [],
   "source": [
    "p = np.log10(y)\n",
    "q = np.log10(x)\n",
    "n = len(y)\n",
    "pq = p*q\n",
    "qq = q**2\n",
    "B = (n*pq.sum() - q.sum()*p.sum())/(n*qq.sum() - (q.sum())**2)\n",
    "A = p.mean()-B*q.mean()"
   ]
  },
  {
   "cell_type": "markdown",
   "metadata": {},
   "source": [
    "**Hasil regresi linear**"
   ]
  },
  {
   "cell_type": "code",
   "execution_count": 95,
   "metadata": {},
   "outputs": [
    {
     "name": "stdout",
     "output_type": "stream",
     "text": [
      "p = 1.4840q + 1.0116\n"
     ]
    }
   ],
   "source": [
    "if A>0 :\n",
    "    print (\"p = {:.4f}q + {:.4f}\". format(B,A))\n",
    "else :\n",
    "    print (\"p = {:.4f}q {:.4f}\". format(B,A))"
   ]
  },
  {
   "cell_type": "markdown",
   "metadata": {},
   "source": [
    "**Hitung kembali dalam bentuk bilangan berpangkat**"
   ]
  },
  {
   "cell_type": "code",
   "execution_count": 96,
   "metadata": {},
   "outputs": [
    {
     "name": "stdout",
     "output_type": "stream",
     "text": [
      "y = 10.2707x^(1.4840)\n"
     ]
    }
   ],
   "source": [
    "a = 10**A #A=log(a)\n",
    "b = B\n",
    "print (\"y = {:.4f}x^({:.4f})\".format(a,b))"
   ]
  },
  {
   "cell_type": "markdown",
   "metadata": {},
   "source": [
    "**Hitung Koefisien Korelasi [r-square]**"
   ]
  },
  {
   "cell_type": "code",
   "execution_count": 97,
   "metadata": {},
   "outputs": [
    {
     "name": "stdout",
     "output_type": "stream",
     "text": [
      "r = 0.9833 dan r^2 = 0.9668\n"
     ]
    }
   ],
   "source": [
    "yDt = ((p - p.mean())**2).sum()\n",
    "yD = ((p - (q*B) - A)**2).sum()\n",
    "r = np.sqrt((yDt-yD)/yDt)\n",
    "r2 = r**2\n",
    "print('r = {:.4f} dan r^2 = {:.4f}'.format(r,r2))"
   ]
  },
  {
   "cell_type": "markdown",
   "metadata": {},
   "source": [
    "**Plot data dan perbandingan dengan hasil regresinya**"
   ]
  },
  {
   "cell_type": "code",
   "execution_count": 98,
   "metadata": {},
   "outputs": [],
   "source": [
    "yreg = a*(xreg**b)"
   ]
  },
  {
   "cell_type": "code",
   "execution_count": 99,
   "metadata": {},
   "outputs": [
    {
     "data": {
      "text/plain": [
       "Text(0, 0.5, 'banyak kasus aktif')"
      ]
     },
     "execution_count": 99,
     "metadata": {},
     "output_type": "execute_result"
    },
    {
     "data": {
      "image/png": "[encoded data removed]",
      "text/plain": [
       "<Figure size 432x288 with 1 Axes>"
      ]
     },
     "metadata": {
      "needs_background": "light"
     },
     "output_type": "display_data"
    }
   ],
   "source": [
    "ax = plt.plot(x,y,'ro')\n",
    "plt.plot(xreg,yreg,'g')\n",
    "plt.grid()\n",
    "plt.xlabel('x-hari ke')\n",
    "plt.ylabel('banyak kasus aktif')"
   ]
  },
  {
   "cell_type": "markdown",
   "metadata": {},
   "source": [
    "**Selesai**"
   ]
  },
  {
   "cell_type": "markdown",
   "metadata": {},
   "source": [
    "#### Regresi Eksponensial"
   ]
  },
  {
   "attachments": {
    "image.png": {
     "image/png": "[encoded data removed]"
    }
   },
   "cell_type": "markdown",
   "metadata": {},
   "source": [
    "![image.png](attachment:image.png)"
   ]
  },
  {
   "attachments": {
    "image.png": {
     "image/png": "[encoded data removed]"
    }
   },
   "cell_type": "markdown",
   "metadata": {},
   "source": [
    "![image.png](attachment:image.png)"
   ]
  },
  {
   "attachments": {
    "image.png": {
     "image/png": "[encoded data removed]"
    }
   },
   "cell_type": "markdown",
   "metadata": {},
   "source": [
    "![image.png](attachment:image.png)"
   ]
  },
  {
   "cell_type": "markdown",
   "metadata": {},
   "source": [
    "**Linearisasi**"
   ]
  },
  {
   "cell_type": "code",
   "execution_count": 100,
   "metadata": {},
   "outputs": [
    {
     "data": {
      "text/plain": [
       "array([  17.,   25.,   41.,   56.,   80.,  106.,  132.,  170.,  213.,\n",
       "        259.,  304.,  361.,  425.,  490.,  563.,  636.,  722.,  811.,\n",
       "        908., 1016., 1113., 1259., 1380., 1523., 1665., 1770., 1868.,\n",
       "       2004., 2118., 2236., 2345., 2442., 2592., 2663., 2715., 2774.,\n",
       "       2788., 2835., 2870., 2912., 2943., 2981., 3012., 3042., 3070.,\n",
       "       3097., 3119., 3136., 3158., 3169., 3176., 3189., 3199., 3213.,\n",
       "       3226., 3237., 3245., 3248., 3255., 3261., 3270., 3277., 3281.,\n",
       "       3287., 3292.])"
      ]
     },
     "execution_count": 100,
     "metadata": {},
     "output_type": "execute_result"
    }
   ],
   "source": [
    "y = np.array([17, 25, 41, 56, 80, 106, 132, 170, 213, 259, 304, 361, 425, 490, 563, 636, 722, 811, 908, 1016, 1113, 1259, 1380, 1523, 1665, 1770, 1868, 2004, 2118, 2236, 2345, 2442, 2592, 2663, 2715, 2774, 2788, 2835, 2870, 2912, 2943, 2981, 3012, 3042, 3070, 3097, 3119, 3136, 3158, 3169, 3176, 3189, 3199, 3213, 3226, 3237, 3245, 3248, 3255, 3261, 3270, 3277, 3281, 3287, 3292])\n",
    "y = y.astype('float64')\n",
    "y"
   ]
  },
  {
   "cell_type": "code",
   "execution_count": 101,
   "metadata": {},
   "outputs": [
    {
     "data": {
      "text/plain": [
       "array([ 1.,  2.,  3.,  4.,  5.,  6.,  7.,  8.,  9., 10., 11., 12., 13.,\n",
       "       14., 15., 16., 17., 18., 19., 20., 21., 22., 23., 24., 25., 26.,\n",
       "       27., 28., 29., 30., 31., 32., 33., 34., 35., 36., 37., 38., 39.,\n",
       "       40., 41., 42., 43., 44., 45., 46., 47., 48., 49., 50., 51., 52.,\n",
       "       53., 54., 55., 56., 57., 58., 59., 60., 61., 62., 63., 64., 65.])"
      ]
     },
     "execution_count": 101,
     "metadata": {},
     "output_type": "execute_result"
    }
   ],
   "source": [
    "x = np.array((range(1,1+len(y))))\n",
    "x = x.astype('float64')\n",
    "x"
   ]
  },
  {
   "cell_type": "code",
   "execution_count": 102,
   "metadata": {},
   "outputs": [],
   "source": [
    "p = np.log(y)\n",
    "q = x"
   ]
  },
  {
   "cell_type": "markdown",
   "metadata": {},
   "source": [
    "**Hitung regresi linear**"
   ]
  },
  {
   "attachments": {
    "image.png": {
     "image/png": "[encoded data removed]"
    }
   },
   "cell_type": "markdown",
   "metadata": {},
   "source": [
    "![image.png](attachment:image.png)"
   ]
  },
  {
   "cell_type": "code",
   "execution_count": 103,
   "metadata": {},
   "outputs": [],
   "source": [
    "n = len(y)\n",
    "pq = p*q\n",
    "qq = q**2\n",
    "B = (n*pq.sum() - q.sum()*p.sum())/(n*qq.sum() - (q.sum())**2)\n",
    "A = p.mean()-B*q.mean()"
   ]
  },
  {
   "cell_type": "markdown",
   "metadata": {},
   "source": [
    "**Hasil persamaan linear**"
   ]
  },
  {
   "cell_type": "code",
   "execution_count": 104,
   "metadata": {},
   "outputs": [
    {
     "name": "stdout",
     "output_type": "stream",
     "text": [
      "p = 0.0614q + 5.0834\n"
     ]
    }
   ],
   "source": [
    "if A>0 :\n",
    "    print (\"p = {:.4f}q + {:.4f}\". format(B,A))\n",
    "else :\n",
    "    print (\"p = {:.4f}q {:.4f}\". format(B,A))"
   ]
  },
  {
   "cell_type": "markdown",
   "metadata": {},
   "source": [
    "**Hitung kembali dalam bentuk bilangan berpangkat**"
   ]
  },
  {
   "cell_type": "code",
   "execution_count": 105,
   "metadata": {},
   "outputs": [],
   "source": [
    "a = np.e**A\n",
    "b = B"
   ]
  },
  {
   "cell_type": "code",
   "execution_count": 106,
   "metadata": {},
   "outputs": [
    {
     "name": "stdout",
     "output_type": "stream",
     "text": [
      "y = 161.3146x^(0.0614)\n"
     ]
    }
   ],
   "source": [
    "print (\"y = {:.4f}x^({:.4f})\".format(a,b))"
   ]
  },
  {
   "cell_type": "markdown",
   "metadata": {},
   "source": [
    "**Koefisien Korelasi ( r ) dan Derajat Kesesuaian ( R ) r-square**"
   ]
  },
  {
   "cell_type": "code",
   "execution_count": 107,
   "metadata": {},
   "outputs": [
    {
     "name": "stdout",
     "output_type": "stream",
     "text": [
      "r = 0.8491 dan r^2 = 0.7209\n"
     ]
    }
   ],
   "source": [
    "yDt = ((p - p.mean())**2).sum()\n",
    "yD = ((p - (q*B) - A)**2).sum()\n",
    "r = np.sqrt((yDt-yD)/yDt)\n",
    "r2 = r**2\n",
    "print('r = {:.4f} dan r^2 = {:.4f}'.format(r,r2))"
   ]
  },
  {
   "cell_type": "markdown",
   "metadata": {},
   "source": [
    "**Plot data dan regresinya**"
   ]
  },
  {
   "cell_type": "code",
   "execution_count": 108,
   "metadata": {},
   "outputs": [
    {
     "data": {
      "text/plain": [
       "array([ 0. ,  0.1,  0.2,  0.3,  0.4,  0.5,  0.6,  0.7,  0.8,  0.9,  1. ,\n",
       "        1.1,  1.2,  1.3,  1.4,  1.5,  1.6,  1.7,  1.8,  1.9,  2. ,  2.1,\n",
       "        2.2,  2.3,  2.4,  2.5,  2.6,  2.7,  2.8,  2.9,  3. ,  3.1,  3.2,\n",
       "        3.3,  3.4,  3.5,  3.6,  3.7,  3.8,  3.9,  4. ,  4.1,  4.2,  4.3,\n",
       "        4.4,  4.5,  4.6,  4.7,  4.8,  4.9,  5. ,  5.1,  5.2,  5.3,  5.4,\n",
       "        5.5,  5.6,  5.7,  5.8,  5.9,  6. ,  6.1,  6.2,  6.3,  6.4,  6.5,\n",
       "        6.6,  6.7,  6.8,  6.9,  7. ,  7.1,  7.2,  7.3,  7.4,  7.5,  7.6,\n",
       "        7.7,  7.8,  7.9,  8. ,  8.1,  8.2,  8.3,  8.4,  8.5,  8.6,  8.7,\n",
       "        8.8,  8.9,  9. ,  9.1,  9.2,  9.3,  9.4,  9.5,  9.6,  9.7,  9.8,\n",
       "        9.9, 10. , 10.1, 10.2, 10.3, 10.4, 10.5, 10.6, 10.7, 10.8, 10.9,\n",
       "       11. , 11.1, 11.2, 11.3, 11.4, 11.5, 11.6, 11.7, 11.8, 11.9, 12. ,\n",
       "       12.1, 12.2, 12.3, 12.4, 12.5, 12.6, 12.7, 12.8, 12.9, 13. , 13.1,\n",
       "       13.2, 13.3, 13.4, 13.5, 13.6, 13.7, 13.8, 13.9, 14. , 14.1, 14.2,\n",
       "       14.3, 14.4, 14.5, 14.6, 14.7, 14.8, 14.9, 15. , 15.1, 15.2, 15.3,\n",
       "       15.4, 15.5, 15.6, 15.7, 15.8, 15.9, 16. , 16.1, 16.2, 16.3, 16.4,\n",
       "       16.5, 16.6, 16.7, 16.8, 16.9, 17. , 17.1, 17.2, 17.3, 17.4, 17.5,\n",
       "       17.6, 17.7, 17.8, 17.9, 18. , 18.1, 18.2, 18.3, 18.4, 18.5, 18.6,\n",
       "       18.7, 18.8, 18.9, 19. , 19.1, 19.2, 19.3, 19.4, 19.5, 19.6, 19.7,\n",
       "       19.8, 19.9, 20. , 20.1, 20.2, 20.3, 20.4, 20.5, 20.6, 20.7, 20.8,\n",
       "       20.9, 21. , 21.1, 21.2, 21.3, 21.4, 21.5, 21.6, 21.7, 21.8, 21.9,\n",
       "       22. , 22.1, 22.2, 22.3, 22.4, 22.5, 22.6, 22.7, 22.8, 22.9, 23. ,\n",
       "       23.1, 23.2, 23.3, 23.4, 23.5, 23.6, 23.7, 23.8, 23.9, 24. , 24.1,\n",
       "       24.2, 24.3, 24.4, 24.5, 24.6, 24.7, 24.8, 24.9, 25. , 25.1, 25.2,\n",
       "       25.3, 25.4, 25.5, 25.6, 25.7, 25.8, 25.9, 26. , 26.1, 26.2, 26.3,\n",
       "       26.4, 26.5, 26.6, 26.7, 26.8, 26.9, 27. , 27.1, 27.2, 27.3, 27.4,\n",
       "       27.5, 27.6, 27.7, 27.8, 27.9, 28. , 28.1, 28.2, 28.3, 28.4, 28.5,\n",
       "       28.6, 28.7, 28.8, 28.9, 29. , 29.1, 29.2, 29.3, 29.4, 29.5, 29.6,\n",
       "       29.7, 29.8, 29.9, 30. , 30.1, 30.2, 30.3, 30.4, 30.5, 30.6, 30.7,\n",
       "       30.8, 30.9, 31. , 31.1, 31.2, 31.3, 31.4, 31.5, 31.6, 31.7, 31.8,\n",
       "       31.9, 32. , 32.1, 32.2, 32.3, 32.4, 32.5, 32.6, 32.7, 32.8, 32.9,\n",
       "       33. , 33.1, 33.2, 33.3, 33.4, 33.5, 33.6, 33.7, 33.8, 33.9, 34. ,\n",
       "       34.1, 34.2, 34.3, 34.4, 34.5, 34.6, 34.7, 34.8, 34.9, 35. , 35.1,\n",
       "       35.2, 35.3, 35.4, 35.5, 35.6, 35.7, 35.8, 35.9, 36. , 36.1, 36.2,\n",
       "       36.3, 36.4, 36.5, 36.6, 36.7, 36.8, 36.9, 37. , 37.1, 37.2, 37.3,\n",
       "       37.4, 37.5, 37.6, 37.7, 37.8, 37.9, 38. , 38.1, 38.2, 38.3, 38.4,\n",
       "       38.5, 38.6, 38.7, 38.8, 38.9, 39. , 39.1, 39.2, 39.3, 39.4, 39.5,\n",
       "       39.6, 39.7, 39.8, 39.9, 40. , 40.1, 40.2, 40.3, 40.4, 40.5, 40.6,\n",
       "       40.7, 40.8, 40.9, 41. , 41.1, 41.2, 41.3, 41.4, 41.5, 41.6, 41.7,\n",
       "       41.8, 41.9, 42. , 42.1, 42.2, 42.3, 42.4, 42.5, 42.6, 42.7, 42.8,\n",
       "       42.9, 43. , 43.1, 43.2, 43.3, 43.4, 43.5, 43.6, 43.7, 43.8, 43.9,\n",
       "       44. , 44.1, 44.2, 44.3, 44.4, 44.5, 44.6, 44.7, 44.8, 44.9, 45. ,\n",
       "       45.1, 45.2, 45.3, 45.4, 45.5, 45.6, 45.7, 45.8, 45.9, 46. , 46.1,\n",
       "       46.2, 46.3, 46.4, 46.5, 46.6, 46.7, 46.8, 46.9, 47. , 47.1, 47.2,\n",
       "       47.3, 47.4, 47.5, 47.6, 47.7, 47.8, 47.9, 48. , 48.1, 48.2, 48.3,\n",
       "       48.4, 48.5, 48.6, 48.7, 48.8, 48.9, 49. , 49.1, 49.2, 49.3, 49.4,\n",
       "       49.5, 49.6, 49.7, 49.8, 49.9, 50. , 50.1, 50.2, 50.3, 50.4, 50.5,\n",
       "       50.6, 50.7, 50.8, 50.9, 51. , 51.1, 51.2, 51.3, 51.4, 51.5, 51.6,\n",
       "       51.7, 51.8, 51.9, 52. , 52.1, 52.2, 52.3, 52.4, 52.5, 52.6, 52.7,\n",
       "       52.8, 52.9, 53. , 53.1, 53.2, 53.3, 53.4, 53.5, 53.6, 53.7, 53.8,\n",
       "       53.9, 54. , 54.1, 54.2, 54.3, 54.4, 54.5, 54.6, 54.7, 54.8, 54.9,\n",
       "       55. , 55.1, 55.2, 55.3, 55.4, 55.5, 55.6, 55.7, 55.8, 55.9, 56. ,\n",
       "       56.1, 56.2, 56.3, 56.4, 56.5, 56.6, 56.7, 56.8, 56.9, 57. , 57.1,\n",
       "       57.2, 57.3, 57.4, 57.5, 57.6, 57.7, 57.8, 57.9, 58. , 58.1, 58.2,\n",
       "       58.3, 58.4, 58.5, 58.6, 58.7, 58.8, 58.9, 59. , 59.1, 59.2, 59.3,\n",
       "       59.4, 59.5, 59.6, 59.7, 59.8, 59.9, 60. , 60.1, 60.2, 60.3, 60.4,\n",
       "       60.5, 60.6, 60.7, 60.8, 60.9, 61. , 61.1, 61.2, 61.3, 61.4, 61.5,\n",
       "       61.6, 61.7, 61.8, 61.9, 62. , 62.1, 62.2, 62.3, 62.4, 62.5, 62.6,\n",
       "       62.7, 62.8, 62.9, 63. , 63.1, 63.2, 63.3, 63.4, 63.5, 63.6, 63.7,\n",
       "       63.8, 63.9, 64. , 64.1, 64.2, 64.3, 64.4, 64.5, 64.6, 64.7, 64.8,\n",
       "       64.9, 65. , 65.1, 65.2, 65.3, 65.4, 65.5, 65.6, 65.7, 65.8, 65.9])"
      ]
     },
     "execution_count": 108,
     "metadata": {},
     "output_type": "execute_result"
    }
   ],
   "source": [
    "#membuat xreg\n",
    "xreg = np.array(range(0,int((x[-1]+1)*10)))\n",
    "xreg = xreg/10 #memperhalus bentuk garis\n",
    "xreg = xreg.astype('float64')\n",
    "xreg"
   ]
  },
  {
   "cell_type": "code",
   "execution_count": 109,
   "metadata": {},
   "outputs": [
    {
     "data": {
      "text/plain": [
       "array([ 161.31456951,  162.30772849,  163.30700201,  164.31242773,\n",
       "        165.3240435 ,  166.34188745,  167.36599792,  168.39641349,\n",
       "        169.43317298,  170.47631544,  171.52588018,  172.58190673,\n",
       "        173.64443488,  174.71350465,  175.78915633,  176.87143042,\n",
       "        177.96036771,  179.05600921,  180.15839621,  181.26757023,\n",
       "        182.38357305,  183.50644673,  184.63623356,  185.7729761 ,\n",
       "        186.91671718,  188.06749988,  189.22536757,  190.39036385,\n",
       "        191.56253261,  192.74191802,  193.92856451,  195.12251677,\n",
       "        196.3238198 ,  197.53251884,  198.74865942,  199.97228737,\n",
       "        201.20344879,  202.44219004,  203.68855781,  204.94259903,\n",
       "        206.20436097,  207.47389114,  208.75123738,  210.0364478 ,\n",
       "        211.32957083,  212.63065518,  213.93974986,  215.25690419,\n",
       "        216.58216779,  217.9155906 ,  219.25722283,  220.60711504,\n",
       "        221.96531807,  223.3318831 ,  224.7068616 ,  226.09030538,\n",
       "        227.48226656,  228.88279756,  230.29195116,  231.70978044,\n",
       "        233.13633881,  234.57168002,  236.01585813,  237.46892756,\n",
       "        238.93094305,  240.40195966,  241.88203283,  243.3712183 ,\n",
       "        244.86957218,  246.37715092,  247.89401131,  249.42021049,\n",
       "        250.95580596,  252.50085557,  254.05541752,  255.61955039,\n",
       "        257.19331309,  258.77676491,  260.36996551,  261.9729749 ,\n",
       "        263.58585347,  265.20866199,  266.8414616 ,  268.48431379,\n",
       "        270.13728046,  271.80042389,  273.47380673,  275.15749202,\n",
       "        276.85154319,  278.55602405,  280.27099882,  281.99653211,\n",
       "        283.73268893,  285.47953467,  287.23713514,  289.00555656,\n",
       "        290.78486556,  292.57512915,  294.37641479,  296.18879033,\n",
       "        298.01232406,  299.84708466,  301.69314125,  303.55056339,\n",
       "        305.41942105,  307.29978463,  309.19172497,  311.09531334,\n",
       "        313.01062146,  314.93772148,  316.876686  ,  318.82758806,\n",
       "        320.79050117,  322.76549927,  324.75265675,  326.75204849,\n",
       "        328.76374981,  330.78783649,  332.82438478,  334.87347141,\n",
       "        336.93517356,  339.00956892,  341.09673562,  343.1967523 ,\n",
       "        345.30969807,  347.43565253,  349.57469577,  351.72690837,\n",
       "        353.89237141,  356.07116647,  358.26337563,  360.46908148,\n",
       "        362.68836711,  364.92131612,  367.16801265,  369.42854132,\n",
       "        371.7029873 ,  373.99143627,  376.29397444,  378.61068856,\n",
       "        380.9416659 ,  383.28699427,  385.64676204,  388.02105809,\n",
       "        390.40997187,  392.81359339,  395.23201319,  397.66532237,\n",
       "        400.11361262,  402.57697615,  405.05550578,  407.54929487,\n",
       "        410.05843737,  412.58302781,  415.1231613 ,  417.67893353,\n",
       "        420.25044077,  422.83777991,  425.44104842,  428.06034437,\n",
       "        430.69576644,  433.3474139 ,  436.01538665,  438.69978521,\n",
       "        441.4007107 ,  444.11826486,  446.85255009,  449.60366937,\n",
       "        452.37172637,  455.15682535,  457.95907124,  460.7785696 ,\n",
       "        463.61542666,  466.46974928,  469.341645  ,  472.231222  ,\n",
       "        475.13858915,  478.06385597,  481.00713266,  483.96853011,\n",
       "        486.94815987,  489.9461342 ,  492.96256604,  495.99756903,\n",
       "        499.0512575 ,  502.12374649,  505.21515175,  508.32558974,\n",
       "        511.45517764,  514.60403335,  517.7722755 ,  520.96002343,\n",
       "        524.16739725,  527.39451778,  530.64150659,  533.90848601,\n",
       "        537.19557911,  540.50290972,  543.83060245,  547.17878265,\n",
       "        550.54757645,  553.93711078,  557.34751331,  560.77891254,\n",
       "        564.23143772,  567.70521893,  571.20038703,  574.71707369,\n",
       "        578.2554114 ,  581.81553345,  585.39757396,  589.00166787,\n",
       "        592.62795097,  596.27655986,  599.94763199,  603.64130567,\n",
       "        607.35772004,  611.09701512,  614.85933176,  618.6448117 ,\n",
       "        622.45359756,  626.28583282,  630.14166185,  634.02122991,\n",
       "        637.92468315,  641.85216863,  645.8038343 ,  649.77982903,\n",
       "        653.78030261,  657.80540575,  661.85529008,  665.93010817,\n",
       "        670.03001353,  674.15516061,  678.30570482,  682.48180253,\n",
       "        686.68361104,  690.91128867,  695.16499467,  699.44488929,\n",
       "        703.75113377,  708.08389033,  712.4433222 ,  716.82959361,\n",
       "        721.2428698 ,  725.68331704,  730.1511026 ,  734.6463948 ,\n",
       "        739.16936298,  743.72017754,  748.29900992,  752.90603262,\n",
       "        757.54141919,  762.20534425,  766.89798352,  771.61951378,\n",
       "        776.37011289,  781.14995983,  785.95923466,  790.79811856,\n",
       "        795.66679382,  800.56544386,  805.49425323,  810.4534076 ,\n",
       "        815.4430938 ,  820.4634998 ,  825.51481473,  830.5972289 ,\n",
       "        835.71093376,  840.85612196,  846.03298734,  851.24172492,\n",
       "        856.48253093,  861.7556028 ,  867.06113917,  872.39933994,\n",
       "        877.77040619,  883.17454027,  888.61194577,  894.08282753,\n",
       "        899.58739164,  905.12584549,  910.69839771,  916.30525825,\n",
       "        921.94663832,  927.62275045,  933.33380847,  939.08002753,\n",
       "        944.86162412,  950.67881603,  956.53182241,  962.42086377,\n",
       "        968.34616195,  974.30794017,  980.30642304,  986.34183653,\n",
       "        992.41440801,  998.52436625, 1004.67194143, 1010.85736513,\n",
       "       1017.08087039, 1023.34269166, 1029.64306483, 1035.98222725,\n",
       "       1042.36041775, 1048.7778766 , 1055.23484556, 1061.73156788,\n",
       "       1068.26828831, 1074.84525312, 1081.46271005, 1088.12090843,\n",
       "       1094.82009906, 1101.56053434, 1108.34246818, 1115.16615609,\n",
       "       1122.03185513, 1128.93982394, 1135.89032276, 1142.88361345,\n",
       "       1149.91995945, 1156.99962584, 1164.12287933, 1171.28998827,\n",
       "       1178.50122267, 1185.75685418, 1193.05715616, 1200.40240361,\n",
       "       1207.79287325, 1215.2288435 , 1222.7105945 , 1230.23840809,\n",
       "       1237.81256788, 1245.43335919, 1253.10106912, 1260.81598654,\n",
       "       1268.57840208, 1276.38860817, 1284.24689906, 1292.15357076,\n",
       "       1300.10892116, 1308.11324995, 1316.16685867, 1324.27005072,\n",
       "       1332.42313137, 1340.62640776, 1348.88018895, 1357.18478585,\n",
       "       1365.54051134, 1373.94768019, 1382.40660912, 1390.91761681,\n",
       "       1399.48102387, 1408.09715292, 1416.76632855, 1425.48887735,\n",
       "       1434.26512792, 1443.09541088, 1451.98005889, 1460.91940665,\n",
       "       1469.91379095, 1478.96355061, 1488.06902657, 1497.23056185,\n",
       "       1506.44850158, 1515.72319304, 1525.05498562, 1534.44423088,\n",
       "       1543.89128253, 1553.39649647, 1562.96023078, 1572.58284575,\n",
       "       1582.26470389, 1592.00616994, 1601.80761088, 1611.66939597,\n",
       "       1621.59189672, 1631.57548693, 1641.62054271, 1651.72744249,\n",
       "       1661.89656702, 1672.12829938, 1682.42302505, 1692.78113185,\n",
       "       1703.20300999, 1713.68905209, 1724.23965318, 1734.85521075,\n",
       "       1745.53612469, 1756.28279739, 1767.0956337 , 1777.97504097,\n",
       "       1788.92142906, 1799.93521033, 1811.01679972, 1822.16661468,\n",
       "       1833.38507527, 1844.6726041 , 1856.02962641, 1867.45657005,\n",
       "       1878.9538655 , 1890.52194589, 1902.16124702, 1913.87220737,\n",
       "       1925.65526812, 1937.51087317, 1949.43946916, 1961.44150546,\n",
       "       1973.51743421, 1985.66771035, 1997.89279162, 2010.19313856,\n",
       "       2022.56921455, 2035.02148583, 2047.55042152, 2060.15649361,\n",
       "       2072.840177  , 2085.60194951, 2098.44229193, 2111.36168796,\n",
       "       2124.36062433, 2137.43959073, 2150.59907989, 2163.83958754,\n",
       "       2177.1616125 , 2190.56565665, 2204.05222493, 2217.62182544,\n",
       "       2231.27496936, 2245.01217105, 2258.83394802, 2272.74082097,\n",
       "       2286.73331382, 2300.81195369, 2314.97727096, 2329.22979927,\n",
       "       2343.57007556, 2357.99864006, 2372.51603632, 2387.12281126,\n",
       "       2401.81951514, 2416.60670164, 2431.48492782, 2446.45475418,\n",
       "       2461.51674468, 2476.67146673, 2491.91949126, 2507.26139269,\n",
       "       2522.69774899, 2538.2291417 , 2553.85615591, 2569.57938033,\n",
       "       2585.39940731, 2601.31683281, 2617.3322565 , 2633.4462817 ,\n",
       "       2649.65951549, 2665.97256864, 2682.38605571, 2698.90059505,\n",
       "       2715.5168088 , 2732.23532292, 2749.05676726, 2765.98177551,\n",
       "       2783.01098529, 2800.14503812, 2817.38457949, 2834.73025886,\n",
       "       2852.18272968, 2869.74264944, 2887.41067965, 2905.18748592,\n",
       "       2923.07373795, 2941.07010955, 2959.17727869, 2977.39592752,\n",
       "       2995.72674238, 3014.17041384, 3032.72763672, 3051.39911011,\n",
       "       3070.18553741, 3089.08762637, 3108.10608906, 3127.24164196,\n",
       "       3146.49500596, 3165.86690638, 3185.358073  , 3204.96924012,\n",
       "       3224.70114652, 3244.55453557, 3264.53015519, 3284.6287579 ,\n",
       "       3304.85110089, 3325.19794596, 3345.67005965, 3366.26821319,\n",
       "       3386.99318255, 3407.84574851, 3428.82669663, 3449.93681732,\n",
       "       3471.17690584, 3492.54776238, 3514.05019201, 3535.68500479,\n",
       "       3557.45301577, 3579.35504499, 3601.39191756, 3623.56446367,\n",
       "       3645.87351861, 3668.31992281, 3690.9045219 , 3713.62816669,\n",
       "       3736.49171324, 3759.49602288, 3782.64196223, 3805.93040326,\n",
       "       3829.36222331, 3852.93830512, 3876.65953684, 3900.52681213,\n",
       "       3924.54103012, 3948.70309549, 3973.01391849, 3997.47441496,\n",
       "       4022.08550639, 4046.84811995, 4071.76318851, 4096.83165068,\n",
       "       4122.05445085, 4147.43253922, 4172.96687187, 4198.65841072,\n",
       "       4224.50812364, 4250.51698446, 4276.685973  , 4303.01607511,\n",
       "       4329.50828271, 4356.16359382, 4382.98301263, 4409.96754949,\n",
       "       4437.11822097, 4464.4360499 , 4491.92206543, 4519.57730301,\n",
       "       4547.40280449, 4575.39961812, 4603.56879863, 4631.9114072 ,\n",
       "       4660.42851158, 4689.12118609, 4717.99051164, 4747.03757581,\n",
       "       4776.26347289, 4805.66930388, 4835.25617658, 4865.02520561,\n",
       "       4894.97751242, 4925.11422541, 4955.4364799 , 4985.94541821,\n",
       "       5016.64218968, 5047.52795074, 5078.60386493, 5109.87110297,\n",
       "       5141.33084277, 5172.98426949, 5204.8325756 , 5236.87696091,\n",
       "       5269.11863261, 5301.55880533, 5334.19870116, 5367.03954974,\n",
       "       5400.08258826, 5433.32906155, 5466.78022207, 5500.43733001,\n",
       "       5534.30165333, 5568.37446779, 5602.65705698, 5637.15071242,\n",
       "       5671.85673357, 5706.77642791, 5741.91111093, 5777.26210626,\n",
       "       5812.83074565, 5848.61836906, 5884.62632471, 5920.85596911,\n",
       "       5957.30866711, 5993.98579199, 6030.88872546, 6068.01885775,\n",
       "       6105.37758765, 6142.96632255, 6180.78647851, 6218.83948033,\n",
       "       6257.12676154, 6295.64976453, 6334.40994056, 6373.40874982,\n",
       "       6412.64766149, 6452.12815381, 6491.85171411, 6531.81983886,\n",
       "       6572.03403377, 6612.49581382, 6653.20670329, 6694.16823588,\n",
       "       6735.3819547 , 6776.84941238, 6818.57217111, 6860.55180268,\n",
       "       6902.78988858, 6945.28802001, 6988.047798  , 7031.07083341,\n",
       "       7074.35874703, 7117.91316962, 7161.73574199, 7205.82811504,\n",
       "       7250.19194985, 7294.82891772, 7339.74070022, 7384.92898931,\n",
       "       7430.39548733, 7476.14190713, 7522.1699721 , 7568.48141621,\n",
       "       7615.07798415, 7661.96143132, 7709.13352394, 7756.5960391 ,\n",
       "       7804.35076484, 7852.3995002 , 7900.74405529, 7949.38625138,\n",
       "       7998.32792094, 8047.57090772, 8097.11706684, 8146.96826482,\n",
       "       8197.12637969, 8247.59330102, 8298.37093004, 8349.46117966,\n",
       "       8400.86597459, 8452.58725137, 8504.62695847, 8556.98705636,\n",
       "       8609.66951758, 8662.67632681, 8716.00948095, 8769.6709892 ,\n",
       "       8823.66287311, 8877.98716671, 8932.64591652, 8987.64118167,\n",
       "       9042.97503399, 9098.64955803, 9154.66685119, 9211.02902378])"
      ]
     },
     "execution_count": 109,
     "metadata": {},
     "output_type": "execute_result"
    }
   ],
   "source": [
    "#membuat yreg\n",
    "yreg = a*np.e**(b*xreg)\n",
    "yreg"
   ]
  },
  {
   "cell_type": "code",
   "execution_count": 110,
   "metadata": {},
   "outputs": [
    {
     "data": {
      "text/plain": [
       "Text(0, 0.5, 'y-banyak orang')"
      ]
     },
     "execution_count": 110,
     "metadata": {},
     "output_type": "execute_result"
    },
    {
     "data": {
      "image/png": "[encoded data removed]",
      "text/plain": [
       "<Figure size 432x288 with 1 Axes>"
      ]
     },
     "metadata": {
      "needs_background": "light"
     },
     "output_type": "display_data"
    }
   ],
   "source": [
    "ax = plt.plot(x,y,'ro')\n",
    "plt.plot(xreg,yreg,'b')\n",
    "plt.grid()\n",
    "plt.xlabel('x-hari ke')\n",
    "plt.ylabel('y-banyak orang')"
   ]
  },
  {
   "cell_type": "markdown",
   "metadata": {},
   "source": [
    "**Selesai**"
   ]
  },
  {
   "cell_type": "markdown",
   "metadata": {},
   "source": [
    "#### Regresi Polinomial"
   ]
  },
  {
   "cell_type": "code",
   "execution_count": 111,
   "metadata": {},
   "outputs": [
    {
     "data": {
      "text/plain": [
       "array([  17.,   25.,   41.,   56.,   80.,  106.,  132.,  170.,  213.,\n",
       "        259.,  304.,  361.,  425.,  490.,  563.,  636.,  722.,  811.,\n",
       "        908., 1016., 1113., 1259., 1380., 1523., 1665., 1770., 1868.,\n",
       "       2004., 2118., 2236., 2345., 2442., 2592., 2663., 2715., 2744.,\n",
       "       2788., 2835., 2870., 2912., 2943., 2981., 3012., 3042., 3070.,\n",
       "       3097., 3119., 3136., 3158., 3169., 3176., 3189., 3199., 3213.,\n",
       "       3226., 3237., 3245., 3248., 3255., 3261., 3270., 3277., 3281.,\n",
       "       3287., 3292.])"
      ]
     },
     "execution_count": 111,
     "metadata": {},
     "output_type": "execute_result"
    }
   ],
   "source": [
    "y = np.array ((17, 25, 41, 56, 80, 106, 132, 170, 213, 259, 304, 361, 425, 490, 563, 636, 722, 811, 908, 1016, 1113, 1259, 1380, 1523, 1665, 1770, 1868, 2004, 2118, 2236, 2345, 2442, 2592, 2663, 2715, 2744, 2788, 2835, 2870, 2912, 2943, 2981, 3012, 3042, 3070, 3097, 3119, 3136, 3158, 3169, 3176, 3189, 3199, 3213, 3226, 3237, 3245, 3248, 3255, 3261, 3270, 3277, 3281, 3287, 3292))\n",
    "y = y.astype('float64')\n",
    "y"
   ]
  },
  {
   "cell_type": "code",
   "execution_count": 112,
   "metadata": {},
   "outputs": [
    {
     "data": {
      "text/plain": [
       "array([ 1.,  2.,  3.,  4.,  5.,  6.,  7.,  8.,  9., 10., 11., 12., 13.,\n",
       "       14., 15., 16., 17., 18., 19., 20., 21., 22., 23., 24., 25., 26.,\n",
       "       27., 28., 29., 30., 31., 32., 33., 34., 35., 36., 37., 38., 39.,\n",
       "       40., 41., 42., 43., 44., 45., 46., 47., 48., 49., 50., 51., 52.,\n",
       "       53., 54., 55., 56., 57., 58., 59., 60., 61., 62., 63., 64., 65.])"
      ]
     },
     "execution_count": 112,
     "metadata": {},
     "output_type": "execute_result"
    }
   ],
   "source": [
    "x = np.array((range(1,1+len(y))))\n",
    "x = x.astype('float64')\n",
    "x"
   ]
  },
  {
   "cell_type": "markdown",
   "metadata": {},
   "source": [
    "**Membentuk regresi polinomial dari matriks**"
   ]
  },
  {
   "attachments": {
    "image.png": {
     "image/png": "[encoded data removed]"
    }
   },
   "cell_type": "markdown",
   "metadata": {},
   "source": [
    "![image.png](attachment:image.png)"
   ]
  },
  {
   "cell_type": "markdown",
   "metadata": {},
   "source": [
    "**Mendefinisikan elemen-elemen matriks kiri**"
   ]
  },
  {
   "cell_type": "code",
   "execution_count": 113,
   "metadata": {},
   "outputs": [
    {
     "data": {
      "text/plain": [
       "array([[6.50000000e+01, 2.14500000e+03, 9.36650000e+04, 4.60102500e+06],\n",
       "       [2.14500000e+03, 9.36650000e+04, 4.60102500e+06, 2.41074977e+08],\n",
       "       [9.36650000e+04, 4.60102500e+06, 2.41074977e+08, 1.31573978e+10],\n",
       "       [4.60102500e+06, 2.41074977e+08, 1.31573978e+10, 7.38607815e+11]])"
      ]
     },
     "execution_count": 113,
     "metadata": {},
     "output_type": "execute_result"
    }
   ],
   "source": [
    "n = len(y)\n",
    "a = x.sum()\n",
    "b = (x**2).sum()\n",
    "c = (x**3).sum()\n",
    "d = (x**4).sum()\n",
    "e = (x**5).sum()\n",
    "f = (x**6).sum()\n",
    "A = np.array(([n, a, b, c],\n",
    "    [a, b, c, d],\n",
    "    [b, c, d, e],\n",
    "    [c, d, e, f]))\n",
    "A"
   ]
  },
  {
   "cell_type": "markdown",
   "metadata": {},
   "source": [
    "**Mendefinisikan elemen-elemen matriks kanan**"
   ]
  },
  {
   "cell_type": "code",
   "execution_count": 114,
   "metadata": {},
   "outputs": [
    {
     "data": {
      "text/plain": [
       "array([[1.30560000e+05],\n",
       "       [5.73790500e+06],\n",
       "       [2.76864517e+08],\n",
       "       [1.42038282e+10]])"
      ]
     },
     "execution_count": 114,
     "metadata": {},
     "output_type": "execute_result"
    }
   ],
   "source": [
    "g = y.sum()\n",
    "h = (x*y).sum()\n",
    "i = ((x**2)*y).sum()\n",
    "j = ((x**3)*y).sum()\n",
    "B = np.array(([g],\n",
    "    [h],\n",
    "    [i],\n",
    "    [j]))\n",
    "B"
   ]
  },
  {
   "cell_type": "markdown",
   "metadata": {},
   "source": [
    "**Invers matriks sisi kiri**"
   ]
  },
  {
   "cell_type": "code",
   "execution_count": 115,
   "metadata": {},
   "outputs": [
    {
     "data": {
      "text/plain": [
       "array([[ 2.76883197e-01, -3.16881819e-02,  9.67446532e-04,\n",
       "        -8.61593604e-06],\n",
       "       [-3.16881819e-02,  4.69496930e-03, -1.59664436e-04,\n",
       "         1.50922720e-06],\n",
       "       [ 9.67446532e-04, -1.59664436e-04,  5.77193936e-06,\n",
       "        -5.67335560e-08],\n",
       "       [-8.61593604e-06,  1.50922720e-06, -5.67335560e-08,\n",
       "         5.73066222e-10]])"
      ]
     },
     "execution_count": 115,
     "metadata": {},
     "output_type": "execute_result"
    }
   ],
   "source": [
    "Ainv = np.linalg.inv(A)\n",
    "Ainv"
   ]
  },
  {
   "cell_type": "markdown",
   "metadata": {},
   "source": [
    "**Mencari nilai a0, a1, a2, dst dengan a = (A^-1)B namun di sini variabel a diganti dengan Y**"
   ]
  },
  {
   "cell_type": "code",
   "execution_count": 116,
   "metadata": {},
   "outputs": [
    {
     "name": "stdout",
     "output_type": "stream",
     "text": [
      "[[-2.01565299e+02]\n",
      " [ 3.34656567e+01]\n",
      " [ 2.38197525e+00]\n",
      " [-3.28687198e-02]]\n"
     ]
    }
   ],
   "source": [
    "Y = Ainv.dot(B)\n",
    "print(Y)"
   ]
  },
  {
   "cell_type": "code",
   "execution_count": 117,
   "metadata": {},
   "outputs": [],
   "source": [
    "a0 = Y[0,0]\n",
    "a1 = Y[1,0]\n",
    "a2 = Y[2,0]\n",
    "a3 = Y[3,0]"
   ]
  },
  {
   "cell_type": "markdown",
   "metadata": {},
   "source": [
    "**Hasil persamaan regresi polinomial**"
   ]
  },
  {
   "cell_type": "code",
   "execution_count": 118,
   "metadata": {},
   "outputs": [
    {
     "name": "stdout",
     "output_type": "stream",
     "text": [
      "y = -0.0329x^3 + 2.3820X^2 + 33.4657x + -201.5653\n"
     ]
    }
   ],
   "source": [
    "print('y = {:.4f}x^3 + {:.4f}X^2 + {:.4f}x + {:.4f}'.format(a3, a2, a1, a0))"
   ]
  },
  {
   "cell_type": "code",
   "execution_count": 119,
   "metadata": {},
   "outputs": [
    {
     "data": {
      "text/plain": [
       "array([  17.,   25.,   41.,   56.,   80.,  106.,  132.,  170.,  213.,\n",
       "        259.,  304.,  361.,  425.,  490.,  563.,  636.,  722.,  811.,\n",
       "        908., 1016., 1113., 1259., 1380., 1523., 1665., 1770., 1868.,\n",
       "       2004., 2118., 2236., 2345., 2442., 2592., 2663., 2715., 2744.,\n",
       "       2788., 2835., 2870., 2912., 2943., 2981., 3012., 3042., 3070.,\n",
       "       3097., 3119., 3136., 3158., 3169., 3176., 3189., 3199., 3213.,\n",
       "       3226., 3237., 3245., 3248., 3255., 3261., 3270., 3277., 3281.,\n",
       "       3287., 3292.])"
      ]
     },
     "execution_count": 119,
     "metadata": {},
     "output_type": "execute_result"
    }
   ],
   "source": [
    "y"
   ]
  },
  {
   "cell_type": "markdown",
   "metadata": {},
   "source": [
    "**Hitung Koefisien Korelasi [r-square] dan hasil regresi**"
   ]
  },
  {
   "cell_type": "code",
   "execution_count": 120,
   "metadata": {},
   "outputs": [
    {
     "name": "stdout",
     "output_type": "stream",
     "text": [
      "nilai r-square =  0.9875493187517915\n"
     ]
    }
   ],
   "source": [
    "yDt = (y-y.mean())**2\n",
    "yD = (y-a0-a1*x-a2*(x**2)-a3*(x**3))**2\n",
    "r = np.sqrt((yDt.sum()-yD.sum())/yDt.sum())\n",
    "R2 = r**2\n",
    "print('nilai r-square = ',R2)"
   ]
  },
  {
   "cell_type": "markdown",
   "metadata": {},
   "source": [
    "**Plot**"
   ]
  },
  {
   "cell_type": "code",
   "execution_count": 121,
   "metadata": {},
   "outputs": [
    {
     "data": {
      "text/plain": [
       "Text(0, 0.5, 'y')"
      ]
     },
     "execution_count": 121,
     "metadata": {},
     "output_type": "execute_result"
    },
    {
     "data": {
      "image/png": "[encoded data removed]",
      "text/plain": [
       "<Figure size 432x288 with 1 Axes>"
      ]
     },
     "metadata": {
      "needs_background": "light"
     },
     "output_type": "display_data"
    }
   ],
   "source": [
    "xreg = np.array(range(0,int((x[-1]+0.5)*10)))\n",
    "xreg = xreg/10\n",
    "yreg = a0 + a1*xreg + a2*(xreg**2) + a3*(xreg**3)\n",
    "ax = plt.plot(x,y,'ro')\n",
    "plt.plot(xreg,yreg,'b')\n",
    "plt.grid()\n",
    "plt.xlabel('x')\n",
    "plt.ylabel('y')"
   ]
  },
  {
   "cell_type": "markdown",
   "metadata": {},
   "source": [
    "**Perbandingan jika memakai polyfit dengan derajat dinaikkan**"
   ]
  },
  {
   "cell_type": "code",
   "execution_count": 122,
   "metadata": {},
   "outputs": [
    {
     "data": {
      "image/png": "[encoded data removed]",
      "text/plain": [
       "<Figure size 432x288 with 1 Axes>"
      ]
     },
     "metadata": {
      "needs_background": "light"
     },
     "output_type": "display_data"
    }
   ],
   "source": [
    "regpoly = np.poly1d(np.polyfit(x, y, 5))\n",
    "\n",
    "myline = np.linspace(1, 65, 100)\n",
    "\n",
    "plt.scatter(x, y)\n",
    "plt.plot(myline, regpoly(myline), linewidth=3, color='r')\n",
    "plt.show()"
   ]
  },
  {
   "cell_type": "code",
   "execution_count": 123,
   "metadata": {},
   "outputs": [
    {
     "name": "stdout",
     "output_type": "stream",
     "text": [
      "           5             4          3         2\n",
      "1.299e-05 x - 0.0006754 x - 0.1004 x + 7.483 x - 59.16 x + 158.6\n"
     ]
    }
   ],
   "source": [
    "print (regpoly)"
   ]
  },
  {
   "cell_type": "code",
   "execution_count": 124,
   "metadata": {},
   "outputs": [
    {
     "name": "stdout",
     "output_type": "stream",
     "text": [
      "0.9980861672262538\n"
     ]
    }
   ],
   "source": [
    "print(r2_score(y, regpoly(x)))"
   ]
  },
  {
   "cell_type": "markdown",
   "metadata": {},
   "source": [
    "**Selesai**"
   ]
  },
  {
   "cell_type": "code",
   "execution_count": null,
   "metadata": {},
   "outputs": [],
   "source": []
  }
 ],
 "metadata": {
  "kernelspec": {
   "display_name": "Python 3",
   "language": "python",
   "name": "python3"
  },
  "language_info": {
   "codemirror_mode": {
    "name": "ipython",
    "version": 3
   },
   "file_extension": ".py",
   "mimetype": "text/x-python",
   "name": "python",
   "nbconvert_exporter": "python",
   "pygments_lexer": "ipython3",
   "version": "3.7.6"
  },
  "toc": {
   "base_numbering": 1,
   "nav_menu": {},
   "number_sections": true,
   "sideBar": true,
   "skip_h1_title": false,
   "title_cell": "Table of Contents",
   "title_sidebar": "Contents",
   "toc_cell": false,
   "toc_position": {
    "height": "calc(100% - 180px)",
    "left": "10px",
    "top": "150px",
    "width": "286.957px"
   },
   "toc_section_display": true,
   "toc_window_display": true
  }
 },
 "nbformat": 4,
 "nbformat_minor": 4
}
