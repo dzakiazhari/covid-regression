{
 "cells": [
  {
   "cell_type": "markdown",
   "metadata": {},
   "source": [
    "# Spain"
   ]
  },
  {
   "cell_type": "markdown",
   "metadata": {},
   "source": [
    "## Basic Data (Import and Visualization)"
   ]
  },
  {
   "cell_type": "markdown",
   "metadata": {},
   "source": [
    "### Start (Importing Libraries)"
   ]
  },
  {
   "cell_type": "code",
   "execution_count": 1,
   "metadata": {},
   "outputs": [],
   "source": [
    "import matplotlib.pyplot as plt\n",
    "import numpy as np\n",
    "import pandas as pd\n",
    "import seaborn as sns\n",
    "from sklearn.metrics import r2_score\n",
    "%matplotlib inline"
   ]
  },
  {
   "cell_type": "markdown",
   "metadata": {},
   "source": [
    "### Read data and Plotting"
   ]
  },
  {
   "cell_type": "code",
   "execution_count": 2,
   "metadata": {},
   "outputs": [
    {
     "data": {
      "text/plain": [
       "pandas.core.frame.DataFrame"
      ]
     },
     "execution_count": 2,
     "metadata": {},
     "output_type": "execute_result"
    }
   ],
   "source": [
    "df = pd.read_csv('/Users/abdul/Documents/Academics/Metnum/UTS/dataset/csv/spain.csv')\n",
    "type(df)"
   ]
  },
  {
   "cell_type": "code",
   "execution_count": 3,
   "metadata": {},
   "outputs": [
    {
     "data": {
      "text/plain": [
       "(41, 5)"
      ]
     },
     "execution_count": 3,
     "metadata": {},
     "output_type": "execute_result"
    }
   ],
   "source": [
    "df.shape"
   ]
  },
  {
   "cell_type": "code",
   "execution_count": 4,
   "metadata": {},
   "outputs": [],
   "source": [
    "df.columns\n",
    "df['Date'] = pd.to_datetime(df['Date'])\n",
    "df.set_index('Date', inplace=True)"
   ]
  },
  {
   "cell_type": "code",
   "execution_count": 5,
   "metadata": {},
   "outputs": [
    {
     "data": {
      "text/html": [
       "<div>\n",
       "<style scoped>\n",
       "    .dataframe tbody tr th:only-of-type {\n",
       "        vertical-align: middle;\n",
       "    }\n",
       "\n",
       "    .dataframe tbody tr th {\n",
       "        vertical-align: top;\n",
       "    }\n",
       "\n",
       "    .dataframe thead th {\n",
       "        text-align: right;\n",
       "    }\n",
       "</style>\n",
       "<table border=\"1\" class=\"dataframe\">\n",
       "  <thead>\n",
       "    <tr style=\"text-align: right;\">\n",
       "      <th></th>\n",
       "      <th>Confirmed</th>\n",
       "      <th>New</th>\n",
       "      <th>Deaths</th>\n",
       "      <th>Active</th>\n",
       "    </tr>\n",
       "    <tr>\n",
       "      <th>Date</th>\n",
       "      <th></th>\n",
       "      <th></th>\n",
       "      <th></th>\n",
       "      <th></th>\n",
       "    </tr>\n",
       "  </thead>\n",
       "  <tbody>\n",
       "    <tr>\n",
       "      <th>2020-02-15</th>\n",
       "      <td>2</td>\n",
       "      <td>0</td>\n",
       "      <td>0</td>\n",
       "      <td>0</td>\n",
       "    </tr>\n",
       "    <tr>\n",
       "      <th>2020-02-16</th>\n",
       "      <td>2</td>\n",
       "      <td>0</td>\n",
       "      <td>0</td>\n",
       "      <td>0</td>\n",
       "    </tr>\n",
       "    <tr>\n",
       "      <th>2020-02-17</th>\n",
       "      <td>2</td>\n",
       "      <td>0</td>\n",
       "      <td>0</td>\n",
       "      <td>0</td>\n",
       "    </tr>\n",
       "    <tr>\n",
       "      <th>2020-02-18</th>\n",
       "      <td>2</td>\n",
       "      <td>0</td>\n",
       "      <td>0</td>\n",
       "      <td>0</td>\n",
       "    </tr>\n",
       "    <tr>\n",
       "      <th>2020-02-19</th>\n",
       "      <td>2</td>\n",
       "      <td>0</td>\n",
       "      <td>0</td>\n",
       "      <td>0</td>\n",
       "    </tr>\n",
       "    <tr>\n",
       "      <th>2020-02-20</th>\n",
       "      <td>2</td>\n",
       "      <td>0</td>\n",
       "      <td>0</td>\n",
       "      <td>0</td>\n",
       "    </tr>\n",
       "    <tr>\n",
       "      <th>2020-02-21</th>\n",
       "      <td>2</td>\n",
       "      <td>0</td>\n",
       "      <td>0</td>\n",
       "      <td>0</td>\n",
       "    </tr>\n",
       "    <tr>\n",
       "      <th>2020-02-22</th>\n",
       "      <td>2</td>\n",
       "      <td>0</td>\n",
       "      <td>0</td>\n",
       "      <td>0</td>\n",
       "    </tr>\n",
       "    <tr>\n",
       "      <th>2020-02-23</th>\n",
       "      <td>2</td>\n",
       "      <td>0</td>\n",
       "      <td>0</td>\n",
       "      <td>0</td>\n",
       "    </tr>\n",
       "    <tr>\n",
       "      <th>2020-02-24</th>\n",
       "      <td>3</td>\n",
       "      <td>1</td>\n",
       "      <td>0</td>\n",
       "      <td>1</td>\n",
       "    </tr>\n",
       "    <tr>\n",
       "      <th>2020-02-25</th>\n",
       "      <td>9</td>\n",
       "      <td>6</td>\n",
       "      <td>0</td>\n",
       "      <td>7</td>\n",
       "    </tr>\n",
       "    <tr>\n",
       "      <th>2020-02-26</th>\n",
       "      <td>13</td>\n",
       "      <td>4</td>\n",
       "      <td>0</td>\n",
       "      <td>11</td>\n",
       "    </tr>\n",
       "    <tr>\n",
       "      <th>2020-02-27</th>\n",
       "      <td>25</td>\n",
       "      <td>12</td>\n",
       "      <td>0</td>\n",
       "      <td>23</td>\n",
       "    </tr>\n",
       "    <tr>\n",
       "      <th>2020-02-28</th>\n",
       "      <td>33</td>\n",
       "      <td>8</td>\n",
       "      <td>0</td>\n",
       "      <td>31</td>\n",
       "    </tr>\n",
       "    <tr>\n",
       "      <th>2020-02-29</th>\n",
       "      <td>58</td>\n",
       "      <td>25</td>\n",
       "      <td>0</td>\n",
       "      <td>56</td>\n",
       "    </tr>\n",
       "    <tr>\n",
       "      <th>2020-03-01</th>\n",
       "      <td>84</td>\n",
       "      <td>26</td>\n",
       "      <td>0</td>\n",
       "      <td>82</td>\n",
       "    </tr>\n",
       "    <tr>\n",
       "      <th>2020-03-02</th>\n",
       "      <td>120</td>\n",
       "      <td>36</td>\n",
       "      <td>0</td>\n",
       "      <td>118</td>\n",
       "    </tr>\n",
       "    <tr>\n",
       "      <th>2020-03-03</th>\n",
       "      <td>165</td>\n",
       "      <td>45</td>\n",
       "      <td>1</td>\n",
       "      <td>162</td>\n",
       "    </tr>\n",
       "    <tr>\n",
       "      <th>2020-03-04</th>\n",
       "      <td>228</td>\n",
       "      <td>63</td>\n",
       "      <td>2</td>\n",
       "      <td>224</td>\n",
       "    </tr>\n",
       "    <tr>\n",
       "      <th>2020-03-05</th>\n",
       "      <td>282</td>\n",
       "      <td>54</td>\n",
       "      <td>3</td>\n",
       "      <td>276</td>\n",
       "    </tr>\n",
       "    <tr>\n",
       "      <th>2020-03-06</th>\n",
       "      <td>401</td>\n",
       "      <td>119</td>\n",
       "      <td>8</td>\n",
       "      <td>387</td>\n",
       "    </tr>\n",
       "    <tr>\n",
       "      <th>2020-03-07</th>\n",
       "      <td>525</td>\n",
       "      <td>124</td>\n",
       "      <td>10</td>\n",
       "      <td>485</td>\n",
       "    </tr>\n",
       "    <tr>\n",
       "      <th>2020-03-08</th>\n",
       "      <td>674</td>\n",
       "      <td>149</td>\n",
       "      <td>17</td>\n",
       "      <td>625</td>\n",
       "    </tr>\n",
       "    <tr>\n",
       "      <th>2020-03-09</th>\n",
       "      <td>1231</td>\n",
       "      <td>557</td>\n",
       "      <td>30</td>\n",
       "      <td>1169</td>\n",
       "    </tr>\n",
       "    <tr>\n",
       "      <th>2020-03-10</th>\n",
       "      <td>1695</td>\n",
       "      <td>464</td>\n",
       "      <td>36</td>\n",
       "      <td>1524</td>\n",
       "    </tr>\n",
       "    <tr>\n",
       "      <th>2020-03-11</th>\n",
       "      <td>2277</td>\n",
       "      <td>582</td>\n",
       "      <td>55</td>\n",
       "      <td>2039</td>\n",
       "    </tr>\n",
       "    <tr>\n",
       "      <th>2020-03-12</th>\n",
       "      <td>3146</td>\n",
       "      <td>869</td>\n",
       "      <td>86</td>\n",
       "      <td>2871</td>\n",
       "    </tr>\n",
       "    <tr>\n",
       "      <th>2020-03-13</th>\n",
       "      <td>5232</td>\n",
       "      <td>2086</td>\n",
       "      <td>133</td>\n",
       "      <td>4906</td>\n",
       "    </tr>\n",
       "    <tr>\n",
       "      <th>2020-03-14</th>\n",
       "      <td>6391</td>\n",
       "      <td>1159</td>\n",
       "      <td>196</td>\n",
       "      <td>5678</td>\n",
       "    </tr>\n",
       "    <tr>\n",
       "      <th>2020-03-15</th>\n",
       "      <td>7798</td>\n",
       "      <td>1407</td>\n",
       "      <td>294</td>\n",
       "      <td>7177</td>\n",
       "    </tr>\n",
       "    <tr>\n",
       "      <th>2020-03-16</th>\n",
       "      <td>9942</td>\n",
       "      <td>2144</td>\n",
       "      <td>342</td>\n",
       "      <td>9070</td>\n",
       "    </tr>\n",
       "    <tr>\n",
       "      <th>2020-03-17</th>\n",
       "      <td>11826</td>\n",
       "      <td>1884</td>\n",
       "      <td>533</td>\n",
       "      <td>10265</td>\n",
       "    </tr>\n",
       "    <tr>\n",
       "      <th>2020-03-18</th>\n",
       "      <td>14769</td>\n",
       "      <td>2943</td>\n",
       "      <td>638</td>\n",
       "      <td>13050</td>\n",
       "    </tr>\n",
       "    <tr>\n",
       "      <th>2020-03-19</th>\n",
       "      <td>18077</td>\n",
       "      <td>3308</td>\n",
       "      <td>831</td>\n",
       "      <td>16139</td>\n",
       "    </tr>\n",
       "    <tr>\n",
       "      <th>2020-03-20</th>\n",
       "      <td>21571</td>\n",
       "      <td>3494</td>\n",
       "      <td>1093</td>\n",
       "      <td>18890</td>\n",
       "    </tr>\n",
       "    <tr>\n",
       "      <th>2020-03-21</th>\n",
       "      <td>25496</td>\n",
       "      <td>3925</td>\n",
       "      <td>1381</td>\n",
       "      <td>21990</td>\n",
       "    </tr>\n",
       "    <tr>\n",
       "      <th>2020-03-22</th>\n",
       "      <td>28768</td>\n",
       "      <td>3272</td>\n",
       "      <td>1772</td>\n",
       "      <td>24421</td>\n",
       "    </tr>\n",
       "    <tr>\n",
       "      <th>2020-03-23</th>\n",
       "      <td>35136</td>\n",
       "      <td>6368</td>\n",
       "      <td>2331</td>\n",
       "      <td>29470</td>\n",
       "    </tr>\n",
       "    <tr>\n",
       "      <th>2020-03-24</th>\n",
       "      <td>42058</td>\n",
       "      <td>6922</td>\n",
       "      <td>2991</td>\n",
       "      <td>35273</td>\n",
       "    </tr>\n",
       "    <tr>\n",
       "      <th>2020-03-25</th>\n",
       "      <td>49515</td>\n",
       "      <td>7457</td>\n",
       "      <td>3647</td>\n",
       "      <td>40501</td>\n",
       "    </tr>\n",
       "    <tr>\n",
       "      <th>2020-03-26</th>\n",
       "      <td>57786</td>\n",
       "      <td>8271</td>\n",
       "      <td>4365</td>\n",
       "      <td>46406</td>\n",
       "    </tr>\n",
       "  </tbody>\n",
       "</table>\n",
       "</div>"
      ],
      "text/plain": [
       "            Confirmed   New  Deaths  Active\n",
       "Date                                       \n",
       "2020-02-15          2     0       0       0\n",
       "2020-02-16          2     0       0       0\n",
       "2020-02-17          2     0       0       0\n",
       "2020-02-18          2     0       0       0\n",
       "2020-02-19          2     0       0       0\n",
       "2020-02-20          2     0       0       0\n",
       "2020-02-21          2     0       0       0\n",
       "2020-02-22          2     0       0       0\n",
       "2020-02-23          2     0       0       0\n",
       "2020-02-24          3     1       0       1\n",
       "2020-02-25          9     6       0       7\n",
       "2020-02-26         13     4       0      11\n",
       "2020-02-27         25    12       0      23\n",
       "2020-02-28         33     8       0      31\n",
       "2020-02-29         58    25       0      56\n",
       "2020-03-01         84    26       0      82\n",
       "2020-03-02        120    36       0     118\n",
       "2020-03-03        165    45       1     162\n",
       "2020-03-04        228    63       2     224\n",
       "2020-03-05        282    54       3     276\n",
       "2020-03-06        401   119       8     387\n",
       "2020-03-07        525   124      10     485\n",
       "2020-03-08        674   149      17     625\n",
       "2020-03-09       1231   557      30    1169\n",
       "2020-03-10       1695   464      36    1524\n",
       "2020-03-11       2277   582      55    2039\n",
       "2020-03-12       3146   869      86    2871\n",
       "2020-03-13       5232  2086     133    4906\n",
       "2020-03-14       6391  1159     196    5678\n",
       "2020-03-15       7798  1407     294    7177\n",
       "2020-03-16       9942  2144     342    9070\n",
       "2020-03-17      11826  1884     533   10265\n",
       "2020-03-18      14769  2943     638   13050\n",
       "2020-03-19      18077  3308     831   16139\n",
       "2020-03-20      21571  3494    1093   18890\n",
       "2020-03-21      25496  3925    1381   21990\n",
       "2020-03-22      28768  3272    1772   24421\n",
       "2020-03-23      35136  6368    2331   29470\n",
       "2020-03-24      42058  6922    2991   35273\n",
       "2020-03-25      49515  7457    3647   40501\n",
       "2020-03-26      57786  8271    4365   46406"
      ]
     },
     "execution_count": 5,
     "metadata": {},
     "output_type": "execute_result"
    }
   ],
   "source": [
    "df"
   ]
  },
  {
   "cell_type": "code",
   "execution_count": 87,
   "metadata": {},
   "outputs": [
    {
     "data": {
      "text/plain": [
       "<matplotlib.axes._subplots.AxesSubplot at 0x1e24e0c6fc8>"
      ]
     },
     "execution_count": 87,
     "metadata": {},
     "output_type": "execute_result"
    },
    {
     "data": {
      "image/png": "[encoded data removed]",
      "text/plain": [
       "<Figure size 1080x288 with 1 Axes>"
      ]
     },
     "metadata": {
      "needs_background": "light"
     },
     "output_type": "display_data"
    }
   ],
   "source": [
    "df.plot.area(y=[\"Active\", \"Confirmed\", \"Deaths\", \"New\"], figsize=(15,4), alpha=0.4, subplots=False, stacked=False)"
   ]
  },
  {
   "cell_type": "code",
   "execution_count": 7,
   "metadata": {},
   "outputs": [
    {
     "data": {
      "image/png": "[encoded data removed]",
      "text/plain": [
       "<Figure size 432x288 with 2 Axes>"
      ]
     },
     "metadata": {
      "needs_background": "light"
     },
     "output_type": "display_data"
    }
   ],
   "source": [
    "fig, ax = plt.subplots()\n",
    "ax2 = ax.twinx()\n",
    "ax.bar(df.index, df[\"Confirmed\"], color=(190/255,190/255,190/255,0.7), label='Confirmed')\n",
    "ax2.plot(df.index, df[\"Active\"], color='green', label='Active')\n",
    "ax.set_xticklabels(df.index)\n",
    "ax.legend(loc='best')\n",
    "ax2.legend(loc='best')\n",
    "ax.xaxis.grid(True)\n",
    "ax.yaxis.grid(True)\n",
    "ax.set_title('Banyak kasus aktif dibanding dengan total kasus')\n",
    "fig.autofmt_xdate()"
   ]
  },
  {
   "cell_type": "code",
   "execution_count": 8,
   "metadata": {},
   "outputs": [
    {
     "data": {
      "image/png": "[encoded data removed]",
      "text/plain": [
       "<Figure size 432x288 with 2 Axes>"
      ]
     },
     "metadata": {
      "needs_background": "light"
     },
     "output_type": "display_data"
    }
   ],
   "source": [
    "fig, ax3 = plt.subplots()\n",
    "ax4 = ax3.twinx()\n",
    "ax3.bar(df.index, df[\"New\"], color=(190/255,190/255,190/255,0.7), label='New')\n",
    "ax4.plot(df.index, df[\"Deaths\"], color='red', label='Deaths')\n",
    "ax3.set_xticklabels(df.index)\n",
    "ax3.legend(loc='best')\n",
    "ax4.legend(loc='best')\n",
    "ax3.xaxis.grid(True)\n",
    "ax4.yaxis.grid(True)\n",
    "ax3.set_title('Banyak kasus kematian dibanding dengan kasus baru')\n",
    "fig.autofmt_xdate()"
   ]
  },
  {
   "cell_type": "markdown",
   "metadata": {},
   "source": [
    "## Regressions"
   ]
  },
  {
   "cell_type": "markdown",
   "metadata": {},
   "source": [
    "### Active "
   ]
  },
  {
   "cell_type": "markdown",
   "metadata": {},
   "source": [
    "- Start: 24-Feb-2020\n",
    "- End: 26-Mar-2020\n",
    "- Range: 32 Days"
   ]
  },
  {
   "cell_type": "markdown",
   "metadata": {},
   "source": [
    "**Data**"
   ]
  },
  {
   "cell_type": "code",
   "execution_count": 9,
   "metadata": {},
   "outputs": [
    {
     "data": {
      "text/plain": [
       "array([1.0000e+00, 7.0000e+00, 1.1000e+01, 2.3000e+01, 3.1000e+01,\n",
       "       5.6000e+01, 8.2000e+01, 1.1800e+02, 1.6200e+02, 2.2400e+02,\n",
       "       2.7600e+02, 3.8700e+02, 4.8500e+02, 6.2500e+02, 1.1690e+03,\n",
       "       1.5240e+03, 2.0390e+03, 2.8710e+03, 4.9060e+03, 5.6780e+03,\n",
       "       7.1770e+03, 9.0700e+03, 1.0265e+04, 1.3050e+04, 1.6139e+04,\n",
       "       1.8890e+04, 2.1990e+04, 2.4421e+04, 2.9470e+04, 3.5273e+04,\n",
       "       4.0501e+04, 4.6406e+04])"
      ]
     },
     "execution_count": 9,
     "metadata": {},
     "output_type": "execute_result"
    }
   ],
   "source": [
    "y = np.array ((1, 7, 11, 23, 31, 56, 82, 118, 162, 224, 276, 387, 485, 625, 1169, 1524, 2039, 2871, 4906, 5678, 7177, 9070, 10265, 13050, 16139, 18890, 21990, 24421, 29470, 35273, 40501, 46406))\n",
    "y = y.astype('float64')\n",
    "y"
   ]
  },
  {
   "cell_type": "code",
   "execution_count": 10,
   "metadata": {},
   "outputs": [
    {
     "data": {
      "text/plain": [
       "array([ 1.,  2.,  3.,  4.,  5.,  6.,  7.,  8.,  9., 10., 11., 12., 13.,\n",
       "       14., 15., 16., 17., 18., 19., 20., 21., 22., 23., 24., 25., 26.,\n",
       "       27., 28., 29., 30., 31., 32.])"
      ]
     },
     "execution_count": 10,
     "metadata": {},
     "output_type": "execute_result"
    }
   ],
   "source": [
    "x = np.array((range(1,1+len(y))))\n",
    "x = x.astype('float64')\n",
    "x"
   ]
  },
  {
   "cell_type": "markdown",
   "metadata": {},
   "source": [
    "**Plot**"
   ]
  },
  {
   "cell_type": "code",
   "execution_count": 11,
   "metadata": {},
   "outputs": [
    {
     "data": {
      "text/plain": [
       "Text(0, 0.5, 'y-jumlah orang')"
      ]
     },
     "execution_count": 11,
     "metadata": {},
     "output_type": "execute_result"
    },
    {
     "data": {
      "image/png": "[encoded data removed]",
      "text/plain": [
       "<Figure size 432x288 with 1 Axes>"
      ]
     },
     "metadata": {
      "needs_background": "light"
     },
     "output_type": "display_data"
    }
   ],
   "source": [
    "ax = plt.plot(x,y,'ro')\n",
    "plt.grid()\n",
    "plt.xlabel('x-hari')\n",
    "plt.ylabel('y-jumlah orang')"
   ]
  },
  {
   "cell_type": "markdown",
   "metadata": {},
   "source": [
    "#### Regresi Berpangkat"
   ]
  },
  {
   "cell_type": "markdown",
   "metadata": {},
   "source": [
    "**Data**"
   ]
  },
  {
   "cell_type": "code",
   "execution_count": 12,
   "metadata": {},
   "outputs": [
    {
     "data": {
      "text/plain": [
       "array([1.0000e+00, 7.0000e+00, 1.1000e+01, 2.3000e+01, 3.1000e+01,\n",
       "       5.6000e+01, 8.2000e+01, 1.1800e+02, 1.6200e+02, 2.2400e+02,\n",
       "       2.7600e+02, 3.8700e+02, 4.8500e+02, 6.2500e+02, 1.1690e+03,\n",
       "       1.5240e+03, 2.0390e+03, 2.8710e+03, 4.9060e+03, 5.6780e+03,\n",
       "       7.1770e+03, 9.0700e+03, 1.0265e+04, 1.3050e+04, 1.6139e+04,\n",
       "       1.8890e+04, 2.1990e+04, 2.4421e+04, 2.9470e+04, 3.5273e+04,\n",
       "       4.0501e+04, 4.6406e+04])"
      ]
     },
     "execution_count": 12,
     "metadata": {},
     "output_type": "execute_result"
    }
   ],
   "source": [
    "y = np.array ((1, 7, 11, 23, 31, 56, 82, 118, 162, 224, 276, 387, 485, 625, 1169, 1524, 2039, 2871, 4906, 5678, 7177, 9070, 10265, 13050, 16139, 18890, 21990, 24421, 29470, 35273, 40501, 46406))\n",
    "y = y.astype('float64')\n",
    "y"
   ]
  },
  {
   "cell_type": "code",
   "execution_count": 13,
   "metadata": {},
   "outputs": [
    {
     "data": {
      "text/plain": [
       "array([ 1.,  2.,  3.,  4.,  5.,  6.,  7.,  8.,  9., 10., 11., 12., 13.,\n",
       "       14., 15., 16., 17., 18., 19., 20., 21., 22., 23., 24., 25., 26.,\n",
       "       27., 28., 29., 30., 31., 32.])"
      ]
     },
     "execution_count": 13,
     "metadata": {},
     "output_type": "execute_result"
    }
   ],
   "source": [
    "x = np.array((range(1,1+len(y))))\n",
    "x = x.astype('float64')\n",
    "x"
   ]
  },
  {
   "attachments": {
    "image.png": {
     "image/png": "[encoded data removed]"
    }
   },
   "cell_type": "markdown",
   "metadata": {},
   "source": [
    "![image.png](attachment:image.png)"
   ]
  },
  {
   "cell_type": "markdown",
   "metadata": {},
   "source": [
    "**Membuat xreg untuk plotting selanjutnya**"
   ]
  },
  {
   "cell_type": "code",
   "execution_count": 14,
   "metadata": {},
   "outputs": [
    {
     "data": {
      "text/plain": [
       "array([ 1. ,  1.1,  1.2,  1.3,  1.4,  1.5,  1.6,  1.7,  1.8,  1.9,  2. ,\n",
       "        2.1,  2.2,  2.3,  2.4,  2.5,  2.6,  2.7,  2.8,  2.9,  3. ,  3.1,\n",
       "        3.2,  3.3,  3.4,  3.5,  3.6,  3.7,  3.8,  3.9,  4. ,  4.1,  4.2,\n",
       "        4.3,  4.4,  4.5,  4.6,  4.7,  4.8,  4.9,  5. ,  5.1,  5.2,  5.3,\n",
       "        5.4,  5.5,  5.6,  5.7,  5.8,  5.9,  6. ,  6.1,  6.2,  6.3,  6.4,\n",
       "        6.5,  6.6,  6.7,  6.8,  6.9,  7. ,  7.1,  7.2,  7.3,  7.4,  7.5,\n",
       "        7.6,  7.7,  7.8,  7.9,  8. ,  8.1,  8.2,  8.3,  8.4,  8.5,  8.6,\n",
       "        8.7,  8.8,  8.9,  9. ,  9.1,  9.2,  9.3,  9.4,  9.5,  9.6,  9.7,\n",
       "        9.8,  9.9, 10. , 10.1, 10.2, 10.3, 10.4, 10.5, 10.6, 10.7, 10.8,\n",
       "       10.9, 11. , 11.1, 11.2, 11.3, 11.4, 11.5, 11.6, 11.7, 11.8, 11.9,\n",
       "       12. , 12.1, 12.2, 12.3, 12.4, 12.5, 12.6, 12.7, 12.8, 12.9, 13. ,\n",
       "       13.1, 13.2, 13.3, 13.4, 13.5, 13.6, 13.7, 13.8, 13.9, 14. , 14.1,\n",
       "       14.2, 14.3, 14.4, 14.5, 14.6, 14.7, 14.8, 14.9, 15. , 15.1, 15.2,\n",
       "       15.3, 15.4, 15.5, 15.6, 15.7, 15.8, 15.9, 16. , 16.1, 16.2, 16.3,\n",
       "       16.4, 16.5, 16.6, 16.7, 16.8, 16.9, 17. , 17.1, 17.2, 17.3, 17.4,\n",
       "       17.5, 17.6, 17.7, 17.8, 17.9, 18. , 18.1, 18.2, 18.3, 18.4, 18.5,\n",
       "       18.6, 18.7, 18.8, 18.9, 19. , 19.1, 19.2, 19.3, 19.4, 19.5, 19.6,\n",
       "       19.7, 19.8, 19.9, 20. , 20.1, 20.2, 20.3, 20.4, 20.5, 20.6, 20.7,\n",
       "       20.8, 20.9, 21. , 21.1, 21.2, 21.3, 21.4, 21.5, 21.6, 21.7, 21.8,\n",
       "       21.9, 22. , 22.1, 22.2, 22.3, 22.4, 22.5, 22.6, 22.7, 22.8, 22.9,\n",
       "       23. , 23.1, 23.2, 23.3, 23.4, 23.5, 23.6, 23.7, 23.8, 23.9, 24. ,\n",
       "       24.1, 24.2, 24.3, 24.4, 24.5, 24.6, 24.7, 24.8, 24.9, 25. , 25.1,\n",
       "       25.2, 25.3, 25.4, 25.5, 25.6, 25.7, 25.8, 25.9, 26. , 26.1, 26.2,\n",
       "       26.3, 26.4, 26.5, 26.6, 26.7, 26.8, 26.9, 27. , 27.1, 27.2, 27.3,\n",
       "       27.4, 27.5, 27.6, 27.7, 27.8, 27.9, 28. , 28.1, 28.2, 28.3, 28.4,\n",
       "       28.5, 28.6, 28.7, 28.8, 28.9, 29. , 29.1, 29.2, 29.3, 29.4, 29.5,\n",
       "       29.6, 29.7, 29.8, 29.9, 30. , 30.1, 30.2, 30.3, 30.4, 30.5, 30.6,\n",
       "       30.7, 30.8, 30.9, 31. , 31.1, 31.2, 31.3, 31.4, 31.5, 31.6, 31.7,\n",
       "       31.8, 31.9, 32. , 32.1, 32.2, 32.3, 32.4, 32.5, 32.6, 32.7, 32.8,\n",
       "       32.9])"
      ]
     },
     "execution_count": 14,
     "metadata": {},
     "output_type": "execute_result"
    }
   ],
   "source": [
    "#membuat xreg\n",
    "xreg = np.array(range(10,int((x[-1]+1)*10)))\n",
    "xreg = xreg/10 #memperhalus bentuk garis\n",
    "xreg = xreg.astype('float64')\n",
    "xreg"
   ]
  },
  {
   "cell_type": "markdown",
   "metadata": {},
   "source": [
    "**Regresi berpangkat**"
   ]
  },
  {
   "attachments": {
    "image.png": {
     "image/png": "[encoded data removed]"
    }
   },
   "cell_type": "markdown",
   "metadata": {},
   "source": [
    "![image.png](attachment:image.png)"
   ]
  },
  {
   "attachments": {
    "image.png": {
     "image/png": "[encoded data removed]"
    }
   },
   "cell_type": "markdown",
   "metadata": {},
   "source": [
    "![image.png](attachment:image.png)"
   ]
  },
  {
   "attachments": {
    "image.png": {
     "image/png": "[encoded data removed]"
    }
   },
   "cell_type": "markdown",
   "metadata": {},
   "source": [
    "![image.png](attachment:image.png)"
   ]
  },
  {
   "cell_type": "code",
   "execution_count": 15,
   "metadata": {},
   "outputs": [],
   "source": [
    "p = np.log10(y)\n",
    "q = np.log10(x)"
   ]
  },
  {
   "cell_type": "markdown",
   "metadata": {},
   "source": [
    "**Hitung regresi linear**"
   ]
  },
  {
   "cell_type": "code",
   "execution_count": 16,
   "metadata": {},
   "outputs": [],
   "source": [
    "n = len(y)\n",
    "pq = p*q\n",
    "qq = q**2\n",
    "B = (n*pq.sum() - q.sum()*p.sum())/(n*qq.sum() - (q.sum())**2)\n",
    "A = p.mean()-B*q.mean()"
   ]
  },
  {
   "cell_type": "markdown",
   "metadata": {},
   "source": [
    "**Hasil regresi linear**"
   ]
  },
  {
   "cell_type": "code",
   "execution_count": 17,
   "metadata": {},
   "outputs": [
    {
     "name": "stdout",
     "output_type": "stream",
     "text": [
      "p = 3.3254q -0.6354\n"
     ]
    }
   ],
   "source": [
    "if A>0 :\n",
    "    print (\"p = {:.4f}q + {:.4f}\". format(B,A))\n",
    "else :\n",
    "    print (\"p = {:.4f}q {:.4f}\". format(B,A))"
   ]
  },
  {
   "cell_type": "markdown",
   "metadata": {},
   "source": [
    "**Kembalikan ke bentuk pangkat**"
   ]
  },
  {
   "cell_type": "code",
   "execution_count": 18,
   "metadata": {},
   "outputs": [
    {
     "name": "stdout",
     "output_type": "stream",
     "text": [
      "y = 0.2315x^(3.3254)\n"
     ]
    }
   ],
   "source": [
    "a = 10**A #A=log(a)\n",
    "b = B\n",
    "print (\"y = {:.4f}x^({:.4f})\".format(a,b))"
   ]
  },
  {
   "cell_type": "markdown",
   "metadata": {},
   "source": [
    "**Koefisien Korelasi ( r ) dan Derajat Kesesuaian ( R ) r-square**"
   ]
  },
  {
   "cell_type": "code",
   "execution_count": 19,
   "metadata": {},
   "outputs": [
    {
     "name": "stdout",
     "output_type": "stream",
     "text": [
      "r = 0.9763 dan r^2 = 0.9531\n"
     ]
    }
   ],
   "source": [
    "yDt = ((p - p.mean())**2).sum()\n",
    "yD = ((p - (q*B) - A)**2).sum()\n",
    "r = np.sqrt((yDt-yD)/yDt)\n",
    "r2 = r**2\n",
    "print('r = {:.4f} dan r^2 = {:.4f}'.format(r,r2))"
   ]
  },
  {
   "cell_type": "markdown",
   "metadata": {},
   "source": [
    "**Plot**"
   ]
  },
  {
   "cell_type": "code",
   "execution_count": 20,
   "metadata": {},
   "outputs": [
    {
     "data": {
      "text/plain": [
       "array([2.31519526e-01, 3.17858466e-01, 4.24516798e-01, 5.53977190e-01,\n",
       "       7.08790668e-01, 8.91573013e-01, 1.10500159e+00, 1.35181254e+00,\n",
       "       1.63479827e+00, 1.95680520e+00, 2.32073171e+00, 2.72952628e+00,\n",
       "       3.18618578e+00, 3.69375389e+00, 4.25531968e+00, 4.87401624e+00,\n",
       "       5.55301945e+00, 6.29554682e+00, 7.10485638e+00, 7.98424567e+00,\n",
       "       8.93705080e+00, 9.96664551e+00, 1.10764404e+01, 1.22698819e+01,\n",
       "       1.35504520e+01, 1.49216668e+01, 1.63870765e+01, 1.79502643e+01,\n",
       "       1.96148461e+01, 2.13844697e+01, 2.32628140e+01, 2.52535892e+01,\n",
       "       2.73605355e+01, 2.95874229e+01, 3.19380508e+01, 3.44162475e+01,\n",
       "       3.70258696e+01, 3.97708019e+01, 4.26549565e+01, 4.56822729e+01,\n",
       "       4.88567174e+01, 5.21822824e+01, 5.56629869e+01, 5.93028751e+01,\n",
       "       6.31060170e+01, 6.70765075e+01, 7.12184661e+01, 7.55360369e+01,\n",
       "       8.00333883e+01, 8.47147122e+01, 8.95842245e+01, 9.46461640e+01,\n",
       "       9.99047929e+01, 1.05364396e+02, 1.11029281e+02, 1.16903777e+02,\n",
       "       1.22992236e+02, 1.29299032e+02, 1.35828559e+02, 1.42585235e+02,\n",
       "       1.49573498e+02, 1.56797806e+02, 1.64262638e+02, 1.71972495e+02,\n",
       "       1.79931898e+02, 1.88145386e+02, 1.96617522e+02, 2.05352885e+02,\n",
       "       2.14356075e+02, 2.23631713e+02, 2.33184437e+02, 2.43018905e+02,\n",
       "       2.53139795e+02, 2.63551802e+02, 2.74259642e+02, 2.85268047e+02,\n",
       "       2.96581769e+02, 3.08205577e+02, 3.20144260e+02, 3.32402622e+02,\n",
       "       3.44985489e+02, 3.57897701e+02, 3.71144116e+02, 3.84729611e+02,\n",
       "       3.98659080e+02, 4.12937432e+02, 4.27569596e+02, 4.42560517e+02,\n",
       "       4.57915154e+02, 4.73638488e+02, 4.89735511e+02, 5.06211235e+02,\n",
       "       5.23070688e+02, 5.40318912e+02, 5.57960968e+02, 5.76001931e+02,\n",
       "       5.94446893e+02, 6.13300961e+02, 6.32569259e+02, 6.52256924e+02,\n",
       "       6.72369111e+02, 6.92910990e+02, 7.13887746e+02, 7.35304579e+02,\n",
       "       7.57166703e+02, 7.79479350e+02, 8.02247764e+02, 8.25477206e+02,\n",
       "       8.49172951e+02, 8.73340288e+02, 8.97984521e+02, 9.23110969e+02,\n",
       "       9.48724965e+02, 9.74831857e+02, 1.00143701e+03, 1.02854579e+03,\n",
       "       1.05616360e+03, 1.08429583e+03, 1.11294791e+03, 1.14212527e+03,\n",
       "       1.17183335e+03, 1.20207762e+03, 1.23286354e+03, 1.26419660e+03,\n",
       "       1.29608231e+03, 1.32852618e+03, 1.36153373e+03, 1.39511051e+03,\n",
       "       1.42926207e+03, 1.46399398e+03, 1.49931181e+03, 1.53522117e+03,\n",
       "       1.57172765e+03, 1.60883687e+03, 1.64655448e+03, 1.68488611e+03,\n",
       "       1.72383742e+03, 1.76341409e+03, 1.80362179e+03, 1.84446622e+03,\n",
       "       1.88595309e+03, 1.92808812e+03, 1.97087704e+03, 2.01432560e+03,\n",
       "       2.05843956e+03, 2.10322469e+03, 2.14868676e+03, 2.19483158e+03,\n",
       "       2.24166495e+03, 2.28919269e+03, 2.33742063e+03, 2.38635461e+03,\n",
       "       2.43600049e+03, 2.48636413e+03, 2.53745142e+03, 2.58926823e+03,\n",
       "       2.64182048e+03, 2.69511407e+03, 2.74915494e+03, 2.80394901e+03,\n",
       "       2.85950224e+03, 2.91582058e+03, 2.97291001e+03, 3.03077650e+03,\n",
       "       3.08942606e+03, 3.14886468e+03, 3.20909838e+03, 3.27013319e+03,\n",
       "       3.33197515e+03, 3.39463030e+03, 3.45810471e+03, 3.52240445e+03,\n",
       "       3.58753561e+03, 3.65350426e+03, 3.72031653e+03, 3.78797852e+03,\n",
       "       3.85649636e+03, 3.92587618e+03, 3.99612415e+03, 4.06724640e+03,\n",
       "       4.13924912e+03, 4.21213848e+03, 4.28592067e+03, 4.36060189e+03,\n",
       "       4.43618835e+03, 4.51268629e+03, 4.59010192e+03, 4.66844149e+03,\n",
       "       4.74771125e+03, 4.82791747e+03, 4.90906642e+03, 4.99116438e+03,\n",
       "       5.07421765e+03, 5.15823254e+03, 5.24321535e+03, 5.32917241e+03,\n",
       "       5.41611006e+03, 5.50403464e+03, 5.59295250e+03, 5.68287002e+03,\n",
       "       5.77379356e+03, 5.86572951e+03, 5.95868426e+03, 6.05266422e+03,\n",
       "       6.14767581e+03, 6.24372544e+03, 6.34081956e+03, 6.43896460e+03,\n",
       "       6.53816701e+03, 6.63843327e+03, 6.73976984e+03, 6.84218321e+03,\n",
       "       6.94567986e+03, 7.05026630e+03, 7.15594905e+03, 7.26273461e+03,\n",
       "       7.37062952e+03, 7.47964033e+03, 7.58977357e+03, 7.70103581e+03,\n",
       "       7.81343361e+03, 7.92697356e+03, 8.04166223e+03, 8.15750622e+03,\n",
       "       8.27451215e+03, 8.39268661e+03, 8.51203624e+03, 8.63256767e+03,\n",
       "       8.75428754e+03, 8.87720249e+03, 9.00131920e+03, 9.12664432e+03,\n",
       "       9.25318454e+03, 9.38094654e+03, 9.50993703e+03, 9.64016269e+03,\n",
       "       9.77163025e+03, 9.90434644e+03, 1.00383180e+04, 1.01735516e+04,\n",
       "       1.03100541e+04, 1.04478321e+04, 1.05868926e+04, 1.07272422e+04,\n",
       "       1.08688877e+04, 1.10118359e+04, 1.11560936e+04, 1.13016677e+04,\n",
       "       1.14485649e+04, 1.15967922e+04, 1.17463562e+04, 1.18972639e+04,\n",
       "       1.20495221e+04, 1.22031377e+04, 1.23581175e+04, 1.25144685e+04,\n",
       "       1.26721974e+04, 1.28313113e+04, 1.29918170e+04, 1.31537215e+04,\n",
       "       1.33170316e+04, 1.34817542e+04, 1.36478964e+04, 1.38154651e+04,\n",
       "       1.39844672e+04, 1.41549096e+04, 1.43267994e+04, 1.45001436e+04,\n",
       "       1.46749491e+04, 1.48512228e+04, 1.50289720e+04, 1.52082034e+04,\n",
       "       1.53889242e+04, 1.55711414e+04, 1.57548620e+04, 1.59400931e+04,\n",
       "       1.61268417e+04, 1.63151149e+04, 1.65049198e+04, 1.66962633e+04,\n",
       "       1.68891527e+04, 1.70835950e+04, 1.72795973e+04, 1.74771667e+04,\n",
       "       1.76763103e+04, 1.78770353e+04, 1.80793488e+04, 1.82832580e+04,\n",
       "       1.84887699e+04, 1.86958917e+04, 1.89046307e+04, 1.91149939e+04,\n",
       "       1.93269886e+04, 1.95406219e+04, 1.97559010e+04, 1.99728332e+04,\n",
       "       2.01914257e+04, 2.04116856e+04, 2.06336202e+04, 2.08572367e+04,\n",
       "       2.10825424e+04, 2.13095445e+04, 2.15382503e+04, 2.17686671e+04,\n",
       "       2.20008020e+04, 2.22346625e+04, 2.24702557e+04, 2.27075890e+04,\n",
       "       2.29466696e+04, 2.31875050e+04, 2.34301023e+04, 2.36744690e+04,\n",
       "       2.39206123e+04, 2.41685397e+04, 2.44182583e+04, 2.46697757e+04,\n",
       "       2.49230991e+04, 2.51782360e+04, 2.54351936e+04, 2.56939795e+04])"
      ]
     },
     "execution_count": 20,
     "metadata": {},
     "output_type": "execute_result"
    }
   ],
   "source": [
    "#membuat yreg\n",
    "yreg = a*(xreg**b)\n",
    "yreg\n",
    "    "
   ]
  },
  {
   "cell_type": "code",
   "execution_count": 21,
   "metadata": {},
   "outputs": [
    {
     "data": {
      "text/plain": [
       "Text(0, 0.5, 'y-banyak orang')"
      ]
     },
     "execution_count": 21,
     "metadata": {},
     "output_type": "execute_result"
    },
    {
     "data": {
      "image/png": "[encoded data removed]",
      "text/plain": [
       "<Figure size 432x288 with 1 Axes>"
      ]
     },
     "metadata": {
      "needs_background": "light"
     },
     "output_type": "display_data"
    }
   ],
   "source": [
    "ax = plt.plot(x,y,'ro')\n",
    "plt.plot(xreg,yreg,'g')\n",
    "plt.grid()\n",
    "plt.xlabel('x-hari ke')\n",
    "plt.ylabel('y-banyak orang')"
   ]
  },
  {
   "cell_type": "markdown",
   "metadata": {},
   "source": [
    "#### Regresi Eksponensial"
   ]
  },
  {
   "attachments": {
    "image.png": {
     "image/png": "[encoded data removed]"
    }
   },
   "cell_type": "markdown",
   "metadata": {},
   "source": [
    "![image.png](attachment:image.png)"
   ]
  },
  {
   "attachments": {
    "image.png": {
     "image/png": "[encoded data removed]"
    }
   },
   "cell_type": "markdown",
   "metadata": {},
   "source": [
    "![image.png](attachment:image.png)"
   ]
  },
  {
   "attachments": {
    "image.png": {
     "image/png": "[encoded data removed]"
    }
   },
   "cell_type": "markdown",
   "metadata": {},
   "source": [
    "![image.png](attachment:image.png)"
   ]
  },
  {
   "cell_type": "markdown",
   "metadata": {},
   "source": [
    "**Linearisasi**"
   ]
  },
  {
   "cell_type": "code",
   "execution_count": 22,
   "metadata": {},
   "outputs": [
    {
     "data": {
      "text/plain": [
       "array([1.0000e+00, 7.0000e+00, 1.1000e+01, 2.3000e+01, 3.1000e+01,\n",
       "       5.6000e+01, 8.2000e+01, 1.1800e+02, 1.6200e+02, 2.2400e+02,\n",
       "       2.7600e+02, 3.8700e+02, 4.8500e+02, 6.2500e+02, 1.1690e+03,\n",
       "       1.5240e+03, 2.0390e+03, 2.8710e+03, 4.9060e+03, 5.6780e+03,\n",
       "       7.1770e+03, 9.0700e+03, 1.0265e+04, 1.3050e+04, 1.6139e+04,\n",
       "       1.8890e+04, 2.1990e+04, 2.4421e+04, 2.9470e+04, 3.5273e+04,\n",
       "       4.0501e+04, 4.6406e+04])"
      ]
     },
     "execution_count": 22,
     "metadata": {},
     "output_type": "execute_result"
    }
   ],
   "source": [
    "y = np.array ((1, 7, 11, 23, 31, 56, 82, 118, 162, 224, 276, 387, 485, 625, 1169, 1524, 2039, 2871, 4906, 5678, 7177, 9070, 10265, 13050, 16139, 18890, 21990, 24421, 29470, 35273, 40501, 46406))\n",
    "y = y.astype('float64')\n",
    "y"
   ]
  },
  {
   "cell_type": "code",
   "execution_count": 23,
   "metadata": {},
   "outputs": [
    {
     "data": {
      "text/plain": [
       "array([ 1.,  2.,  3.,  4.,  5.,  6.,  7.,  8.,  9., 10., 11., 12., 13.,\n",
       "       14., 15., 16., 17., 18., 19., 20., 21., 22., 23., 24., 25., 26.,\n",
       "       27., 28., 29., 30., 31., 32.])"
      ]
     },
     "execution_count": 23,
     "metadata": {},
     "output_type": "execute_result"
    }
   ],
   "source": [
    "x = np.array((range(1,1+len(y))))\n",
    "x = x.astype('float64')\n",
    "x"
   ]
  },
  {
   "cell_type": "code",
   "execution_count": 24,
   "metadata": {},
   "outputs": [],
   "source": [
    "p = np.log(y)\n",
    "q = x"
   ]
  },
  {
   "cell_type": "markdown",
   "metadata": {},
   "source": [
    "**Hitung regresi linear**"
   ]
  },
  {
   "attachments": {
    "image.png": {
     "image/png": "[encoded data removed]"
    }
   },
   "cell_type": "markdown",
   "metadata": {},
   "source": [
    "![image.png](attachment:image.png)"
   ]
  },
  {
   "cell_type": "code",
   "execution_count": 25,
   "metadata": {},
   "outputs": [],
   "source": [
    "n = len(y)\n",
    "pq = p*q\n",
    "qq = q**2\n",
    "B = (n*pq.sum() - q.sum()*p.sum())/(n*qq.sum() - (q.sum())**2)\n",
    "A = p.mean()-B*q.mean()"
   ]
  },
  {
   "cell_type": "markdown",
   "metadata": {},
   "source": [
    "**Hasil persamaan linear**"
   ]
  },
  {
   "cell_type": "code",
   "execution_count": 26,
   "metadata": {},
   "outputs": [
    {
     "name": "stdout",
     "output_type": "stream",
     "text": [
      "p = 0.3038q + 1.9989\n"
     ]
    }
   ],
   "source": [
    "if A>0 :\n",
    "    print (\"p = {:.4f}q + {:.4f}\". format(B,A))\n",
    "else :\n",
    "    print (\"p = {:.4f}q {:.4f}\". format(B,A))"
   ]
  },
  {
   "cell_type": "markdown",
   "metadata": {},
   "source": [
    "**Hitung kembali dalam bentuk bilangan berpangkat**"
   ]
  },
  {
   "cell_type": "code",
   "execution_count": 27,
   "metadata": {},
   "outputs": [],
   "source": [
    "a = np.e**A\n",
    "b = B"
   ]
  },
  {
   "cell_type": "code",
   "execution_count": 28,
   "metadata": {},
   "outputs": [
    {
     "name": "stdout",
     "output_type": "stream",
     "text": [
      "y = 7.3809x^(0.3038)\n"
     ]
    }
   ],
   "source": [
    "print (\"y = {:.4f}x^({:.4f})\".format(a,b))"
   ]
  },
  {
   "cell_type": "markdown",
   "metadata": {},
   "source": [
    "**Koefisien Korelasi ( r ) dan Derajat Kesesuaian ( R ) r-square**"
   ]
  },
  {
   "cell_type": "code",
   "execution_count": 29,
   "metadata": {},
   "outputs": [
    {
     "name": "stdout",
     "output_type": "stream",
     "text": [
      "r = 0.9777 dan r^2 = 0.9560\n"
     ]
    }
   ],
   "source": [
    "yDt = ((p - p.mean())**2).sum()\n",
    "yD = ((p - (q*B) - A)**2).sum()\n",
    "r = np.sqrt((yDt-yD)/yDt)\n",
    "r2 = r**2\n",
    "print('r = {:.4f} dan r^2 = {:.4f}'.format(r,r2))"
   ]
  },
  {
   "cell_type": "markdown",
   "metadata": {},
   "source": [
    "**Plot data dan regresinya**"
   ]
  },
  {
   "cell_type": "code",
   "execution_count": 30,
   "metadata": {},
   "outputs": [
    {
     "data": {
      "text/plain": [
       "array([ 0. ,  0.1,  0.2,  0.3,  0.4,  0.5,  0.6,  0.7,  0.8,  0.9,  1. ,\n",
       "        1.1,  1.2,  1.3,  1.4,  1.5,  1.6,  1.7,  1.8,  1.9,  2. ,  2.1,\n",
       "        2.2,  2.3,  2.4,  2.5,  2.6,  2.7,  2.8,  2.9,  3. ,  3.1,  3.2,\n",
       "        3.3,  3.4,  3.5,  3.6,  3.7,  3.8,  3.9,  4. ,  4.1,  4.2,  4.3,\n",
       "        4.4,  4.5,  4.6,  4.7,  4.8,  4.9,  5. ,  5.1,  5.2,  5.3,  5.4,\n",
       "        5.5,  5.6,  5.7,  5.8,  5.9,  6. ,  6.1,  6.2,  6.3,  6.4,  6.5,\n",
       "        6.6,  6.7,  6.8,  6.9,  7. ,  7.1,  7.2,  7.3,  7.4,  7.5,  7.6,\n",
       "        7.7,  7.8,  7.9,  8. ,  8.1,  8.2,  8.3,  8.4,  8.5,  8.6,  8.7,\n",
       "        8.8,  8.9,  9. ,  9.1,  9.2,  9.3,  9.4,  9.5,  9.6,  9.7,  9.8,\n",
       "        9.9, 10. , 10.1, 10.2, 10.3, 10.4, 10.5, 10.6, 10.7, 10.8, 10.9,\n",
       "       11. , 11.1, 11.2, 11.3, 11.4, 11.5, 11.6, 11.7, 11.8, 11.9, 12. ,\n",
       "       12.1, 12.2, 12.3, 12.4, 12.5, 12.6, 12.7, 12.8, 12.9, 13. , 13.1,\n",
       "       13.2, 13.3, 13.4, 13.5, 13.6, 13.7, 13.8, 13.9, 14. , 14.1, 14.2,\n",
       "       14.3, 14.4, 14.5, 14.6, 14.7, 14.8, 14.9, 15. , 15.1, 15.2, 15.3,\n",
       "       15.4, 15.5, 15.6, 15.7, 15.8, 15.9, 16. , 16.1, 16.2, 16.3, 16.4,\n",
       "       16.5, 16.6, 16.7, 16.8, 16.9, 17. , 17.1, 17.2, 17.3, 17.4, 17.5,\n",
       "       17.6, 17.7, 17.8, 17.9, 18. , 18.1, 18.2, 18.3, 18.4, 18.5, 18.6,\n",
       "       18.7, 18.8, 18.9, 19. , 19.1, 19.2, 19.3, 19.4, 19.5, 19.6, 19.7,\n",
       "       19.8, 19.9, 20. , 20.1, 20.2, 20.3, 20.4, 20.5, 20.6, 20.7, 20.8,\n",
       "       20.9, 21. , 21.1, 21.2, 21.3, 21.4, 21.5, 21.6, 21.7, 21.8, 21.9,\n",
       "       22. , 22.1, 22.2, 22.3, 22.4, 22.5, 22.6, 22.7, 22.8, 22.9, 23. ,\n",
       "       23.1, 23.2, 23.3, 23.4, 23.5, 23.6, 23.7, 23.8, 23.9, 24. , 24.1,\n",
       "       24.2, 24.3, 24.4, 24.5, 24.6, 24.7, 24.8, 24.9, 25. , 25.1, 25.2,\n",
       "       25.3, 25.4, 25.5, 25.6, 25.7, 25.8, 25.9, 26. , 26.1, 26.2, 26.3,\n",
       "       26.4, 26.5, 26.6, 26.7, 26.8, 26.9, 27. , 27.1, 27.2, 27.3, 27.4,\n",
       "       27.5, 27.6, 27.7, 27.8, 27.9, 28. , 28.1, 28.2, 28.3, 28.4, 28.5,\n",
       "       28.6, 28.7, 28.8, 28.9, 29. , 29.1, 29.2, 29.3, 29.4, 29.5, 29.6,\n",
       "       29.7, 29.8, 29.9, 30. , 30.1, 30.2, 30.3, 30.4, 30.5, 30.6, 30.7,\n",
       "       30.8, 30.9, 31. , 31.1, 31.2, 31.3, 31.4, 31.5, 31.6, 31.7, 31.8,\n",
       "       31.9, 32. , 32.1, 32.2, 32.3, 32.4, 32.5, 32.6, 32.7, 32.8, 32.9])"
      ]
     },
     "execution_count": 30,
     "metadata": {},
     "output_type": "execute_result"
    }
   ],
   "source": [
    "#membuat xreg\n",
    "xreg = np.array(range(0,int((x[-1]+1)*10)))\n",
    "xreg = xreg/10 #memperhalus bentuk garis\n",
    "xreg = xreg.astype('float64')\n",
    "xreg"
   ]
  },
  {
   "cell_type": "code",
   "execution_count": 31,
   "metadata": {},
   "outputs": [
    {
     "data": {
      "text/plain": [
       "array([7.38086438e+00, 7.60856597e+00, 7.84329222e+00, 8.08525983e+00,\n",
       "       8.33469221e+00, 8.59181964e+00, 8.85687952e+00, 9.13011656e+00,\n",
       "       9.41178304e+00, 9.70213900e+00, 1.00014525e+01, 1.03099999e+01,\n",
       "       1.06280661e+01, 1.09559447e+01, 1.12939385e+01, 1.16423595e+01,\n",
       "       1.20015293e+01, 1.23717796e+01, 1.27534522e+01, 1.31468995e+01,\n",
       "       1.35524848e+01, 1.39705825e+01, 1.44015786e+01, 1.48458711e+01,\n",
       "       1.53038701e+01, 1.57759985e+01, 1.62626922e+01, 1.67644005e+01,\n",
       "       1.72815866e+01, 1.78147280e+01, 1.83643171e+01, 1.89308610e+01,\n",
       "       1.95148830e+01, 2.01169223e+01, 2.07375346e+01, 2.13772929e+01,\n",
       "       2.20367880e+01, 2.27166286e+01, 2.34174426e+01, 2.41398768e+01,\n",
       "       2.48845983e+01, 2.56522946e+01, 2.64436746e+01, 2.72594689e+01,\n",
       "       2.81004306e+01, 2.89673362e+01, 2.98609861e+01, 3.07822053e+01,\n",
       "       3.17318444e+01, 3.27107801e+01, 3.37199162e+01, 3.47601844e+01,\n",
       "       3.58325452e+01, 3.69379885e+01, 3.80775351e+01, 3.92522370e+01,\n",
       "       4.04631788e+01, 4.17114784e+01, 4.29982884e+01, 4.43247968e+01,\n",
       "       4.56922284e+01, 4.71018455e+01, 4.85549498e+01, 5.00528826e+01,\n",
       "       5.15970271e+01, 5.31888089e+01, 5.48296975e+01, 5.65212080e+01,\n",
       "       5.82649020e+01, 6.00623894e+01, 6.19153298e+01, 6.38254339e+01,\n",
       "       6.57944652e+01, 6.78242416e+01, 6.99166372e+01, 7.20735837e+01,\n",
       "       7.42970726e+01, 7.65891566e+01, 7.89519521e+01, 8.13876404e+01,\n",
       "       8.38984704e+01, 8.64867601e+01, 8.91548992e+01, 9.19053511e+01,\n",
       "       9.47406552e+01, 9.76634291e+01, 1.00676371e+02, 1.03782264e+02,\n",
       "       1.06983974e+02, 1.10284457e+02, 1.13686761e+02, 1.17194028e+02,\n",
       "       1.20809494e+02, 1.24536499e+02, 1.28378482e+02, 1.32338992e+02,\n",
       "       1.36421684e+02, 1.40630329e+02, 1.44968811e+02, 1.49441137e+02,\n",
       "       1.54051435e+02, 1.58803962e+02, 1.63703105e+02, 1.68753389e+02,\n",
       "       1.73959475e+02, 1.79326170e+02, 1.84858429e+02, 1.90561360e+02,\n",
       "       1.96440228e+02, 2.02500460e+02, 2.08747652e+02, 2.15187572e+02,\n",
       "       2.21826164e+02, 2.28669560e+02, 2.35724075e+02, 2.42996224e+02,\n",
       "       2.50492721e+02, 2.58220487e+02, 2.66186657e+02, 2.74398584e+02,\n",
       "       2.82863852e+02, 2.91590276e+02, 3.00585912e+02, 3.09859066e+02,\n",
       "       3.19418299e+02, 3.29272437e+02, 3.39430578e+02, 3.49902099e+02,\n",
       "       3.60696671e+02, 3.71824257e+02, 3.83295132e+02, 3.95119887e+02,\n",
       "       4.07309439e+02, 4.19875041e+02, 4.32828296e+02, 4.46181162e+02,\n",
       "       4.59945967e+02, 4.74135420e+02, 4.88762622e+02, 5.03841076e+02,\n",
       "       5.19384705e+02, 5.35407859e+02, 5.51925331e+02, 5.68952371e+02,\n",
       "       5.86504700e+02, 6.04598524e+02, 6.23250546e+02, 6.42477988e+02,\n",
       "       6.62298601e+02, 6.82730686e+02, 7.03793106e+02, 7.25505307e+02,\n",
       "       7.47887335e+02, 7.70959855e+02, 7.94744167e+02, 8.19262232e+02,\n",
       "       8.44536686e+02, 8.70590863e+02, 8.97448818e+02, 9.25135349e+02,\n",
       "       9.53676016e+02, 9.83097170e+02, 1.01342597e+03, 1.04469043e+03,\n",
       "       1.07691940e+03, 1.11014265e+03, 1.14439084e+03, 1.17969559e+03,\n",
       "       1.21608951e+03, 1.25360619e+03, 1.29228027e+03, 1.33214745e+03,\n",
       "       1.37324455e+03, 1.41560950e+03, 1.45928142e+03, 1.50430064e+03,\n",
       "       1.55070870e+03, 1.59854847e+03, 1.64786411e+03, 1.69870115e+03,\n",
       "       1.75110652e+03, 1.80512861e+03, 1.86081730e+03, 1.91822400e+03,\n",
       "       1.97740171e+03, 2.03840507e+03, 2.10129040e+03, 2.16611576e+03,\n",
       "       2.23294099e+03, 2.30182781e+03, 2.37283979e+03, 2.44604252e+03,\n",
       "       2.52150357e+03, 2.59929261e+03, 2.67948147e+03, 2.76214417e+03,\n",
       "       2.84735704e+03, 2.93519875e+03, 3.02575040e+03, 3.11909559e+03,\n",
       "       3.21532050e+03, 3.31451398e+03, 3.41676760e+03, 3.52217577e+03,\n",
       "       3.63083581e+03, 3.74284804e+03, 3.85831588e+03, 3.97734593e+03,\n",
       "       4.10004809e+03, 4.22653565e+03, 4.35692538e+03, 4.49133766e+03,\n",
       "       4.62989660e+03, 4.77273012e+03, 4.91997009e+03, 5.07175245e+03,\n",
       "       5.22821734e+03, 5.38950921e+03, 5.55577697e+03, 5.72717414e+03,\n",
       "       5.90385896e+03, 6.08599455e+03, 6.27374907e+03, 6.46729586e+03,\n",
       "       6.66681363e+03, 6.87248657e+03, 7.08450457e+03, 7.30306339e+03,\n",
       "       7.52836480e+03, 7.76061682e+03, 8.00003387e+03, 8.24683701e+03,\n",
       "       8.50125408e+03, 8.76351999e+03, 9.03387687e+03, 9.31257433e+03,\n",
       "       9.59986968e+03, 9.89602816e+03, 1.02013232e+04, 1.05160367e+04,\n",
       "       1.08404592e+04, 1.11748902e+04, 1.15196384e+04, 1.18750223e+04,\n",
       "       1.22413698e+04, 1.26190193e+04, 1.30083193e+04, 1.34096294e+04,\n",
       "       1.38233199e+04, 1.42497730e+04, 1.46893822e+04, 1.51425535e+04,\n",
       "       1.56097052e+04, 1.60912687e+04, 1.65876885e+04, 1.70994230e+04,\n",
       "       1.76269447e+04, 1.81707405e+04, 1.87313126e+04, 1.93091785e+04,\n",
       "       1.99048717e+04, 2.05189422e+04, 2.11519569e+04, 2.18045003e+04,\n",
       "       2.24771748e+04, 2.31706015e+04, 2.38854206e+04, 2.46222921e+04,\n",
       "       2.53818962e+04, 2.61649344e+04, 2.69721294e+04, 2.78042266e+04,\n",
       "       2.86619943e+04, 2.95462243e+04, 3.04577330e+04, 3.13973620e+04,\n",
       "       3.23659789e+04, 3.33644777e+04, 3.43937806e+04, 3.54548377e+04,\n",
       "       3.65486287e+04, 3.76761634e+04, 3.88384829e+04, 4.00366602e+04,\n",
       "       4.12718017e+04, 4.25450475e+04, 4.38575733e+04, 4.52105909e+04,\n",
       "       4.66053494e+04, 4.80431366e+04, 4.95252799e+04, 5.10531478e+04,\n",
       "       5.26281507e+04, 5.42517429e+04, 5.59254233e+04, 5.76507372e+04,\n",
       "       5.94292775e+04, 6.12626862e+04, 6.31526561e+04, 6.51009320e+04,\n",
       "       6.71093127e+04, 6.91796526e+04, 7.13138629e+04, 7.35139142e+04,\n",
       "       7.57818376e+04, 7.81197271e+04, 8.05297411e+04, 8.30141046e+04,\n",
       "       8.55751114e+04, 8.82151259e+04, 9.09365856e+04, 9.37420030e+04,\n",
       "       9.66339682e+04, 9.96151514e+04, 1.02688305e+05, 1.05856266e+05,\n",
       "       1.09121959e+05, 1.12488400e+05, 1.15958697e+05, 1.19536053e+05,\n",
       "       1.23223771e+05, 1.27025257e+05, 1.30944019e+05, 1.34983676e+05,\n",
       "       1.39147958e+05, 1.43440709e+05, 1.47865892e+05, 1.52427593e+05,\n",
       "       1.57130024e+05, 1.61977526e+05])"
      ]
     },
     "execution_count": 31,
     "metadata": {},
     "output_type": "execute_result"
    }
   ],
   "source": [
    "#membuat yreg\n",
    "yreg = a*np.e**(b*xreg)\n",
    "yreg"
   ]
  },
  {
   "cell_type": "code",
   "execution_count": 32,
   "metadata": {},
   "outputs": [
    {
     "data": {
      "text/plain": [
       "Text(0, 0.5, 'y-banyak orang')"
      ]
     },
     "execution_count": 32,
     "metadata": {},
     "output_type": "execute_result"
    },
    {
     "data": {
      "image/png": "[encoded data removed]",
      "text/plain": [
       "<Figure size 432x288 with 1 Axes>"
      ]
     },
     "metadata": {
      "needs_background": "light"
     },
     "output_type": "display_data"
    }
   ],
   "source": [
    "ax = plt.plot(x,y,'ro')\n",
    "plt.plot(xreg,yreg,'b')\n",
    "plt.grid()\n",
    "plt.xlabel('x-hari ke')\n",
    "plt.ylabel('y-banyak orang')"
   ]
  },
  {
   "cell_type": "markdown",
   "metadata": {},
   "source": [
    "**Selesai**"
   ]
  },
  {
   "cell_type": "markdown",
   "metadata": {},
   "source": [
    "#### Regresi Polinomial"
   ]
  },
  {
   "cell_type": "code",
   "execution_count": 33,
   "metadata": {},
   "outputs": [
    {
     "data": {
      "text/plain": [
       "array([1.0000e+00, 7.0000e+00, 1.1000e+01, 2.3000e+01, 3.1000e+01,\n",
       "       5.6000e+01, 8.2000e+01, 1.1800e+02, 1.6200e+02, 2.2400e+02,\n",
       "       2.7600e+02, 3.8700e+02, 4.8500e+02, 6.2500e+02, 1.1690e+03,\n",
       "       1.5240e+03, 2.0390e+03, 2.8710e+03, 4.9060e+03, 5.6780e+03,\n",
       "       7.1770e+03, 9.0700e+03, 1.0265e+04, 1.3050e+04, 1.6139e+04,\n",
       "       1.8890e+04, 2.1990e+04, 2.4421e+04, 2.9470e+04, 3.5273e+04,\n",
       "       4.0501e+04, 4.6406e+04])"
      ]
     },
     "execution_count": 33,
     "metadata": {},
     "output_type": "execute_result"
    }
   ],
   "source": [
    "y = np.array ((1, 7, 11, 23, 31, 56, 82, 118, 162, 224, 276, 387, 485, 625, 1169, 1524, 2039, 2871, 4906, 5678, 7177, 9070, 10265, 13050, 16139, 18890, 21990, 24421, 29470, 35273, 40501, 46406))\n",
    "y = y.astype('float64')\n",
    "y"
   ]
  },
  {
   "cell_type": "code",
   "execution_count": 34,
   "metadata": {},
   "outputs": [
    {
     "data": {
      "text/plain": [
       "array([ 1.,  2.,  3.,  4.,  5.,  6.,  7.,  8.,  9., 10., 11., 12., 13.,\n",
       "       14., 15., 16., 17., 18., 19., 20., 21., 22., 23., 24., 25., 26.,\n",
       "       27., 28., 29., 30., 31., 32.])"
      ]
     },
     "execution_count": 34,
     "metadata": {},
     "output_type": "execute_result"
    }
   ],
   "source": [
    "x = np.array((range(1,1+len(y))))\n",
    "x = x.astype('float64')\n",
    "x"
   ]
  },
  {
   "cell_type": "markdown",
   "metadata": {},
   "source": [
    "**Membentuk regresi polinomial dari matriks**"
   ]
  },
  {
   "attachments": {
    "image.png": {
     "image/png": "[encoded data removed]"
    }
   },
   "cell_type": "markdown",
   "metadata": {},
   "source": [
    "![image.png](attachment:image.png)"
   ]
  },
  {
   "cell_type": "markdown",
   "metadata": {},
   "source": [
    "**Mendefinisikan elemen-elemen matriks kiri**"
   ]
  },
  {
   "cell_type": "code",
   "execution_count": 35,
   "metadata": {},
   "outputs": [
    {
     "data": {
      "text/plain": [
       "array([[3.20000000e+01, 5.28000000e+02, 1.14400000e+04, 2.78784000e+05],\n",
       "       [5.28000000e+02, 1.14400000e+04, 2.78784000e+05, 7.24609600e+06],\n",
       "       [1.14400000e+04, 2.78784000e+05, 7.24609600e+06, 1.96171008e+08],\n",
       "       [2.78784000e+05, 7.24609600e+06, 1.96171008e+08, 5.46217672e+09]])"
      ]
     },
     "execution_count": 35,
     "metadata": {},
     "output_type": "execute_result"
    }
   ],
   "source": [
    "n = len(y)\n",
    "a = x.sum()\n",
    "b = (x**2).sum()\n",
    "c = (x**3).sum()\n",
    "d = (x**4).sum()\n",
    "e = (x**5).sum()\n",
    "f = (x**6).sum()\n",
    "A = np.array(([n, a, b, c],\n",
    "    [a, b, c, d],\n",
    "    [b, c, d, e],\n",
    "    [c, d, e, f]))\n",
    "A"
   ]
  },
  {
   "cell_type": "markdown",
   "metadata": {},
   "source": [
    "**Mendefinisikan elemen-elemen matriks kanan**"
   ]
  },
  {
   "cell_type": "code",
   "execution_count": 36,
   "metadata": {},
   "outputs": [
    {
     "data": {
      "text/plain": [
       "array([[2.93327000e+05],\n",
       "       [8.08864400e+06],\n",
       "       [2.28065264e+08],\n",
       "       [6.54004270e+09]])"
      ]
     },
     "execution_count": 36,
     "metadata": {},
     "output_type": "execute_result"
    }
   ],
   "source": [
    "g = y.sum()\n",
    "h = (x*y).sum()\n",
    "i = ((x**2)*y).sum()\n",
    "j = ((x**3)*y).sum()\n",
    "B = np.array(([g],\n",
    "    [h],\n",
    "    [i],\n",
    "    [j]))\n",
    "B"
   ]
  },
  {
   "cell_type": "markdown",
   "metadata": {},
   "source": [
    "**Invers matriks sisi kiri**"
   ]
  },
  {
   "cell_type": "code",
   "execution_count": 37,
   "metadata": {},
   "outputs": [
    {
     "data": {
      "text/plain": [
       "array([[ 6.38070078e-01, -1.46945680e-01,  9.03781980e-03,\n",
       "        -1.62217278e-04],\n",
       "       [-1.46945680e-01,  4.26074608e-02, -2.89128443e-03,\n",
       "         5.48159736e-05],\n",
       "       [ 9.03781980e-03, -2.89128443e-03,  2.07821525e-04,\n",
       "        -4.08951122e-06],\n",
       "       [-1.62217278e-04,  5.48159736e-05, -4.08951122e-06,\n",
       "         8.26163883e-08]])"
      ]
     },
     "execution_count": 37,
     "metadata": {},
     "output_type": "execute_result"
    }
   ],
   "source": [
    "Ainv = np.linalg.inv(A)\n",
    "Ainv"
   ]
  },
  {
   "cell_type": "markdown",
   "metadata": {},
   "source": [
    "**Mencari nilai a0, a1, a2, dst dengan a = (A^-1)B namun di sini variabel a diganti dengan Y**"
   ]
  },
  {
   "cell_type": "code",
   "execution_count": 38,
   "metadata": {},
   "outputs": [
    {
     "name": "stdout",
     "output_type": "stream",
     "text": [
      "[[-1123.28406563]\n",
      " [  630.70732025]\n",
      " [  -84.24102613]\n",
      " [    3.44343995]]\n"
     ]
    }
   ],
   "source": [
    "Y = Ainv.dot(B)\n",
    "print(Y)"
   ]
  },
  {
   "cell_type": "code",
   "execution_count": 39,
   "metadata": {},
   "outputs": [],
   "source": [
    "a0 = Y[0,0]\n",
    "a1 = Y[1,0]\n",
    "a2 = Y[2,0]\n",
    "a3 = Y[3,0]"
   ]
  },
  {
   "cell_type": "markdown",
   "metadata": {},
   "source": [
    "**Hasil persamaan regresi polinomial**"
   ]
  },
  {
   "cell_type": "code",
   "execution_count": 40,
   "metadata": {},
   "outputs": [
    {
     "name": "stdout",
     "output_type": "stream",
     "text": [
      "y = 3.4434x^3 + -84.2410X^2 + 630.7073x + -1123.2841\n"
     ]
    }
   ],
   "source": [
    "print('y = {:.4f}x^3 + {:.4f}X^2 + {:.4f}x + {:.4f}'.format(a3, a2, a1, a0))"
   ]
  },
  {
   "cell_type": "code",
   "execution_count": 41,
   "metadata": {},
   "outputs": [
    {
     "data": {
      "text/plain": [
       "array([1.0000e+00, 7.0000e+00, 1.1000e+01, 2.3000e+01, 3.1000e+01,\n",
       "       5.6000e+01, 8.2000e+01, 1.1800e+02, 1.6200e+02, 2.2400e+02,\n",
       "       2.7600e+02, 3.8700e+02, 4.8500e+02, 6.2500e+02, 1.1690e+03,\n",
       "       1.5240e+03, 2.0390e+03, 2.8710e+03, 4.9060e+03, 5.6780e+03,\n",
       "       7.1770e+03, 9.0700e+03, 1.0265e+04, 1.3050e+04, 1.6139e+04,\n",
       "       1.8890e+04, 2.1990e+04, 2.4421e+04, 2.9470e+04, 3.5273e+04,\n",
       "       4.0501e+04, 4.6406e+04])"
      ]
     },
     "execution_count": 41,
     "metadata": {},
     "output_type": "execute_result"
    }
   ],
   "source": [
    "y"
   ]
  },
  {
   "cell_type": "markdown",
   "metadata": {},
   "source": [
    "**Koefisien Korelasi ( r ) dan Derajat Kesesuaian ( R ) r-square**"
   ]
  },
  {
   "cell_type": "code",
   "execution_count": 42,
   "metadata": {},
   "outputs": [
    {
     "name": "stdout",
     "output_type": "stream",
     "text": [
      "r = 0.9994 dan r^2 = 0.9560\n"
     ]
    }
   ],
   "source": [
    "yDt = (y-y.mean())**2\n",
    "yD = (y-a0-a1*x-a2*(x**2)-a3*(x**3))**2\n",
    "r = np.sqrt((yDt.sum()-yD.sum())/yDt.sum())\n",
    "R2 = r**2\n",
    "print('r = {:.4f} dan r^2 = {:.4f}'.format(r,r2))"
   ]
  },
  {
   "cell_type": "markdown",
   "metadata": {},
   "source": [
    "**Plot**"
   ]
  },
  {
   "cell_type": "code",
   "execution_count": 43,
   "metadata": {},
   "outputs": [
    {
     "data": {
      "text/plain": [
       "Text(0, 0.5, 'y')"
      ]
     },
     "execution_count": 43,
     "metadata": {},
     "output_type": "execute_result"
    },
    {
     "data": {
      "image/png": "[encoded data removed]",
      "text/plain": [
       "<Figure size 432x288 with 1 Axes>"
      ]
     },
     "metadata": {
      "needs_background": "light"
     },
     "output_type": "display_data"
    }
   ],
   "source": [
    "xreg = np.array(range(0,int((x[-1]+0.5)*10)))\n",
    "xreg = xreg/10\n",
    "yreg = a0 + a1*xreg + a2*(xreg**2) + a3*(xreg**3)\n",
    "ax = plt.plot(x,y,'ro')\n",
    "plt.plot(xreg,yreg,'b')\n",
    "plt.grid()\n",
    "plt.xlabel('x')\n",
    "plt.ylabel('y')"
   ]
  },
  {
   "cell_type": "markdown",
   "metadata": {},
   "source": [
    "**Perbandingan jika memakai polyfit dengan derajat dinaikkan**"
   ]
  },
  {
   "cell_type": "code",
   "execution_count": 44,
   "metadata": {},
   "outputs": [
    {
     "data": {
      "image/png": "[encoded data removed]",
      "text/plain": [
       "<Figure size 432x288 with 1 Axes>"
      ]
     },
     "metadata": {
      "needs_background": "light"
     },
     "output_type": "display_data"
    }
   ],
   "source": [
    "regpoly = np.poly1d(np.polyfit(x, y, 5))\n",
    "\n",
    "myline = np.linspace(1, len(y), 100)\n",
    "\n",
    "plt.scatter(x, y)\n",
    "plt.plot(myline, regpoly(myline), linewidth=3, color='r')\n",
    "plt.show()"
   ]
  },
  {
   "cell_type": "code",
   "execution_count": 45,
   "metadata": {},
   "outputs": [
    {
     "name": "stdout",
     "output_type": "stream",
     "text": [
      "          5         4        3         2\n",
      "0.002785 x - 0.174 x + 6.56 x - 91.54 x + 463.5 x - 575.8\n"
     ]
    }
   ],
   "source": [
    "print (regpoly)"
   ]
  },
  {
   "cell_type": "code",
   "execution_count": 46,
   "metadata": {},
   "outputs": [
    {
     "name": "stdout",
     "output_type": "stream",
     "text": [
      "0.999277180816511\n"
     ]
    }
   ],
   "source": [
    "print(r2_score(y, regpoly(x)))"
   ]
  },
  {
   "cell_type": "markdown",
   "metadata": {},
   "source": [
    "**Selesai**"
   ]
  },
  {
   "cell_type": "markdown",
   "metadata": {},
   "source": [
    "### Total Death"
   ]
  },
  {
   "cell_type": "markdown",
   "metadata": {},
   "source": [
    "- Start: 3-Mar-2020\n",
    "- End: 26-Mar-2020\n",
    "- Range: 24 Days"
   ]
  },
  {
   "cell_type": "markdown",
   "metadata": {},
   "source": [
    "**Data**"
   ]
  },
  {
   "cell_type": "code",
   "execution_count": 49,
   "metadata": {},
   "outputs": [
    {
     "data": {
      "text/plain": [
       "array([1.000e+00, 2.000e+00, 3.000e+00, 8.000e+00, 1.000e+01, 1.700e+01,\n",
       "       3.000e+01, 3.600e+01, 5.500e+01, 8.600e+01, 1.330e+02, 1.960e+02,\n",
       "       2.940e+02, 3.420e+02, 5.330e+02, 6.380e+02, 8.310e+02, 1.093e+03,\n",
       "       1.381e+03, 1.772e+03, 2.331e+03, 2.991e+03, 3.647e+03, 4.365e+03])"
      ]
     },
     "execution_count": 49,
     "metadata": {},
     "output_type": "execute_result"
    }
   ],
   "source": [
    "y = np.array ((1, 2, 3, 8, 10, 17, 30, 36, 55, 86, 133, 196, 294, 342, 533, 638, 831, 1093, 1381, 1772, 2331, 2991, 3647, 4365))\n",
    "y = y.astype('float64')\n",
    "y"
   ]
  },
  {
   "cell_type": "code",
   "execution_count": 50,
   "metadata": {},
   "outputs": [
    {
     "data": {
      "text/plain": [
       "array([ 1.,  2.,  3.,  4.,  5.,  6.,  7.,  8.,  9., 10., 11., 12., 13.,\n",
       "       14., 15., 16., 17., 18., 19., 20., 21., 22., 23., 24.])"
      ]
     },
     "execution_count": 50,
     "metadata": {},
     "output_type": "execute_result"
    }
   ],
   "source": [
    "x = np.array((range(1,1+len(y))))\n",
    "x = x.astype('float64')\n",
    "x"
   ]
  },
  {
   "cell_type": "markdown",
   "metadata": {},
   "source": [
    "**Plot**"
   ]
  },
  {
   "cell_type": "code",
   "execution_count": 51,
   "metadata": {},
   "outputs": [
    {
     "data": {
      "text/plain": [
       "Text(0, 0.5, 'y-jumlah orang')"
      ]
     },
     "execution_count": 51,
     "metadata": {},
     "output_type": "execute_result"
    },
    {
     "data": {
      "image/png": "[encoded data removed]",
      "text/plain": [
       "<Figure size 432x288 with 1 Axes>"
      ]
     },
     "metadata": {
      "needs_background": "light"
     },
     "output_type": "display_data"
    }
   ],
   "source": [
    "ax = plt.plot(x,y,'ro')\n",
    "plt.grid()\n",
    "plt.xlabel('x-hari')\n",
    "plt.ylabel('y-jumlah orang')"
   ]
  },
  {
   "cell_type": "markdown",
   "metadata": {},
   "source": [
    "#### Regresi Berpangkat"
   ]
  },
  {
   "cell_type": "markdown",
   "metadata": {},
   "source": [
    "**Data**"
   ]
  },
  {
   "cell_type": "code",
   "execution_count": 52,
   "metadata": {},
   "outputs": [
    {
     "data": {
      "text/plain": [
       "array([1.000e+00, 2.000e+00, 3.000e+00, 8.000e+00, 1.000e+01, 1.700e+01,\n",
       "       3.000e+01, 3.600e+01, 5.500e+01, 8.600e+01, 1.330e+02, 1.960e+02,\n",
       "       2.940e+02, 3.420e+02, 5.330e+02, 6.380e+02, 8.310e+02, 1.093e+03,\n",
       "       1.381e+03, 1.772e+03, 2.331e+03, 2.991e+03, 3.647e+03, 4.365e+03])"
      ]
     },
     "execution_count": 52,
     "metadata": {},
     "output_type": "execute_result"
    }
   ],
   "source": [
    "y = np.array ((1, 2, 3, 8, 10, 17, 30, 36, 55, 86, 133, 196, 294, 342, 533, 638, 831, 1093, 1381, 1772, 2331, 2991, 3647, 4365))\n",
    "y = y.astype('float64')\n",
    "y"
   ]
  },
  {
   "cell_type": "code",
   "execution_count": 53,
   "metadata": {},
   "outputs": [
    {
     "data": {
      "text/plain": [
       "array([ 1.,  2.,  3.,  4.,  5.,  6.,  7.,  8.,  9., 10., 11., 12., 13.,\n",
       "       14., 15., 16., 17., 18., 19., 20., 21., 22., 23., 24.])"
      ]
     },
     "execution_count": 53,
     "metadata": {},
     "output_type": "execute_result"
    }
   ],
   "source": [
    "x = np.array((range(1,1+len(y))))\n",
    "x = x.astype('float64')\n",
    "x"
   ]
  },
  {
   "attachments": {
    "image.png": {
     "image/png": "[encoded data removed]"
    }
   },
   "cell_type": "markdown",
   "metadata": {},
   "source": [
    "![image.png](attachment:image.png)"
   ]
  },
  {
   "cell_type": "markdown",
   "metadata": {},
   "source": [
    "**Membuat xreg untuk plotting selanjutnya**"
   ]
  },
  {
   "cell_type": "code",
   "execution_count": 54,
   "metadata": {},
   "outputs": [
    {
     "data": {
      "text/plain": [
       "array([ 1. ,  1.1,  1.2,  1.3,  1.4,  1.5,  1.6,  1.7,  1.8,  1.9,  2. ,\n",
       "        2.1,  2.2,  2.3,  2.4,  2.5,  2.6,  2.7,  2.8,  2.9,  3. ,  3.1,\n",
       "        3.2,  3.3,  3.4,  3.5,  3.6,  3.7,  3.8,  3.9,  4. ,  4.1,  4.2,\n",
       "        4.3,  4.4,  4.5,  4.6,  4.7,  4.8,  4.9,  5. ,  5.1,  5.2,  5.3,\n",
       "        5.4,  5.5,  5.6,  5.7,  5.8,  5.9,  6. ,  6.1,  6.2,  6.3,  6.4,\n",
       "        6.5,  6.6,  6.7,  6.8,  6.9,  7. ,  7.1,  7.2,  7.3,  7.4,  7.5,\n",
       "        7.6,  7.7,  7.8,  7.9,  8. ,  8.1,  8.2,  8.3,  8.4,  8.5,  8.6,\n",
       "        8.7,  8.8,  8.9,  9. ,  9.1,  9.2,  9.3,  9.4,  9.5,  9.6,  9.7,\n",
       "        9.8,  9.9, 10. , 10.1, 10.2, 10.3, 10.4, 10.5, 10.6, 10.7, 10.8,\n",
       "       10.9, 11. , 11.1, 11.2, 11.3, 11.4, 11.5, 11.6, 11.7, 11.8, 11.9,\n",
       "       12. , 12.1, 12.2, 12.3, 12.4, 12.5, 12.6, 12.7, 12.8, 12.9, 13. ,\n",
       "       13.1, 13.2, 13.3, 13.4, 13.5, 13.6, 13.7, 13.8, 13.9, 14. , 14.1,\n",
       "       14.2, 14.3, 14.4, 14.5, 14.6, 14.7, 14.8, 14.9, 15. , 15.1, 15.2,\n",
       "       15.3, 15.4, 15.5, 15.6, 15.7, 15.8, 15.9, 16. , 16.1, 16.2, 16.3,\n",
       "       16.4, 16.5, 16.6, 16.7, 16.8, 16.9, 17. , 17.1, 17.2, 17.3, 17.4,\n",
       "       17.5, 17.6, 17.7, 17.8, 17.9, 18. , 18.1, 18.2, 18.3, 18.4, 18.5,\n",
       "       18.6, 18.7, 18.8, 18.9, 19. , 19.1, 19.2, 19.3, 19.4, 19.5, 19.6,\n",
       "       19.7, 19.8, 19.9, 20. , 20.1, 20.2, 20.3, 20.4, 20.5, 20.6, 20.7,\n",
       "       20.8, 20.9, 21. , 21.1, 21.2, 21.3, 21.4, 21.5, 21.6, 21.7, 21.8,\n",
       "       21.9, 22. , 22.1, 22.2, 22.3, 22.4, 22.5, 22.6, 22.7, 22.8, 22.9,\n",
       "       23. , 23.1, 23.2, 23.3, 23.4, 23.5, 23.6, 23.7, 23.8, 23.9, 24. ,\n",
       "       24.1, 24.2, 24.3, 24.4, 24.5, 24.6, 24.7, 24.8, 24.9])"
      ]
     },
     "execution_count": 54,
     "metadata": {},
     "output_type": "execute_result"
    }
   ],
   "source": [
    "#membuat xreg\n",
    "xreg = np.array(range(10,int((x[-1]+1)*10)))\n",
    "xreg = xreg/10 #memperhalus bentuk garis\n",
    "xreg = xreg.astype('float64')\n",
    "xreg"
   ]
  },
  {
   "cell_type": "markdown",
   "metadata": {},
   "source": [
    "**Regresi berpangkat**"
   ]
  },
  {
   "attachments": {
    "image.png": {
     "image/png": "[encoded data removed]"
    }
   },
   "cell_type": "markdown",
   "metadata": {},
   "source": [
    "![image.png](attachment:image.png)"
   ]
  },
  {
   "attachments": {
    "image.png": {
     "image/png": "[encoded data removed]"
    }
   },
   "cell_type": "markdown",
   "metadata": {},
   "source": [
    "![image.png](attachment:image.png)"
   ]
  },
  {
   "attachments": {
    "image.png": {
     "image/png": "[encoded data removed]"
    }
   },
   "cell_type": "markdown",
   "metadata": {},
   "source": [
    "![image.png](attachment:image.png)"
   ]
  },
  {
   "cell_type": "code",
   "execution_count": 55,
   "metadata": {},
   "outputs": [],
   "source": [
    "p = np.log10(y)\n",
    "q = np.log10(x)"
   ]
  },
  {
   "cell_type": "markdown",
   "metadata": {},
   "source": [
    "**Hitung regresi linear**"
   ]
  },
  {
   "cell_type": "code",
   "execution_count": 56,
   "metadata": {},
   "outputs": [],
   "source": [
    "n = len(y)\n",
    "pq = p*q\n",
    "qq = q**2\n",
    "B = (n*pq.sum() - q.sum()*p.sum())/(n*qq.sum() - (q.sum())**2)\n",
    "A = p.mean()-B*q.mean()"
   ]
  },
  {
   "cell_type": "markdown",
   "metadata": {},
   "source": [
    "**Hasil regresi linear**"
   ]
  },
  {
   "cell_type": "code",
   "execution_count": 57,
   "metadata": {},
   "outputs": [
    {
     "name": "stdout",
     "output_type": "stream",
     "text": [
      "p = 2.9477q -0.7572\n"
     ]
    }
   ],
   "source": [
    "if A>0 :\n",
    "    print (\"p = {:.4f}q + {:.4f}\". format(B,A))\n",
    "else :\n",
    "    print (\"p = {:.4f}q {:.4f}\". format(B,A))"
   ]
  },
  {
   "cell_type": "markdown",
   "metadata": {},
   "source": [
    "**Kembalikan ke bentuk pangkat**"
   ]
  },
  {
   "cell_type": "code",
   "execution_count": 58,
   "metadata": {},
   "outputs": [
    {
     "name": "stdout",
     "output_type": "stream",
     "text": [
      "y = 0.1749x^(2.9477)\n"
     ]
    }
   ],
   "source": [
    "a = 10**A #A=log(a)\n",
    "b = B\n",
    "print (\"y = {:.4f}x^({:.4f})\".format(a,b))"
   ]
  },
  {
   "cell_type": "markdown",
   "metadata": {},
   "source": [
    "**Koefisien Korelasi ( r ) dan Derajat Kesesuaian ( R ) r-square**"
   ]
  },
  {
   "cell_type": "code",
   "execution_count": 59,
   "metadata": {},
   "outputs": [
    {
     "name": "stdout",
     "output_type": "stream",
     "text": [
      "r = 0.9700 dan r^2 = 0.9409\n"
     ]
    }
   ],
   "source": [
    "yDt = ((p - p.mean())**2).sum()\n",
    "yD = ((p - (q*B) - A)**2).sum()\n",
    "r = np.sqrt((yDt-yD)/yDt)\n",
    "r2 = r**2\n",
    "print('r = {:.4f} dan r^2 = {:.4f}'.format(r,r2))"
   ]
  },
  {
   "cell_type": "markdown",
   "metadata": {},
   "source": [
    "**Plot**"
   ]
  },
  {
   "cell_type": "code",
   "execution_count": 60,
   "metadata": {},
   "outputs": [
    {
     "data": {
      "text/plain": [
       "array([1.74915776e-01, 2.31655748e-01, 2.99387200e-01, 3.79055000e-01,\n",
       "       4.71599903e-01, 5.77958879e-01, 6.99065398e-01, 8.35849679e-01,\n",
       "       9.89238903e-01, 1.16015740e+00, 1.34952681e+00, 1.55826626e+00,\n",
       "       1.78729244e+00, 2.03751979e+00, 2.30986057e+00, 2.60522495e+00,\n",
       "       2.92452115e+00, 3.26865547e+00, 3.63853238e+00, 4.03505463e+00,\n",
       "       4.45912326e+00, 4.91163769e+00, 5.39349578e+00, 5.90559388e+00,\n",
       "       6.44882686e+00, 7.02408820e+00, 7.63226998e+00, 8.27426295e+00,\n",
       "       8.95095660e+00, 9.66323911e+00, 1.04119975e+01, 1.11981175e+01,\n",
       "       1.20224839e+01, 1.28859801e+01, 1.37894885e+01, 1.47338904e+01,\n",
       "       1.57200663e+01, 1.67488953e+01, 1.78212557e+01, 1.89380249e+01,\n",
       "       2.01000791e+01, 2.13082938e+01, 2.25635435e+01, 2.38667017e+01,\n",
       "       2.52186412e+01, 2.66202339e+01, 2.80723507e+01, 2.95758619e+01,\n",
       "       3.11316369e+01, 3.27405441e+01, 3.44034514e+01, 3.61212259e+01,\n",
       "       3.78947337e+01, 3.97248405e+01, 4.16124111e+01, 4.35583094e+01,\n",
       "       4.55633990e+01, 4.76285424e+01, 4.97546017e+01, 5.19424383e+01,\n",
       "       5.41929127e+01, 5.65068849e+01, 5.88852145e+01, 6.13287600e+01,\n",
       "       6.38383797e+01, 6.64149310e+01, 6.90592708e+01, 7.17722554e+01,\n",
       "       7.45547405e+01, 7.74075813e+01, 8.03316323e+01, 8.33277475e+01,\n",
       "       8.63967804e+01, 8.95395837e+01, 9.27570100e+01, 9.60499108e+01,\n",
       "       9.94191376e+01, 1.02865541e+02, 1.06389972e+02, 1.09993279e+02,\n",
       "       1.13676311e+02, 1.17439919e+02, 1.21284949e+02, 1.25212250e+02,\n",
       "       1.29222668e+02, 1.33317051e+02, 1.37496245e+02, 1.41761096e+02,\n",
       "       1.46112449e+02, 1.50551149e+02, 1.55078040e+02, 1.59693967e+02,\n",
       "       1.64399773e+02, 1.69196301e+02, 1.74084394e+02, 1.79064895e+02,\n",
       "       1.84138645e+02, 1.89306485e+02, 1.94569257e+02, 1.99927801e+02,\n",
       "       2.05382958e+02, 2.10935567e+02, 2.16586468e+02, 2.22336499e+02,\n",
       "       2.28186500e+02, 2.34137309e+02, 2.40189763e+02, 2.46344700e+02,\n",
       "       2.52602957e+02, 2.58965370e+02, 2.65432777e+02, 2.72006013e+02,\n",
       "       2.78685914e+02, 2.85473315e+02, 2.92369050e+02, 2.99373955e+02,\n",
       "       3.06488864e+02, 3.13714610e+02, 3.21052028e+02, 3.28501949e+02,\n",
       "       3.36065208e+02, 3.43742635e+02, 3.51535065e+02, 3.59443328e+02,\n",
       "       3.67468256e+02, 3.75610680e+02, 3.83871431e+02, 3.92251339e+02,\n",
       "       4.00751235e+02, 4.09371948e+02, 4.18114309e+02, 4.26979146e+02,\n",
       "       4.35967288e+02, 4.45079564e+02, 4.54316802e+02, 4.63679830e+02,\n",
       "       4.73169476e+02, 4.82786568e+02, 4.92531933e+02, 5.02406396e+02,\n",
       "       5.12410786e+02, 5.22545928e+02, 5.32812648e+02, 5.43211771e+02,\n",
       "       5.53744124e+02, 5.64410531e+02, 5.75211818e+02, 5.86148808e+02,\n",
       "       5.97222326e+02, 6.08433196e+02, 6.19782242e+02, 6.31270288e+02,\n",
       "       6.42898155e+02, 6.54666668e+02, 6.66576649e+02, 6.78628920e+02,\n",
       "       6.90824304e+02, 7.03163622e+02, 7.15647696e+02, 7.28277348e+02,\n",
       "       7.41053398e+02, 7.53976667e+02, 7.67047977e+02, 7.80268146e+02,\n",
       "       7.93637996e+02, 8.07158347e+02, 8.20830017e+02, 8.34653826e+02,\n",
       "       8.48630593e+02, 8.62761138e+02, 8.77046278e+02, 8.91486833e+02,\n",
       "       9.06083620e+02, 9.20837457e+02, 9.35749163e+02, 9.50819553e+02,\n",
       "       9.66049447e+02, 9.81439660e+02, 9.96991009e+02, 1.01270431e+03,\n",
       "       1.02858038e+03, 1.04462004e+03, 1.06082410e+03, 1.07719337e+03,\n",
       "       1.09372868e+03, 1.11043083e+03, 1.12730065e+03, 1.14433894e+03,\n",
       "       1.16154653e+03, 1.17892422e+03, 1.19647283e+03, 1.21419317e+03,\n",
       "       1.23208607e+03, 1.25015232e+03, 1.26839275e+03, 1.28680816e+03,\n",
       "       1.30539938e+03, 1.32416721e+03, 1.34311246e+03, 1.36223595e+03,\n",
       "       1.38153849e+03, 1.40102089e+03, 1.42068397e+03, 1.44052853e+03,\n",
       "       1.46055538e+03, 1.48076534e+03, 1.50115922e+03, 1.52173782e+03,\n",
       "       1.54250197e+03, 1.56345246e+03, 1.58459011e+03, 1.60591573e+03,\n",
       "       1.62743013e+03, 1.64913411e+03, 1.67102849e+03, 1.69311408e+03,\n",
       "       1.71539168e+03, 1.73786211e+03, 1.76052617e+03, 1.78338466e+03,\n",
       "       1.80643841e+03, 1.82968821e+03, 1.85313488e+03, 1.87677922e+03,\n",
       "       1.90062203e+03, 1.92466413e+03, 1.94890633e+03, 1.97334943e+03,\n",
       "       1.99799423e+03, 2.02284155e+03, 2.04789218e+03, 2.07314694e+03,\n",
       "       2.09860664e+03, 2.12427207e+03, 2.15014404e+03, 2.17622336e+03,\n",
       "       2.20251084e+03, 2.22900728e+03, 2.25571348e+03, 2.28263024e+03])"
      ]
     },
     "execution_count": 60,
     "metadata": {},
     "output_type": "execute_result"
    }
   ],
   "source": [
    "#membuat yreg\n",
    "yreg = a*(xreg**b)\n",
    "yreg\n",
    "    "
   ]
  },
  {
   "cell_type": "code",
   "execution_count": 61,
   "metadata": {},
   "outputs": [
    {
     "data": {
      "text/plain": [
       "Text(0, 0.5, 'y-banyak orang')"
      ]
     },
     "execution_count": 61,
     "metadata": {},
     "output_type": "execute_result"
    },
    {
     "data": {
      "image/png": "[encoded data removed]",
      "text/plain": [
       "<Figure size 432x288 with 1 Axes>"
      ]
     },
     "metadata": {
      "needs_background": "light"
     },
     "output_type": "display_data"
    }
   ],
   "source": [
    "ax = plt.plot(x,y,'ro')\n",
    "plt.plot(xreg,yreg,'g')\n",
    "plt.grid()\n",
    "plt.xlabel('x-hari ke')\n",
    "plt.ylabel('y-banyak orang')"
   ]
  },
  {
   "cell_type": "markdown",
   "metadata": {},
   "source": [
    "#### Regresi Eksponensial"
   ]
  },
  {
   "attachments": {
    "image.png": {
     "image/png": "[encoded data removed]"
    }
   },
   "cell_type": "markdown",
   "metadata": {},
   "source": [
    "![image.png](attachment:image.png)"
   ]
  },
  {
   "attachments": {
    "image.png": {
     "image/png": "[encoded data removed]"
    }
   },
   "cell_type": "markdown",
   "metadata": {},
   "source": [
    "![image.png](attachment:image.png)"
   ]
  },
  {
   "attachments": {
    "image.png": {
     "image/png": "[encoded data removed]"
    }
   },
   "cell_type": "markdown",
   "metadata": {},
   "source": [
    "![image.png](attachment:image.png)"
   ]
  },
  {
   "cell_type": "markdown",
   "metadata": {},
   "source": [
    "**Linearisasi**"
   ]
  },
  {
   "cell_type": "code",
   "execution_count": 62,
   "metadata": {},
   "outputs": [
    {
     "data": {
      "text/plain": [
       "array([1.000e+00, 2.000e+00, 3.000e+00, 8.000e+00, 1.000e+01, 1.700e+01,\n",
       "       3.000e+01, 3.600e+01, 5.500e+01, 8.600e+01, 1.330e+02, 1.960e+02,\n",
       "       2.940e+02, 3.420e+02, 5.330e+02, 6.380e+02, 8.310e+02, 1.093e+03,\n",
       "       1.381e+03, 1.772e+03, 2.331e+03, 2.991e+03, 3.647e+03, 4.365e+03])"
      ]
     },
     "execution_count": 62,
     "metadata": {},
     "output_type": "execute_result"
    }
   ],
   "source": [
    "y = np.array ((1, 2, 3, 8, 10, 17, 30, 36, 55, 86, 133, 196, 294, 342, 533, 638, 831, 1093, 1381, 1772, 2331, 2991, 3647, 4365))\n",
    "y = y.astype('float64')\n",
    "y"
   ]
  },
  {
   "cell_type": "code",
   "execution_count": 63,
   "metadata": {},
   "outputs": [
    {
     "data": {
      "text/plain": [
       "array([ 1.,  2.,  3.,  4.,  5.,  6.,  7.,  8.,  9., 10., 11., 12., 13.,\n",
       "       14., 15., 16., 17., 18., 19., 20., 21., 22., 23., 24.])"
      ]
     },
     "execution_count": 63,
     "metadata": {},
     "output_type": "execute_result"
    }
   ],
   "source": [
    "x = np.array((range(1,1+len(y))))\n",
    "x = x.astype('float64')\n",
    "x"
   ]
  },
  {
   "cell_type": "code",
   "execution_count": 64,
   "metadata": {},
   "outputs": [],
   "source": [
    "p = np.log(y)\n",
    "q = x"
   ]
  },
  {
   "cell_type": "markdown",
   "metadata": {},
   "source": [
    "**Hitung regresi linear**"
   ]
  },
  {
   "attachments": {
    "image.png": {
     "image/png": "[encoded data removed]"
    }
   },
   "cell_type": "markdown",
   "metadata": {},
   "source": [
    "![image.png](attachment:image.png)"
   ]
  },
  {
   "cell_type": "code",
   "execution_count": 65,
   "metadata": {},
   "outputs": [],
   "source": [
    "n = len(y)\n",
    "pq = p*q\n",
    "qq = q**2\n",
    "B = (n*pq.sum() - q.sum()*p.sum())/(n*qq.sum() - (q.sum())**2)\n",
    "A = p.mean()-B*q.mean()"
   ]
  },
  {
   "cell_type": "markdown",
   "metadata": {},
   "source": [
    "**Hasil persamaan linear**"
   ]
  },
  {
   "cell_type": "code",
   "execution_count": 66,
   "metadata": {},
   "outputs": [
    {
     "name": "stdout",
     "output_type": "stream",
     "text": [
      "p = 0.3523q + 0.5818\n"
     ]
    }
   ],
   "source": [
    "if A>0 :\n",
    "    print (\"p = {:.4f}q + {:.4f}\". format(B,A))\n",
    "else :\n",
    "    print (\"p = {:.4f}q {:.4f}\". format(B,A))"
   ]
  },
  {
   "cell_type": "markdown",
   "metadata": {},
   "source": [
    "**Hitung kembali dalam bentuk bilangan berpangkat**"
   ]
  },
  {
   "cell_type": "code",
   "execution_count": 67,
   "metadata": {},
   "outputs": [],
   "source": [
    "a = np.e**A\n",
    "b = B"
   ]
  },
  {
   "cell_type": "code",
   "execution_count": 68,
   "metadata": {},
   "outputs": [
    {
     "name": "stdout",
     "output_type": "stream",
     "text": [
      "y = 1.7892x^(0.3523)\n"
     ]
    }
   ],
   "source": [
    "print (\"y = {:.4f}x^({:.4f})\".format(a,b))"
   ]
  },
  {
   "cell_type": "markdown",
   "metadata": {},
   "source": [
    "**Koefisien Korelasi ( r ) dan Derajat Kesesuaian ( R ) r-square**"
   ]
  },
  {
   "cell_type": "code",
   "execution_count": 69,
   "metadata": {},
   "outputs": [
    {
     "name": "stdout",
     "output_type": "stream",
     "text": [
      "r = 0.9870 dan r^2 = 0.9742\n"
     ]
    }
   ],
   "source": [
    "yDt = ((p - p.mean())**2).sum()\n",
    "yD = ((p - (q*B) - A)**2).sum()\n",
    "r = np.sqrt((yDt-yD)/yDt)\n",
    "r2 = r**2\n",
    "print('r = {:.4f} dan r^2 = {:.4f}'.format(r,r2))"
   ]
  },
  {
   "cell_type": "markdown",
   "metadata": {},
   "source": [
    "**Plot data dan regresinya**"
   ]
  },
  {
   "cell_type": "code",
   "execution_count": 70,
   "metadata": {},
   "outputs": [
    {
     "data": {
      "text/plain": [
       "array([ 0. ,  0.1,  0.2,  0.3,  0.4,  0.5,  0.6,  0.7,  0.8,  0.9,  1. ,\n",
       "        1.1,  1.2,  1.3,  1.4,  1.5,  1.6,  1.7,  1.8,  1.9,  2. ,  2.1,\n",
       "        2.2,  2.3,  2.4,  2.5,  2.6,  2.7,  2.8,  2.9,  3. ,  3.1,  3.2,\n",
       "        3.3,  3.4,  3.5,  3.6,  3.7,  3.8,  3.9,  4. ,  4.1,  4.2,  4.3,\n",
       "        4.4,  4.5,  4.6,  4.7,  4.8,  4.9,  5. ,  5.1,  5.2,  5.3,  5.4,\n",
       "        5.5,  5.6,  5.7,  5.8,  5.9,  6. ,  6.1,  6.2,  6.3,  6.4,  6.5,\n",
       "        6.6,  6.7,  6.8,  6.9,  7. ,  7.1,  7.2,  7.3,  7.4,  7.5,  7.6,\n",
       "        7.7,  7.8,  7.9,  8. ,  8.1,  8.2,  8.3,  8.4,  8.5,  8.6,  8.7,\n",
       "        8.8,  8.9,  9. ,  9.1,  9.2,  9.3,  9.4,  9.5,  9.6,  9.7,  9.8,\n",
       "        9.9, 10. , 10.1, 10.2, 10.3, 10.4, 10.5, 10.6, 10.7, 10.8, 10.9,\n",
       "       11. , 11.1, 11.2, 11.3, 11.4, 11.5, 11.6, 11.7, 11.8, 11.9, 12. ,\n",
       "       12.1, 12.2, 12.3, 12.4, 12.5, 12.6, 12.7, 12.8, 12.9, 13. , 13.1,\n",
       "       13.2, 13.3, 13.4, 13.5, 13.6, 13.7, 13.8, 13.9, 14. , 14.1, 14.2,\n",
       "       14.3, 14.4, 14.5, 14.6, 14.7, 14.8, 14.9, 15. , 15.1, 15.2, 15.3,\n",
       "       15.4, 15.5, 15.6, 15.7, 15.8, 15.9, 16. , 16.1, 16.2, 16.3, 16.4,\n",
       "       16.5, 16.6, 16.7, 16.8, 16.9, 17. , 17.1, 17.2, 17.3, 17.4, 17.5,\n",
       "       17.6, 17.7, 17.8, 17.9, 18. , 18.1, 18.2, 18.3, 18.4, 18.5, 18.6,\n",
       "       18.7, 18.8, 18.9, 19. , 19.1, 19.2, 19.3, 19.4, 19.5, 19.6, 19.7,\n",
       "       19.8, 19.9, 20. , 20.1, 20.2, 20.3, 20.4, 20.5, 20.6, 20.7, 20.8,\n",
       "       20.9, 21. , 21.1, 21.2, 21.3, 21.4, 21.5, 21.6, 21.7, 21.8, 21.9,\n",
       "       22. , 22.1, 22.2, 22.3, 22.4, 22.5, 22.6, 22.7, 22.8, 22.9, 23. ,\n",
       "       23.1, 23.2, 23.3, 23.4, 23.5, 23.6, 23.7, 23.8, 23.9, 24. , 24.1,\n",
       "       24.2, 24.3, 24.4, 24.5, 24.6, 24.7, 24.8, 24.9])"
      ]
     },
     "execution_count": 70,
     "metadata": {},
     "output_type": "execute_result"
    }
   ],
   "source": [
    "#membuat xreg\n",
    "xreg = np.array(range(0,int((x[-1]+1)*10)))\n",
    "xreg = xreg/10 #memperhalus bentuk garis\n",
    "xreg = xreg.astype('float64')\n",
    "xreg"
   ]
  },
  {
   "cell_type": "code",
   "execution_count": 71,
   "metadata": {},
   "outputs": [
    {
     "data": {
      "text/plain": [
       "array([1.78917767e+00, 1.85333088e+00, 1.91978438e+00, 1.98862066e+00,\n",
       "       2.05992515e+00, 2.13378635e+00, 2.21029593e+00, 2.28954887e+00,\n",
       "       2.37164351e+00, 2.45668177e+00, 2.54476917e+00, 2.63601507e+00,\n",
       "       2.73053269e+00, 2.82843937e+00, 2.92985661e+00, 3.03491030e+00,\n",
       "       3.14373081e+00, 3.25645322e+00, 3.37321744e+00, 3.49416838e+00,\n",
       "       3.61945617e+00, 3.74923632e+00, 3.88366989e+00, 4.02292375e+00,\n",
       "       4.16717072e+00, 4.31658986e+00, 4.47136660e+00, 4.63169306e+00,\n",
       "       4.79776823e+00, 4.96979823e+00, 5.14799658e+00, 5.33258445e+00,\n",
       "       5.52379096e+00, 5.72185342e+00, 5.92701765e+00, 6.13953830e+00,\n",
       "       6.35967915e+00, 6.58771343e+00, 6.82392416e+00, 7.06860452e+00,\n",
       "       7.32205820e+00, 7.58459978e+00, 7.85655513e+00, 8.13826177e+00,\n",
       "       8.43006935e+00, 8.73234007e+00, 9.04544907e+00, 9.36978500e+00,\n",
       "       9.70575040e+00, 1.00537623e+01, 1.04142525e+01, 1.07876686e+01,\n",
       "       1.11744740e+01, 1.15751488e+01, 1.19901903e+01, 1.24201136e+01,\n",
       "       1.28654523e+01, 1.33267593e+01, 1.38046069e+01, 1.42995884e+01,\n",
       "       1.48123181e+01, 1.53434324e+01, 1.58935904e+01, 1.64634750e+01,\n",
       "       1.70537936e+01, 1.76652787e+01, 1.82986895e+01, 1.89548119e+01,\n",
       "       1.96344605e+01, 2.03384787e+01, 2.10677404e+01, 2.18231507e+01,\n",
       "       2.26056471e+01, 2.34162009e+01, 2.42558182e+01, 2.51255410e+01,\n",
       "       2.60264488e+01, 2.69596598e+01, 2.79263322e+01, 2.89276659e+01,\n",
       "       2.99649036e+01, 3.10393328e+01, 3.21522871e+01, 3.33051476e+01,\n",
       "       3.44993455e+01, 3.57363628e+01, 3.70177349e+01, 3.83450523e+01,\n",
       "       3.97199622e+01, 4.11441713e+01, 4.26194472e+01, 4.41476209e+01,\n",
       "       4.57305893e+01, 4.73703169e+01, 4.90688391e+01, 5.08282639e+01,\n",
       "       5.26507750e+01, 5.45386346e+01, 5.64941858e+01, 5.85198557e+01,\n",
       "       6.06181586e+01, 6.27916987e+01, 6.50431738e+01, 6.73753784e+01,\n",
       "       6.97912071e+01, 7.22936584e+01, 7.48858383e+01, 7.75709640e+01,\n",
       "       8.03523682e+01, 8.32335032e+01, 8.62179448e+01, 8.93093974e+01,\n",
       "       9.25116979e+01, 9.58288209e+01, 9.92648835e+01, 1.02824150e+02,\n",
       "       1.06511039e+02, 1.10330126e+02, 1.14286151e+02, 1.18384025e+02,\n",
       "       1.22628833e+02, 1.27025843e+02, 1.31580514e+02, 1.36298499e+02,\n",
       "       1.41185652e+02, 1.46248041e+02, 1.51491948e+02, 1.56923882e+02,\n",
       "       1.62550584e+02, 1.68379040e+02, 1.74416481e+02, 1.80670403e+02,\n",
       "       1.87148567e+02, 1.93859014e+02, 2.00810072e+02, 2.08010369e+02,\n",
       "       2.15468842e+02, 2.23194747e+02, 2.31197675e+02, 2.39487558e+02,\n",
       "       2.48074685e+02, 2.56969714e+02, 2.66183685e+02, 2.75728035e+02,\n",
       "       2.85614610e+02, 2.95855680e+02, 3.06463956e+02, 3.17452606e+02,\n",
       "       3.28835268e+02, 3.40626069e+02, 3.52839644e+02, 3.65491152e+02,\n",
       "       3.78596296e+02, 3.92171341e+02, 4.06233136e+02, 4.20799135e+02,\n",
       "       4.35887416e+02, 4.51516706e+02, 4.67706404e+02, 4.84476604e+02,\n",
       "       5.01848121e+02, 5.19842515e+02, 5.38482120e+02, 5.57790072e+02,\n",
       "       5.77790335e+02, 5.98507732e+02, 6.19967978e+02, 6.42197708e+02,\n",
       "       6.65224512e+02, 6.89076972e+02, 7.13784691e+02, 7.39378337e+02,\n",
       "       7.65889675e+02, 7.93351610e+02, 8.21798227e+02, 8.51264834e+02,\n",
       "       8.81788002e+02, 9.13405617e+02, 9.46156922e+02, 9.80082565e+02,\n",
       "       1.01522466e+03, 1.05162681e+03, 1.08933421e+03, 1.12839365e+03,\n",
       "       1.16885362e+03, 1.21076434e+03, 1.25417781e+03, 1.29914793e+03,\n",
       "       1.34573051e+03, 1.39398336e+03, 1.44396639e+03, 1.49574161e+03,\n",
       "       1.54937330e+03, 1.60492803e+03, 1.66247474e+03, 1.72208485e+03,\n",
       "       1.78383237e+03, 1.84779391e+03, 1.91404888e+03, 1.98267951e+03,\n",
       "       2.05377097e+03, 2.12741150e+03, 2.20369251e+03, 2.28270867e+03,\n",
       "       2.36455806e+03, 2.44934225e+03, 2.53716649e+03, 2.62813978e+03,\n",
       "       2.72237503e+03, 2.81998920e+03, 2.92110345e+03, 3.02584328e+03,\n",
       "       3.13433869e+03, 3.24672433e+03, 3.36313971e+03, 3.48372930e+03,\n",
       "       3.60864278e+03, 3.73803520e+03, 3.87206714e+03, 4.01090497e+03,\n",
       "       4.15472100e+03, 4.30369373e+03, 4.45800807e+03, 4.61785554e+03,\n",
       "       4.78343454e+03, 4.95495059e+03, 5.13261656e+03, 5.31665297e+03,\n",
       "       5.50728823e+03, 5.70475896e+03, 5.90931025e+03, 6.12119598e+03,\n",
       "       6.34067914e+03, 6.56803215e+03, 6.80353718e+03, 7.04748655e+03,\n",
       "       7.30018302e+03, 7.56194024e+03, 7.83308309e+03, 8.11394811e+03,\n",
       "       8.40488390e+03, 8.70625156e+03, 9.01842513e+03, 9.34179208e+03,\n",
       "       9.67675376e+03, 1.00237259e+04, 1.03831392e+04, 1.07554397e+04,\n",
       "       1.11410894e+04, 1.15405672e+04])"
      ]
     },
     "execution_count": 71,
     "metadata": {},
     "output_type": "execute_result"
    }
   ],
   "source": [
    "#membuat yreg\n",
    "yreg = a*np.e**(b*xreg)\n",
    "yreg"
   ]
  },
  {
   "cell_type": "code",
   "execution_count": 72,
   "metadata": {},
   "outputs": [
    {
     "data": {
      "text/plain": [
       "Text(0, 0.5, 'y-banyak orang')"
      ]
     },
     "execution_count": 72,
     "metadata": {},
     "output_type": "execute_result"
    },
    {
     "data": {
      "image/png": "[encoded data removed]",
      "text/plain": [
       "<Figure size 432x288 with 1 Axes>"
      ]
     },
     "metadata": {
      "needs_background": "light"
     },
     "output_type": "display_data"
    }
   ],
   "source": [
    "ax = plt.plot(x,y,'ro')\n",
    "plt.plot(xreg,yreg,'b')\n",
    "plt.grid()\n",
    "plt.xlabel('x-hari ke')\n",
    "plt.ylabel('y-banyak orang')"
   ]
  },
  {
   "cell_type": "markdown",
   "metadata": {},
   "source": [
    "**Selesai**"
   ]
  },
  {
   "cell_type": "markdown",
   "metadata": {},
   "source": [
    "#### Regresi Polinomial"
   ]
  },
  {
   "cell_type": "code",
   "execution_count": 73,
   "metadata": {},
   "outputs": [
    {
     "data": {
      "text/plain": [
       "array([1.000e+00, 2.000e+00, 3.000e+00, 8.000e+00, 1.000e+01, 1.700e+01,\n",
       "       3.000e+01, 3.600e+01, 5.500e+01, 8.600e+01, 1.330e+02, 1.960e+02,\n",
       "       2.940e+02, 3.420e+02, 5.330e+02, 6.380e+02, 8.310e+02, 1.093e+03,\n",
       "       1.381e+03, 1.772e+03, 2.331e+03, 2.991e+03, 3.647e+03, 4.365e+03])"
      ]
     },
     "execution_count": 73,
     "metadata": {},
     "output_type": "execute_result"
    }
   ],
   "source": [
    "y = np.array ((1, 2, 3, 8, 10, 17, 30, 36, 55, 86, 133, 196, 294, 342, 533, 638, 831, 1093, 1381, 1772, 2331, 2991, 3647, 4365))\n",
    "y = y.astype('float64')\n",
    "y"
   ]
  },
  {
   "cell_type": "code",
   "execution_count": 74,
   "metadata": {},
   "outputs": [
    {
     "data": {
      "text/plain": [
       "array([ 1.,  2.,  3.,  4.,  5.,  6.,  7.,  8.,  9., 10., 11., 12., 13.,\n",
       "       14., 15., 16., 17., 18., 19., 20., 21., 22., 23., 24.])"
      ]
     },
     "execution_count": 74,
     "metadata": {},
     "output_type": "execute_result"
    }
   ],
   "source": [
    "x = np.array((range(1,1+len(y))))\n",
    "x = x.astype('float64')\n",
    "x"
   ]
  },
  {
   "cell_type": "markdown",
   "metadata": {},
   "source": [
    "**Membentuk regresi polinomial dari matriks**"
   ]
  },
  {
   "attachments": {
    "image.png": {
     "image/png": "[encoded data removed]"
    }
   },
   "cell_type": "markdown",
   "metadata": {},
   "source": [
    "![image.png](attachment:image.png)"
   ]
  },
  {
   "cell_type": "markdown",
   "metadata": {},
   "source": [
    "**Mendefinisikan elemen-elemen matriks kiri**"
   ]
  },
  {
   "cell_type": "code",
   "execution_count": 75,
   "metadata": {},
   "outputs": [
    {
     "data": {
      "text/plain": [
       "array([[2.400000e+01, 3.000000e+02, 4.900000e+03, 9.000000e+04],\n",
       "       [3.000000e+02, 4.900000e+03, 9.000000e+04, 1.763020e+06],\n",
       "       [4.900000e+03, 9.000000e+04, 1.763020e+06, 3.597000e+07],\n",
       "       [9.000000e+04, 1.763020e+06, 3.597000e+07, 7.547407e+08]])"
      ]
     },
     "execution_count": 75,
     "metadata": {},
     "output_type": "execute_result"
    }
   ],
   "source": [
    "n = len(y)\n",
    "a = x.sum()\n",
    "b = (x**2).sum()\n",
    "c = (x**3).sum()\n",
    "d = (x**4).sum()\n",
    "e = (x**5).sum()\n",
    "f = (x**6).sum()\n",
    "A = np.array(([n, a, b, c],\n",
    "    [a, b, c, d],\n",
    "    [b, c, d, e],\n",
    "    [c, d, e, f]))\n",
    "A"
   ]
  },
  {
   "cell_type": "markdown",
   "metadata": {},
   "source": [
    "**Mendefinisikan elemen-elemen matriks kanan**"
   ]
  },
  {
   "cell_type": "code",
   "execution_count": 76,
   "metadata": {},
   "outputs": [
    {
     "data": {
      "text/plain": [
       "array([[2.07950000e+04],\n",
       "       [4.31553000e+05],\n",
       "       [9.18289300e+06],\n",
       "       [1.98928275e+08]])"
      ]
     },
     "execution_count": 76,
     "metadata": {},
     "output_type": "execute_result"
    }
   ],
   "source": [
    "g = y.sum()\n",
    "h = (x*y).sum()\n",
    "i = ((x**2)*y).sum()\n",
    "j = ((x**3)*y).sum()\n",
    "B = np.array(([g],\n",
    "    [h],\n",
    "    [i],\n",
    "    [j]))\n",
    "B"
   ]
  },
  {
   "cell_type": "markdown",
   "metadata": {},
   "source": [
    "**Invers matriks sisi kiri**"
   ]
  },
  {
   "cell_type": "code",
   "execution_count": 77,
   "metadata": {},
   "outputs": [
    {
     "data": {
      "text/plain": [
       "array([[ 9.26877470e-01, -2.82718489e-01,  2.30566535e-02,\n",
       "        -5.48967940e-04],\n",
       "       [-2.82718489e-01,  1.06747207e-01, -9.54828853e-03,\n",
       "         2.39418838e-04],\n",
       "       [ 2.30566535e-02, -9.54828853e-03,  9.02559598e-04,\n",
       "        -2.34601684e-05],\n",
       "       [-5.48967940e-04,  2.39418838e-04, -2.34601684e-05,\n",
       "         6.25604490e-07]])"
      ]
     },
     "execution_count": 77,
     "metadata": {},
     "output_type": "execute_result"
    }
   ],
   "source": [
    "Ainv = np.linalg.inv(A)\n",
    "Ainv"
   ]
  },
  {
   "cell_type": "markdown",
   "metadata": {},
   "source": [
    "**Mencari nilai a0, a1, a2, dst dengan a = (A^-1)B namun di sini variabel a diganti dengan Y**"
   ]
  },
  {
   "cell_type": "code",
   "execution_count": 78,
   "metadata": {},
   "outputs": [
    {
     "name": "stdout",
     "output_type": "stream",
     "text": [
      "[[-212.05862978]\n",
      " [ 134.21103078]\n",
      " [ -19.91206434]\n",
      " [   0.9243357 ]]\n"
     ]
    }
   ],
   "source": [
    "Y = Ainv.dot(B)\n",
    "print(Y)"
   ]
  },
  {
   "cell_type": "code",
   "execution_count": 79,
   "metadata": {},
   "outputs": [],
   "source": [
    "a0 = Y[0,0]\n",
    "a1 = Y[1,0]\n",
    "a2 = Y[2,0]\n",
    "a3 = Y[3,0]"
   ]
  },
  {
   "cell_type": "markdown",
   "metadata": {},
   "source": [
    "**Hasil persamaan regresi polinomial**"
   ]
  },
  {
   "cell_type": "code",
   "execution_count": 80,
   "metadata": {},
   "outputs": [
    {
     "name": "stdout",
     "output_type": "stream",
     "text": [
      "y = 0.9243x^3 + -19.9121X^2 + 134.2110x + -212.0586\n"
     ]
    }
   ],
   "source": [
    "print('y = {:.4f}x^3 + {:.4f}X^2 + {:.4f}x + {:.4f}'.format(a3, a2, a1, a0))"
   ]
  },
  {
   "cell_type": "code",
   "execution_count": 81,
   "metadata": {},
   "outputs": [
    {
     "data": {
      "text/plain": [
       "array([1.000e+00, 2.000e+00, 3.000e+00, 8.000e+00, 1.000e+01, 1.700e+01,\n",
       "       3.000e+01, 3.600e+01, 5.500e+01, 8.600e+01, 1.330e+02, 1.960e+02,\n",
       "       2.940e+02, 3.420e+02, 5.330e+02, 6.380e+02, 8.310e+02, 1.093e+03,\n",
       "       1.381e+03, 1.772e+03, 2.331e+03, 2.991e+03, 3.647e+03, 4.365e+03])"
      ]
     },
     "execution_count": 81,
     "metadata": {},
     "output_type": "execute_result"
    }
   ],
   "source": [
    "y"
   ]
  },
  {
   "cell_type": "markdown",
   "metadata": {},
   "source": [
    "**Koefisien Korelasi ( r ) dan Derajat Kesesuaian ( R ) r-square**"
   ]
  },
  {
   "cell_type": "code",
   "execution_count": 82,
   "metadata": {},
   "outputs": [
    {
     "name": "stdout",
     "output_type": "stream",
     "text": [
      "r = 0.9987 dan r^2 = 0.9742\n"
     ]
    }
   ],
   "source": [
    "yDt = (y-y.mean())**2\n",
    "yD = (y-a0-a1*x-a2*(x**2)-a3*(x**3))**2\n",
    "r = np.sqrt((yDt.sum()-yD.sum())/yDt.sum())\n",
    "R2 = r**2\n",
    "print('r = {:.4f} dan r^2 = {:.4f}'.format(r,r2))"
   ]
  },
  {
   "cell_type": "markdown",
   "metadata": {},
   "source": [
    "**Plot**"
   ]
  },
  {
   "cell_type": "code",
   "execution_count": 83,
   "metadata": {},
   "outputs": [
    {
     "data": {
      "text/plain": [
       "Text(0, 0.5, 'y')"
      ]
     },
     "execution_count": 83,
     "metadata": {},
     "output_type": "execute_result"
    },
    {
     "data": {
      "image/png": "[encoded data removed]",
      "text/plain": [
       "<Figure size 432x288 with 1 Axes>"
      ]
     },
     "metadata": {
      "needs_background": "light"
     },
     "output_type": "display_data"
    }
   ],
   "source": [
    "xreg = np.array(range(0,int((x[-1]+0.5)*10)))\n",
    "xreg = xreg/10\n",
    "yreg = a0 + a1*xreg + a2*(xreg**2) + a3*(xreg**3)\n",
    "ax = plt.plot(x,y,'ro')\n",
    "plt.plot(xreg,yreg,'b')\n",
    "plt.grid()\n",
    "plt.xlabel('x')\n",
    "plt.ylabel('y')"
   ]
  },
  {
   "cell_type": "markdown",
   "metadata": {},
   "source": [
    "**Perbandingan jika memakai polyfit dengan derajat dinaikkan**"
   ]
  },
  {
   "cell_type": "code",
   "execution_count": 84,
   "metadata": {},
   "outputs": [
    {
     "data": {
      "image/png": "[encoded data removed]",
      "text/plain": [
       "<Figure size 432x288 with 1 Axes>"
      ]
     },
     "metadata": {
      "needs_background": "light"
     },
     "output_type": "display_data"
    }
   ],
   "source": [
    "regpoly = np.poly1d(np.polyfit(x, y, 5))\n",
    "\n",
    "myline = np.linspace(1, len(y), 100)\n",
    "\n",
    "plt.scatter(x, y)\n",
    "plt.plot(myline, regpoly(myline), linewidth=3, color='r')\n",
    "plt.show()"
   ]
  },
  {
   "cell_type": "code",
   "execution_count": 85,
   "metadata": {},
   "outputs": [
    {
     "name": "stdout",
     "output_type": "stream",
     "text": [
      "            5           4         3         2\n",
      "-0.0003867 x + 0.05894 x - 1.357 x + 13.69 x - 51.37 x + 53.91\n"
     ]
    }
   ],
   "source": [
    "print (regpoly)"
   ]
  },
  {
   "cell_type": "code",
   "execution_count": 86,
   "metadata": {},
   "outputs": [
    {
     "name": "stdout",
     "output_type": "stream",
     "text": [
      "0.9993178437803848\n"
     ]
    }
   ],
   "source": [
    "print(r2_score(y, regpoly(x)))"
   ]
  },
  {
   "cell_type": "markdown",
   "metadata": {},
   "source": [
    "**Selesai**"
   ]
  }
 ],
 "metadata": {
  "kernelspec": {
   "display_name": "Python 3",
   "language": "python",
   "name": "python3"
  },
  "language_info": {
   "codemirror_mode": {
    "name": "ipython",
    "version": 3
   },
   "file_extension": ".py",
   "mimetype": "text/x-python",
   "name": "python",
   "nbconvert_exporter": "python",
   "pygments_lexer": "ipython3",
   "version": "3.7.6"
  },
  "toc": {
   "base_numbering": 1,
   "nav_menu": {},
   "number_sections": true,
   "sideBar": true,
   "skip_h1_title": false,
   "title_cell": "Table of Contents",
   "title_sidebar": "Contents",
   "toc_cell": false,
   "toc_position": {},
   "toc_section_display": true,
   "toc_window_display": true
  }
 },
 "nbformat": 4,
 "nbformat_minor": 4
}
