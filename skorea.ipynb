{
 "cells": [
  {
   "cell_type": "markdown",
   "metadata": {},
   "source": [
    "# South Korea (Korea Selatan)"
   ]
  },
  {
   "cell_type": "markdown",
   "metadata": {},
   "source": [
    "## Basic Data (Import and Visualization)"
   ]
  },
  {
   "cell_type": "markdown",
   "metadata": {},
   "source": [
    "### Start (Importing Libraries)"
   ]
  },
  {
   "cell_type": "code",
   "execution_count": 1,
   "metadata": {},
   "outputs": [],
   "source": [
    "import matplotlib.pyplot as plt\n",
    "import numpy as np\n",
    "import pandas as pd\n",
    "import seaborn as sns\n",
    "from sklearn.metrics import r2_score\n",
    "%matplotlib inline"
   ]
  },
  {
   "cell_type": "markdown",
   "metadata": {},
   "source": [
    "### Read data and Plotting"
   ]
  },
  {
   "cell_type": "code",
   "execution_count": 2,
   "metadata": {},
   "outputs": [
    {
     "data": {
      "text/plain": [
       "pandas.core.frame.DataFrame"
      ]
     },
     "execution_count": 2,
     "metadata": {},
     "output_type": "execute_result"
    }
   ],
   "source": [
    "df = pd.read_csv('/Users/abdul/Documents/Academics/Metnum/UTS/dataset/csv/skorea.csv')\n",
    "type(df)"
   ]
  },
  {
   "cell_type": "code",
   "execution_count": 3,
   "metadata": {},
   "outputs": [
    {
     "data": {
      "text/plain": [
       "(41, 5)"
      ]
     },
     "execution_count": 3,
     "metadata": {},
     "output_type": "execute_result"
    }
   ],
   "source": [
    "df.shape"
   ]
  },
  {
   "cell_type": "code",
   "execution_count": 4,
   "metadata": {},
   "outputs": [],
   "source": [
    "df.columns\n",
    "df['Date'] = pd.to_datetime(df['Date'])\n",
    "df.set_index('Date', inplace=True)"
   ]
  },
  {
   "cell_type": "code",
   "execution_count": 5,
   "metadata": {},
   "outputs": [
    {
     "data": {
      "text/html": [
       "<div>\n",
       "<style scoped>\n",
       "    .dataframe tbody tr th:only-of-type {\n",
       "        vertical-align: middle;\n",
       "    }\n",
       "\n",
       "    .dataframe tbody tr th {\n",
       "        vertical-align: top;\n",
       "    }\n",
       "\n",
       "    .dataframe thead th {\n",
       "        text-align: right;\n",
       "    }\n",
       "</style>\n",
       "<table border=\"1\" class=\"dataframe\">\n",
       "  <thead>\n",
       "    <tr style=\"text-align: right;\">\n",
       "      <th></th>\n",
       "      <th>Confirmed</th>\n",
       "      <th>New</th>\n",
       "      <th>Deaths</th>\n",
       "      <th>Active</th>\n",
       "    </tr>\n",
       "    <tr>\n",
       "      <th>Date</th>\n",
       "      <th></th>\n",
       "      <th></th>\n",
       "      <th></th>\n",
       "      <th></th>\n",
       "    </tr>\n",
       "  </thead>\n",
       "  <tbody>\n",
       "    <tr>\n",
       "      <th>2020-02-15</th>\n",
       "      <td>28</td>\n",
       "      <td>0</td>\n",
       "      <td>0</td>\n",
       "      <td>19</td>\n",
       "    </tr>\n",
       "    <tr>\n",
       "      <th>2020-02-16</th>\n",
       "      <td>29</td>\n",
       "      <td>1</td>\n",
       "      <td>0</td>\n",
       "      <td>20</td>\n",
       "    </tr>\n",
       "    <tr>\n",
       "      <th>2020-02-17</th>\n",
       "      <td>30</td>\n",
       "      <td>1</td>\n",
       "      <td>0</td>\n",
       "      <td>20</td>\n",
       "    </tr>\n",
       "    <tr>\n",
       "      <th>2020-02-18</th>\n",
       "      <td>31</td>\n",
       "      <td>1</td>\n",
       "      <td>0</td>\n",
       "      <td>19</td>\n",
       "    </tr>\n",
       "    <tr>\n",
       "      <th>2020-02-19</th>\n",
       "      <td>58</td>\n",
       "      <td>27</td>\n",
       "      <td>0</td>\n",
       "      <td>42</td>\n",
       "    </tr>\n",
       "    <tr>\n",
       "      <th>2020-02-20</th>\n",
       "      <td>111</td>\n",
       "      <td>53</td>\n",
       "      <td>1</td>\n",
       "      <td>94</td>\n",
       "    </tr>\n",
       "    <tr>\n",
       "      <th>2020-02-21</th>\n",
       "      <td>209</td>\n",
       "      <td>98</td>\n",
       "      <td>2</td>\n",
       "      <td>190</td>\n",
       "    </tr>\n",
       "    <tr>\n",
       "      <th>2020-02-22</th>\n",
       "      <td>436</td>\n",
       "      <td>227</td>\n",
       "      <td>2</td>\n",
       "      <td>416</td>\n",
       "    </tr>\n",
       "    <tr>\n",
       "      <th>2020-02-23</th>\n",
       "      <td>602</td>\n",
       "      <td>166</td>\n",
       "      <td>6</td>\n",
       "      <td>578</td>\n",
       "    </tr>\n",
       "    <tr>\n",
       "      <th>2020-02-24</th>\n",
       "      <td>833</td>\n",
       "      <td>231</td>\n",
       "      <td>8</td>\n",
       "      <td>803</td>\n",
       "    </tr>\n",
       "    <tr>\n",
       "      <th>2020-02-25</th>\n",
       "      <td>977</td>\n",
       "      <td>144</td>\n",
       "      <td>11</td>\n",
       "      <td>944</td>\n",
       "    </tr>\n",
       "    <tr>\n",
       "      <th>2020-02-26</th>\n",
       "      <td>1261</td>\n",
       "      <td>284</td>\n",
       "      <td>12</td>\n",
       "      <td>1225</td>\n",
       "    </tr>\n",
       "    <tr>\n",
       "      <th>2020-02-27</th>\n",
       "      <td>1766</td>\n",
       "      <td>505</td>\n",
       "      <td>13</td>\n",
       "      <td>1729</td>\n",
       "    </tr>\n",
       "    <tr>\n",
       "      <th>2020-02-28</th>\n",
       "      <td>2337</td>\n",
       "      <td>571</td>\n",
       "      <td>16</td>\n",
       "      <td>2297</td>\n",
       "    </tr>\n",
       "    <tr>\n",
       "      <th>2020-02-29</th>\n",
       "      <td>3150</td>\n",
       "      <td>813</td>\n",
       "      <td>17</td>\n",
       "      <td>3109</td>\n",
       "    </tr>\n",
       "    <tr>\n",
       "      <th>2020-03-01</th>\n",
       "      <td>3736</td>\n",
       "      <td>586</td>\n",
       "      <td>21</td>\n",
       "      <td>3685</td>\n",
       "    </tr>\n",
       "    <tr>\n",
       "      <th>2020-03-02</th>\n",
       "      <td>4335</td>\n",
       "      <td>599</td>\n",
       "      <td>28</td>\n",
       "      <td>4277</td>\n",
       "    </tr>\n",
       "    <tr>\n",
       "      <th>2020-03-03</th>\n",
       "      <td>5186</td>\n",
       "      <td>851</td>\n",
       "      <td>32</td>\n",
       "      <td>5120</td>\n",
       "    </tr>\n",
       "    <tr>\n",
       "      <th>2020-03-04</th>\n",
       "      <td>5621</td>\n",
       "      <td>435</td>\n",
       "      <td>35</td>\n",
       "      <td>5498</td>\n",
       "    </tr>\n",
       "    <tr>\n",
       "      <th>2020-03-05</th>\n",
       "      <td>6284</td>\n",
       "      <td>663</td>\n",
       "      <td>42</td>\n",
       "      <td>6107</td>\n",
       "    </tr>\n",
       "    <tr>\n",
       "      <th>2020-03-06</th>\n",
       "      <td>6593</td>\n",
       "      <td>309</td>\n",
       "      <td>43</td>\n",
       "      <td>6415</td>\n",
       "    </tr>\n",
       "    <tr>\n",
       "      <th>2020-03-07</th>\n",
       "      <td>7041</td>\n",
       "      <td>448</td>\n",
       "      <td>48</td>\n",
       "      <td>6875</td>\n",
       "    </tr>\n",
       "    <tr>\n",
       "      <th>2020-03-08</th>\n",
       "      <td>7313</td>\n",
       "      <td>272</td>\n",
       "      <td>50</td>\n",
       "      <td>7079</td>\n",
       "    </tr>\n",
       "    <tr>\n",
       "      <th>2020-03-09</th>\n",
       "      <td>7478</td>\n",
       "      <td>165</td>\n",
       "      <td>53</td>\n",
       "      <td>7178</td>\n",
       "    </tr>\n",
       "    <tr>\n",
       "      <th>2020-03-10</th>\n",
       "      <td>7513</td>\n",
       "      <td>35</td>\n",
       "      <td>60</td>\n",
       "      <td>7165</td>\n",
       "    </tr>\n",
       "    <tr>\n",
       "      <th>2020-03-11</th>\n",
       "      <td>7755</td>\n",
       "      <td>242</td>\n",
       "      <td>60</td>\n",
       "      <td>7362</td>\n",
       "    </tr>\n",
       "    <tr>\n",
       "      <th>2020-03-12</th>\n",
       "      <td>7869</td>\n",
       "      <td>114</td>\n",
       "      <td>66</td>\n",
       "      <td>7293</td>\n",
       "    </tr>\n",
       "    <tr>\n",
       "      <th>2020-03-13</th>\n",
       "      <td>7979</td>\n",
       "      <td>110</td>\n",
       "      <td>67</td>\n",
       "      <td>7198</td>\n",
       "    </tr>\n",
       "    <tr>\n",
       "      <th>2020-03-14</th>\n",
       "      <td>8086</td>\n",
       "      <td>107</td>\n",
       "      <td>72</td>\n",
       "      <td>7180</td>\n",
       "    </tr>\n",
       "    <tr>\n",
       "      <th>2020-03-15</th>\n",
       "      <td>8162</td>\n",
       "      <td>76</td>\n",
       "      <td>75</td>\n",
       "      <td>7253</td>\n",
       "    </tr>\n",
       "    <tr>\n",
       "      <th>2020-03-16</th>\n",
       "      <td>8236</td>\n",
       "      <td>74</td>\n",
       "      <td>75</td>\n",
       "      <td>7024</td>\n",
       "    </tr>\n",
       "    <tr>\n",
       "      <th>2020-03-17</th>\n",
       "      <td>8320</td>\n",
       "      <td>84</td>\n",
       "      <td>81</td>\n",
       "      <td>6838</td>\n",
       "    </tr>\n",
       "    <tr>\n",
       "      <th>2020-03-18</th>\n",
       "      <td>8413</td>\n",
       "      <td>93</td>\n",
       "      <td>84</td>\n",
       "      <td>6789</td>\n",
       "    </tr>\n",
       "    <tr>\n",
       "      <th>2020-03-19</th>\n",
       "      <td>8565</td>\n",
       "      <td>152</td>\n",
       "      <td>91</td>\n",
       "      <td>6527</td>\n",
       "    </tr>\n",
       "    <tr>\n",
       "      <th>2020-03-20</th>\n",
       "      <td>8652</td>\n",
       "      <td>87</td>\n",
       "      <td>94</td>\n",
       "      <td>6325</td>\n",
       "    </tr>\n",
       "    <tr>\n",
       "      <th>2020-03-21</th>\n",
       "      <td>8799</td>\n",
       "      <td>147</td>\n",
       "      <td>102</td>\n",
       "      <td>6085</td>\n",
       "    </tr>\n",
       "    <tr>\n",
       "      <th>2020-03-22</th>\n",
       "      <td>8897</td>\n",
       "      <td>98</td>\n",
       "      <td>104</td>\n",
       "      <td>5884</td>\n",
       "    </tr>\n",
       "    <tr>\n",
       "      <th>2020-03-23</th>\n",
       "      <td>8961</td>\n",
       "      <td>64</td>\n",
       "      <td>111</td>\n",
       "      <td>5684</td>\n",
       "    </tr>\n",
       "    <tr>\n",
       "      <th>2020-03-24</th>\n",
       "      <td>9037</td>\n",
       "      <td>76</td>\n",
       "      <td>120</td>\n",
       "      <td>5410</td>\n",
       "    </tr>\n",
       "    <tr>\n",
       "      <th>2020-03-25</th>\n",
       "      <td>9137</td>\n",
       "      <td>100</td>\n",
       "      <td>126</td>\n",
       "      <td>5281</td>\n",
       "    </tr>\n",
       "    <tr>\n",
       "      <th>2020-03-26</th>\n",
       "      <td>9241</td>\n",
       "      <td>104</td>\n",
       "      <td>131</td>\n",
       "      <td>4966</td>\n",
       "    </tr>\n",
       "  </tbody>\n",
       "</table>\n",
       "</div>"
      ],
      "text/plain": [
       "            Confirmed  New  Deaths  Active\n",
       "Date                                      \n",
       "2020-02-15         28    0       0      19\n",
       "2020-02-16         29    1       0      20\n",
       "2020-02-17         30    1       0      20\n",
       "2020-02-18         31    1       0      19\n",
       "2020-02-19         58   27       0      42\n",
       "2020-02-20        111   53       1      94\n",
       "2020-02-21        209   98       2     190\n",
       "2020-02-22        436  227       2     416\n",
       "2020-02-23        602  166       6     578\n",
       "2020-02-24        833  231       8     803\n",
       "2020-02-25        977  144      11     944\n",
       "2020-02-26       1261  284      12    1225\n",
       "2020-02-27       1766  505      13    1729\n",
       "2020-02-28       2337  571      16    2297\n",
       "2020-02-29       3150  813      17    3109\n",
       "2020-03-01       3736  586      21    3685\n",
       "2020-03-02       4335  599      28    4277\n",
       "2020-03-03       5186  851      32    5120\n",
       "2020-03-04       5621  435      35    5498\n",
       "2020-03-05       6284  663      42    6107\n",
       "2020-03-06       6593  309      43    6415\n",
       "2020-03-07       7041  448      48    6875\n",
       "2020-03-08       7313  272      50    7079\n",
       "2020-03-09       7478  165      53    7178\n",
       "2020-03-10       7513   35      60    7165\n",
       "2020-03-11       7755  242      60    7362\n",
       "2020-03-12       7869  114      66    7293\n",
       "2020-03-13       7979  110      67    7198\n",
       "2020-03-14       8086  107      72    7180\n",
       "2020-03-15       8162   76      75    7253\n",
       "2020-03-16       8236   74      75    7024\n",
       "2020-03-17       8320   84      81    6838\n",
       "2020-03-18       8413   93      84    6789\n",
       "2020-03-19       8565  152      91    6527\n",
       "2020-03-20       8652   87      94    6325\n",
       "2020-03-21       8799  147     102    6085\n",
       "2020-03-22       8897   98     104    5884\n",
       "2020-03-23       8961   64     111    5684\n",
       "2020-03-24       9037   76     120    5410\n",
       "2020-03-25       9137  100     126    5281\n",
       "2020-03-26       9241  104     131    4966"
      ]
     },
     "execution_count": 5,
     "metadata": {},
     "output_type": "execute_result"
    }
   ],
   "source": [
    "df"
   ]
  },
  {
   "cell_type": "code",
   "execution_count": 6,
   "metadata": {},
   "outputs": [
    {
     "data": {
      "text/plain": [
       "<matplotlib.axes._subplots.AxesSubplot at 0x250c76f24c8>"
      ]
     },
     "execution_count": 6,
     "metadata": {},
     "output_type": "execute_result"
    },
    {
     "data": {
      "image/png": "[encoded data removed]",
      "text/plain": [
       "<Figure size 1080x288 with 1 Axes>"
      ]
     },
     "metadata": {
      "needs_background": "light"
     },
     "output_type": "display_data"
    }
   ],
   "source": [
    "df.plot.area(y=[\"Active\", \"Confirmed\", \"Deaths\", \"New\"], figsize=(15,4), alpha=0.4, subplots=False, stacked=False)"
   ]
  },
  {
   "cell_type": "code",
   "execution_count": 7,
   "metadata": {},
   "outputs": [
    {
     "data": {
      "image/png": "[encoded data removed]",
      "text/plain": [
       "<Figure size 432x288 with 2 Axes>"
      ]
     },
     "metadata": {
      "needs_background": "light"
     },
     "output_type": "display_data"
    }
   ],
   "source": [
    "fig, ax = plt.subplots()\n",
    "ax2 = ax.twinx()\n",
    "ax.bar(df.index, df[\"Confirmed\"], color=(190/255,190/255,190/255,0.7), label='Confirmed')\n",
    "ax2.plot(df.index, df[\"Active\"], color='green', label='Active')\n",
    "ax.set_xticklabels(df.index)\n",
    "ax.legend(loc='best')\n",
    "ax2.legend(loc='best')\n",
    "ax.xaxis.grid(True)\n",
    "ax.yaxis.grid(True)\n",
    "ax.set_title('Banyak kasus aktif dibanding dengan total kasus')\n",
    "fig.autofmt_xdate()"
   ]
  },
  {
   "cell_type": "code",
   "execution_count": 8,
   "metadata": {},
   "outputs": [
    {
     "data": {
      "image/png": "[encoded data removed]",
      "text/plain": [
       "<Figure size 432x288 with 2 Axes>"
      ]
     },
     "metadata": {
      "needs_background": "light"
     },
     "output_type": "display_data"
    }
   ],
   "source": [
    "fig, ax3 = plt.subplots()\n",
    "ax4 = ax3.twinx()\n",
    "ax3.bar(df.index, df[\"New\"], color=(190/255,190/255,190/255,0.7), label='New')\n",
    "ax4.plot(df.index, df[\"Deaths\"], color='red', label='Deaths')\n",
    "ax3.set_xticklabels(df.index)\n",
    "ax3.legend(loc='best')\n",
    "ax4.legend(loc='best')\n",
    "ax3.xaxis.grid(True)\n",
    "ax4.yaxis.grid(True)\n",
    "ax3.set_title('Banyak kasus kematian dibanding dengan kasus baru')\n",
    "fig.autofmt_xdate()"
   ]
  },
  {
   "cell_type": "markdown",
   "metadata": {},
   "source": [
    "## Regressions"
   ]
  },
  {
   "cell_type": "markdown",
   "metadata": {},
   "source": [
    "### Active (Tren Naik)"
   ]
  },
  {
   "cell_type": "markdown",
   "metadata": {},
   "source": [
    "- Start: 15-Feb-2020\n",
    "- End: 11-Mar-2020\n",
    "- Range: 41 Days"
   ]
  },
  {
   "cell_type": "markdown",
   "metadata": {},
   "source": [
    "**Data**"
   ]
  },
  {
   "cell_type": "code",
   "execution_count": 9,
   "metadata": {},
   "outputs": [
    {
     "data": {
      "text/plain": [
       "array([  19.,   20.,   20.,   19.,   42.,   94.,  190.,  416.,  578.,\n",
       "        803.,  944., 1225., 1729., 2297., 3109., 3685., 4277., 5120.,\n",
       "       5498., 6107., 6415., 6875., 7079., 7178., 7165., 7362.])"
      ]
     },
     "execution_count": 9,
     "metadata": {},
     "output_type": "execute_result"
    }
   ],
   "source": [
    "y = np.array ((19, 20, 20, 19, 42, 94, 190, 416, 578, 803, 944, 1225, 1729, 2297, 3109, 3685, 4277, 5120, 5498, 6107, 6415, 6875, 7079, 7178, 7165, 7362))\n",
    "y = y.astype('float64')\n",
    "y"
   ]
  },
  {
   "cell_type": "code",
   "execution_count": 10,
   "metadata": {},
   "outputs": [
    {
     "data": {
      "text/plain": [
       "array([ 1.,  2.,  3.,  4.,  5.,  6.,  7.,  8.,  9., 10., 11., 12., 13.,\n",
       "       14., 15., 16., 17., 18., 19., 20., 21., 22., 23., 24., 25., 26.])"
      ]
     },
     "execution_count": 10,
     "metadata": {},
     "output_type": "execute_result"
    }
   ],
   "source": [
    "x = np.array((range(1,1+len(y))))\n",
    "x = x.astype('float64')\n",
    "x"
   ]
  },
  {
   "cell_type": "markdown",
   "metadata": {},
   "source": [
    "**Plot**"
   ]
  },
  {
   "cell_type": "code",
   "execution_count": 11,
   "metadata": {},
   "outputs": [
    {
     "data": {
      "text/plain": [
       "Text(0, 0.5, 'y-jumlah orang')"
      ]
     },
     "execution_count": 11,
     "metadata": {},
     "output_type": "execute_result"
    },
    {
     "data": {
      "image/png": "[encoded data removed]",
      "text/plain": [
       "<Figure size 432x288 with 1 Axes>"
      ]
     },
     "metadata": {
      "needs_background": "light"
     },
     "output_type": "display_data"
    }
   ],
   "source": [
    "ax = plt.plot(x,y,'ro')\n",
    "plt.grid()\n",
    "plt.xlabel('x-hari')\n",
    "plt.ylabel('y-jumlah orang')"
   ]
  },
  {
   "cell_type": "markdown",
   "metadata": {},
   "source": [
    "#### Regresi Berpangkat"
   ]
  },
  {
   "cell_type": "markdown",
   "metadata": {},
   "source": [
    "**Data**"
   ]
  },
  {
   "cell_type": "code",
   "execution_count": 12,
   "metadata": {},
   "outputs": [
    {
     "data": {
      "text/plain": [
       "array([  19.,   20.,   20.,   19.,   42.,   94.,  190.,  416.,  578.,\n",
       "        803.,  944., 1225., 1729., 2297., 3109., 3685., 4277., 5120.,\n",
       "       5498., 6107., 6415., 6875., 7079., 7178., 7165., 7362.])"
      ]
     },
     "execution_count": 12,
     "metadata": {},
     "output_type": "execute_result"
    }
   ],
   "source": [
    "y = np.array ((19, 20, 20, 19, 42, 94, 190, 416, 578, 803, 944, 1225, 1729, 2297, 3109, 3685, 4277, 5120, 5498, 6107, 6415, 6875, 7079, 7178, 7165, 7362))\n",
    "y = y.astype('float64')\n",
    "y"
   ]
  },
  {
   "cell_type": "code",
   "execution_count": 13,
   "metadata": {},
   "outputs": [
    {
     "data": {
      "text/plain": [
       "array([ 1.,  2.,  3.,  4.,  5.,  6.,  7.,  8.,  9., 10., 11., 12., 13.,\n",
       "       14., 15., 16., 17., 18., 19., 20., 21., 22., 23., 24., 25., 26.])"
      ]
     },
     "execution_count": 13,
     "metadata": {},
     "output_type": "execute_result"
    }
   ],
   "source": [
    "x = np.array((range(1,1+len(y))))\n",
    "x = x.astype('float64')\n",
    "x"
   ]
  },
  {
   "attachments": {
    "image.png": {
     "image/png": "[encoded data removed]"
    }
   },
   "cell_type": "markdown",
   "metadata": {},
   "source": [
    "![image.png](attachment:image.png)"
   ]
  },
  {
   "cell_type": "markdown",
   "metadata": {},
   "source": [
    "**Membuat xreg untuk plotting selanjutnya**"
   ]
  },
  {
   "cell_type": "code",
   "execution_count": 14,
   "metadata": {},
   "outputs": [
    {
     "data": {
      "text/plain": [
       "array([ 1. ,  1.1,  1.2,  1.3,  1.4,  1.5,  1.6,  1.7,  1.8,  1.9,  2. ,\n",
       "        2.1,  2.2,  2.3,  2.4,  2.5,  2.6,  2.7,  2.8,  2.9,  3. ,  3.1,\n",
       "        3.2,  3.3,  3.4,  3.5,  3.6,  3.7,  3.8,  3.9,  4. ,  4.1,  4.2,\n",
       "        4.3,  4.4,  4.5,  4.6,  4.7,  4.8,  4.9,  5. ,  5.1,  5.2,  5.3,\n",
       "        5.4,  5.5,  5.6,  5.7,  5.8,  5.9,  6. ,  6.1,  6.2,  6.3,  6.4,\n",
       "        6.5,  6.6,  6.7,  6.8,  6.9,  7. ,  7.1,  7.2,  7.3,  7.4,  7.5,\n",
       "        7.6,  7.7,  7.8,  7.9,  8. ,  8.1,  8.2,  8.3,  8.4,  8.5,  8.6,\n",
       "        8.7,  8.8,  8.9,  9. ,  9.1,  9.2,  9.3,  9.4,  9.5,  9.6,  9.7,\n",
       "        9.8,  9.9, 10. , 10.1, 10.2, 10.3, 10.4, 10.5, 10.6, 10.7, 10.8,\n",
       "       10.9, 11. , 11.1, 11.2, 11.3, 11.4, 11.5, 11.6, 11.7, 11.8, 11.9,\n",
       "       12. , 12.1, 12.2, 12.3, 12.4, 12.5, 12.6, 12.7, 12.8, 12.9, 13. ,\n",
       "       13.1, 13.2, 13.3, 13.4, 13.5, 13.6, 13.7, 13.8, 13.9, 14. , 14.1,\n",
       "       14.2, 14.3, 14.4, 14.5, 14.6, 14.7, 14.8, 14.9, 15. , 15.1, 15.2,\n",
       "       15.3, 15.4, 15.5, 15.6, 15.7, 15.8, 15.9, 16. , 16.1, 16.2, 16.3,\n",
       "       16.4, 16.5, 16.6, 16.7, 16.8, 16.9, 17. , 17.1, 17.2, 17.3, 17.4,\n",
       "       17.5, 17.6, 17.7, 17.8, 17.9, 18. , 18.1, 18.2, 18.3, 18.4, 18.5,\n",
       "       18.6, 18.7, 18.8, 18.9, 19. , 19.1, 19.2, 19.3, 19.4, 19.5, 19.6,\n",
       "       19.7, 19.8, 19.9, 20. , 20.1, 20.2, 20.3, 20.4, 20.5, 20.6, 20.7,\n",
       "       20.8, 20.9, 21. , 21.1, 21.2, 21.3, 21.4, 21.5, 21.6, 21.7, 21.8,\n",
       "       21.9, 22. , 22.1, 22.2, 22.3, 22.4, 22.5, 22.6, 22.7, 22.8, 22.9,\n",
       "       23. , 23.1, 23.2, 23.3, 23.4, 23.5, 23.6, 23.7, 23.8, 23.9, 24. ,\n",
       "       24.1, 24.2, 24.3, 24.4, 24.5, 24.6, 24.7, 24.8, 24.9, 25. , 25.1,\n",
       "       25.2, 25.3, 25.4, 25.5, 25.6, 25.7, 25.8, 25.9, 26. , 26.1, 26.2,\n",
       "       26.3, 26.4, 26.5, 26.6, 26.7, 26.8, 26.9])"
      ]
     },
     "execution_count": 14,
     "metadata": {},
     "output_type": "execute_result"
    }
   ],
   "source": [
    "#membuat xreg\n",
    "xreg = np.array(range(10,int((x[-1]+1)*10)))\n",
    "xreg = xreg/10 #memperhalus bentuk garis\n",
    "xreg = xreg.astype('float64')\n",
    "xreg"
   ]
  },
  {
   "cell_type": "markdown",
   "metadata": {},
   "source": [
    "**Regresi berpangkat**"
   ]
  },
  {
   "attachments": {
    "image.png": {
     "image/png": "[encoded data removed]"
    }
   },
   "cell_type": "markdown",
   "metadata": {},
   "source": [
    "![image.png](attachment:image.png)"
   ]
  },
  {
   "attachments": {
    "image.png": {
     "image/png": "[encoded data removed]"
    }
   },
   "cell_type": "markdown",
   "metadata": {},
   "source": [
    "![image.png](attachment:image.png)"
   ]
  },
  {
   "attachments": {
    "image.png": {
     "image/png": "[encoded data removed]"
    }
   },
   "cell_type": "markdown",
   "metadata": {},
   "source": [
    "![image.png](attachment:image.png)"
   ]
  },
  {
   "cell_type": "code",
   "execution_count": 15,
   "metadata": {},
   "outputs": [],
   "source": [
    "p = np.log10(y)\n",
    "q = np.log10(x)"
   ]
  },
  {
   "cell_type": "markdown",
   "metadata": {},
   "source": [
    "**Hitung regresi linear**"
   ]
  },
  {
   "cell_type": "code",
   "execution_count": 16,
   "metadata": {},
   "outputs": [],
   "source": [
    "n = len(y)\n",
    "pq = p*q\n",
    "qq = q**2\n",
    "B = (n*pq.sum() - q.sum()*p.sum())/(n*qq.sum() - (q.sum())**2)\n",
    "A = p.mean()-B*q.mean()"
   ]
  },
  {
   "cell_type": "markdown",
   "metadata": {},
   "source": [
    "**Hasil regresi linear**"
   ]
  },
  {
   "cell_type": "code",
   "execution_count": 17,
   "metadata": {},
   "outputs": [
    {
     "name": "stdout",
     "output_type": "stream",
     "text": [
      "p = 2.4908q + 0.4120\n"
     ]
    }
   ],
   "source": [
    "if A>0 :\n",
    "    print (\"p = {:.4f}q + {:.4f}\". format(B,A))\n",
    "else :\n",
    "    print (\"p = {:.4f}q {:.4f}\". format(B,A))"
   ]
  },
  {
   "cell_type": "markdown",
   "metadata": {},
   "source": [
    "**Kembalikan ke bentuk pangkat**"
   ]
  },
  {
   "cell_type": "code",
   "execution_count": 18,
   "metadata": {},
   "outputs": [
    {
     "name": "stdout",
     "output_type": "stream",
     "text": [
      "y = 2.5820x^(2.4908)\n"
     ]
    }
   ],
   "source": [
    "a = 10**A #A=log(a)\n",
    "b = B\n",
    "print (\"y = {:.4f}x^({:.4f})\".format(a,b))"
   ]
  },
  {
   "cell_type": "markdown",
   "metadata": {},
   "source": [
    "**Koefisien Korelasi ( r ) dan Derajat Kesesuaian ( R ) r-square**"
   ]
  },
  {
   "cell_type": "code",
   "execution_count": 19,
   "metadata": {},
   "outputs": [
    {
     "name": "stdout",
     "output_type": "stream",
     "text": [
      "r = 0.9563 dan r^2 = 0.9145\n"
     ]
    }
   ],
   "source": [
    "yDt = ((p - p.mean())**2).sum()\n",
    "yD = ((p - (q*B) - A)**2).sum()\n",
    "r = np.sqrt((yDt-yD)/yDt)\n",
    "r2 = r**2\n",
    "print('r = {:.4f} dan r^2 = {:.4f}'.format(r,r2))"
   ]
  },
  {
   "cell_type": "markdown",
   "metadata": {},
   "source": [
    "**Plot**"
   ]
  },
  {
   "cell_type": "code",
   "execution_count": 20,
   "metadata": {},
   "outputs": [
    {
     "data": {
      "text/plain": [
       "array([2.58199667e+00, 3.27383966e+00, 4.06613608e+00, 4.96327180e+00,\n",
       "       5.96944990e+00, 7.08871159e+00, 8.32495343e+00, 9.68194162e+00,\n",
       "       1.11633242e+01, 1.27726415e+01, 1.45133347e+01, 1.63887542e+01,\n",
       "       1.84021658e+01, 2.05567572e+01, 2.28556429e+01, 2.53018694e+01,\n",
       "       2.78984189e+01, 3.06482137e+01, 3.35541193e+01, 3.66189475e+01,\n",
       "       3.98454596e+01, 4.32363686e+01, 4.67943421e+01, 5.05220039e+01,\n",
       "       5.44219367e+01, 5.84966833e+01, 6.27487489e+01, 6.71806026e+01,\n",
       "       7.17946784e+01, 7.65933775e+01, 8.15790689e+01, 8.67540907e+01,\n",
       "       9.21207519e+01, 9.76813324e+01, 1.03438085e+02, 1.09393236e+02,\n",
       "       1.15548986e+02, 1.21907511e+02, 1.28470962e+02, 1.35241468e+02,\n",
       "       1.42221136e+02, 1.49412049e+02, 1.56816272e+02, 1.64435846e+02,\n",
       "       1.72272795e+02, 1.80329123e+02, 1.88606813e+02, 1.97107833e+02,\n",
       "       2.05834131e+02, 2.14787639e+02, 2.23970270e+02, 2.33383923e+02,\n",
       "       2.43030480e+02, 2.52911806e+02, 2.63029754e+02, 2.73386159e+02,\n",
       "       2.83982842e+02, 2.94821612e+02, 3.05904261e+02, 3.17232569e+02,\n",
       "       3.28808303e+02, 3.40633217e+02, 3.52709051e+02, 3.65037534e+02,\n",
       "       3.77620383e+02, 3.90459300e+02, 4.03555980e+02, 4.16912104e+02,\n",
       "       4.30529341e+02, 4.44409350e+02, 4.58553779e+02, 4.72964267e+02,\n",
       "       4.87642440e+02, 5.02589915e+02, 5.17808299e+02, 5.33299190e+02,\n",
       "       5.49064175e+02, 5.65104831e+02, 5.81422729e+02, 5.98019426e+02,\n",
       "       6.14896474e+02, 6.32055415e+02, 6.49497781e+02, 6.67225097e+02,\n",
       "       6.85238879e+02, 7.03540634e+02, 7.22131863e+02, 7.41014057e+02,\n",
       "       7.60188699e+02, 7.79657266e+02, 7.99421226e+02, 8.19482039e+02,\n",
       "       8.39841160e+02, 8.60500033e+02, 8.81460098e+02, 9.02722787e+02,\n",
       "       9.24289524e+02, 9.46161727e+02, 9.68340807e+02, 9.90828169e+02,\n",
       "       1.01362521e+03, 1.03673332e+03, 1.06015389e+03, 1.08388829e+03,\n",
       "       1.10793790e+03, 1.13230407e+03, 1.15698818e+03, 1.18199158e+03,\n",
       "       1.20731561e+03, 1.23296162e+03, 1.25893094e+03, 1.28522490e+03,\n",
       "       1.31184483e+03, 1.33879205e+03, 1.36606787e+03, 1.39367360e+03,\n",
       "       1.42161055e+03, 1.44988000e+03, 1.47848326e+03, 1.50742161e+03,\n",
       "       1.53669634e+03, 1.56630871e+03, 1.59626001e+03, 1.62655150e+03,\n",
       "       1.65718445e+03, 1.68816010e+03, 1.71947972e+03, 1.75114456e+03,\n",
       "       1.78315584e+03, 1.81551483e+03, 1.84822274e+03, 1.88128081e+03,\n",
       "       1.91469026e+03, 1.94845232e+03, 1.98256821e+03, 2.01703912e+03,\n",
       "       2.05186628e+03, 2.08705089e+03, 2.12259414e+03, 2.15849723e+03,\n",
       "       2.19476136e+03, 2.23138770e+03, 2.26837745e+03, 2.30573178e+03,\n",
       "       2.34345186e+03, 2.38153888e+03, 2.41999399e+03, 2.45881836e+03,\n",
       "       2.49801315e+03, 2.53757952e+03, 2.57751861e+03, 2.61783159e+03,\n",
       "       2.65851958e+03, 2.69958374e+03, 2.74102520e+03, 2.78284510e+03,\n",
       "       2.82504456e+03, 2.86762472e+03, 2.91058670e+03, 2.95393161e+03,\n",
       "       2.99766058e+03, 3.04177472e+03, 3.08627514e+03, 3.13116295e+03,\n",
       "       3.17643925e+03, 3.22210514e+03, 3.26816171e+03, 3.31461007e+03,\n",
       "       3.36145131e+03, 3.40868651e+03, 3.45631675e+03, 3.50434312e+03,\n",
       "       3.55276670e+03, 3.60158856e+03, 3.65080977e+03, 3.70043141e+03,\n",
       "       3.75045455e+03, 3.80088023e+03, 3.85170954e+03, 3.90294351e+03,\n",
       "       3.95458322e+03, 4.00662970e+03, 4.05908402e+03, 4.11194722e+03,\n",
       "       4.16522033e+03, 4.21890441e+03, 4.27300049e+03, 4.32750960e+03,\n",
       "       4.38243278e+03, 4.43777107e+03, 4.49352548e+03, 4.54969704e+03,\n",
       "       4.60628678e+03, 4.66329571e+03, 4.72072485e+03, 4.77857522e+03,\n",
       "       4.83684783e+03, 4.89554369e+03, 4.95466380e+03, 5.01420917e+03,\n",
       "       5.07418081e+03, 5.13457970e+03, 5.19540686e+03, 5.25666327e+03,\n",
       "       5.31834993e+03, 5.38046783e+03, 5.44301796e+03, 5.50600129e+03,\n",
       "       5.56941882e+03, 5.63327152e+03, 5.69756038e+03, 5.76228637e+03,\n",
       "       5.82745046e+03, 5.89305363e+03, 5.95909685e+03, 6.02558107e+03,\n",
       "       6.09250728e+03, 6.15987643e+03, 6.22768948e+03, 6.29594739e+03,\n",
       "       6.36465112e+03, 6.43380163e+03, 6.50339985e+03, 6.57344676e+03,\n",
       "       6.64394328e+03, 6.71489038e+03, 6.78628899e+03, 6.85814005e+03,\n",
       "       6.93044451e+03, 7.00320330e+03, 7.07641736e+03, 7.15008763e+03,\n",
       "       7.22421503e+03, 7.29880049e+03, 7.37384495e+03, 7.44934933e+03,\n",
       "       7.52531455e+03, 7.60174154e+03, 7.67863121e+03, 7.75598449e+03,\n",
       "       7.83380229e+03, 7.91208553e+03, 7.99083511e+03, 8.07005196e+03,\n",
       "       8.14973697e+03, 8.22989106e+03, 8.31051513e+03, 8.39161009e+03,\n",
       "       8.47317684e+03, 8.55521627e+03, 8.63772929e+03, 8.72071679e+03,\n",
       "       8.80417967e+03, 8.88811882e+03, 8.97253513e+03, 9.05742949e+03,\n",
       "       9.14280280e+03, 9.22865592e+03, 9.31498976e+03, 9.40180519e+03])"
      ]
     },
     "execution_count": 20,
     "metadata": {},
     "output_type": "execute_result"
    }
   ],
   "source": [
    "#membuat yreg\n",
    "yreg = a*(xreg**b)\n",
    "yreg\n",
    "    "
   ]
  },
  {
   "cell_type": "code",
   "execution_count": 21,
   "metadata": {},
   "outputs": [
    {
     "data": {
      "text/plain": [
       "Text(0, 0.5, 'y-banyak orang')"
      ]
     },
     "execution_count": 21,
     "metadata": {},
     "output_type": "execute_result"
    },
    {
     "data": {
      "image/png": "[encoded data removed]",
      "text/plain": [
       "<Figure size 432x288 with 1 Axes>"
      ]
     },
     "metadata": {
      "needs_background": "light"
     },
     "output_type": "display_data"
    }
   ],
   "source": [
    "ax = plt.plot(x,y,'ro')\n",
    "plt.plot(xreg,yreg,'g')\n",
    "plt.grid()\n",
    "plt.xlabel('x-hari ke')\n",
    "plt.ylabel('y-banyak orang')"
   ]
  },
  {
   "cell_type": "markdown",
   "metadata": {},
   "source": [
    "#### Regresi Eksponensial"
   ]
  },
  {
   "attachments": {
    "image.png": {
     "image/png": "[encoded data removed]"
    }
   },
   "cell_type": "markdown",
   "metadata": {},
   "source": [
    "![image.png](attachment:image.png)"
   ]
  },
  {
   "attachments": {
    "image.png": {
     "image/png": "[encoded data removed]"
    }
   },
   "cell_type": "markdown",
   "metadata": {},
   "source": [
    "![image.png](attachment:image.png)"
   ]
  },
  {
   "attachments": {
    "image.png": {
     "image/png": "[encoded data removed]"
    }
   },
   "cell_type": "markdown",
   "metadata": {},
   "source": [
    "![image.png](attachment:image.png)"
   ]
  },
  {
   "cell_type": "markdown",
   "metadata": {},
   "source": [
    "**Linearisasi**"
   ]
  },
  {
   "cell_type": "code",
   "execution_count": 22,
   "metadata": {},
   "outputs": [
    {
     "data": {
      "text/plain": [
       "array([  19.,   20.,   20.,   19.,   42.,   94.,  190.,  416.,  578.,\n",
       "        803.,  944., 1225., 1729., 2297., 3109., 3685., 4277., 5120.,\n",
       "       5498., 6107., 6415., 6875., 7079., 7178., 7165., 7362.])"
      ]
     },
     "execution_count": 22,
     "metadata": {},
     "output_type": "execute_result"
    }
   ],
   "source": [
    "y = np.array ((19, 20, 20, 19, 42, 94, 190, 416, 578, 803, 944, 1225, 1729, 2297, 3109, 3685, 4277, 5120, 5498, 6107, 6415, 6875, 7079, 7178, 7165, 7362))\n",
    "y = y.astype('float64')\n",
    "y"
   ]
  },
  {
   "cell_type": "code",
   "execution_count": 23,
   "metadata": {},
   "outputs": [
    {
     "data": {
      "text/plain": [
       "array([ 1.,  2.,  3.,  4.,  5.,  6.,  7.,  8.,  9., 10., 11., 12., 13.,\n",
       "       14., 15., 16., 17., 18., 19., 20., 21., 22., 23., 24., 25., 26.])"
      ]
     },
     "execution_count": 23,
     "metadata": {},
     "output_type": "execute_result"
    }
   ],
   "source": [
    "x = np.array((range(1,1+len(y))))\n",
    "x = x.astype('float64')\n",
    "x"
   ]
  },
  {
   "cell_type": "code",
   "execution_count": 24,
   "metadata": {},
   "outputs": [],
   "source": [
    "p = np.log(y)\n",
    "q = x"
   ]
  },
  {
   "cell_type": "markdown",
   "metadata": {},
   "source": [
    "**Hitung regresi linear**"
   ]
  },
  {
   "attachments": {
    "image.png": {
     "image/png": "[encoded data removed]"
    }
   },
   "cell_type": "markdown",
   "metadata": {},
   "source": [
    "![image.png](attachment:image.png)"
   ]
  },
  {
   "cell_type": "code",
   "execution_count": 25,
   "metadata": {},
   "outputs": [],
   "source": [
    "n = len(y)\n",
    "pq = p*q\n",
    "qq = q**2\n",
    "B = (n*pq.sum() - q.sum()*p.sum())/(n*qq.sum() - (q.sum())**2)\n",
    "A = p.mean()-B*q.mean()"
   ]
  },
  {
   "cell_type": "markdown",
   "metadata": {},
   "source": [
    "**Hasil persamaan linear**"
   ]
  },
  {
   "cell_type": "code",
   "execution_count": 26,
   "metadata": {},
   "outputs": [
    {
     "name": "stdout",
     "output_type": "stream",
     "text": [
      "p = 0.2684q + 3.1942\n"
     ]
    }
   ],
   "source": [
    "if A>0 :\n",
    "    print (\"p = {:.4f}q + {:.4f}\". format(B,A))\n",
    "else :\n",
    "    print (\"p = {:.4f}q {:.4f}\". format(B,A))"
   ]
  },
  {
   "cell_type": "markdown",
   "metadata": {},
   "source": [
    "**Hitung kembali dalam bentuk bilangan berpangkat**"
   ]
  },
  {
   "cell_type": "code",
   "execution_count": 27,
   "metadata": {},
   "outputs": [],
   "source": [
    "a = np.e**A\n",
    "b = B"
   ]
  },
  {
   "cell_type": "code",
   "execution_count": 28,
   "metadata": {},
   "outputs": [
    {
     "name": "stdout",
     "output_type": "stream",
     "text": [
      "y = 24.3911x^(0.2684)\n"
     ]
    }
   ],
   "source": [
    "print (\"y = {:.4f}x^({:.4f})\".format(a,b))"
   ]
  },
  {
   "cell_type": "markdown",
   "metadata": {},
   "source": [
    "**Koefisien Korelasi ( r ) dan Derajat Kesesuaian ( R ) r-square**"
   ]
  },
  {
   "cell_type": "code",
   "execution_count": 29,
   "metadata": {},
   "outputs": [
    {
     "name": "stdout",
     "output_type": "stream",
     "text": [
      "r = 0.9407 dan r^2 = 0.8848\n"
     ]
    }
   ],
   "source": [
    "yDt = ((p - p.mean())**2).sum()\n",
    "yD = ((p - (q*B) - A)**2).sum()\n",
    "r = np.sqrt((yDt-yD)/yDt)\n",
    "r2 = r**2\n",
    "print('r = {:.4f} dan r^2 = {:.4f}'.format(r,r2))"
   ]
  },
  {
   "cell_type": "markdown",
   "metadata": {},
   "source": [
    "**Plot data dan regresinya**"
   ]
  },
  {
   "cell_type": "code",
   "execution_count": 30,
   "metadata": {},
   "outputs": [
    {
     "data": {
      "text/plain": [
       "array([ 0. ,  0.1,  0.2,  0.3,  0.4,  0.5,  0.6,  0.7,  0.8,  0.9,  1. ,\n",
       "        1.1,  1.2,  1.3,  1.4,  1.5,  1.6,  1.7,  1.8,  1.9,  2. ,  2.1,\n",
       "        2.2,  2.3,  2.4,  2.5,  2.6,  2.7,  2.8,  2.9,  3. ,  3.1,  3.2,\n",
       "        3.3,  3.4,  3.5,  3.6,  3.7,  3.8,  3.9,  4. ,  4.1,  4.2,  4.3,\n",
       "        4.4,  4.5,  4.6,  4.7,  4.8,  4.9,  5. ,  5.1,  5.2,  5.3,  5.4,\n",
       "        5.5,  5.6,  5.7,  5.8,  5.9,  6. ,  6.1,  6.2,  6.3,  6.4,  6.5,\n",
       "        6.6,  6.7,  6.8,  6.9,  7. ,  7.1,  7.2,  7.3,  7.4,  7.5,  7.6,\n",
       "        7.7,  7.8,  7.9,  8. ,  8.1,  8.2,  8.3,  8.4,  8.5,  8.6,  8.7,\n",
       "        8.8,  8.9,  9. ,  9.1,  9.2,  9.3,  9.4,  9.5,  9.6,  9.7,  9.8,\n",
       "        9.9, 10. , 10.1, 10.2, 10.3, 10.4, 10.5, 10.6, 10.7, 10.8, 10.9,\n",
       "       11. , 11.1, 11.2, 11.3, 11.4, 11.5, 11.6, 11.7, 11.8, 11.9, 12. ,\n",
       "       12.1, 12.2, 12.3, 12.4, 12.5, 12.6, 12.7, 12.8, 12.9, 13. , 13.1,\n",
       "       13.2, 13.3, 13.4, 13.5, 13.6, 13.7, 13.8, 13.9, 14. , 14.1, 14.2,\n",
       "       14.3, 14.4, 14.5, 14.6, 14.7, 14.8, 14.9, 15. , 15.1, 15.2, 15.3,\n",
       "       15.4, 15.5, 15.6, 15.7, 15.8, 15.9, 16. , 16.1, 16.2, 16.3, 16.4,\n",
       "       16.5, 16.6, 16.7, 16.8, 16.9, 17. , 17.1, 17.2, 17.3, 17.4, 17.5,\n",
       "       17.6, 17.7, 17.8, 17.9, 18. , 18.1, 18.2, 18.3, 18.4, 18.5, 18.6,\n",
       "       18.7, 18.8, 18.9, 19. , 19.1, 19.2, 19.3, 19.4, 19.5, 19.6, 19.7,\n",
       "       19.8, 19.9, 20. , 20.1, 20.2, 20.3, 20.4, 20.5, 20.6, 20.7, 20.8,\n",
       "       20.9, 21. , 21.1, 21.2, 21.3, 21.4, 21.5, 21.6, 21.7, 21.8, 21.9,\n",
       "       22. , 22.1, 22.2, 22.3, 22.4, 22.5, 22.6, 22.7, 22.8, 22.9, 23. ,\n",
       "       23.1, 23.2, 23.3, 23.4, 23.5, 23.6, 23.7, 23.8, 23.9, 24. , 24.1,\n",
       "       24.2, 24.3, 24.4, 24.5, 24.6, 24.7, 24.8, 24.9, 25. , 25.1, 25.2,\n",
       "       25.3, 25.4, 25.5, 25.6, 25.7, 25.8, 25.9, 26. , 26.1, 26.2, 26.3,\n",
       "       26.4, 26.5, 26.6, 26.7, 26.8, 26.9])"
      ]
     },
     "execution_count": 30,
     "metadata": {},
     "output_type": "execute_result"
    }
   ],
   "source": [
    "#membuat xreg\n",
    "xreg = np.array(range(0,int((x[-1]+1)*10)))\n",
    "xreg = xreg/10 #memperhalus bentuk garis\n",
    "xreg = xreg.astype('float64')\n",
    "xreg"
   ]
  },
  {
   "cell_type": "code",
   "execution_count": 31,
   "metadata": {},
   "outputs": [
    {
     "data": {
      "text/plain": [
       "array([2.43910792e+01, 2.50545751e+01, 2.57361197e+01, 2.64362039e+01,\n",
       "       2.71553321e+01, 2.78940223e+01, 2.86528066e+01, 2.94322317e+01,\n",
       "       3.02328591e+01, 3.10552654e+01, 3.19000432e+01, 3.27678009e+01,\n",
       "       3.36591637e+01, 3.45747737e+01, 3.55152906e+01, 3.64813917e+01,\n",
       "       3.74737731e+01, 3.84931497e+01, 3.95402557e+01, 4.06158456e+01,\n",
       "       4.17206940e+01, 4.28555970e+01, 4.40213721e+01, 4.52188591e+01,\n",
       "       4.64489206e+01, 4.77124427e+01, 4.90103356e+01, 5.03435344e+01,\n",
       "       5.17129993e+01, 5.31197170e+01, 5.45647008e+01, 5.60489916e+01,\n",
       "       5.75736587e+01, 5.91398004e+01, 6.07485449e+01, 6.24010511e+01,\n",
       "       6.40985095e+01, 6.58421428e+01, 6.76332070e+01, 6.94729926e+01,\n",
       "       7.13628247e+01, 7.33040648e+01, 7.52981113e+01, 7.73464006e+01,\n",
       "       7.94504084e+01, 8.16116501e+01, 8.38316829e+01, 8.61121058e+01,\n",
       "       8.84545618e+01, 9.08607381e+01, 9.33323683e+01, 9.58712327e+01,\n",
       "       9.84791603e+01, 1.01158030e+02, 1.03909771e+02, 1.06736366e+02,\n",
       "       1.09639851e+02, 1.12622319e+02, 1.15685916e+02, 1.18832850e+02,\n",
       "       1.22065389e+02, 1.25385861e+02, 1.28796657e+02, 1.32300235e+02,\n",
       "       1.35899119e+02, 1.39595901e+02, 1.43393245e+02, 1.47293885e+02,\n",
       "       1.51300632e+02, 1.55416373e+02, 1.59644071e+02, 1.63986773e+02,\n",
       "       1.68447607e+02, 1.73029786e+02, 1.77736611e+02, 1.82571474e+02,\n",
       "       1.87537856e+02, 1.92639335e+02, 1.97879588e+02, 2.03262387e+02,\n",
       "       2.08791612e+02, 2.14471245e+02, 2.20305378e+02, 2.26298213e+02,\n",
       "       2.32454067e+02, 2.38777376e+02, 2.45272693e+02, 2.51944699e+02,\n",
       "       2.58798200e+02, 2.65838132e+02, 2.73069567e+02, 2.80497714e+02,\n",
       "       2.88127925e+02, 2.95965697e+02, 3.04016674e+02, 3.12286657e+02,\n",
       "       3.20781603e+02, 3.29507633e+02, 3.38471031e+02, 3.47678256e+02,\n",
       "       3.57135939e+02, 3.66850893e+02, 3.76830118e+02, 3.87080801e+02,\n",
       "       3.97610328e+02, 4.08426283e+02, 4.19536458e+02, 4.30948857e+02,\n",
       "       4.42671700e+02, 4.54713433e+02, 4.67082729e+02, 4.79788501e+02,\n",
       "       4.92839899e+02, 5.06246327e+02, 5.20017442e+02, 5.34163165e+02,\n",
       "       5.48693685e+02, 5.63619470e+02, 5.78951272e+02, 5.94700136e+02,\n",
       "       6.10877407e+02, 6.27494738e+02, 6.44564101e+02, 6.62097792e+02,\n",
       "       6.80108440e+02, 6.98609022e+02, 7.17612864e+02, 7.37133656e+02,\n",
       "       7.57185461e+02, 7.77782723e+02, 7.98940279e+02, 8.20673372e+02,\n",
       "       8.42997657e+02, 8.65929217e+02, 8.89484570e+02, 9.13680685e+02,\n",
       "       9.38534992e+02, 9.64065396e+02, 9.90290289e+02, 1.01722856e+03,\n",
       "       1.04489962e+03, 1.07332340e+03, 1.10252037e+03, 1.13251157e+03,\n",
       "       1.16331860e+03, 1.19496366e+03, 1.22746954e+03, 1.26085966e+03,\n",
       "       1.29515806e+03, 1.33038947e+03, 1.36657926e+03, 1.40375349e+03,\n",
       "       1.44193896e+03, 1.48116316e+03, 1.52145435e+03, 1.56284156e+03,\n",
       "       1.60535460e+03, 1.64902410e+03, 1.69388151e+03, 1.73995915e+03,\n",
       "       1.78729022e+03, 1.83590880e+03, 1.88584993e+03, 1.93714957e+03,\n",
       "       1.98984469e+03, 2.04397324e+03, 2.09957422e+03, 2.15668767e+03,\n",
       "       2.21535475e+03, 2.27561772e+03, 2.33751998e+03, 2.40110614e+03,\n",
       "       2.46642199e+03, 2.53351458e+03, 2.60243226e+03, 2.67322466e+03,\n",
       "       2.74594279e+03, 2.82063902e+03, 2.89736717e+03, 2.97618252e+03,\n",
       "       3.05714182e+03, 3.14030342e+03, 3.22572721e+03, 3.31347473e+03,\n",
       "       3.40360919e+03, 3.49619553e+03, 3.59130044e+03, 3.68899243e+03,\n",
       "       3.78934188e+03, 3.89242107e+03, 3.99830427e+03, 4.10706774e+03,\n",
       "       4.21878984e+03, 4.33355104e+03, 4.45143403e+03, 4.57252372e+03,\n",
       "       4.69690734e+03, 4.82467449e+03, 4.95591722e+03, 5.09073006e+03,\n",
       "       5.22921013e+03, 5.37145720e+03, 5.51757373e+03, 5.66766497e+03,\n",
       "       5.82183906e+03, 5.98020706e+03, 6.14288304e+03, 6.30998420e+03,\n",
       "       6.48163091e+03, 6.65794683e+03, 6.83905896e+03, 7.02509778e+03,\n",
       "       7.21619730e+03, 7.41249518e+03, 7.61413284e+03, 7.82125553e+03,\n",
       "       8.03401245e+03, 8.25255687e+03, 8.47704622e+03, 8.70764222e+03,\n",
       "       8.94451099e+03, 9.18782315e+03, 9.43775399e+03, 9.69448355e+03,\n",
       "       9.95819677e+03, 1.02290836e+04, 1.05073392e+04, 1.07931641e+04,\n",
       "       1.10867641e+04, 1.13883506e+04, 1.16981411e+04, 1.20163586e+04,\n",
       "       1.23432324e+04, 1.26789980e+04, 1.30238971e+04, 1.33781784e+04,\n",
       "       1.37420969e+04, 1.41159150e+04, 1.44999017e+04, 1.48943339e+04,\n",
       "       1.52994955e+04, 1.57156785e+04, 1.61431826e+04, 1.65823160e+04,\n",
       "       1.70333947e+04, 1.74967440e+04, 1.79726974e+04, 1.84615979e+04,\n",
       "       1.89637977e+04, 1.94796585e+04, 2.00095519e+04, 2.05538598e+04,\n",
       "       2.11129741e+04, 2.16872976e+04, 2.22772442e+04, 2.28832387e+04,\n",
       "       2.35057177e+04, 2.41451296e+04, 2.48019351e+04, 2.54766072e+04,\n",
       "       2.61696321e+04, 2.68815089e+04, 2.76127505e+04, 2.83638835e+04,\n",
       "       2.91354492e+04, 2.99280034e+04, 3.07421169e+04, 3.15783763e+04,\n",
       "       3.24373839e+04, 3.33197586e+04])"
      ]
     },
     "execution_count": 31,
     "metadata": {},
     "output_type": "execute_result"
    }
   ],
   "source": [
    "#membuat yreg\n",
    "yreg = a*np.e**(b*xreg)\n",
    "yreg"
   ]
  },
  {
   "cell_type": "code",
   "execution_count": 32,
   "metadata": {},
   "outputs": [
    {
     "data": {
      "text/plain": [
       "Text(0, 0.5, 'y-banyak orang')"
      ]
     },
     "execution_count": 32,
     "metadata": {},
     "output_type": "execute_result"
    },
    {
     "data": {
      "image/png": "[encoded data removed]",
      "text/plain": [
       "<Figure size 432x288 with 1 Axes>"
      ]
     },
     "metadata": {
      "needs_background": "light"
     },
     "output_type": "display_data"
    }
   ],
   "source": [
    "ax = plt.plot(x,y,'ro')\n",
    "plt.plot(xreg,yreg,'b')\n",
    "plt.grid()\n",
    "plt.xlabel('x-hari ke')\n",
    "plt.ylabel('y-banyak orang')"
   ]
  },
  {
   "cell_type": "markdown",
   "metadata": {},
   "source": [
    "**Selesai**"
   ]
  },
  {
   "cell_type": "markdown",
   "metadata": {},
   "source": [
    "#### Regresi Polinomial"
   ]
  },
  {
   "cell_type": "code",
   "execution_count": 33,
   "metadata": {},
   "outputs": [
    {
     "data": {
      "text/plain": [
       "array([  19.,   20.,   20.,   19.,   42.,   94.,  190.,  416.,  578.,\n",
       "        803.,  944., 1225., 1729., 2297., 3109., 3685., 4277., 5120.,\n",
       "       5498., 6107., 6415., 6875., 7079., 7178., 7165., 7362.])"
      ]
     },
     "execution_count": 33,
     "metadata": {},
     "output_type": "execute_result"
    }
   ],
   "source": [
    "y = np.array ((19, 20, 20, 19, 42, 94, 190, 416, 578, 803, 944, 1225, 1729, 2297, 3109, 3685, 4277, 5120, 5498, 6107, 6415, 6875, 7079, 7178, 7165, 7362))\n",
    "y = y.astype('float64')\n",
    "y"
   ]
  },
  {
   "cell_type": "code",
   "execution_count": 34,
   "metadata": {},
   "outputs": [
    {
     "data": {
      "text/plain": [
       "array([ 1.,  2.,  3.,  4.,  5.,  6.,  7.,  8.,  9., 10., 11., 12., 13.,\n",
       "       14., 15., 16., 17., 18., 19., 20., 21., 22., 23., 24., 25., 26.])"
      ]
     },
     "execution_count": 34,
     "metadata": {},
     "output_type": "execute_result"
    }
   ],
   "source": [
    "x = np.array((range(1,1+len(y))))\n",
    "x = x.astype('float64')\n",
    "x"
   ]
  },
  {
   "cell_type": "markdown",
   "metadata": {},
   "source": [
    "**Membentuk regresi polinomial dari matriks**"
   ]
  },
  {
   "attachments": {
    "image.png": {
     "image/png": "[encoded data removed]"
    }
   },
   "cell_type": "markdown",
   "metadata": {},
   "source": [
    "![image.png](attachment:image.png)"
   ]
  },
  {
   "cell_type": "markdown",
   "metadata": {},
   "source": [
    "**Mendefinisikan elemen-elemen matriks kiri**"
   ]
  },
  {
   "cell_type": "code",
   "execution_count": 35,
   "metadata": {},
   "outputs": [
    {
     "data": {
      "text/plain": [
       "array([[2.6000000e+01, 3.5100000e+02, 6.2010000e+03, 1.2320100e+05],\n",
       "       [3.5100000e+02, 6.2010000e+03, 1.2320100e+05, 2.6106210e+06],\n",
       "       [6.2010000e+03, 1.2320100e+05, 2.6106210e+06, 5.7617001e+07],\n",
       "       [1.2320100e+05, 2.6106210e+06, 5.7617001e+07, 1.3077971e+09]])"
      ]
     },
     "execution_count": 35,
     "metadata": {},
     "output_type": "execute_result"
    }
   ],
   "source": [
    "n = len(y)\n",
    "a = x.sum()\n",
    "b = (x**2).sum()\n",
    "c = (x**3).sum()\n",
    "d = (x**4).sum()\n",
    "e = (x**5).sum()\n",
    "f = (x**6).sum()\n",
    "A = np.array(([n, a, b, c],\n",
    "    [a, b, c, d],\n",
    "    [b, c, d, e],\n",
    "    [c, d, e, f]))\n",
    "A"
   ]
  },
  {
   "cell_type": "markdown",
   "metadata": {},
   "source": [
    "**Mendefinisikan elemen-elemen matriks kanan**"
   ]
  },
  {
   "cell_type": "code",
   "execution_count": 36,
   "metadata": {},
   "outputs": [
    {
     "data": {
      "text/plain": [
       "array([[7.82660000e+04],\n",
       "       [1.58723500e+06],\n",
       "       [3.36571730e+07],\n",
       "       [7.37351833e+08]])"
      ]
     },
     "execution_count": 36,
     "metadata": {},
     "output_type": "execute_result"
    }
   ],
   "source": [
    "g = y.sum()\n",
    "h = (x*y).sum()\n",
    "i = ((x**2)*y).sum()\n",
    "j = ((x**3)*y).sum()\n",
    "B = np.array(([g],\n",
    "    [h],\n",
    "    [i],\n",
    "    [j]))\n",
    "B"
   ]
  },
  {
   "cell_type": "markdown",
   "metadata": {},
   "source": [
    "**Invers matriks sisi kiri**"
   ]
  },
  {
   "cell_type": "code",
   "execution_count": 37,
   "metadata": {},
   "outputs": [
    {
     "data": {
      "text/plain": [
       "array([[ 8.33110368e-01, -2.35061315e-01,  1.77257525e-02,\n",
       "        -3.90189521e-04],\n",
       "       [-2.35061315e-01,  8.25185444e-02, -6.83724072e-03,\n",
       "         1.58645748e-04],\n",
       "       [ 1.77257525e-02, -6.83724072e-03,  5.99105209e-04,\n",
       "        -1.44158690e-05],\n",
       "       [-3.90189521e-04,  1.58645748e-04, -1.44158690e-05,\n",
       "         3.55947382e-07]])"
      ]
     },
     "execution_count": 37,
     "metadata": {},
     "output_type": "execute_result"
    }
   ],
   "source": [
    "Ainv = np.linalg.inv(A)\n",
    "Ainv"
   ]
  },
  {
   "cell_type": "markdown",
   "metadata": {},
   "source": [
    "**Mencari nilai a0, a1, a2, dst dengan a = (A^-1)B namun di sini variabel a diganti dengan Y**"
   ]
  },
  {
   "cell_type": "code",
   "execution_count": 38,
   "metadata": {},
   "outputs": [
    {
     "name": "stdout",
     "output_type": "stream",
     "text": [
      "[[ 998.42943144]\n",
      " [-565.44759861]\n",
      " [  69.63622273]\n",
      " [  -1.46943024]]\n"
     ]
    }
   ],
   "source": [
    "Y = Ainv.dot(B)\n",
    "print(Y)"
   ]
  },
  {
   "cell_type": "code",
   "execution_count": 39,
   "metadata": {},
   "outputs": [],
   "source": [
    "a0 = Y[0,0]\n",
    "a1 = Y[1,0]\n",
    "a2 = Y[2,0]\n",
    "a3 = Y[3,0]"
   ]
  },
  {
   "cell_type": "markdown",
   "metadata": {},
   "source": [
    "**Hasil persamaan regresi polinomial**"
   ]
  },
  {
   "cell_type": "code",
   "execution_count": 40,
   "metadata": {},
   "outputs": [
    {
     "name": "stdout",
     "output_type": "stream",
     "text": [
      "y = -1.4694x^3 + 69.6362X^2 + -565.4476x + 998.4294\n"
     ]
    }
   ],
   "source": [
    "print('y = {:.4f}x^3 + {:.4f}X^2 + {:.4f}x + {:.4f}'.format(a3, a2, a1, a0))"
   ]
  },
  {
   "cell_type": "code",
   "execution_count": 41,
   "metadata": {},
   "outputs": [
    {
     "data": {
      "text/plain": [
       "array([  19.,   20.,   20.,   19.,   42.,   94.,  190.,  416.,  578.,\n",
       "        803.,  944., 1225., 1729., 2297., 3109., 3685., 4277., 5120.,\n",
       "       5498., 6107., 6415., 6875., 7079., 7178., 7165., 7362.])"
      ]
     },
     "execution_count": 41,
     "metadata": {},
     "output_type": "execute_result"
    }
   ],
   "source": [
    "y"
   ]
  },
  {
   "cell_type": "markdown",
   "metadata": {},
   "source": [
    "**Koefisien Korelasi ( r ) dan Derajat Kesesuaian ( R ) r-square**"
   ]
  },
  {
   "cell_type": "code",
   "execution_count": 42,
   "metadata": {},
   "outputs": [
    {
     "name": "stdout",
     "output_type": "stream",
     "text": [
      "r = 0.9956 dan r^2 = 0.8848\n"
     ]
    }
   ],
   "source": [
    "yDt = (y-y.mean())**2\n",
    "yD = (y-a0-a1*x-a2*(x**2)-a3*(x**3))**2\n",
    "r = np.sqrt((yDt.sum()-yD.sum())/yDt.sum())\n",
    "R2 = r**2\n",
    "print('r = {:.4f} dan r^2 = {:.4f}'.format(r,r2))"
   ]
  },
  {
   "cell_type": "markdown",
   "metadata": {},
   "source": [
    "**Plot**"
   ]
  },
  {
   "cell_type": "code",
   "execution_count": 43,
   "metadata": {},
   "outputs": [
    {
     "data": {
      "text/plain": [
       "Text(0, 0.5, 'y')"
      ]
     },
     "execution_count": 43,
     "metadata": {},
     "output_type": "execute_result"
    },
    {
     "data": {
      "image/png": "[encoded data removed]",
      "text/plain": [
       "<Figure size 432x288 with 1 Axes>"
      ]
     },
     "metadata": {
      "needs_background": "light"
     },
     "output_type": "display_data"
    }
   ],
   "source": [
    "xreg = np.array(range(0,int((x[-1]+0.5)*10)))\n",
    "xreg = xreg/10\n",
    "yreg = a0 + a1*xreg + a2*(xreg**2) + a3*(xreg**3)\n",
    "ax = plt.plot(x,y,'ro')\n",
    "plt.plot(xreg,yreg,'b')\n",
    "plt.grid()\n",
    "plt.xlabel('x')\n",
    "plt.ylabel('y')"
   ]
  },
  {
   "cell_type": "markdown",
   "metadata": {},
   "source": [
    "**Perbandingan jika memakai polyfit dengan derajat dinaikkan**"
   ]
  },
  {
   "cell_type": "code",
   "execution_count": 44,
   "metadata": {},
   "outputs": [
    {
     "data": {
      "image/png": "[encoded data removed]",
      "text/plain": [
       "<Figure size 432x288 with 1 Axes>"
      ]
     },
     "metadata": {
      "needs_background": "light"
     },
     "output_type": "display_data"
    }
   ],
   "source": [
    "regpoly = np.poly1d(np.polyfit(x, y, 5))\n",
    "\n",
    "myline = np.linspace(1, len(y), 100)\n",
    "\n",
    "plt.scatter(x, y)\n",
    "plt.plot(myline, regpoly(myline), linewidth=3, color='r')\n",
    "plt.show()"
   ]
  },
  {
   "cell_type": "code",
   "execution_count": 45,
   "metadata": {},
   "outputs": [
    {
     "name": "stdout",
     "output_type": "stream",
     "text": [
      "          5          4         3       2\n",
      "0.005194 x - 0.4569 x + 12.77 x - 120 x + 437 x - 420.6\n"
     ]
    }
   ],
   "source": [
    "print (regpoly)"
   ]
  },
  {
   "cell_type": "code",
   "execution_count": 46,
   "metadata": {},
   "outputs": [
    {
     "name": "stdout",
     "output_type": "stream",
     "text": [
      "0.9983282644820523\n"
     ]
    }
   ],
   "source": [
    "print(r2_score(y, regpoly(x)))"
   ]
  },
  {
   "cell_type": "markdown",
   "metadata": {},
   "source": [
    "**Selesai**"
   ]
  },
  {
   "cell_type": "markdown",
   "metadata": {},
   "source": [
    "### Active (Tren Turun)"
   ]
  },
  {
   "cell_type": "markdown",
   "metadata": {},
   "source": [
    "- Start: 11-Mar-2020\n",
    "- End: 11-Mar-2020\n",
    "- Range: 16 Days"
   ]
  },
  {
   "cell_type": "markdown",
   "metadata": {},
   "source": [
    "**Data**"
   ]
  },
  {
   "cell_type": "code",
   "execution_count": 47,
   "metadata": {},
   "outputs": [
    {
     "data": {
      "text/plain": [
       "array([7362., 7293., 7198., 7180., 7253., 7024., 6838., 6789., 6527.,\n",
       "       6325., 6085., 5884., 5684., 5410., 5281., 4966.])"
      ]
     },
     "execution_count": 47,
     "metadata": {},
     "output_type": "execute_result"
    }
   ],
   "source": [
    "y = np.array ((7362, 7293, 7198, 7180, 7253, 7024, 6838, 6789, 6527, 6325, 6085, 5884, 5684, 5410, 5281, 4966))\n",
    "y = y.astype('float64')\n",
    "y"
   ]
  },
  {
   "cell_type": "code",
   "execution_count": 48,
   "metadata": {},
   "outputs": [
    {
     "data": {
      "text/plain": [
       "array([ 1.,  2.,  3.,  4.,  5.,  6.,  7.,  8.,  9., 10., 11., 12., 13.,\n",
       "       14., 15., 16.])"
      ]
     },
     "execution_count": 48,
     "metadata": {},
     "output_type": "execute_result"
    }
   ],
   "source": [
    "x = np.array((range(1,1+len(y))))\n",
    "x = x.astype('float64')\n",
    "x"
   ]
  },
  {
   "cell_type": "markdown",
   "metadata": {},
   "source": [
    "**Plot**"
   ]
  },
  {
   "cell_type": "code",
   "execution_count": 49,
   "metadata": {},
   "outputs": [
    {
     "data": {
      "text/plain": [
       "Text(0, 0.5, 'y-jumlah orang')"
      ]
     },
     "execution_count": 49,
     "metadata": {},
     "output_type": "execute_result"
    },
    {
     "data": {
      "image/png": "[encoded data removed]",
      "text/plain": [
       "<Figure size 432x288 with 1 Axes>"
      ]
     },
     "metadata": {
      "needs_background": "light"
     },
     "output_type": "display_data"
    }
   ],
   "source": [
    "ax = plt.plot(x,y,'ro')\n",
    "plt.grid()\n",
    "plt.xlabel('x-hari')\n",
    "plt.ylabel('y-jumlah orang')"
   ]
  },
  {
   "cell_type": "markdown",
   "metadata": {},
   "source": [
    "#### Regresi Berpangkat"
   ]
  },
  {
   "cell_type": "markdown",
   "metadata": {},
   "source": [
    "**Data**"
   ]
  },
  {
   "cell_type": "code",
   "execution_count": 50,
   "metadata": {},
   "outputs": [
    {
     "data": {
      "text/plain": [
       "array([7362., 7293., 7198., 7180., 7253., 7024., 6838., 6789., 6527.,\n",
       "       6325., 6085., 5884., 5684., 5410., 5281., 4966.])"
      ]
     },
     "execution_count": 50,
     "metadata": {},
     "output_type": "execute_result"
    }
   ],
   "source": [
    "y = np.array ((7362, 7293, 7198, 7180, 7253, 7024, 6838, 6789, 6527, 6325, 6085, 5884, 5684, 5410, 5281, 4966))\n",
    "y = y.astype('float64')\n",
    "y"
   ]
  },
  {
   "cell_type": "code",
   "execution_count": 51,
   "metadata": {},
   "outputs": [
    {
     "data": {
      "text/plain": [
       "array([ 1.,  2.,  3.,  4.,  5.,  6.,  7.,  8.,  9., 10., 11., 12., 13.,\n",
       "       14., 15., 16.])"
      ]
     },
     "execution_count": 51,
     "metadata": {},
     "output_type": "execute_result"
    }
   ],
   "source": [
    "x = np.array((range(1,1+len(y))))\n",
    "x = x.astype('float64')\n",
    "x"
   ]
  },
  {
   "attachments": {
    "image.png": {
     "image/png": "[encoded data removed]"
    }
   },
   "cell_type": "markdown",
   "metadata": {},
   "source": [
    "![image.png](attachment:image.png)"
   ]
  },
  {
   "cell_type": "markdown",
   "metadata": {},
   "source": [
    "**Membuat xreg untuk plotting selanjutnya**"
   ]
  },
  {
   "cell_type": "code",
   "execution_count": 52,
   "metadata": {},
   "outputs": [
    {
     "data": {
      "text/plain": [
       "array([ 1. ,  1.1,  1.2,  1.3,  1.4,  1.5,  1.6,  1.7,  1.8,  1.9,  2. ,\n",
       "        2.1,  2.2,  2.3,  2.4,  2.5,  2.6,  2.7,  2.8,  2.9,  3. ,  3.1,\n",
       "        3.2,  3.3,  3.4,  3.5,  3.6,  3.7,  3.8,  3.9,  4. ,  4.1,  4.2,\n",
       "        4.3,  4.4,  4.5,  4.6,  4.7,  4.8,  4.9,  5. ,  5.1,  5.2,  5.3,\n",
       "        5.4,  5.5,  5.6,  5.7,  5.8,  5.9,  6. ,  6.1,  6.2,  6.3,  6.4,\n",
       "        6.5,  6.6,  6.7,  6.8,  6.9,  7. ,  7.1,  7.2,  7.3,  7.4,  7.5,\n",
       "        7.6,  7.7,  7.8,  7.9,  8. ,  8.1,  8.2,  8.3,  8.4,  8.5,  8.6,\n",
       "        8.7,  8.8,  8.9,  9. ,  9.1,  9.2,  9.3,  9.4,  9.5,  9.6,  9.7,\n",
       "        9.8,  9.9, 10. , 10.1, 10.2, 10.3, 10.4, 10.5, 10.6, 10.7, 10.8,\n",
       "       10.9, 11. , 11.1, 11.2, 11.3, 11.4, 11.5, 11.6, 11.7, 11.8, 11.9,\n",
       "       12. , 12.1, 12.2, 12.3, 12.4, 12.5, 12.6, 12.7, 12.8, 12.9, 13. ,\n",
       "       13.1, 13.2, 13.3, 13.4, 13.5, 13.6, 13.7, 13.8, 13.9, 14. , 14.1,\n",
       "       14.2, 14.3, 14.4, 14.5, 14.6, 14.7, 14.8, 14.9, 15. , 15.1, 15.2,\n",
       "       15.3, 15.4, 15.5, 15.6, 15.7, 15.8, 15.9, 16. , 16.1, 16.2, 16.3,\n",
       "       16.4, 16.5, 16.6, 16.7, 16.8, 16.9])"
      ]
     },
     "execution_count": 52,
     "metadata": {},
     "output_type": "execute_result"
    }
   ],
   "source": [
    "#membuat xreg\n",
    "xreg = np.array(range(10,int((x[-1]+1)*10)))\n",
    "xreg = xreg/10 #memperhalus bentuk garis\n",
    "xreg = xreg.astype('float64')\n",
    "xreg"
   ]
  },
  {
   "cell_type": "markdown",
   "metadata": {},
   "source": [
    "**Regresi berpangkat**"
   ]
  },
  {
   "attachments": {
    "image.png": {
     "image/png": "[encoded data removed]"
    }
   },
   "cell_type": "markdown",
   "metadata": {},
   "source": [
    "![image.png](attachment:image.png)"
   ]
  },
  {
   "attachments": {
    "image.png": {
     "image/png": "[encoded data removed]"
    }
   },
   "cell_type": "markdown",
   "metadata": {},
   "source": [
    "![image.png](attachment:image.png)"
   ]
  },
  {
   "attachments": {
    "image.png": {
     "image/png": "[encoded data removed]"
    }
   },
   "cell_type": "markdown",
   "metadata": {},
   "source": [
    "![image.png](attachment:image.png)"
   ]
  },
  {
   "cell_type": "code",
   "execution_count": 53,
   "metadata": {},
   "outputs": [],
   "source": [
    "p = np.log10(y)\n",
    "q = np.log10(x)"
   ]
  },
  {
   "cell_type": "markdown",
   "metadata": {},
   "source": [
    "**Hitung regresi linear**"
   ]
  },
  {
   "cell_type": "code",
   "execution_count": 54,
   "metadata": {},
   "outputs": [],
   "source": [
    "n = len(y)\n",
    "pq = p*q\n",
    "qq = q**2\n",
    "B = (n*pq.sum() - q.sum()*p.sum())/(n*qq.sum() - (q.sum())**2)\n",
    "A = p.mean()-B*q.mean()"
   ]
  },
  {
   "cell_type": "markdown",
   "metadata": {},
   "source": [
    "**Hasil regresi linear**"
   ]
  },
  {
   "cell_type": "code",
   "execution_count": 55,
   "metadata": {},
   "outputs": [
    {
     "name": "stdout",
     "output_type": "stream",
     "text": [
      "p = -0.1351q + 3.9183\n"
     ]
    }
   ],
   "source": [
    "if A>0 :\n",
    "    print (\"p = {:.4f}q + {:.4f}\". format(B,A))\n",
    "else :\n",
    "    print (\"p = {:.4f}q {:.4f}\". format(B,A))"
   ]
  },
  {
   "cell_type": "markdown",
   "metadata": {},
   "source": [
    "**Kembalikan ke bentuk pangkat**"
   ]
  },
  {
   "cell_type": "code",
   "execution_count": 56,
   "metadata": {},
   "outputs": [
    {
     "name": "stdout",
     "output_type": "stream",
     "text": [
      "y = 8286.0661x^(-0.1351)\n"
     ]
    }
   ],
   "source": [
    "a = 10**A #A=log(a)\n",
    "b = B\n",
    "print (\"y = {:.4f}x^({:.4f})\".format(a,b))"
   ]
  },
  {
   "cell_type": "markdown",
   "metadata": {},
   "source": [
    "**Koefisien Korelasi ( r ) dan Derajat Kesesuaian ( R ) r-square**"
   ]
  },
  {
   "cell_type": "code",
   "execution_count": 57,
   "metadata": {},
   "outputs": [
    {
     "name": "stdout",
     "output_type": "stream",
     "text": [
      "r = 0.8268 dan r^2 = 0.6835\n"
     ]
    }
   ],
   "source": [
    "yDt = ((p - p.mean())**2).sum()\n",
    "yD = ((p - (q*B) - A)**2).sum()\n",
    "r = np.sqrt((yDt-yD)/yDt)\n",
    "r2 = r**2\n",
    "print('r = {:.4f} dan r^2 = {:.4f}'.format(r,r2))"
   ]
  },
  {
   "cell_type": "markdown",
   "metadata": {},
   "source": [
    "**Plot**"
   ]
  },
  {
   "cell_type": "code",
   "execution_count": 58,
   "metadata": {},
   "outputs": [
    {
     "data": {
      "text/plain": [
       "array([8286.06609707, 8180.02012538, 8084.39325397, 7997.41256234,\n",
       "       7917.71556759, 7844.23347765, 7776.11304045, 7712.66266299,\n",
       "       7653.31430698, 7597.59593874, 7545.11121881, 7495.52426859,\n",
       "       7448.54806794, 7403.93549546, 7361.47232273, 7320.97167417,\n",
       "       7282.2696004 , 7245.22150783, 7209.69925373, 7175.58876385,\n",
       "       7142.78806394, 7111.20564223, 7080.75907831, 7051.3738884 ,\n",
       "       7022.9825473 , 6995.52365567, 6968.94122763, 6943.18407841,\n",
       "       6918.20529572, 6893.96178157, 6870.4138535 , 6847.52489639,\n",
       "       6825.26105722, 6803.59097672, 6782.48555261, 6761.91773015,\n",
       "       6741.8623163 , 6722.29581437, 6703.19627656, 6684.543172  ,\n",
       "       6666.31726857, 6648.50052668, 6631.07600359, 6614.02776717,\n",
       "       6597.34081784, 6581.00101789, 6564.99502736, 6549.31024568,\n",
       "       6533.9347586 , 6518.85728969, 6504.06715606, 6489.55422786,\n",
       "       6475.30889109, 6461.32201355, 6447.58491347, 6434.08933065,\n",
       "       6420.8273999 , 6407.79162647, 6394.97486339, 6382.37029051,\n",
       "       6369.97139505, 6357.7719536 , 6345.76601537, 6333.9478867 ,\n",
       "       6322.31211658, 6310.8534832 , 6299.5669814 , 6288.44781097,\n",
       "       6277.49136573, 6266.6932233 , 6256.04913558, 6245.55501978,\n",
       "       6235.20695003, 6225.00114955, 6214.93398326, 6205.00195082,\n",
       "       6195.20168019, 6185.52992141, 6175.98354092, 6166.55951606,\n",
       "       6157.25492999, 6148.06696685, 6138.99290719, 6130.03012365,\n",
       "       6121.17607693, 6112.42831191, 6103.78445401, 6095.24220576,\n",
       "       6086.79934349, 6078.45371428, 6070.203233  , 6062.04587953,\n",
       "       6053.97969609, 6046.00278477, 6038.11330508, 6030.30947176,\n",
       "       6022.58955252, 6014.95186606, 6007.39478009, 5999.91670945,\n",
       "       5992.51611434, 5985.1914986 , 5977.94140816, 5970.7644294 ,\n",
       "       5963.65918776, 5956.62434629, 5949.65860429, 5942.76069607,\n",
       "       5935.92938967, 5929.16348571, 5922.46181629, 5915.82324383,\n",
       "       5909.24666013, 5902.73098531, 5896.2751669 , 5889.87817893,\n",
       "       5883.53902102, 5877.25671759, 5871.03031704, 5864.85889096,\n",
       "       5858.74153342, 5852.67736023, 5846.66550828, 5840.70513487,\n",
       "       5834.79541707, 5828.93555114, 5823.12475191, 5817.36225226,\n",
       "       5811.64730253, 5805.97917003, 5800.35713852, 5794.78050775,\n",
       "       5789.24859297, 5783.7607245 , 5778.31624725, 5772.91452038,\n",
       "       5767.55491683, 5762.23682295, 5756.95963813, 5751.72277444,\n",
       "       5746.52565628, 5741.36772002, 5736.24841369, 5731.16719669,\n",
       "       5726.12353941, 5721.11692302, 5716.14683913, 5711.21278954,\n",
       "       5706.31428595, 5701.45084972, 5696.62201162, 5691.82731159,\n",
       "       5687.06629846, 5682.3385298 , 5677.64357165, 5672.98099831,\n",
       "       5668.35039214, 5663.75134337, 5659.1834499 , 5654.64631708])"
      ]
     },
     "execution_count": 58,
     "metadata": {},
     "output_type": "execute_result"
    }
   ],
   "source": [
    "#membuat yreg\n",
    "yreg = a*(xreg**b)\n",
    "yreg\n",
    "    "
   ]
  },
  {
   "cell_type": "code",
   "execution_count": 59,
   "metadata": {},
   "outputs": [
    {
     "data": {
      "text/plain": [
       "Text(0, 0.5, 'y-banyak orang')"
      ]
     },
     "execution_count": 59,
     "metadata": {},
     "output_type": "execute_result"
    },
    {
     "data": {
      "image/png": "[encoded data removed]",
      "text/plain": [
       "<Figure size 432x288 with 1 Axes>"
      ]
     },
     "metadata": {
      "needs_background": "light"
     },
     "output_type": "display_data"
    }
   ],
   "source": [
    "ax = plt.plot(x,y,'ro')\n",
    "plt.plot(xreg,yreg,'g')\n",
    "plt.grid()\n",
    "plt.xlabel('x-hari ke')\n",
    "plt.ylabel('y-banyak orang')"
   ]
  },
  {
   "cell_type": "markdown",
   "metadata": {},
   "source": [
    "#### Regresi Eksponensial"
   ]
  },
  {
   "attachments": {
    "image.png": {
     "image/png": "[encoded data removed]"
    }
   },
   "cell_type": "markdown",
   "metadata": {},
   "source": [
    "![image.png](attachment:image.png)"
   ]
  },
  {
   "attachments": {
    "image.png": {
     "image/png": "[encoded data removed]"
    }
   },
   "cell_type": "markdown",
   "metadata": {},
   "source": [
    "![image.png](attachment:image.png)"
   ]
  },
  {
   "attachments": {
    "image.png": {
     "image/png": "[encoded data removed]"
    }
   },
   "cell_type": "markdown",
   "metadata": {},
   "source": [
    "![image.png](attachment:image.png)"
   ]
  },
  {
   "cell_type": "markdown",
   "metadata": {},
   "source": [
    "**Linearisasi**"
   ]
  },
  {
   "cell_type": "code",
   "execution_count": 60,
   "metadata": {},
   "outputs": [
    {
     "data": {
      "text/plain": [
       "array([7362., 7293., 7198., 7180., 7253., 7024., 6838., 6789., 6527.,\n",
       "       6325., 6085., 5884., 5684., 5410., 5281., 4966.])"
      ]
     },
     "execution_count": 60,
     "metadata": {},
     "output_type": "execute_result"
    }
   ],
   "source": [
    "y = np.array ((7362, 7293, 7198, 7180, 7253, 7024, 6838, 6789, 6527, 6325, 6085, 5884, 5684, 5410, 5281, 4966))\n",
    "y = y.astype('float64')\n",
    "y"
   ]
  },
  {
   "cell_type": "code",
   "execution_count": 61,
   "metadata": {},
   "outputs": [
    {
     "data": {
      "text/plain": [
       "array([ 1.,  2.,  3.,  4.,  5.,  6.,  7.,  8.,  9., 10., 11., 12., 13.,\n",
       "       14., 15., 16.])"
      ]
     },
     "execution_count": 61,
     "metadata": {},
     "output_type": "execute_result"
    }
   ],
   "source": [
    "x = np.array((range(1,1+len(y))))\n",
    "x = x.astype('float64')\n",
    "x"
   ]
  },
  {
   "cell_type": "code",
   "execution_count": 62,
   "metadata": {},
   "outputs": [],
   "source": [
    "p = np.log(y)\n",
    "q = x"
   ]
  },
  {
   "cell_type": "markdown",
   "metadata": {},
   "source": [
    "**Hitung regresi linear**"
   ]
  },
  {
   "attachments": {
    "image.png": {
     "image/png": "[encoded data removed]"
    }
   },
   "cell_type": "markdown",
   "metadata": {},
   "source": [
    "![image.png](attachment:image.png)"
   ]
  },
  {
   "cell_type": "code",
   "execution_count": 63,
   "metadata": {},
   "outputs": [],
   "source": [
    "n = len(y)\n",
    "pq = p*q\n",
    "qq = q**2\n",
    "B = (n*pq.sum() - q.sum()*p.sum())/(n*qq.sum() - (q.sum())**2)\n",
    "A = p.mean()-B*q.mean()"
   ]
  },
  {
   "cell_type": "markdown",
   "metadata": {},
   "source": [
    "**Hasil persamaan linear**"
   ]
  },
  {
   "cell_type": "code",
   "execution_count": 64,
   "metadata": {},
   "outputs": [
    {
     "name": "stdout",
     "output_type": "stream",
     "text": [
      "p = -0.0262q + 8.9858\n"
     ]
    }
   ],
   "source": [
    "if A>0 :\n",
    "    print (\"p = {:.4f}q + {:.4f}\". format(B,A))\n",
    "else :\n",
    "    print (\"p = {:.4f}q {:.4f}\". format(B,A))"
   ]
  },
  {
   "cell_type": "markdown",
   "metadata": {},
   "source": [
    "**Hitung kembali dalam bentuk bilangan berpangkat**"
   ]
  },
  {
   "cell_type": "code",
   "execution_count": 65,
   "metadata": {},
   "outputs": [],
   "source": [
    "a = np.e**A\n",
    "b = B"
   ]
  },
  {
   "cell_type": "code",
   "execution_count": 66,
   "metadata": {},
   "outputs": [
    {
     "name": "stdout",
     "output_type": "stream",
     "text": [
      "y = 7988.6148x^(-0.0262)\n"
     ]
    }
   ],
   "source": [
    "print (\"y = {:.4f}x^({:.4f})\".format(a,b))"
   ]
  },
  {
   "cell_type": "markdown",
   "metadata": {},
   "source": [
    "**Koefisien Korelasi ( r ) dan Derajat Kesesuaian ( R ) r-square**"
   ]
  },
  {
   "cell_type": "code",
   "execution_count": 67,
   "metadata": {},
   "outputs": [
    {
     "name": "stdout",
     "output_type": "stream",
     "text": [
      "r = 0.9662 dan r^2 = 0.9335\n"
     ]
    }
   ],
   "source": [
    "yDt = ((p - p.mean())**2).sum()\n",
    "yD = ((p - (q*B) - A)**2).sum()\n",
    "r = np.sqrt((yDt-yD)/yDt)\n",
    "r2 = r**2\n",
    "print('r = {:.4f} dan r^2 = {:.4f}'.format(r,r2))"
   ]
  },
  {
   "cell_type": "markdown",
   "metadata": {},
   "source": [
    "**Plot data dan regresinya**"
   ]
  },
  {
   "cell_type": "code",
   "execution_count": 68,
   "metadata": {},
   "outputs": [
    {
     "data": {
      "text/plain": [
       "array([ 0. ,  0.1,  0.2,  0.3,  0.4,  0.5,  0.6,  0.7,  0.8,  0.9,  1. ,\n",
       "        1.1,  1.2,  1.3,  1.4,  1.5,  1.6,  1.7,  1.8,  1.9,  2. ,  2.1,\n",
       "        2.2,  2.3,  2.4,  2.5,  2.6,  2.7,  2.8,  2.9,  3. ,  3.1,  3.2,\n",
       "        3.3,  3.4,  3.5,  3.6,  3.7,  3.8,  3.9,  4. ,  4.1,  4.2,  4.3,\n",
       "        4.4,  4.5,  4.6,  4.7,  4.8,  4.9,  5. ,  5.1,  5.2,  5.3,  5.4,\n",
       "        5.5,  5.6,  5.7,  5.8,  5.9,  6. ,  6.1,  6.2,  6.3,  6.4,  6.5,\n",
       "        6.6,  6.7,  6.8,  6.9,  7. ,  7.1,  7.2,  7.3,  7.4,  7.5,  7.6,\n",
       "        7.7,  7.8,  7.9,  8. ,  8.1,  8.2,  8.3,  8.4,  8.5,  8.6,  8.7,\n",
       "        8.8,  8.9,  9. ,  9.1,  9.2,  9.3,  9.4,  9.5,  9.6,  9.7,  9.8,\n",
       "        9.9, 10. , 10.1, 10.2, 10.3, 10.4, 10.5, 10.6, 10.7, 10.8, 10.9,\n",
       "       11. , 11.1, 11.2, 11.3, 11.4, 11.5, 11.6, 11.7, 11.8, 11.9, 12. ,\n",
       "       12.1, 12.2, 12.3, 12.4, 12.5, 12.6, 12.7, 12.8, 12.9, 13. , 13.1,\n",
       "       13.2, 13.3, 13.4, 13.5, 13.6, 13.7, 13.8, 13.9, 14. , 14.1, 14.2,\n",
       "       14.3, 14.4, 14.5, 14.6, 14.7, 14.8, 14.9, 15. , 15.1, 15.2, 15.3,\n",
       "       15.4, 15.5, 15.6, 15.7, 15.8, 15.9, 16. , 16.1, 16.2, 16.3, 16.4,\n",
       "       16.5, 16.6, 16.7, 16.8, 16.9])"
      ]
     },
     "execution_count": 68,
     "metadata": {},
     "output_type": "execute_result"
    }
   ],
   "source": [
    "#membuat xreg\n",
    "xreg = np.array(range(0,int((x[-1]+1)*10)))\n",
    "xreg = xreg/10 #memperhalus bentuk garis\n",
    "xreg = xreg.astype('float64')\n",
    "xreg"
   ]
  },
  {
   "cell_type": "code",
   "execution_count": 69,
   "metadata": {},
   "outputs": [
    {
     "data": {
      "text/plain": [
       "array([7988.61479106, 7967.72943613, 7946.89868367, 7926.12239092,\n",
       "       7905.4004155 , 7884.73261541, 7864.118849  , 7843.55897503,\n",
       "       7823.05285258, 7802.60034114, 7782.20130053, 7761.85559098,\n",
       "       7741.56307304, 7721.32360767, 7701.13705615, 7681.00328015,\n",
       "       7660.92214169, 7640.89350316, 7620.9172273 , 7600.99317722,\n",
       "       7581.12121638, 7561.30120859, 7541.53301804, 7521.81650925,\n",
       "       7502.1515471 , 7482.53799683, 7462.97572403, 7443.46459464,\n",
       "       7424.00447496, 7404.59523162, 7385.23673161, 7365.92884227,\n",
       "       7346.67143128, 7327.46436668, 7308.30751683, 7289.20075047,\n",
       "       7270.14393664, 7251.13694476, 7232.17964456, 7213.27190615,\n",
       "       7194.41359993, 7175.60459669, 7156.84476751, 7138.13398385,\n",
       "       7119.47211747, 7100.85904049, 7082.29462536, 7063.77874484,\n",
       "       7045.31127206, 7026.89208045, 7008.5210438 , 6990.1980362 ,\n",
       "       6971.92293209, 6953.69560623, 6935.51593371, 6917.38378995,\n",
       "       6899.29905068, 6881.26159197, 6863.27129021, 6845.32802212,\n",
       "       6827.43166474, 6809.58209541, 6791.77919181, 6774.02283195,\n",
       "       6756.31289414, 6738.64925702, 6721.03179953, 6703.46040095,\n",
       "       6685.93494086, 6668.45529915, 6651.02135605, 6633.63299207,\n",
       "       6616.29008806, 6598.99252517, 6581.74018485, 6564.53294888,\n",
       "       6547.37069933, 6530.2533186 , 6513.18068938, 6496.15269467,\n",
       "       6479.16921778, 6462.23014232, 6445.33535221, 6428.48473167,\n",
       "       6411.67816523, 6394.91553771, 6378.19673423, 6361.52164023,\n",
       "       6344.89014143, 6328.30212385, 6311.75747382, 6295.25607796,\n",
       "       6278.79782318, 6262.3825967 , 6246.01028602, 6229.68077896,\n",
       "       6213.39396359, 6197.14972831, 6180.94796179, 6164.78855301,\n",
       "       6148.67139123, 6132.596366  , 6116.56336716, 6100.57228482,\n",
       "       6084.62300941, 6068.71543163, 6052.84944246, 6037.02493318,\n",
       "       6021.24179534, 6005.49992077, 5989.7992016 , 5974.13953024,\n",
       "       5958.52079937, 5942.94290195, 5927.40573123, 5911.90918073,\n",
       "       5896.45314426, 5881.0375159 , 5865.66219001, 5850.32706121,\n",
       "       5835.03202443, 5819.77697483, 5804.56180788, 5789.38641932,\n",
       "       5774.25070514, 5759.15456161, 5744.0978853 , 5729.08057301,\n",
       "       5714.10252183, 5699.16362913, 5684.26379251, 5669.40290988,\n",
       "       5654.58087939, 5639.79759947, 5625.05296881, 5610.34688636,\n",
       "       5595.67925135, 5581.04996326, 5566.45892183, 5551.90602708,\n",
       "       5537.39117927, 5522.91427894, 5508.47522686, 5494.07392411,\n",
       "       5479.71027197, 5465.38417202, 5451.09552609, 5436.84423625,\n",
       "       5422.63020484, 5408.45333445, 5394.31352793, 5380.21068839,\n",
       "       5366.14471916, 5352.11552386, 5338.12300635, 5324.16707074,\n",
       "       5310.24762139, 5296.36456291, 5282.51780016, 5268.70723825,\n",
       "       5254.93278253, 5241.19433862, 5227.49181235, 5213.82510983,\n",
       "       5200.1941374 , 5186.59880165, 5173.03900942, 5159.51466776,\n",
       "       5146.02568401, 5132.57196573])"
      ]
     },
     "execution_count": 69,
     "metadata": {},
     "output_type": "execute_result"
    }
   ],
   "source": [
    "#membuat yreg\n",
    "yreg = a*np.e**(b*xreg)\n",
    "yreg"
   ]
  },
  {
   "cell_type": "code",
   "execution_count": 70,
   "metadata": {},
   "outputs": [
    {
     "data": {
      "text/plain": [
       "Text(0, 0.5, 'y-banyak orang')"
      ]
     },
     "execution_count": 70,
     "metadata": {},
     "output_type": "execute_result"
    },
    {
     "data": {
      "image/png": "[encoded data removed]",
      "text/plain": [
       "<Figure size 432x288 with 1 Axes>"
      ]
     },
     "metadata": {
      "needs_background": "light"
     },
     "output_type": "display_data"
    }
   ],
   "source": [
    "ax = plt.plot(x,y,'ro')\n",
    "plt.plot(xreg,yreg,'b')\n",
    "plt.grid()\n",
    "plt.xlabel('x-hari ke')\n",
    "plt.ylabel('y-banyak orang')"
   ]
  },
  {
   "cell_type": "markdown",
   "metadata": {},
   "source": [
    "**Selesai**"
   ]
  },
  {
   "cell_type": "markdown",
   "metadata": {},
   "source": [
    "#### Regresi Polinomial"
   ]
  },
  {
   "cell_type": "code",
   "execution_count": 71,
   "metadata": {},
   "outputs": [
    {
     "data": {
      "text/plain": [
       "array([7362., 7293., 7198., 7180., 7253., 7024., 6838., 6789., 6527.,\n",
       "       6325., 6085., 5884., 5684., 5410., 5281., 4966.])"
      ]
     },
     "execution_count": 71,
     "metadata": {},
     "output_type": "execute_result"
    }
   ],
   "source": [
    "y = np.array ((7362, 7293, 7198, 7180, 7253, 7024, 6838, 6789, 6527, 6325, 6085, 5884, 5684, 5410, 5281, 4966))\n",
    "y = y.astype('float64')\n",
    "y"
   ]
  },
  {
   "cell_type": "code",
   "execution_count": 72,
   "metadata": {},
   "outputs": [
    {
     "data": {
      "text/plain": [
       "array([ 1.,  2.,  3.,  4.,  5.,  6.,  7.,  8.,  9., 10., 11., 12., 13.,\n",
       "       14., 15., 16.])"
      ]
     },
     "execution_count": 72,
     "metadata": {},
     "output_type": "execute_result"
    }
   ],
   "source": [
    "x = np.array((range(1,1+len(y))))\n",
    "x = x.astype('float64')\n",
    "x"
   ]
  },
  {
   "cell_type": "markdown",
   "metadata": {},
   "source": [
    "**Membentuk regresi polinomial dari matriks**"
   ]
  },
  {
   "attachments": {
    "image.png": {
     "image/png": "[encoded data removed]"
    }
   },
   "cell_type": "markdown",
   "metadata": {},
   "source": [
    "![image.png](attachment:image.png)"
   ]
  },
  {
   "cell_type": "markdown",
   "metadata": {},
   "source": [
    "**Mendefinisikan elemen-elemen matriks kiri**"
   ]
  },
  {
   "cell_type": "code",
   "execution_count": 73,
   "metadata": {},
   "outputs": [
    {
     "data": {
      "text/plain": [
       "array([[1.6000000e+01, 1.3600000e+02, 1.4960000e+03, 1.8496000e+04],\n",
       "       [1.3600000e+02, 1.4960000e+03, 1.8496000e+04, 2.4384800e+05],\n",
       "       [1.4960000e+03, 1.8496000e+04, 2.4384800e+05, 3.3477760e+06],\n",
       "       [1.8496000e+04, 2.4384800e+05, 3.3477760e+06, 4.7260136e+07]])"
      ]
     },
     "execution_count": 73,
     "metadata": {},
     "output_type": "execute_result"
    }
   ],
   "source": [
    "n = len(y)\n",
    "a = x.sum()\n",
    "b = (x**2).sum()\n",
    "c = (x**3).sum()\n",
    "d = (x**4).sum()\n",
    "e = (x**5).sum()\n",
    "f = (x**6).sum()\n",
    "A = np.array(([n, a, b, c],\n",
    "    [a, b, c, d],\n",
    "    [b, c, d, e],\n",
    "    [c, d, e, f]))\n",
    "A"
   ]
  },
  {
   "cell_type": "markdown",
   "metadata": {},
   "source": [
    "**Mendefinisikan elemen-elemen matriks kanan**"
   ]
  },
  {
   "cell_type": "code",
   "execution_count": 74,
   "metadata": {},
   "outputs": [
    {
     "data": {
      "text/plain": [
       "array([[1.03099000e+05],\n",
       "       [8.20688000e+05],\n",
       "       [8.64518800e+06],\n",
       "       [1.03811552e+08]])"
      ]
     },
     "execution_count": 74,
     "metadata": {},
     "output_type": "execute_result"
    }
   ],
   "source": [
    "g = y.sum()\n",
    "h = (x*y).sum()\n",
    "i = ((x**2)*y).sum()\n",
    "j = ((x**3)*y).sum()\n",
    "B = np.array(([g],\n",
    "    [h],\n",
    "    [i],\n",
    "    [j]))\n",
    "B"
   ]
  },
  {
   "cell_type": "markdown",
   "metadata": {},
   "source": [
    "**Invers matriks sisi kiri**"
   ]
  },
  {
   "cell_type": "code",
   "execution_count": 75,
   "metadata": {},
   "outputs": [
    {
     "data": {
      "text/plain": [
       "array([[ 1.66208791e+00, -7.49542125e-01,  9.06593407e-02,\n",
       "        -3.20512821e-03],\n",
       "       [-7.49542125e-01,  4.05623000e-01, -5.32179808e-02,\n",
       "         1.97026629e-03],\n",
       "       [ 9.06593407e-02, -5.32179808e-02,  7.34443575e-03,\n",
       "        -2.81151597e-04],\n",
       "       [-3.20512821e-03,  1.97026629e-03, -2.81151597e-04,\n",
       "         1.10255528e-05]])"
      ]
     },
     "execution_count": 75,
     "metadata": {},
     "output_type": "execute_result"
    }
   ],
   "source": [
    "Ainv = np.linalg.inv(A)\n",
    "Ainv"
   ]
  },
  {
   "cell_type": "markdown",
   "metadata": {},
   "source": [
    "**Mencari nilai a0, a1, a2, dst dengan a = (A^-1)B namun di sini variabel a diganti dengan Y**"
   ]
  },
  {
   "cell_type": "code",
   "execution_count": 76,
   "metadata": {},
   "outputs": [
    {
     "name": "stdout",
     "output_type": "stream",
     "text": [
      "[[ 7.25708516e+03]\n",
      " [ 6.98373899e+01]\n",
      " [-2.12267178e+01]\n",
      " [ 4.99725464e-01]]\n"
     ]
    }
   ],
   "source": [
    "Y = Ainv.dot(B)\n",
    "print(Y)"
   ]
  },
  {
   "cell_type": "code",
   "execution_count": 77,
   "metadata": {},
   "outputs": [],
   "source": [
    "a0 = Y[0,0]\n",
    "a1 = Y[1,0]\n",
    "a2 = Y[2,0]\n",
    "a3 = Y[3,0]"
   ]
  },
  {
   "cell_type": "markdown",
   "metadata": {},
   "source": [
    "**Hasil persamaan regresi polinomial**"
   ]
  },
  {
   "cell_type": "code",
   "execution_count": 78,
   "metadata": {},
   "outputs": [
    {
     "name": "stdout",
     "output_type": "stream",
     "text": [
      "y = 0.4997x^3 + -21.2267X^2 + 69.8374x + 7257.0852\n"
     ]
    }
   ],
   "source": [
    "print('y = {:.4f}x^3 + {:.4f}X^2 + {:.4f}x + {:.4f}'.format(a3, a2, a1, a0))"
   ]
  },
  {
   "cell_type": "code",
   "execution_count": 79,
   "metadata": {},
   "outputs": [
    {
     "data": {
      "text/plain": [
       "array([7362., 7293., 7198., 7180., 7253., 7024., 6838., 6789., 6527.,\n",
       "       6325., 6085., 5884., 5684., 5410., 5281., 4966.])"
      ]
     },
     "execution_count": 79,
     "metadata": {},
     "output_type": "execute_result"
    }
   ],
   "source": [
    "y"
   ]
  },
  {
   "cell_type": "markdown",
   "metadata": {},
   "source": [
    "**Koefisien Korelasi ( r ) dan Derajat Kesesuaian ( R ) r-square**"
   ]
  },
  {
   "cell_type": "code",
   "execution_count": 80,
   "metadata": {},
   "outputs": [
    {
     "name": "stdout",
     "output_type": "stream",
     "text": [
      "r = 0.9978 dan r^2 = 0.9335\n"
     ]
    }
   ],
   "source": [
    "yDt = (y-y.mean())**2\n",
    "yD = (y-a0-a1*x-a2*(x**2)-a3*(x**3))**2\n",
    "r = np.sqrt((yDt.sum()-yD.sum())/yDt.sum())\n",
    "R2 = r**2\n",
    "print('r = {:.4f} dan r^2 = {:.4f}'.format(r,r2))"
   ]
  },
  {
   "cell_type": "markdown",
   "metadata": {},
   "source": [
    "**Plot**"
   ]
  },
  {
   "cell_type": "code",
   "execution_count": 81,
   "metadata": {},
   "outputs": [
    {
     "data": {
      "text/plain": [
       "Text(0, 0.5, 'y')"
      ]
     },
     "execution_count": 81,
     "metadata": {},
     "output_type": "execute_result"
    },
    {
     "data": {
      "image/png": "[encoded data removed]",
      "text/plain": [
       "<Figure size 432x288 with 1 Axes>"
      ]
     },
     "metadata": {
      "needs_background": "light"
     },
     "output_type": "display_data"
    }
   ],
   "source": [
    "xreg = np.array(range(0,int((x[-1]+0.5)*10)))\n",
    "xreg = xreg/10\n",
    "yreg = a0 + a1*xreg + a2*(xreg**2) + a3*(xreg**3)\n",
    "ax = plt.plot(x,y,'ro')\n",
    "plt.plot(xreg,yreg,'b')\n",
    "plt.grid()\n",
    "plt.xlabel('x')\n",
    "plt.ylabel('y')"
   ]
  },
  {
   "cell_type": "markdown",
   "metadata": {},
   "source": [
    "**Perbandingan jika memakai polyfit dengan derajat dinaikkan**"
   ]
  },
  {
   "cell_type": "code",
   "execution_count": 82,
   "metadata": {},
   "outputs": [
    {
     "data": {
      "image/png": "[encoded data removed]",
      "text/plain": [
       "<Figure size 432x288 with 1 Axes>"
      ]
     },
     "metadata": {
      "needs_background": "light"
     },
     "output_type": "display_data"
    }
   ],
   "source": [
    "regpoly = np.poly1d(np.polyfit(x, y, 5))\n",
    "\n",
    "myline = np.linspace(1, len(y), 100)\n",
    "\n",
    "plt.scatter(x, y)\n",
    "plt.plot(myline, regpoly(myline), linewidth=3, color='r')\n",
    "plt.show()"
   ]
  },
  {
   "cell_type": "code",
   "execution_count": 83,
   "metadata": {},
   "outputs": [
    {
     "name": "stdout",
     "output_type": "stream",
     "text": [
      "          5         4         3         2\n",
      "-0.02434 x + 1.083 x - 17.04 x + 103.6 x - 296.8 x + 7573\n"
     ]
    }
   ],
   "source": [
    "print (regpoly)"
   ]
  },
  {
   "cell_type": "code",
   "execution_count": 84,
   "metadata": {},
   "outputs": [
    {
     "name": "stdout",
     "output_type": "stream",
     "text": [
      "0.997122510455871\n"
     ]
    }
   ],
   "source": [
    "print(r2_score(y, regpoly(x)))"
   ]
  },
  {
   "cell_type": "markdown",
   "metadata": {},
   "source": [
    "**Selesai**"
   ]
  },
  {
   "cell_type": "code",
   "execution_count": null,
   "metadata": {},
   "outputs": [],
   "source": []
  },
  {
   "cell_type": "markdown",
   "metadata": {},
   "source": [
    "### Total Death"
   ]
  },
  {
   "cell_type": "markdown",
   "metadata": {},
   "source": [
    "- Start: 20-Feb-2020\n",
    "- End: 26-Mar-2020\n",
    "- Range: 36 Days"
   ]
  },
  {
   "cell_type": "markdown",
   "metadata": {},
   "source": [
    "**Data**"
   ]
  },
  {
   "cell_type": "code",
   "execution_count": 85,
   "metadata": {},
   "outputs": [
    {
     "data": {
      "text/plain": [
       "array([  1.,   2.,   2.,   6.,   8.,  11.,  12.,  13.,  16.,  17.,  21.,\n",
       "        28.,  32.,  35.,  42.,  43.,  48.,  50.,  53.,  60.,  60.,  66.,\n",
       "        67.,  72.,  75.,  75.,  81.,  84.,  91.,  94., 102., 104., 111.,\n",
       "       120., 126., 131.])"
      ]
     },
     "execution_count": 85,
     "metadata": {},
     "output_type": "execute_result"
    }
   ],
   "source": [
    "y = np.array ((1, 2, 2, 6, 8, 11, 12, 13, 16, 17, 21, 28, 32, 35, 42, 43, 48, 50, 53, 60, 60, 66, 67, 72, 75, 75, 81, 84, 91, 94, 102, 104, 111, 120, 126, 131))\n",
    "y = y.astype('float64')\n",
    "y"
   ]
  },
  {
   "cell_type": "code",
   "execution_count": 86,
   "metadata": {},
   "outputs": [
    {
     "data": {
      "text/plain": [
       "array([ 1.,  2.,  3.,  4.,  5.,  6.,  7.,  8.,  9., 10., 11., 12., 13.,\n",
       "       14., 15., 16., 17., 18., 19., 20., 21., 22., 23., 24., 25., 26.,\n",
       "       27., 28., 29., 30., 31., 32., 33., 34., 35., 36.])"
      ]
     },
     "execution_count": 86,
     "metadata": {},
     "output_type": "execute_result"
    }
   ],
   "source": [
    "x = np.array((range(1,1+len(y))))\n",
    "x = x.astype('float64')\n",
    "x"
   ]
  },
  {
   "cell_type": "markdown",
   "metadata": {},
   "source": [
    "**Plot**"
   ]
  },
  {
   "cell_type": "code",
   "execution_count": 87,
   "metadata": {},
   "outputs": [
    {
     "data": {
      "text/plain": [
       "Text(0, 0.5, 'y-jumlah orang')"
      ]
     },
     "execution_count": 87,
     "metadata": {},
     "output_type": "execute_result"
    },
    {
     "data": {
      "image/png": "[encoded data removed]",
      "text/plain": [
       "<Figure size 432x288 with 1 Axes>"
      ]
     },
     "metadata": {
      "needs_background": "light"
     },
     "output_type": "display_data"
    }
   ],
   "source": [
    "ax = plt.plot(x,y,'ro')\n",
    "plt.grid()\n",
    "plt.xlabel('x-hari')\n",
    "plt.ylabel('y-jumlah orang')"
   ]
  },
  {
   "cell_type": "markdown",
   "metadata": {},
   "source": [
    "#### Regresi Berpangkat"
   ]
  },
  {
   "cell_type": "markdown",
   "metadata": {},
   "source": [
    "**Data**"
   ]
  },
  {
   "cell_type": "code",
   "execution_count": 88,
   "metadata": {},
   "outputs": [
    {
     "data": {
      "text/plain": [
       "array([  1.,   2.,   2.,   6.,   8.,  11.,  12.,  13.,  16.,  17.,  21.,\n",
       "        28.,  32.,  35.,  42.,  43.,  48.,  50.,  53.,  60.,  60.,  66.,\n",
       "        67.,  72.,  75.,  75.,  81.,  84.,  91.,  94., 102., 104., 111.,\n",
       "       120., 126., 131.])"
      ]
     },
     "execution_count": 88,
     "metadata": {},
     "output_type": "execute_result"
    }
   ],
   "source": [
    "y = np.array ((1, 2, 2, 6, 8, 11, 12, 13, 16, 17, 21, 28, 32, 35, 42, 43, 48, 50, 53, 60, 60, 66, 67, 72, 75, 75, 81, 84, 91, 94, 102, 104, 111, 120, 126, 131))\n",
    "y = y.astype('float64')\n",
    "y"
   ]
  },
  {
   "cell_type": "code",
   "execution_count": 89,
   "metadata": {},
   "outputs": [
    {
     "data": {
      "text/plain": [
       "array([ 1.,  2.,  3.,  4.,  5.,  6.,  7.,  8.,  9., 10., 11., 12., 13.,\n",
       "       14., 15., 16., 17., 18., 19., 20., 21., 22., 23., 24., 25., 26.,\n",
       "       27., 28., 29., 30., 31., 32., 33., 34., 35., 36.])"
      ]
     },
     "execution_count": 89,
     "metadata": {},
     "output_type": "execute_result"
    }
   ],
   "source": [
    "x = np.array((range(1,1+len(y))))\n",
    "x = x.astype('float64')\n",
    "x"
   ]
  },
  {
   "attachments": {
    "image.png": {
     "image/png": "[encoded data removed]"
    }
   },
   "cell_type": "markdown",
   "metadata": {},
   "source": [
    "![image.png](attachment:image.png)"
   ]
  },
  {
   "cell_type": "markdown",
   "metadata": {},
   "source": [
    "**Membuat xreg untuk plotting selanjutnya**"
   ]
  },
  {
   "cell_type": "code",
   "execution_count": 90,
   "metadata": {},
   "outputs": [
    {
     "data": {
      "text/plain": [
       "array([ 1. ,  1.1,  1.2,  1.3,  1.4,  1.5,  1.6,  1.7,  1.8,  1.9,  2. ,\n",
       "        2.1,  2.2,  2.3,  2.4,  2.5,  2.6,  2.7,  2.8,  2.9,  3. ,  3.1,\n",
       "        3.2,  3.3,  3.4,  3.5,  3.6,  3.7,  3.8,  3.9,  4. ,  4.1,  4.2,\n",
       "        4.3,  4.4,  4.5,  4.6,  4.7,  4.8,  4.9,  5. ,  5.1,  5.2,  5.3,\n",
       "        5.4,  5.5,  5.6,  5.7,  5.8,  5.9,  6. ,  6.1,  6.2,  6.3,  6.4,\n",
       "        6.5,  6.6,  6.7,  6.8,  6.9,  7. ,  7.1,  7.2,  7.3,  7.4,  7.5,\n",
       "        7.6,  7.7,  7.8,  7.9,  8. ,  8.1,  8.2,  8.3,  8.4,  8.5,  8.6,\n",
       "        8.7,  8.8,  8.9,  9. ,  9.1,  9.2,  9.3,  9.4,  9.5,  9.6,  9.7,\n",
       "        9.8,  9.9, 10. , 10.1, 10.2, 10.3, 10.4, 10.5, 10.6, 10.7, 10.8,\n",
       "       10.9, 11. , 11.1, 11.2, 11.3, 11.4, 11.5, 11.6, 11.7, 11.8, 11.9,\n",
       "       12. , 12.1, 12.2, 12.3, 12.4, 12.5, 12.6, 12.7, 12.8, 12.9, 13. ,\n",
       "       13.1, 13.2, 13.3, 13.4, 13.5, 13.6, 13.7, 13.8, 13.9, 14. , 14.1,\n",
       "       14.2, 14.3, 14.4, 14.5, 14.6, 14.7, 14.8, 14.9, 15. , 15.1, 15.2,\n",
       "       15.3, 15.4, 15.5, 15.6, 15.7, 15.8, 15.9, 16. , 16.1, 16.2, 16.3,\n",
       "       16.4, 16.5, 16.6, 16.7, 16.8, 16.9, 17. , 17.1, 17.2, 17.3, 17.4,\n",
       "       17.5, 17.6, 17.7, 17.8, 17.9, 18. , 18.1, 18.2, 18.3, 18.4, 18.5,\n",
       "       18.6, 18.7, 18.8, 18.9, 19. , 19.1, 19.2, 19.3, 19.4, 19.5, 19.6,\n",
       "       19.7, 19.8, 19.9, 20. , 20.1, 20.2, 20.3, 20.4, 20.5, 20.6, 20.7,\n",
       "       20.8, 20.9, 21. , 21.1, 21.2, 21.3, 21.4, 21.5, 21.6, 21.7, 21.8,\n",
       "       21.9, 22. , 22.1, 22.2, 22.3, 22.4, 22.5, 22.6, 22.7, 22.8, 22.9,\n",
       "       23. , 23.1, 23.2, 23.3, 23.4, 23.5, 23.6, 23.7, 23.8, 23.9, 24. ,\n",
       "       24.1, 24.2, 24.3, 24.4, 24.5, 24.6, 24.7, 24.8, 24.9, 25. , 25.1,\n",
       "       25.2, 25.3, 25.4, 25.5, 25.6, 25.7, 25.8, 25.9, 26. , 26.1, 26.2,\n",
       "       26.3, 26.4, 26.5, 26.6, 26.7, 26.8, 26.9, 27. , 27.1, 27.2, 27.3,\n",
       "       27.4, 27.5, 27.6, 27.7, 27.8, 27.9, 28. , 28.1, 28.2, 28.3, 28.4,\n",
       "       28.5, 28.6, 28.7, 28.8, 28.9, 29. , 29.1, 29.2, 29.3, 29.4, 29.5,\n",
       "       29.6, 29.7, 29.8, 29.9, 30. , 30.1, 30.2, 30.3, 30.4, 30.5, 30.6,\n",
       "       30.7, 30.8, 30.9, 31. , 31.1, 31.2, 31.3, 31.4, 31.5, 31.6, 31.7,\n",
       "       31.8, 31.9, 32. , 32.1, 32.2, 32.3, 32.4, 32.5, 32.6, 32.7, 32.8,\n",
       "       32.9, 33. , 33.1, 33.2, 33.3, 33.4, 33.5, 33.6, 33.7, 33.8, 33.9,\n",
       "       34. , 34.1, 34.2, 34.3, 34.4, 34.5, 34.6, 34.7, 34.8, 34.9, 35. ,\n",
       "       35.1, 35.2, 35.3, 35.4, 35.5, 35.6, 35.7, 35.8, 35.9, 36. , 36.1,\n",
       "       36.2, 36.3, 36.4, 36.5, 36.6, 36.7, 36.8, 36.9])"
      ]
     },
     "execution_count": 90,
     "metadata": {},
     "output_type": "execute_result"
    }
   ],
   "source": [
    "#membuat xreg\n",
    "xreg = np.array(range(10,int((x[-1]+1)*10)))\n",
    "xreg = xreg/10 #memperhalus bentuk garis\n",
    "xreg = xreg.astype('float64')\n",
    "xreg"
   ]
  },
  {
   "cell_type": "markdown",
   "metadata": {},
   "source": [
    "**Regresi berpangkat**"
   ]
  },
  {
   "attachments": {
    "image.png": {
     "image/png": "[encoded data removed]"
    }
   },
   "cell_type": "markdown",
   "metadata": {},
   "source": [
    "![image.png](attachment:image.png)"
   ]
  },
  {
   "attachments": {
    "image.png": {
     "image/png": "[encoded data removed]"
    }
   },
   "cell_type": "markdown",
   "metadata": {},
   "source": [
    "![image.png](attachment:image.png)"
   ]
  },
  {
   "attachments": {
    "image.png": {
     "image/png": "[encoded data removed]"
    }
   },
   "cell_type": "markdown",
   "metadata": {},
   "source": [
    "![image.png](attachment:image.png)"
   ]
  },
  {
   "cell_type": "code",
   "execution_count": 91,
   "metadata": {},
   "outputs": [],
   "source": [
    "p = np.log10(y)\n",
    "q = np.log10(x)"
   ]
  },
  {
   "cell_type": "markdown",
   "metadata": {},
   "source": [
    "**Hitung regresi linear**"
   ]
  },
  {
   "cell_type": "code",
   "execution_count": 92,
   "metadata": {},
   "outputs": [],
   "source": [
    "n = len(y)\n",
    "pq = p*q\n",
    "qq = q**2\n",
    "B = (n*pq.sum() - q.sum()*p.sum())/(n*qq.sum() - (q.sum())**2)\n",
    "A = p.mean()-B*q.mean()"
   ]
  },
  {
   "cell_type": "markdown",
   "metadata": {},
   "source": [
    "**Hasil regresi linear**"
   ]
  },
  {
   "cell_type": "code",
   "execution_count": 93,
   "metadata": {},
   "outputs": [
    {
     "name": "stdout",
     "output_type": "stream",
     "text": [
      "p = 1.4363q -0.1288\n"
     ]
    }
   ],
   "source": [
    "if A>0 :\n",
    "    print (\"p = {:.4f}q + {:.4f}\". format(B,A))\n",
    "else :\n",
    "    print (\"p = {:.4f}q {:.4f}\". format(B,A))"
   ]
  },
  {
   "cell_type": "markdown",
   "metadata": {},
   "source": [
    "**Kembalikan ke bentuk pangkat**"
   ]
  },
  {
   "cell_type": "code",
   "execution_count": 94,
   "metadata": {},
   "outputs": [
    {
     "name": "stdout",
     "output_type": "stream",
     "text": [
      "y = 0.7434x^(1.4363)\n"
     ]
    }
   ],
   "source": [
    "a = 10**A #A=log(a)\n",
    "b = B\n",
    "print (\"y = {:.4f}x^({:.4f})\".format(a,b))"
   ]
  },
  {
   "cell_type": "markdown",
   "metadata": {},
   "source": [
    "**Koefisien Korelasi ( r ) dan Derajat Kesesuaian ( R ) r-square**"
   ]
  },
  {
   "cell_type": "code",
   "execution_count": 95,
   "metadata": {},
   "outputs": [
    {
     "name": "stdout",
     "output_type": "stream",
     "text": [
      "r = 0.9944 dan r^2 = 0.9889\n"
     ]
    }
   ],
   "source": [
    "yDt = ((p - p.mean())**2).sum()\n",
    "yD = ((p - (q*B) - A)**2).sum()\n",
    "r = np.sqrt((yDt-yD)/yDt)\n",
    "r2 = r**2\n",
    "print('r = {:.4f} dan r^2 = {:.4f}'.format(r,r2))"
   ]
  },
  {
   "cell_type": "markdown",
   "metadata": {},
   "source": [
    "**Plot**"
   ]
  },
  {
   "cell_type": "code",
   "execution_count": 96,
   "metadata": {},
   "outputs": [
    {
     "data": {
      "text/plain": [
       "array([  0.74342277,   0.85249176,   0.96597913,   1.083673  ,\n",
       "         1.20538749,   1.3309579 ,   1.46023698,   1.59309208,\n",
       "         1.72940298,   1.86906001,   2.01196266,   2.15801838,\n",
       "         2.30714159,   2.45925285,   2.61427819,   2.77214851,\n",
       "         2.93279906,   3.09616903,   3.26220116,   3.43084142,\n",
       "         3.60203871,   3.77574463,   3.95191321,   4.13050077,\n",
       "         4.31146571,   4.49476834,   4.68037078,   4.86823679,\n",
       "         5.05833167,   5.25062216,   5.44507635,   5.64166357,\n",
       "         5.84035434,   6.04112027,   6.24393402,   6.44876922,\n",
       "         6.65560042,   6.86440305,   7.07515335,   7.28782834,\n",
       "         7.50240577,   7.71886411,   7.93718248,   8.15734062,\n",
       "         8.37931889,   8.60309822,   8.82866005,   9.0559864 ,\n",
       "         9.28505972,   9.51586299,   9.74837962,   9.98259344,\n",
       "        10.21848872,  10.45605012,  10.69526267,  10.93611179,\n",
       "        11.17858322,  11.42266309,  11.66833779,  11.91559408,\n",
       "        12.16441899,  12.41479984,  12.66672426,  12.92018011,\n",
       "        13.17515554,  13.43163894,  13.68961893,  13.9490844 ,\n",
       "        14.21002442,  14.47242832,  14.73628563,  15.00158607,\n",
       "        15.26831957,  15.53647626,  15.80604645,  16.07702062,\n",
       "        16.34938945,  16.62314376,  16.89827456,  17.17477301,\n",
       "        17.45263043,  17.73183828,  18.01238818,  18.29427188,\n",
       "        18.57748129,  18.86200844,  19.14784549,  19.43498472,\n",
       "        19.72341857,  20.01313955,  20.30414034,  20.59641369,\n",
       "        20.8899525 ,  21.18474975,  21.48079854,  21.77809208,\n",
       "        22.07662366,  22.3763867 ,  22.67737469,  22.97958122,\n",
       "        23.28299999,  23.58762476,  23.8934494 ,  24.20046787,\n",
       "        24.50867418,  24.81806247,  25.12862692,  25.44036181,\n",
       "        25.75326149,  26.06732039,  26.382533  ,  26.69889389,\n",
       "        27.01639771,  27.33503917,  27.65481305,  27.97571418,\n",
       "        28.29773747,  28.6208779 ,  28.9451305 ,  29.27049037,\n",
       "        29.59695265,  29.92451257,  30.25316538,  30.58290641,\n",
       "        30.91373105,  31.24563473,  31.57861294,  31.91266121,\n",
       "        32.24777514,  32.58395037,  32.92118258,  33.25946752,\n",
       "        33.59880096,  33.93917875,  34.28059675,  34.6230509 ,\n",
       "        34.96653715,  35.31105152,  35.65659006,  36.00314885,\n",
       "        36.35072405,  36.69931181,  37.04890836,  37.39950995,\n",
       "        37.75111287,  38.10371346,  38.45730807,  38.81189311,\n",
       "        39.16746503,  39.52402029,  39.8815554 ,  40.24006692,\n",
       "        40.59955141,  40.96000548,  41.32142578,  41.68380899,\n",
       "        42.0471518 ,  42.41145097,  42.77670324,  43.14290543,\n",
       "        43.51005435,  43.87814688,  44.24717989,  44.61715029,\n",
       "        44.98805503,  45.35989108,  45.73265544,  46.10634512,\n",
       "        46.48095718,  46.8564887 ,  47.23293677,  47.61029851,\n",
       "        47.9885711 ,  48.36775169,  48.74783748,  49.12882571,\n",
       "        49.51071362,  49.89349848,  50.27717758,  50.66174824,\n",
       "        51.04720779,  51.4335536 ,  51.82078305,  52.20889354,\n",
       "        52.59788249,  52.98774736,  53.3784856 ,  53.77009469,\n",
       "        54.16257216,  54.55591552,  54.95012231,  55.3451901 ,\n",
       "        55.74111647,  56.13789903,  56.5355354 ,  56.9340232 ,\n",
       "        57.33336011,  57.73354379,  58.13457194,  58.53644226,\n",
       "        58.93915248,  59.34270034,  59.74708361,  60.15230006,\n",
       "        60.55834749,  60.9652237 ,  61.37292651,  61.78145378,\n",
       "        62.19080334,  62.60097309,  63.0119609 ,  63.42376468,\n",
       "        63.83638233,  64.24981181,  64.66405104,  65.07909799,\n",
       "        65.49495064,  65.91160697,  66.32906499,  66.74732271,\n",
       "        67.16637816,  67.58622939,  68.00687445,  68.42831141,\n",
       "        68.85053836,  69.27355338,  69.69735459,  70.12194011,\n",
       "        70.54730807,  70.97345662,  71.40038391,  71.82808811,\n",
       "        72.25656741,  72.68581999,  73.11584407,  73.54663785,\n",
       "        73.97819957,  74.41052746,  74.84361978,  75.27747478,\n",
       "        75.71209074,  76.14746594,  76.58359868,  77.02048725,\n",
       "        77.45812998,  77.89652518,  78.3356712 ,  78.77556638,\n",
       "        79.21620907,  79.65759764,  80.09973046,  80.54260593,\n",
       "        80.98622243,  81.43057837,  81.87567216,  82.32150223,\n",
       "        82.76806701,  83.21536494,  83.66339447,  84.11215407,\n",
       "        84.56164219,  85.01185733,  85.46279796,  85.91446259,\n",
       "        86.3668497 ,  86.81995783,  87.27378549,  87.7283312 ,\n",
       "        88.18359351,  88.63957096,  89.09626211,  89.55366551,\n",
       "        90.01177975,  90.47060339,  90.93013502,  91.39037324,\n",
       "        91.85131665,  92.31296385,  92.77531347,  93.23836413,\n",
       "        93.70211445,  94.16656309,  94.63170867,  95.09754987,\n",
       "        95.56408534,  96.03131374,  96.49923376,  96.96784407,\n",
       "        97.43714337,  97.90713034,  98.3778037 ,  98.84916215,\n",
       "        99.3212044 ,  99.79392919, 100.26733523, 100.74142128,\n",
       "       101.21618606, 101.69162832, 102.16774683, 102.64454035,\n",
       "       103.12200763, 103.60014746, 104.07895862, 104.55843989,\n",
       "       105.03859007, 105.51940795, 106.00089233, 106.48304204,\n",
       "       106.96585588, 107.44933267, 107.93347125, 108.41827045,\n",
       "       108.9037291 , 109.38984605, 109.87662016, 110.36405028,\n",
       "       110.85213526, 111.34087398, 111.83026531, 112.32030813,\n",
       "       112.81100132, 113.30234376, 113.79433436, 114.28697201,\n",
       "       114.78025561, 115.27418408, 115.76875632, 116.26397127,\n",
       "       116.75982783, 117.25632495, 117.75346155, 118.25123658,\n",
       "       118.74964897, 119.24869769, 119.74838167, 120.24869989,\n",
       "       120.74965129, 121.25123486, 121.75344956, 122.25629438,\n",
       "       122.75976828, 123.26387026, 123.76859932, 124.27395443,\n",
       "       124.77993461, 125.28653886, 125.79376619, 126.3016156 ,\n",
       "       126.81008613, 127.31917678, 127.82888658, 128.33921457,\n",
       "       128.85015978, 129.36172124, 129.87389801, 130.38668912,\n",
       "       130.90009362, 131.41411058, 131.92873905, 132.44397809])"
      ]
     },
     "execution_count": 96,
     "metadata": {},
     "output_type": "execute_result"
    }
   ],
   "source": [
    "#membuat yreg\n",
    "yreg = a*(xreg**b)\n",
    "yreg\n",
    "    "
   ]
  },
  {
   "cell_type": "code",
   "execution_count": 97,
   "metadata": {},
   "outputs": [
    {
     "data": {
      "text/plain": [
       "Text(0, 0.5, 'y-banyak orang')"
      ]
     },
     "execution_count": 97,
     "metadata": {},
     "output_type": "execute_result"
    },
    {
     "data": {
      "image/png": "[encoded data removed]",
      "text/plain": [
       "<Figure size 432x288 with 1 Axes>"
      ]
     },
     "metadata": {
      "needs_background": "light"
     },
     "output_type": "display_data"
    }
   ],
   "source": [
    "ax = plt.plot(x,y,'ro')\n",
    "plt.plot(xreg,yreg,'g')\n",
    "plt.grid()\n",
    "plt.xlabel('x-hari ke')\n",
    "plt.ylabel('y-banyak orang')"
   ]
  },
  {
   "cell_type": "markdown",
   "metadata": {},
   "source": [
    "#### Regresi Eksponensial"
   ]
  },
  {
   "attachments": {
    "image.png": {
     "image/png": "[encoded data removed]"
    }
   },
   "cell_type": "markdown",
   "metadata": {},
   "source": [
    "![image.png](attachment:image.png)"
   ]
  },
  {
   "attachments": {
    "image.png": {
     "image/png": "[encoded data removed]"
    }
   },
   "cell_type": "markdown",
   "metadata": {},
   "source": [
    "![image.png](attachment:image.png)"
   ]
  },
  {
   "attachments": {
    "image.png": {
     "image/png": "[encoded data removed]"
    }
   },
   "cell_type": "markdown",
   "metadata": {},
   "source": [
    "![image.png](attachment:image.png)"
   ]
  },
  {
   "cell_type": "markdown",
   "metadata": {},
   "source": [
    "**Linearisasi**"
   ]
  },
  {
   "cell_type": "code",
   "execution_count": 98,
   "metadata": {},
   "outputs": [
    {
     "data": {
      "text/plain": [
       "array([  1.,   2.,   2.,   6.,   8.,  11.,  12.,  13.,  16.,  17.,  21.,\n",
       "        28.,  32.,  35.,  42.,  43.,  48.,  50.,  53.,  60.,  60.,  66.,\n",
       "        67.,  72.,  75.,  75.,  81.,  84.,  91.,  94., 102., 104., 111.,\n",
       "       120., 126., 131.])"
      ]
     },
     "execution_count": 98,
     "metadata": {},
     "output_type": "execute_result"
    }
   ],
   "source": [
    "y = np.array ((1, 2, 2, 6, 8, 11, 12, 13, 16, 17, 21, 28, 32, 35, 42, 43, 48, 50, 53, 60, 60, 66, 67, 72, 75, 75, 81, 84, 91, 94, 102, 104, 111, 120, 126, 131))\n",
    "y = y.astype('float64')\n",
    "y"
   ]
  },
  {
   "cell_type": "code",
   "execution_count": 99,
   "metadata": {},
   "outputs": [
    {
     "data": {
      "text/plain": [
       "array([ 1.,  2.,  3.,  4.,  5.,  6.,  7.,  8.,  9., 10., 11., 12., 13.,\n",
       "       14., 15., 16., 17., 18., 19., 20., 21., 22., 23., 24., 25., 26.,\n",
       "       27., 28., 29., 30., 31., 32., 33., 34., 35., 36.])"
      ]
     },
     "execution_count": 99,
     "metadata": {},
     "output_type": "execute_result"
    }
   ],
   "source": [
    "x = np.array((range(1,1+len(y))))\n",
    "x = x.astype('float64')\n",
    "x"
   ]
  },
  {
   "cell_type": "code",
   "execution_count": 100,
   "metadata": {},
   "outputs": [],
   "source": [
    "p = np.log(y)\n",
    "q = x"
   ]
  },
  {
   "cell_type": "markdown",
   "metadata": {},
   "source": [
    "**Hitung regresi linear**"
   ]
  },
  {
   "attachments": {
    "image.png": {
     "image/png": "[encoded data removed]"
    }
   },
   "cell_type": "markdown",
   "metadata": {},
   "source": [
    "![image.png](attachment:image.png)"
   ]
  },
  {
   "cell_type": "code",
   "execution_count": 101,
   "metadata": {},
   "outputs": [],
   "source": [
    "n = len(y)\n",
    "pq = p*q\n",
    "qq = q**2\n",
    "B = (n*pq.sum() - q.sum()*p.sum())/(n*qq.sum() - (q.sum())**2)\n",
    "A = p.mean()-B*q.mean()"
   ]
  },
  {
   "cell_type": "markdown",
   "metadata": {},
   "source": [
    "**Hasil persamaan linear**"
   ]
  },
  {
   "cell_type": "code",
   "execution_count": 102,
   "metadata": {},
   "outputs": [
    {
     "name": "stdout",
     "output_type": "stream",
     "text": [
      "p = 0.1084q + 1.5171\n"
     ]
    }
   ],
   "source": [
    "if A>0 :\n",
    "    print (\"p = {:.4f}q + {:.4f}\". format(B,A))\n",
    "else :\n",
    "    print (\"p = {:.4f}q {:.4f}\". format(B,A))"
   ]
  },
  {
   "cell_type": "markdown",
   "metadata": {},
   "source": [
    "**Hitung kembali dalam bentuk bilangan berpangkat**"
   ]
  },
  {
   "cell_type": "code",
   "execution_count": 103,
   "metadata": {},
   "outputs": [],
   "source": [
    "a = np.e**A\n",
    "b = B"
   ]
  },
  {
   "cell_type": "code",
   "execution_count": 104,
   "metadata": {},
   "outputs": [
    {
     "name": "stdout",
     "output_type": "stream",
     "text": [
      "y = 4.5590x^(0.1084)\n"
     ]
    }
   ],
   "source": [
    "print (\"y = {:.4f}x^({:.4f})\".format(a,b))"
   ]
  },
  {
   "cell_type": "markdown",
   "metadata": {},
   "source": [
    "**Koefisien Korelasi ( r ) dan Derajat Kesesuaian ( R ) r-square**"
   ]
  },
  {
   "cell_type": "code",
   "execution_count": 105,
   "metadata": {},
   "outputs": [
    {
     "name": "stdout",
     "output_type": "stream",
     "text": [
      "r = 0.9138 dan r^2 = 0.8350\n"
     ]
    }
   ],
   "source": [
    "yDt = ((p - p.mean())**2).sum()\n",
    "yD = ((p - (q*B) - A)**2).sum()\n",
    "r = np.sqrt((yDt-yD)/yDt)\n",
    "r2 = r**2\n",
    "print('r = {:.4f} dan r^2 = {:.4f}'.format(r,r2))"
   ]
  },
  {
   "cell_type": "markdown",
   "metadata": {},
   "source": [
    "**Plot data dan regresinya**"
   ]
  },
  {
   "cell_type": "code",
   "execution_count": 106,
   "metadata": {},
   "outputs": [
    {
     "data": {
      "text/plain": [
       "array([ 0. ,  0.1,  0.2,  0.3,  0.4,  0.5,  0.6,  0.7,  0.8,  0.9,  1. ,\n",
       "        1.1,  1.2,  1.3,  1.4,  1.5,  1.6,  1.7,  1.8,  1.9,  2. ,  2.1,\n",
       "        2.2,  2.3,  2.4,  2.5,  2.6,  2.7,  2.8,  2.9,  3. ,  3.1,  3.2,\n",
       "        3.3,  3.4,  3.5,  3.6,  3.7,  3.8,  3.9,  4. ,  4.1,  4.2,  4.3,\n",
       "        4.4,  4.5,  4.6,  4.7,  4.8,  4.9,  5. ,  5.1,  5.2,  5.3,  5.4,\n",
       "        5.5,  5.6,  5.7,  5.8,  5.9,  6. ,  6.1,  6.2,  6.3,  6.4,  6.5,\n",
       "        6.6,  6.7,  6.8,  6.9,  7. ,  7.1,  7.2,  7.3,  7.4,  7.5,  7.6,\n",
       "        7.7,  7.8,  7.9,  8. ,  8.1,  8.2,  8.3,  8.4,  8.5,  8.6,  8.7,\n",
       "        8.8,  8.9,  9. ,  9.1,  9.2,  9.3,  9.4,  9.5,  9.6,  9.7,  9.8,\n",
       "        9.9, 10. , 10.1, 10.2, 10.3, 10.4, 10.5, 10.6, 10.7, 10.8, 10.9,\n",
       "       11. , 11.1, 11.2, 11.3, 11.4, 11.5, 11.6, 11.7, 11.8, 11.9, 12. ,\n",
       "       12.1, 12.2, 12.3, 12.4, 12.5, 12.6, 12.7, 12.8, 12.9, 13. , 13.1,\n",
       "       13.2, 13.3, 13.4, 13.5, 13.6, 13.7, 13.8, 13.9, 14. , 14.1, 14.2,\n",
       "       14.3, 14.4, 14.5, 14.6, 14.7, 14.8, 14.9, 15. , 15.1, 15.2, 15.3,\n",
       "       15.4, 15.5, 15.6, 15.7, 15.8, 15.9, 16. , 16.1, 16.2, 16.3, 16.4,\n",
       "       16.5, 16.6, 16.7, 16.8, 16.9, 17. , 17.1, 17.2, 17.3, 17.4, 17.5,\n",
       "       17.6, 17.7, 17.8, 17.9, 18. , 18.1, 18.2, 18.3, 18.4, 18.5, 18.6,\n",
       "       18.7, 18.8, 18.9, 19. , 19.1, 19.2, 19.3, 19.4, 19.5, 19.6, 19.7,\n",
       "       19.8, 19.9, 20. , 20.1, 20.2, 20.3, 20.4, 20.5, 20.6, 20.7, 20.8,\n",
       "       20.9, 21. , 21.1, 21.2, 21.3, 21.4, 21.5, 21.6, 21.7, 21.8, 21.9,\n",
       "       22. , 22.1, 22.2, 22.3, 22.4, 22.5, 22.6, 22.7, 22.8, 22.9, 23. ,\n",
       "       23.1, 23.2, 23.3, 23.4, 23.5, 23.6, 23.7, 23.8, 23.9, 24. , 24.1,\n",
       "       24.2, 24.3, 24.4, 24.5, 24.6, 24.7, 24.8, 24.9, 25. , 25.1, 25.2,\n",
       "       25.3, 25.4, 25.5, 25.6, 25.7, 25.8, 25.9, 26. , 26.1, 26.2, 26.3,\n",
       "       26.4, 26.5, 26.6, 26.7, 26.8, 26.9, 27. , 27.1, 27.2, 27.3, 27.4,\n",
       "       27.5, 27.6, 27.7, 27.8, 27.9, 28. , 28.1, 28.2, 28.3, 28.4, 28.5,\n",
       "       28.6, 28.7, 28.8, 28.9, 29. , 29.1, 29.2, 29.3, 29.4, 29.5, 29.6,\n",
       "       29.7, 29.8, 29.9, 30. , 30.1, 30.2, 30.3, 30.4, 30.5, 30.6, 30.7,\n",
       "       30.8, 30.9, 31. , 31.1, 31.2, 31.3, 31.4, 31.5, 31.6, 31.7, 31.8,\n",
       "       31.9, 32. , 32.1, 32.2, 32.3, 32.4, 32.5, 32.6, 32.7, 32.8, 32.9,\n",
       "       33. , 33.1, 33.2, 33.3, 33.4, 33.5, 33.6, 33.7, 33.8, 33.9, 34. ,\n",
       "       34.1, 34.2, 34.3, 34.4, 34.5, 34.6, 34.7, 34.8, 34.9, 35. , 35.1,\n",
       "       35.2, 35.3, 35.4, 35.5, 35.6, 35.7, 35.8, 35.9, 36. , 36.1, 36.2,\n",
       "       36.3, 36.4, 36.5, 36.6, 36.7, 36.8, 36.9])"
      ]
     },
     "execution_count": 106,
     "metadata": {},
     "output_type": "execute_result"
    }
   ],
   "source": [
    "#membuat xreg\n",
    "xreg = np.array(range(0,int((x[-1]+1)*10)))\n",
    "xreg = xreg/10 #memperhalus bentuk garis\n",
    "xreg = xreg.astype('float64')\n",
    "xreg"
   ]
  },
  {
   "cell_type": "code",
   "execution_count": 107,
   "metadata": {},
   "outputs": [
    {
     "data": {
      "text/plain": [
       "array([  4.55898799,   4.60867844,   4.6589105 ,   4.70969006,\n",
       "         4.76102309,   4.81291561,   4.86537374,   4.91840364,\n",
       "         4.97201153,   5.02620371,   5.08098657,   5.13636652,\n",
       "         5.19235009,   5.24894384,   5.30615444,   5.3639886 ,\n",
       "         5.42245312,   5.48155487,   5.5413008 ,   5.60169793,\n",
       "         5.66275335,   5.72447424,   5.78686786,   5.84994153,\n",
       "         5.91370267,   5.97815877,   6.04331741,   6.10918624,\n",
       "         6.175773  ,   6.24308553,   6.31113172,   6.37991958,\n",
       "         6.44945719,   6.51975272,   6.59081443,   6.66265068,\n",
       "         6.7352699 ,   6.80868064,   6.8828915 ,   6.95791123,\n",
       "         7.03374863,   7.11041261,   7.1879122 ,   7.26625648,\n",
       "         7.34545467,   7.42551608,   7.50645012,   7.58826629,\n",
       "         7.67097421,   7.7545836 ,   7.83910429,   7.92454621,\n",
       "         8.0109194 ,   8.09823401,   8.1865003 ,   8.27572864,\n",
       "         8.36592953,   8.45711355,   8.54929143,   8.642474  ,\n",
       "         8.7366722 ,   8.83189712,   8.92815993,   9.02547196,\n",
       "         9.12384463,   9.22328951,   9.32381828,   9.42544277,\n",
       "         9.5281749 ,   9.63202676,   9.73701054,   9.8431386 ,\n",
       "         9.95042338,  10.05887752,  10.16851374,  10.27934494,\n",
       "        10.39138414,  10.5046445 ,  10.61913934,  10.73488211,\n",
       "        10.85188641,  10.970166  ,  11.08973476,  11.21060676,\n",
       "        11.3327962 ,  11.45631744,  11.58118499,  11.70741352,\n",
       "        11.83501788,  11.96401306,  12.09441421,  12.22623666,\n",
       "        12.35949591,  12.4942076 ,  12.63038758,  12.76805185,\n",
       "        12.90721658,  13.04789813,  13.19011304,  13.333878  ,\n",
       "        13.47920993,  13.62612589,  13.77464316,  13.92477918,\n",
       "        14.0765516 ,  14.22997826,  14.38507719,  14.5418666 ,\n",
       "        14.70036494,  14.86059082,  15.02256307,  15.18630073,\n",
       "        15.35182305,  15.51914946,  15.68829964,  15.85929347,\n",
       "        16.03215103,  16.20689264,  16.38353885,  16.5621104 ,\n",
       "        16.74262828,  16.9251137 ,  17.10958812,  17.2960732 ,\n",
       "        17.48459087,  17.67516328,  17.86781283,  18.06256214,\n",
       "        18.25943412,  18.45845189,  18.65963885,  18.86301864,\n",
       "        19.06861515,  19.27645255,  19.48655527,  19.69894798,\n",
       "        19.91365567,  20.13070354,  20.35011712,  20.57192219,\n",
       "        20.79614481,  21.02281133,  21.2519484 ,  21.48358293,\n",
       "        21.71774215,  21.95445357,  22.19374502,  22.43564462,\n",
       "        22.68018079,  22.92738226,  23.1772781 ,  23.42989766,\n",
       "        23.68527064,  23.94342705,  24.20439721,  24.46821181,\n",
       "        24.73490184,  25.00449864,  25.27703391,  25.55253965,\n",
       "        25.83104826,  26.11259245,  26.39720533,  26.68492033,\n",
       "        26.97577126,  27.26979231,  27.56701802,  27.86748333,\n",
       "        28.17122355,  28.47827437,  28.78867187,  29.10245254,\n",
       "        29.41965324,  29.74031125,  30.06446426,  30.39215036,\n",
       "        30.72340806,  31.05827628,  31.39679439,  31.73900215,\n",
       "        32.08493979,  32.43464796,  32.78816776,  33.14554072,\n",
       "        33.50680886,  33.87201462,  34.24120092,  34.61441115,\n",
       "        34.99168916,  35.3730793 ,  35.75862638,  36.14837571,\n",
       "        36.54237309,  36.94066483,  37.34329773,  37.7503191 ,\n",
       "        38.16177679,  38.57771913,  38.99819502,  39.42325386,\n",
       "        39.85294561,  40.28732077,  40.72643037,  41.17032603,\n",
       "        41.6190599 ,  42.07268473,  42.53125382,  42.99482106,\n",
       "        43.46344092,  43.93716849,  44.41605942,  44.90017   ,\n",
       "        45.38955712,  45.88427829,  46.38439165,  46.88995597,\n",
       "        47.40103066,  47.91767578,  48.43995205,  48.96792085,\n",
       "        49.50164421,  50.04118487,  50.58660622,  51.13797236,\n",
       "        51.69534809,  52.25879891,  52.82839103,  53.40419139,\n",
       "        53.98626766,  54.57468824,  55.16952228,  55.77083968,\n",
       "        56.37871111,  56.99320801,  57.61440258,  58.24236783,\n",
       "        58.87717756,  59.51890636,  60.16762965,  60.82342367,\n",
       "        61.48636549,  62.156533  ,  62.83400497,  63.51886101,\n",
       "        64.21118161,  64.91104812,  65.61854279,  66.33374876,\n",
       "        67.05675008,  67.78763172,  68.52647956,  69.27338044,\n",
       "        70.02842213,  70.79169336,  71.56328382,  72.34328419,\n",
       "        73.13178614,  73.92888232,  74.73466642,  75.54923311,\n",
       "        76.37267814,  77.20509826,  78.0465913 ,  78.89725616,\n",
       "        79.75719279,  80.62650226,  81.50528672,  82.39364944,\n",
       "        83.29169484,  84.19952843,  85.11725691,  86.04498812,\n",
       "        86.9828311 ,  87.93089604,  88.88929437,  89.85813871,\n",
       "        90.83754293,  91.82762211,  92.82849261,  93.84027204,\n",
       "        94.86307932,  95.89703463,  96.94225948,  97.99887671,\n",
       "        99.06701048, 100.14678632, 101.23833113, 102.34177317,\n",
       "       103.45724212, 104.58486907, 105.72478654, 106.87712847,\n",
       "       108.0420303 , 109.21962891, 110.41006271, 111.61347157,\n",
       "       112.82999693, 114.05978174, 115.30297053, 116.5597094 ,\n",
       "       117.83014602, 119.11442971, 120.41271138, 121.7251436 ,\n",
       "       123.05188062, 124.39307833, 125.74889437, 127.11948805,\n",
       "       128.50502044, 129.90565438, 131.32155445, 132.75288706,\n",
       "       134.1998204 , 135.66252452, 137.14117131, 138.63593453,\n",
       "       140.14698985, 141.67451484, 143.21868901, 144.77969383,\n",
       "       146.35771274, 147.95293119, 149.56553664, 151.1957186 ,\n",
       "       152.84366865, 154.50958044, 156.19364976, 157.8960745 ,\n",
       "       159.61705474, 161.35679271, 163.11549287, 164.89336189,\n",
       "       166.6906087 , 168.50744451, 170.34408284, 172.20073951,\n",
       "       174.07763271, 175.97498302, 177.8930134 , 179.83194925,\n",
       "       181.79201844, 183.7734513 , 185.77648069, 187.80134199,\n",
       "       189.84827317, 191.91751477, 194.00930996, 196.12390457,\n",
       "       198.2615471 , 200.42248875, 202.60698347, 204.81528799,\n",
       "       207.04766181, 209.30436727, 211.58566958, 213.89183682,\n",
       "       216.22314002, 218.57985314, 220.96225314, 223.37061998,\n",
       "       225.8052367 , 228.26638939, 230.7543673 , 233.26946279,\n",
       "       235.81197144, 238.38219203, 240.98042661, 243.60698052,\n",
       "       246.26216241, 248.94628433])"
      ]
     },
     "execution_count": 107,
     "metadata": {},
     "output_type": "execute_result"
    }
   ],
   "source": [
    "#membuat yreg\n",
    "yreg = a*np.e**(b*xreg)\n",
    "yreg"
   ]
  },
  {
   "cell_type": "code",
   "execution_count": 108,
   "metadata": {},
   "outputs": [
    {
     "data": {
      "text/plain": [
       "Text(0, 0.5, 'y-banyak orang')"
      ]
     },
     "execution_count": 108,
     "metadata": {},
     "output_type": "execute_result"
    },
    {
     "data": {
      "image/png": "[encoded data removed]",
      "text/plain": [
       "<Figure size 432x288 with 1 Axes>"
      ]
     },
     "metadata": {
      "needs_background": "light"
     },
     "output_type": "display_data"
    }
   ],
   "source": [
    "ax = plt.plot(x,y,'ro')\n",
    "plt.plot(xreg,yreg,'b')\n",
    "plt.grid()\n",
    "plt.xlabel('x-hari ke')\n",
    "plt.ylabel('y-banyak orang')"
   ]
  },
  {
   "cell_type": "markdown",
   "metadata": {},
   "source": [
    "**Selesai**"
   ]
  },
  {
   "cell_type": "markdown",
   "metadata": {},
   "source": [
    "#### Regresi Polinomial"
   ]
  },
  {
   "cell_type": "code",
   "execution_count": 109,
   "metadata": {},
   "outputs": [
    {
     "data": {
      "text/plain": [
       "array([  1.,   2.,   2.,   6.,   8.,  11.,  12.,  13.,  16.,  17.,  21.,\n",
       "        28.,  32.,  35.,  42.,  43.,  48.,  50.,  53.,  60.,  60.,  66.,\n",
       "        67.,  72.,  75.,  75.,  81.,  84.,  91.,  94., 102., 104., 111.,\n",
       "       120., 126., 131.])"
      ]
     },
     "execution_count": 109,
     "metadata": {},
     "output_type": "execute_result"
    }
   ],
   "source": [
    "y = np.array ((1, 2, 2, 6, 8, 11, 12, 13, 16, 17, 21, 28, 32, 35, 42, 43, 48, 50, 53, 60, 60, 66, 67, 72, 75, 75, 81, 84, 91, 94, 102, 104, 111, 120, 126, 131))\n",
    "y = y.astype('float64')\n",
    "y"
   ]
  },
  {
   "cell_type": "code",
   "execution_count": 110,
   "metadata": {},
   "outputs": [
    {
     "data": {
      "text/plain": [
       "array([ 1.,  2.,  3.,  4.,  5.,  6.,  7.,  8.,  9., 10., 11., 12., 13.,\n",
       "       14., 15., 16., 17., 18., 19., 20., 21., 22., 23., 24., 25., 26.,\n",
       "       27., 28., 29., 30., 31., 32., 33., 34., 35., 36.])"
      ]
     },
     "execution_count": 110,
     "metadata": {},
     "output_type": "execute_result"
    }
   ],
   "source": [
    "x = np.array((range(1,1+len(y))))\n",
    "x = x.astype('float64')\n",
    "x"
   ]
  },
  {
   "cell_type": "markdown",
   "metadata": {},
   "source": [
    "**Membentuk regresi polinomial dari matriks**"
   ]
  },
  {
   "attachments": {
    "image.png": {
     "image/png": "[encoded data removed]"
    }
   },
   "cell_type": "markdown",
   "metadata": {},
   "source": [
    "![image.png](attachment:image.png)"
   ]
  },
  {
   "cell_type": "markdown",
   "metadata": {},
   "source": [
    "**Mendefinisikan elemen-elemen matriks kiri**"
   ]
  },
  {
   "cell_type": "code",
   "execution_count": 111,
   "metadata": {},
   "outputs": [
    {
     "data": {
      "text/plain": [
       "array([[3.60000000e+01, 6.66000000e+02, 1.62060000e+04, 4.43556000e+05],\n",
       "       [6.66000000e+02, 1.62060000e+04, 4.43556000e+05, 1.29485940e+07],\n",
       "       [1.62060000e+04, 4.43556000e+05, 1.29485940e+07, 3.93729876e+08],\n",
       "       [4.43556000e+05, 1.29485940e+07, 3.93729876e+08, 1.23134971e+10]])"
      ]
     },
     "execution_count": 111,
     "metadata": {},
     "output_type": "execute_result"
    }
   ],
   "source": [
    "n = len(y)\n",
    "a = x.sum()\n",
    "b = (x**2).sum()\n",
    "c = (x**3).sum()\n",
    "d = (x**4).sum()\n",
    "e = (x**5).sum()\n",
    "f = (x**6).sum()\n",
    "A = np.array(([n, a, b, c],\n",
    "    [a, b, c, d],\n",
    "    [b, c, d, e],\n",
    "    [c, d, e, f]))\n",
    "A"
   ]
  },
  {
   "cell_type": "markdown",
   "metadata": {},
   "source": [
    "**Mendefinisikan elemen-elemen matriks kanan**"
   ]
  },
  {
   "cell_type": "code",
   "execution_count": 112,
   "metadata": {},
   "outputs": [
    {
     "data": {
      "text/plain": [
       "array([[1.9590000e+03],\n",
       "       [5.0520000e+04],\n",
       "       [1.4248120e+06],\n",
       "       [4.2395712e+07]])"
      ]
     },
     "execution_count": 112,
     "metadata": {},
     "output_type": "execute_result"
    }
   ],
   "source": [
    "g = y.sum()\n",
    "h = (x*y).sum()\n",
    "i = ((x**2)*y).sum()\n",
    "j = ((x**3)*y).sum()\n",
    "B = np.array(([g],\n",
    "    [h],\n",
    "    [i],\n",
    "    [j]))\n",
    "B"
   ]
  },
  {
   "cell_type": "markdown",
   "metadata": {},
   "source": [
    "**Invers matriks sisi kiri**"
   ]
  },
  {
   "cell_type": "code",
   "execution_count": 113,
   "metadata": {},
   "outputs": [
    {
     "data": {
      "text/plain": [
       "array([[ 5.51481199e-01, -1.13134143e-01,  6.19641796e-03,\n",
       "        -9.90295108e-05],\n",
       "       [-1.13134143e-01,  2.93935562e-02, -1.77983924e-03,\n",
       "         3.00769135e-05],\n",
       "       [ 6.19641796e-03, -1.77983924e-03,  1.14246244e-04,\n",
       "        -2.00464597e-06],\n",
       "       [-9.90295108e-05,  3.00769135e-05, -2.00464597e-06,\n",
       "         3.61197472e-08]])"
      ]
     },
     "execution_count": 113,
     "metadata": {},
     "output_type": "execute_result"
    }
   ],
   "source": [
    "Ainv = np.linalg.inv(A)\n",
    "Ainv"
   ]
  },
  {
   "cell_type": "markdown",
   "metadata": {},
   "source": [
    "**Mencari nilai a0, a1, a2, dst dengan a = (A^-1)B namun di sini variabel a diganti dengan Y**"
   ]
  },
  {
   "cell_type": "code",
   "execution_count": 114,
   "metadata": {},
   "outputs": [
    {
     "name": "stdout",
     "output_type": "stream",
     "text": [
      "[[-4.88116459e+00]\n",
      " [ 2.52852739e+00]\n",
      " [ 1.23310247e-02]\n",
      " [ 5.65624405e-04]]\n"
     ]
    }
   ],
   "source": [
    "Y = Ainv.dot(B)\n",
    "print(Y)"
   ]
  },
  {
   "cell_type": "code",
   "execution_count": 115,
   "metadata": {},
   "outputs": [],
   "source": [
    "a0 = Y[0,0]\n",
    "a1 = Y[1,0]\n",
    "a2 = Y[2,0]\n",
    "a3 = Y[3,0]"
   ]
  },
  {
   "cell_type": "markdown",
   "metadata": {},
   "source": [
    "**Hasil persamaan regresi polinomial**"
   ]
  },
  {
   "cell_type": "code",
   "execution_count": 116,
   "metadata": {},
   "outputs": [
    {
     "name": "stdout",
     "output_type": "stream",
     "text": [
      "y = 0.0006x^3 + 0.0123X^2 + 2.5285x + -4.8812\n"
     ]
    }
   ],
   "source": [
    "print('y = {:.4f}x^3 + {:.4f}X^2 + {:.4f}x + {:.4f}'.format(a3, a2, a1, a0))"
   ]
  },
  {
   "cell_type": "code",
   "execution_count": 117,
   "metadata": {},
   "outputs": [
    {
     "data": {
      "text/plain": [
       "array([  1.,   2.,   2.,   6.,   8.,  11.,  12.,  13.,  16.,  17.,  21.,\n",
       "        28.,  32.,  35.,  42.,  43.,  48.,  50.,  53.,  60.,  60.,  66.,\n",
       "        67.,  72.,  75.,  75.,  81.,  84.,  91.,  94., 102., 104., 111.,\n",
       "       120., 126., 131.])"
      ]
     },
     "execution_count": 117,
     "metadata": {},
     "output_type": "execute_result"
    }
   ],
   "source": [
    "y"
   ]
  },
  {
   "cell_type": "markdown",
   "metadata": {},
   "source": [
    "**Koefisien Korelasi ( r ) dan Derajat Kesesuaian ( R ) r-square**"
   ]
  },
  {
   "cell_type": "code",
   "execution_count": 118,
   "metadata": {},
   "outputs": [
    {
     "name": "stdout",
     "output_type": "stream",
     "text": [
      "r = 0.9977 dan r^2 = 0.8350\n"
     ]
    }
   ],
   "source": [
    "yDt = (y-y.mean())**2\n",
    "yD = (y-a0-a1*x-a2*(x**2)-a3*(x**3))**2\n",
    "r = np.sqrt((yDt.sum()-yD.sum())/yDt.sum())\n",
    "R2 = r**2\n",
    "print('r = {:.4f} dan r^2 = {:.4f}'.format(r,r2))"
   ]
  },
  {
   "cell_type": "markdown",
   "metadata": {},
   "source": [
    "**Plot**"
   ]
  },
  {
   "cell_type": "code",
   "execution_count": 119,
   "metadata": {},
   "outputs": [
    {
     "data": {
      "text/plain": [
       "Text(0, 0.5, 'y')"
      ]
     },
     "execution_count": 119,
     "metadata": {},
     "output_type": "execute_result"
    },
    {
     "data": {
      "image/png": "[encoded data removed]",
      "text/plain": [
       "<Figure size 432x288 with 1 Axes>"
      ]
     },
     "metadata": {
      "needs_background": "light"
     },
     "output_type": "display_data"
    }
   ],
   "source": [
    "xreg = np.array(range(0,int((x[-1]+0.5)*10)))\n",
    "xreg = xreg/10\n",
    "yreg = a0 + a1*xreg + a2*(xreg**2) + a3*(xreg**3)\n",
    "ax = plt.plot(x,y,'ro')\n",
    "plt.plot(xreg,yreg,'b')\n",
    "plt.grid()\n",
    "plt.xlabel('x')\n",
    "plt.ylabel('y')"
   ]
  },
  {
   "cell_type": "markdown",
   "metadata": {},
   "source": [
    "**Perbandingan jika memakai polyfit dengan derajat dinaikkan**"
   ]
  },
  {
   "cell_type": "code",
   "execution_count": 120,
   "metadata": {},
   "outputs": [
    {
     "data": {
      "image/png": "[encoded data removed]",
      "text/plain": [
       "<Figure size 432x288 with 1 Axes>"
      ]
     },
     "metadata": {
      "needs_background": "light"
     },
     "output_type": "display_data"
    }
   ],
   "source": [
    "regpoly = np.poly1d(np.polyfit(x, y, 5))\n",
    "\n",
    "myline = np.linspace(1, len(y), 100)\n",
    "\n",
    "plt.scatter(x, y)\n",
    "plt.plot(myline, regpoly(myline), linewidth=3, color='r')\n",
    "plt.show()"
   ]
  },
  {
   "cell_type": "code",
   "execution_count": 121,
   "metadata": {},
   "outputs": [
    {
     "name": "stdout",
     "output_type": "stream",
     "text": [
      "           5             4           3         2\n",
      "1.873e-06 x + 8.288e-05 x - 0.01265 x + 0.386 x - 0.8804 x + 2.475\n"
     ]
    }
   ],
   "source": [
    "print (regpoly)"
   ]
  },
  {
   "cell_type": "code",
   "execution_count": 122,
   "metadata": {},
   "outputs": [
    {
     "name": "stdout",
     "output_type": "stream",
     "text": [
      "0.9980827221250798\n"
     ]
    }
   ],
   "source": [
    "print(r2_score(y, regpoly(x)))"
   ]
  },
  {
   "cell_type": "markdown",
   "metadata": {},
   "source": [
    "**Selesai**"
   ]
  },
  {
   "cell_type": "code",
   "execution_count": null,
   "metadata": {},
   "outputs": [],
   "source": []
  }
 ],
 "metadata": {
  "kernelspec": {
   "display_name": "Python 3",
   "language": "python",
   "name": "python3"
  },
  "language_info": {
   "codemirror_mode": {
    "name": "ipython",
    "version": 3
   },
   "file_extension": ".py",
   "mimetype": "text/x-python",
   "name": "python",
   "nbconvert_exporter": "python",
   "pygments_lexer": "ipython3",
   "version": "3.7.6"
  },
  "toc": {
   "base_numbering": 1,
   "nav_menu": {},
   "number_sections": true,
   "sideBar": true,
   "skip_h1_title": false,
   "title_cell": "Table of Contents",
   "title_sidebar": "Contents",
   "toc_cell": false,
   "toc_position": {
    "height": "calc(100% - 180px)",
    "left": "10px",
    "top": "150px",
    "width": "286.957px"
   },
   "toc_section_display": true,
   "toc_window_display": true
  }
 },
 "nbformat": 4,
 "nbformat_minor": 4
}
