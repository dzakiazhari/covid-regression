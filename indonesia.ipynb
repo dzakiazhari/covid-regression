{
 "cells": [
  {
   "cell_type": "markdown",
   "metadata": {},
   "source": [
    "# Indonesia"
   ]
  },
  {
   "cell_type": "markdown",
   "metadata": {},
   "source": [
    "## Basic Data (Import and Visualization)"
   ]
  },
  {
   "cell_type": "markdown",
   "metadata": {},
   "source": [
    "### Start (Importing Libraries)"
   ]
  },
  {
   "cell_type": "code",
   "execution_count": 1,
   "metadata": {},
   "outputs": [],
   "source": [
    "import matplotlib.pyplot as plt\n",
    "import numpy as np\n",
    "import pandas as pd\n",
    "import seaborn as sns\n",
    "from sklearn.metrics import r2_score\n",
    "%matplotlib inline"
   ]
  },
  {
   "cell_type": "markdown",
   "metadata": {},
   "source": [
    "### Read data and Plotting"
   ]
  },
  {
   "cell_type": "code",
   "execution_count": 2,
   "metadata": {},
   "outputs": [
    {
     "data": {
      "text/plain": [
       "pandas.core.frame.DataFrame"
      ]
     },
     "execution_count": 2,
     "metadata": {},
     "output_type": "execute_result"
    }
   ],
   "source": [
    "df = pd.read_csv('/Users/abdul/Documents/Academics/Metnum/UTS/dataset/csv/indonesia.csv')\n",
    "type(df)"
   ]
  },
  {
   "cell_type": "code",
   "execution_count": 3,
   "metadata": {},
   "outputs": [
    {
     "data": {
      "text/plain": [
       "(25, 5)"
      ]
     },
     "execution_count": 3,
     "metadata": {},
     "output_type": "execute_result"
    }
   ],
   "source": [
    "df.shape"
   ]
  },
  {
   "cell_type": "code",
   "execution_count": 4,
   "metadata": {},
   "outputs": [],
   "source": [
    "df.columns\n",
    "df['Date'] = pd.to_datetime(df['Date'])\n",
    "df.set_index('Date', inplace=True)"
   ]
  },
  {
   "cell_type": "code",
   "execution_count": 5,
   "metadata": {},
   "outputs": [
    {
     "data": {
      "text/html": [
       "<div>\n",
       "<style scoped>\n",
       "    .dataframe tbody tr th:only-of-type {\n",
       "        vertical-align: middle;\n",
       "    }\n",
       "\n",
       "    .dataframe tbody tr th {\n",
       "        vertical-align: top;\n",
       "    }\n",
       "\n",
       "    .dataframe thead th {\n",
       "        text-align: right;\n",
       "    }\n",
       "</style>\n",
       "<table border=\"1\" class=\"dataframe\">\n",
       "  <thead>\n",
       "    <tr style=\"text-align: right;\">\n",
       "      <th></th>\n",
       "      <th>Confirmed</th>\n",
       "      <th>New</th>\n",
       "      <th>Deaths</th>\n",
       "      <th>Active</th>\n",
       "    </tr>\n",
       "    <tr>\n",
       "      <th>Date</th>\n",
       "      <th></th>\n",
       "      <th></th>\n",
       "      <th></th>\n",
       "      <th></th>\n",
       "    </tr>\n",
       "  </thead>\n",
       "  <tbody>\n",
       "    <tr>\n",
       "      <th>2020-03-02</th>\n",
       "      <td>2</td>\n",
       "      <td>0</td>\n",
       "      <td>0</td>\n",
       "      <td>2</td>\n",
       "    </tr>\n",
       "    <tr>\n",
       "      <th>2020-03-03</th>\n",
       "      <td>2</td>\n",
       "      <td>0</td>\n",
       "      <td>0</td>\n",
       "      <td>2</td>\n",
       "    </tr>\n",
       "    <tr>\n",
       "      <th>2020-03-04</th>\n",
       "      <td>2</td>\n",
       "      <td>0</td>\n",
       "      <td>0</td>\n",
       "      <td>2</td>\n",
       "    </tr>\n",
       "    <tr>\n",
       "      <th>2020-03-05</th>\n",
       "      <td>2</td>\n",
       "      <td>0</td>\n",
       "      <td>0</td>\n",
       "      <td>2</td>\n",
       "    </tr>\n",
       "    <tr>\n",
       "      <th>2020-03-06</th>\n",
       "      <td>4</td>\n",
       "      <td>2</td>\n",
       "      <td>0</td>\n",
       "      <td>4</td>\n",
       "    </tr>\n",
       "    <tr>\n",
       "      <th>2020-03-07</th>\n",
       "      <td>4</td>\n",
       "      <td>0</td>\n",
       "      <td>0</td>\n",
       "      <td>4</td>\n",
       "    </tr>\n",
       "    <tr>\n",
       "      <th>2020-03-08</th>\n",
       "      <td>6</td>\n",
       "      <td>2</td>\n",
       "      <td>0</td>\n",
       "      <td>6</td>\n",
       "    </tr>\n",
       "    <tr>\n",
       "      <th>2020-03-09</th>\n",
       "      <td>19</td>\n",
       "      <td>13</td>\n",
       "      <td>0</td>\n",
       "      <td>19</td>\n",
       "    </tr>\n",
       "    <tr>\n",
       "      <th>2020-03-10</th>\n",
       "      <td>27</td>\n",
       "      <td>8</td>\n",
       "      <td>0</td>\n",
       "      <td>25</td>\n",
       "    </tr>\n",
       "    <tr>\n",
       "      <th>2020-03-11</th>\n",
       "      <td>34</td>\n",
       "      <td>7</td>\n",
       "      <td>1</td>\n",
       "      <td>31</td>\n",
       "    </tr>\n",
       "    <tr>\n",
       "      <th>2020-03-12</th>\n",
       "      <td>34</td>\n",
       "      <td>0</td>\n",
       "      <td>1</td>\n",
       "      <td>30</td>\n",
       "    </tr>\n",
       "    <tr>\n",
       "      <th>2020-03-13</th>\n",
       "      <td>69</td>\n",
       "      <td>35</td>\n",
       "      <td>4</td>\n",
       "      <td>60</td>\n",
       "    </tr>\n",
       "    <tr>\n",
       "      <th>2020-03-14</th>\n",
       "      <td>96</td>\n",
       "      <td>27</td>\n",
       "      <td>5</td>\n",
       "      <td>83</td>\n",
       "    </tr>\n",
       "    <tr>\n",
       "      <th>2020-03-15</th>\n",
       "      <td>117</td>\n",
       "      <td>21</td>\n",
       "      <td>5</td>\n",
       "      <td>104</td>\n",
       "    </tr>\n",
       "    <tr>\n",
       "      <th>2020-03-16</th>\n",
       "      <td>134</td>\n",
       "      <td>17</td>\n",
       "      <td>5</td>\n",
       "      <td>121</td>\n",
       "    </tr>\n",
       "    <tr>\n",
       "      <th>2020-03-17</th>\n",
       "      <td>172</td>\n",
       "      <td>38</td>\n",
       "      <td>7</td>\n",
       "      <td>156</td>\n",
       "    </tr>\n",
       "    <tr>\n",
       "      <th>2020-03-18</th>\n",
       "      <td>227</td>\n",
       "      <td>55</td>\n",
       "      <td>19</td>\n",
       "      <td>197</td>\n",
       "    </tr>\n",
       "    <tr>\n",
       "      <th>2020-03-19</th>\n",
       "      <td>311</td>\n",
       "      <td>84</td>\n",
       "      <td>25</td>\n",
       "      <td>269</td>\n",
       "    </tr>\n",
       "    <tr>\n",
       "      <th>2020-03-20</th>\n",
       "      <td>369</td>\n",
       "      <td>58</td>\n",
       "      <td>32</td>\n",
       "      <td>320</td>\n",
       "    </tr>\n",
       "    <tr>\n",
       "      <th>2020-03-21</th>\n",
       "      <td>450</td>\n",
       "      <td>81</td>\n",
       "      <td>38</td>\n",
       "      <td>392</td>\n",
       "    </tr>\n",
       "    <tr>\n",
       "      <th>2020-03-22</th>\n",
       "      <td>514</td>\n",
       "      <td>64</td>\n",
       "      <td>48</td>\n",
       "      <td>437</td>\n",
       "    </tr>\n",
       "    <tr>\n",
       "      <th>2020-03-23</th>\n",
       "      <td>579</td>\n",
       "      <td>65</td>\n",
       "      <td>49</td>\n",
       "      <td>500</td>\n",
       "    </tr>\n",
       "    <tr>\n",
       "      <th>2020-03-24</th>\n",
       "      <td>686</td>\n",
       "      <td>107</td>\n",
       "      <td>55</td>\n",
       "      <td>601</td>\n",
       "    </tr>\n",
       "    <tr>\n",
       "      <th>2020-03-25</th>\n",
       "      <td>790</td>\n",
       "      <td>104</td>\n",
       "      <td>58</td>\n",
       "      <td>701</td>\n",
       "    </tr>\n",
       "    <tr>\n",
       "      <th>2020-03-26</th>\n",
       "      <td>893</td>\n",
       "      <td>103</td>\n",
       "      <td>78</td>\n",
       "      <td>780</td>\n",
       "    </tr>\n",
       "  </tbody>\n",
       "</table>\n",
       "</div>"
      ],
      "text/plain": [
       "            Confirmed  New  Deaths  Active\n",
       "Date                                      \n",
       "2020-03-02          2    0       0       2\n",
       "2020-03-03          2    0       0       2\n",
       "2020-03-04          2    0       0       2\n",
       "2020-03-05          2    0       0       2\n",
       "2020-03-06          4    2       0       4\n",
       "2020-03-07          4    0       0       4\n",
       "2020-03-08          6    2       0       6\n",
       "2020-03-09         19   13       0      19\n",
       "2020-03-10         27    8       0      25\n",
       "2020-03-11         34    7       1      31\n",
       "2020-03-12         34    0       1      30\n",
       "2020-03-13         69   35       4      60\n",
       "2020-03-14         96   27       5      83\n",
       "2020-03-15        117   21       5     104\n",
       "2020-03-16        134   17       5     121\n",
       "2020-03-17        172   38       7     156\n",
       "2020-03-18        227   55      19     197\n",
       "2020-03-19        311   84      25     269\n",
       "2020-03-20        369   58      32     320\n",
       "2020-03-21        450   81      38     392\n",
       "2020-03-22        514   64      48     437\n",
       "2020-03-23        579   65      49     500\n",
       "2020-03-24        686  107      55     601\n",
       "2020-03-25        790  104      58     701\n",
       "2020-03-26        893  103      78     780"
      ]
     },
     "execution_count": 5,
     "metadata": {},
     "output_type": "execute_result"
    }
   ],
   "source": [
    "df"
   ]
  },
  {
   "cell_type": "code",
   "execution_count": 6,
   "metadata": {},
   "outputs": [
    {
     "data": {
      "text/plain": [
       "<matplotlib.axes._subplots.AxesSubplot at 0x248615c2508>"
      ]
     },
     "execution_count": 6,
     "metadata": {},
     "output_type": "execute_result"
    },
    {
     "data": {
      "image/png": "[encoded data removed]",
      "text/plain": [
       "<Figure size 1080x288 with 1 Axes>"
      ]
     },
     "metadata": {
      "needs_background": "light"
     },
     "output_type": "display_data"
    }
   ],
   "source": [
    "df.plot.area(y=[\"Active\", \"Confirmed\", \"Deaths\", \"New\"], figsize=(15,4), alpha=0.4, subplots=False, stacked=False)"
   ]
  },
  {
   "cell_type": "code",
   "execution_count": 7,
   "metadata": {},
   "outputs": [
    {
     "data": {
      "image/png": "[encoded data removed]",
      "text/plain": [
       "<Figure size 432x288 with 2 Axes>"
      ]
     },
     "metadata": {
      "needs_background": "light"
     },
     "output_type": "display_data"
    }
   ],
   "source": [
    "fig, ax = plt.subplots()\n",
    "ax2 = ax.twinx()\n",
    "ax.bar(df.index, df[\"Confirmed\"], color=(190/255,190/255,190/255,0.7), label='Confirmed')\n",
    "ax2.plot(df.index, df[\"Active\"], color='green', label='Active')\n",
    "ax.set_xticklabels(df.index)\n",
    "ax.legend(loc='best')\n",
    "ax2.legend(loc='best')\n",
    "ax.xaxis.grid(True)\n",
    "ax.yaxis.grid(True)\n",
    "ax.set_title('Banyak kasus aktif dibanding dengan total kasus')\n",
    "fig.autofmt_xdate()"
   ]
  },
  {
   "cell_type": "code",
   "execution_count": 8,
   "metadata": {},
   "outputs": [
    {
     "data": {
      "image/png": "[encoded data removed]",
      "text/plain": [
       "<Figure size 432x288 with 2 Axes>"
      ]
     },
     "metadata": {
      "needs_background": "light"
     },
     "output_type": "display_data"
    }
   ],
   "source": [
    "fig, ax3 = plt.subplots()\n",
    "ax4 = ax3.twinx()\n",
    "ax3.bar(df.index, df[\"New\"], color=(190/255,190/255,190/255,0.7), label='New')\n",
    "ax4.plot(df.index, df[\"Deaths\"], color='red', label='Deaths')\n",
    "ax3.set_xticklabels(df.index)\n",
    "ax3.legend(loc='best')\n",
    "ax4.legend(loc='best')\n",
    "ax3.xaxis.grid(True)\n",
    "ax4.yaxis.grid(True)\n",
    "ax3.set_title('Banyak kasus kematian dibanding dengan kasus baru')\n",
    "fig.autofmt_xdate()"
   ]
  },
  {
   "cell_type": "markdown",
   "metadata": {},
   "source": [
    "## Regressions"
   ]
  },
  {
   "cell_type": "markdown",
   "metadata": {},
   "source": [
    "### Active "
   ]
  },
  {
   "cell_type": "markdown",
   "metadata": {},
   "source": [
    "- Start: 2-Mar-2020\n",
    "- End: 26-Mar-2020\n",
    "- Range: 25 Days"
   ]
  },
  {
   "cell_type": "markdown",
   "metadata": {},
   "source": [
    "**Data**"
   ]
  },
  {
   "cell_type": "code",
   "execution_count": 9,
   "metadata": {},
   "outputs": [
    {
     "data": {
      "text/plain": [
       "array([  2.,   2.,   2.,   2.,   4.,   4.,   6.,  19.,  25.,  31.,  30.,\n",
       "        60.,  83., 104., 121., 156., 197., 269., 320., 392., 437., 500.,\n",
       "       601., 701., 780.])"
      ]
     },
     "execution_count": 9,
     "metadata": {},
     "output_type": "execute_result"
    }
   ],
   "source": [
    "y = np.array ((2, 2, 2, 2, 4, 4, 6, 19, 25, 31, 30, 60, 83, 104, 121, 156, 197, 269, 320, 392, 437, 500, 601, 701, 780))\n",
    "y = y.astype('float64')\n",
    "y"
   ]
  },
  {
   "cell_type": "code",
   "execution_count": 10,
   "metadata": {
    "scrolled": true
   },
   "outputs": [
    {
     "data": {
      "text/plain": [
       "array([ 1.,  2.,  3.,  4.,  5.,  6.,  7.,  8.,  9., 10., 11., 12., 13.,\n",
       "       14., 15., 16., 17., 18., 19., 20., 21., 22., 23., 24., 25.])"
      ]
     },
     "execution_count": 10,
     "metadata": {},
     "output_type": "execute_result"
    }
   ],
   "source": [
    "x = np.array((range(1,1+len(y))))\n",
    "x = x.astype('float64')\n",
    "x"
   ]
  },
  {
   "cell_type": "markdown",
   "metadata": {},
   "source": [
    "**Plot**"
   ]
  },
  {
   "cell_type": "code",
   "execution_count": 11,
   "metadata": {},
   "outputs": [
    {
     "data": {
      "text/plain": [
       "Text(0, 0.5, 'y-jumlah orang')"
      ]
     },
     "execution_count": 11,
     "metadata": {},
     "output_type": "execute_result"
    },
    {
     "data": {
      "image/png": "[encoded data removed]",
      "text/plain": [
       "<Figure size 432x288 with 1 Axes>"
      ]
     },
     "metadata": {
      "needs_background": "light"
     },
     "output_type": "display_data"
    }
   ],
   "source": [
    "ax = plt.plot(x,y,'ro')\n",
    "plt.grid()\n",
    "plt.xlabel('x-hari')\n",
    "plt.ylabel('y-jumlah orang')"
   ]
  },
  {
   "cell_type": "markdown",
   "metadata": {},
   "source": [
    "#### Regresi Berpangkat"
   ]
  },
  {
   "cell_type": "markdown",
   "metadata": {},
   "source": [
    "**Data**"
   ]
  },
  {
   "cell_type": "code",
   "execution_count": 12,
   "metadata": {},
   "outputs": [
    {
     "data": {
      "text/plain": [
       "array([  2.,   2.,   2.,   2.,   4.,   4.,   6.,  19.,  25.,  31.,  30.,\n",
       "        60.,  83., 104., 121., 156., 197., 269., 320., 392., 437., 500.,\n",
       "       601., 701., 780.])"
      ]
     },
     "execution_count": 12,
     "metadata": {},
     "output_type": "execute_result"
    }
   ],
   "source": [
    "y = np.array ((2, 2, 2, 2, 4, 4, 6, 19, 25, 31, 30, 60, 83, 104, 121, 156, 197, 269, 320, 392, 437, 500, 601, 701, 780))\n",
    "y = y.astype('float64')\n",
    "y"
   ]
  },
  {
   "cell_type": "code",
   "execution_count": 13,
   "metadata": {},
   "outputs": [
    {
     "data": {
      "text/plain": [
       "array([ 1.,  2.,  3.,  4.,  5.,  6.,  7.,  8.,  9., 10., 11., 12., 13.,\n",
       "       14., 15., 16., 17., 18., 19., 20., 21., 22., 23., 24., 25.])"
      ]
     },
     "execution_count": 13,
     "metadata": {},
     "output_type": "execute_result"
    }
   ],
   "source": [
    "x = np.array((range(1,1+len(y))))\n",
    "x = x.astype('float64')\n",
    "x"
   ]
  },
  {
   "attachments": {
    "image.png": {
     "image/png": "[encoded data removed]"
    }
   },
   "cell_type": "markdown",
   "metadata": {},
   "source": [
    "![image.png](attachment:image.png)"
   ]
  },
  {
   "cell_type": "markdown",
   "metadata": {},
   "source": [
    "**Membuat xreg untuk plotting selanjutnya**"
   ]
  },
  {
   "cell_type": "code",
   "execution_count": 14,
   "metadata": {},
   "outputs": [
    {
     "data": {
      "text/plain": [
       "array([ 1. ,  1.1,  1.2,  1.3,  1.4,  1.5,  1.6,  1.7,  1.8,  1.9,  2. ,\n",
       "        2.1,  2.2,  2.3,  2.4,  2.5,  2.6,  2.7,  2.8,  2.9,  3. ,  3.1,\n",
       "        3.2,  3.3,  3.4,  3.5,  3.6,  3.7,  3.8,  3.9,  4. ,  4.1,  4.2,\n",
       "        4.3,  4.4,  4.5,  4.6,  4.7,  4.8,  4.9,  5. ,  5.1,  5.2,  5.3,\n",
       "        5.4,  5.5,  5.6,  5.7,  5.8,  5.9,  6. ,  6.1,  6.2,  6.3,  6.4,\n",
       "        6.5,  6.6,  6.7,  6.8,  6.9,  7. ,  7.1,  7.2,  7.3,  7.4,  7.5,\n",
       "        7.6,  7.7,  7.8,  7.9,  8. ,  8.1,  8.2,  8.3,  8.4,  8.5,  8.6,\n",
       "        8.7,  8.8,  8.9,  9. ,  9.1,  9.2,  9.3,  9.4,  9.5,  9.6,  9.7,\n",
       "        9.8,  9.9, 10. , 10.1, 10.2, 10.3, 10.4, 10.5, 10.6, 10.7, 10.8,\n",
       "       10.9, 11. , 11.1, 11.2, 11.3, 11.4, 11.5, 11.6, 11.7, 11.8, 11.9,\n",
       "       12. , 12.1, 12.2, 12.3, 12.4, 12.5, 12.6, 12.7, 12.8, 12.9, 13. ,\n",
       "       13.1, 13.2, 13.3, 13.4, 13.5, 13.6, 13.7, 13.8, 13.9, 14. , 14.1,\n",
       "       14.2, 14.3, 14.4, 14.5, 14.6, 14.7, 14.8, 14.9, 15. , 15.1, 15.2,\n",
       "       15.3, 15.4, 15.5, 15.6, 15.7, 15.8, 15.9, 16. , 16.1, 16.2, 16.3,\n",
       "       16.4, 16.5, 16.6, 16.7, 16.8, 16.9, 17. , 17.1, 17.2, 17.3, 17.4,\n",
       "       17.5, 17.6, 17.7, 17.8, 17.9, 18. , 18.1, 18.2, 18.3, 18.4, 18.5,\n",
       "       18.6, 18.7, 18.8, 18.9, 19. , 19.1, 19.2, 19.3, 19.4, 19.5, 19.6,\n",
       "       19.7, 19.8, 19.9, 20. , 20.1, 20.2, 20.3, 20.4, 20.5, 20.6, 20.7,\n",
       "       20.8, 20.9, 21. , 21.1, 21.2, 21.3, 21.4, 21.5, 21.6, 21.7, 21.8,\n",
       "       21.9, 22. , 22.1, 22.2, 22.3, 22.4, 22.5, 22.6, 22.7, 22.8, 22.9,\n",
       "       23. , 23.1, 23.2, 23.3, 23.4, 23.5, 23.6, 23.7, 23.8, 23.9, 24. ,\n",
       "       24.1, 24.2, 24.3, 24.4, 24.5, 24.6, 24.7, 24.8, 24.9, 25. , 25.1,\n",
       "       25.2, 25.3, 25.4, 25.5, 25.6, 25.7, 25.8, 25.9])"
      ]
     },
     "execution_count": 14,
     "metadata": {},
     "output_type": "execute_result"
    }
   ],
   "source": [
    "#membuat xreg\n",
    "xreg = np.array(range(10,int((x[-1]+1)*10)))\n",
    "xreg = xreg/10 #memperhalus bentuk garis\n",
    "xreg = xreg.astype('float64')\n",
    "xreg"
   ]
  },
  {
   "cell_type": "markdown",
   "metadata": {},
   "source": [
    "**Regresi berpangkat**"
   ]
  },
  {
   "attachments": {
    "image.png": {
     "image/png": "[encoded data removed]"
    }
   },
   "cell_type": "markdown",
   "metadata": {},
   "source": [
    "![image.png](attachment:image.png)"
   ]
  },
  {
   "attachments": {
    "image.png": {
     "image/png": "[encoded data removed]"
    }
   },
   "cell_type": "markdown",
   "metadata": {},
   "source": [
    "![image.png](attachment:image.png)"
   ]
  },
  {
   "attachments": {
    "image.png": {
     "image/png": "[encoded data removed]"
    }
   },
   "cell_type": "markdown",
   "metadata": {},
   "source": [
    "![image.png](attachment:image.png)"
   ]
  },
  {
   "cell_type": "code",
   "execution_count": 15,
   "metadata": {},
   "outputs": [],
   "source": [
    "p = np.log10(y)\n",
    "q = np.log10(x)"
   ]
  },
  {
   "cell_type": "markdown",
   "metadata": {},
   "source": [
    "**Hitung regresi linear**"
   ]
  },
  {
   "cell_type": "code",
   "execution_count": 16,
   "metadata": {},
   "outputs": [],
   "source": [
    "n = len(y)\n",
    "pq = p*q\n",
    "qq = q**2\n",
    "B = (n*pq.sum() - q.sum()*p.sum())/(n*qq.sum() - (q.sum())**2)\n",
    "A = p.mean()-B*q.mean()"
   ]
  },
  {
   "cell_type": "markdown",
   "metadata": {},
   "source": [
    "**Hasil regresi linear**"
   ]
  },
  {
   "cell_type": "code",
   "execution_count": 17,
   "metadata": {},
   "outputs": [
    {
     "name": "stdout",
     "output_type": "stream",
     "text": [
      "p = 2.3598q -0.6778\n"
     ]
    }
   ],
   "source": [
    "if A>0 :\n",
    "    print (\"p = {:.4f}q + {:.4f}\". format(B,A))\n",
    "else :\n",
    "    print (\"p = {:.4f}q {:.4f}\". format(B,A))"
   ]
  },
  {
   "cell_type": "markdown",
   "metadata": {},
   "source": [
    "**Kembalikan ke bentuk pangkat**"
   ]
  },
  {
   "cell_type": "code",
   "execution_count": 18,
   "metadata": {},
   "outputs": [
    {
     "name": "stdout",
     "output_type": "stream",
     "text": [
      "y = 0.2100x^(2.3598)\n"
     ]
    }
   ],
   "source": [
    "a = 10**A #A=log(a)\n",
    "b = B\n",
    "print (\"y = {:.4f}x^({:.4f})\".format(a,b))"
   ]
  },
  {
   "cell_type": "markdown",
   "metadata": {},
   "source": [
    "**Koefisien Korelasi ( r ) dan Derajat Kesesuaian ( R ) r-square**"
   ]
  },
  {
   "cell_type": "code",
   "execution_count": 19,
   "metadata": {},
   "outputs": [
    {
     "name": "stdout",
     "output_type": "stream",
     "text": [
      "r = 0.9341 dan r^2 = 0.8725\n"
     ]
    }
   ],
   "source": [
    "yDt = ((p - p.mean())**2).sum()\n",
    "yD = ((p - (q*B) - A)**2).sum()\n",
    "r = np.sqrt((yDt-yD)/yDt)\n",
    "r2 = r**2\n",
    "print('r = {:.4f} dan r^2 = {:.4f}'.format(r,r2))"
   ]
  },
  {
   "cell_type": "markdown",
   "metadata": {},
   "source": [
    "**Plot**"
   ]
  },
  {
   "cell_type": "code",
   "execution_count": 20,
   "metadata": {},
   "outputs": [
    {
     "data": {
      "text/plain": [
       "array([2.09998102e-01, 2.62962767e-01, 3.22900043e-01, 3.90031860e-01,\n",
       "       4.64568583e-01, 5.46710437e-01, 6.36648676e-01, 7.34566546e-01,\n",
       "       8.40640091e-01, 9.55038840e-01, 1.07792639e+00, 1.20946090e+00,\n",
       "       1.34979556e+00, 1.49907894e+00, 1.65745534e+00, 1.82506512e+00,\n",
       "       2.00204492e+00, 2.18852793e+00, 2.38464410e+00, 2.59052032e+00,\n",
       "       2.80628063e+00, 3.03204635e+00, 3.26793624e+00, 3.51406662e+00,\n",
       "       3.77055152e+00, 4.03750277e+00, 4.31503012e+00, 4.60324133e+00,\n",
       "       4.90224224e+00, 5.21213690e+00, 5.53302761e+00, 5.86501500e+00,\n",
       "       6.20819810e+00, 6.56267443e+00, 6.92854000e+00, 7.30588942e+00,\n",
       "       7.69481594e+00, 8.09541147e+00, 8.50776666e+00, 8.93197094e+00,\n",
       "       9.36811255e+00, 9.81627859e+00, 1.02765550e+01, 1.07490268e+01,\n",
       "       1.12337778e+01, 1.17308908e+01, 1.22404478e+01, 1.27625296e+01,\n",
       "       1.32972164e+01, 1.38445873e+01, 1.44047204e+01, 1.49776933e+01,\n",
       "       1.55635824e+01, 1.61624637e+01, 1.67744121e+01, 1.73995019e+01,\n",
       "       1.80378065e+01, 1.86893989e+01, 1.93543510e+01, 2.00327343e+01,\n",
       "       2.07246196e+01, 2.14300769e+01, 2.21491756e+01, 2.28819846e+01,\n",
       "       2.36285721e+01, 2.43890057e+01, 2.51633525e+01, 2.59516789e+01,\n",
       "       2.67540508e+01, 2.75705337e+01, 2.84011922e+01, 2.92460908e+01,\n",
       "       3.01052932e+01, 3.09788627e+01, 3.18668621e+01, 3.27693537e+01,\n",
       "       3.36863994e+01, 3.46180605e+01, 3.55643981e+01, 3.65254724e+01,\n",
       "       3.75013437e+01, 3.84920714e+01, 3.94977148e+01, 4.05183327e+01,\n",
       "       4.15539833e+01, 4.26047248e+01, 4.36706146e+01, 4.47517099e+01,\n",
       "       4.58480675e+01, 4.69597439e+01, 4.80867952e+01, 4.92292769e+01,\n",
       "       5.03872445e+01, 5.15607530e+01, 5.27498569e+01, 5.39546107e+01,\n",
       "       5.51750683e+01, 5.64112833e+01, 5.76633091e+01, 5.89311987e+01,\n",
       "       6.02150048e+01, 6.15147797e+01, 6.28305756e+01, 6.41624443e+01,\n",
       "       6.55104371e+01, 6.68746054e+01, 6.82550000e+01, 6.96516716e+01,\n",
       "       7.10646705e+01, 7.24940468e+01, 7.39398503e+01, 7.54021305e+01,\n",
       "       7.68809367e+01, 7.83763179e+01, 7.98883229e+01, 8.14170001e+01,\n",
       "       8.29623979e+01, 8.45245643e+01, 8.61035469e+01, 8.76993934e+01,\n",
       "       8.93121509e+01, 9.09418667e+01, 9.25885874e+01, 9.42523597e+01,\n",
       "       9.59332300e+01, 9.76312443e+01, 9.93464487e+01, 1.01078889e+02,\n",
       "       1.02828610e+02, 1.04595658e+02, 1.06380077e+02, 1.08181913e+02,\n",
       "       1.10001210e+02, 1.11838012e+02, 1.13692365e+02, 1.15564311e+02,\n",
       "       1.17453895e+02, 1.19361160e+02, 1.21286150e+02, 1.23228909e+02,\n",
       "       1.25189478e+02, 1.27167902e+02, 1.29164223e+02, 1.31178483e+02,\n",
       "       1.33210725e+02, 1.35260992e+02, 1.37329324e+02, 1.39415764e+02,\n",
       "       1.41520354e+02, 1.43643135e+02, 1.45784149e+02, 1.47943436e+02,\n",
       "       1.50121038e+02, 1.52316995e+02, 1.54531349e+02, 1.56764139e+02,\n",
       "       1.59015406e+02, 1.61285191e+02, 1.63573533e+02, 1.65880473e+02,\n",
       "       1.68206049e+02, 1.70550302e+02, 1.72913271e+02, 1.75294996e+02,\n",
       "       1.77695515e+02, 1.80114868e+02, 1.82553093e+02, 1.85010230e+02,\n",
       "       1.87486316e+02, 1.89981391e+02, 1.92495492e+02, 1.95028657e+02,\n",
       "       1.97580926e+02, 2.00152335e+02, 2.02742923e+02, 2.05352727e+02,\n",
       "       2.07981784e+02, 2.10630133e+02, 2.13297809e+02, 2.15984851e+02,\n",
       "       2.18691296e+02, 2.21417180e+02, 2.24162539e+02, 2.26927412e+02,\n",
       "       2.29711833e+02, 2.32515840e+02, 2.35339469e+02, 2.38182756e+02,\n",
       "       2.41045736e+02, 2.43928447e+02, 2.46830923e+02, 2.49753201e+02,\n",
       "       2.52695315e+02, 2.55657302e+02, 2.58639197e+02, 2.61641034e+02,\n",
       "       2.64662850e+02, 2.67704679e+02, 2.70766555e+02, 2.73848515e+02,\n",
       "       2.76950592e+02, 2.80072821e+02, 2.83215236e+02, 2.86377872e+02,\n",
       "       2.89560764e+02, 2.92763945e+02, 2.95987449e+02, 2.99231310e+02,\n",
       "       3.02495563e+02, 3.05780241e+02, 3.09085377e+02, 3.12411006e+02,\n",
       "       3.15757160e+02, 3.19123873e+02, 3.22511179e+02, 3.25919110e+02,\n",
       "       3.29347699e+02, 3.32796980e+02, 3.36266986e+02, 3.39757749e+02,\n",
       "       3.43269302e+02, 3.46801677e+02, 3.50354907e+02, 3.53929025e+02,\n",
       "       3.57524063e+02, 3.61140053e+02, 3.64777028e+02, 3.68435019e+02,\n",
       "       3.72114058e+02, 3.75814178e+02, 3.79535410e+02, 3.83277785e+02,\n",
       "       3.87041336e+02, 3.90826095e+02, 3.94632092e+02, 3.98459359e+02,\n",
       "       4.02307927e+02, 4.06177828e+02, 4.10069093e+02, 4.13981753e+02,\n",
       "       4.17915838e+02, 4.21871380e+02, 4.25848410e+02, 4.29846958e+02,\n",
       "       4.33867056e+02, 4.37908732e+02, 4.41972020e+02, 4.46056947e+02,\n",
       "       4.50163546e+02, 4.54291846e+02])"
      ]
     },
     "execution_count": 20,
     "metadata": {},
     "output_type": "execute_result"
    }
   ],
   "source": [
    "#membuat yreg\n",
    "yreg = a*(xreg**b)\n",
    "yreg\n",
    "    "
   ]
  },
  {
   "cell_type": "code",
   "execution_count": 21,
   "metadata": {},
   "outputs": [
    {
     "data": {
      "text/plain": [
       "Text(0, 0.5, 'y-banyak orang')"
      ]
     },
     "execution_count": 21,
     "metadata": {},
     "output_type": "execute_result"
    },
    {
     "data": {
      "image/png": "[encoded data removed]",
      "text/plain": [
       "<Figure size 432x288 with 1 Axes>"
      ]
     },
     "metadata": {
      "needs_background": "light"
     },
     "output_type": "display_data"
    }
   ],
   "source": [
    "ax = plt.plot(x,y,'ro')\n",
    "plt.plot(xreg,yreg,'g')\n",
    "plt.grid()\n",
    "plt.xlabel('x-hari ke')\n",
    "plt.ylabel('y-banyak orang')"
   ]
  },
  {
   "cell_type": "markdown",
   "metadata": {},
   "source": [
    "#### Regresi Eksponensial"
   ]
  },
  {
   "attachments": {
    "image.png": {
     "image/png": "[encoded data removed]"
    }
   },
   "cell_type": "markdown",
   "metadata": {},
   "source": [
    "![image.png](attachment:image.png)"
   ]
  },
  {
   "attachments": {
    "image.png": {
     "image/png": "[encoded data removed]"
    }
   },
   "cell_type": "markdown",
   "metadata": {},
   "source": [
    "![image.png](attachment:image.png)"
   ]
  },
  {
   "attachments": {
    "image.png": {
     "image/png": "[encoded data removed]"
    }
   },
   "cell_type": "markdown",
   "metadata": {},
   "source": [
    "![image.png](attachment:image.png)"
   ]
  },
  {
   "cell_type": "markdown",
   "metadata": {},
   "source": [
    "**Linearisasi**"
   ]
  },
  {
   "cell_type": "code",
   "execution_count": 22,
   "metadata": {},
   "outputs": [
    {
     "data": {
      "text/plain": [
       "array([  2.,   2.,   2.,   2.,   4.,   4.,   6.,  19.,  25.,  31.,  30.,\n",
       "        60.,  83., 104., 121., 156., 197., 269., 320., 392., 437., 500.,\n",
       "       601., 701., 780.])"
      ]
     },
     "execution_count": 22,
     "metadata": {},
     "output_type": "execute_result"
    }
   ],
   "source": [
    "y = np.array ((2, 2, 2, 2, 4, 4, 6, 19, 25, 31, 30, 60, 83, 104, 121, 156, 197, 269, 320, 392, 437, 500, 601, 701, 780))\n",
    "y = y.astype('float64')\n",
    "y"
   ]
  },
  {
   "cell_type": "code",
   "execution_count": 23,
   "metadata": {},
   "outputs": [
    {
     "data": {
      "text/plain": [
       "array([ 1.,  2.,  3.,  4.,  5.,  6.,  7.,  8.,  9., 10., 11., 12., 13.,\n",
       "       14., 15., 16., 17., 18., 19., 20., 21., 22., 23., 24., 25.])"
      ]
     },
     "execution_count": 23,
     "metadata": {},
     "output_type": "execute_result"
    }
   ],
   "source": [
    "x = np.array((range(1,1+len(y))))\n",
    "x = x.astype('float64')\n",
    "x"
   ]
  },
  {
   "cell_type": "code",
   "execution_count": 24,
   "metadata": {},
   "outputs": [],
   "source": [
    "p = np.log(y)\n",
    "q = x"
   ]
  },
  {
   "cell_type": "markdown",
   "metadata": {},
   "source": [
    "**Hitung regresi linear**"
   ]
  },
  {
   "attachments": {
    "image.png": {
     "image/png": "[encoded data removed]"
    }
   },
   "cell_type": "markdown",
   "metadata": {},
   "source": [
    "![image.png](attachment:image.png)"
   ]
  },
  {
   "cell_type": "code",
   "execution_count": 25,
   "metadata": {},
   "outputs": [],
   "source": [
    "n = len(y)\n",
    "pq = p*q\n",
    "qq = q**2\n",
    "B = (n*pq.sum() - q.sum()*p.sum())/(n*qq.sum() - (q.sum())**2)\n",
    "A = p.mean()-B*q.mean()"
   ]
  },
  {
   "cell_type": "markdown",
   "metadata": {},
   "source": [
    "**Hasil persamaan linear**"
   ]
  },
  {
   "cell_type": "code",
   "execution_count": 26,
   "metadata": {},
   "outputs": [
    {
     "name": "stdout",
     "output_type": "stream",
     "text": [
      "p = 0.2815q + 0.2545\n"
     ]
    }
   ],
   "source": [
    "if A>0 :\n",
    "    print (\"p = {:.4f}q + {:.4f}\". format(B,A))\n",
    "else :\n",
    "    print (\"p = {:.4f}q {:.4f}\". format(B,A))"
   ]
  },
  {
   "cell_type": "markdown",
   "metadata": {},
   "source": [
    "**Hitung kembali dalam bentuk bilangan berpangkat**"
   ]
  },
  {
   "cell_type": "code",
   "execution_count": 27,
   "metadata": {},
   "outputs": [],
   "source": [
    "a = np.e**A\n",
    "b = B"
   ]
  },
  {
   "cell_type": "code",
   "execution_count": 28,
   "metadata": {},
   "outputs": [
    {
     "name": "stdout",
     "output_type": "stream",
     "text": [
      "y = 1.2898x^(0.2815)\n"
     ]
    }
   ],
   "source": [
    "print (\"y = {:.4f}x^({:.4f})\".format(a,b))"
   ]
  },
  {
   "cell_type": "markdown",
   "metadata": {},
   "source": [
    "**Koefisien Korelasi ( r ) dan Derajat Kesesuaian ( R ) r-square**"
   ]
  },
  {
   "cell_type": "code",
   "execution_count": 29,
   "metadata": {},
   "outputs": [
    {
     "name": "stdout",
     "output_type": "stream",
     "text": [
      "r = 0.9831 dan r^2 = 0.9665\n"
     ]
    }
   ],
   "source": [
    "yDt = ((p - p.mean())**2).sum()\n",
    "yD = ((p - (q*B) - A)**2).sum()\n",
    "r = np.sqrt((yDt-yD)/yDt)\n",
    "r2 = r**2\n",
    "print('r = {:.4f} dan r^2 = {:.4f}'.format(r,r2))"
   ]
  },
  {
   "cell_type": "markdown",
   "metadata": {},
   "source": [
    "**Plot data dan regresinya**"
   ]
  },
  {
   "cell_type": "code",
   "execution_count": 30,
   "metadata": {},
   "outputs": [
    {
     "data": {
      "text/plain": [
       "array([ 0. ,  0.1,  0.2,  0.3,  0.4,  0.5,  0.6,  0.7,  0.8,  0.9,  1. ,\n",
       "        1.1,  1.2,  1.3,  1.4,  1.5,  1.6,  1.7,  1.8,  1.9,  2. ,  2.1,\n",
       "        2.2,  2.3,  2.4,  2.5,  2.6,  2.7,  2.8,  2.9,  3. ,  3.1,  3.2,\n",
       "        3.3,  3.4,  3.5,  3.6,  3.7,  3.8,  3.9,  4. ,  4.1,  4.2,  4.3,\n",
       "        4.4,  4.5,  4.6,  4.7,  4.8,  4.9,  5. ,  5.1,  5.2,  5.3,  5.4,\n",
       "        5.5,  5.6,  5.7,  5.8,  5.9,  6. ,  6.1,  6.2,  6.3,  6.4,  6.5,\n",
       "        6.6,  6.7,  6.8,  6.9,  7. ,  7.1,  7.2,  7.3,  7.4,  7.5,  7.6,\n",
       "        7.7,  7.8,  7.9,  8. ,  8.1,  8.2,  8.3,  8.4,  8.5,  8.6,  8.7,\n",
       "        8.8,  8.9,  9. ,  9.1,  9.2,  9.3,  9.4,  9.5,  9.6,  9.7,  9.8,\n",
       "        9.9, 10. , 10.1, 10.2, 10.3, 10.4, 10.5, 10.6, 10.7, 10.8, 10.9,\n",
       "       11. , 11.1, 11.2, 11.3, 11.4, 11.5, 11.6, 11.7, 11.8, 11.9, 12. ,\n",
       "       12.1, 12.2, 12.3, 12.4, 12.5, 12.6, 12.7, 12.8, 12.9, 13. , 13.1,\n",
       "       13.2, 13.3, 13.4, 13.5, 13.6, 13.7, 13.8, 13.9, 14. , 14.1, 14.2,\n",
       "       14.3, 14.4, 14.5, 14.6, 14.7, 14.8, 14.9, 15. , 15.1, 15.2, 15.3,\n",
       "       15.4, 15.5, 15.6, 15.7, 15.8, 15.9, 16. , 16.1, 16.2, 16.3, 16.4,\n",
       "       16.5, 16.6, 16.7, 16.8, 16.9, 17. , 17.1, 17.2, 17.3, 17.4, 17.5,\n",
       "       17.6, 17.7, 17.8, 17.9, 18. , 18.1, 18.2, 18.3, 18.4, 18.5, 18.6,\n",
       "       18.7, 18.8, 18.9, 19. , 19.1, 19.2, 19.3, 19.4, 19.5, 19.6, 19.7,\n",
       "       19.8, 19.9, 20. , 20.1, 20.2, 20.3, 20.4, 20.5, 20.6, 20.7, 20.8,\n",
       "       20.9, 21. , 21.1, 21.2, 21.3, 21.4, 21.5, 21.6, 21.7, 21.8, 21.9,\n",
       "       22. , 22.1, 22.2, 22.3, 22.4, 22.5, 22.6, 22.7, 22.8, 22.9, 23. ,\n",
       "       23.1, 23.2, 23.3, 23.4, 23.5, 23.6, 23.7, 23.8, 23.9, 24. , 24.1,\n",
       "       24.2, 24.3, 24.4, 24.5, 24.6, 24.7, 24.8, 24.9, 25. , 25.1, 25.2,\n",
       "       25.3, 25.4, 25.5, 25.6, 25.7, 25.8, 25.9])"
      ]
     },
     "execution_count": 30,
     "metadata": {},
     "output_type": "execute_result"
    }
   ],
   "source": [
    "#membuat xreg\n",
    "xreg = np.array(range(0,int((x[-1]+1)*10)))\n",
    "xreg = xreg/10 #memperhalus bentuk garis\n",
    "xreg = xreg.astype('float64')\n",
    "xreg"
   ]
  },
  {
   "cell_type": "code",
   "execution_count": 31,
   "metadata": {},
   "outputs": [
    {
     "data": {
      "text/plain": [
       "array([1.28983281e+00, 1.32666188e+00, 1.36454254e+00, 1.40350482e+00,\n",
       "       1.44357961e+00, 1.48479867e+00, 1.52719467e+00, 1.57080122e+00,\n",
       "       1.61565288e+00, 1.66178521e+00, 1.70923478e+00, 1.75803919e+00,\n",
       "       1.80823712e+00, 1.85986838e+00, 1.91297389e+00, 1.96759573e+00,\n",
       "       2.02377721e+00, 2.08156287e+00, 2.14099850e+00, 2.20213121e+00,\n",
       "       2.26500947e+00, 2.32968312e+00, 2.39620341e+00, 2.46462309e+00,\n",
       "       2.53499638e+00, 2.60737906e+00, 2.68182851e+00, 2.75840374e+00,\n",
       "       2.83716546e+00, 2.91817608e+00, 3.00149984e+00, 3.08720276e+00,\n",
       "       3.17535280e+00, 3.26601981e+00, 3.35927567e+00, 3.45519430e+00,\n",
       "       3.55385173e+00, 3.65532616e+00, 3.75969803e+00, 3.86705007e+00,\n",
       "       3.97746737e+00, 4.09103746e+00, 4.20785035e+00, 4.32799865e+00,\n",
       "       4.45157758e+00, 4.57868511e+00, 4.70942198e+00, 4.84389184e+00,\n",
       "       4.98220126e+00, 5.12445988e+00, 5.27078046e+00, 5.42127899e+00,\n",
       "       5.57607476e+00, 5.73529047e+00, 5.89905232e+00, 6.06749012e+00,\n",
       "       6.24073740e+00, 6.41893146e+00, 6.60221357e+00, 6.79072899e+00,\n",
       "       6.98462717e+00, 7.18406179e+00, 7.38919094e+00, 7.60017722e+00,\n",
       "       7.81718787e+00, 8.04039491e+00, 8.26997525e+00, 8.50611089e+00,\n",
       "       8.74898899e+00, 8.99880209e+00, 9.25574819e+00, 9.52003096e+00,\n",
       "       9.79185990e+00, 1.00714505e+01, 1.03590243e+01, 1.06548093e+01,\n",
       "       1.09590400e+01, 1.12719575e+01, 1.15938098e+01, 1.19248521e+01,\n",
       "       1.22653468e+01, 1.26155637e+01, 1.29757806e+01, 1.33462828e+01,\n",
       "       1.37273641e+01, 1.41193266e+01, 1.45224809e+01, 1.49371466e+01,\n",
       "       1.53636524e+01, 1.58023364e+01, 1.62535463e+01, 1.67176398e+01,\n",
       "       1.71949847e+01, 1.76859594e+01, 1.81909531e+01, 1.87103661e+01,\n",
       "       1.92446100e+01, 1.97941084e+01, 2.03592969e+01, 2.09406233e+01,\n",
       "       2.15385486e+01, 2.21535467e+01, 2.27861051e+01, 2.34367251e+01,\n",
       "       2.41059225e+01, 2.47942278e+01, 2.55021864e+01, 2.62303597e+01,\n",
       "       2.69793248e+01, 2.77496754e+01, 2.85420220e+01, 2.93569929e+01,\n",
       "       3.01952339e+01, 3.10574094e+01, 3.19442031e+01, 3.28563176e+01,\n",
       "       3.37944761e+01, 3.47594222e+01, 3.57519207e+01, 3.67727584e+01,\n",
       "       3.78227445e+01, 3.89027112e+01, 4.00135146e+01, 4.11560351e+01,\n",
       "       4.23311785e+01, 4.35398762e+01, 4.47830862e+01, 4.60617941e+01,\n",
       "       4.73770134e+01, 4.87297867e+01, 5.01211862e+01, 5.15523148e+01,\n",
       "       5.30243069e+01, 5.45383294e+01, 5.60955824e+01, 5.76973001e+01,\n",
       "       5.93447523e+01, 6.10392448e+01, 6.27821207e+01, 6.45747617e+01,\n",
       "       6.64185885e+01, 6.83150628e+01, 7.02656879e+01, 7.22720099e+01,\n",
       "       7.43356191e+01, 7.64581513e+01, 7.86412889e+01, 8.08867625e+01,\n",
       "       8.31963519e+01, 8.55718879e+01, 8.80152534e+01, 9.05283852e+01,\n",
       "       9.31132754e+01, 9.57719729e+01, 9.85065852e+01, 1.01319280e+02,\n",
       "       1.04212286e+02, 1.07187898e+02, 1.10248474e+02, 1.13396439e+02,\n",
       "       1.16634289e+02, 1.19964590e+02, 1.23389983e+02, 1.26913183e+02,\n",
       "       1.30536982e+02, 1.34264252e+02, 1.38097948e+02, 1.42041110e+02,\n",
       "       1.46096862e+02, 1.50268419e+02, 1.54559088e+02, 1.58972271e+02,\n",
       "       1.63511464e+02, 1.68180267e+02, 1.72982380e+02, 1.77921609e+02,\n",
       "       1.83001870e+02, 1.88227190e+02, 1.93601710e+02, 1.99129690e+02,\n",
       "       2.04815513e+02, 2.10663686e+02, 2.16678844e+02, 2.22865754e+02,\n",
       "       2.29229322e+02, 2.35774591e+02, 2.42506749e+02, 2.49431133e+02,\n",
       "       2.56553232e+02, 2.63878690e+02, 2.71413315e+02, 2.79163079e+02,\n",
       "       2.87134125e+02, 2.95332771e+02, 3.03765516e+02, 3.12439045e+02,\n",
       "       3.21360231e+02, 3.30536148e+02, 3.39974068e+02, 3.49681472e+02,\n",
       "       3.59666055e+02, 3.69935732e+02, 3.80498643e+02, 3.91363160e+02,\n",
       "       4.02537896e+02, 4.14031708e+02, 4.25853708e+02, 4.38013265e+02,\n",
       "       4.50520018e+02, 4.63383882e+02, 4.76615052e+02, 4.90224016e+02,\n",
       "       5.04221562e+02, 5.18618786e+02, 5.33427098e+02, 5.48658238e+02,\n",
       "       5.64324278e+02, 5.80437636e+02, 5.97011085e+02, 6.14057761e+02,\n",
       "       6.31591178e+02, 6.49625233e+02, 6.68174220e+02, 6.87252844e+02,\n",
       "       7.06876227e+02, 7.27059923e+02, 7.47819932e+02, 7.69172708e+02,\n",
       "       7.91135179e+02, 8.13724752e+02, 8.36959333e+02, 8.60857340e+02,\n",
       "       8.85437716e+02, 9.10719944e+02, 9.36724065e+02, 9.63470690e+02,\n",
       "       9.90981023e+02, 1.01927687e+03, 1.04838065e+03, 1.07831545e+03,\n",
       "       1.10910499e+03, 1.14077367e+03, 1.17334660e+03, 1.20684959e+03,\n",
       "       1.24130921e+03, 1.27675277e+03, 1.31320836e+03, 1.35070488e+03,\n",
       "       1.38927205e+03, 1.42894045e+03, 1.46974151e+03, 1.51170758e+03,\n",
       "       1.55487192e+03, 1.59926875e+03, 1.64493326e+03, 1.69190164e+03,\n",
       "       1.74021113e+03, 1.78990001e+03, 1.84100768e+03, 1.89357465e+03])"
      ]
     },
     "execution_count": 31,
     "metadata": {},
     "output_type": "execute_result"
    }
   ],
   "source": [
    "#membuat yreg\n",
    "yreg = a*np.e**(b*xreg)\n",
    "yreg"
   ]
  },
  {
   "cell_type": "code",
   "execution_count": 32,
   "metadata": {},
   "outputs": [
    {
     "data": {
      "text/plain": [
       "Text(0, 0.5, 'y-banyak orang')"
      ]
     },
     "execution_count": 32,
     "metadata": {},
     "output_type": "execute_result"
    },
    {
     "data": {
      "image/png": "[encoded data removed]",
      "text/plain": [
       "<Figure size 432x288 with 1 Axes>"
      ]
     },
     "metadata": {
      "needs_background": "light"
     },
     "output_type": "display_data"
    }
   ],
   "source": [
    "ax = plt.plot(x,y,'ro')\n",
    "plt.plot(xreg,yreg,'b')\n",
    "plt.grid()\n",
    "plt.xlabel('x-hari ke')\n",
    "plt.ylabel('y-banyak orang')"
   ]
  },
  {
   "cell_type": "markdown",
   "metadata": {},
   "source": [
    "**Selesai**"
   ]
  },
  {
   "cell_type": "markdown",
   "metadata": {},
   "source": [
    "#### Regresi Polinomial"
   ]
  },
  {
   "cell_type": "code",
   "execution_count": 33,
   "metadata": {},
   "outputs": [
    {
     "data": {
      "text/plain": [
       "array([  2.,   2.,   2.,   2.,   4.,   4.,   6.,  19.,  25.,  31.,  30.,\n",
       "        60.,  83., 104., 121., 156., 197., 269., 320., 392., 437., 500.,\n",
       "       601., 701., 780.])"
      ]
     },
     "execution_count": 33,
     "metadata": {},
     "output_type": "execute_result"
    }
   ],
   "source": [
    "y = np.array ((2, 2, 2, 2, 4, 4, 6, 19, 25, 31, 30, 60, 83, 104, 121, 156, 197, 269, 320, 392, 437, 500, 601, 701, 780))\n",
    "y = y.astype('float64')\n",
    "y"
   ]
  },
  {
   "cell_type": "code",
   "execution_count": 34,
   "metadata": {},
   "outputs": [
    {
     "data": {
      "text/plain": [
       "array([ 1.,  2.,  3.,  4.,  5.,  6.,  7.,  8.,  9., 10., 11., 12., 13.,\n",
       "       14., 15., 16., 17., 18., 19., 20., 21., 22., 23., 24., 25.])"
      ]
     },
     "execution_count": 34,
     "metadata": {},
     "output_type": "execute_result"
    }
   ],
   "source": [
    "x = np.array((range(1,1+len(y))))\n",
    "x = x.astype('float64')\n",
    "x"
   ]
  },
  {
   "cell_type": "markdown",
   "metadata": {},
   "source": [
    "**Membentuk regresi polinomial dari matriks**"
   ]
  },
  {
   "attachments": {
    "image.png": {
     "image/png": "[encoded data removed]"
    }
   },
   "cell_type": "markdown",
   "metadata": {},
   "source": [
    "![image.png](attachment:image.png)"
   ]
  },
  {
   "cell_type": "markdown",
   "metadata": {},
   "source": [
    "**Mendefinisikan elemen-elemen matriks kiri**"
   ]
  },
  {
   "cell_type": "code",
   "execution_count": 35,
   "metadata": {},
   "outputs": [
    {
     "data": {
      "text/plain": [
       "array([[2.50000000e+01, 3.25000000e+02, 5.52500000e+03, 1.05625000e+05],\n",
       "       [3.25000000e+02, 5.52500000e+03, 1.05625000e+05, 2.15364500e+06],\n",
       "       [5.52500000e+03, 1.05625000e+05, 2.15364500e+06, 4.57356250e+07],\n",
       "       [1.05625000e+05, 2.15364500e+06, 4.57356250e+07, 9.98881325e+08]])"
      ]
     },
     "execution_count": 35,
     "metadata": {},
     "output_type": "execute_result"
    }
   ],
   "source": [
    "n = len(y)\n",
    "a = x.sum()\n",
    "b = (x**2).sum()\n",
    "c = (x**3).sum()\n",
    "d = (x**4).sum()\n",
    "e = (x**5).sum()\n",
    "f = (x**6).sum()\n",
    "A = np.array(([n, a, b, c],\n",
    "    [a, b, c, d],\n",
    "    [b, c, d, e],\n",
    "    [c, d, e, f]))\n",
    "A"
   ]
  },
  {
   "cell_type": "markdown",
   "metadata": {},
   "source": [
    "**Mendefinisikan elemen-elemen matriks kanan**"
   ]
  },
  {
   "cell_type": "code",
   "execution_count": 36,
   "metadata": {},
   "outputs": [
    {
     "data": {
      "text/plain": [
       "array([[4.848000e+03],\n",
       "       [1.011240e+05],\n",
       "       [2.181112e+06],\n",
       "       [4.815036e+07]])"
      ]
     },
     "execution_count": 36,
     "metadata": {},
     "output_type": "execute_result"
    }
   ],
   "source": [
    "g = y.sum()\n",
    "h = (x*y).sum()\n",
    "i = ((x**2)*y).sum()\n",
    "j = ((x**3)*y).sum()\n",
    "B = np.array(([g],\n",
    "    [h],\n",
    "    [i],\n",
    "    [j]))\n",
    "B"
   ]
  },
  {
   "cell_type": "markdown",
   "metadata": {},
   "source": [
    "**Invers matriks sisi kiri**"
   ]
  },
  {
   "cell_type": "code",
   "execution_count": 37,
   "metadata": {},
   "outputs": [
    {
     "data": {
      "text/plain": [
       "array([[ 8.77549407e-01, -2.57246377e-01,  2.01581028e-02,\n",
       "        -4.61133070e-04],\n",
       "       [-2.57246377e-01,  9.35938726e-02, -8.05152979e-03,\n",
       "         1.94062513e-04],\n",
       "       [ 2.01581028e-02, -8.05152979e-03,  7.32238776e-04,\n",
       "        -1.82989313e-05],\n",
       "       [-4.61133070e-04,  1.94062513e-04, -1.82989313e-05,\n",
       "         4.69203368e-07]])"
      ]
     },
     "execution_count": 37,
     "metadata": {},
     "output_type": "execute_result"
    }
   ],
   "source": [
    "Ainv = np.linalg.inv(A)\n",
    "Ainv"
   ]
  },
  {
   "cell_type": "markdown",
   "metadata": {},
   "source": [
    "**Mencari nilai a0, a1, a2, dst dengan a = (A^-1)B namun di sini variabel a diganti dengan Y**"
   ]
  },
  {
   "cell_type": "code",
   "execution_count": 38,
   "metadata": {},
   "outputs": [
    {
     "name": "stdout",
     "output_type": "stream",
     "text": [
      "[[ 3.93343874]\n",
      " [ 0.34794996]\n",
      " [-0.48176751]\n",
      " [ 0.06909676]]\n"
     ]
    }
   ],
   "source": [
    "Y = Ainv.dot(B)\n",
    "print(Y)"
   ]
  },
  {
   "cell_type": "code",
   "execution_count": 39,
   "metadata": {},
   "outputs": [],
   "source": [
    "a0 = Y[0,0]\n",
    "a1 = Y[1,0]\n",
    "a2 = Y[2,0]\n",
    "a3 = Y[3,0]"
   ]
  },
  {
   "cell_type": "markdown",
   "metadata": {},
   "source": [
    "**Hasil persamaan regresi polinomial**"
   ]
  },
  {
   "cell_type": "code",
   "execution_count": 40,
   "metadata": {},
   "outputs": [
    {
     "name": "stdout",
     "output_type": "stream",
     "text": [
      "y = 0.0691x^3 + -0.4818X^2 + 0.3479x + 3.9334\n"
     ]
    }
   ],
   "source": [
    "print('y = {:.4f}x^3 + {:.4f}X^2 + {:.4f}x + {:.4f}'.format(a3, a2, a1, a0))"
   ]
  },
  {
   "cell_type": "code",
   "execution_count": 41,
   "metadata": {},
   "outputs": [
    {
     "data": {
      "text/plain": [
       "array([  2.,   2.,   2.,   2.,   4.,   4.,   6.,  19.,  25.,  31.,  30.,\n",
       "        60.,  83., 104., 121., 156., 197., 269., 320., 392., 437., 500.,\n",
       "       601., 701., 780.])"
      ]
     },
     "execution_count": 41,
     "metadata": {},
     "output_type": "execute_result"
    }
   ],
   "source": [
    "y"
   ]
  },
  {
   "cell_type": "markdown",
   "metadata": {},
   "source": [
    "**Koefisien Korelasi ( r ) dan Derajat Kesesuaian ( R ) r-square**"
   ]
  },
  {
   "cell_type": "code",
   "execution_count": 42,
   "metadata": {},
   "outputs": [
    {
     "name": "stdout",
     "output_type": "stream",
     "text": [
      "r = 0.9993 dan r^2 = 0.9665\n"
     ]
    }
   ],
   "source": [
    "yDt = (y-y.mean())**2\n",
    "yD = (y-a0-a1*x-a2*(x**2)-a3*(x**3))**2\n",
    "r = np.sqrt((yDt.sum()-yD.sum())/yDt.sum())\n",
    "R2 = r**2\n",
    "print('r = {:.4f} dan r^2 = {:.4f}'.format(r,r2))"
   ]
  },
  {
   "cell_type": "markdown",
   "metadata": {},
   "source": [
    "**Plot**"
   ]
  },
  {
   "cell_type": "code",
   "execution_count": 43,
   "metadata": {},
   "outputs": [
    {
     "data": {
      "text/plain": [
       "Text(0, 0.5, 'y')"
      ]
     },
     "execution_count": 43,
     "metadata": {},
     "output_type": "execute_result"
    },
    {
     "data": {
      "image/png": "[encoded data removed]",
      "text/plain": [
       "<Figure size 432x288 with 1 Axes>"
      ]
     },
     "metadata": {
      "needs_background": "light"
     },
     "output_type": "display_data"
    }
   ],
   "source": [
    "xreg = np.array(range(0,int((x[-1]+0.5)*10)))\n",
    "xreg = xreg/10\n",
    "yreg = a0 + a1*xreg + a2*(xreg**2) + a3*(xreg**3)\n",
    "ax = plt.plot(x,y,'ro')\n",
    "plt.plot(xreg,yreg,'b')\n",
    "plt.grid()\n",
    "plt.xlabel('x')\n",
    "plt.ylabel('y')"
   ]
  },
  {
   "cell_type": "markdown",
   "metadata": {},
   "source": [
    "**Perbandingan jika memakai polyfit dengan derajat dinaikkan**"
   ]
  },
  {
   "cell_type": "code",
   "execution_count": 44,
   "metadata": {},
   "outputs": [
    {
     "data": {
      "image/png": "[encoded data removed]",
      "text/plain": [
       "<Figure size 432x288 with 1 Axes>"
      ]
     },
     "metadata": {
      "needs_background": "light"
     },
     "output_type": "display_data"
    }
   ],
   "source": [
    "regpoly = np.poly1d(np.polyfit(x, y, 5))\n",
    "\n",
    "myline = np.linspace(1, len(y), 100)\n",
    "\n",
    "plt.scatter(x, y)\n",
    "plt.plot(myline, regpoly(myline), linewidth=3, color='r')\n",
    "plt.show()"
   ]
  },
  {
   "cell_type": "code",
   "execution_count": 45,
   "metadata": {},
   "outputs": [
    {
     "name": "stdout",
     "output_type": "stream",
     "text": [
      "           5           4           3          2\n",
      "-0.000159 x + 0.00887 x - 0.09617 x + 0.6571 x - 1.618 x + 2.803\n"
     ]
    }
   ],
   "source": [
    "print (regpoly)"
   ]
  },
  {
   "cell_type": "code",
   "execution_count": 46,
   "metadata": {},
   "outputs": [
    {
     "name": "stdout",
     "output_type": "stream",
     "text": [
      "0.9988063059842578\n"
     ]
    }
   ],
   "source": [
    "print(r2_score(y, regpoly(x)))"
   ]
  },
  {
   "cell_type": "markdown",
   "metadata": {},
   "source": [
    "**Selesai**"
   ]
  },
  {
   "cell_type": "markdown",
   "metadata": {},
   "source": [
    "### Total Death"
   ]
  },
  {
   "cell_type": "markdown",
   "metadata": {},
   "source": [
    "- Start: 11-Mar-2020\n",
    "- End: 26-Mar-2020\n",
    "- Range: 16 Days"
   ]
  },
  {
   "cell_type": "markdown",
   "metadata": {},
   "source": [
    "**Data**"
   ]
  },
  {
   "cell_type": "code",
   "execution_count": 47,
   "metadata": {},
   "outputs": [
    {
     "data": {
      "text/plain": [
       "array([ 1.,  1.,  4.,  5.,  5.,  5.,  7., 19., 25., 32., 38., 48., 49.,\n",
       "       55., 58., 78.])"
      ]
     },
     "execution_count": 47,
     "metadata": {},
     "output_type": "execute_result"
    }
   ],
   "source": [
    "y = np.array ((1, 1, 4, 5, 5, 5, 7, 19, 25, 32, 38, 48, 49, 55, 58, 78))\n",
    "y = y.astype('float64')\n",
    "y"
   ]
  },
  {
   "cell_type": "code",
   "execution_count": 48,
   "metadata": {},
   "outputs": [
    {
     "data": {
      "text/plain": [
       "array([ 1.,  2.,  3.,  4.,  5.,  6.,  7.,  8.,  9., 10., 11., 12., 13.,\n",
       "       14., 15., 16.])"
      ]
     },
     "execution_count": 48,
     "metadata": {},
     "output_type": "execute_result"
    }
   ],
   "source": [
    "x = np.array((range(1,1+len(y))))\n",
    "x = x.astype('float64')\n",
    "x"
   ]
  },
  {
   "cell_type": "markdown",
   "metadata": {},
   "source": [
    "**Plot**"
   ]
  },
  {
   "cell_type": "code",
   "execution_count": 49,
   "metadata": {},
   "outputs": [
    {
     "data": {
      "text/plain": [
       "Text(0, 0.5, 'y-jumlah orang')"
      ]
     },
     "execution_count": 49,
     "metadata": {},
     "output_type": "execute_result"
    },
    {
     "data": {
      "image/png": "[encoded data removed]",
      "text/plain": [
       "<Figure size 432x288 with 1 Axes>"
      ]
     },
     "metadata": {
      "needs_background": "light"
     },
     "output_type": "display_data"
    }
   ],
   "source": [
    "ax = plt.plot(x,y,'ro')\n",
    "plt.grid()\n",
    "plt.xlabel('x-hari')\n",
    "plt.ylabel('y-jumlah orang')"
   ]
  },
  {
   "cell_type": "markdown",
   "metadata": {},
   "source": [
    "#### Regresi Berpangkat"
   ]
  },
  {
   "cell_type": "markdown",
   "metadata": {},
   "source": [
    "**Data**"
   ]
  },
  {
   "cell_type": "code",
   "execution_count": 50,
   "metadata": {},
   "outputs": [
    {
     "data": {
      "text/plain": [
       "array([ 1.,  1.,  4.,  5.,  5.,  5.,  7., 19., 25., 32., 38., 48., 49.,\n",
       "       55., 58., 78.])"
      ]
     },
     "execution_count": 50,
     "metadata": {},
     "output_type": "execute_result"
    }
   ],
   "source": [
    "y = np.array ((1, 1, 4, 5, 5, 5, 7, 19, 25, 32, 38, 48, 49, 55, 58, 78))\n",
    "y = y.astype('float64')\n",
    "y"
   ]
  },
  {
   "cell_type": "code",
   "execution_count": 51,
   "metadata": {},
   "outputs": [
    {
     "data": {
      "text/plain": [
       "array([ 1.,  2.,  3.,  4.,  5.,  6.,  7.,  8.,  9., 10., 11., 12., 13.,\n",
       "       14., 15., 16.])"
      ]
     },
     "execution_count": 51,
     "metadata": {},
     "output_type": "execute_result"
    }
   ],
   "source": [
    "x = np.array((range(1,1+len(y))))\n",
    "x = x.astype('float64')\n",
    "x"
   ]
  },
  {
   "attachments": {
    "image.png": {
     "image/png": "[encoded data removed]"
    }
   },
   "cell_type": "markdown",
   "metadata": {},
   "source": [
    "![image.png](attachment:image.png)"
   ]
  },
  {
   "cell_type": "markdown",
   "metadata": {},
   "source": [
    "**Membuat xreg untuk plotting selanjutnya**"
   ]
  },
  {
   "cell_type": "code",
   "execution_count": 52,
   "metadata": {},
   "outputs": [
    {
     "data": {
      "text/plain": [
       "array([ 1. ,  1.1,  1.2,  1.3,  1.4,  1.5,  1.6,  1.7,  1.8,  1.9,  2. ,\n",
       "        2.1,  2.2,  2.3,  2.4,  2.5,  2.6,  2.7,  2.8,  2.9,  3. ,  3.1,\n",
       "        3.2,  3.3,  3.4,  3.5,  3.6,  3.7,  3.8,  3.9,  4. ,  4.1,  4.2,\n",
       "        4.3,  4.4,  4.5,  4.6,  4.7,  4.8,  4.9,  5. ,  5.1,  5.2,  5.3,\n",
       "        5.4,  5.5,  5.6,  5.7,  5.8,  5.9,  6. ,  6.1,  6.2,  6.3,  6.4,\n",
       "        6.5,  6.6,  6.7,  6.8,  6.9,  7. ,  7.1,  7.2,  7.3,  7.4,  7.5,\n",
       "        7.6,  7.7,  7.8,  7.9,  8. ,  8.1,  8.2,  8.3,  8.4,  8.5,  8.6,\n",
       "        8.7,  8.8,  8.9,  9. ,  9.1,  9.2,  9.3,  9.4,  9.5,  9.6,  9.7,\n",
       "        9.8,  9.9, 10. , 10.1, 10.2, 10.3, 10.4, 10.5, 10.6, 10.7, 10.8,\n",
       "       10.9, 11. , 11.1, 11.2, 11.3, 11.4, 11.5, 11.6, 11.7, 11.8, 11.9,\n",
       "       12. , 12.1, 12.2, 12.3, 12.4, 12.5, 12.6, 12.7, 12.8, 12.9, 13. ,\n",
       "       13.1, 13.2, 13.3, 13.4, 13.5, 13.6, 13.7, 13.8, 13.9, 14. , 14.1,\n",
       "       14.2, 14.3, 14.4, 14.5, 14.6, 14.7, 14.8, 14.9, 15. , 15.1, 15.2,\n",
       "       15.3, 15.4, 15.5, 15.6, 15.7, 15.8, 15.9, 16. , 16.1, 16.2, 16.3,\n",
       "       16.4, 16.5, 16.6, 16.7, 16.8, 16.9])"
      ]
     },
     "execution_count": 52,
     "metadata": {},
     "output_type": "execute_result"
    }
   ],
   "source": [
    "#membuat xreg\n",
    "xreg = np.array(range(10,int((x[-1]+1)*10)))\n",
    "xreg = xreg/10 #memperhalus bentuk garis\n",
    "xreg = xreg.astype('float64')\n",
    "xreg"
   ]
  },
  {
   "cell_type": "markdown",
   "metadata": {},
   "source": [
    "**Regresi berpangkat**"
   ]
  },
  {
   "attachments": {
    "image.png": {
     "image/png": "[encoded data removed]"
    }
   },
   "cell_type": "markdown",
   "metadata": {},
   "source": [
    "![image.png](attachment:image.png)"
   ]
  },
  {
   "attachments": {
    "image.png": {
     "image/png": "[encoded data removed]"
    }
   },
   "cell_type": "markdown",
   "metadata": {},
   "source": [
    "![image.png](attachment:image.png)"
   ]
  },
  {
   "attachments": {
    "image.png": {
     "image/png": "[encoded data removed]"
    }
   },
   "cell_type": "markdown",
   "metadata": {},
   "source": [
    "![image.png](attachment:image.png)"
   ]
  },
  {
   "cell_type": "code",
   "execution_count": 53,
   "metadata": {},
   "outputs": [],
   "source": [
    "p = np.log10(y)\n",
    "q = np.log10(x)"
   ]
  },
  {
   "cell_type": "markdown",
   "metadata": {},
   "source": [
    "**Hitung regresi linear**"
   ]
  },
  {
   "cell_type": "code",
   "execution_count": 54,
   "metadata": {},
   "outputs": [],
   "source": [
    "n = len(y)\n",
    "pq = p*q\n",
    "qq = q**2\n",
    "B = (n*pq.sum() - q.sum()*p.sum())/(n*qq.sum() - (q.sum())**2)\n",
    "A = p.mean()-B*q.mean()"
   ]
  },
  {
   "cell_type": "markdown",
   "metadata": {},
   "source": [
    "**Hasil regresi linear**"
   ]
  },
  {
   "cell_type": "code",
   "execution_count": 55,
   "metadata": {},
   "outputs": [
    {
     "name": "stdout",
     "output_type": "stream",
     "text": [
      "p = 1.7546q -0.3312\n"
     ]
    }
   ],
   "source": [
    "if A>0 :\n",
    "    print (\"p = {:.4f}q + {:.4f}\". format(B,A))\n",
    "else :\n",
    "    print (\"p = {:.4f}q {:.4f}\". format(B,A))"
   ]
  },
  {
   "cell_type": "markdown",
   "metadata": {},
   "source": [
    "**Kembalikan ke bentuk pangkat**"
   ]
  },
  {
   "cell_type": "code",
   "execution_count": 56,
   "metadata": {},
   "outputs": [
    {
     "name": "stdout",
     "output_type": "stream",
     "text": [
      "y = 0.4664x^(1.7546)\n"
     ]
    }
   ],
   "source": [
    "a = 10**A #A=log(a)\n",
    "b = B\n",
    "print (\"y = {:.4f}x^({:.4f})\".format(a,b))"
   ]
  },
  {
   "cell_type": "markdown",
   "metadata": {},
   "source": [
    "**Koefisien Korelasi ( r ) dan Derajat Kesesuaian ( R ) r-square**"
   ]
  },
  {
   "cell_type": "code",
   "execution_count": 57,
   "metadata": {},
   "outputs": [
    {
     "name": "stdout",
     "output_type": "stream",
     "text": [
      "r = 0.9604 dan r^2 = 0.9224\n"
     ]
    }
   ],
   "source": [
    "yDt = ((p - p.mean())**2).sum()\n",
    "yD = ((p - (q*B) - A)**2).sum()\n",
    "r = np.sqrt((yDt-yD)/yDt)\n",
    "r2 = r**2\n",
    "print('r = {:.4f} dan r^2 = {:.4f}'.format(r,r2))"
   ]
  },
  {
   "cell_type": "markdown",
   "metadata": {},
   "source": [
    "**Plot**"
   ]
  },
  {
   "cell_type": "code",
   "execution_count": 58,
   "metadata": {},
   "outputs": [
    {
     "data": {
      "text/plain": [
       "array([ 0.46644992,  0.55135579,  0.64229586,  0.73914243,  0.84178047,\n",
       "        0.95010547,  1.06402186,  1.1834417 ,  1.30828365,  1.43847214,\n",
       "        1.57393664,  1.71461113,  1.86043355,  2.01134545,  2.16729157,\n",
       "        2.32821961,  2.49407986,  2.66482508,  2.84041021,  3.02079224,\n",
       "        3.20593002,  3.39578414,  3.59031679,  3.78949165,  3.99327379,\n",
       "        4.20162957,  4.41452656,  4.63193348,  4.85382008,  5.08015716,\n",
       "        5.31091641,  5.54607044,  5.78559271,  6.02945744,  6.27763964,\n",
       "        6.53011501,  6.78685993,  7.04785143,  7.31306716,  7.58248535,\n",
       "        7.85608478,  8.13384476,  8.41574514,  8.70176622,  8.99188878,\n",
       "        9.28609405,  9.58436368,  9.88667974, 10.19302469, 10.50338137,\n",
       "       10.81773299, 11.13606309, 11.45835557, 11.78459465, 12.11476487,\n",
       "       12.44885105, 12.78683832, 13.1287121 , 13.47445806, 13.82406216,\n",
       "       14.17751059, 14.5347898 , 14.89588648, 15.26078754, 15.62948014,\n",
       "       16.00195163, 16.37818958, 16.75818176, 17.14191617, 17.52938095,\n",
       "       17.92056447, 18.31545526, 18.71404204, 19.1163137 , 19.52225928,\n",
       "       19.93186801, 20.34512927, 20.76203258, 21.18256762, 21.60672422,\n",
       "       22.03449236, 22.46586214, 22.9008238 , 23.33936774, 23.78148445,\n",
       "       24.22716457, 24.67639885, 25.12917819, 25.58549356, 26.04533608,\n",
       "       26.50869698, 26.97556758, 27.44593933, 27.91980376, 28.39715254,\n",
       "       28.8779774 , 29.36227019, 29.85002285, 30.34122742, 30.83587603,\n",
       "       31.33396089, 31.83547432, 32.3404087 , 32.84875652, 33.36051033,\n",
       "       33.87566278, 34.3942066 , 34.91613457, 35.44143959, 35.97011461,\n",
       "       36.50215265, 37.03754681, 37.57629027, 38.11837626, 38.66379811,\n",
       "       39.21254917, 39.76462291, 40.32001282, 40.87871248, 41.44071553,\n",
       "       42.00601566, 42.57460663, 43.14648225, 43.7216364 , 44.30006302,\n",
       "       44.8817561 , 45.46670967, 46.05491785, 46.64637477, 47.24107466,\n",
       "       47.83901176, 48.44018039, 49.04457491, 49.65218973, 50.26301931,\n",
       "       50.87705815, 51.4943008 , 52.11474187, 52.73837601, 53.3651979 ,\n",
       "       53.99520229, 54.62838395, 55.2647377 , 55.90425841, 56.54694099,\n",
       "       57.19278039, 57.84177159, 58.49390963, 59.14918957, 59.80760653,\n",
       "       60.46915565, 61.13383211, 61.80163113, 62.47254798, 63.14657794,\n",
       "       63.82371636, 64.50395859, 65.18730004, 65.87373614, 66.56326235])"
      ]
     },
     "execution_count": 58,
     "metadata": {},
     "output_type": "execute_result"
    }
   ],
   "source": [
    "#membuat yreg\n",
    "yreg = a*(xreg**b)\n",
    "yreg\n",
    "    "
   ]
  },
  {
   "cell_type": "code",
   "execution_count": 59,
   "metadata": {},
   "outputs": [
    {
     "data": {
      "text/plain": [
       "Text(0, 0.5, 'y-banyak orang')"
      ]
     },
     "execution_count": 59,
     "metadata": {},
     "output_type": "execute_result"
    },
    {
     "data": {
      "image/png": "[encoded data removed]",
      "text/plain": [
       "<Figure size 432x288 with 1 Axes>"
      ]
     },
     "metadata": {
      "needs_background": "light"
     },
     "output_type": "display_data"
    }
   ],
   "source": [
    "ax = plt.plot(x,y,'ro')\n",
    "plt.plot(xreg,yreg,'g')\n",
    "plt.grid()\n",
    "plt.xlabel('x-hari ke')\n",
    "plt.ylabel('y-banyak orang')"
   ]
  },
  {
   "cell_type": "markdown",
   "metadata": {},
   "source": [
    "#### Regresi Eksponensial"
   ]
  },
  {
   "attachments": {
    "image.png": {
     "image/png": "[encoded data removed]"
    }
   },
   "cell_type": "markdown",
   "metadata": {},
   "source": [
    "![image.png](attachment:image.png)"
   ]
  },
  {
   "attachments": {
    "image.png": {
     "image/png": "[encoded data removed]"
    }
   },
   "cell_type": "markdown",
   "metadata": {},
   "source": [
    "![image.png](attachment:image.png)"
   ]
  },
  {
   "attachments": {
    "image.png": {
     "image/png": "[encoded data removed]"
    }
   },
   "cell_type": "markdown",
   "metadata": {},
   "source": [
    "![image.png](attachment:image.png)"
   ]
  },
  {
   "cell_type": "markdown",
   "metadata": {},
   "source": [
    "**Linearisasi**"
   ]
  },
  {
   "cell_type": "code",
   "execution_count": 60,
   "metadata": {},
   "outputs": [
    {
     "data": {
      "text/plain": [
       "array([ 1.,  1.,  4.,  5.,  5.,  5.,  7., 19., 25., 32., 38., 48., 49.,\n",
       "       55., 58., 78.])"
      ]
     },
     "execution_count": 60,
     "metadata": {},
     "output_type": "execute_result"
    }
   ],
   "source": [
    "y = np.array ((1, 1, 4, 5, 5, 5, 7, 19, 25, 32, 38, 48, 49, 55, 58, 78))\n",
    "y = y.astype('float64')\n",
    "y"
   ]
  },
  {
   "cell_type": "code",
   "execution_count": 61,
   "metadata": {},
   "outputs": [
    {
     "data": {
      "text/plain": [
       "array([ 1.,  2.,  3.,  4.,  5.,  6.,  7.,  8.,  9., 10., 11., 12., 13.,\n",
       "       14., 15., 16.])"
      ]
     },
     "execution_count": 61,
     "metadata": {},
     "output_type": "execute_result"
    }
   ],
   "source": [
    "x = np.array((range(1,1+len(y))))\n",
    "x = x.astype('float64')\n",
    "x"
   ]
  },
  {
   "cell_type": "code",
   "execution_count": 62,
   "metadata": {},
   "outputs": [],
   "source": [
    "p = np.log(y)\n",
    "q = x"
   ]
  },
  {
   "cell_type": "markdown",
   "metadata": {},
   "source": [
    "**Hitung regresi linear**"
   ]
  },
  {
   "attachments": {
    "image.png": {
     "image/png": "[encoded data removed]"
    }
   },
   "cell_type": "markdown",
   "metadata": {},
   "source": [
    "![image.png](attachment:image.png)"
   ]
  },
  {
   "cell_type": "code",
   "execution_count": 63,
   "metadata": {},
   "outputs": [],
   "source": [
    "n = len(y)\n",
    "pq = p*q\n",
    "qq = q**2\n",
    "B = (n*pq.sum() - q.sum()*p.sum())/(n*qq.sum() - (q.sum())**2)\n",
    "A = p.mean()-B*q.mean()"
   ]
  },
  {
   "cell_type": "markdown",
   "metadata": {},
   "source": [
    "**Hasil persamaan linear**"
   ]
  },
  {
   "cell_type": "code",
   "execution_count": 64,
   "metadata": {},
   "outputs": [
    {
     "name": "stdout",
     "output_type": "stream",
     "text": [
      "p = 0.2916q + 0.1220\n"
     ]
    }
   ],
   "source": [
    "if A>0 :\n",
    "    print (\"p = {:.4f}q + {:.4f}\". format(B,A))\n",
    "else :\n",
    "    print (\"p = {:.4f}q {:.4f}\". format(B,A))"
   ]
  },
  {
   "cell_type": "markdown",
   "metadata": {},
   "source": [
    "**Hitung kembali dalam bentuk bilangan berpangkat**"
   ]
  },
  {
   "cell_type": "code",
   "execution_count": 65,
   "metadata": {},
   "outputs": [],
   "source": [
    "a = np.e**A\n",
    "b = B"
   ]
  },
  {
   "cell_type": "code",
   "execution_count": 66,
   "metadata": {},
   "outputs": [
    {
     "name": "stdout",
     "output_type": "stream",
     "text": [
      "y = 1.1297x^(0.2916)\n"
     ]
    }
   ],
   "source": [
    "print (\"y = {:.4f}x^({:.4f})\".format(a,b))"
   ]
  },
  {
   "cell_type": "markdown",
   "metadata": {},
   "source": [
    "**Koefisien Korelasi ( r ) dan Derajat Kesesuaian ( R ) r-square**"
   ]
  },
  {
   "cell_type": "code",
   "execution_count": 67,
   "metadata": {},
   "outputs": [
    {
     "name": "stdout",
     "output_type": "stream",
     "text": [
      "r = 0.9631 dan r^2 = 0.9276\n"
     ]
    }
   ],
   "source": [
    "yDt = ((p - p.mean())**2).sum()\n",
    "yD = ((p - (q*B) - A)**2).sum()\n",
    "r = np.sqrt((yDt-yD)/yDt)\n",
    "r2 = r**2\n",
    "print('r = {:.4f} dan r^2 = {:.4f}'.format(r,r2))"
   ]
  },
  {
   "cell_type": "markdown",
   "metadata": {},
   "source": [
    "**Plot data dan regresinya**"
   ]
  },
  {
   "cell_type": "code",
   "execution_count": 68,
   "metadata": {},
   "outputs": [
    {
     "data": {
      "text/plain": [
       "array([ 0. ,  0.1,  0.2,  0.3,  0.4,  0.5,  0.6,  0.7,  0.8,  0.9,  1. ,\n",
       "        1.1,  1.2,  1.3,  1.4,  1.5,  1.6,  1.7,  1.8,  1.9,  2. ,  2.1,\n",
       "        2.2,  2.3,  2.4,  2.5,  2.6,  2.7,  2.8,  2.9,  3. ,  3.1,  3.2,\n",
       "        3.3,  3.4,  3.5,  3.6,  3.7,  3.8,  3.9,  4. ,  4.1,  4.2,  4.3,\n",
       "        4.4,  4.5,  4.6,  4.7,  4.8,  4.9,  5. ,  5.1,  5.2,  5.3,  5.4,\n",
       "        5.5,  5.6,  5.7,  5.8,  5.9,  6. ,  6.1,  6.2,  6.3,  6.4,  6.5,\n",
       "        6.6,  6.7,  6.8,  6.9,  7. ,  7.1,  7.2,  7.3,  7.4,  7.5,  7.6,\n",
       "        7.7,  7.8,  7.9,  8. ,  8.1,  8.2,  8.3,  8.4,  8.5,  8.6,  8.7,\n",
       "        8.8,  8.9,  9. ,  9.1,  9.2,  9.3,  9.4,  9.5,  9.6,  9.7,  9.8,\n",
       "        9.9, 10. , 10.1, 10.2, 10.3, 10.4, 10.5, 10.6, 10.7, 10.8, 10.9,\n",
       "       11. , 11.1, 11.2, 11.3, 11.4, 11.5, 11.6, 11.7, 11.8, 11.9, 12. ,\n",
       "       12.1, 12.2, 12.3, 12.4, 12.5, 12.6, 12.7, 12.8, 12.9, 13. , 13.1,\n",
       "       13.2, 13.3, 13.4, 13.5, 13.6, 13.7, 13.8, 13.9, 14. , 14.1, 14.2,\n",
       "       14.3, 14.4, 14.5, 14.6, 14.7, 14.8, 14.9, 15. , 15.1, 15.2, 15.3,\n",
       "       15.4, 15.5, 15.6, 15.7, 15.8, 15.9, 16. , 16.1, 16.2, 16.3, 16.4,\n",
       "       16.5, 16.6, 16.7, 16.8, 16.9])"
      ]
     },
     "execution_count": 68,
     "metadata": {},
     "output_type": "execute_result"
    }
   ],
   "source": [
    "#membuat xreg\n",
    "xreg = np.array(range(0,int((x[-1]+1)*10)))\n",
    "xreg = xreg/10 #memperhalus bentuk garis\n",
    "xreg = xreg.astype('float64')\n",
    "xreg"
   ]
  },
  {
   "cell_type": "code",
   "execution_count": 69,
   "metadata": {},
   "outputs": [
    {
     "data": {
      "text/plain": [
       "array([  1.12971244,   1.1631447 ,   1.19756633,   1.23300662,\n",
       "         1.26949572,   1.30706466,   1.3457454 ,   1.38557084,\n",
       "         1.42657486,   1.46879234,   1.51225918,   1.55701237,\n",
       "         1.60308996,   1.65053115,   1.6993763 ,   1.74966695,\n",
       "         1.80144589,   1.85475715,   1.90964608,   1.96615937,\n",
       "         2.02434509,   2.08425274,   2.14593327,   2.20943914,\n",
       "         2.27482439,   2.34214462,   2.41145709,   2.48282078,\n",
       "         2.55629637,   2.63194636,   2.70983512,   2.79002888,\n",
       "         2.87259586,   2.95760629,   3.04513249,   3.13524891,\n",
       "         3.22803219,   3.32356127,   3.42191739,   3.52318422,\n",
       "         3.62744791,   3.73479713,   3.8453232 ,   3.95912013,\n",
       "         4.07628472,   4.19691664,   4.32111849,   4.44899591,\n",
       "         4.58065769,   4.71621581,   4.85578559,   4.99948574,\n",
       "         5.14743849,   5.29976969,   5.45660893,   5.6180896 ,\n",
       "         5.78434906,   5.95552874,   6.13177424,   6.31323547,\n",
       "         6.5000668 ,   6.69242714,   6.89048011,   7.09439418,\n",
       "         7.3043428 ,   7.52050456,   7.74306332,   7.97220839,\n",
       "         8.20813469,   8.45104289,   8.70113963,   8.95863762,\n",
       "         9.2237559 ,   9.49671999,   9.77776207,  10.06712119,\n",
       "        10.36504348,  10.67178237,  10.98759877,  11.31276131,\n",
       "        11.64754657,  11.99223934,  12.3471328 ,  12.71252883,\n",
       "        13.08873825,  13.47608106,  13.87488673,  14.28549449,\n",
       "        14.70825362,  15.1435237 ,  15.59167499,  16.05308869,\n",
       "        16.52815728,  17.01728486,  17.52088748,  18.03939351,\n",
       "        18.573244  ,  19.12289304,  19.68880817,  20.27147077,\n",
       "        20.87137645,  21.48903549,  22.12497328,  22.77973075,\n",
       "        23.45386486,  24.14794901,  24.86257361,  25.59834652,\n",
       "        26.3558936 ,  27.13585921,  27.93890681,  28.76571948,\n",
       "        29.6170005 ,  30.49347399,  31.39588548,  32.32500257,\n",
       "        33.28161557,  34.26653819,  35.28060821,  36.3246882 ,\n",
       "        37.39966628,  38.50645682,  39.64600127,  40.81926893,\n",
       "        42.02725781,  43.27099541,  44.55153968,  45.86997986,\n",
       "        47.22743742,  48.62506703,  50.06405752,  51.54563292,\n",
       "        53.07105345,  54.64161666,  56.25865848,  57.92355438,\n",
       "        59.63772053,  61.40261502,  63.21973908,  65.09063837,\n",
       "        67.01690429,  69.00017535,  71.04213853,  73.14453073,\n",
       "        75.30914028,  77.5378084 ,  79.83243082,  82.19495937,\n",
       "        84.62740363,  87.13183265,  89.71037674,  92.3652292 ,\n",
       "        95.0986483 ,  97.91295909, 100.81055544, 103.79390209,\n",
       "       106.86553669, 110.028072  , 113.28419809, 116.63668466,\n",
       "       120.08838335, 123.64223021, 127.30124818, 131.06854963,\n",
       "       134.94733908, 138.94091584, 143.0526769 , 147.28611974,\n",
       "       151.64484537, 156.13256136])"
      ]
     },
     "execution_count": 69,
     "metadata": {},
     "output_type": "execute_result"
    }
   ],
   "source": [
    "#membuat yreg\n",
    "yreg = a*np.e**(b*xreg)\n",
    "yreg"
   ]
  },
  {
   "cell_type": "code",
   "execution_count": 70,
   "metadata": {},
   "outputs": [
    {
     "data": {
      "text/plain": [
       "Text(0, 0.5, 'y-banyak orang')"
      ]
     },
     "execution_count": 70,
     "metadata": {},
     "output_type": "execute_result"
    },
    {
     "data": {
      "image/png": "[encoded data removed]",
      "text/plain": [
       "<Figure size 432x288 with 1 Axes>"
      ]
     },
     "metadata": {
      "needs_background": "light"
     },
     "output_type": "display_data"
    }
   ],
   "source": [
    "ax = plt.plot(x,y,'ro')\n",
    "plt.plot(xreg,yreg,'b')\n",
    "plt.grid()\n",
    "plt.xlabel('x-hari ke')\n",
    "plt.ylabel('y-banyak orang')"
   ]
  },
  {
   "cell_type": "markdown",
   "metadata": {},
   "source": [
    "**Selesai**"
   ]
  },
  {
   "cell_type": "markdown",
   "metadata": {},
   "source": [
    "#### Regresi Polinomial"
   ]
  },
  {
   "cell_type": "code",
   "execution_count": 71,
   "metadata": {},
   "outputs": [
    {
     "data": {
      "text/plain": [
       "array([ 1.,  1.,  4.,  5.,  5.,  5.,  7., 19., 25., 32., 38., 48., 49.,\n",
       "       55., 58., 78.])"
      ]
     },
     "execution_count": 71,
     "metadata": {},
     "output_type": "execute_result"
    }
   ],
   "source": [
    "y = np.array ((1, 1, 4, 5, 5, 5, 7, 19, 25, 32, 38, 48, 49, 55, 58, 78))\n",
    "y = y.astype('float64')\n",
    "y"
   ]
  },
  {
   "cell_type": "code",
   "execution_count": 72,
   "metadata": {},
   "outputs": [
    {
     "data": {
      "text/plain": [
       "array([ 1.,  2.,  3.,  4.,  5.,  6.,  7.,  8.,  9., 10., 11., 12., 13.,\n",
       "       14., 15., 16.])"
      ]
     },
     "execution_count": 72,
     "metadata": {},
     "output_type": "execute_result"
    }
   ],
   "source": [
    "x = np.array((range(1,1+len(y))))\n",
    "x = x.astype('float64')\n",
    "x"
   ]
  },
  {
   "cell_type": "markdown",
   "metadata": {},
   "source": [
    "**Membentuk regresi polinomial dari matriks**"
   ]
  },
  {
   "attachments": {
    "image.png": {
     "image/png": "[encoded data removed]"
    }
   },
   "cell_type": "markdown",
   "metadata": {},
   "source": [
    "![image.png](attachment:image.png)"
   ]
  },
  {
   "cell_type": "markdown",
   "metadata": {},
   "source": [
    "**Mendefinisikan elemen-elemen matriks kiri**"
   ]
  },
  {
   "cell_type": "code",
   "execution_count": 73,
   "metadata": {},
   "outputs": [
    {
     "data": {
      "text/plain": [
       "array([[1.6000000e+01, 1.3600000e+02, 1.4960000e+03, 1.8496000e+04],\n",
       "       [1.3600000e+02, 1.4960000e+03, 1.8496000e+04, 2.4384800e+05],\n",
       "       [1.4960000e+03, 1.8496000e+04, 2.4384800e+05, 3.3477760e+06],\n",
       "       [1.8496000e+04, 2.4384800e+05, 3.3477760e+06, 4.7260136e+07]])"
      ]
     },
     "execution_count": 73,
     "metadata": {},
     "output_type": "execute_result"
    }
   ],
   "source": [
    "n = len(y)\n",
    "a = x.sum()\n",
    "b = (x**2).sum()\n",
    "c = (x**3).sum()\n",
    "d = (x**4).sum()\n",
    "e = (x**5).sum()\n",
    "f = (x**6).sum()\n",
    "A = np.array(([n, a, b, c],\n",
    "    [a, b, c, d],\n",
    "    [b, c, d, e],\n",
    "    [c, d, e, f]))\n",
    "A"
   ]
  },
  {
   "cell_type": "markdown",
   "metadata": {},
   "source": [
    "**Mendefinisikan elemen-elemen matriks kanan**"
   ]
  },
  {
   "cell_type": "code",
   "execution_count": 74,
   "metadata": {},
   "outputs": [
    {
     "data": {
      "text/plain": [
       "array([[4.30000e+02],\n",
       "       [5.35500e+03],\n",
       "       [7.07990e+04],\n",
       "       [9.71829e+05]])"
      ]
     },
     "execution_count": 74,
     "metadata": {},
     "output_type": "execute_result"
    }
   ],
   "source": [
    "g = y.sum()\n",
    "h = (x*y).sum()\n",
    "i = ((x**2)*y).sum()\n",
    "j = ((x**3)*y).sum()\n",
    "B = np.array(([g],\n",
    "    [h],\n",
    "    [i],\n",
    "    [j]))\n",
    "B"
   ]
  },
  {
   "cell_type": "markdown",
   "metadata": {},
   "source": [
    "**Invers matriks sisi kiri**"
   ]
  },
  {
   "cell_type": "code",
   "execution_count": 75,
   "metadata": {},
   "outputs": [
    {
     "data": {
      "text/plain": [
       "array([[ 1.66208791e+00, -7.49542125e-01,  9.06593407e-02,\n",
       "        -3.20512821e-03],\n",
       "       [-7.49542125e-01,  4.05623000e-01, -5.32179808e-02,\n",
       "         1.97026629e-03],\n",
       "       [ 9.06593407e-02, -5.32179808e-02,  7.34443575e-03,\n",
       "        -2.81151597e-04],\n",
       "       [-3.20512821e-03,  1.97026629e-03, -2.81151597e-04,\n",
       "         1.10255528e-05]])"
      ]
     },
     "execution_count": 75,
     "metadata": {},
     "output_type": "execute_result"
    }
   ],
   "source": [
    "Ainv = np.linalg.inv(A)\n",
    "Ainv"
   ]
  },
  {
   "cell_type": "markdown",
   "metadata": {},
   "source": [
    "**Mencari nilai a0, a1, a2, dst dengan a = (A^-1)B namun di sini variabel a diganti dengan Y**"
   ]
  },
  {
   "cell_type": "code",
   "execution_count": 76,
   "metadata": {},
   "outputs": [
    {
     "name": "stdout",
     "output_type": "stream",
     "text": [
      "[[ 4.65384615]\n",
      " [-3.20985486]\n",
      " [ 0.7486604 ]\n",
      " [-0.01772909]]\n"
     ]
    }
   ],
   "source": [
    "Y = Ainv.dot(B)\n",
    "print(Y)"
   ]
  },
  {
   "cell_type": "code",
   "execution_count": 77,
   "metadata": {},
   "outputs": [],
   "source": [
    "a0 = Y[0,0]\n",
    "a1 = Y[1,0]\n",
    "a2 = Y[2,0]\n",
    "a3 = Y[3,0]"
   ]
  },
  {
   "cell_type": "markdown",
   "metadata": {},
   "source": [
    "**Hasil persamaan regresi polinomial**"
   ]
  },
  {
   "cell_type": "code",
   "execution_count": 78,
   "metadata": {},
   "outputs": [
    {
     "name": "stdout",
     "output_type": "stream",
     "text": [
      "y = -0.0177x^3 + 0.7487X^2 + -3.2099x + 4.6538\n"
     ]
    }
   ],
   "source": [
    "print('y = {:.4f}x^3 + {:.4f}X^2 + {:.4f}x + {:.4f}'.format(a3, a2, a1, a0))"
   ]
  },
  {
   "cell_type": "code",
   "execution_count": 79,
   "metadata": {},
   "outputs": [
    {
     "data": {
      "text/plain": [
       "array([ 1.,  1.,  4.,  5.,  5.,  5.,  7., 19., 25., 32., 38., 48., 49.,\n",
       "       55., 58., 78.])"
      ]
     },
     "execution_count": 79,
     "metadata": {},
     "output_type": "execute_result"
    }
   ],
   "source": [
    "y"
   ]
  },
  {
   "cell_type": "markdown",
   "metadata": {},
   "source": [
    "**Koefisien Korelasi ( r ) dan Derajat Kesesuaian ( R ) r-square**"
   ]
  },
  {
   "cell_type": "code",
   "execution_count": 80,
   "metadata": {},
   "outputs": [
    {
     "name": "stdout",
     "output_type": "stream",
     "text": [
      "r = 0.9898 dan r^2 = 0.9276\n"
     ]
    }
   ],
   "source": [
    "yDt = (y-y.mean())**2\n",
    "yD = (y-a0-a1*x-a2*(x**2)-a3*(x**3))**2\n",
    "r = np.sqrt((yDt.sum()-yD.sum())/yDt.sum())\n",
    "R2 = r**2\n",
    "print('r = {:.4f} dan r^2 = {:.4f}'.format(r,r2))"
   ]
  },
  {
   "cell_type": "markdown",
   "metadata": {},
   "source": [
    "**Plot**"
   ]
  },
  {
   "cell_type": "code",
   "execution_count": 81,
   "metadata": {},
   "outputs": [
    {
     "data": {
      "text/plain": [
       "Text(0, 0.5, 'y')"
      ]
     },
     "execution_count": 81,
     "metadata": {},
     "output_type": "execute_result"
    },
    {
     "data": {
      "image/png": "[encoded data removed]",
      "text/plain": [
       "<Figure size 432x288 with 1 Axes>"
      ]
     },
     "metadata": {
      "needs_background": "light"
     },
     "output_type": "display_data"
    }
   ],
   "source": [
    "xreg = np.array(range(0,int((x[-1]+0.5)*10)))\n",
    "xreg = xreg/10\n",
    "yreg = a0 + a1*xreg + a2*(xreg**2) + a3*(xreg**3)\n",
    "ax = plt.plot(x,y,'ro')\n",
    "plt.plot(xreg,yreg,'b')\n",
    "plt.grid()\n",
    "plt.xlabel('x')\n",
    "plt.ylabel('y')"
   ]
  },
  {
   "cell_type": "markdown",
   "metadata": {},
   "source": [
    "**Perbandingan jika memakai polyfit dengan derajat dinaikkan**"
   ]
  },
  {
   "cell_type": "code",
   "execution_count": 85,
   "metadata": {},
   "outputs": [
    {
     "data": {
      "image/png": "[encoded data removed]",
      "text/plain": [
       "<Figure size 432x288 with 1 Axes>"
      ]
     },
     "metadata": {
      "needs_background": "light"
     },
     "output_type": "display_data"
    }
   ],
   "source": [
    "regpoly = np.poly1d(np.polyfit(x, y, 4))\n",
    "\n",
    "myline = np.linspace(1, len(y), 100)\n",
    "\n",
    "plt.scatter(x, y)\n",
    "plt.plot(myline, regpoly(myline), linewidth=3, color='r')\n",
    "plt.show()"
   ]
  },
  {
   "cell_type": "code",
   "execution_count": 83,
   "metadata": {},
   "outputs": [
    {
     "name": "stdout",
     "output_type": "stream",
     "text": [
      "          5          4         3         2\n",
      "0.002428 x - 0.1016 x + 1.514 x - 9.274 x + 23.53 x - 16.22\n"
     ]
    }
   ],
   "source": [
    "print (regpoly)"
   ]
  },
  {
   "cell_type": "code",
   "execution_count": 84,
   "metadata": {},
   "outputs": [
    {
     "name": "stdout",
     "output_type": "stream",
     "text": [
      "0.9930034080338722\n"
     ]
    }
   ],
   "source": [
    "print(r2_score(y, regpoly(x)))"
   ]
  },
  {
   "cell_type": "markdown",
   "metadata": {},
   "source": [
    "**Selesai**"
   ]
  },
  {
   "cell_type": "code",
   "execution_count": null,
   "metadata": {},
   "outputs": [],
   "source": []
  }
 ],
 "metadata": {
  "kernelspec": {
   "display_name": "Python 3",
   "language": "python",
   "name": "python3"
  },
  "language_info": {
   "codemirror_mode": {
    "name": "ipython",
    "version": 3
   },
   "file_extension": ".py",
   "mimetype": "text/x-python",
   "name": "python",
   "nbconvert_exporter": "python",
   "pygments_lexer": "ipython3",
   "version": "3.7.6"
  },
  "toc": {
   "base_numbering": 1,
   "nav_menu": {},
   "number_sections": true,
   "sideBar": true,
   "skip_h1_title": false,
   "title_cell": "Table of Contents",
   "title_sidebar": "Contents",
   "toc_cell": false,
   "toc_position": {
    "height": "calc(100% - 180px)",
    "left": "10px",
    "top": "150px",
    "width": "286.957px"
   },
   "toc_section_display": true,
   "toc_window_display": true
  }
 },
 "nbformat": 4,
 "nbformat_minor": 4
}
