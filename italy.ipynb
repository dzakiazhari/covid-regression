{
 "cells": [
  {
   "cell_type": "markdown",
   "metadata": {},
   "source": [
    "# Italy"
   ]
  },
  {
   "cell_type": "markdown",
   "metadata": {},
   "source": [
    "## Basic Data (Import and Visualization)"
   ]
  },
  {
   "cell_type": "markdown",
   "metadata": {},
   "source": [
    "### Start (Importing Libraries)"
   ]
  },
  {
   "cell_type": "code",
   "execution_count": 10,
   "metadata": {},
   "outputs": [],
   "source": [
    "import matplotlib.pyplot as plt\n",
    "import numpy as np\n",
    "import pandas as pd\n",
    "import seaborn as sns\n",
    "from sklearn.metrics import r2_score\n",
    "%matplotlib inline"
   ]
  },
  {
   "cell_type": "markdown",
   "metadata": {},
   "source": [
    "### Read data and Plotting"
   ]
  },
  {
   "cell_type": "code",
   "execution_count": 11,
   "metadata": {},
   "outputs": [
    {
     "data": {
      "text/plain": [
       "pandas.core.frame.DataFrame"
      ]
     },
     "execution_count": 11,
     "metadata": {},
     "output_type": "execute_result"
    }
   ],
   "source": [
    "df = pd.read_csv('/Users/abdul/Documents/Academics/Metnum/UTS/dataset/csv/italy.csv')\n",
    "type(df)"
   ]
  },
  {
   "cell_type": "code",
   "execution_count": 12,
   "metadata": {},
   "outputs": [
    {
     "data": {
      "text/plain": [
       "(41, 5)"
      ]
     },
     "execution_count": 12,
     "metadata": {},
     "output_type": "execute_result"
    }
   ],
   "source": [
    "df.shape"
   ]
  },
  {
   "cell_type": "code",
   "execution_count": 13,
   "metadata": {},
   "outputs": [],
   "source": [
    "df.columns\n",
    "df['Date'] = pd.to_datetime(df['Date'])\n",
    "df.set_index('Date', inplace=True)"
   ]
  },
  {
   "cell_type": "code",
   "execution_count": 14,
   "metadata": {},
   "outputs": [
    {
     "data": {
      "text/html": [
       "<div>\n",
       "<style scoped>\n",
       "    .dataframe tbody tr th:only-of-type {\n",
       "        vertical-align: middle;\n",
       "    }\n",
       "\n",
       "    .dataframe tbody tr th {\n",
       "        vertical-align: top;\n",
       "    }\n",
       "\n",
       "    .dataframe thead th {\n",
       "        text-align: right;\n",
       "    }\n",
       "</style>\n",
       "<table border=\"1\" class=\"dataframe\">\n",
       "  <thead>\n",
       "    <tr style=\"text-align: right;\">\n",
       "      <th></th>\n",
       "      <th>Confirmed</th>\n",
       "      <th>New</th>\n",
       "      <th>Deaths</th>\n",
       "      <th>Active</th>\n",
       "    </tr>\n",
       "    <tr>\n",
       "      <th>Date</th>\n",
       "      <th></th>\n",
       "      <th></th>\n",
       "      <th></th>\n",
       "      <th></th>\n",
       "    </tr>\n",
       "  </thead>\n",
       "  <tbody>\n",
       "    <tr>\n",
       "      <th>2020-02-15</th>\n",
       "      <td>3</td>\n",
       "      <td>0</td>\n",
       "      <td>0</td>\n",
       "      <td>3</td>\n",
       "    </tr>\n",
       "    <tr>\n",
       "      <th>2020-02-16</th>\n",
       "      <td>3</td>\n",
       "      <td>0</td>\n",
       "      <td>0</td>\n",
       "      <td>3</td>\n",
       "    </tr>\n",
       "    <tr>\n",
       "      <th>2020-02-17</th>\n",
       "      <td>3</td>\n",
       "      <td>0</td>\n",
       "      <td>0</td>\n",
       "      <td>3</td>\n",
       "    </tr>\n",
       "    <tr>\n",
       "      <th>2020-02-18</th>\n",
       "      <td>3</td>\n",
       "      <td>0</td>\n",
       "      <td>0</td>\n",
       "      <td>3</td>\n",
       "    </tr>\n",
       "    <tr>\n",
       "      <th>2020-02-19</th>\n",
       "      <td>3</td>\n",
       "      <td>0</td>\n",
       "      <td>0</td>\n",
       "      <td>3</td>\n",
       "    </tr>\n",
       "    <tr>\n",
       "      <th>2020-02-20</th>\n",
       "      <td>4</td>\n",
       "      <td>1</td>\n",
       "      <td>0</td>\n",
       "      <td>4</td>\n",
       "    </tr>\n",
       "    <tr>\n",
       "      <th>2020-02-21</th>\n",
       "      <td>21</td>\n",
       "      <td>17</td>\n",
       "      <td>1</td>\n",
       "      <td>19</td>\n",
       "    </tr>\n",
       "    <tr>\n",
       "      <th>2020-02-22</th>\n",
       "      <td>79</td>\n",
       "      <td>58</td>\n",
       "      <td>2</td>\n",
       "      <td>75</td>\n",
       "    </tr>\n",
       "    <tr>\n",
       "      <th>2020-02-23</th>\n",
       "      <td>157</td>\n",
       "      <td>78</td>\n",
       "      <td>3</td>\n",
       "      <td>152</td>\n",
       "    </tr>\n",
       "    <tr>\n",
       "      <th>2020-02-24</th>\n",
       "      <td>229</td>\n",
       "      <td>72</td>\n",
       "      <td>7</td>\n",
       "      <td>221</td>\n",
       "    </tr>\n",
       "    <tr>\n",
       "      <th>2020-02-25</th>\n",
       "      <td>323</td>\n",
       "      <td>94</td>\n",
       "      <td>11</td>\n",
       "      <td>310</td>\n",
       "    </tr>\n",
       "    <tr>\n",
       "      <th>2020-02-26</th>\n",
       "      <td>470</td>\n",
       "      <td>147</td>\n",
       "      <td>12</td>\n",
       "      <td>455</td>\n",
       "    </tr>\n",
       "    <tr>\n",
       "      <th>2020-02-27</th>\n",
       "      <td>655</td>\n",
       "      <td>185</td>\n",
       "      <td>17</td>\n",
       "      <td>593</td>\n",
       "    </tr>\n",
       "    <tr>\n",
       "      <th>2020-02-28</th>\n",
       "      <td>889</td>\n",
       "      <td>234</td>\n",
       "      <td>21</td>\n",
       "      <td>822</td>\n",
       "    </tr>\n",
       "    <tr>\n",
       "      <th>2020-02-29</th>\n",
       "      <td>1128</td>\n",
       "      <td>239</td>\n",
       "      <td>29</td>\n",
       "      <td>1049</td>\n",
       "    </tr>\n",
       "    <tr>\n",
       "      <th>2020-03-01</th>\n",
       "      <td>1701</td>\n",
       "      <td>573</td>\n",
       "      <td>41</td>\n",
       "      <td>1577</td>\n",
       "    </tr>\n",
       "    <tr>\n",
       "      <th>2020-03-02</th>\n",
       "      <td>2036</td>\n",
       "      <td>335</td>\n",
       "      <td>52</td>\n",
       "      <td>1835</td>\n",
       "    </tr>\n",
       "    <tr>\n",
       "      <th>2020-03-03</th>\n",
       "      <td>2502</td>\n",
       "      <td>466</td>\n",
       "      <td>79</td>\n",
       "      <td>2263</td>\n",
       "    </tr>\n",
       "    <tr>\n",
       "      <th>2020-03-04</th>\n",
       "      <td>3089</td>\n",
       "      <td>587</td>\n",
       "      <td>107</td>\n",
       "      <td>2706</td>\n",
       "    </tr>\n",
       "    <tr>\n",
       "      <th>2020-03-05</th>\n",
       "      <td>3858</td>\n",
       "      <td>769</td>\n",
       "      <td>148</td>\n",
       "      <td>3296</td>\n",
       "    </tr>\n",
       "    <tr>\n",
       "      <th>2020-03-06</th>\n",
       "      <td>4636</td>\n",
       "      <td>778</td>\n",
       "      <td>197</td>\n",
       "      <td>3916</td>\n",
       "    </tr>\n",
       "    <tr>\n",
       "      <th>2020-03-07</th>\n",
       "      <td>5883</td>\n",
       "      <td>1247</td>\n",
       "      <td>233</td>\n",
       "      <td>5061</td>\n",
       "    </tr>\n",
       "    <tr>\n",
       "      <th>2020-03-08</th>\n",
       "      <td>7375</td>\n",
       "      <td>1492</td>\n",
       "      <td>366</td>\n",
       "      <td>6387</td>\n",
       "    </tr>\n",
       "    <tr>\n",
       "      <th>2020-03-09</th>\n",
       "      <td>9172</td>\n",
       "      <td>1797</td>\n",
       "      <td>463</td>\n",
       "      <td>7985</td>\n",
       "    </tr>\n",
       "    <tr>\n",
       "      <th>2020-03-10</th>\n",
       "      <td>10149</td>\n",
       "      <td>977</td>\n",
       "      <td>631</td>\n",
       "      <td>8514</td>\n",
       "    </tr>\n",
       "    <tr>\n",
       "      <th>2020-03-11</th>\n",
       "      <td>12462</td>\n",
       "      <td>2313</td>\n",
       "      <td>827</td>\n",
       "      <td>10590</td>\n",
       "    </tr>\n",
       "    <tr>\n",
       "      <th>2020-03-12</th>\n",
       "      <td>12462</td>\n",
       "      <td>0</td>\n",
       "      <td>1016</td>\n",
       "      <td>12839</td>\n",
       "    </tr>\n",
       "    <tr>\n",
       "      <th>2020-03-13</th>\n",
       "      <td>17660</td>\n",
       "      <td>5198</td>\n",
       "      <td>1266</td>\n",
       "      <td>14955</td>\n",
       "    </tr>\n",
       "    <tr>\n",
       "      <th>2020-03-14</th>\n",
       "      <td>21157</td>\n",
       "      <td>3497</td>\n",
       "      <td>1441</td>\n",
       "      <td>17750</td>\n",
       "    </tr>\n",
       "    <tr>\n",
       "      <th>2020-03-15</th>\n",
       "      <td>24747</td>\n",
       "      <td>3590</td>\n",
       "      <td>1809</td>\n",
       "      <td>20603</td>\n",
       "    </tr>\n",
       "    <tr>\n",
       "      <th>2020-03-16</th>\n",
       "      <td>27980</td>\n",
       "      <td>3233</td>\n",
       "      <td>2158</td>\n",
       "      <td>23073</td>\n",
       "    </tr>\n",
       "    <tr>\n",
       "      <th>2020-03-17</th>\n",
       "      <td>31506</td>\n",
       "      <td>3526</td>\n",
       "      <td>2503</td>\n",
       "      <td>26062</td>\n",
       "    </tr>\n",
       "    <tr>\n",
       "      <th>2020-03-18</th>\n",
       "      <td>35713</td>\n",
       "      <td>4207</td>\n",
       "      <td>2978</td>\n",
       "      <td>28710</td>\n",
       "    </tr>\n",
       "    <tr>\n",
       "      <th>2020-03-19</th>\n",
       "      <td>41035</td>\n",
       "      <td>5322</td>\n",
       "      <td>3405</td>\n",
       "      <td>33190</td>\n",
       "    </tr>\n",
       "    <tr>\n",
       "      <th>2020-03-20</th>\n",
       "      <td>47021</td>\n",
       "      <td>5986</td>\n",
       "      <td>4032</td>\n",
       "      <td>37860</td>\n",
       "    </tr>\n",
       "    <tr>\n",
       "      <th>2020-03-21</th>\n",
       "      <td>53578</td>\n",
       "      <td>6557</td>\n",
       "      <td>4825</td>\n",
       "      <td>42681</td>\n",
       "    </tr>\n",
       "    <tr>\n",
       "      <th>2020-03-22</th>\n",
       "      <td>59138</td>\n",
       "      <td>5560</td>\n",
       "      <td>5476</td>\n",
       "      <td>46638</td>\n",
       "    </tr>\n",
       "    <tr>\n",
       "      <th>2020-03-23</th>\n",
       "      <td>63927</td>\n",
       "      <td>4789</td>\n",
       "      <td>6077</td>\n",
       "      <td>50418</td>\n",
       "    </tr>\n",
       "    <tr>\n",
       "      <th>2020-03-24</th>\n",
       "      <td>69176</td>\n",
       "      <td>5249</td>\n",
       "      <td>6820</td>\n",
       "      <td>54030</td>\n",
       "    </tr>\n",
       "    <tr>\n",
       "      <th>2020-03-25</th>\n",
       "      <td>74386</td>\n",
       "      <td>5210</td>\n",
       "      <td>7503</td>\n",
       "      <td>57521</td>\n",
       "    </tr>\n",
       "    <tr>\n",
       "      <th>2020-03-26</th>\n",
       "      <td>80589</td>\n",
       "      <td>6203</td>\n",
       "      <td>8215</td>\n",
       "      <td>62013</td>\n",
       "    </tr>\n",
       "  </tbody>\n",
       "</table>\n",
       "</div>"
      ],
      "text/plain": [
       "            Confirmed   New  Deaths  Active\n",
       "Date                                       \n",
       "2020-02-15          3     0       0       3\n",
       "2020-02-16          3     0       0       3\n",
       "2020-02-17          3     0       0       3\n",
       "2020-02-18          3     0       0       3\n",
       "2020-02-19          3     0       0       3\n",
       "2020-02-20          4     1       0       4\n",
       "2020-02-21         21    17       1      19\n",
       "2020-02-22         79    58       2      75\n",
       "2020-02-23        157    78       3     152\n",
       "2020-02-24        229    72       7     221\n",
       "2020-02-25        323    94      11     310\n",
       "2020-02-26        470   147      12     455\n",
       "2020-02-27        655   185      17     593\n",
       "2020-02-28        889   234      21     822\n",
       "2020-02-29       1128   239      29    1049\n",
       "2020-03-01       1701   573      41    1577\n",
       "2020-03-02       2036   335      52    1835\n",
       "2020-03-03       2502   466      79    2263\n",
       "2020-03-04       3089   587     107    2706\n",
       "2020-03-05       3858   769     148    3296\n",
       "2020-03-06       4636   778     197    3916\n",
       "2020-03-07       5883  1247     233    5061\n",
       "2020-03-08       7375  1492     366    6387\n",
       "2020-03-09       9172  1797     463    7985\n",
       "2020-03-10      10149   977     631    8514\n",
       "2020-03-11      12462  2313     827   10590\n",
       "2020-03-12      12462     0    1016   12839\n",
       "2020-03-13      17660  5198    1266   14955\n",
       "2020-03-14      21157  3497    1441   17750\n",
       "2020-03-15      24747  3590    1809   20603\n",
       "2020-03-16      27980  3233    2158   23073\n",
       "2020-03-17      31506  3526    2503   26062\n",
       "2020-03-18      35713  4207    2978   28710\n",
       "2020-03-19      41035  5322    3405   33190\n",
       "2020-03-20      47021  5986    4032   37860\n",
       "2020-03-21      53578  6557    4825   42681\n",
       "2020-03-22      59138  5560    5476   46638\n",
       "2020-03-23      63927  4789    6077   50418\n",
       "2020-03-24      69176  5249    6820   54030\n",
       "2020-03-25      74386  5210    7503   57521\n",
       "2020-03-26      80589  6203    8215   62013"
      ]
     },
     "execution_count": 14,
     "metadata": {},
     "output_type": "execute_result"
    }
   ],
   "source": [
    "df"
   ]
  },
  {
   "cell_type": "code",
   "execution_count": 15,
   "metadata": {},
   "outputs": [
    {
     "data": {
      "image/png": "[encoded data removed]",
      "text/plain": [
       "<Figure size 1080x288 with 1 Axes>"
      ]
     },
     "metadata": {
      "needs_background": "light"
     },
     "output_type": "display_data"
    }
   ],
   "source": [
    "df.plot.area(y=[\"Active\", \"Confirmed\", \"Deaths\", \"New\"], figsize=(15,4), alpha=0.4, subplots=False, stacked=False)\n",
    "fig.autofmt_xdate()"
   ]
  },
  {
   "cell_type": "code",
   "execution_count": 16,
   "metadata": {},
   "outputs": [
    {
     "data": {
      "image/png": "[encoded data removed]",
      "text/plain": [
       "<Figure size 432x288 with 2 Axes>"
      ]
     },
     "metadata": {
      "needs_background": "light"
     },
     "output_type": "display_data"
    }
   ],
   "source": [
    "fig, ax = plt.subplots()\n",
    "ax2 = ax.twinx()\n",
    "ax.bar(df.index, df[\"Confirmed\"], color=(190/255,190/255,190/255,0.7), label='Confirmed')\n",
    "ax2.plot(df.index, df[\"Active\"], color='green', label='Active')\n",
    "ax.set_xticklabels(df.index)\n",
    "ax.legend(loc='best')\n",
    "ax2.legend(loc='best')\n",
    "ax.xaxis.grid(True)\n",
    "ax.yaxis.grid(True)\n",
    "ax.set_title('Banyak kasus aktif dibanding dengan total kasus')\n",
    "fig.autofmt_xdate()"
   ]
  },
  {
   "cell_type": "code",
   "execution_count": 17,
   "metadata": {},
   "outputs": [
    {
     "data": {
      "image/png": "[encoded data removed]",
      "text/plain": [
       "<Figure size 432x288 with 2 Axes>"
      ]
     },
     "metadata": {
      "needs_background": "light"
     },
     "output_type": "display_data"
    }
   ],
   "source": [
    "fig, ax3 = plt.subplots()\n",
    "ax4 = ax3.twinx()\n",
    "ax3.bar(df.index, df[\"New\"], color=(190/255,190/255,190/255,0.7), label='New')\n",
    "ax4.plot(df.index, df[\"Deaths\"], color='red', label='Deaths')\n",
    "ax3.set_xticklabels(df.index)\n",
    "ax3.legend(loc='best')\n",
    "ax4.legend(loc='best')\n",
    "ax3.xaxis.grid(True)\n",
    "ax4.yaxis.grid(True)\n",
    "ax3.set_title('Banyak kasus kematian dibanding dengan kasus baru')\n",
    "fig.autofmt_xdate()"
   ]
  },
  {
   "cell_type": "markdown",
   "metadata": {},
   "source": [
    "## Regressions"
   ]
  },
  {
   "cell_type": "markdown",
   "metadata": {},
   "source": [
    "### Active "
   ]
  },
  {
   "cell_type": "markdown",
   "metadata": {},
   "source": [
    "- Start: 15-Feb-2020\n",
    "- End: 26-Mar-2020\n",
    "- Range: 41 Days"
   ]
  },
  {
   "cell_type": "markdown",
   "metadata": {},
   "source": [
    "**Data**"
   ]
  },
  {
   "cell_type": "code",
   "execution_count": 18,
   "metadata": {},
   "outputs": [
    {
     "data": {
      "text/plain": [
       "array([3.0000e+00, 3.0000e+00, 3.0000e+00, 3.0000e+00, 3.0000e+00,\n",
       "       4.0000e+00, 1.9000e+01, 7.5000e+01, 1.5200e+02, 2.2100e+02,\n",
       "       3.1000e+02, 4.5500e+02, 5.9300e+02, 8.2200e+02, 1.0490e+03,\n",
       "       1.5770e+03, 1.8350e+03, 2.2630e+03, 2.7060e+03, 3.2960e+03,\n",
       "       3.9160e+03, 5.0610e+03, 6.3870e+03, 7.9850e+03, 8.5140e+03,\n",
       "       1.0590e+04, 1.2839e+04, 1.4955e+04, 1.7750e+04, 2.0603e+04,\n",
       "       2.3073e+04, 2.6062e+04, 2.8710e+04, 3.3190e+04, 3.7860e+04,\n",
       "       4.2681e+04, 4.6638e+04, 5.0418e+04, 5.4030e+04, 5.7521e+04,\n",
       "       6.2013e+04])"
      ]
     },
     "execution_count": 18,
     "metadata": {},
     "output_type": "execute_result"
    }
   ],
   "source": [
    "y = np.array ((3, 3, 3, 3, 3, 4, 19, 75, 152, 221, 310, 455, 593, 822, 1049, 1577, 1835, 2263, 2706, 3296, 3916, 5061, 6387, 7985, 8514, 10590, 12839, 14955, 17750, 20603, 23073, 26062, 28710, 33190, 37860, 42681, 46638, 50418, 54030, 57521, 62013))\n",
    "y = y.astype('float64')\n",
    "y"
   ]
  },
  {
   "cell_type": "code",
   "execution_count": 19,
   "metadata": {},
   "outputs": [
    {
     "data": {
      "text/plain": [
       "array([ 1.,  2.,  3.,  4.,  5.,  6.,  7.,  8.,  9., 10., 11., 12., 13.,\n",
       "       14., 15., 16., 17., 18., 19., 20., 21., 22., 23., 24., 25., 26.,\n",
       "       27., 28., 29., 30., 31., 32., 33., 34., 35., 36., 37., 38., 39.,\n",
       "       40., 41.])"
      ]
     },
     "execution_count": 19,
     "metadata": {},
     "output_type": "execute_result"
    }
   ],
   "source": [
    "x = np.array((range(1,1+len(y))))\n",
    "x = x.astype('float64')\n",
    "x"
   ]
  },
  {
   "cell_type": "markdown",
   "metadata": {},
   "source": [
    "**Plot**"
   ]
  },
  {
   "cell_type": "code",
   "execution_count": 20,
   "metadata": {},
   "outputs": [
    {
     "data": {
      "text/plain": [
       "Text(0, 0.5, 'y-jumlah orang')"
      ]
     },
     "execution_count": 20,
     "metadata": {},
     "output_type": "execute_result"
    },
    {
     "data": {
      "image/png": "[encoded data removed]",
      "text/plain": [
       "<Figure size 432x288 with 1 Axes>"
      ]
     },
     "metadata": {
      "needs_background": "light"
     },
     "output_type": "display_data"
    }
   ],
   "source": [
    "ax = plt.plot(x,y,'ro')\n",
    "plt.grid()\n",
    "plt.xlabel('x-hari')\n",
    "plt.ylabel('y-jumlah orang')"
   ]
  },
  {
   "cell_type": "markdown",
   "metadata": {},
   "source": [
    "#### Regresi Berpangkat"
   ]
  },
  {
   "cell_type": "markdown",
   "metadata": {},
   "source": [
    "**Data**"
   ]
  },
  {
   "cell_type": "code",
   "execution_count": 21,
   "metadata": {},
   "outputs": [
    {
     "data": {
      "text/plain": [
       "array([3.0000e+00, 3.0000e+00, 3.0000e+00, 3.0000e+00, 3.0000e+00,\n",
       "       4.0000e+00, 1.9000e+01, 7.5000e+01, 1.5200e+02, 2.2100e+02,\n",
       "       3.1000e+02, 4.5500e+02, 5.9300e+02, 8.2200e+02, 1.0490e+03,\n",
       "       1.5770e+03, 1.8350e+03, 2.2630e+03, 2.7060e+03, 3.2960e+03,\n",
       "       3.9160e+03, 5.0610e+03, 6.3870e+03, 7.9850e+03, 8.5140e+03,\n",
       "       1.0590e+04, 1.2839e+04, 1.4955e+04, 1.7750e+04, 2.0603e+04,\n",
       "       2.3073e+04, 2.6062e+04, 2.8710e+04, 3.3190e+04, 3.7860e+04,\n",
       "       4.2681e+04, 4.6638e+04, 5.0418e+04, 5.4030e+04, 5.7521e+04,\n",
       "       6.2013e+04])"
      ]
     },
     "execution_count": 21,
     "metadata": {},
     "output_type": "execute_result"
    }
   ],
   "source": [
    "y = np.array ((3, 3, 3, 3, 3, 4, 19, 75, 152, 221, 310, 455, 593, 822, 1049, 1577, 1835, 2263, 2706, 3296, 3916, 5061, 6387, 7985, 8514, 10590, 12839, 14955, 17750, 20603, 23073, 26062, 28710, 33190, 37860, 42681, 46638, 50418, 54030, 57521, 62013))\n",
    "y = y.astype('float64')\n",
    "y"
   ]
  },
  {
   "cell_type": "code",
   "execution_count": 22,
   "metadata": {},
   "outputs": [
    {
     "data": {
      "text/plain": [
       "array([ 1.,  2.,  3.,  4.,  5.,  6.,  7.,  8.,  9., 10., 11., 12., 13.,\n",
       "       14., 15., 16., 17., 18., 19., 20., 21., 22., 23., 24., 25., 26.,\n",
       "       27., 28., 29., 30., 31., 32., 33., 34., 35., 36., 37., 38., 39.,\n",
       "       40., 41.])"
      ]
     },
     "execution_count": 22,
     "metadata": {},
     "output_type": "execute_result"
    }
   ],
   "source": [
    "x = np.array((range(1,1+len(y))))\n",
    "x = x.astype('float64')\n",
    "x"
   ]
  },
  {
   "attachments": {
    "image.png": {
     "image/png": "[encoded data removed]"
    }
   },
   "cell_type": "markdown",
   "metadata": {},
   "source": [
    "![image.png](attachment:image.png)"
   ]
  },
  {
   "cell_type": "markdown",
   "metadata": {},
   "source": [
    "**Membuat xreg untuk plotting selanjutnya**"
   ]
  },
  {
   "cell_type": "code",
   "execution_count": 23,
   "metadata": {},
   "outputs": [
    {
     "data": {
      "text/plain": [
       "array([ 1. ,  1.1,  1.2,  1.3,  1.4,  1.5,  1.6,  1.7,  1.8,  1.9,  2. ,\n",
       "        2.1,  2.2,  2.3,  2.4,  2.5,  2.6,  2.7,  2.8,  2.9,  3. ,  3.1,\n",
       "        3.2,  3.3,  3.4,  3.5,  3.6,  3.7,  3.8,  3.9,  4. ,  4.1,  4.2,\n",
       "        4.3,  4.4,  4.5,  4.6,  4.7,  4.8,  4.9,  5. ,  5.1,  5.2,  5.3,\n",
       "        5.4,  5.5,  5.6,  5.7,  5.8,  5.9,  6. ,  6.1,  6.2,  6.3,  6.4,\n",
       "        6.5,  6.6,  6.7,  6.8,  6.9,  7. ,  7.1,  7.2,  7.3,  7.4,  7.5,\n",
       "        7.6,  7.7,  7.8,  7.9,  8. ,  8.1,  8.2,  8.3,  8.4,  8.5,  8.6,\n",
       "        8.7,  8.8,  8.9,  9. ,  9.1,  9.2,  9.3,  9.4,  9.5,  9.6,  9.7,\n",
       "        9.8,  9.9, 10. , 10.1, 10.2, 10.3, 10.4, 10.5, 10.6, 10.7, 10.8,\n",
       "       10.9, 11. , 11.1, 11.2, 11.3, 11.4, 11.5, 11.6, 11.7, 11.8, 11.9,\n",
       "       12. , 12.1, 12.2, 12.3, 12.4, 12.5, 12.6, 12.7, 12.8, 12.9, 13. ,\n",
       "       13.1, 13.2, 13.3, 13.4, 13.5, 13.6, 13.7, 13.8, 13.9, 14. , 14.1,\n",
       "       14.2, 14.3, 14.4, 14.5, 14.6, 14.7, 14.8, 14.9, 15. , 15.1, 15.2,\n",
       "       15.3, 15.4, 15.5, 15.6, 15.7, 15.8, 15.9, 16. , 16.1, 16.2, 16.3,\n",
       "       16.4, 16.5, 16.6, 16.7, 16.8, 16.9, 17. , 17.1, 17.2, 17.3, 17.4,\n",
       "       17.5, 17.6, 17.7, 17.8, 17.9, 18. , 18.1, 18.2, 18.3, 18.4, 18.5,\n",
       "       18.6, 18.7, 18.8, 18.9, 19. , 19.1, 19.2, 19.3, 19.4, 19.5, 19.6,\n",
       "       19.7, 19.8, 19.9, 20. , 20.1, 20.2, 20.3, 20.4, 20.5, 20.6, 20.7,\n",
       "       20.8, 20.9, 21. , 21.1, 21.2, 21.3, 21.4, 21.5, 21.6, 21.7, 21.8,\n",
       "       21.9, 22. , 22.1, 22.2, 22.3, 22.4, 22.5, 22.6, 22.7, 22.8, 22.9,\n",
       "       23. , 23.1, 23.2, 23.3, 23.4, 23.5, 23.6, 23.7, 23.8, 23.9, 24. ,\n",
       "       24.1, 24.2, 24.3, 24.4, 24.5, 24.6, 24.7, 24.8, 24.9, 25. , 25.1,\n",
       "       25.2, 25.3, 25.4, 25.5, 25.6, 25.7, 25.8, 25.9, 26. , 26.1, 26.2,\n",
       "       26.3, 26.4, 26.5, 26.6, 26.7, 26.8, 26.9, 27. , 27.1, 27.2, 27.3,\n",
       "       27.4, 27.5, 27.6, 27.7, 27.8, 27.9, 28. , 28.1, 28.2, 28.3, 28.4,\n",
       "       28.5, 28.6, 28.7, 28.8, 28.9, 29. , 29.1, 29.2, 29.3, 29.4, 29.5,\n",
       "       29.6, 29.7, 29.8, 29.9, 30. , 30.1, 30.2, 30.3, 30.4, 30.5, 30.6,\n",
       "       30.7, 30.8, 30.9, 31. , 31.1, 31.2, 31.3, 31.4, 31.5, 31.6, 31.7,\n",
       "       31.8, 31.9, 32. , 32.1, 32.2, 32.3, 32.4, 32.5, 32.6, 32.7, 32.8,\n",
       "       32.9, 33. , 33.1, 33.2, 33.3, 33.4, 33.5, 33.6, 33.7, 33.8, 33.9,\n",
       "       34. , 34.1, 34.2, 34.3, 34.4, 34.5, 34.6, 34.7, 34.8, 34.9, 35. ,\n",
       "       35.1, 35.2, 35.3, 35.4, 35.5, 35.6, 35.7, 35.8, 35.9, 36. , 36.1,\n",
       "       36.2, 36.3, 36.4, 36.5, 36.6, 36.7, 36.8, 36.9, 37. , 37.1, 37.2,\n",
       "       37.3, 37.4, 37.5, 37.6, 37.7, 37.8, 37.9, 38. , 38.1, 38.2, 38.3,\n",
       "       38.4, 38.5, 38.6, 38.7, 38.8, 38.9, 39. , 39.1, 39.2, 39.3, 39.4,\n",
       "       39.5, 39.6, 39.7, 39.8, 39.9, 40. , 40.1, 40.2, 40.3, 40.4, 40.5,\n",
       "       40.6, 40.7, 40.8, 40.9, 41. , 41.1, 41.2, 41.3, 41.4, 41.5, 41.6,\n",
       "       41.7, 41.8, 41.9])"
      ]
     },
     "execution_count": 23,
     "metadata": {},
     "output_type": "execute_result"
    }
   ],
   "source": [
    "#membuat xreg\n",
    "xreg = np.array(range(10,int((x[-1]+1)*10)))\n",
    "xreg = xreg/10 #memperhalus bentuk garis\n",
    "xreg = xreg.astype('float64')\n",
    "xreg"
   ]
  },
  {
   "cell_type": "markdown",
   "metadata": {},
   "source": [
    "**Regresi berpangkat**"
   ]
  },
  {
   "attachments": {
    "image.png": {
     "image/png": "[encoded data removed]"
    }
   },
   "cell_type": "markdown",
   "metadata": {},
   "source": [
    "![image.png](attachment:image.png)"
   ]
  },
  {
   "attachments": {
    "image.png": {
     "image/png": "[encoded data removed]"
    }
   },
   "cell_type": "markdown",
   "metadata": {},
   "source": [
    "![image.png](attachment:image.png)"
   ]
  },
  {
   "attachments": {
    "image.png": {
     "image/png": "[encoded data removed]"
    }
   },
   "cell_type": "markdown",
   "metadata": {},
   "source": [
    "![image.png](attachment:image.png)"
   ]
  },
  {
   "cell_type": "code",
   "execution_count": 24,
   "metadata": {},
   "outputs": [],
   "source": [
    "p = np.log10(y)\n",
    "q = np.log10(x)"
   ]
  },
  {
   "cell_type": "markdown",
   "metadata": {},
   "source": [
    "**Hitung regresi linear**"
   ]
  },
  {
   "cell_type": "code",
   "execution_count": 25,
   "metadata": {},
   "outputs": [],
   "source": [
    "n = len(y)\n",
    "pq = p*q\n",
    "qq = q**2\n",
    "B = (n*pq.sum() - q.sum()*p.sum())/(n*qq.sum() - (q.sum())**2)\n",
    "A = p.mean()-B*q.mean()"
   ]
  },
  {
   "cell_type": "markdown",
   "metadata": {},
   "source": [
    "**Hasil regresi linear**"
   ]
  },
  {
   "cell_type": "code",
   "execution_count": 26,
   "metadata": {},
   "outputs": [
    {
     "name": "stdout",
     "output_type": "stream",
     "text": [
      "p = 3.5971q -1.1323\n"
     ]
    }
   ],
   "source": [
    "if A>0 :\n",
    "    print (\"p = {:.4f}q + {:.4f}\". format(B,A))\n",
    "else :\n",
    "    print (\"p = {:.4f}q {:.4f}\". format(B,A))"
   ]
  },
  {
   "cell_type": "markdown",
   "metadata": {},
   "source": [
    "**Kembalikan ke bentuk pangkat**"
   ]
  },
  {
   "cell_type": "code",
   "execution_count": 27,
   "metadata": {},
   "outputs": [
    {
     "name": "stdout",
     "output_type": "stream",
     "text": [
      "y = 0.0737x^(3.5971)\n"
     ]
    }
   ],
   "source": [
    "a = 10**A #A=log(a)\n",
    "b = B\n",
    "print (\"y = {:.4f}x^({:.4f})\".format(a,b))"
   ]
  },
  {
   "cell_type": "markdown",
   "metadata": {},
   "source": [
    "**Koefisien Korelasi ( r ) dan Derajat Kesesuaian ( R ) r-square**"
   ]
  },
  {
   "cell_type": "code",
   "execution_count": 28,
   "metadata": {},
   "outputs": [
    {
     "name": "stdout",
     "output_type": "stream",
     "text": [
      "r = 0.9624 dan r^2 = 0.9262\n"
     ]
    }
   ],
   "source": [
    "yDt = ((p - p.mean())**2).sum()\n",
    "yD = ((p - (q*B) - A)**2).sum()\n",
    "r = np.sqrt((yDt-yD)/yDt)\n",
    "r2 = r**2\n",
    "print('r = {:.4f} dan r^2 = {:.4f}'.format(r,r2))"
   ]
  },
  {
   "cell_type": "markdown",
   "metadata": {},
   "source": [
    "**Plot**"
   ]
  },
  {
   "cell_type": "code",
   "execution_count": 29,
   "metadata": {},
   "outputs": [
    {
     "data": {
      "text/plain": [
       "array([7.37404792e-02, 1.03896372e-01, 1.42079148e-01, 1.89484542e-01,\n",
       "       2.47369376e-01, 3.17049609e-01, 3.99898601e-01, 4.97345530e-01,\n",
       "       6.10873957e-01, 7.42020517e-01, 8.92373702e-01, 1.06357275e+00,\n",
       "       1.25730659e+00, 1.47531289e+00, 1.71937715e+00, 1.99133186e+00,\n",
       "       2.29305565e+00, 2.62647262e+00, 2.99355155e+00, 3.39630527e+00,\n",
       "       3.83679001e+00, 4.31710477e+00, 4.83939078e+00, 5.40583091e+00,\n",
       "       6.01864914e+00, 6.68011009e+00, 7.39251848e+00, 8.15821872e+00,\n",
       "       8.97959443e+00, 9.85906801e+00, 1.07991002e+01, 1.18021898e+01,\n",
       "       1.28708731e+01, 1.40077236e+01, 1.52153518e+01, 1.64964045e+01,\n",
       "       1.78535648e+01, 1.92895516e+01, 2.08071194e+01, 2.24090578e+01,\n",
       "       2.40981914e+01, 2.58773794e+01, 2.77495154e+01, 2.97175270e+01,\n",
       "       3.17843757e+01, 3.39530565e+01, 3.62265978e+01, 3.86080608e+01,\n",
       "       4.11005399e+01, 4.37071618e+01, 4.64310856e+01, 4.92755027e+01,\n",
       "       5.22436362e+01, 5.53387411e+01, 5.85641037e+01, 6.19230418e+01,\n",
       "       6.54189042e+01, 6.90550706e+01, 7.28349514e+01, 7.67619876e+01,\n",
       "       8.08396506e+01, 8.50714417e+01, 8.94608926e+01, 9.40115645e+01,\n",
       "       9.87270483e+01, 1.03610965e+02, 1.08666963e+02, 1.13898723e+02,\n",
       "       1.19309952e+02, 1.24904387e+02, 1.30685794e+02, 1.36657966e+02,\n",
       "       1.42824727e+02, 1.49189927e+02, 1.55757446e+02, 1.62531189e+02,\n",
       "       1.69515093e+02, 1.76713120e+02, 1.84129259e+02, 1.91767530e+02,\n",
       "       1.99631976e+02, 2.07726670e+02, 2.16055712e+02, 2.24623228e+02,\n",
       "       2.33433371e+02, 2.42490321e+02, 2.51798285e+02, 2.61361496e+02,\n",
       "       2.71184214e+02, 2.81270725e+02, 2.91625340e+02, 3.02252398e+02,\n",
       "       3.13156263e+02, 3.24341325e+02, 3.35812000e+02, 3.47572730e+02,\n",
       "       3.59627981e+02, 3.71982246e+02, 3.84640043e+02, 3.97605915e+02,\n",
       "       4.10884430e+02, 4.24480183e+02, 4.38397791e+02, 4.52641898e+02,\n",
       "       4.67217173e+02, 4.82128307e+02, 4.97380020e+02, 5.12977052e+02,\n",
       "       5.28924171e+02, 5.45226167e+02, 5.61887857e+02, 5.78914079e+02,\n",
       "       5.96309697e+02, 6.14079599e+02, 6.32228697e+02, 6.50761927e+02,\n",
       "       6.69684247e+02, 6.89000642e+02, 7.08716117e+02, 7.28835704e+02,\n",
       "       7.49364456e+02, 7.70307452e+02, 7.91669791e+02, 8.13456599e+02,\n",
       "       8.35673021e+02, 8.58324230e+02, 8.81415418e+02, 9.04951802e+02,\n",
       "       9.28938622e+02, 9.53381140e+02, 9.78284642e+02, 1.00365444e+03,\n",
       "       1.02949585e+03, 1.05581424e+03, 1.08261499e+03, 1.10990348e+03,\n",
       "       1.13768515e+03, 1.16596543e+03, 1.19474978e+03, 1.22404371e+03,\n",
       "       1.25385272e+03, 1.28418233e+03, 1.31503811e+03, 1.34642563e+03,\n",
       "       1.37835048e+03, 1.41081830e+03, 1.44383471e+03, 1.47740539e+03,\n",
       "       1.51153602e+03, 1.54623230e+03, 1.58149997e+03, 1.61734477e+03,\n",
       "       1.65377248e+03, 1.69078889e+03, 1.72839981e+03, 1.76661109e+03,\n",
       "       1.80542857e+03, 1.84485813e+03, 1.88490569e+03, 1.92557714e+03,\n",
       "       1.96687845e+03, 2.00881556e+03, 2.05139447e+03, 2.09462118e+03,\n",
       "       2.13850171e+03, 2.18304212e+03, 2.22824846e+03, 2.27412682e+03,\n",
       "       2.32068333e+03, 2.36792409e+03, 2.41585527e+03, 2.46448304e+03,\n",
       "       2.51381358e+03, 2.56385311e+03, 2.61460785e+03, 2.66608407e+03,\n",
       "       2.71828803e+03, 2.77122602e+03, 2.82490436e+03, 2.87932939e+03,\n",
       "       2.93450745e+03, 2.99044492e+03, 3.04714820e+03, 3.10462368e+03,\n",
       "       3.16287782e+03, 3.22191706e+03, 3.28174788e+03, 3.34237677e+03,\n",
       "       3.40381024e+03, 3.46605482e+03, 3.52911708e+03, 3.59300357e+03,\n",
       "       3.65772089e+03, 3.72327566e+03, 3.78967450e+03, 3.85692407e+03,\n",
       "       3.92503103e+03, 3.99400208e+03, 4.06384392e+03, 4.13456328e+03,\n",
       "       4.20616691e+03, 4.27866158e+03, 4.35205407e+03, 4.42635119e+03,\n",
       "       4.50155976e+03, 4.57768663e+03, 4.65473865e+03, 4.73272272e+03,\n",
       "       4.81164574e+03, 4.89151461e+03, 4.97233629e+03, 5.05411772e+03,\n",
       "       5.13686589e+03, 5.22058780e+03, 5.30529045e+03, 5.39098089e+03,\n",
       "       5.47766615e+03, 5.56535332e+03, 5.65404949e+03, 5.74376175e+03,\n",
       "       5.83449725e+03, 5.92626312e+03, 6.01906652e+03, 6.11291465e+03,\n",
       "       6.20781471e+03, 6.30377390e+03, 6.40079948e+03, 6.49889869e+03,\n",
       "       6.59807882e+03, 6.69834715e+03, 6.79971100e+03, 6.90217769e+03,\n",
       "       7.00575458e+03, 7.11044904e+03, 7.21626843e+03, 7.32322018e+03,\n",
       "       7.43131170e+03, 7.54055043e+03, 7.65094382e+03, 7.76249936e+03,\n",
       "       7.87522452e+03, 7.98912684e+03, 8.10421383e+03, 8.22049304e+03,\n",
       "       8.33797204e+03, 8.45665841e+03, 8.57655975e+03, 8.69768367e+03,\n",
       "       8.82003783e+03, 8.94362986e+03, 9.06846744e+03, 9.19455826e+03,\n",
       "       9.32191004e+03, 9.45053048e+03, 9.58042734e+03, 9.71160837e+03,\n",
       "       9.84408136e+03, 9.97785410e+03, 1.01129344e+04, 1.02493301e+04,\n",
       "       1.03870490e+04, 1.05260990e+04, 1.06664880e+04, 1.08082239e+04,\n",
       "       1.09513147e+04, 1.10957681e+04, 1.12415922e+04, 1.13887950e+04,\n",
       "       1.15373845e+04, 1.16873685e+04, 1.18387553e+04, 1.19915528e+04,\n",
       "       1.21457690e+04, 1.23014120e+04, 1.24584900e+04, 1.26170111e+04,\n",
       "       1.27769832e+04, 1.29384147e+04, 1.31013136e+04, 1.32656882e+04,\n",
       "       1.34315466e+04, 1.35988970e+04, 1.37677476e+04, 1.39381068e+04,\n",
       "       1.41099827e+04, 1.42833836e+04, 1.44583179e+04, 1.46347938e+04,\n",
       "       1.48128196e+04, 1.49924038e+04, 1.51735546e+04, 1.53562805e+04,\n",
       "       1.55405898e+04, 1.57264910e+04, 1.59139924e+04, 1.61031025e+04,\n",
       "       1.62938299e+04, 1.64861828e+04, 1.66801699e+04, 1.68757997e+04,\n",
       "       1.70730806e+04, 1.72720213e+04, 1.74726303e+04, 1.76749161e+04,\n",
       "       1.78788873e+04, 1.80845526e+04, 1.82919206e+04, 1.85009999e+04,\n",
       "       1.87117992e+04, 1.89243272e+04, 1.91385925e+04, 1.93546039e+04,\n",
       "       1.95723700e+04, 1.97918996e+04, 2.00132015e+04, 2.02362845e+04,\n",
       "       2.04611573e+04, 2.06878287e+04, 2.09163075e+04, 2.11466027e+04,\n",
       "       2.13787230e+04, 2.16126773e+04, 2.18484745e+04, 2.20861234e+04,\n",
       "       2.23256331e+04, 2.25670124e+04, 2.28102703e+04, 2.30554158e+04,\n",
       "       2.33024578e+04, 2.35514053e+04, 2.38022674e+04, 2.40550530e+04,\n",
       "       2.43097712e+04, 2.45664312e+04, 2.48250418e+04, 2.50856123e+04,\n",
       "       2.53481518e+04, 2.56126693e+04, 2.58791740e+04, 2.61476751e+04,\n",
       "       2.64181817e+04, 2.66907030e+04, 2.69652482e+04, 2.72418266e+04,\n",
       "       2.75204473e+04, 2.78011197e+04, 2.80838529e+04, 2.83686563e+04,\n",
       "       2.86555392e+04, 2.89445108e+04, 2.92355805e+04, 2.95287576e+04,\n",
       "       2.98240516e+04, 3.01214717e+04, 3.04210273e+04, 3.07227279e+04,\n",
       "       3.10265829e+04, 3.13326016e+04, 3.16407937e+04, 3.19511684e+04,\n",
       "       3.22637354e+04, 3.25785041e+04, 3.28954840e+04, 3.32146846e+04,\n",
       "       3.35361155e+04, 3.38597862e+04, 3.41857063e+04, 3.45138855e+04,\n",
       "       3.48443332e+04, 3.51770592e+04, 3.55120730e+04, 3.58493843e+04,\n",
       "       3.61890028e+04, 3.65309381e+04, 3.68752000e+04, 3.72217981e+04,\n",
       "       3.75707422e+04, 3.79220420e+04, 3.82757072e+04, 3.86317477e+04,\n",
       "       3.89901733e+04, 3.93509936e+04, 3.97142186e+04, 4.00798580e+04,\n",
       "       4.04479218e+04, 4.08184197e+04, 4.11913616e+04, 4.15667575e+04,\n",
       "       4.19446173e+04, 4.23249508e+04, 4.27077679e+04, 4.30930788e+04,\n",
       "       4.34808932e+04, 4.38712212e+04, 4.42640728e+04, 4.46594579e+04,\n",
       "       4.50573867e+04, 4.54578692e+04, 4.58609153e+04, 4.62665352e+04,\n",
       "       4.66747389e+04, 4.70855366e+04, 4.74989384e+04, 4.79149543e+04,\n",
       "       4.83335946e+04, 4.87548693e+04, 4.91787887e+04, 4.96053630e+04,\n",
       "       5.00346022e+04, 5.04665168e+04])"
      ]
     },
     "execution_count": 29,
     "metadata": {},
     "output_type": "execute_result"
    }
   ],
   "source": [
    "#membuat yreg\n",
    "yreg = a*(xreg**b)\n",
    "yreg\n",
    "    "
   ]
  },
  {
   "cell_type": "code",
   "execution_count": 30,
   "metadata": {},
   "outputs": [
    {
     "data": {
      "text/plain": [
       "Text(0, 0.5, 'y-banyak orang')"
      ]
     },
     "execution_count": 30,
     "metadata": {},
     "output_type": "execute_result"
    },
    {
     "data": {
      "image/png": "[encoded data removed]",
      "text/plain": [
       "<Figure size 432x288 with 1 Axes>"
      ]
     },
     "metadata": {
      "needs_background": "light"
     },
     "output_type": "display_data"
    }
   ],
   "source": [
    "ax = plt.plot(x,y,'ro')\n",
    "plt.plot(xreg,yreg,'g')\n",
    "plt.grid()\n",
    "plt.xlabel('x-hari ke')\n",
    "plt.ylabel('y-banyak orang')"
   ]
  },
  {
   "cell_type": "markdown",
   "metadata": {},
   "source": [
    "#### Regresi Eksponensial"
   ]
  },
  {
   "attachments": {
    "image.png": {
     "image/png": "[encoded data removed]"
    }
   },
   "cell_type": "markdown",
   "metadata": {},
   "source": [
    "![image.png](attachment:image.png)"
   ]
  },
  {
   "attachments": {
    "image.png": {
     "image/png": "[encoded data removed]"
    }
   },
   "cell_type": "markdown",
   "metadata": {},
   "source": [
    "![image.png](attachment:image.png)"
   ]
  },
  {
   "attachments": {
    "image.png": {
     "image/png": "[encoded data removed]"
    }
   },
   "cell_type": "markdown",
   "metadata": {},
   "source": [
    "![image.png](attachment:image.png)"
   ]
  },
  {
   "cell_type": "markdown",
   "metadata": {},
   "source": [
    "**Linearisasi**"
   ]
  },
  {
   "cell_type": "code",
   "execution_count": 31,
   "metadata": {},
   "outputs": [
    {
     "data": {
      "text/plain": [
       "array([3.0000e+00, 3.0000e+00, 3.0000e+00, 3.0000e+00, 3.0000e+00,\n",
       "       4.0000e+00, 1.9000e+01, 7.5000e+01, 1.5200e+02, 2.2100e+02,\n",
       "       3.1000e+02, 4.5500e+02, 5.9300e+02, 8.2200e+02, 1.0490e+03,\n",
       "       1.5770e+03, 1.8350e+03, 2.2630e+03, 2.7060e+03, 3.2960e+03,\n",
       "       3.9160e+03, 5.0610e+03, 6.3870e+03, 7.9850e+03, 8.5140e+03,\n",
       "       1.0590e+04, 1.2839e+04, 1.4955e+04, 1.7750e+04, 2.0603e+04,\n",
       "       2.3073e+04, 2.6062e+04, 2.8710e+04, 3.3190e+04, 3.7860e+04,\n",
       "       4.2681e+04, 4.6638e+04, 5.0418e+04, 5.4030e+04, 5.7521e+04,\n",
       "       6.2013e+04])"
      ]
     },
     "execution_count": 31,
     "metadata": {},
     "output_type": "execute_result"
    }
   ],
   "source": [
    "y = np.array ((3, 3, 3, 3, 3, 4, 19, 75, 152, 221, 310, 455, 593, 822, 1049, 1577, 1835, 2263, 2706, 3296, 3916, 5061, 6387, 7985, 8514, 10590, 12839, 14955, 17750, 20603, 23073, 26062, 28710, 33190, 37860, 42681, 46638, 50418, 54030, 57521, 62013))\n",
    "y = y.astype('float64')\n",
    "y"
   ]
  },
  {
   "cell_type": "code",
   "execution_count": 32,
   "metadata": {},
   "outputs": [
    {
     "data": {
      "text/plain": [
       "array([ 1.,  2.,  3.,  4.,  5.,  6.,  7.,  8.,  9., 10., 11., 12., 13.,\n",
       "       14., 15., 16., 17., 18., 19., 20., 21., 22., 23., 24., 25., 26.,\n",
       "       27., 28., 29., 30., 31., 32., 33., 34., 35., 36., 37., 38., 39.,\n",
       "       40., 41.])"
      ]
     },
     "execution_count": 32,
     "metadata": {},
     "output_type": "execute_result"
    }
   ],
   "source": [
    "x = np.array((range(1,1+len(y))))\n",
    "x = x.astype('float64')\n",
    "x"
   ]
  },
  {
   "cell_type": "code",
   "execution_count": 33,
   "metadata": {},
   "outputs": [],
   "source": [
    "p = np.log(y)\n",
    "q = x"
   ]
  },
  {
   "cell_type": "markdown",
   "metadata": {},
   "source": [
    "**Hitung regresi linear**"
   ]
  },
  {
   "attachments": {
    "image.png": {
     "image/png": "[encoded data removed]"
    }
   },
   "cell_type": "markdown",
   "metadata": {},
   "source": [
    "![image.png](attachment:image.png)"
   ]
  },
  {
   "cell_type": "code",
   "execution_count": 34,
   "metadata": {},
   "outputs": [],
   "source": [
    "n = len(y)\n",
    "pq = p*q\n",
    "qq = q**2\n",
    "B = (n*pq.sum() - q.sum()*p.sum())/(n*qq.sum() - (q.sum())**2)\n",
    "A = p.mean()-B*q.mean()"
   ]
  },
  {
   "cell_type": "markdown",
   "metadata": {},
   "source": [
    "**Hasil persamaan linear**"
   ]
  },
  {
   "cell_type": "code",
   "execution_count": 35,
   "metadata": {},
   "outputs": [
    {
     "name": "stdout",
     "output_type": "stream",
     "text": [
      "p = 0.2585q + 1.9687\n"
     ]
    }
   ],
   "source": [
    "if A>0 :\n",
    "    print (\"p = {:.4f}q + {:.4f}\". format(B,A))\n",
    "else :\n",
    "    print (\"p = {:.4f}q {:.4f}\". format(B,A))"
   ]
  },
  {
   "cell_type": "markdown",
   "metadata": {},
   "source": [
    "**Hitung kembali dalam bentuk bilangan berpangkat**"
   ]
  },
  {
   "cell_type": "code",
   "execution_count": 36,
   "metadata": {},
   "outputs": [],
   "source": [
    "a = np.e**A\n",
    "b = B"
   ]
  },
  {
   "cell_type": "code",
   "execution_count": 37,
   "metadata": {},
   "outputs": [
    {
     "name": "stdout",
     "output_type": "stream",
     "text": [
      "y = 7.1614x^(0.2585)\n"
     ]
    }
   ],
   "source": [
    "print (\"y = {:.4f}x^({:.4f})\".format(a,b))"
   ]
  },
  {
   "cell_type": "markdown",
   "metadata": {},
   "source": [
    "**Koefisien Korelasi ( r ) dan Derajat Kesesuaian ( R ) r-square**"
   ]
  },
  {
   "cell_type": "code",
   "execution_count": 38,
   "metadata": {},
   "outputs": [
    {
     "name": "stdout",
     "output_type": "stream",
     "text": [
      "r = 0.9466 dan r^2 = 0.8961\n"
     ]
    }
   ],
   "source": [
    "yDt = ((p - p.mean())**2).sum()\n",
    "yD = ((p - (q*B) - A)**2).sum()\n",
    "r = np.sqrt((yDt-yD)/yDt)\n",
    "r2 = r**2\n",
    "print('r = {:.4f} dan r^2 = {:.4f}'.format(r,r2))"
   ]
  },
  {
   "cell_type": "markdown",
   "metadata": {},
   "source": [
    "**Plot data dan regresinya**"
   ]
  },
  {
   "cell_type": "code",
   "execution_count": 39,
   "metadata": {},
   "outputs": [
    {
     "data": {
      "text/plain": [
       "array([ 0. ,  0.1,  0.2,  0.3,  0.4,  0.5,  0.6,  0.7,  0.8,  0.9,  1. ,\n",
       "        1.1,  1.2,  1.3,  1.4,  1.5,  1.6,  1.7,  1.8,  1.9,  2. ,  2.1,\n",
       "        2.2,  2.3,  2.4,  2.5,  2.6,  2.7,  2.8,  2.9,  3. ,  3.1,  3.2,\n",
       "        3.3,  3.4,  3.5,  3.6,  3.7,  3.8,  3.9,  4. ,  4.1,  4.2,  4.3,\n",
       "        4.4,  4.5,  4.6,  4.7,  4.8,  4.9,  5. ,  5.1,  5.2,  5.3,  5.4,\n",
       "        5.5,  5.6,  5.7,  5.8,  5.9,  6. ,  6.1,  6.2,  6.3,  6.4,  6.5,\n",
       "        6.6,  6.7,  6.8,  6.9,  7. ,  7.1,  7.2,  7.3,  7.4,  7.5,  7.6,\n",
       "        7.7,  7.8,  7.9,  8. ,  8.1,  8.2,  8.3,  8.4,  8.5,  8.6,  8.7,\n",
       "        8.8,  8.9,  9. ,  9.1,  9.2,  9.3,  9.4,  9.5,  9.6,  9.7,  9.8,\n",
       "        9.9, 10. , 10.1, 10.2, 10.3, 10.4, 10.5, 10.6, 10.7, 10.8, 10.9,\n",
       "       11. , 11.1, 11.2, 11.3, 11.4, 11.5, 11.6, 11.7, 11.8, 11.9, 12. ,\n",
       "       12.1, 12.2, 12.3, 12.4, 12.5, 12.6, 12.7, 12.8, 12.9, 13. , 13.1,\n",
       "       13.2, 13.3, 13.4, 13.5, 13.6, 13.7, 13.8, 13.9, 14. , 14.1, 14.2,\n",
       "       14.3, 14.4, 14.5, 14.6, 14.7, 14.8, 14.9, 15. , 15.1, 15.2, 15.3,\n",
       "       15.4, 15.5, 15.6, 15.7, 15.8, 15.9, 16. , 16.1, 16.2, 16.3, 16.4,\n",
       "       16.5, 16.6, 16.7, 16.8, 16.9, 17. , 17.1, 17.2, 17.3, 17.4, 17.5,\n",
       "       17.6, 17.7, 17.8, 17.9, 18. , 18.1, 18.2, 18.3, 18.4, 18.5, 18.6,\n",
       "       18.7, 18.8, 18.9, 19. , 19.1, 19.2, 19.3, 19.4, 19.5, 19.6, 19.7,\n",
       "       19.8, 19.9, 20. , 20.1, 20.2, 20.3, 20.4, 20.5, 20.6, 20.7, 20.8,\n",
       "       20.9, 21. , 21.1, 21.2, 21.3, 21.4, 21.5, 21.6, 21.7, 21.8, 21.9,\n",
       "       22. , 22.1, 22.2, 22.3, 22.4, 22.5, 22.6, 22.7, 22.8, 22.9, 23. ,\n",
       "       23.1, 23.2, 23.3, 23.4, 23.5, 23.6, 23.7, 23.8, 23.9, 24. , 24.1,\n",
       "       24.2, 24.3, 24.4, 24.5, 24.6, 24.7, 24.8, 24.9, 25. , 25.1, 25.2,\n",
       "       25.3, 25.4, 25.5, 25.6, 25.7, 25.8, 25.9, 26. , 26.1, 26.2, 26.3,\n",
       "       26.4, 26.5, 26.6, 26.7, 26.8, 26.9, 27. , 27.1, 27.2, 27.3, 27.4,\n",
       "       27.5, 27.6, 27.7, 27.8, 27.9, 28. , 28.1, 28.2, 28.3, 28.4, 28.5,\n",
       "       28.6, 28.7, 28.8, 28.9, 29. , 29.1, 29.2, 29.3, 29.4, 29.5, 29.6,\n",
       "       29.7, 29.8, 29.9, 30. , 30.1, 30.2, 30.3, 30.4, 30.5, 30.6, 30.7,\n",
       "       30.8, 30.9, 31. , 31.1, 31.2, 31.3, 31.4, 31.5, 31.6, 31.7, 31.8,\n",
       "       31.9, 32. , 32.1, 32.2, 32.3, 32.4, 32.5, 32.6, 32.7, 32.8, 32.9,\n",
       "       33. , 33.1, 33.2, 33.3, 33.4, 33.5, 33.6, 33.7, 33.8, 33.9, 34. ,\n",
       "       34.1, 34.2, 34.3, 34.4, 34.5, 34.6, 34.7, 34.8, 34.9, 35. , 35.1,\n",
       "       35.2, 35.3, 35.4, 35.5, 35.6, 35.7, 35.8, 35.9, 36. , 36.1, 36.2,\n",
       "       36.3, 36.4, 36.5, 36.6, 36.7, 36.8, 36.9, 37. , 37.1, 37.2, 37.3,\n",
       "       37.4, 37.5, 37.6, 37.7, 37.8, 37.9, 38. , 38.1, 38.2, 38.3, 38.4,\n",
       "       38.5, 38.6, 38.7, 38.8, 38.9, 39. , 39.1, 39.2, 39.3, 39.4, 39.5,\n",
       "       39.6, 39.7, 39.8, 39.9, 40. , 40.1, 40.2, 40.3, 40.4, 40.5, 40.6,\n",
       "       40.7, 40.8, 40.9, 41. , 41.1, 41.2, 41.3, 41.4, 41.5, 41.6, 41.7,\n",
       "       41.8, 41.9])"
      ]
     },
     "execution_count": 39,
     "metadata": {},
     "output_type": "execute_result"
    }
   ],
   "source": [
    "#membuat xreg\n",
    "xreg = np.array(range(0,int((x[-1]+1)*10)))\n",
    "xreg = xreg/10 #memperhalus bentuk garis\n",
    "xreg = xreg.astype('float64')\n",
    "xreg"
   ]
  },
  {
   "cell_type": "code",
   "execution_count": 40,
   "metadata": {},
   "outputs": [
    {
     "data": {
      "text/plain": [
       "array([7.16136354e+00, 7.34891027e+00, 7.54136861e+00, 7.73886717e+00,\n",
       "       7.94153797e+00, 8.14951645e+00, 8.36294161e+00, 8.58195610e+00,\n",
       "       8.80670630e+00, 9.03734240e+00, 9.27401856e+00, 9.51689296e+00,\n",
       "       9.76612793e+00, 1.00218900e+01, 1.02843502e+01, 1.05536839e+01,\n",
       "       1.08300710e+01, 1.11136964e+01, 1.14047496e+01, 1.17034250e+01,\n",
       "       1.20099224e+01, 1.23244465e+01, 1.26472077e+01, 1.29784215e+01,\n",
       "       1.33183093e+01, 1.36670984e+01, 1.40250218e+01, 1.43923188e+01,\n",
       "       1.47692347e+01, 1.51560217e+01, 1.55529380e+01, 1.59602491e+01,\n",
       "       1.63782271e+01, 1.68071514e+01, 1.72473087e+01, 1.76989932e+01,\n",
       "       1.81625066e+01, 1.86381589e+01, 1.91262679e+01, 1.96271598e+01,\n",
       "       2.01411694e+01, 2.06686402e+01, 2.12099248e+01, 2.17653850e+01,\n",
       "       2.23353919e+01, 2.29203266e+01, 2.35205799e+01, 2.41365531e+01,\n",
       "       2.47686578e+01, 2.54173166e+01, 2.60829628e+01, 2.67660414e+01,\n",
       "       2.74670090e+01, 2.81863340e+01, 2.89244972e+01, 2.96819919e+01,\n",
       "       3.04593244e+01, 3.12570142e+01, 3.20755945e+01, 3.29156123e+01,\n",
       "       3.37776291e+01, 3.46622209e+01, 3.55699791e+01, 3.65015103e+01,\n",
       "       3.74574370e+01, 3.84383983e+01, 3.94450496e+01, 4.04780638e+01,\n",
       "       4.15381313e+01, 4.26259605e+01, 4.37422786e+01, 4.48878316e+01,\n",
       "       4.60633851e+01, 4.72697249e+01, 4.85076571e+01, 4.97780091e+01,\n",
       "       5.10816299e+01, 5.24193909e+01, 5.37921861e+01, 5.52009331e+01,\n",
       "       5.66465732e+01, 5.81300728e+01, 5.96524233e+01, 6.12146421e+01,\n",
       "       6.28177734e+01, 6.44628886e+01, 6.61510873e+01, 6.78834976e+01,\n",
       "       6.96612775e+01, 7.14856152e+01, 7.33577298e+01, 7.52788727e+01,\n",
       "       7.72503278e+01, 7.92734127e+01, 8.13494796e+01, 8.34799159e+01,\n",
       "       8.56661456e+01, 8.79096298e+01, 9.02118679e+01, 9.25743986e+01,\n",
       "       9.49988008e+01, 9.74866950e+01, 1.00039744e+02, 1.02659654e+02,\n",
       "       1.05348176e+02, 1.08107106e+02, 1.10938290e+02, 1.13843619e+02,\n",
       "       1.16825034e+02, 1.19884528e+02, 1.23024147e+02, 1.26245989e+02,\n",
       "       1.29552206e+02, 1.32945008e+02, 1.36426664e+02, 1.39999500e+02,\n",
       "       1.43665903e+02, 1.47428325e+02, 1.51289280e+02, 1.55251348e+02,\n",
       "       1.59317177e+02, 1.63489486e+02, 1.67771061e+02, 1.72164766e+02,\n",
       "       1.76673535e+02, 1.81300384e+02, 1.86048404e+02, 1.90920768e+02,\n",
       "       1.95920733e+02, 2.01051640e+02, 2.06316919e+02, 2.11720089e+02,\n",
       "       2.17264761e+02, 2.22954641e+02, 2.28793531e+02, 2.34785334e+02,\n",
       "       2.40934054e+02, 2.47243801e+02, 2.53718793e+02, 2.60363356e+02,\n",
       "       2.67181931e+02, 2.74179076e+02, 2.81359467e+02, 2.88727903e+02,\n",
       "       2.96289308e+02, 3.04048737e+02, 3.12011376e+02, 3.20182545e+02,\n",
       "       3.28567707e+02, 3.37172465e+02, 3.46002570e+02, 3.55063924e+02,\n",
       "       3.64362583e+02, 3.73904762e+02, 3.83696838e+02, 3.93745356e+02,\n",
       "       4.04057031e+02, 4.14638756e+02, 4.25497602e+02, 4.36640827e+02,\n",
       "       4.48075878e+02, 4.59810399e+02, 4.71852231e+02, 4.84209423e+02,\n",
       "       4.96890234e+02, 5.09903138e+02, 5.23256834e+02, 5.36960245e+02,\n",
       "       5.51022531e+02, 5.65453089e+02, 5.80261565e+02, 5.95457856e+02,\n",
       "       6.11052117e+02, 6.27054772e+02, 6.43476515e+02, 6.60328322e+02,\n",
       "       6.77621456e+02, 6.95367475e+02, 7.13578239e+02, 7.32265918e+02,\n",
       "       7.51443004e+02, 7.71122312e+02, 7.91316995e+02, 8.12040551e+02,\n",
       "       8.33306830e+02, 8.55130044e+02, 8.77524781e+02, 9.00506005e+02,\n",
       "       9.24089078e+02, 9.48289761e+02, 9.73124228e+02, 9.98609077e+02,\n",
       "       1.02476134e+03, 1.05159850e+03, 1.07913849e+03, 1.10739971e+03,\n",
       "       1.13640106e+03, 1.16616191e+03, 1.19670217e+03, 1.22804223e+03,\n",
       "       1.26020305e+03, 1.29320612e+03, 1.32707349e+03, 1.36182781e+03,\n",
       "       1.39749229e+03, 1.43409079e+03, 1.47164775e+03, 1.51018827e+03,\n",
       "       1.54973813e+03, 1.59032374e+03, 1.63197224e+03, 1.67471145e+03,\n",
       "       1.71856995e+03, 1.76357705e+03, 1.80976282e+03, 1.85715814e+03,\n",
       "       1.90579468e+03, 1.95570495e+03, 2.00692230e+03, 2.05948096e+03,\n",
       "       2.11341607e+03, 2.16876367e+03, 2.22556075e+03, 2.28384528e+03,\n",
       "       2.34365619e+03, 2.40503348e+03, 2.46801816e+03, 2.53265232e+03,\n",
       "       2.59897917e+03, 2.66704303e+03, 2.73688939e+03, 2.80856494e+03,\n",
       "       2.88211758e+03, 2.95759647e+03, 3.03505204e+03, 3.11453608e+03,\n",
       "       3.19610170e+03, 3.27980342e+03, 3.36569718e+03, 3.45384038e+03,\n",
       "       3.54429194e+03, 3.63711230e+03, 3.73236351e+03, 3.83010922e+03,\n",
       "       3.93041477e+03, 4.03334718e+03, 4.13897526e+03, 4.24736961e+03,\n",
       "       4.35860265e+03, 4.47274875e+03, 4.58988418e+03, 4.71008724e+03,\n",
       "       4.83343826e+03, 4.96001967e+03, 5.08991609e+03, 5.22321433e+03,\n",
       "       5.36000347e+03, 5.50037495e+03, 5.64442256e+03, 5.79224260e+03,\n",
       "       5.94393385e+03, 6.09959769e+03, 6.25933817e+03, 6.42326204e+03,\n",
       "       6.59147886e+03, 6.76410106e+03, 6.94124401e+03, 7.12302610e+03,\n",
       "       7.30956882e+03, 7.50099686e+03, 7.69743814e+03, 7.89902397e+03,\n",
       "       8.10588906e+03, 8.31817168e+03, 8.53601370e+03, 8.75956073e+03,\n",
       "       8.98896215e+03, 9.22437130e+03, 9.46594550e+03, 9.71384622e+03,\n",
       "       9.96823913e+03, 1.02292943e+04, 1.04971861e+04, 1.07720936e+04,\n",
       "       1.10542007e+04, 1.13436957e+04, 1.16407722e+04, 1.19456288e+04,\n",
       "       1.22584692e+04, 1.25795025e+04, 1.29089431e+04, 1.32470115e+04,\n",
       "       1.35939333e+04, 1.39499407e+04, 1.43152713e+04, 1.46901695e+04,\n",
       "       1.50748858e+04, 1.54696774e+04, 1.58748080e+04, 1.62905484e+04,\n",
       "       1.67171765e+04, 1.71549775e+04, 1.76042439e+04, 1.80652760e+04,\n",
       "       1.85383819e+04, 1.90238778e+04, 1.95220883e+04, 2.00333462e+04,\n",
       "       2.05579933e+04, 2.10963802e+04, 2.16488668e+04, 2.22158223e+04,\n",
       "       2.27976256e+04, 2.33946655e+04, 2.40073412e+04, 2.46360620e+04,\n",
       "       2.52812482e+04, 2.59433310e+04, 2.66227529e+04, 2.73199679e+04,\n",
       "       2.80354421e+04, 2.87696536e+04, 2.95230932e+04, 3.02962643e+04,\n",
       "       3.10896838e+04, 3.19038819e+04, 3.27394028e+04, 3.35968049e+04,\n",
       "       3.44766612e+04, 3.53795598e+04, 3.63061041e+04, 3.72569135e+04,\n",
       "       3.82326232e+04, 3.92338856e+04, 4.02613697e+04, 4.13157622e+04,\n",
       "       4.23977679e+04, 4.35081099e+04, 4.46475304e+04, 4.58167907e+04,\n",
       "       4.70166725e+04, 4.82479776e+04, 4.95115289e+04, 5.08081710e+04,\n",
       "       5.21387705e+04, 5.35042166e+04, 5.49054220e+04, 5.63433231e+04,\n",
       "       5.78188809e+04, 5.93330817e+04, 6.08869374e+04, 6.24814866e+04,\n",
       "       6.41177949e+04, 6.57969559e+04, 6.75200921e+04, 6.92883548e+04,\n",
       "       7.11029261e+04, 7.29650187e+04, 7.48758769e+04, 7.68367781e+04,\n",
       "       7.88490327e+04, 8.09139856e+04, 8.30330169e+04, 8.52075429e+04,\n",
       "       8.74390169e+04, 8.97289302e+04, 9.20788134e+04, 9.44902370e+04,\n",
       "       9.69648125e+04, 9.95041940e+04, 1.02110079e+05, 1.04784208e+05,\n",
       "       1.07528369e+05, 1.10344396e+05, 1.13234171e+05, 1.16199626e+05,\n",
       "       1.19242742e+05, 1.22365553e+05, 1.25570147e+05, 1.28858665e+05,\n",
       "       1.32233304e+05, 1.35696321e+05, 1.39250030e+05, 1.42896806e+05,\n",
       "       1.46639087e+05, 1.50479372e+05, 1.54420230e+05, 1.58464293e+05,\n",
       "       1.62614266e+05, 1.66872920e+05, 1.71243104e+05, 1.75727736e+05,\n",
       "       1.80329816e+05, 1.85052417e+05, 1.89898698e+05, 1.94871896e+05,\n",
       "       1.99975336e+05, 2.05212428e+05, 2.10586673e+05, 2.16101662e+05,\n",
       "       2.21761081e+05, 2.27568714e+05, 2.33528440e+05, 2.39644244e+05,\n",
       "       2.45920213e+05, 2.52360542e+05, 2.58969534e+05, 2.65751607e+05,\n",
       "       2.72711293e+05, 2.79853245e+05, 2.87182235e+05, 2.94703162e+05,\n",
       "       3.02421052e+05, 3.10341063e+05, 3.18468489e+05, 3.26808762e+05,\n",
       "       3.35367455e+05, 3.44150290e+05, 3.53163135e+05, 3.62412015e+05])"
      ]
     },
     "execution_count": 40,
     "metadata": {},
     "output_type": "execute_result"
    }
   ],
   "source": [
    "#membuat yreg\n",
    "yreg = a*np.e**(b*xreg)\n",
    "yreg"
   ]
  },
  {
   "cell_type": "code",
   "execution_count": 41,
   "metadata": {},
   "outputs": [
    {
     "data": {
      "text/plain": [
       "Text(0, 0.5, 'y-banyak orang')"
      ]
     },
     "execution_count": 41,
     "metadata": {},
     "output_type": "execute_result"
    },
    {
     "data": {
      "image/png": "[encoded data removed]",
      "text/plain": [
       "<Figure size 432x288 with 1 Axes>"
      ]
     },
     "metadata": {
      "needs_background": "light"
     },
     "output_type": "display_data"
    }
   ],
   "source": [
    "ax = plt.plot(x,y,'ro')\n",
    "plt.plot(xreg,yreg,'b')\n",
    "plt.grid()\n",
    "plt.xlabel('x-hari ke')\n",
    "plt.ylabel('y-banyak orang')"
   ]
  },
  {
   "cell_type": "markdown",
   "metadata": {},
   "source": [
    "**Selesai**"
   ]
  },
  {
   "cell_type": "markdown",
   "metadata": {},
   "source": [
    "#### Regresi Polinomial"
   ]
  },
  {
   "cell_type": "code",
   "execution_count": 42,
   "metadata": {},
   "outputs": [
    {
     "data": {
      "text/plain": [
       "array([3.0000e+00, 3.0000e+00, 3.0000e+00, 3.0000e+00, 3.0000e+00,\n",
       "       4.0000e+00, 1.9000e+01, 7.5000e+01, 1.5200e+02, 2.2100e+02,\n",
       "       3.1000e+02, 4.5500e+02, 5.9300e+02, 8.2200e+02, 1.0490e+03,\n",
       "       1.5770e+03, 1.8350e+03, 2.2630e+03, 2.7060e+03, 3.2960e+03,\n",
       "       3.9160e+03, 5.0610e+03, 6.3870e+03, 7.9850e+03, 8.5140e+03,\n",
       "       1.0590e+04, 1.2839e+04, 1.4955e+04, 1.7750e+04, 2.0603e+04,\n",
       "       2.3073e+04, 2.6062e+04, 2.8710e+04, 3.3190e+04, 3.7860e+04,\n",
       "       4.2681e+04, 4.6638e+04, 5.0418e+04, 5.4030e+04, 5.7521e+04,\n",
       "       6.2013e+04])"
      ]
     },
     "execution_count": 42,
     "metadata": {},
     "output_type": "execute_result"
    }
   ],
   "source": [
    "y = np.array ((3, 3, 3, 3, 3, 4, 19, 75, 152, 221, 310, 455, 593, 822, 1049, 1577, 1835, 2263, 2706, 3296, 3916, 5061, 6387, 7985, 8514, 10590, 12839, 14955, 17750, 20603, 23073, 26062, 28710, 33190, 37860, 42681, 46638, 50418, 54030, 57521, 62013))\n",
    "y = y.astype('float64')\n",
    "y"
   ]
  },
  {
   "cell_type": "code",
   "execution_count": 43,
   "metadata": {},
   "outputs": [
    {
     "data": {
      "text/plain": [
       "array([ 1.,  2.,  3.,  4.,  5.,  6.,  7.,  8.,  9., 10., 11., 12., 13.,\n",
       "       14., 15., 16., 17., 18., 19., 20., 21., 22., 23., 24., 25., 26.,\n",
       "       27., 28., 29., 30., 31., 32., 33., 34., 35., 36., 37., 38., 39.,\n",
       "       40., 41.])"
      ]
     },
     "execution_count": 43,
     "metadata": {},
     "output_type": "execute_result"
    }
   ],
   "source": [
    "x = np.array((range(1,1+len(y))))\n",
    "x = x.astype('float64')\n",
    "x"
   ]
  },
  {
   "cell_type": "markdown",
   "metadata": {},
   "source": [
    "**Membentuk regresi polinomial dari matriks**"
   ]
  },
  {
   "attachments": {
    "image.png": {
     "image/png": "[encoded data removed]"
    }
   },
   "cell_type": "markdown",
   "metadata": {},
   "source": [
    "![image.png](attachment:image.png)"
   ]
  },
  {
   "cell_type": "markdown",
   "metadata": {},
   "source": [
    "**Mendefinisikan elemen-elemen matriks kiri**"
   ]
  },
  {
   "cell_type": "code",
   "execution_count": 44,
   "metadata": {},
   "outputs": [
    {
     "data": {
      "text/plain": [
       "array([[4.10000000e+01, 8.61000000e+02, 2.38210000e+04, 7.41321000e+05],\n",
       "       [8.61000000e+02, 2.38210000e+04, 7.41321000e+05, 2.46070930e+07],\n",
       "       [2.38210000e+04, 7.41321000e+05, 2.46070930e+07, 8.50789401e+08],\n",
       "       [7.41321000e+05, 2.46070930e+07, 8.50789401e+08, 3.02550079e+10]])"
      ]
     },
     "execution_count": 44,
     "metadata": {},
     "output_type": "execute_result"
    }
   ],
   "source": [
    "n = len(y)\n",
    "a = x.sum()\n",
    "b = (x**2).sum()\n",
    "c = (x**3).sum()\n",
    "d = (x**4).sum()\n",
    "e = (x**5).sum()\n",
    "f = (x**6).sum()\n",
    "A = np.array(([n, a, b, c],\n",
    "    [a, b, c, d],\n",
    "    [b, c, d, e],\n",
    "    [c, d, e, f]))\n",
    "A"
   ]
  },
  {
   "cell_type": "markdown",
   "metadata": {},
   "source": [
    "**Mendefinisikan elemen-elemen matriks kanan**"
   ]
  },
  {
   "cell_type": "code",
   "execution_count": 45,
   "metadata": {},
   "outputs": [
    {
     "data": {
      "text/plain": [
       "array([[5.86188000e+05],\n",
       "       [2.02600250e+07],\n",
       "       [7.19087439e+08],\n",
       "       [2.60313061e+10]])"
      ]
     },
     "execution_count": 45,
     "metadata": {},
     "output_type": "execute_result"
    }
   ],
   "source": [
    "g = y.sum()\n",
    "h = (x*y).sum()\n",
    "i = ((x**2)*y).sum()\n",
    "j = ((x**3)*y).sum()\n",
    "B = np.array(([g],\n",
    "    [h],\n",
    "    [i],\n",
    "    [j]))\n",
    "B"
   ]
  },
  {
   "cell_type": "markdown",
   "metadata": {},
   "source": [
    "**Invers matriks sisi kiri**"
   ]
  },
  {
   "cell_type": "code",
   "execution_count": 46,
   "metadata": {},
   "outputs": [
    {
     "data": {
      "text/plain": [
       "array([[ 4.71264935e-01, -8.50613871e-02,  4.09795596e-03,\n",
       "        -5.76017906e-05],\n",
       "       [-8.50613871e-02,  1.95585587e-02, -1.04382586e-03,\n",
       "         1.55298092e-05],\n",
       "       [ 4.09795596e-03, -1.04382586e-03,  5.90991836e-05,\n",
       "        -9.13347631e-07],\n",
       "       [-5.76017906e-05,  1.55298092e-05, -9.13347631e-07,\n",
       "         1.44975814e-08]])"
      ]
     },
     "execution_count": 46,
     "metadata": {},
     "output_type": "execute_result"
    }
   ],
   "source": [
    "Ainv = np.linalg.inv(A)\n",
    "Ainv"
   ]
  },
  {
   "cell_type": "markdown",
   "metadata": {},
   "source": [
    "**Mencari nilai a0, a1, a2, dst dengan a = (A^-1)B namun di sini variabel a diganti dengan Y**"
   ]
  },
  {
   "cell_type": "code",
   "execution_count": 47,
   "metadata": {},
   "outputs": [
    {
     "name": "stdout",
     "output_type": "stream",
     "text": [
      "[[242.83578553]\n",
      " [ 54.0747843 ]\n",
      " [-23.91661721]\n",
      " [  1.48301624]]\n"
     ]
    }
   ],
   "source": [
    "Y = Ainv.dot(B)\n",
    "print(Y)"
   ]
  },
  {
   "cell_type": "code",
   "execution_count": 48,
   "metadata": {},
   "outputs": [],
   "source": [
    "a0 = Y[0,0]\n",
    "a1 = Y[1,0]\n",
    "a2 = Y[2,0]\n",
    "a3 = Y[3,0]"
   ]
  },
  {
   "cell_type": "markdown",
   "metadata": {},
   "source": [
    "**Hasil persamaan regresi polinomial**"
   ]
  },
  {
   "cell_type": "code",
   "execution_count": 49,
   "metadata": {},
   "outputs": [
    {
     "name": "stdout",
     "output_type": "stream",
     "text": [
      "y = 1.4830x^3 + -23.9166X^2 + 54.0748x + 242.8358\n"
     ]
    }
   ],
   "source": [
    "print('y = {:.4f}x^3 + {:.4f}X^2 + {:.4f}x + {:.4f}'.format(a3, a2, a1, a0))"
   ]
  },
  {
   "cell_type": "code",
   "execution_count": 50,
   "metadata": {},
   "outputs": [
    {
     "data": {
      "text/plain": [
       "array([3.0000e+00, 3.0000e+00, 3.0000e+00, 3.0000e+00, 3.0000e+00,\n",
       "       4.0000e+00, 1.9000e+01, 7.5000e+01, 1.5200e+02, 2.2100e+02,\n",
       "       3.1000e+02, 4.5500e+02, 5.9300e+02, 8.2200e+02, 1.0490e+03,\n",
       "       1.5770e+03, 1.8350e+03, 2.2630e+03, 2.7060e+03, 3.2960e+03,\n",
       "       3.9160e+03, 5.0610e+03, 6.3870e+03, 7.9850e+03, 8.5140e+03,\n",
       "       1.0590e+04, 1.2839e+04, 1.4955e+04, 1.7750e+04, 2.0603e+04,\n",
       "       2.3073e+04, 2.6062e+04, 2.8710e+04, 3.3190e+04, 3.7860e+04,\n",
       "       4.2681e+04, 4.6638e+04, 5.0418e+04, 5.4030e+04, 5.7521e+04,\n",
       "       6.2013e+04])"
      ]
     },
     "execution_count": 50,
     "metadata": {},
     "output_type": "execute_result"
    }
   ],
   "source": [
    "y"
   ]
  },
  {
   "cell_type": "markdown",
   "metadata": {},
   "source": [
    "**Koefisien Korelasi ( r ) dan Derajat Kesesuaian ( R ) r-square**"
   ]
  },
  {
   "cell_type": "code",
   "execution_count": 51,
   "metadata": {},
   "outputs": [
    {
     "name": "stdout",
     "output_type": "stream",
     "text": [
      "r = 0.9990 dan r^2 = 0.8961\n"
     ]
    }
   ],
   "source": [
    "yDt = (y-y.mean())**2\n",
    "yD = (y-a0-a1*x-a2*(x**2)-a3*(x**3))**2\n",
    "r = np.sqrt((yDt.sum()-yD.sum())/yDt.sum())\n",
    "R2 = r**2\n",
    "print('r = {:.4f} dan r^2 = {:.4f}'.format(r,r2))"
   ]
  },
  {
   "cell_type": "markdown",
   "metadata": {},
   "source": [
    "**Plot**"
   ]
  },
  {
   "cell_type": "code",
   "execution_count": 52,
   "metadata": {},
   "outputs": [
    {
     "data": {
      "text/plain": [
       "Text(0, 0.5, 'y')"
      ]
     },
     "execution_count": 52,
     "metadata": {},
     "output_type": "execute_result"
    },
    {
     "data": {
      "image/png": "[encoded data removed]",
      "text/plain": [
       "<Figure size 432x288 with 1 Axes>"
      ]
     },
     "metadata": {
      "needs_background": "light"
     },
     "output_type": "display_data"
    }
   ],
   "source": [
    "xreg = np.array(range(0,int((x[-1]+0.5)*10)))\n",
    "xreg = xreg/10\n",
    "yreg = a0 + a1*xreg + a2*(xreg**2) + a3*(xreg**3)\n",
    "ax = plt.plot(x,y,'ro')\n",
    "plt.plot(xreg,yreg,'b')\n",
    "plt.grid()\n",
    "plt.xlabel('x')\n",
    "plt.ylabel('y')"
   ]
  },
  {
   "cell_type": "markdown",
   "metadata": {},
   "source": [
    "**Perbandingan jika memakai polyfit dengan derajat dinaikkan**"
   ]
  },
  {
   "cell_type": "code",
   "execution_count": 53,
   "metadata": {},
   "outputs": [
    {
     "data": {
      "image/png": "[encoded data removed]",
      "text/plain": [
       "<Figure size 432x288 with 1 Axes>"
      ]
     },
     "metadata": {
      "needs_background": "light"
     },
     "output_type": "display_data"
    }
   ],
   "source": [
    "regpoly = np.poly1d(np.polyfit(x, y, 5))\n",
    "\n",
    "myline = np.linspace(1, 41, 100)\n",
    "\n",
    "plt.scatter(x, y)\n",
    "plt.plot(myline, regpoly(myline), linewidth=3, color='r')\n",
    "plt.show()"
   ]
  },
  {
   "cell_type": "code",
   "execution_count": 54,
   "metadata": {},
   "outputs": [
    {
     "name": "stdout",
     "output_type": "stream",
     "text": [
      "           5          4         3         2\n",
      "-0.003966 x + 0.3796 x - 11.07 x + 142.9 x - 718.7 x + 948.7\n"
     ]
    }
   ],
   "source": [
    "print (regpoly)"
   ]
  },
  {
   "cell_type": "code",
   "execution_count": 55,
   "metadata": {},
   "outputs": [
    {
     "name": "stdout",
     "output_type": "stream",
     "text": [
      "0.9995515270217205\n"
     ]
    }
   ],
   "source": [
    "print(r2_score(y, regpoly(x)))"
   ]
  },
  {
   "cell_type": "markdown",
   "metadata": {},
   "source": [
    "**Selesai**"
   ]
  },
  {
   "cell_type": "markdown",
   "metadata": {},
   "source": [
    "### Total Death"
   ]
  },
  {
   "cell_type": "markdown",
   "metadata": {},
   "source": [
    "- Start: 21-Feb-2020\n",
    "- End: 26-Mar-2020\n",
    "- Range: 35 Days"
   ]
  },
  {
   "cell_type": "markdown",
   "metadata": {},
   "source": [
    "**Data**"
   ]
  },
  {
   "cell_type": "code",
   "execution_count": 56,
   "metadata": {},
   "outputs": [
    {
     "data": {
      "text/plain": [
       "array([1.000e+00, 2.000e+00, 3.000e+00, 7.000e+00, 1.100e+01, 1.200e+01,\n",
       "       1.700e+01, 2.100e+01, 2.900e+01, 4.100e+01, 5.200e+01, 7.900e+01,\n",
       "       1.070e+02, 1.480e+02, 1.970e+02, 2.330e+02, 3.660e+02, 4.630e+02,\n",
       "       6.310e+02, 8.270e+02, 1.016e+03, 1.266e+03, 1.441e+03, 1.809e+03,\n",
       "       2.158e+03, 2.503e+03, 2.978e+03, 3.405e+03, 4.032e+03, 4.825e+03,\n",
       "       5.476e+03, 6.077e+03, 6.820e+03, 7.503e+03, 8.215e+03])"
      ]
     },
     "execution_count": 56,
     "metadata": {},
     "output_type": "execute_result"
    }
   ],
   "source": [
    "y = np.array ((1, 2, 3, 7, 11, 12, 17, 21, 29, 41, 52, 79, 107, 148, 197, 233, 366, 463, 631, 827, 1016, 1266, 1441, 1809, 2158, 2503, 2978, 3405, 4032, 4825, 5476, 6077, 6820, 7503, 8215))\n",
    "y = y.astype('float64')\n",
    "y"
   ]
  },
  {
   "cell_type": "code",
   "execution_count": 57,
   "metadata": {},
   "outputs": [
    {
     "data": {
      "text/plain": [
       "array([ 1.,  2.,  3.,  4.,  5.,  6.,  7.,  8.,  9., 10., 11., 12., 13.,\n",
       "       14., 15., 16., 17., 18., 19., 20., 21., 22., 23., 24., 25., 26.,\n",
       "       27., 28., 29., 30., 31., 32., 33., 34., 35.])"
      ]
     },
     "execution_count": 57,
     "metadata": {},
     "output_type": "execute_result"
    }
   ],
   "source": [
    "x = np.array((range(1,1+len(y))))\n",
    "x = x.astype('float64')\n",
    "x"
   ]
  },
  {
   "cell_type": "markdown",
   "metadata": {},
   "source": [
    "**Plot**"
   ]
  },
  {
   "cell_type": "code",
   "execution_count": 58,
   "metadata": {},
   "outputs": [
    {
     "data": {
      "text/plain": [
       "Text(0, 0.5, 'y-jumlah orang')"
      ]
     },
     "execution_count": 58,
     "metadata": {},
     "output_type": "execute_result"
    },
    {
     "data": {
      "image/png": "[encoded data removed]",
      "text/plain": [
       "<Figure size 432x288 with 1 Axes>"
      ]
     },
     "metadata": {
      "needs_background": "light"
     },
     "output_type": "display_data"
    }
   ],
   "source": [
    "ax = plt.plot(x,y,'ro')\n",
    "plt.grid()\n",
    "plt.xlabel('x-hari')\n",
    "plt.ylabel('y-jumlah orang')"
   ]
  },
  {
   "cell_type": "markdown",
   "metadata": {},
   "source": [
    "#### Regresi Berpangkat"
   ]
  },
  {
   "cell_type": "markdown",
   "metadata": {},
   "source": [
    "**Data**"
   ]
  },
  {
   "cell_type": "code",
   "execution_count": 59,
   "metadata": {},
   "outputs": [
    {
     "data": {
      "text/plain": [
       "array([1.000e+00, 2.000e+00, 3.000e+00, 7.000e+00, 1.100e+01, 1.200e+01,\n",
       "       1.700e+01, 2.100e+01, 2.900e+01, 4.100e+01, 5.200e+01, 7.900e+01,\n",
       "       1.070e+02, 1.480e+02, 1.970e+02, 2.330e+02, 3.660e+02, 4.630e+02,\n",
       "       6.310e+02, 8.270e+02, 1.016e+03, 1.266e+03, 1.441e+03, 1.809e+03,\n",
       "       2.158e+03, 2.503e+03, 2.978e+03, 3.405e+03, 4.032e+03, 4.825e+03,\n",
       "       5.476e+03, 6.077e+03, 6.820e+03, 7.503e+03, 8.215e+03])"
      ]
     },
     "execution_count": 59,
     "metadata": {},
     "output_type": "execute_result"
    }
   ],
   "source": [
    "y = np.array ((1, 2, 3, 7, 11, 12, 17, 21, 29, 41, 52, 79, 107, 148, 197, 233, 366, 463, 631, 827, 1016, 1266, 1441, 1809, 2158, 2503, 2978, 3405, 4032, 4825, 5476, 6077, 6820, 7503, 8215))\n",
    "y = y.astype('float64')\n",
    "y"
   ]
  },
  {
   "cell_type": "code",
   "execution_count": 60,
   "metadata": {},
   "outputs": [
    {
     "data": {
      "text/plain": [
       "array([ 1.,  2.,  3.,  4.,  5.,  6.,  7.,  8.,  9., 10., 11., 12., 13.,\n",
       "       14., 15., 16., 17., 18., 19., 20., 21., 22., 23., 24., 25., 26.,\n",
       "       27., 28., 29., 30., 31., 32., 33., 34., 35.])"
      ]
     },
     "execution_count": 60,
     "metadata": {},
     "output_type": "execute_result"
    }
   ],
   "source": [
    "x = np.array((range(1,1+len(y))))\n",
    "x = x.astype('float64')\n",
    "x"
   ]
  },
  {
   "attachments": {
    "image.png": {
     "image/png": "[encoded data removed]"
    }
   },
   "cell_type": "markdown",
   "metadata": {},
   "source": [
    "![image.png](attachment:image.png)"
   ]
  },
  {
   "cell_type": "markdown",
   "metadata": {},
   "source": [
    "**Membuat xreg untuk plotting selanjutnya**"
   ]
  },
  {
   "cell_type": "code",
   "execution_count": 61,
   "metadata": {},
   "outputs": [
    {
     "data": {
      "text/plain": [
       "array([ 1. ,  1.1,  1.2,  1.3,  1.4,  1.5,  1.6,  1.7,  1.8,  1.9,  2. ,\n",
       "        2.1,  2.2,  2.3,  2.4,  2.5,  2.6,  2.7,  2.8,  2.9,  3. ,  3.1,\n",
       "        3.2,  3.3,  3.4,  3.5,  3.6,  3.7,  3.8,  3.9,  4. ,  4.1,  4.2,\n",
       "        4.3,  4.4,  4.5,  4.6,  4.7,  4.8,  4.9,  5. ,  5.1,  5.2,  5.3,\n",
       "        5.4,  5.5,  5.6,  5.7,  5.8,  5.9,  6. ,  6.1,  6.2,  6.3,  6.4,\n",
       "        6.5,  6.6,  6.7,  6.8,  6.9,  7. ,  7.1,  7.2,  7.3,  7.4,  7.5,\n",
       "        7.6,  7.7,  7.8,  7.9,  8. ,  8.1,  8.2,  8.3,  8.4,  8.5,  8.6,\n",
       "        8.7,  8.8,  8.9,  9. ,  9.1,  9.2,  9.3,  9.4,  9.5,  9.6,  9.7,\n",
       "        9.8,  9.9, 10. , 10.1, 10.2, 10.3, 10.4, 10.5, 10.6, 10.7, 10.8,\n",
       "       10.9, 11. , 11.1, 11.2, 11.3, 11.4, 11.5, 11.6, 11.7, 11.8, 11.9,\n",
       "       12. , 12.1, 12.2, 12.3, 12.4, 12.5, 12.6, 12.7, 12.8, 12.9, 13. ,\n",
       "       13.1, 13.2, 13.3, 13.4, 13.5, 13.6, 13.7, 13.8, 13.9, 14. , 14.1,\n",
       "       14.2, 14.3, 14.4, 14.5, 14.6, 14.7, 14.8, 14.9, 15. , 15.1, 15.2,\n",
       "       15.3, 15.4, 15.5, 15.6, 15.7, 15.8, 15.9, 16. , 16.1, 16.2, 16.3,\n",
       "       16.4, 16.5, 16.6, 16.7, 16.8, 16.9, 17. , 17.1, 17.2, 17.3, 17.4,\n",
       "       17.5, 17.6, 17.7, 17.8, 17.9, 18. , 18.1, 18.2, 18.3, 18.4, 18.5,\n",
       "       18.6, 18.7, 18.8, 18.9, 19. , 19.1, 19.2, 19.3, 19.4, 19.5, 19.6,\n",
       "       19.7, 19.8, 19.9, 20. , 20.1, 20.2, 20.3, 20.4, 20.5, 20.6, 20.7,\n",
       "       20.8, 20.9, 21. , 21.1, 21.2, 21.3, 21.4, 21.5, 21.6, 21.7, 21.8,\n",
       "       21.9, 22. , 22.1, 22.2, 22.3, 22.4, 22.5, 22.6, 22.7, 22.8, 22.9,\n",
       "       23. , 23.1, 23.2, 23.3, 23.4, 23.5, 23.6, 23.7, 23.8, 23.9, 24. ,\n",
       "       24.1, 24.2, 24.3, 24.4, 24.5, 24.6, 24.7, 24.8, 24.9, 25. , 25.1,\n",
       "       25.2, 25.3, 25.4, 25.5, 25.6, 25.7, 25.8, 25.9, 26. , 26.1, 26.2,\n",
       "       26.3, 26.4, 26.5, 26.6, 26.7, 26.8, 26.9, 27. , 27.1, 27.2, 27.3,\n",
       "       27.4, 27.5, 27.6, 27.7, 27.8, 27.9, 28. , 28.1, 28.2, 28.3, 28.4,\n",
       "       28.5, 28.6, 28.7, 28.8, 28.9, 29. , 29.1, 29.2, 29.3, 29.4, 29.5,\n",
       "       29.6, 29.7, 29.8, 29.9, 30. , 30.1, 30.2, 30.3, 30.4, 30.5, 30.6,\n",
       "       30.7, 30.8, 30.9, 31. , 31.1, 31.2, 31.3, 31.4, 31.5, 31.6, 31.7,\n",
       "       31.8, 31.9, 32. , 32.1, 32.2, 32.3, 32.4, 32.5, 32.6, 32.7, 32.8,\n",
       "       32.9, 33. , 33.1, 33.2, 33.3, 33.4, 33.5, 33.6, 33.7, 33.8, 33.9,\n",
       "       34. , 34.1, 34.2, 34.3, 34.4, 34.5, 34.6, 34.7, 34.8, 34.9, 35. ,\n",
       "       35.1, 35.2, 35.3, 35.4, 35.5, 35.6, 35.7, 35.8, 35.9])"
      ]
     },
     "execution_count": 61,
     "metadata": {},
     "output_type": "execute_result"
    }
   ],
   "source": [
    "#membuat xreg\n",
    "xreg = np.array(range(10,int((x[-1]+1)*10)))\n",
    "xreg = xreg/10 #memperhalus bentuk garis\n",
    "xreg = xreg.astype('float64')\n",
    "xreg"
   ]
  },
  {
   "cell_type": "markdown",
   "metadata": {},
   "source": [
    "**Regresi berpangkat**"
   ]
  },
  {
   "attachments": {
    "image.png": {
     "image/png": "[encoded data removed]"
    }
   },
   "cell_type": "markdown",
   "metadata": {},
   "source": [
    "![image.png](attachment:image.png)"
   ]
  },
  {
   "attachments": {
    "image.png": {
     "image/png": "[encoded data removed]"
    }
   },
   "cell_type": "markdown",
   "metadata": {},
   "source": [
    "![image.png](attachment:image.png)"
   ]
  },
  {
   "attachments": {
    "image.png": {
     "image/png": "[encoded data removed]"
    }
   },
   "cell_type": "markdown",
   "metadata": {},
   "source": [
    "![image.png](attachment:image.png)"
   ]
  },
  {
   "cell_type": "code",
   "execution_count": 62,
   "metadata": {},
   "outputs": [],
   "source": [
    "p = np.log10(y)\n",
    "q = np.log10(x)"
   ]
  },
  {
   "cell_type": "markdown",
   "metadata": {},
   "source": [
    "**Hitung regresi linear**"
   ]
  },
  {
   "cell_type": "code",
   "execution_count": 63,
   "metadata": {},
   "outputs": [],
   "source": [
    "n = len(y)\n",
    "pq = p*q\n",
    "qq = q**2\n",
    "B = (n*pq.sum() - q.sum()*p.sum())/(n*qq.sum() - (q.sum())**2)\n",
    "A = p.mean()-B*q.mean()"
   ]
  },
  {
   "cell_type": "markdown",
   "metadata": {},
   "source": [
    "**Hasil regresi linear**"
   ]
  },
  {
   "cell_type": "code",
   "execution_count": 64,
   "metadata": {},
   "outputs": [
    {
     "name": "stdout",
     "output_type": "stream",
     "text": [
      "p = 2.9685q -0.9512\n"
     ]
    }
   ],
   "source": [
    "if A>0 :\n",
    "    print (\"p = {:.4f}q + {:.4f}\". format(B,A))\n",
    "else :\n",
    "    print (\"p = {:.4f}q {:.4f}\". format(B,A))"
   ]
  },
  {
   "cell_type": "markdown",
   "metadata": {},
   "source": [
    "**Kembalikan ke bentuk pangkat**"
   ]
  },
  {
   "cell_type": "code",
   "execution_count": 65,
   "metadata": {},
   "outputs": [
    {
     "name": "stdout",
     "output_type": "stream",
     "text": [
      "y = 0.1119x^(2.9685)\n"
     ]
    }
   ],
   "source": [
    "a = 10**A #A=log(a)\n",
    "b = B\n",
    "print (\"y = {:.4f}x^({:.4f})\".format(a,b))"
   ]
  },
  {
   "cell_type": "markdown",
   "metadata": {},
   "source": [
    "**Koefisien Korelasi ( r ) dan Derajat Kesesuaian ( R ) r-square**"
   ]
  },
  {
   "cell_type": "code",
   "execution_count": 66,
   "metadata": {},
   "outputs": [
    {
     "name": "stdout",
     "output_type": "stream",
     "text": [
      "r = 0.9662 dan r^2 = 0.9336\n"
     ]
    }
   ],
   "source": [
    "yDt = ((p - p.mean())**2).sum()\n",
    "yD = ((p - (q*B) - A)**2).sum()\n",
    "r = np.sqrt((yDt-yD)/yDt)\n",
    "r2 = r**2\n",
    "print('r = {:.4f} dan r^2 = {:.4f}'.format(r,r2))"
   ]
  },
  {
   "cell_type": "markdown",
   "metadata": {},
   "source": [
    "**Plot**"
   ]
  },
  {
   "cell_type": "code",
   "execution_count": 67,
   "metadata": {},
   "outputs": [
    {
     "data": {
      "text/plain": [
       "array([1.11894528e-01, 1.48485717e-01, 1.92247865e-01, 2.43811518e-01,\n",
       "       3.03805569e-01, 3.72857386e-01, 4.51592926e-01, 5.40636834e-01,\n",
       "       6.40612526e-01, 7.52142264e-01, 8.75847220e-01, 1.01234754e+00,\n",
       "       1.16226240e+00, 1.32621003e+00, 1.50480779e+00, 1.69867221e+00,\n",
       "       1.90841898e+00, 2.13466303e+00, 2.37801855e+00, 2.63909901e+00,\n",
       "       2.91851720e+00, 3.21688523e+00, 3.53481458e+00, 3.87291610e+00,\n",
       "       4.23180004e+00, 4.61207609e+00, 5.01435334e+00, 5.43924036e+00,\n",
       "       5.88734519e+00, 6.35927532e+00, 6.85563778e+00, 7.37703908e+00,\n",
       "       7.92408526e+00, 8.49738191e+00, 9.09753415e+00, 9.72514666e+00,\n",
       "       1.03808237e+01, 1.10651691e+01, 1.17787862e+01, 1.25222781e+01,\n",
       "       1.32962474e+01, 1.41012964e+01, 1.49380268e+01, 1.58070401e+01,\n",
       "       1.67089375e+01, 1.76443198e+01, 1.86137872e+01, 1.96179400e+01,\n",
       "       2.06573778e+01, 2.17327000e+01, 2.28445057e+01, 2.39933936e+01,\n",
       "       2.51799622e+01, 2.64048097e+01, 2.76685337e+01, 2.89717320e+01,\n",
       "       3.03150016e+01, 3.16989396e+01, 3.31241426e+01, 3.45912070e+01,\n",
       "       3.61007289e+01, 3.76533041e+01, 3.92495282e+01, 4.08899965e+01,\n",
       "       4.25753041e+01, 4.43060456e+01, 4.60828157e+01, 4.79062087e+01,\n",
       "       4.97768185e+01, 5.16952390e+01, 5.36620637e+01, 5.56778860e+01,\n",
       "       5.77432988e+01, 5.98588952e+01, 6.20252676e+01, 6.42430086e+01,\n",
       "       6.65127103e+01, 6.88349646e+01, 7.12103633e+01, 7.36394980e+01,\n",
       "       7.61229599e+01, 7.86613401e+01, 8.12552297e+01, 8.39052192e+01,\n",
       "       8.66118991e+01, 8.93758598e+01, 9.21976914e+01, 9.50779838e+01,\n",
       "       9.80173266e+01, 1.01016309e+02, 1.04075522e+02, 1.07195552e+02,\n",
       "       1.10376990e+02, 1.13620425e+02, 1.16926444e+02, 1.20295636e+02,\n",
       "       1.23728590e+02, 1.27225893e+02, 1.30788134e+02, 1.34415900e+02,\n",
       "       1.38109778e+02, 1.41870356e+02, 1.45698222e+02, 1.49593962e+02,\n",
       "       1.53558163e+02, 1.57591412e+02, 1.61694296e+02, 1.65867400e+02,\n",
       "       1.70111311e+02, 1.74426615e+02, 1.78813899e+02, 1.83273747e+02,\n",
       "       1.87806745e+02, 1.92413479e+02, 1.97094535e+02, 2.01850496e+02,\n",
       "       2.06681949e+02, 2.11589478e+02, 2.16573668e+02, 2.21635103e+02,\n",
       "       2.26774369e+02, 2.31992048e+02, 2.37288725e+02, 2.42664985e+02,\n",
       "       2.48121411e+02, 2.53658587e+02, 2.59277096e+02, 2.64977522e+02,\n",
       "       2.70760448e+02, 2.76626457e+02, 2.82576133e+02, 2.88610059e+02,\n",
       "       2.94728816e+02, 3.00932988e+02, 3.07223157e+02, 3.13599907e+02,\n",
       "       3.20063818e+02, 3.26615473e+02, 3.33255454e+02, 3.39984343e+02,\n",
       "       3.46802722e+02, 3.53711173e+02, 3.60710276e+02, 3.67800614e+02,\n",
       "       3.74982767e+02, 3.82257317e+02, 3.89624845e+02, 3.97085932e+02,\n",
       "       4.04641158e+02, 4.12291104e+02, 4.20036352e+02, 4.27877480e+02,\n",
       "       4.35815071e+02, 4.43849703e+02, 4.51981957e+02, 4.60212413e+02,\n",
       "       4.68541652e+02, 4.76970251e+02, 4.85498793e+02, 4.94127855e+02,\n",
       "       5.02858017e+02, 5.11689860e+02, 5.20623961e+02, 5.29660901e+02,\n",
       "       5.38801258e+02, 5.48045610e+02, 5.57394538e+02, 5.66848620e+02,\n",
       "       5.76408433e+02, 5.86074558e+02, 5.95847572e+02, 6.05728053e+02,\n",
       "       6.15716580e+02, 6.25813731e+02, 6.36020083e+02, 6.46336216e+02,\n",
       "       6.56762706e+02, 6.67300131e+02, 6.77949069e+02, 6.88710097e+02,\n",
       "       6.99583794e+02, 7.10570735e+02, 7.21671499e+02, 7.32886662e+02,\n",
       "       7.44216802e+02, 7.55662495e+02, 7.67224319e+02, 7.78902849e+02,\n",
       "       7.90698664e+02, 8.02612339e+02, 8.14644450e+02, 8.26795575e+02,\n",
       "       8.39066289e+02, 8.51457169e+02, 8.63968791e+02, 8.76601731e+02,\n",
       "       8.89356565e+02, 9.02233868e+02, 9.15234216e+02, 9.28358186e+02,\n",
       "       9.41606352e+02, 9.54979291e+02, 9.68477577e+02, 9.82101786e+02,\n",
       "       9.95852494e+02, 1.00973027e+03, 1.02373570e+03, 1.03786936e+03,\n",
       "       1.05213181e+03, 1.06652363e+03, 1.08104540e+03, 1.09569770e+03,\n",
       "       1.11048109e+03, 1.12539615e+03, 1.14044346e+03, 1.15562359e+03,\n",
       "       1.17093712e+03, 1.18638461e+03, 1.20196665e+03, 1.21768380e+03,\n",
       "       1.23353664e+03, 1.24952575e+03, 1.26565170e+03, 1.28191506e+03,\n",
       "       1.29831640e+03, 1.31485631e+03, 1.33153534e+03, 1.34835409e+03,\n",
       "       1.36531311e+03, 1.38241299e+03, 1.39965429e+03, 1.41703759e+03,\n",
       "       1.43456346e+03, 1.45223248e+03, 1.47004522e+03, 1.48800224e+03,\n",
       "       1.50610413e+03, 1.52435146e+03, 1.54274479e+03, 1.56128471e+03,\n",
       "       1.57997178e+03, 1.59880657e+03, 1.61778966e+03, 1.63692162e+03,\n",
       "       1.65620303e+03, 1.67563445e+03, 1.69521646e+03, 1.71494962e+03,\n",
       "       1.73483451e+03, 1.75487171e+03, 1.77506178e+03, 1.79540530e+03,\n",
       "       1.81590283e+03, 1.83655495e+03, 1.85736223e+03, 1.87832525e+03,\n",
       "       1.89944456e+03, 1.92072075e+03, 1.94215438e+03, 1.96374603e+03,\n",
       "       1.98549627e+03, 2.00740566e+03, 2.02947479e+03, 2.05170421e+03,\n",
       "       2.07409451e+03, 2.09664624e+03, 2.11935999e+03, 2.14223632e+03,\n",
       "       2.16527580e+03, 2.18847901e+03, 2.21184651e+03, 2.23537887e+03,\n",
       "       2.25907667e+03, 2.28294047e+03, 2.30697085e+03, 2.33116837e+03,\n",
       "       2.35553361e+03, 2.38006713e+03, 2.40476950e+03, 2.42964130e+03,\n",
       "       2.45468310e+03, 2.47989545e+03, 2.50527894e+03, 2.53083414e+03,\n",
       "       2.55656160e+03, 2.58246191e+03, 2.60853563e+03, 2.63478333e+03,\n",
       "       2.66120558e+03, 2.68780294e+03, 2.71457600e+03, 2.74152531e+03,\n",
       "       2.76865145e+03, 2.79595498e+03, 2.82343648e+03, 2.85109651e+03,\n",
       "       2.87893564e+03, 2.90695445e+03, 2.93515349e+03, 2.96353333e+03,\n",
       "       2.99209456e+03, 3.02083773e+03, 3.04976341e+03, 3.07887217e+03,\n",
       "       3.10816459e+03, 3.13764122e+03, 3.16730263e+03, 3.19714941e+03,\n",
       "       3.22718210e+03, 3.25740128e+03, 3.28780752e+03, 3.31840139e+03,\n",
       "       3.34918345e+03, 3.38015428e+03, 3.41131443e+03, 3.44266448e+03,\n",
       "       3.47420500e+03, 3.50593655e+03, 3.53785970e+03, 3.56997501e+03,\n",
       "       3.60228306e+03, 3.63478442e+03, 3.66747964e+03, 3.70036930e+03,\n",
       "       3.73345396e+03, 3.76673420e+03, 3.80021057e+03, 3.83388365e+03,\n",
       "       3.86775400e+03, 3.90182219e+03, 3.93608879e+03, 3.97055435e+03,\n",
       "       4.00521946e+03, 4.04008468e+03, 4.07515057e+03, 4.11041770e+03,\n",
       "       4.14588663e+03, 4.18155794e+03, 4.21743218e+03, 4.25350994e+03,\n",
       "       4.28979176e+03, 4.32627823e+03, 4.36296989e+03, 4.39986733e+03,\n",
       "       4.43697111e+03, 4.47428179e+03, 4.51179993e+03, 4.54952612e+03,\n",
       "       4.58746090e+03, 4.62560485e+03])"
      ]
     },
     "execution_count": 67,
     "metadata": {},
     "output_type": "execute_result"
    }
   ],
   "source": [
    "#membuat yreg\n",
    "yreg = a*(xreg**b)\n",
    "yreg\n",
    "    "
   ]
  },
  {
   "cell_type": "code",
   "execution_count": 68,
   "metadata": {},
   "outputs": [
    {
     "data": {
      "text/plain": [
       "Text(0, 0.5, 'y-banyak orang')"
      ]
     },
     "execution_count": 68,
     "metadata": {},
     "output_type": "execute_result"
    },
    {
     "data": {
      "image/png": "[encoded data removed]",
      "text/plain": [
       "<Figure size 432x288 with 1 Axes>"
      ]
     },
     "metadata": {
      "needs_background": "light"
     },
     "output_type": "display_data"
    }
   ],
   "source": [
    "ax = plt.plot(x,y,'ro')\n",
    "plt.plot(xreg,yreg,'g')\n",
    "plt.grid()\n",
    "plt.xlabel('x-hari ke')\n",
    "plt.ylabel('y-banyak orang')"
   ]
  },
  {
   "cell_type": "markdown",
   "metadata": {},
   "source": [
    "#### Regresi Eksponensial"
   ]
  },
  {
   "attachments": {
    "image.png": {
     "image/png": "[encoded data removed]"
    }
   },
   "cell_type": "markdown",
   "metadata": {},
   "source": [
    "![image.png](attachment:image.png)"
   ]
  },
  {
   "attachments": {
    "image.png": {
     "image/png": "[encoded data removed]"
    }
   },
   "cell_type": "markdown",
   "metadata": {},
   "source": [
    "![image.png](attachment:image.png)"
   ]
  },
  {
   "attachments": {
    "image.png": {
     "image/png": "[encoded data removed]"
    }
   },
   "cell_type": "markdown",
   "metadata": {},
   "source": [
    "![image.png](attachment:image.png)"
   ]
  },
  {
   "cell_type": "markdown",
   "metadata": {},
   "source": [
    "**Linearisasi**"
   ]
  },
  {
   "cell_type": "code",
   "execution_count": 69,
   "metadata": {},
   "outputs": [
    {
     "data": {
      "text/plain": [
       "array([1.000e+00, 2.000e+00, 3.000e+00, 7.000e+00, 1.100e+01, 1.200e+01,\n",
       "       1.700e+01, 2.100e+01, 2.900e+01, 4.100e+01, 5.200e+01, 7.900e+01,\n",
       "       1.070e+02, 1.480e+02, 1.970e+02, 2.330e+02, 3.660e+02, 4.630e+02,\n",
       "       6.310e+02, 8.270e+02, 1.016e+03, 1.266e+03, 1.441e+03, 1.809e+03,\n",
       "       2.158e+03, 2.503e+03, 2.978e+03, 3.405e+03, 4.032e+03, 4.825e+03,\n",
       "       5.476e+03, 6.077e+03, 6.820e+03, 7.503e+03, 8.215e+03])"
      ]
     },
     "execution_count": 69,
     "metadata": {},
     "output_type": "execute_result"
    }
   ],
   "source": [
    "y = np.array ((1, 2, 3, 7, 11, 12, 17, 21, 29, 41, 52, 79, 107, 148, 197, 233, 366, 463, 631, 827, 1016, 1266, 1441, 1809, 2158, 2503, 2978, 3405, 4032, 4825, 5476, 6077, 6820, 7503, 8215))\n",
    "y = y.astype('float64')\n",
    "y"
   ]
  },
  {
   "cell_type": "code",
   "execution_count": 70,
   "metadata": {},
   "outputs": [
    {
     "data": {
      "text/plain": [
       "array([ 1.,  2.,  3.,  4.,  5.,  6.,  7.,  8.,  9., 10., 11., 12., 13.,\n",
       "       14., 15., 16., 17., 18., 19., 20., 21., 22., 23., 24., 25., 26.,\n",
       "       27., 28., 29., 30., 31., 32., 33., 34., 35.])"
      ]
     },
     "execution_count": 70,
     "metadata": {},
     "output_type": "execute_result"
    }
   ],
   "source": [
    "x = np.array((range(1,1+len(y))))\n",
    "x = x.astype('float64')\n",
    "x"
   ]
  },
  {
   "cell_type": "code",
   "execution_count": 71,
   "metadata": {},
   "outputs": [],
   "source": [
    "p = np.log(y)\n",
    "q = x"
   ]
  },
  {
   "cell_type": "markdown",
   "metadata": {},
   "source": [
    "**Hitung regresi linear**"
   ]
  },
  {
   "attachments": {
    "image.png": {
     "image/png": "[encoded data removed]"
    }
   },
   "cell_type": "markdown",
   "metadata": {},
   "source": [
    "![image.png](attachment:image.png)"
   ]
  },
  {
   "cell_type": "code",
   "execution_count": 72,
   "metadata": {},
   "outputs": [],
   "source": [
    "n = len(y)\n",
    "pq = p*q\n",
    "qq = q**2\n",
    "B = (n*pq.sum() - q.sum()*p.sum())/(n*qq.sum() - (q.sum())**2)\n",
    "A = p.mean()-B*q.mean()"
   ]
  },
  {
   "cell_type": "markdown",
   "metadata": {},
   "source": [
    "**Hasil persamaan linear**"
   ]
  },
  {
   "cell_type": "code",
   "execution_count": 73,
   "metadata": {},
   "outputs": [
    {
     "name": "stdout",
     "output_type": "stream",
     "text": [
      "p = 0.2544q + 1.0445\n"
     ]
    }
   ],
   "source": [
    "if A>0 :\n",
    "    print (\"p = {:.4f}q + {:.4f}\". format(B,A))\n",
    "else :\n",
    "    print (\"p = {:.4f}q {:.4f}\". format(B,A))"
   ]
  },
  {
   "cell_type": "markdown",
   "metadata": {},
   "source": [
    "**Hitung kembali dalam bentuk bilangan berpangkat**"
   ]
  },
  {
   "cell_type": "code",
   "execution_count": 74,
   "metadata": {},
   "outputs": [],
   "source": [
    "a = np.e**A\n",
    "b = B"
   ]
  },
  {
   "cell_type": "code",
   "execution_count": 75,
   "metadata": {},
   "outputs": [
    {
     "name": "stdout",
     "output_type": "stream",
     "text": [
      "y = 2.8420x^(0.2544)\n"
     ]
    }
   ],
   "source": [
    "print (\"y = {:.4f}x^({:.4f})\".format(a,b))"
   ]
  },
  {
   "cell_type": "markdown",
   "metadata": {},
   "source": [
    "**Koefisien Korelasi ( r ) dan Derajat Kesesuaian ( R ) r-square**"
   ]
  },
  {
   "cell_type": "code",
   "execution_count": 76,
   "metadata": {},
   "outputs": [
    {
     "name": "stdout",
     "output_type": "stream",
     "text": [
      "r = 0.9832 dan r^2 = 0.9667\n"
     ]
    }
   ],
   "source": [
    "yDt = ((p - p.mean())**2).sum()\n",
    "yD = ((p - (q*B) - A)**2).sum()\n",
    "r = np.sqrt((yDt-yD)/yDt)\n",
    "r2 = r**2\n",
    "print('r = {:.4f} dan r^2 = {:.4f}'.format(r,r2))"
   ]
  },
  {
   "cell_type": "markdown",
   "metadata": {},
   "source": [
    "**Plot data dan regresinya**"
   ]
  },
  {
   "cell_type": "code",
   "execution_count": 77,
   "metadata": {},
   "outputs": [
    {
     "data": {
      "text/plain": [
       "array([ 0. ,  0.1,  0.2,  0.3,  0.4,  0.5,  0.6,  0.7,  0.8,  0.9,  1. ,\n",
       "        1.1,  1.2,  1.3,  1.4,  1.5,  1.6,  1.7,  1.8,  1.9,  2. ,  2.1,\n",
       "        2.2,  2.3,  2.4,  2.5,  2.6,  2.7,  2.8,  2.9,  3. ,  3.1,  3.2,\n",
       "        3.3,  3.4,  3.5,  3.6,  3.7,  3.8,  3.9,  4. ,  4.1,  4.2,  4.3,\n",
       "        4.4,  4.5,  4.6,  4.7,  4.8,  4.9,  5. ,  5.1,  5.2,  5.3,  5.4,\n",
       "        5.5,  5.6,  5.7,  5.8,  5.9,  6. ,  6.1,  6.2,  6.3,  6.4,  6.5,\n",
       "        6.6,  6.7,  6.8,  6.9,  7. ,  7.1,  7.2,  7.3,  7.4,  7.5,  7.6,\n",
       "        7.7,  7.8,  7.9,  8. ,  8.1,  8.2,  8.3,  8.4,  8.5,  8.6,  8.7,\n",
       "        8.8,  8.9,  9. ,  9.1,  9.2,  9.3,  9.4,  9.5,  9.6,  9.7,  9.8,\n",
       "        9.9, 10. , 10.1, 10.2, 10.3, 10.4, 10.5, 10.6, 10.7, 10.8, 10.9,\n",
       "       11. , 11.1, 11.2, 11.3, 11.4, 11.5, 11.6, 11.7, 11.8, 11.9, 12. ,\n",
       "       12.1, 12.2, 12.3, 12.4, 12.5, 12.6, 12.7, 12.8, 12.9, 13. , 13.1,\n",
       "       13.2, 13.3, 13.4, 13.5, 13.6, 13.7, 13.8, 13.9, 14. , 14.1, 14.2,\n",
       "       14.3, 14.4, 14.5, 14.6, 14.7, 14.8, 14.9, 15. , 15.1, 15.2, 15.3,\n",
       "       15.4, 15.5, 15.6, 15.7, 15.8, 15.9, 16. , 16.1, 16.2, 16.3, 16.4,\n",
       "       16.5, 16.6, 16.7, 16.8, 16.9, 17. , 17.1, 17.2, 17.3, 17.4, 17.5,\n",
       "       17.6, 17.7, 17.8, 17.9, 18. , 18.1, 18.2, 18.3, 18.4, 18.5, 18.6,\n",
       "       18.7, 18.8, 18.9, 19. , 19.1, 19.2, 19.3, 19.4, 19.5, 19.6, 19.7,\n",
       "       19.8, 19.9, 20. , 20.1, 20.2, 20.3, 20.4, 20.5, 20.6, 20.7, 20.8,\n",
       "       20.9, 21. , 21.1, 21.2, 21.3, 21.4, 21.5, 21.6, 21.7, 21.8, 21.9,\n",
       "       22. , 22.1, 22.2, 22.3, 22.4, 22.5, 22.6, 22.7, 22.8, 22.9, 23. ,\n",
       "       23.1, 23.2, 23.3, 23.4, 23.5, 23.6, 23.7, 23.8, 23.9, 24. , 24.1,\n",
       "       24.2, 24.3, 24.4, 24.5, 24.6, 24.7, 24.8, 24.9, 25. , 25.1, 25.2,\n",
       "       25.3, 25.4, 25.5, 25.6, 25.7, 25.8, 25.9, 26. , 26.1, 26.2, 26.3,\n",
       "       26.4, 26.5, 26.6, 26.7, 26.8, 26.9, 27. , 27.1, 27.2, 27.3, 27.4,\n",
       "       27.5, 27.6, 27.7, 27.8, 27.9, 28. , 28.1, 28.2, 28.3, 28.4, 28.5,\n",
       "       28.6, 28.7, 28.8, 28.9, 29. , 29.1, 29.2, 29.3, 29.4, 29.5, 29.6,\n",
       "       29.7, 29.8, 29.9, 30. , 30.1, 30.2, 30.3, 30.4, 30.5, 30.6, 30.7,\n",
       "       30.8, 30.9, 31. , 31.1, 31.2, 31.3, 31.4, 31.5, 31.6, 31.7, 31.8,\n",
       "       31.9, 32. , 32.1, 32.2, 32.3, 32.4, 32.5, 32.6, 32.7, 32.8, 32.9,\n",
       "       33. , 33.1, 33.2, 33.3, 33.4, 33.5, 33.6, 33.7, 33.8, 33.9, 34. ,\n",
       "       34.1, 34.2, 34.3, 34.4, 34.5, 34.6, 34.7, 34.8, 34.9, 35. , 35.1,\n",
       "       35.2, 35.3, 35.4, 35.5, 35.6, 35.7, 35.8, 35.9])"
      ]
     },
     "execution_count": 77,
     "metadata": {},
     "output_type": "execute_result"
    }
   ],
   "source": [
    "#membuat xreg\n",
    "xreg = np.array(range(0,int((x[-1]+1)*10)))\n",
    "xreg = xreg/10 #memperhalus bentuk garis\n",
    "xreg = xreg.astype('float64')\n",
    "xreg"
   ]
  },
  {
   "cell_type": "code",
   "execution_count": 78,
   "metadata": {},
   "outputs": [
    {
     "data": {
      "text/plain": [
       "array([2.84196207e+00, 2.91520002e+00, 2.99032532e+00, 3.06738663e+00,\n",
       "       3.14643381e+00, 3.22751806e+00, 3.31069187e+00, 3.39600909e+00,\n",
       "       3.48352494e+00, 3.57329610e+00, 3.66538068e+00, 3.75983830e+00,\n",
       "       3.85673011e+00, 3.95611884e+00, 4.05806884e+00, 4.16264612e+00,\n",
       "       4.26991837e+00, 4.37995505e+00, 4.49282739e+00, 4.60860849e+00,\n",
       "       4.72737328e+00, 4.84919867e+00, 4.97416352e+00, 5.10234874e+00,\n",
       "       5.23383732e+00, 5.36871439e+00, 5.50706728e+00, 5.64898554e+00,\n",
       "       5.79456106e+00, 5.94388810e+00, 6.09706333e+00, 6.25418591e+00,\n",
       "       6.41535757e+00, 6.58068267e+00, 6.75026822e+00, 6.92422403e+00,\n",
       "       7.10266271e+00, 7.28569980e+00, 7.47345379e+00, 7.66604624e+00,\n",
       "       7.86360184e+00, 8.06624848e+00, 8.27411737e+00, 8.48734309e+00,\n",
       "       8.70606368e+00, 8.93042074e+00, 9.16055953e+00, 9.39662904e+00,\n",
       "       9.63878212e+00, 9.88717552e+00, 1.01419701e+01, 1.04033307e+01,\n",
       "       1.06714267e+01, 1.09464316e+01, 1.12285234e+01, 1.15178848e+01,\n",
       "       1.18147031e+01, 1.21191704e+01, 1.24314839e+01, 1.27518458e+01,\n",
       "       1.30804635e+01, 1.34175498e+01, 1.37633228e+01, 1.41180065e+01,\n",
       "       1.44818305e+01, 1.48550302e+01, 1.52378474e+01, 1.56305299e+01,\n",
       "       1.60333319e+01, 1.64465142e+01, 1.68703442e+01, 1.73050965e+01,\n",
       "       1.77510524e+01, 1.82085007e+01, 1.86777375e+01, 1.91590667e+01,\n",
       "       1.96527998e+01, 2.01592565e+01, 2.06787647e+01, 2.12116608e+01,\n",
       "       2.17582897e+01, 2.23190053e+01, 2.28941707e+01, 2.34841582e+01,\n",
       "       2.40893498e+01, 2.47101373e+01, 2.53469227e+01, 2.60001181e+01,\n",
       "       2.66701465e+01, 2.73574417e+01, 2.80624487e+01, 2.87856238e+01,\n",
       "       2.95274352e+01, 3.02883634e+01, 3.10689007e+01, 3.18695527e+01,\n",
       "       3.26908377e+01, 3.35332874e+01, 3.43974471e+01, 3.52838764e+01,\n",
       "       3.61931492e+01, 3.71258542e+01, 3.80825951e+01, 3.90639915e+01,\n",
       "       4.00706786e+01, 4.11033083e+01, 4.21625490e+01, 4.32490866e+01,\n",
       "       4.43636246e+01, 4.55068843e+01, 4.66796062e+01, 4.78825493e+01,\n",
       "       4.91164925e+01, 5.03822346e+01, 5.16805952e+01, 5.30124149e+01,\n",
       "       5.43785558e+01, 5.57799024e+01, 5.72173620e+01, 5.86918653e+01,\n",
       "       6.02043668e+01, 6.17558458e+01, 6.33473067e+01, 6.49797799e+01,\n",
       "       6.66543222e+01, 6.83720179e+01, 7.01339789e+01, 7.19413461e+01,\n",
       "       7.37952895e+01, 7.56970093e+01, 7.76477369e+01, 7.96487352e+01,\n",
       "       8.17012995e+01, 8.38067589e+01, 8.59664764e+01, 8.81818503e+01,\n",
       "       9.04543148e+01, 9.27853412e+01, 9.51764387e+01, 9.76291552e+01,\n",
       "       1.00145079e+02, 1.02725838e+02, 1.05373104e+02, 1.08088591e+02,\n",
       "       1.10874056e+02, 1.13731304e+02, 1.16662183e+02, 1.19668591e+02,\n",
       "       1.22752476e+02, 1.25915832e+02, 1.29160709e+02, 1.32489208e+02,\n",
       "       1.35903482e+02, 1.39405743e+02, 1.42998258e+02, 1.46683352e+02,\n",
       "       1.50463413e+02, 1.54340886e+02, 1.58318282e+02, 1.62398177e+02,\n",
       "       1.66583212e+02, 1.70876096e+02, 1.75279608e+02, 1.79796600e+02,\n",
       "       1.84429995e+02, 1.89182795e+02, 1.94058074e+02, 1.99058991e+02,\n",
       "       2.04188782e+02, 2.09450769e+02, 2.14848359e+02, 2.20385046e+02,\n",
       "       2.26064414e+02, 2.31890141e+02, 2.37865998e+02, 2.43995854e+02,\n",
       "       2.50283677e+02, 2.56733539e+02, 2.63349616e+02, 2.70136190e+02,\n",
       "       2.77097655e+02, 2.84238519e+02, 2.91563405e+02, 2.99077054e+02,\n",
       "       3.06784331e+02, 3.14690227e+02, 3.22799859e+02, 3.31118478e+02,\n",
       "       3.39651470e+02, 3.48404359e+02, 3.57382811e+02, 3.66592640e+02,\n",
       "       3.76039808e+02, 3.85730432e+02, 3.95670785e+02, 4.05867303e+02,\n",
       "       4.16326587e+02, 4.27055409e+02, 4.38060716e+02, 4.49349631e+02,\n",
       "       4.60929464e+02, 4.72807711e+02, 4.84992064e+02, 4.97490410e+02,\n",
       "       5.10310840e+02, 5.23461656e+02, 5.36951371e+02, 5.50788719e+02,\n",
       "       5.64982659e+02, 5.79542379e+02, 5.94477306e+02, 6.09797109e+02,\n",
       "       6.25511706e+02, 6.41631272e+02, 6.58166243e+02, 6.75127323e+02,\n",
       "       6.92525494e+02, 7.10372019e+02, 7.28678453e+02, 7.47456647e+02,\n",
       "       7.66718760e+02, 7.86477261e+02, 8.06744942e+02, 8.27534926e+02,\n",
       "       8.48860673e+02, 8.70735988e+02, 8.93175034e+02, 9.16192340e+02,\n",
       "       9.39802806e+02, 9.64021718e+02, 9.88864757e+02, 1.01434801e+03,\n",
       "       1.04048796e+03, 1.06730155e+03, 1.09480614e+03, 1.12301952e+03,\n",
       "       1.15195996e+03, 1.18164621e+03, 1.21209748e+03, 1.24333348e+03,\n",
       "       1.27537444e+03, 1.30824110e+03, 1.34195475e+03, 1.37653720e+03,\n",
       "       1.41201085e+03, 1.44839866e+03, 1.48572419e+03, 1.52401161e+03,\n",
       "       1.56328570e+03, 1.60357190e+03, 1.64489628e+03, 1.68728560e+03,\n",
       "       1.73076730e+03, 1.77536953e+03, 1.82112117e+03, 1.86805184e+03,\n",
       "       1.91619192e+03, 1.96557258e+03, 2.01622579e+03, 2.06818435e+03,\n",
       "       2.12148189e+03, 2.17615291e+03, 2.23223282e+03, 2.28975793e+03,\n",
       "       2.34876546e+03, 2.40929363e+03, 2.47138163e+03, 2.53506964e+03,\n",
       "       2.60039891e+03, 2.66741173e+03, 2.73615148e+03, 2.80666267e+03,\n",
       "       2.87899095e+03, 2.95318314e+03, 3.02928728e+03, 3.10735264e+03,\n",
       "       3.18742976e+03, 3.26957049e+03, 3.35382800e+03, 3.44025684e+03,\n",
       "       3.52891297e+03, 3.61985378e+03, 3.71313816e+03, 3.80882650e+03,\n",
       "       3.90698075e+03, 4.00766445e+03, 4.11094279e+03, 4.21688264e+03,\n",
       "       4.32555258e+03, 4.43702296e+03, 4.55136596e+03, 4.66865560e+03,\n",
       "       4.78896782e+03, 4.91238052e+03, 5.03897358e+03, 5.16882897e+03,\n",
       "       5.30203076e+03, 5.43866519e+03, 5.57882072e+03, 5.72258808e+03,\n",
       "       5.87006036e+03, 6.02133303e+03, 6.17650403e+03, 6.33567381e+03,\n",
       "       6.49894544e+03, 6.66642460e+03, 6.83821975e+03, 7.01444208e+03,\n",
       "       7.19520571e+03, 7.38062764e+03, 7.57082795e+03, 7.76592975e+03,\n",
       "       7.96605936e+03, 8.17134636e+03, 8.38192365e+03, 8.59792755e+03,\n",
       "       8.81949792e+03, 9.04677821e+03, 9.27991556e+03, 9.51906090e+03,\n",
       "       9.76436907e+03, 1.00159989e+04, 1.02741132e+04, 1.05388793e+04,\n",
       "       1.08104684e+04, 1.10890564e+04, 1.13748236e+04, 1.16679552e+04,\n",
       "       1.19686408e+04, 1.22770752e+04, 1.25934579e+04, 1.29179940e+04,\n",
       "       1.32508933e+04, 1.35923716e+04, 1.39426498e+04, 1.43019548e+04,\n",
       "       1.46705191e+04, 1.50485814e+04, 1.54363865e+04, 1.58341854e+04,\n",
       "       1.62422356e+04, 1.66608014e+04, 1.70901537e+04, 1.75305705e+04,\n",
       "       1.79823369e+04, 1.84457454e+04, 1.89210961e+04, 1.94086967e+04,\n",
       "       1.99088628e+04, 2.04219183e+04, 2.09481954e+04, 2.14880347e+04,\n",
       "       2.20417858e+04, 2.26098072e+04, 2.31924666e+04, 2.37901412e+04,\n",
       "       2.44032181e+04, 2.50320941e+04, 2.56771763e+04, 2.63388824e+04])"
      ]
     },
     "execution_count": 78,
     "metadata": {},
     "output_type": "execute_result"
    }
   ],
   "source": [
    "#membuat yreg\n",
    "yreg = a*np.e**(b*xreg)\n",
    "yreg"
   ]
  },
  {
   "cell_type": "code",
   "execution_count": 79,
   "metadata": {},
   "outputs": [
    {
     "data": {
      "text/plain": [
       "Text(0, 0.5, 'y-banyak orang')"
      ]
     },
     "execution_count": 79,
     "metadata": {},
     "output_type": "execute_result"
    },
    {
     "data": {
      "image/png": "[encoded data removed]",
      "text/plain": [
       "<Figure size 432x288 with 1 Axes>"
      ]
     },
     "metadata": {
      "needs_background": "light"
     },
     "output_type": "display_data"
    }
   ],
   "source": [
    "ax = plt.plot(x,y,'ro')\n",
    "plt.plot(xreg,yreg,'b')\n",
    "plt.grid()\n",
    "plt.xlabel('x-hari ke')\n",
    "plt.ylabel('y-banyak orang')"
   ]
  },
  {
   "cell_type": "markdown",
   "metadata": {},
   "source": [
    "**Selesai**"
   ]
  },
  {
   "cell_type": "markdown",
   "metadata": {},
   "source": [
    "#### Regresi Polinomial"
   ]
  },
  {
   "cell_type": "code",
   "execution_count": 80,
   "metadata": {},
   "outputs": [
    {
     "data": {
      "text/plain": [
       "array([1.000e+00, 2.000e+00, 3.000e+00, 7.000e+00, 1.100e+01, 1.200e+01,\n",
       "       1.700e+01, 2.100e+01, 2.900e+01, 4.100e+01, 5.200e+01, 7.900e+01,\n",
       "       1.070e+02, 1.480e+02, 1.970e+02, 2.330e+02, 3.660e+02, 4.630e+02,\n",
       "       6.310e+02, 8.270e+02, 1.016e+03, 1.266e+03, 1.441e+03, 1.809e+03,\n",
       "       2.158e+03, 2.503e+03, 2.978e+03, 3.405e+03, 4.032e+03, 4.825e+03,\n",
       "       5.476e+03, 6.077e+03, 6.820e+03, 7.503e+03, 8.215e+03])"
      ]
     },
     "execution_count": 80,
     "metadata": {},
     "output_type": "execute_result"
    }
   ],
   "source": [
    "y = np.array ((1, 2, 3, 7, 11, 12, 17, 21, 29, 41, 52, 79, 107, 148, 197, 233, 366, 463, 631, 827, 1016, 1266, 1441, 1809, 2158, 2503, 2978, 3405, 4032, 4825, 5476, 6077, 6820, 7503, 8215))\n",
    "y = y.astype('float64')\n",
    "y"
   ]
  },
  {
   "cell_type": "code",
   "execution_count": 81,
   "metadata": {},
   "outputs": [
    {
     "data": {
      "text/plain": [
       "array([ 1.,  2.,  3.,  4.,  5.,  6.,  7.,  8.,  9., 10., 11., 12., 13.,\n",
       "       14., 15., 16., 17., 18., 19., 20., 21., 22., 23., 24., 25., 26.,\n",
       "       27., 28., 29., 30., 31., 32., 33., 34., 35.])"
      ]
     },
     "execution_count": 81,
     "metadata": {},
     "output_type": "execute_result"
    }
   ],
   "source": [
    "x = np.array((range(1,1+len(y))))\n",
    "x = x.astype('float64')\n",
    "x"
   ]
  },
  {
   "cell_type": "markdown",
   "metadata": {},
   "source": [
    "**Membentuk regresi polinomial dari matriks**"
   ]
  },
  {
   "attachments": {
    "image.png": {
     "image/png": "[encoded data removed]"
    }
   },
   "cell_type": "markdown",
   "metadata": {},
   "source": [
    "![image.png](attachment:image.png)"
   ]
  },
  {
   "cell_type": "markdown",
   "metadata": {},
   "source": [
    "**Mendefinisikan elemen-elemen matriks kiri**"
   ]
  },
  {
   "cell_type": "code",
   "execution_count": 82,
   "metadata": {},
   "outputs": [
    {
     "data": {
      "text/plain": [
       "array([[3.50000000e+01, 6.30000000e+02, 1.49100000e+04, 3.96900000e+05],\n",
       "       [6.30000000e+02, 1.49100000e+04, 3.96900000e+05, 1.12689780e+07],\n",
       "       [1.49100000e+04, 3.96900000e+05, 1.12689780e+07, 3.33263700e+08],\n",
       "       [3.96900000e+05, 1.12689780e+07, 3.33263700e+08, 1.01367147e+10]])"
      ]
     },
     "execution_count": 82,
     "metadata": {},
     "output_type": "execute_result"
    }
   ],
   "source": [
    "n = len(y)\n",
    "a = x.sum()\n",
    "b = (x**2).sum()\n",
    "c = (x**3).sum()\n",
    "d = (x**4).sum()\n",
    "e = (x**5).sum()\n",
    "f = (x**6).sum()\n",
    "A = np.array(([n, a, b, c],\n",
    "    [a, b, c, d],\n",
    "    [b, c, d, e],\n",
    "    [c, d, e, f]))\n",
    "A"
   ]
  },
  {
   "cell_type": "markdown",
   "metadata": {},
   "source": [
    "**Mendefinisikan elemen-elemen matriks kanan**"
   ]
  },
  {
   "cell_type": "code",
   "execution_count": 83,
   "metadata": {},
   "outputs": [
    {
     "data": {
      "text/plain": [
       "array([[6.27710000e+04],\n",
       "       [1.86998400e+06],\n",
       "       [5.71214420e+07],\n",
       "       [1.77758009e+09]])"
      ]
     },
     "execution_count": 83,
     "metadata": {},
     "output_type": "execute_result"
    }
   ],
   "source": [
    "g = y.sum()\n",
    "h = (x*y).sum()\n",
    "i = ((x**2)*y).sum()\n",
    "j = ((x**3)*y).sum()\n",
    "B = np.array(([g],\n",
    "    [h],\n",
    "    [i],\n",
    "    [j]))\n",
    "B"
   ]
  },
  {
   "cell_type": "markdown",
   "metadata": {},
   "source": [
    "**Invers matriks sisi kiri**"
   ]
  },
  {
   "cell_type": "code",
   "execution_count": 84,
   "metadata": {},
   "outputs": [
    {
     "data": {
      "text/plain": [
       "array([[ 5.70874714e-01, -1.20400433e-01,  6.77998472e-03,\n",
       "        -1.11408200e-04],\n",
       "       [-1.20400433e-01,  3.21160630e-02, -1.99848787e-03,\n",
       "         3.47149147e-05],\n",
       "       [ 6.77998472e-03, -1.99848787e-03,  1.31806246e-04,\n",
       "        -2.37713086e-06],\n",
       "       [-1.11408200e-04,  3.47149147e-05, -2.37713086e-06,\n",
       "         4.40209419e-08]])"
      ]
     },
     "execution_count": 84,
     "metadata": {},
     "output_type": "execute_result"
    }
   ],
   "source": [
    "Ainv = np.linalg.inv(A)\n",
    "Ainv"
   ]
  },
  {
   "cell_type": "markdown",
   "metadata": {},
   "source": [
    "**Mencari nilai a0, a1, a2, dst dengan a = (A^-1)B namun di sini variabel a diganti dengan Y**"
   ]
  },
  {
   "cell_type": "code",
   "execution_count": 85,
   "metadata": {},
   "outputs": [
    {
     "name": "stdout",
     "output_type": "stream",
     "text": [
      "[[-67.00045837]\n",
      " [ 50.90062639]\n",
      " [ -8.13156717]\n",
      " [  0.38873844]]\n"
     ]
    }
   ],
   "source": [
    "Y = Ainv.dot(B)\n",
    "print(Y)"
   ]
  },
  {
   "cell_type": "code",
   "execution_count": 86,
   "metadata": {},
   "outputs": [],
   "source": [
    "a0 = Y[0,0]\n",
    "a1 = Y[1,0]\n",
    "a2 = Y[2,0]\n",
    "a3 = Y[3,0]"
   ]
  },
  {
   "cell_type": "markdown",
   "metadata": {},
   "source": [
    "**Hasil persamaan regresi polinomial**"
   ]
  },
  {
   "cell_type": "code",
   "execution_count": 87,
   "metadata": {},
   "outputs": [
    {
     "name": "stdout",
     "output_type": "stream",
     "text": [
      "y = 0.3887x^3 + -8.1316X^2 + 50.9006x + -67.0005\n"
     ]
    }
   ],
   "source": [
    "print('y = {:.4f}x^3 + {:.4f}X^2 + {:.4f}x + {:.4f}'.format(a3, a2, a1, a0))"
   ]
  },
  {
   "cell_type": "code",
   "execution_count": 88,
   "metadata": {},
   "outputs": [
    {
     "data": {
      "text/plain": [
       "array([1.000e+00, 2.000e+00, 3.000e+00, 7.000e+00, 1.100e+01, 1.200e+01,\n",
       "       1.700e+01, 2.100e+01, 2.900e+01, 4.100e+01, 5.200e+01, 7.900e+01,\n",
       "       1.070e+02, 1.480e+02, 1.970e+02, 2.330e+02, 3.660e+02, 4.630e+02,\n",
       "       6.310e+02, 8.270e+02, 1.016e+03, 1.266e+03, 1.441e+03, 1.809e+03,\n",
       "       2.158e+03, 2.503e+03, 2.978e+03, 3.405e+03, 4.032e+03, 4.825e+03,\n",
       "       5.476e+03, 6.077e+03, 6.820e+03, 7.503e+03, 8.215e+03])"
      ]
     },
     "execution_count": 88,
     "metadata": {},
     "output_type": "execute_result"
    }
   ],
   "source": [
    "y"
   ]
  },
  {
   "cell_type": "markdown",
   "metadata": {},
   "source": [
    "**Koefisien Korelasi ( r ) dan Derajat Kesesuaian ( R ) r-square**"
   ]
  },
  {
   "cell_type": "code",
   "execution_count": 89,
   "metadata": {},
   "outputs": [
    {
     "name": "stdout",
     "output_type": "stream",
     "text": [
      "r = 0.9996 dan r^2 = 0.9667\n"
     ]
    }
   ],
   "source": [
    "yDt = (y-y.mean())**2\n",
    "yD = (y-a0-a1*x-a2*(x**2)-a3*(x**3))**2\n",
    "r = np.sqrt((yDt.sum()-yD.sum())/yDt.sum())\n",
    "R2 = r**2\n",
    "print('r = {:.4f} dan r^2 = {:.4f}'.format(r,r2))"
   ]
  },
  {
   "cell_type": "markdown",
   "metadata": {},
   "source": [
    "**Plot**"
   ]
  },
  {
   "cell_type": "code",
   "execution_count": 90,
   "metadata": {},
   "outputs": [
    {
     "data": {
      "text/plain": [
       "Text(0, 0.5, 'y')"
      ]
     },
     "execution_count": 90,
     "metadata": {},
     "output_type": "execute_result"
    },
    {
     "data": {
      "image/png": "[encoded data removed]",
      "text/plain": [
       "<Figure size 432x288 with 1 Axes>"
      ]
     },
     "metadata": {
      "needs_background": "light"
     },
     "output_type": "display_data"
    }
   ],
   "source": [
    "xreg = np.array(range(0,int((x[-1]+0.5)*10)))\n",
    "xreg = xreg/10\n",
    "yreg = a0 + a1*xreg + a2*(xreg**2) + a3*(xreg**3)\n",
    "ax = plt.plot(x,y,'ro')\n",
    "plt.plot(xreg,yreg,'b')\n",
    "plt.grid()\n",
    "plt.xlabel('x')\n",
    "plt.ylabel('y')"
   ]
  },
  {
   "cell_type": "markdown",
   "metadata": {},
   "source": [
    "**Perbandingan jika memakai polyfit dengan derajat dinaikkan**"
   ]
  },
  {
   "cell_type": "code",
   "execution_count": 94,
   "metadata": {
    "scrolled": true
   },
   "outputs": [
    {
     "data": {
      "image/png": "[encoded data removed]",
      "text/plain": [
       "<Figure size 432x288 with 1 Axes>"
      ]
     },
     "metadata": {
      "needs_background": "light"
     },
     "output_type": "display_data"
    }
   ],
   "source": [
    "regpoly = np.poly1d(np.polyfit(x, y, 5))\n",
    "\n",
    "myline = np.linspace(1, 35, 100)\n",
    "\n",
    "plt.scatter(x, y)\n",
    "plt.plot(myline, regpoly(myline), linewidth=3, color='r')\n",
    "plt.show()"
   ]
  },
  {
   "cell_type": "code",
   "execution_count": 92,
   "metadata": {
    "scrolled": true
   },
   "outputs": [
    {
     "name": "stdout",
     "output_type": "stream",
     "text": [
      "            5           4         3         2\n",
      "-0.0007627 x + 0.06595 x - 1.631 x + 17.89 x - 78.02 x + 96.17\n"
     ]
    }
   ],
   "source": [
    "print (regpoly)"
   ]
  },
  {
   "cell_type": "code",
   "execution_count": 93,
   "metadata": {},
   "outputs": [
    {
     "name": "stdout",
     "output_type": "stream",
     "text": [
      "0.9995531494889952\n"
     ]
    }
   ],
   "source": [
    "print(r2_score(y, regpoly(x)))"
   ]
  },
  {
   "cell_type": "code",
   "execution_count": null,
   "metadata": {},
   "outputs": [],
   "source": []
  }
 ],
 "metadata": {
  "kernelspec": {
   "display_name": "Python 3",
   "language": "python",
   "name": "python3"
  },
  "language_info": {
   "codemirror_mode": {
    "name": "ipython",
    "version": 3
   },
   "file_extension": ".py",
   "mimetype": "text/x-python",
   "name": "python",
   "nbconvert_exporter": "python",
   "pygments_lexer": "ipython3",
   "version": "3.7.6"
  },
  "toc": {
   "base_numbering": 1,
   "nav_menu": {},
   "number_sections": true,
   "sideBar": true,
   "skip_h1_title": false,
   "title_cell": "Table of Contents",
   "title_sidebar": "Contents",
   "toc_cell": false,
   "toc_position": {
    "height": "calc(100% - 180px)",
    "left": "10px",
    "top": "150px",
    "width": "286.957px"
   },
   "toc_section_display": true,
   "toc_window_display": true
  }
 },
 "nbformat": 4,
 "nbformat_minor": 4
}
