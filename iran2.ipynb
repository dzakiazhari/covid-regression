{
 "cells": [
  {
   "cell_type": "markdown",
   "metadata": {},
   "source": [
    "# Iran"
   ]
  },
  {
   "cell_type": "markdown",
   "metadata": {},
   "source": [
    "## Basic Data (Import and Visualization)"
   ]
  },
  {
   "cell_type": "markdown",
   "metadata": {},
   "source": [
    "### Start (Importing Libraries)"
   ]
  },
  {
   "cell_type": "code",
   "execution_count": 99,
   "metadata": {},
   "outputs": [],
   "source": [
    "import matplotlib.pyplot as plt\n",
    "import numpy as np\n",
    "import pandas as pd\n",
    "import seaborn as sns\n",
    "from sklearn.metrics import r2_score\n",
    "%matplotlib inline"
   ]
  },
  {
   "cell_type": "markdown",
   "metadata": {},
   "source": [
    "### Read data and Plotting"
   ]
  },
  {
   "cell_type": "code",
   "execution_count": 2,
   "metadata": {},
   "outputs": [
    {
     "data": {
      "text/plain": [
       "pandas.core.frame.DataFrame"
      ]
     },
     "execution_count": 2,
     "metadata": {},
     "output_type": "execute_result"
    }
   ],
   "source": [
    "df = pd.read_csv('/Users/abdul/Documents/Academics/Metnum/UTS/dataset/csv/iran.csv')\n",
    "type(df)"
   ]
  },
  {
   "cell_type": "code",
   "execution_count": 3,
   "metadata": {},
   "outputs": [
    {
     "data": {
      "text/plain": [
       "(41, 5)"
      ]
     },
     "execution_count": 3,
     "metadata": {},
     "output_type": "execute_result"
    }
   ],
   "source": [
    "df.shape"
   ]
  },
  {
   "cell_type": "code",
   "execution_count": 4,
   "metadata": {},
   "outputs": [],
   "source": [
    "df.columns\n",
    "df['Date'] = pd.to_datetime(df['Date'])\n",
    "df.set_index('Date', inplace=True)"
   ]
  },
  {
   "cell_type": "code",
   "execution_count": 5,
   "metadata": {},
   "outputs": [
    {
     "data": {
      "text/html": [
       "<div>\n",
       "<style scoped>\n",
       "    .dataframe tbody tr th:only-of-type {\n",
       "        vertical-align: middle;\n",
       "    }\n",
       "\n",
       "    .dataframe tbody tr th {\n",
       "        vertical-align: top;\n",
       "    }\n",
       "\n",
       "    .dataframe thead th {\n",
       "        text-align: right;\n",
       "    }\n",
       "</style>\n",
       "<table border=\"1\" class=\"dataframe\">\n",
       "  <thead>\n",
       "    <tr style=\"text-align: right;\">\n",
       "      <th></th>\n",
       "      <th>Confirmed</th>\n",
       "      <th>New</th>\n",
       "      <th>Deaths</th>\n",
       "      <th>Active</th>\n",
       "    </tr>\n",
       "    <tr>\n",
       "      <th>Date</th>\n",
       "      <th></th>\n",
       "      <th></th>\n",
       "      <th></th>\n",
       "      <th></th>\n",
       "    </tr>\n",
       "  </thead>\n",
       "  <tbody>\n",
       "    <tr>\n",
       "      <th>2020-02-15</th>\n",
       "      <td>0</td>\n",
       "      <td>0</td>\n",
       "      <td>0</td>\n",
       "      <td>0</td>\n",
       "    </tr>\n",
       "    <tr>\n",
       "      <th>2020-02-16</th>\n",
       "      <td>0</td>\n",
       "      <td>0</td>\n",
       "      <td>0</td>\n",
       "      <td>0</td>\n",
       "    </tr>\n",
       "    <tr>\n",
       "      <th>2020-02-17</th>\n",
       "      <td>0</td>\n",
       "      <td>0</td>\n",
       "      <td>0</td>\n",
       "      <td>0</td>\n",
       "    </tr>\n",
       "    <tr>\n",
       "      <th>2020-02-18</th>\n",
       "      <td>0</td>\n",
       "      <td>0</td>\n",
       "      <td>0</td>\n",
       "      <td>0</td>\n",
       "    </tr>\n",
       "    <tr>\n",
       "      <th>2020-02-19</th>\n",
       "      <td>2</td>\n",
       "      <td>0</td>\n",
       "      <td>2</td>\n",
       "      <td>0</td>\n",
       "    </tr>\n",
       "    <tr>\n",
       "      <th>2020-02-20</th>\n",
       "      <td>5</td>\n",
       "      <td>3</td>\n",
       "      <td>2</td>\n",
       "      <td>3</td>\n",
       "    </tr>\n",
       "    <tr>\n",
       "      <th>2020-02-21</th>\n",
       "      <td>18</td>\n",
       "      <td>13</td>\n",
       "      <td>4</td>\n",
       "      <td>14</td>\n",
       "    </tr>\n",
       "    <tr>\n",
       "      <th>2020-02-22</th>\n",
       "      <td>28</td>\n",
       "      <td>10</td>\n",
       "      <td>6</td>\n",
       "      <td>23</td>\n",
       "    </tr>\n",
       "    <tr>\n",
       "      <th>2020-02-23</th>\n",
       "      <td>43</td>\n",
       "      <td>15</td>\n",
       "      <td>8</td>\n",
       "      <td>34</td>\n",
       "    </tr>\n",
       "    <tr>\n",
       "      <th>2020-02-24</th>\n",
       "      <td>61</td>\n",
       "      <td>18</td>\n",
       "      <td>12</td>\n",
       "      <td>46</td>\n",
       "    </tr>\n",
       "    <tr>\n",
       "      <th>2020-02-25</th>\n",
       "      <td>95</td>\n",
       "      <td>34</td>\n",
       "      <td>16</td>\n",
       "      <td>54</td>\n",
       "    </tr>\n",
       "    <tr>\n",
       "      <th>2020-02-26</th>\n",
       "      <td>139</td>\n",
       "      <td>44</td>\n",
       "      <td>19</td>\n",
       "      <td>95</td>\n",
       "    </tr>\n",
       "    <tr>\n",
       "      <th>2020-02-27</th>\n",
       "      <td>245</td>\n",
       "      <td>106</td>\n",
       "      <td>26</td>\n",
       "      <td>165</td>\n",
       "    </tr>\n",
       "    <tr>\n",
       "      <th>2020-02-28</th>\n",
       "      <td>388</td>\n",
       "      <td>143</td>\n",
       "      <td>34</td>\n",
       "      <td>281</td>\n",
       "    </tr>\n",
       "    <tr>\n",
       "      <th>2020-02-29</th>\n",
       "      <td>593</td>\n",
       "      <td>205</td>\n",
       "      <td>43</td>\n",
       "      <td>427</td>\n",
       "    </tr>\n",
       "    <tr>\n",
       "      <th>2020-03-01</th>\n",
       "      <td>978</td>\n",
       "      <td>385</td>\n",
       "      <td>54</td>\n",
       "      <td>749</td>\n",
       "    </tr>\n",
       "    <tr>\n",
       "      <th>2020-03-02</th>\n",
       "      <td>1501</td>\n",
       "      <td>523</td>\n",
       "      <td>66</td>\n",
       "      <td>1144</td>\n",
       "    </tr>\n",
       "    <tr>\n",
       "      <th>2020-03-03</th>\n",
       "      <td>2336</td>\n",
       "      <td>835</td>\n",
       "      <td>77</td>\n",
       "      <td>1824</td>\n",
       "    </tr>\n",
       "    <tr>\n",
       "      <th>2020-03-04</th>\n",
       "      <td>2922</td>\n",
       "      <td>586</td>\n",
       "      <td>92</td>\n",
       "      <td>2278</td>\n",
       "    </tr>\n",
       "    <tr>\n",
       "      <th>2020-03-05</th>\n",
       "      <td>3513</td>\n",
       "      <td>591</td>\n",
       "      <td>108</td>\n",
       "      <td>2666</td>\n",
       "    </tr>\n",
       "    <tr>\n",
       "      <th>2020-03-06</th>\n",
       "      <td>4747</td>\n",
       "      <td>1234</td>\n",
       "      <td>124</td>\n",
       "      <td>3710</td>\n",
       "    </tr>\n",
       "    <tr>\n",
       "      <th>2020-03-07</th>\n",
       "      <td>5823</td>\n",
       "      <td>1076</td>\n",
       "      <td>145</td>\n",
       "      <td>4009</td>\n",
       "    </tr>\n",
       "    <tr>\n",
       "      <th>2020-03-08</th>\n",
       "      <td>6566</td>\n",
       "      <td>743</td>\n",
       "      <td>194</td>\n",
       "      <td>4238</td>\n",
       "    </tr>\n",
       "    <tr>\n",
       "      <th>2020-03-09</th>\n",
       "      <td>7161</td>\n",
       "      <td>595</td>\n",
       "      <td>237</td>\n",
       "      <td>4530</td>\n",
       "    </tr>\n",
       "    <tr>\n",
       "      <th>2020-03-10</th>\n",
       "      <td>8042</td>\n",
       "      <td>881</td>\n",
       "      <td>291</td>\n",
       "      <td>5020</td>\n",
       "    </tr>\n",
       "    <tr>\n",
       "      <th>2020-03-11</th>\n",
       "      <td>9000</td>\n",
       "      <td>958</td>\n",
       "      <td>354</td>\n",
       "      <td>5687</td>\n",
       "    </tr>\n",
       "    <tr>\n",
       "      <th>2020-03-12</th>\n",
       "      <td>10075</td>\n",
       "      <td>1075</td>\n",
       "      <td>429</td>\n",
       "      <td>6370</td>\n",
       "    </tr>\n",
       "    <tr>\n",
       "      <th>2020-03-13</th>\n",
       "      <td>11364</td>\n",
       "      <td>1289</td>\n",
       "      <td>514</td>\n",
       "      <td>7321</td>\n",
       "    </tr>\n",
       "    <tr>\n",
       "      <th>2020-03-14</th>\n",
       "      <td>12729</td>\n",
       "      <td>1365</td>\n",
       "      <td>611</td>\n",
       "      <td>7779</td>\n",
       "    </tr>\n",
       "    <tr>\n",
       "      <th>2020-03-15</th>\n",
       "      <td>13938</td>\n",
       "      <td>1209</td>\n",
       "      <td>724</td>\n",
       "      <td>8624</td>\n",
       "    </tr>\n",
       "    <tr>\n",
       "      <th>2020-03-16</th>\n",
       "      <td>14991</td>\n",
       "      <td>1053</td>\n",
       "      <td>853</td>\n",
       "      <td>9142</td>\n",
       "    </tr>\n",
       "    <tr>\n",
       "      <th>2020-03-17</th>\n",
       "      <td>16169</td>\n",
       "      <td>1178</td>\n",
       "      <td>988</td>\n",
       "      <td>9792</td>\n",
       "    </tr>\n",
       "    <tr>\n",
       "      <th>2020-03-18</th>\n",
       "      <td>17361</td>\n",
       "      <td>1192</td>\n",
       "      <td>1135</td>\n",
       "      <td>10516</td>\n",
       "    </tr>\n",
       "    <tr>\n",
       "      <th>2020-03-19</th>\n",
       "      <td>18407</td>\n",
       "      <td>1046</td>\n",
       "      <td>1284</td>\n",
       "      <td>11144</td>\n",
       "    </tr>\n",
       "    <tr>\n",
       "      <th>2020-03-20</th>\n",
       "      <td>19644</td>\n",
       "      <td>1237</td>\n",
       "      <td>1433</td>\n",
       "      <td>11466</td>\n",
       "    </tr>\n",
       "    <tr>\n",
       "      <th>2020-03-21</th>\n",
       "      <td>20610</td>\n",
       "      <td>966</td>\n",
       "      <td>1556</td>\n",
       "      <td>11419</td>\n",
       "    </tr>\n",
       "    <tr>\n",
       "      <th>2020-03-22</th>\n",
       "      <td>21638</td>\n",
       "      <td>1028</td>\n",
       "      <td>1685</td>\n",
       "      <td>12040</td>\n",
       "    </tr>\n",
       "    <tr>\n",
       "      <th>2020-03-23</th>\n",
       "      <td>23049</td>\n",
       "      <td>1411</td>\n",
       "      <td>1812</td>\n",
       "      <td>12861</td>\n",
       "    </tr>\n",
       "    <tr>\n",
       "      <th>2020-03-24</th>\n",
       "      <td>24811</td>\n",
       "      <td>1762</td>\n",
       "      <td>1934</td>\n",
       "      <td>13964</td>\n",
       "    </tr>\n",
       "    <tr>\n",
       "      <th>2020-03-25</th>\n",
       "      <td>27017</td>\n",
       "      <td>2206</td>\n",
       "      <td>2077</td>\n",
       "      <td>15315</td>\n",
       "    </tr>\n",
       "    <tr>\n",
       "      <th>2020-03-26</th>\n",
       "      <td>29406</td>\n",
       "      <td>2389</td>\n",
       "      <td>2234</td>\n",
       "      <td>16715</td>\n",
       "    </tr>\n",
       "  </tbody>\n",
       "</table>\n",
       "</div>"
      ],
      "text/plain": [
       "            Confirmed   New  Deaths  Active\n",
       "Date                                       \n",
       "2020-02-15          0     0       0       0\n",
       "2020-02-16          0     0       0       0\n",
       "2020-02-17          0     0       0       0\n",
       "2020-02-18          0     0       0       0\n",
       "2020-02-19          2     0       2       0\n",
       "2020-02-20          5     3       2       3\n",
       "2020-02-21         18    13       4      14\n",
       "2020-02-22         28    10       6      23\n",
       "2020-02-23         43    15       8      34\n",
       "2020-02-24         61    18      12      46\n",
       "2020-02-25         95    34      16      54\n",
       "2020-02-26        139    44      19      95\n",
       "2020-02-27        245   106      26     165\n",
       "2020-02-28        388   143      34     281\n",
       "2020-02-29        593   205      43     427\n",
       "2020-03-01        978   385      54     749\n",
       "2020-03-02       1501   523      66    1144\n",
       "2020-03-03       2336   835      77    1824\n",
       "2020-03-04       2922   586      92    2278\n",
       "2020-03-05       3513   591     108    2666\n",
       "2020-03-06       4747  1234     124    3710\n",
       "2020-03-07       5823  1076     145    4009\n",
       "2020-03-08       6566   743     194    4238\n",
       "2020-03-09       7161   595     237    4530\n",
       "2020-03-10       8042   881     291    5020\n",
       "2020-03-11       9000   958     354    5687\n",
       "2020-03-12      10075  1075     429    6370\n",
       "2020-03-13      11364  1289     514    7321\n",
       "2020-03-14      12729  1365     611    7779\n",
       "2020-03-15      13938  1209     724    8624\n",
       "2020-03-16      14991  1053     853    9142\n",
       "2020-03-17      16169  1178     988    9792\n",
       "2020-03-18      17361  1192    1135   10516\n",
       "2020-03-19      18407  1046    1284   11144\n",
       "2020-03-20      19644  1237    1433   11466\n",
       "2020-03-21      20610   966    1556   11419\n",
       "2020-03-22      21638  1028    1685   12040\n",
       "2020-03-23      23049  1411    1812   12861\n",
       "2020-03-24      24811  1762    1934   13964\n",
       "2020-03-25      27017  2206    2077   15315\n",
       "2020-03-26      29406  2389    2234   16715"
      ]
     },
     "execution_count": 5,
     "metadata": {},
     "output_type": "execute_result"
    }
   ],
   "source": [
    "df"
   ]
  },
  {
   "cell_type": "code",
   "execution_count": 93,
   "metadata": {},
   "outputs": [
    {
     "data": {
      "image/png": "[encoded data removed]",
      "text/plain": [
       "<Figure size 1080x288 with 1 Axes>"
      ]
     },
     "metadata": {
      "needs_background": "light"
     },
     "output_type": "display_data"
    }
   ],
   "source": [
    "df.plot.area(y=[\"Active\", \"Confirmed\", \"Deaths\", \"New\"], figsize=(15,4), alpha=0.4, subplots=False, stacked=False)\n",
    "fig.autofmt_xdate()"
   ]
  },
  {
   "cell_type": "code",
   "execution_count": 101,
   "metadata": {},
   "outputs": [
    {
     "data": {
      "image/png": "[encoded data removed]",
      "text/plain": [
       "<Figure size 432x288 with 2 Axes>"
      ]
     },
     "metadata": {
      "needs_background": "light"
     },
     "output_type": "display_data"
    }
   ],
   "source": [
    "fig, ax = plt.subplots()\n",
    "ax2 = ax.twinx()\n",
    "ax.bar(df.index, df[\"Confirmed\"], color=(190/255,190/255,190/255,0.7), label='Confirmed')\n",
    "ax2.plot(df.index, df[\"Active\"], color='green', label='Active')\n",
    "ax.set_xticklabels(df.index)\n",
    "ax.legend(loc='best')\n",
    "ax2.legend(loc='best')\n",
    "ax.xaxis.grid(True)\n",
    "ax.yaxis.grid(True)\n",
    "ax.set_title('Banyak kasus aktif dibanding dengan total kasus')\n",
    "fig.autofmt_xdate()"
   ]
  },
  {
   "cell_type": "code",
   "execution_count": 103,
   "metadata": {},
   "outputs": [
    {
     "data": {
      "image/png": "[encoded data removed]",
      "text/plain": [
       "<Figure size 432x288 with 2 Axes>"
      ]
     },
     "metadata": {
      "needs_background": "light"
     },
     "output_type": "display_data"
    }
   ],
   "source": [
    "fig, ax3 = plt.subplots()\n",
    "ax4 = ax3.twinx()\n",
    "ax3.bar(df.index, df[\"New\"], color=(190/255,190/255,190/255,0.7), label='New')\n",
    "ax4.plot(df.index, df[\"Deaths\"], color='red', label='Deaths')\n",
    "ax3.set_xticklabels(df.index)\n",
    "ax3.legend(loc='best')\n",
    "ax4.legend(loc='best')\n",
    "ax3.xaxis.grid(True)\n",
    "ax4.yaxis.grid(True)\n",
    "ax3.set_title('Banyak kasus kematian dibanding dengan kasus baru')\n",
    "fig.autofmt_xdate()"
   ]
  },
  {
   "cell_type": "markdown",
   "metadata": {},
   "source": [
    "## Regressions"
   ]
  },
  {
   "cell_type": "markdown",
   "metadata": {},
   "source": [
    "### Active "
   ]
  },
  {
   "cell_type": "markdown",
   "metadata": {},
   "source": [
    "- Start: 20-Feb-2020\n",
    "- End: 26-Mar-2020\n",
    "- Range: 36 Days"
   ]
  },
  {
   "cell_type": "markdown",
   "metadata": {},
   "source": [
    "**Data**"
   ]
  },
  {
   "cell_type": "code",
   "execution_count": 11,
   "metadata": {},
   "outputs": [
    {
     "data": {
      "text/plain": [
       "array([3.0000e+00, 1.4000e+01, 2.3000e+01, 3.4000e+01, 4.6000e+01,\n",
       "       5.4000e+01, 9.5000e+01, 1.6500e+02, 2.8100e+02, 4.2700e+02,\n",
       "       7.4900e+02, 1.1440e+03, 1.8240e+03, 2.2780e+03, 2.6660e+03,\n",
       "       3.7100e+03, 4.0090e+03, 4.2380e+03, 4.5300e+03, 5.0200e+03,\n",
       "       5.6870e+03, 6.3700e+03, 7.3210e+03, 7.7790e+03, 8.6240e+03,\n",
       "       9.1420e+03, 9.7920e+03, 1.0516e+04, 1.1144e+04, 1.1466e+04,\n",
       "       1.1419e+04, 1.2040e+04, 1.2861e+04, 1.3964e+04, 1.5315e+04,\n",
       "       1.6715e+04])"
      ]
     },
     "execution_count": 11,
     "metadata": {},
     "output_type": "execute_result"
    }
   ],
   "source": [
    "y = np.array ((3, 14, 23, 34, 46, 54, 95, 165, 281, 427, 749, 1144, 1824, 2278, 2666, 3710, 4009, 4238, 4530, 5020, 5687, 6370, 7321, 7779, 8624, 9142, 9792, 10516, 11144, 11466, 11419, 12040, 12861, 13964, 15315, 16715))\n",
    "y = y.astype('float64')\n",
    "y"
   ]
  },
  {
   "cell_type": "code",
   "execution_count": 12,
   "metadata": {},
   "outputs": [
    {
     "data": {
      "text/plain": [
       "array([ 1.,  2.,  3.,  4.,  5.,  6.,  7.,  8.,  9., 10., 11., 12., 13.,\n",
       "       14., 15., 16., 17., 18., 19., 20., 21., 22., 23., 24., 25., 26.,\n",
       "       27., 28., 29., 30., 31., 32., 33., 34., 35., 36.])"
      ]
     },
     "execution_count": 12,
     "metadata": {},
     "output_type": "execute_result"
    }
   ],
   "source": [
    "x = np.array((range(1,1+len(y))))\n",
    "x = x.astype('float64')\n",
    "x"
   ]
  },
  {
   "cell_type": "markdown",
   "metadata": {},
   "source": [
    "**Plot**"
   ]
  },
  {
   "cell_type": "code",
   "execution_count": 13,
   "metadata": {},
   "outputs": [
    {
     "data": {
      "text/plain": [
       "Text(0, 0.5, 'y-jumlah orang')"
      ]
     },
     "execution_count": 13,
     "metadata": {},
     "output_type": "execute_result"
    },
    {
     "data": {
      "image/png": "[encoded data removed]",
      "text/plain": [
       "<Figure size 432x288 with 1 Axes>"
      ]
     },
     "metadata": {
      "needs_background": "light"
     },
     "output_type": "display_data"
    }
   ],
   "source": [
    "ax = plt.plot(x,y,'ro')\n",
    "plt.grid()\n",
    "plt.xlabel('x-hari')\n",
    "plt.ylabel('y-jumlah orang')"
   ]
  },
  {
   "cell_type": "markdown",
   "metadata": {},
   "source": [
    "#### Regresi Berpangkat"
   ]
  },
  {
   "cell_type": "markdown",
   "metadata": {},
   "source": [
    "**Data**"
   ]
  },
  {
   "cell_type": "code",
   "execution_count": 14,
   "metadata": {},
   "outputs": [
    {
     "data": {
      "text/plain": [
       "array([3.0000e+00, 1.4000e+01, 2.3000e+01, 3.4000e+01, 4.6000e+01,\n",
       "       5.4000e+01, 9.5000e+01, 1.6500e+02, 2.8100e+02, 4.2700e+02,\n",
       "       7.4900e+02, 1.1440e+03, 1.8240e+03, 2.2780e+03, 2.6660e+03,\n",
       "       3.7100e+03, 4.0090e+03, 4.2380e+03, 4.5300e+03, 5.0200e+03,\n",
       "       5.6870e+03, 6.3700e+03, 7.3210e+03, 7.7790e+03, 8.6240e+03,\n",
       "       9.1420e+03, 9.7920e+03, 1.0516e+04, 1.1144e+04, 1.1466e+04,\n",
       "       1.1419e+04, 1.2040e+04, 1.2861e+04, 1.3964e+04, 1.5315e+04,\n",
       "       1.6715e+04])"
      ]
     },
     "execution_count": 14,
     "metadata": {},
     "output_type": "execute_result"
    }
   ],
   "source": [
    "y = np.array ((3, 14, 23, 34, 46, 54, 95, 165, 281, 427, 749, 1144, 1824, 2278, 2666, 3710, 4009, 4238, 4530, 5020, 5687, 6370, 7321, 7779, 8624, 9142, 9792, 10516, 11144, 11466, 11419, 12040, 12861, 13964, 15315, 16715))\n",
    "y = y.astype('float64')\n",
    "y"
   ]
  },
  {
   "cell_type": "code",
   "execution_count": 15,
   "metadata": {},
   "outputs": [
    {
     "data": {
      "text/plain": [
       "array([ 1.,  2.,  3.,  4.,  5.,  6.,  7.,  8.,  9., 10., 11., 12., 13.,\n",
       "       14., 15., 16., 17., 18., 19., 20., 21., 22., 23., 24., 25., 26.,\n",
       "       27., 28., 29., 30., 31., 32., 33., 34., 35., 36.])"
      ]
     },
     "execution_count": 15,
     "metadata": {},
     "output_type": "execute_result"
    }
   ],
   "source": [
    "x = np.array((range(1,1+len(y))))\n",
    "x = x.astype('float64')\n",
    "x"
   ]
  },
  {
   "attachments": {
    "image.png": {
     "image/png": "[encoded data removed]"
    }
   },
   "cell_type": "markdown",
   "metadata": {},
   "source": [
    "![image.png](attachment:image.png)"
   ]
  },
  {
   "cell_type": "markdown",
   "metadata": {},
   "source": [
    "**Membuat xreg untuk plotting selanjutnya**"
   ]
  },
  {
   "cell_type": "code",
   "execution_count": 16,
   "metadata": {},
   "outputs": [
    {
     "data": {
      "text/plain": [
       "array([ 1. ,  1.1,  1.2,  1.3,  1.4,  1.5,  1.6,  1.7,  1.8,  1.9,  2. ,\n",
       "        2.1,  2.2,  2.3,  2.4,  2.5,  2.6,  2.7,  2.8,  2.9,  3. ,  3.1,\n",
       "        3.2,  3.3,  3.4,  3.5,  3.6,  3.7,  3.8,  3.9,  4. ,  4.1,  4.2,\n",
       "        4.3,  4.4,  4.5,  4.6,  4.7,  4.8,  4.9,  5. ,  5.1,  5.2,  5.3,\n",
       "        5.4,  5.5,  5.6,  5.7,  5.8,  5.9,  6. ,  6.1,  6.2,  6.3,  6.4,\n",
       "        6.5,  6.6,  6.7,  6.8,  6.9,  7. ,  7.1,  7.2,  7.3,  7.4,  7.5,\n",
       "        7.6,  7.7,  7.8,  7.9,  8. ,  8.1,  8.2,  8.3,  8.4,  8.5,  8.6,\n",
       "        8.7,  8.8,  8.9,  9. ,  9.1,  9.2,  9.3,  9.4,  9.5,  9.6,  9.7,\n",
       "        9.8,  9.9, 10. , 10.1, 10.2, 10.3, 10.4, 10.5, 10.6, 10.7, 10.8,\n",
       "       10.9, 11. , 11.1, 11.2, 11.3, 11.4, 11.5, 11.6, 11.7, 11.8, 11.9,\n",
       "       12. , 12.1, 12.2, 12.3, 12.4, 12.5, 12.6, 12.7, 12.8, 12.9, 13. ,\n",
       "       13.1, 13.2, 13.3, 13.4, 13.5, 13.6, 13.7, 13.8, 13.9, 14. , 14.1,\n",
       "       14.2, 14.3, 14.4, 14.5, 14.6, 14.7, 14.8, 14.9, 15. , 15.1, 15.2,\n",
       "       15.3, 15.4, 15.5, 15.6, 15.7, 15.8, 15.9, 16. , 16.1, 16.2, 16.3,\n",
       "       16.4, 16.5, 16.6, 16.7, 16.8, 16.9, 17. , 17.1, 17.2, 17.3, 17.4,\n",
       "       17.5, 17.6, 17.7, 17.8, 17.9, 18. , 18.1, 18.2, 18.3, 18.4, 18.5,\n",
       "       18.6, 18.7, 18.8, 18.9, 19. , 19.1, 19.2, 19.3, 19.4, 19.5, 19.6,\n",
       "       19.7, 19.8, 19.9, 20. , 20.1, 20.2, 20.3, 20.4, 20.5, 20.6, 20.7,\n",
       "       20.8, 20.9, 21. , 21.1, 21.2, 21.3, 21.4, 21.5, 21.6, 21.7, 21.8,\n",
       "       21.9, 22. , 22.1, 22.2, 22.3, 22.4, 22.5, 22.6, 22.7, 22.8, 22.9,\n",
       "       23. , 23.1, 23.2, 23.3, 23.4, 23.5, 23.6, 23.7, 23.8, 23.9, 24. ,\n",
       "       24.1, 24.2, 24.3, 24.4, 24.5, 24.6, 24.7, 24.8, 24.9, 25. , 25.1,\n",
       "       25.2, 25.3, 25.4, 25.5, 25.6, 25.7, 25.8, 25.9, 26. , 26.1, 26.2,\n",
       "       26.3, 26.4, 26.5, 26.6, 26.7, 26.8, 26.9, 27. , 27.1, 27.2, 27.3,\n",
       "       27.4, 27.5, 27.6, 27.7, 27.8, 27.9, 28. , 28.1, 28.2, 28.3, 28.4,\n",
       "       28.5, 28.6, 28.7, 28.8, 28.9, 29. , 29.1, 29.2, 29.3, 29.4, 29.5,\n",
       "       29.6, 29.7, 29.8, 29.9, 30. , 30.1, 30.2, 30.3, 30.4, 30.5, 30.6,\n",
       "       30.7, 30.8, 30.9, 31. , 31.1, 31.2, 31.3, 31.4, 31.5, 31.6, 31.7,\n",
       "       31.8, 31.9, 32. , 32.1, 32.2, 32.3, 32.4, 32.5, 32.6, 32.7, 32.8,\n",
       "       32.9, 33. , 33.1, 33.2, 33.3, 33.4, 33.5, 33.6, 33.7, 33.8, 33.9,\n",
       "       34. , 34.1, 34.2, 34.3, 34.4, 34.5, 34.6, 34.7, 34.8, 34.9, 35. ,\n",
       "       35.1, 35.2, 35.3, 35.4, 35.5, 35.6, 35.7, 35.8, 35.9, 36. , 36.1,\n",
       "       36.2, 36.3, 36.4, 36.5, 36.6, 36.7, 36.8, 36.9])"
      ]
     },
     "execution_count": 16,
     "metadata": {},
     "output_type": "execute_result"
    }
   ],
   "source": [
    "#membuat xreg\n",
    "xreg = np.array(range(10,int((x[-1]+1)*10)))\n",
    "xreg = xreg/10 #memperhalus bentuk garis\n",
    "xreg = xreg.astype('float64')\n",
    "xreg"
   ]
  },
  {
   "cell_type": "markdown",
   "metadata": {},
   "source": [
    "**Regresi berpangkat**"
   ]
  },
  {
   "attachments": {
    "image.png": {
     "image/png": "[encoded data removed]"
    }
   },
   "cell_type": "markdown",
   "metadata": {},
   "source": [
    "![image.png](attachment:image.png)"
   ]
  },
  {
   "attachments": {
    "image.png": {
     "image/png": "[encoded data removed]"
    }
   },
   "cell_type": "markdown",
   "metadata": {},
   "source": [
    "![image.png](attachment:image.png)"
   ]
  },
  {
   "attachments": {
    "image.png": {
     "image/png": "[encoded data removed]"
    }
   },
   "cell_type": "markdown",
   "metadata": {},
   "source": [
    "![image.png](attachment:image.png)"
   ]
  },
  {
   "cell_type": "code",
   "execution_count": 17,
   "metadata": {},
   "outputs": [],
   "source": [
    "p = np.log10(y)\n",
    "q = np.log10(x)"
   ]
  },
  {
   "cell_type": "markdown",
   "metadata": {},
   "source": [
    "**Hitung regresi linear**"
   ]
  },
  {
   "cell_type": "code",
   "execution_count": 18,
   "metadata": {},
   "outputs": [],
   "source": [
    "n = len(y)\n",
    "pq = p*q\n",
    "qq = q**2\n",
    "B = (n*pq.sum() - q.sum()*p.sum())/(n*qq.sum() - (q.sum())**2)\n",
    "A = p.mean()-B*q.mean()"
   ]
  },
  {
   "cell_type": "markdown",
   "metadata": {},
   "source": [
    "**Hasil regresi linear**"
   ]
  },
  {
   "cell_type": "code",
   "execution_count": 19,
   "metadata": {},
   "outputs": [
    {
     "name": "stdout",
     "output_type": "stream",
     "text": [
      "p = 2.7118q + 0.0755\n"
     ]
    }
   ],
   "source": [
    "if A>0 :\n",
    "    print (\"p = {:.4f}q + {:.4f}\". format(B,A))\n",
    "else :\n",
    "    print (\"p = {:.4f}q {:.4f}\". format(B,A))"
   ]
  },
  {
   "cell_type": "markdown",
   "metadata": {},
   "source": [
    "**Kembalikan ke bentuk pangkat**"
   ]
  },
  {
   "cell_type": "code",
   "execution_count": 20,
   "metadata": {},
   "outputs": [
    {
     "name": "stdout",
     "output_type": "stream",
     "text": [
      "y = 1.1899x^(2.7118)\n"
     ]
    }
   ],
   "source": [
    "a = 10**A #A=log(a)\n",
    "b = B\n",
    "print (\"y = {:.4f}x^({:.4f})\".format(a,b))"
   ]
  },
  {
   "cell_type": "markdown",
   "metadata": {},
   "source": [
    "**Koefisien Korelasi ( r ) dan Derajat Kesesuaian ( R ) r-square**"
   ]
  },
  {
   "cell_type": "code",
   "execution_count": 21,
   "metadata": {},
   "outputs": [
    {
     "name": "stdout",
     "output_type": "stream",
     "text": [
      "r = 0.9843 dan r^2 = 0.9688\n"
     ]
    }
   ],
   "source": [
    "yDt = ((p - p.mean())**2).sum()\n",
    "yD = ((p - (q*B) - A)**2).sum()\n",
    "r = np.sqrt((yDt-yD)/yDt)\n",
    "r2 = r**2\n",
    "print('r = {:.4f} dan r^2 = {:.4f}'.format(r,r2))"
   ]
  },
  {
   "cell_type": "markdown",
   "metadata": {},
   "source": [
    "**Plot**"
   ]
  },
  {
   "cell_type": "code",
   "execution_count": 22,
   "metadata": {},
   "outputs": [
    {
     "data": {
      "text/plain": [
       "array([1.18990527e+00, 1.54085764e+00, 1.95091727e+00, 2.42386231e+00,\n",
       "       2.96338100e+00, 3.57308055e+00, 4.25649451e+00, 5.01708907e+00,\n",
       "       5.85826849e+00, 6.78337968e+00, 7.79571638e+00, 8.89852266e+00,\n",
       "       1.00949962e+01, 1.13882909e+01, 1.27815197e+01, 1.42777569e+01,\n",
       "       1.58800398e+01, 1.75913711e+01, 1.94147201e+01, 2.13530249e+01,\n",
       "       2.34091933e+01, 2.55861044e+01, 2.78866097e+01, 3.03135344e+01,\n",
       "       3.28696782e+01, 3.55578168e+01, 3.83807019e+01, 4.13410632e+01,\n",
       "       4.44416084e+01, 4.76850240e+01, 5.10739764e+01, 5.46111125e+01,\n",
       "       5.82990600e+01, 6.21404281e+01, 6.61378083e+01, 7.02937749e+01,\n",
       "       7.46108852e+01, 7.90916801e+01, 8.37386850e+01, 8.85544095e+01,\n",
       "       9.35413482e+01, 9.87019814e+01, 1.04038775e+02, 1.09554180e+02,\n",
       "       1.15250636e+02, 1.21130568e+02, 1.27196387e+02, 1.33450494e+02,\n",
       "       1.39895276e+02, 1.46533107e+02, 1.53366353e+02, 1.60397364e+02,\n",
       "       1.67628481e+02, 1.75062034e+02, 1.82700342e+02, 1.90545713e+02,\n",
       "       1.98600445e+02, 2.06866826e+02, 2.15347133e+02, 2.24043635e+02,\n",
       "       2.32958590e+02, 2.42094247e+02, 2.51452845e+02, 2.61036617e+02,\n",
       "       2.70847782e+02, 2.80888554e+02, 2.91161139e+02, 3.01667731e+02,\n",
       "       3.12410518e+02, 3.23391680e+02, 3.34613388e+02, 3.46077806e+02,\n",
       "       3.57787090e+02, 3.69743387e+02, 3.81948838e+02, 3.94405577e+02,\n",
       "       4.07115729e+02, 4.20081413e+02, 4.33304741e+02, 4.46787816e+02,\n",
       "       4.60532737e+02, 4.74541595e+02, 4.88816474e+02, 5.03359451e+02,\n",
       "       5.18172598e+02, 5.33257979e+02, 5.48617653e+02, 5.64253672e+02,\n",
       "       5.80168082e+02, 5.96362924e+02, 6.12840230e+02, 6.29602029e+02,\n",
       "       6.46650343e+02, 6.63987189e+02, 6.81614578e+02, 6.99534514e+02,\n",
       "       7.17748998e+02, 7.36260023e+02, 7.55069578e+02, 7.74179646e+02,\n",
       "       7.93592206e+02, 8.13309231e+02, 8.33332687e+02, 8.53664538e+02,\n",
       "       8.74306742e+02, 8.95261250e+02, 9.16530011e+02, 9.38114967e+02,\n",
       "       9.60018056e+02, 9.82241211e+02, 1.00478636e+03, 1.02765543e+03,\n",
       "       1.05085034e+03, 1.07437300e+03, 1.09822532e+03, 1.12240921e+03,\n",
       "       1.14692656e+03, 1.17177929e+03, 1.19696927e+03, 1.22249840e+03,\n",
       "       1.24836856e+03, 1.27458163e+03, 1.30113949e+03, 1.32804401e+03,\n",
       "       1.35529705e+03, 1.38290048e+03, 1.41085615e+03, 1.43916593e+03,\n",
       "       1.46783166e+03, 1.49685520e+03, 1.52623838e+03, 1.55598305e+03,\n",
       "       1.58609104e+03, 1.61656418e+03, 1.64740430e+03, 1.67861324e+03,\n",
       "       1.71019280e+03, 1.74214481e+03, 1.77447108e+03, 1.80717342e+03,\n",
       "       1.84025364e+03, 1.87371354e+03, 1.90755492e+03, 1.94177958e+03,\n",
       "       1.97638932e+03, 2.01138591e+03, 2.04677116e+03, 2.08254683e+03,\n",
       "       2.11871472e+03, 2.15527659e+03, 2.19223423e+03, 2.22958940e+03,\n",
       "       2.26734387e+03, 2.30549940e+03, 2.34405775e+03, 2.38302068e+03,\n",
       "       2.42238995e+03, 2.46216731e+03, 2.50235450e+03, 2.54295328e+03,\n",
       "       2.58396537e+03, 2.62539253e+03, 2.66723649e+03, 2.70949898e+03,\n",
       "       2.75218173e+03, 2.79528648e+03, 2.83881494e+03, 2.88276884e+03,\n",
       "       2.92714990e+03, 2.97195983e+03, 3.01720035e+03, 3.06287317e+03,\n",
       "       3.10897999e+03, 3.15552253e+03, 3.20250248e+03, 3.24992155e+03,\n",
       "       3.29778143e+03, 3.34608382e+03, 3.39483041e+03, 3.44402289e+03,\n",
       "       3.49366295e+03, 3.54375226e+03, 3.59429252e+03, 3.64528541e+03,\n",
       "       3.69673259e+03, 3.74863574e+03, 3.80099654e+03, 3.85381665e+03,\n",
       "       3.90709775e+03, 3.96084149e+03, 4.01504954e+03, 4.06972356e+03,\n",
       "       4.12486520e+03, 4.18047612e+03, 4.23655798e+03, 4.29311241e+03,\n",
       "       4.35014108e+03, 4.40764562e+03, 4.46562769e+03, 4.52408891e+03,\n",
       "       4.58303093e+03, 4.64245539e+03, 4.70236392e+03, 4.76275815e+03,\n",
       "       4.82363970e+03, 4.88501022e+03, 4.94687133e+03, 5.00922464e+03,\n",
       "       5.07207177e+03, 5.13541436e+03, 5.19925401e+03, 5.26359234e+03,\n",
       "       5.32843096e+03, 5.39377148e+03, 5.45961551e+03, 5.52596465e+03,\n",
       "       5.59282052e+03, 5.66018471e+03, 5.72805882e+03, 5.79644445e+03,\n",
       "       5.86534319e+03, 5.93475665e+03, 6.00468641e+03, 6.07513406e+03,\n",
       "       6.14610119e+03, 6.21758939e+03, 6.28960023e+03, 6.36213531e+03,\n",
       "       6.43519621e+03, 6.50878449e+03, 6.58290174e+03, 6.65754954e+03,\n",
       "       6.73272945e+03, 6.80844304e+03, 6.88469189e+03, 6.96147756e+03,\n",
       "       7.03880162e+03, 7.11666562e+03, 7.19507114e+03, 7.27401973e+03,\n",
       "       7.35351295e+03, 7.43355235e+03, 7.51413949e+03, 7.59527593e+03,\n",
       "       7.67696321e+03, 7.75920287e+03, 7.84199648e+03, 7.92534557e+03,\n",
       "       8.00925169e+03, 8.09371638e+03, 8.17874118e+03, 8.26432763e+03,\n",
       "       8.35047726e+03, 8.43719162e+03, 8.52447223e+03, 8.61232062e+03,\n",
       "       8.70073833e+03, 8.78972689e+03, 8.87928781e+03, 8.96942264e+03,\n",
       "       9.06013288e+03, 9.15142007e+03, 9.24328571e+03, 9.33573134e+03,\n",
       "       9.42875847e+03, 9.52236860e+03, 9.61656327e+03, 9.71134398e+03,\n",
       "       9.80671223e+03, 9.90266955e+03, 9.99921743e+03, 1.00963574e+04,\n",
       "       1.01940909e+04, 1.02924195e+04, 1.03913447e+04, 1.04908680e+04,\n",
       "       1.05909908e+04, 1.06917148e+04, 1.07930413e+04, 1.08949718e+04,\n",
       "       1.09975080e+04, 1.11006511e+04, 1.12044028e+04, 1.13087646e+04,\n",
       "       1.14137378e+04, 1.15193241e+04, 1.16255248e+04, 1.17323415e+04,\n",
       "       1.18397756e+04, 1.19478286e+04, 1.20565021e+04, 1.21657974e+04,\n",
       "       1.22757161e+04, 1.23862596e+04, 1.24974294e+04, 1.26092270e+04,\n",
       "       1.27216538e+04, 1.28347113e+04, 1.29484010e+04, 1.30627243e+04,\n",
       "       1.31776827e+04, 1.32932777e+04, 1.34095107e+04, 1.35263831e+04,\n",
       "       1.36438966e+04, 1.37620524e+04, 1.38808520e+04, 1.40002970e+04,\n",
       "       1.41203888e+04, 1.42411287e+04, 1.43625183e+04, 1.44845591e+04,\n",
       "       1.46072524e+04, 1.47305997e+04, 1.48546024e+04, 1.49792620e+04,\n",
       "       1.51045800e+04, 1.52305578e+04, 1.53571968e+04, 1.54844984e+04,\n",
       "       1.56124641e+04, 1.57410954e+04, 1.58703936e+04, 1.60003602e+04,\n",
       "       1.61309967e+04, 1.62623044e+04, 1.63942848e+04, 1.65269394e+04,\n",
       "       1.66602695e+04, 1.67942766e+04, 1.69289620e+04, 1.70643273e+04,\n",
       "       1.72003739e+04, 1.73371031e+04, 1.74745164e+04, 1.76126152e+04,\n",
       "       1.77514009e+04, 1.78908750e+04, 1.80310389e+04, 1.81718939e+04,\n",
       "       1.83134415e+04, 1.84556831e+04, 1.85986201e+04, 1.87422539e+04,\n",
       "       1.88865860e+04, 1.90316177e+04, 1.91773504e+04, 1.93237856e+04,\n",
       "       1.94709247e+04, 1.96187690e+04, 1.97673199e+04, 1.99165789e+04,\n",
       "       2.00665474e+04, 2.02172267e+04, 2.03686183e+04, 2.05207235e+04,\n",
       "       2.06735437e+04, 2.08270804e+04, 2.09813349e+04, 2.11363087e+04])"
      ]
     },
     "execution_count": 22,
     "metadata": {},
     "output_type": "execute_result"
    }
   ],
   "source": [
    "#membuat yreg\n",
    "yreg = a*(xreg**b)\n",
    "yreg\n",
    "    "
   ]
  },
  {
   "cell_type": "code",
   "execution_count": 23,
   "metadata": {},
   "outputs": [
    {
     "data": {
      "text/plain": [
       "Text(0, 0.5, 'y-banyak orang')"
      ]
     },
     "execution_count": 23,
     "metadata": {},
     "output_type": "execute_result"
    },
    {
     "data": {
      "image/png": "[encoded data removed]",
      "text/plain": [
       "<Figure size 432x288 with 1 Axes>"
      ]
     },
     "metadata": {
      "needs_background": "light"
     },
     "output_type": "display_data"
    }
   ],
   "source": [
    "ax = plt.plot(x,y,'ro')\n",
    "plt.plot(xreg,yreg,'g')\n",
    "plt.grid()\n",
    "plt.xlabel('x-hari ke')\n",
    "plt.ylabel('y-banyak orang')"
   ]
  },
  {
   "cell_type": "markdown",
   "metadata": {},
   "source": [
    "#### Regresi Eksponensial"
   ]
  },
  {
   "attachments": {
    "image.png": {
     "image/png": "[encoded data removed]"
    }
   },
   "cell_type": "markdown",
   "metadata": {},
   "source": [
    "![image.png](attachment:image.png)"
   ]
  },
  {
   "attachments": {
    "image.png": {
     "image/png": "[encoded data removed]"
    }
   },
   "cell_type": "markdown",
   "metadata": {},
   "source": [
    "![image.png](attachment:image.png)"
   ]
  },
  {
   "attachments": {
    "image.png": {
     "image/png": "[encoded data removed]"
    }
   },
   "cell_type": "markdown",
   "metadata": {},
   "source": [
    "![image.png](attachment:image.png)"
   ]
  },
  {
   "cell_type": "markdown",
   "metadata": {},
   "source": [
    "**Linearisasi**"
   ]
  },
  {
   "cell_type": "code",
   "execution_count": 24,
   "metadata": {},
   "outputs": [
    {
     "data": {
      "text/plain": [
       "array([3.0000e+00, 1.4000e+01, 2.3000e+01, 3.4000e+01, 4.6000e+01,\n",
       "       5.4000e+01, 9.5000e+01, 1.6500e+02, 2.8100e+02, 4.2700e+02,\n",
       "       7.4900e+02, 1.1440e+03, 1.8240e+03, 2.2780e+03, 2.6660e+03,\n",
       "       3.7100e+03, 4.0090e+03, 4.2380e+03, 4.5300e+03, 5.0200e+03,\n",
       "       5.6870e+03, 6.3700e+03, 7.3210e+03, 7.7790e+03, 8.6240e+03,\n",
       "       9.1420e+03, 9.7920e+03, 1.0516e+04, 1.1144e+04, 1.1466e+04,\n",
       "       1.1419e+04, 1.2040e+04, 1.2861e+04, 1.3964e+04, 1.5315e+04,\n",
       "       1.6715e+04])"
      ]
     },
     "execution_count": 24,
     "metadata": {},
     "output_type": "execute_result"
    }
   ],
   "source": [
    "y = np.array ((3, 14, 23, 34, 46, 54, 95, 165, 281, 427, 749, 1144, 1824, 2278, 2666, 3710, 4009, 4238, 4530, 5020, 5687, 6370, 7321, 7779, 8624, 9142, 9792, 10516, 11144, 11466, 11419, 12040, 12861, 13964, 15315, 16715))\n",
    "y = y.astype('float64')\n",
    "y"
   ]
  },
  {
   "cell_type": "code",
   "execution_count": 25,
   "metadata": {},
   "outputs": [
    {
     "data": {
      "text/plain": [
       "array([ 1.,  2.,  3.,  4.,  5.,  6.,  7.,  8.,  9., 10., 11., 12., 13.,\n",
       "       14., 15., 16., 17., 18., 19., 20., 21., 22., 23., 24., 25., 26.,\n",
       "       27., 28., 29., 30., 31., 32., 33., 34., 35., 36.])"
      ]
     },
     "execution_count": 25,
     "metadata": {},
     "output_type": "execute_result"
    }
   ],
   "source": [
    "x = np.array((range(1,1+len(y))))\n",
    "x = x.astype('float64')\n",
    "x"
   ]
  },
  {
   "cell_type": "code",
   "execution_count": 26,
   "metadata": {},
   "outputs": [],
   "source": [
    "p = np.log(y)\n",
    "q = x"
   ]
  },
  {
   "cell_type": "markdown",
   "metadata": {},
   "source": [
    "**Hitung regresi linear**"
   ]
  },
  {
   "attachments": {
    "image.png": {
     "image/png": "[encoded data removed]"
    }
   },
   "cell_type": "markdown",
   "metadata": {},
   "source": [
    "![image.png](attachment:image.png)"
   ]
  },
  {
   "cell_type": "code",
   "execution_count": 27,
   "metadata": {},
   "outputs": [],
   "source": [
    "n = len(y)\n",
    "pq = p*q\n",
    "qq = q**2\n",
    "B = (n*pq.sum() - q.sum()*p.sum())/(n*qq.sum() - (q.sum())**2)\n",
    "A = p.mean()-B*q.mean()"
   ]
  },
  {
   "cell_type": "markdown",
   "metadata": {},
   "source": [
    "**Hasil persamaan linear**"
   ]
  },
  {
   "cell_type": "code",
   "execution_count": 28,
   "metadata": {},
   "outputs": [
    {
     "name": "stdout",
     "output_type": "stream",
     "text": [
      "p = 0.2069q + 3.5562\n"
     ]
    }
   ],
   "source": [
    "if A>0 :\n",
    "    print (\"p = {:.4f}q + {:.4f}\". format(B,A))\n",
    "else :\n",
    "    print (\"p = {:.4f}q {:.4f}\". format(B,A))"
   ]
  },
  {
   "cell_type": "markdown",
   "metadata": {},
   "source": [
    "**Hitung kembali dalam bentuk bilangan berpangkat**"
   ]
  },
  {
   "cell_type": "code",
   "execution_count": 29,
   "metadata": {},
   "outputs": [],
   "source": [
    "a = np.e**A\n",
    "b = B"
   ]
  },
  {
   "cell_type": "code",
   "execution_count": 30,
   "metadata": {},
   "outputs": [
    {
     "name": "stdout",
     "output_type": "stream",
     "text": [
      "y = 35.0310x^(0.2069)\n"
     ]
    }
   ],
   "source": [
    "print (\"y = {:.4f}x^({:.4f})\".format(a,b))"
   ]
  },
  {
   "cell_type": "markdown",
   "metadata": {},
   "source": [
    "**Koefisien Korelasi ( r ) dan Derajat Kesesuaian ( R ) r-square**"
   ]
  },
  {
   "cell_type": "code",
   "execution_count": 31,
   "metadata": {},
   "outputs": [
    {
     "name": "stdout",
     "output_type": "stream",
     "text": [
      "r = 0.9144 dan r^2 = 0.8362\n"
     ]
    }
   ],
   "source": [
    "yDt = ((p - p.mean())**2).sum()\n",
    "yD = ((p - (q*B) - A)**2).sum()\n",
    "r = np.sqrt((yDt-yD)/yDt)\n",
    "r2 = r**2\n",
    "print('r = {:.4f} dan r^2 = {:.4f}'.format(r,r2))"
   ]
  },
  {
   "cell_type": "markdown",
   "metadata": {},
   "source": [
    "**Plot data dan regresinya**"
   ]
  },
  {
   "cell_type": "code",
   "execution_count": 32,
   "metadata": {},
   "outputs": [
    {
     "data": {
      "text/plain": [
       "array([ 0. ,  0.1,  0.2,  0.3,  0.4,  0.5,  0.6,  0.7,  0.8,  0.9,  1. ,\n",
       "        1.1,  1.2,  1.3,  1.4,  1.5,  1.6,  1.7,  1.8,  1.9,  2. ,  2.1,\n",
       "        2.2,  2.3,  2.4,  2.5,  2.6,  2.7,  2.8,  2.9,  3. ,  3.1,  3.2,\n",
       "        3.3,  3.4,  3.5,  3.6,  3.7,  3.8,  3.9,  4. ,  4.1,  4.2,  4.3,\n",
       "        4.4,  4.5,  4.6,  4.7,  4.8,  4.9,  5. ,  5.1,  5.2,  5.3,  5.4,\n",
       "        5.5,  5.6,  5.7,  5.8,  5.9,  6. ,  6.1,  6.2,  6.3,  6.4,  6.5,\n",
       "        6.6,  6.7,  6.8,  6.9,  7. ,  7.1,  7.2,  7.3,  7.4,  7.5,  7.6,\n",
       "        7.7,  7.8,  7.9,  8. ,  8.1,  8.2,  8.3,  8.4,  8.5,  8.6,  8.7,\n",
       "        8.8,  8.9,  9. ,  9.1,  9.2,  9.3,  9.4,  9.5,  9.6,  9.7,  9.8,\n",
       "        9.9, 10. , 10.1, 10.2, 10.3, 10.4, 10.5, 10.6, 10.7, 10.8, 10.9,\n",
       "       11. , 11.1, 11.2, 11.3, 11.4, 11.5, 11.6, 11.7, 11.8, 11.9, 12. ,\n",
       "       12.1, 12.2, 12.3, 12.4, 12.5, 12.6, 12.7, 12.8, 12.9, 13. , 13.1,\n",
       "       13.2, 13.3, 13.4, 13.5, 13.6, 13.7, 13.8, 13.9, 14. , 14.1, 14.2,\n",
       "       14.3, 14.4, 14.5, 14.6, 14.7, 14.8, 14.9, 15. , 15.1, 15.2, 15.3,\n",
       "       15.4, 15.5, 15.6, 15.7, 15.8, 15.9, 16. , 16.1, 16.2, 16.3, 16.4,\n",
       "       16.5, 16.6, 16.7, 16.8, 16.9, 17. , 17.1, 17.2, 17.3, 17.4, 17.5,\n",
       "       17.6, 17.7, 17.8, 17.9, 18. , 18.1, 18.2, 18.3, 18.4, 18.5, 18.6,\n",
       "       18.7, 18.8, 18.9, 19. , 19.1, 19.2, 19.3, 19.4, 19.5, 19.6, 19.7,\n",
       "       19.8, 19.9, 20. , 20.1, 20.2, 20.3, 20.4, 20.5, 20.6, 20.7, 20.8,\n",
       "       20.9, 21. , 21.1, 21.2, 21.3, 21.4, 21.5, 21.6, 21.7, 21.8, 21.9,\n",
       "       22. , 22.1, 22.2, 22.3, 22.4, 22.5, 22.6, 22.7, 22.8, 22.9, 23. ,\n",
       "       23.1, 23.2, 23.3, 23.4, 23.5, 23.6, 23.7, 23.8, 23.9, 24. , 24.1,\n",
       "       24.2, 24.3, 24.4, 24.5, 24.6, 24.7, 24.8, 24.9, 25. , 25.1, 25.2,\n",
       "       25.3, 25.4, 25.5, 25.6, 25.7, 25.8, 25.9, 26. , 26.1, 26.2, 26.3,\n",
       "       26.4, 26.5, 26.6, 26.7, 26.8, 26.9, 27. , 27.1, 27.2, 27.3, 27.4,\n",
       "       27.5, 27.6, 27.7, 27.8, 27.9, 28. , 28.1, 28.2, 28.3, 28.4, 28.5,\n",
       "       28.6, 28.7, 28.8, 28.9, 29. , 29.1, 29.2, 29.3, 29.4, 29.5, 29.6,\n",
       "       29.7, 29.8, 29.9, 30. , 30.1, 30.2, 30.3, 30.4, 30.5, 30.6, 30.7,\n",
       "       30.8, 30.9, 31. , 31.1, 31.2, 31.3, 31.4, 31.5, 31.6, 31.7, 31.8,\n",
       "       31.9, 32. , 32.1, 32.2, 32.3, 32.4, 32.5, 32.6, 32.7, 32.8, 32.9,\n",
       "       33. , 33.1, 33.2, 33.3, 33.4, 33.5, 33.6, 33.7, 33.8, 33.9, 34. ,\n",
       "       34.1, 34.2, 34.3, 34.4, 34.5, 34.6, 34.7, 34.8, 34.9, 35. , 35.1,\n",
       "       35.2, 35.3, 35.4, 35.5, 35.6, 35.7, 35.8, 35.9, 36. , 36.1, 36.2,\n",
       "       36.3, 36.4, 36.5, 36.6, 36.7, 36.8, 36.9])"
      ]
     },
     "execution_count": 32,
     "metadata": {},
     "output_type": "execute_result"
    }
   ],
   "source": [
    "#membuat xreg\n",
    "xreg = np.array(range(0,int((x[-1]+1)*10)))\n",
    "xreg = xreg/10 #memperhalus bentuk garis\n",
    "xreg = xreg.astype('float64')\n",
    "xreg"
   ]
  },
  {
   "cell_type": "code",
   "execution_count": 33,
   "metadata": {},
   "outputs": [
    {
     "data": {
      "text/plain": [
       "array([3.50310347e+01, 3.57634607e+01, 3.65112001e+01, 3.72745733e+01,\n",
       "       3.80539069e+01, 3.88495348e+01, 3.96617977e+01, 4.04910432e+01,\n",
       "       4.13376266e+01, 4.22019102e+01, 4.30842642e+01, 4.39850664e+01,\n",
       "       4.49047025e+01, 4.58435663e+01, 4.68020598e+01, 4.77805933e+01,\n",
       "       4.87795860e+01, 4.97994655e+01, 5.08406686e+01, 5.19036410e+01,\n",
       "       5.29888380e+01, 5.40967242e+01, 5.52277740e+01, 5.63824717e+01,\n",
       "       5.75613117e+01, 5.87647988e+01, 5.99934483e+01, 6.12477863e+01,\n",
       "       6.25283499e+01, 6.38356875e+01, 6.51703587e+01, 6.65329351e+01,\n",
       "       6.79240002e+01, 6.93441495e+01, 7.07939912e+01, 7.22741460e+01,\n",
       "       7.37852478e+01, 7.53279436e+01, 7.69028940e+01, 7.85107733e+01,\n",
       "       8.01522700e+01, 8.18280870e+01, 8.35389418e+01, 8.52855670e+01,\n",
       "       8.70687105e+01, 8.88891358e+01, 9.07476225e+01, 9.26449662e+01,\n",
       "       9.45819794e+01, 9.65594915e+01, 9.85783493e+01, 1.00639417e+02,\n",
       "       1.02743578e+02, 1.04891732e+02, 1.07084799e+02, 1.09323720e+02,\n",
       "       1.11609451e+02, 1.13942972e+02, 1.16325282e+02, 1.18757401e+02,\n",
       "       1.21240371e+02, 1.23775255e+02, 1.26363137e+02, 1.29005127e+02,\n",
       "       1.31702356e+02, 1.34455978e+02, 1.37267172e+02, 1.40137142e+02,\n",
       "       1.43067118e+02, 1.46058354e+02, 1.49112129e+02, 1.52229753e+02,\n",
       "       1.55412560e+02, 1.58661913e+02, 1.61979203e+02, 1.65365851e+02,\n",
       "       1.68823306e+02, 1.72353050e+02, 1.75956593e+02, 1.79635479e+02,\n",
       "       1.83391282e+02, 1.87225612e+02, 1.91140110e+02, 1.95136451e+02,\n",
       "       1.99216348e+02, 2.03381546e+02, 2.07633831e+02, 2.11975022e+02,\n",
       "       2.16406978e+02, 2.20931597e+02, 2.25550816e+02, 2.30266614e+02,\n",
       "       2.35081009e+02, 2.39996063e+02, 2.45013881e+02, 2.50136610e+02,\n",
       "       2.55366446e+02, 2.60705626e+02, 2.66156437e+02, 2.71721214e+02,\n",
       "       2.77402339e+02, 2.83202243e+02, 2.89123412e+02, 2.95168381e+02,\n",
       "       3.01339736e+02, 3.07640122e+02, 3.14072236e+02, 3.20638833e+02,\n",
       "       3.27342722e+02, 3.34186777e+02, 3.41173926e+02, 3.48307162e+02,\n",
       "       3.55589539e+02, 3.63024175e+02, 3.70614255e+02, 3.78363027e+02,\n",
       "       3.86273809e+02, 3.94349990e+02, 4.02595026e+02, 4.11012450e+02,\n",
       "       4.19605864e+02, 4.28378948e+02, 4.37335459e+02, 4.46479232e+02,\n",
       "       4.55814183e+02, 4.65344308e+02, 4.75073688e+02, 4.85006489e+02,\n",
       "       4.95146964e+02, 5.05499455e+02, 5.16068396e+02, 5.26858311e+02,\n",
       "       5.37873820e+02, 5.49119641e+02, 5.60600589e+02, 5.72321579e+02,\n",
       "       5.84287631e+02, 5.96503868e+02, 6.08975521e+02, 6.21707931e+02,\n",
       "       6.34706548e+02, 6.47976940e+02, 6.61524787e+02, 6.75355892e+02,\n",
       "       6.89476177e+02, 7.03891687e+02, 7.18608596e+02, 7.33633205e+02,\n",
       "       7.48971946e+02, 7.64631389e+02, 7.80618239e+02, 7.96939340e+02,\n",
       "       8.13601681e+02, 8.30612397e+02, 8.47978771e+02, 8.65708241e+02,\n",
       "       8.83808396e+02, 9.02286989e+02, 9.21151930e+02, 9.40411297e+02,\n",
       "       9.60073338e+02, 9.80146471e+02, 1.00063929e+03, 1.02156057e+03,\n",
       "       1.04291928e+03, 1.06472455e+03, 1.08698572e+03, 1.10971233e+03,\n",
       "       1.13291410e+03, 1.15660097e+03, 1.18078309e+03, 1.20547080e+03,\n",
       "       1.23067469e+03, 1.25640553e+03, 1.28267435e+03, 1.30949240e+03,\n",
       "       1.33687116e+03, 1.36482235e+03, 1.39335794e+03, 1.42249015e+03,\n",
       "       1.45223146e+03, 1.48259459e+03, 1.51359255e+03, 1.54523862e+03,\n",
       "       1.57754634e+03, 1.61052955e+03, 1.64420237e+03, 1.67857921e+03,\n",
       "       1.71367481e+03, 1.74950418e+03, 1.78608266e+03, 1.82342593e+03,\n",
       "       1.86154997e+03, 1.90047110e+03, 1.94020599e+03, 1.98077165e+03,\n",
       "       2.02218546e+03, 2.06446515e+03, 2.10762881e+03, 2.15169494e+03,\n",
       "       2.19668240e+03, 2.24261045e+03, 2.28949876e+03, 2.33736741e+03,\n",
       "       2.38623689e+03, 2.43612814e+03, 2.48706250e+03, 2.53906180e+03,\n",
       "       2.59214829e+03, 2.64634471e+03, 2.70167426e+03, 2.75816064e+03,\n",
       "       2.81582803e+03, 2.87470113e+03, 2.93480514e+03, 2.99616580e+03,\n",
       "       3.05880939e+03, 3.12276272e+03, 3.18805318e+03, 3.25470873e+03,\n",
       "       3.32275791e+03, 3.39222986e+03, 3.46315431e+03, 3.53556166e+03,\n",
       "       3.60948288e+03, 3.68494965e+03, 3.76199427e+03, 3.84064973e+03,\n",
       "       3.92094972e+03, 4.00292861e+03, 4.08662150e+03, 4.17206424e+03,\n",
       "       4.25929342e+03, 4.34834637e+03, 4.43926123e+03, 4.53207693e+03,\n",
       "       4.62683322e+03, 4.72357066e+03, 4.82233068e+03, 4.92315557e+03,\n",
       "       5.02608850e+03, 5.13117354e+03, 5.23845568e+03, 5.34798088e+03,\n",
       "       5.45979602e+03, 5.57394897e+03, 5.69048863e+03, 5.80946490e+03,\n",
       "       5.93092870e+03, 6.05493207e+03, 6.18152808e+03, 6.31077095e+03,\n",
       "       6.44271602e+03, 6.57741979e+03, 6.71493994e+03, 6.85533534e+03,\n",
       "       6.99866612e+03, 7.14499365e+03, 7.29438058e+03, 7.44689088e+03,\n",
       "       7.60258985e+03, 7.76154417e+03, 7.92382188e+03, 8.08949249e+03,\n",
       "       8.25862692e+03, 8.43129761e+03, 8.60757847e+03, 8.78754501e+03,\n",
       "       8.97127426e+03, 9.15884492e+03, 9.35033728e+03, 9.54583335e+03,\n",
       "       9.74541684e+03, 9.94917320e+03, 1.01571897e+04, 1.03695554e+04,\n",
       "       1.05863612e+04, 1.08076999e+04, 1.10336664e+04, 1.12643574e+04,\n",
       "       1.14998716e+04, 1.17403100e+04, 1.19857754e+04, 1.22363730e+04,\n",
       "       1.24922101e+04, 1.27533961e+04, 1.30200431e+04, 1.32922651e+04,\n",
       "       1.35701786e+04, 1.38539028e+04, 1.41435590e+04, 1.44392714e+04,\n",
       "       1.47411665e+04, 1.50493735e+04, 1.53640246e+04, 1.56852543e+04,\n",
       "       1.60132003e+04, 1.63480030e+04, 1.66898057e+04, 1.70387547e+04,\n",
       "       1.73949996e+04, 1.77586928e+04, 1.81299900e+04, 1.85090504e+04,\n",
       "       1.88960360e+04, 1.92911128e+04, 1.96944498e+04, 2.01062197e+04,\n",
       "       2.05265988e+04, 2.09557673e+04, 2.13939087e+04, 2.18412107e+04,\n",
       "       2.22978650e+04, 2.27640669e+04, 2.32400161e+04, 2.37259164e+04,\n",
       "       2.42219759e+04, 2.47284069e+04, 2.52454264e+04, 2.57732556e+04,\n",
       "       2.63121207e+04, 2.68622523e+04, 2.74238861e+04, 2.79972624e+04,\n",
       "       2.85826268e+04, 2.91802300e+04, 2.97903278e+04, 3.04131815e+04,\n",
       "       3.10490578e+04, 3.16982289e+04, 3.23609728e+04, 3.30375733e+04,\n",
       "       3.37283201e+04, 3.44335090e+04, 3.51534420e+04, 3.58884272e+04,\n",
       "       3.66387794e+04, 3.74048200e+04, 3.81868768e+04, 3.89852849e+04,\n",
       "       3.98003859e+04, 4.06325291e+04, 4.14820706e+04, 4.23493743e+04,\n",
       "       4.32348115e+04, 4.41387613e+04, 4.50616108e+04, 4.60037552e+04,\n",
       "       4.69655979e+04, 4.79475507e+04, 4.89500341e+04, 4.99734773e+04,\n",
       "       5.10183186e+04, 5.20850054e+04, 5.31739943e+04, 5.42857517e+04,\n",
       "       5.54207537e+04, 5.65794862e+04, 5.77624454e+04, 5.89701378e+04,\n",
       "       6.02030805e+04, 6.14618015e+04, 6.27468397e+04, 6.40587454e+04,\n",
       "       6.53980803e+04, 6.67654179e+04, 6.81613437e+04, 6.95864553e+04,\n",
       "       7.10413631e+04, 7.25266900e+04])"
      ]
     },
     "execution_count": 33,
     "metadata": {},
     "output_type": "execute_result"
    }
   ],
   "source": [
    "#membuat yreg\n",
    "yreg = a*np.e**(b*xreg)\n",
    "yreg"
   ]
  },
  {
   "cell_type": "code",
   "execution_count": 34,
   "metadata": {},
   "outputs": [
    {
     "data": {
      "text/plain": [
       "Text(0, 0.5, 'y-banyak orang')"
      ]
     },
     "execution_count": 34,
     "metadata": {},
     "output_type": "execute_result"
    },
    {
     "data": {
      "image/png": "[encoded data removed]",
      "text/plain": [
       "<Figure size 432x288 with 1 Axes>"
      ]
     },
     "metadata": {
      "needs_background": "light"
     },
     "output_type": "display_data"
    }
   ],
   "source": [
    "ax = plt.plot(x,y,'ro')\n",
    "plt.plot(xreg,yreg,'b')\n",
    "plt.grid()\n",
    "plt.xlabel('x-hari ke')\n",
    "plt.ylabel('y-banyak orang')"
   ]
  },
  {
   "cell_type": "markdown",
   "metadata": {},
   "source": [
    "**Selesai**"
   ]
  },
  {
   "cell_type": "markdown",
   "metadata": {},
   "source": [
    "#### Regresi Polinomial"
   ]
  },
  {
   "cell_type": "code",
   "execution_count": 35,
   "metadata": {},
   "outputs": [
    {
     "data": {
      "text/plain": [
       "array([3.0000e+00, 1.4000e+01, 2.3000e+01, 3.4000e+01, 4.6000e+01,\n",
       "       5.4000e+01, 9.5000e+01, 1.6500e+02, 2.8100e+02, 4.2700e+02,\n",
       "       7.4900e+02, 1.1440e+03, 1.8240e+03, 2.2780e+03, 2.6660e+03,\n",
       "       3.7100e+03, 4.0090e+03, 4.2380e+03, 4.5300e+03, 5.0200e+03,\n",
       "       5.6870e+03, 6.3700e+03, 7.3210e+03, 7.7790e+03, 8.6240e+03,\n",
       "       9.1420e+03, 9.7920e+03, 1.0516e+04, 1.1144e+04, 1.1466e+04,\n",
       "       1.1419e+04, 1.2040e+04, 1.2861e+04, 1.3964e+04, 1.5315e+04,\n",
       "       1.6715e+04])"
      ]
     },
     "execution_count": 35,
     "metadata": {},
     "output_type": "execute_result"
    }
   ],
   "source": [
    "y = np.array ((3, 14, 23, 34, 46, 54, 95, 165, 281, 427, 749, 1144, 1824, 2278, 2666, 3710, 4009, 4238, 4530, 5020, 5687, 6370, 7321, 7779, 8624, 9142, 9792, 10516, 11144, 11466, 11419, 12040, 12861, 13964, 15315, 16715))\n",
    "y = y.astype('float64')\n",
    "y"
   ]
  },
  {
   "cell_type": "code",
   "execution_count": 36,
   "metadata": {},
   "outputs": [
    {
     "data": {
      "text/plain": [
       "array([ 1.,  2.,  3.,  4.,  5.,  6.,  7.,  8.,  9., 10., 11., 12., 13.,\n",
       "       14., 15., 16., 17., 18., 19., 20., 21., 22., 23., 24., 25., 26.,\n",
       "       27., 28., 29., 30., 31., 32., 33., 34., 35., 36.])"
      ]
     },
     "execution_count": 36,
     "metadata": {},
     "output_type": "execute_result"
    }
   ],
   "source": [
    "x = np.array((range(1,1+len(y))))\n",
    "x = x.astype('float64')\n",
    "x"
   ]
  },
  {
   "cell_type": "markdown",
   "metadata": {},
   "source": [
    "**Membentuk regresi polinomial dari matriks**"
   ]
  },
  {
   "attachments": {
    "image.png": {
     "image/png": "[encoded data removed]"
    }
   },
   "cell_type": "markdown",
   "metadata": {},
   "source": [
    "![image.png](attachment:image.png)"
   ]
  },
  {
   "cell_type": "markdown",
   "metadata": {},
   "source": [
    "**Mendefinisikan elemen-elemen matriks kiri**"
   ]
  },
  {
   "cell_type": "code",
   "execution_count": 37,
   "metadata": {},
   "outputs": [
    {
     "data": {
      "text/plain": [
       "array([[3.60000000e+01, 6.66000000e+02, 1.62060000e+04, 4.43556000e+05],\n",
       "       [6.66000000e+02, 1.62060000e+04, 4.43556000e+05, 1.29485940e+07],\n",
       "       [1.62060000e+04, 4.43556000e+05, 1.29485940e+07, 3.93729876e+08],\n",
       "       [4.43556000e+05, 1.29485940e+07, 3.93729876e+08, 1.23134971e+10]])"
      ]
     },
     "execution_count": 37,
     "metadata": {},
     "output_type": "execute_result"
    }
   ],
   "source": [
    "n = len(y)\n",
    "a = x.sum()\n",
    "b = (x**2).sum()\n",
    "c = (x**3).sum()\n",
    "d = (x**4).sum()\n",
    "e = (x**5).sum()\n",
    "f = (x**6).sum()\n",
    "A = np.array(([n, a, b, c],\n",
    "    [a, b, c, d],\n",
    "    [b, c, d, e],\n",
    "    [c, d, e, f]))\n",
    "A"
   ]
  },
  {
   "cell_type": "markdown",
   "metadata": {},
   "source": [
    "**Mendefinisikan elemen-elemen matriks kanan**"
   ]
  },
  {
   "cell_type": "code",
   "execution_count": 38,
   "metadata": {},
   "outputs": [
    {
     "data": {
      "text/plain": [
       "array([[2.01465000e+05],\n",
       "       [5.58755100e+06],\n",
       "       [1.63282457e+08],\n",
       "       [4.95355374e+09]])"
      ]
     },
     "execution_count": 38,
     "metadata": {},
     "output_type": "execute_result"
    }
   ],
   "source": [
    "g = y.sum()\n",
    "h = (x*y).sum()\n",
    "i = ((x**2)*y).sum()\n",
    "j = ((x**3)*y).sum()\n",
    "B = np.array(([g],\n",
    "    [h],\n",
    "    [i],\n",
    "    [j]))\n",
    "B"
   ]
  },
  {
   "cell_type": "markdown",
   "metadata": {},
   "source": [
    "**Invers matriks sisi kiri**"
   ]
  },
  {
   "cell_type": "code",
   "execution_count": 39,
   "metadata": {},
   "outputs": [
    {
     "data": {
      "text/plain": [
       "array([[ 5.51481199e-01, -1.13134143e-01,  6.19641796e-03,\n",
       "        -9.90295108e-05],\n",
       "       [-1.13134143e-01,  2.93935562e-02, -1.77983924e-03,\n",
       "         3.00769135e-05],\n",
       "       [ 6.19641796e-03, -1.77983924e-03,  1.14246244e-04,\n",
       "        -2.00464597e-06],\n",
       "       [-9.90295108e-05,  3.00769135e-05, -2.00464597e-06,\n",
       "         3.61197472e-08]])"
      ]
     },
     "execution_count": 39,
     "metadata": {},
     "output_type": "execute_result"
    }
   ],
   "source": [
    "Ainv = np.linalg.inv(A)\n",
    "Ainv"
   ]
  },
  {
   "cell_type": "markdown",
   "metadata": {},
   "source": [
    "**Mencari nilai a0, a1, a2, dst dengan a = (A^-1)B namun di sini variabel a diganti dengan Y**"
   ]
  },
  {
   "cell_type": "code",
   "execution_count": 40,
   "metadata": {},
   "outputs": [
    {
     "name": "stdout",
     "output_type": "stream",
     "text": [
      "[[ 179.7143706 ]\n",
      " [-183.49282947]\n",
      " [  27.70475783]\n",
      " [  -0.29710295]]\n"
     ]
    }
   ],
   "source": [
    "Y = Ainv.dot(B)\n",
    "print(Y)"
   ]
  },
  {
   "cell_type": "code",
   "execution_count": 41,
   "metadata": {},
   "outputs": [],
   "source": [
    "a0 = Y[0,0]\n",
    "a1 = Y[1,0]\n",
    "a2 = Y[2,0]\n",
    "a3 = Y[3,0]"
   ]
  },
  {
   "cell_type": "markdown",
   "metadata": {},
   "source": [
    "**Hasil persamaan regresi polinomial**"
   ]
  },
  {
   "cell_type": "code",
   "execution_count": 42,
   "metadata": {},
   "outputs": [
    {
     "name": "stdout",
     "output_type": "stream",
     "text": [
      "y = -0.2971x^3 + 27.7048X^2 + -183.4928x + 179.7144\n"
     ]
    }
   ],
   "source": [
    "print('y = {:.4f}x^3 + {:.4f}X^2 + {:.4f}x + {:.4f}'.format(a3, a2, a1, a0))"
   ]
  },
  {
   "cell_type": "code",
   "execution_count": 48,
   "metadata": {},
   "outputs": [
    {
     "data": {
      "text/plain": [
       "array([3.0000e+00, 1.4000e+01, 2.3000e+01, 3.4000e+01, 4.6000e+01,\n",
       "       5.4000e+01, 9.5000e+01, 1.6500e+02, 2.8100e+02, 4.2700e+02,\n",
       "       7.4900e+02, 1.1440e+03, 1.8240e+03, 2.2780e+03, 2.6660e+03,\n",
       "       3.7100e+03, 4.0090e+03, 4.2380e+03, 4.5300e+03, 5.0200e+03,\n",
       "       5.6870e+03, 6.3700e+03, 7.3210e+03, 7.7790e+03, 8.6240e+03,\n",
       "       9.1420e+03, 9.7920e+03, 1.0516e+04, 1.1144e+04, 1.1466e+04,\n",
       "       1.1419e+04, 1.2040e+04, 1.2861e+04, 1.3964e+04, 1.5315e+04,\n",
       "       1.6715e+04])"
      ]
     },
     "execution_count": 48,
     "metadata": {},
     "output_type": "execute_result"
    }
   ],
   "source": [
    "y"
   ]
  },
  {
   "cell_type": "markdown",
   "metadata": {},
   "source": [
    "**Koefisien Korelasi ( r ) dan Derajat Kesesuaian ( R ) r-square**"
   ]
  },
  {
   "cell_type": "code",
   "execution_count": 49,
   "metadata": {},
   "outputs": [
    {
     "name": "stdout",
     "output_type": "stream",
     "text": [
      "r = 0.9972 dan r^2 = 0.8362\n"
     ]
    }
   ],
   "source": [
    "yDt = (y-y.mean())**2\n",
    "yD = (y-a0-a1*x-a2*(x**2)-a3*(x**3))**2\n",
    "r = np.sqrt((yDt.sum()-yD.sum())/yDt.sum())\n",
    "R2 = r**2\n",
    "print('r = {:.4f} dan r^2 = {:.4f}'.format(r,r2))"
   ]
  },
  {
   "cell_type": "markdown",
   "metadata": {},
   "source": [
    "**Plot**"
   ]
  },
  {
   "cell_type": "code",
   "execution_count": 45,
   "metadata": {},
   "outputs": [
    {
     "data": {
      "text/plain": [
       "Text(0, 0.5, 'y')"
      ]
     },
     "execution_count": 45,
     "metadata": {},
     "output_type": "execute_result"
    },
    {
     "data": {
      "image/png": "[encoded data removed]",
      "text/plain": [
       "<Figure size 432x288 with 1 Axes>"
      ]
     },
     "metadata": {
      "needs_background": "light"
     },
     "output_type": "display_data"
    }
   ],
   "source": [
    "xreg = np.array(range(0,int((x[-1]+0.5)*10)))\n",
    "xreg = xreg/10\n",
    "yreg = a0 + a1*xreg + a2*(xreg**2) + a3*(xreg**3)\n",
    "ax = plt.plot(x,y,'ro')\n",
    "plt.plot(xreg,yreg,'b')\n",
    "plt.grid()\n",
    "plt.xlabel('x')\n",
    "plt.ylabel('y')"
   ]
  },
  {
   "cell_type": "markdown",
   "metadata": {},
   "source": [
    "**Perbandingan jika memakai polyfit dengan derajat dinaikkan**"
   ]
  },
  {
   "cell_type": "code",
   "execution_count": 46,
   "metadata": {},
   "outputs": [
    {
     "data": {
      "image/png": "[encoded data removed]",
      "text/plain": [
       "<Figure size 432x288 with 1 Axes>"
      ]
     },
     "metadata": {
      "needs_background": "light"
     },
     "output_type": "display_data"
    }
   ],
   "source": [
    "regpoly = np.poly1d(np.polyfit(x, y, 5))\n",
    "\n",
    "myline = np.linspace(1, 36, 100)\n",
    "\n",
    "plt.scatter(x, y)\n",
    "plt.plot(myline, regpoly(myline), linewidth=3, color='r')\n",
    "plt.show()"
   ]
  },
  {
   "cell_type": "code",
   "execution_count": 47,
   "metadata": {},
   "outputs": [
    {
     "name": "stdout",
     "output_type": "stream",
     "text": [
      "          5          4         3         2\n",
      "0.002977 x - 0.2534 x + 7.197 x - 62.53 x + 207.2 x - 193.1\n"
     ]
    }
   ],
   "source": [
    "print (regpoly)"
   ]
  },
  {
   "cell_type": "code",
   "execution_count": 124,
   "metadata": {},
   "outputs": [
    {
     "name": "stdout",
     "output_type": "stream",
     "text": [
      "0.9980861672262538\n"
     ]
    }
   ],
   "source": [
    "print(r2_score(y, regpoly(x)))"
   ]
  },
  {
   "cell_type": "markdown",
   "metadata": {},
   "source": [
    "**Selesai**"
   ]
  },
  {
   "cell_type": "markdown",
   "metadata": {},
   "source": [
    "### Total Death"
   ]
  },
  {
   "cell_type": "markdown",
   "metadata": {},
   "source": [
    "- Start: 19-Feb-2020\n",
    "- End: 26-Mar-2020\n",
    "- Range: 37 Days"
   ]
  },
  {
   "cell_type": "markdown",
   "metadata": {},
   "source": [
    "**Data**"
   ]
  },
  {
   "cell_type": "code",
   "execution_count": 50,
   "metadata": {},
   "outputs": [
    {
     "data": {
      "text/plain": [
       "array([2.000e+00, 2.000e+00, 4.000e+00, 6.000e+00, 8.000e+00, 1.200e+01,\n",
       "       1.600e+01, 1.900e+01, 2.600e+01, 3.400e+01, 4.300e+01, 5.400e+01,\n",
       "       6.600e+01, 7.700e+01, 9.200e+01, 1.080e+02, 1.240e+02, 1.450e+02,\n",
       "       1.940e+02, 2.370e+02, 2.910e+02, 3.540e+02, 4.290e+02, 5.140e+02,\n",
       "       6.110e+02, 7.240e+02, 8.530e+02, 9.880e+02, 1.135e+03, 1.284e+03,\n",
       "       1.433e+03, 1.556e+03, 1.685e+03, 1.812e+03, 1.934e+03, 2.077e+03,\n",
       "       2.234e+03])"
      ]
     },
     "execution_count": 50,
     "metadata": {},
     "output_type": "execute_result"
    }
   ],
   "source": [
    "y = np.array ((2, 2, 4, 6, 8, 12, 16, 19, 26, 34, 43, 54, 66, 77, 92, 108, 124, 145, 194, 237, 291, 354, 429, 514, 611, 724, 853, 988, 1135, 1284, 1433, 1556, 1685, 1812, 1934, 2077, 2234))\n",
    "y = y.astype('float64')\n",
    "y"
   ]
  },
  {
   "cell_type": "code",
   "execution_count": 51,
   "metadata": {},
   "outputs": [
    {
     "data": {
      "text/plain": [
       "array([ 1.,  2.,  3.,  4.,  5.,  6.,  7.,  8.,  9., 10., 11., 12., 13.,\n",
       "       14., 15., 16., 17., 18., 19., 20., 21., 22., 23., 24., 25., 26.,\n",
       "       27., 28., 29., 30., 31., 32., 33., 34., 35., 36., 37.])"
      ]
     },
     "execution_count": 51,
     "metadata": {},
     "output_type": "execute_result"
    }
   ],
   "source": [
    "x = np.array((range(1,1+len(y))))\n",
    "x = x.astype('float64')\n",
    "x"
   ]
  },
  {
   "cell_type": "markdown",
   "metadata": {},
   "source": [
    "**Plot**"
   ]
  },
  {
   "cell_type": "code",
   "execution_count": 52,
   "metadata": {},
   "outputs": [
    {
     "data": {
      "text/plain": [
       "Text(0, 0.5, 'y-jumlah orang')"
      ]
     },
     "execution_count": 52,
     "metadata": {},
     "output_type": "execute_result"
    },
    {
     "data": {
      "image/png": "[encoded data removed]",
      "text/plain": [
       "<Figure size 432x288 with 1 Axes>"
      ]
     },
     "metadata": {
      "needs_background": "light"
     },
     "output_type": "display_data"
    }
   ],
   "source": [
    "ax = plt.plot(x,y,'ro')\n",
    "plt.grid()\n",
    "plt.xlabel('x-hari')\n",
    "plt.ylabel('y-jumlah orang')"
   ]
  },
  {
   "cell_type": "markdown",
   "metadata": {},
   "source": [
    "#### Regresi Berpangkat"
   ]
  },
  {
   "cell_type": "markdown",
   "metadata": {},
   "source": [
    "**Data**"
   ]
  },
  {
   "cell_type": "code",
   "execution_count": 53,
   "metadata": {},
   "outputs": [
    {
     "data": {
      "text/plain": [
       "array([2.000e+00, 2.000e+00, 4.000e+00, 6.000e+00, 8.000e+00, 1.200e+01,\n",
       "       1.600e+01, 1.900e+01, 2.600e+01, 3.400e+01, 4.300e+01, 5.400e+01,\n",
       "       6.600e+01, 7.700e+01, 9.200e+01, 1.080e+02, 1.240e+02, 1.450e+02,\n",
       "       1.940e+02, 2.370e+02, 2.910e+02, 3.540e+02, 4.290e+02, 5.140e+02,\n",
       "       6.110e+02, 7.240e+02, 8.530e+02, 9.880e+02, 1.135e+03, 1.284e+03,\n",
       "       1.433e+03, 1.556e+03, 1.685e+03, 1.812e+03, 1.934e+03, 2.077e+03,\n",
       "       2.234e+03])"
      ]
     },
     "execution_count": 53,
     "metadata": {},
     "output_type": "execute_result"
    }
   ],
   "source": [
    "y = np.array ((2, 2, 4, 6, 8, 12, 16, 19, 26, 34, 43, 54, 66, 77, 92, 108, 124, 145, 194, 237, 291, 354, 429, 514, 611, 724, 853, 988, 1135, 1284, 1433, 1556, 1685, 1812, 1934, 2077, 2234))\n",
    "y = y.astype('float64')\n",
    "y"
   ]
  },
  {
   "cell_type": "code",
   "execution_count": 54,
   "metadata": {},
   "outputs": [
    {
     "data": {
      "text/plain": [
       "array([ 1.,  2.,  3.,  4.,  5.,  6.,  7.,  8.,  9., 10., 11., 12., 13.,\n",
       "       14., 15., 16., 17., 18., 19., 20., 21., 22., 23., 24., 25., 26.,\n",
       "       27., 28., 29., 30., 31., 32., 33., 34., 35., 36., 37.])"
      ]
     },
     "execution_count": 54,
     "metadata": {},
     "output_type": "execute_result"
    }
   ],
   "source": [
    "x = np.array((range(1,1+len(y))))\n",
    "x = x.astype('float64')\n",
    "x"
   ]
  },
  {
   "attachments": {
    "image.png": {
     "image/png": "[encoded data removed]"
    }
   },
   "cell_type": "markdown",
   "metadata": {},
   "source": [
    "![image.png](attachment:image.png)"
   ]
  },
  {
   "cell_type": "markdown",
   "metadata": {},
   "source": [
    "**Membuat xreg untuk plotting selanjutnya**"
   ]
  },
  {
   "cell_type": "code",
   "execution_count": 55,
   "metadata": {},
   "outputs": [
    {
     "data": {
      "text/plain": [
       "array([ 1. ,  1.1,  1.2,  1.3,  1.4,  1.5,  1.6,  1.7,  1.8,  1.9,  2. ,\n",
       "        2.1,  2.2,  2.3,  2.4,  2.5,  2.6,  2.7,  2.8,  2.9,  3. ,  3.1,\n",
       "        3.2,  3.3,  3.4,  3.5,  3.6,  3.7,  3.8,  3.9,  4. ,  4.1,  4.2,\n",
       "        4.3,  4.4,  4.5,  4.6,  4.7,  4.8,  4.9,  5. ,  5.1,  5.2,  5.3,\n",
       "        5.4,  5.5,  5.6,  5.7,  5.8,  5.9,  6. ,  6.1,  6.2,  6.3,  6.4,\n",
       "        6.5,  6.6,  6.7,  6.8,  6.9,  7. ,  7.1,  7.2,  7.3,  7.4,  7.5,\n",
       "        7.6,  7.7,  7.8,  7.9,  8. ,  8.1,  8.2,  8.3,  8.4,  8.5,  8.6,\n",
       "        8.7,  8.8,  8.9,  9. ,  9.1,  9.2,  9.3,  9.4,  9.5,  9.6,  9.7,\n",
       "        9.8,  9.9, 10. , 10.1, 10.2, 10.3, 10.4, 10.5, 10.6, 10.7, 10.8,\n",
       "       10.9, 11. , 11.1, 11.2, 11.3, 11.4, 11.5, 11.6, 11.7, 11.8, 11.9,\n",
       "       12. , 12.1, 12.2, 12.3, 12.4, 12.5, 12.6, 12.7, 12.8, 12.9, 13. ,\n",
       "       13.1, 13.2, 13.3, 13.4, 13.5, 13.6, 13.7, 13.8, 13.9, 14. , 14.1,\n",
       "       14.2, 14.3, 14.4, 14.5, 14.6, 14.7, 14.8, 14.9, 15. , 15.1, 15.2,\n",
       "       15.3, 15.4, 15.5, 15.6, 15.7, 15.8, 15.9, 16. , 16.1, 16.2, 16.3,\n",
       "       16.4, 16.5, 16.6, 16.7, 16.8, 16.9, 17. , 17.1, 17.2, 17.3, 17.4,\n",
       "       17.5, 17.6, 17.7, 17.8, 17.9, 18. , 18.1, 18.2, 18.3, 18.4, 18.5,\n",
       "       18.6, 18.7, 18.8, 18.9, 19. , 19.1, 19.2, 19.3, 19.4, 19.5, 19.6,\n",
       "       19.7, 19.8, 19.9, 20. , 20.1, 20.2, 20.3, 20.4, 20.5, 20.6, 20.7,\n",
       "       20.8, 20.9, 21. , 21.1, 21.2, 21.3, 21.4, 21.5, 21.6, 21.7, 21.8,\n",
       "       21.9, 22. , 22.1, 22.2, 22.3, 22.4, 22.5, 22.6, 22.7, 22.8, 22.9,\n",
       "       23. , 23.1, 23.2, 23.3, 23.4, 23.5, 23.6, 23.7, 23.8, 23.9, 24. ,\n",
       "       24.1, 24.2, 24.3, 24.4, 24.5, 24.6, 24.7, 24.8, 24.9, 25. , 25.1,\n",
       "       25.2, 25.3, 25.4, 25.5, 25.6, 25.7, 25.8, 25.9, 26. , 26.1, 26.2,\n",
       "       26.3, 26.4, 26.5, 26.6, 26.7, 26.8, 26.9, 27. , 27.1, 27.2, 27.3,\n",
       "       27.4, 27.5, 27.6, 27.7, 27.8, 27.9, 28. , 28.1, 28.2, 28.3, 28.4,\n",
       "       28.5, 28.6, 28.7, 28.8, 28.9, 29. , 29.1, 29.2, 29.3, 29.4, 29.5,\n",
       "       29.6, 29.7, 29.8, 29.9, 30. , 30.1, 30.2, 30.3, 30.4, 30.5, 30.6,\n",
       "       30.7, 30.8, 30.9, 31. , 31.1, 31.2, 31.3, 31.4, 31.5, 31.6, 31.7,\n",
       "       31.8, 31.9, 32. , 32.1, 32.2, 32.3, 32.4, 32.5, 32.6, 32.7, 32.8,\n",
       "       32.9, 33. , 33.1, 33.2, 33.3, 33.4, 33.5, 33.6, 33.7, 33.8, 33.9,\n",
       "       34. , 34.1, 34.2, 34.3, 34.4, 34.5, 34.6, 34.7, 34.8, 34.9, 35. ,\n",
       "       35.1, 35.2, 35.3, 35.4, 35.5, 35.6, 35.7, 35.8, 35.9, 36. , 36.1,\n",
       "       36.2, 36.3, 36.4, 36.5, 36.6, 36.7, 36.8, 36.9, 37. , 37.1, 37.2,\n",
       "       37.3, 37.4, 37.5, 37.6, 37.7, 37.8, 37.9])"
      ]
     },
     "execution_count": 55,
     "metadata": {},
     "output_type": "execute_result"
    }
   ],
   "source": [
    "#membuat xreg\n",
    "xreg = np.array(range(10,int((x[-1]+1)*10)))\n",
    "xreg = xreg/10 #memperhalus bentuk garis\n",
    "xreg = xreg.astype('float64')\n",
    "xreg"
   ]
  },
  {
   "cell_type": "markdown",
   "metadata": {},
   "source": [
    "**Regresi berpangkat**"
   ]
  },
  {
   "attachments": {
    "image.png": {
     "image/png": "[encoded data removed]"
    }
   },
   "cell_type": "markdown",
   "metadata": {},
   "source": [
    "![image.png](attachment:image.png)"
   ]
  },
  {
   "attachments": {
    "image.png": {
     "image/png": "[encoded data removed]"
    }
   },
   "cell_type": "markdown",
   "metadata": {},
   "source": [
    "![image.png](attachment:image.png)"
   ]
  },
  {
   "attachments": {
    "image.png": {
     "image/png": "[encoded data removed]"
    }
   },
   "cell_type": "markdown",
   "metadata": {},
   "source": [
    "![image.png](attachment:image.png)"
   ]
  },
  {
   "cell_type": "code",
   "execution_count": 56,
   "metadata": {},
   "outputs": [],
   "source": [
    "p = np.log10(y)\n",
    "q = np.log10(x)"
   ]
  },
  {
   "cell_type": "markdown",
   "metadata": {},
   "source": [
    "**Hitung regresi linear**"
   ]
  },
  {
   "cell_type": "code",
   "execution_count": 57,
   "metadata": {},
   "outputs": [],
   "source": [
    "n = len(y)\n",
    "pq = p*q\n",
    "qq = q**2\n",
    "B = (n*pq.sum() - q.sum()*p.sum())/(n*qq.sum() - (q.sum())**2)\n",
    "A = p.mean()-B*q.mean()"
   ]
  },
  {
   "cell_type": "markdown",
   "metadata": {},
   "source": [
    "**Hasil regresi linear**"
   ]
  },
  {
   "cell_type": "code",
   "execution_count": 58,
   "metadata": {},
   "outputs": [
    {
     "name": "stdout",
     "output_type": "stream",
     "text": [
      "p = 2.3576q -0.5796\n"
     ]
    }
   ],
   "source": [
    "if A>0 :\n",
    "    print (\"p = {:.4f}q + {:.4f}\". format(B,A))\n",
    "else :\n",
    "    print (\"p = {:.4f}q {:.4f}\". format(B,A))"
   ]
  },
  {
   "cell_type": "markdown",
   "metadata": {},
   "source": [
    "**Kembalikan ke bentuk pangkat**"
   ]
  },
  {
   "cell_type": "code",
   "execution_count": 59,
   "metadata": {},
   "outputs": [
    {
     "name": "stdout",
     "output_type": "stream",
     "text": [
      "y = 0.2633x^(2.3576)\n"
     ]
    }
   ],
   "source": [
    "a = 10**A #A=log(a)\n",
    "b = B\n",
    "print (\"y = {:.4f}x^({:.4f})\".format(a,b))"
   ]
  },
  {
   "cell_type": "markdown",
   "metadata": {},
   "source": [
    "**Koefisien Korelasi ( r ) dan Derajat Kesesuaian ( R ) r-square**"
   ]
  },
  {
   "cell_type": "code",
   "execution_count": 60,
   "metadata": {},
   "outputs": [
    {
     "name": "stdout",
     "output_type": "stream",
     "text": [
      "r = 0.9654 dan r^2 = 0.9320\n"
     ]
    }
   ],
   "source": [
    "yDt = ((p - p.mean())**2).sum()\n",
    "yD = ((p - (q*B) - A)**2).sum()\n",
    "r = np.sqrt((yDt-yD)/yDt)\n",
    "r2 = r**2\n",
    "print('r = {:.4f} dan r^2 = {:.4f}'.format(r,r2))"
   ]
  },
  {
   "cell_type": "markdown",
   "metadata": {},
   "source": [
    "**Plot**"
   ]
  },
  {
   "cell_type": "code",
   "execution_count": 61,
   "metadata": {},
   "outputs": [
    {
     "data": {
      "text/plain": [
       "array([2.63259471e-01, 3.29587696e-01, 4.04632657e-01, 4.88670059e-01,\n",
       "       5.81961190e-01, 6.84754703e-01, 7.97288072e-01, 9.19788793e-01,\n",
       "       1.05247539e+00, 1.19555828e+00, 1.34924047e+00, 1.51371824e+00,\n",
       "       1.68918162e+00, 1.87581494e+00, 2.07379722e+00, 2.28330251e+00,\n",
       "       2.50450029e+00, 2.73755574e+00, 2.98262999e+00, 3.23988037e+00,\n",
       "       3.50946068e+00, 3.79152130e+00, 4.08620945e+00, 4.39366932e+00,\n",
       "       4.71404225e+00, 5.04746683e+00, 5.39407906e+00, 5.75401248e+00,\n",
       "       6.12739825e+00, 6.51436528e+00, 6.91504032e+00, 7.32954805e+00,\n",
       "       7.75801116e+00, 8.20055042e+00, 8.65728479e+00, 9.12833145e+00,\n",
       "       9.61380587e+00, 1.01138219e+01, 1.06284918e+01, 1.11579264e+01,\n",
       "       1.17022349e+01, 1.22615251e+01, 1.28359035e+01, 1.34254753e+01,\n",
       "       1.40303443e+01, 1.46506130e+01, 1.52863830e+01, 1.59377543e+01,\n",
       "       1.66048261e+01, 1.72876963e+01, 1.79864617e+01, 1.87012182e+01,\n",
       "       1.94320606e+01, 2.01790827e+01, 2.09423773e+01, 2.17220364e+01,\n",
       "       2.25181509e+01, 2.33308109e+01, 2.41601055e+01, 2.50061233e+01,\n",
       "       2.58689517e+01, 2.67486774e+01, 2.76453864e+01, 2.85591638e+01,\n",
       "       2.94900939e+01, 3.04382606e+01, 3.14037466e+01, 3.23866343e+01,\n",
       "       3.33870051e+01, 3.44049400e+01, 3.54405190e+01, 3.64938219e+01,\n",
       "       3.75649274e+01, 3.86539138e+01, 3.97608589e+01, 4.08858396e+01,\n",
       "       4.20289326e+01, 4.31902136e+01, 4.43697581e+01, 4.55676408e+01,\n",
       "       4.67839361e+01, 4.80187175e+01, 4.92720583e+01, 5.05440312e+01,\n",
       "       5.18347083e+01, 5.31441614e+01, 5.44724615e+01, 5.58196794e+01,\n",
       "       5.71858854e+01, 5.85711492e+01, 5.99755400e+01, 6.13991269e+01,\n",
       "       6.28419782e+01, 6.43041618e+01, 6.57857455e+01, 6.72867962e+01,\n",
       "       6.88073808e+01, 7.03475655e+01, 7.19074163e+01, 7.34869987e+01,\n",
       "       7.50863778e+01, 7.67056185e+01, 7.83447850e+01, 8.00039415e+01,\n",
       "       8.16831514e+01, 8.33824782e+01, 8.51019847e+01, 8.68417335e+01,\n",
       "       8.86017869e+01, 9.03822066e+01, 9.21830544e+01, 9.40043914e+01,\n",
       "       9.58462784e+01, 9.77087761e+01, 9.95919448e+01, 1.01495844e+02,\n",
       "       1.03420534e+02, 1.05366074e+02, 1.07332523e+02, 1.09319939e+02,\n",
       "       1.11328381e+02, 1.13357907e+02, 1.15408576e+02, 1.17480444e+02,\n",
       "       1.19573568e+02, 1.21688007e+02, 1.23823816e+02, 1.25981052e+02,\n",
       "       1.28159772e+02, 1.30360031e+02, 1.32581884e+02, 1.34825388e+02,\n",
       "       1.37090598e+02, 1.39377568e+02, 1.41686353e+02, 1.44017007e+02,\n",
       "       1.46369586e+02, 1.48744142e+02, 1.51140729e+02, 1.53559401e+02,\n",
       "       1.56000212e+02, 1.58463213e+02, 1.60948458e+02, 1.63456000e+02,\n",
       "       1.65985891e+02, 1.68538183e+02, 1.71112927e+02, 1.73710176e+02,\n",
       "       1.76329981e+02, 1.78972394e+02, 1.81637464e+02, 1.84325244e+02,\n",
       "       1.87035784e+02, 1.89769134e+02, 1.92525345e+02, 1.95304466e+02,\n",
       "       1.98106548e+02, 2.00931640e+02, 2.03779791e+02, 2.06651052e+02,\n",
       "       2.09545470e+02, 2.12463096e+02, 2.15403977e+02, 2.18368162e+02,\n",
       "       2.21355700e+02, 2.24366638e+02, 2.27401025e+02, 2.30458909e+02,\n",
       "       2.33540336e+02, 2.36645356e+02, 2.39774014e+02, 2.42926359e+02,\n",
       "       2.46102436e+02, 2.49302294e+02, 2.52525978e+02, 2.55773535e+02,\n",
       "       2.59045012e+02, 2.62340453e+02, 2.65659907e+02, 2.69003417e+02,\n",
       "       2.72371031e+02, 2.75762793e+02, 2.79178749e+02, 2.82618944e+02,\n",
       "       2.86083424e+02, 2.89572232e+02, 2.93085415e+02, 2.96623015e+02,\n",
       "       3.00185079e+02, 3.03771650e+02, 3.07382773e+02, 3.11018491e+02,\n",
       "       3.14678848e+02, 3.18363889e+02, 3.22073657e+02, 3.25808195e+02,\n",
       "       3.29567546e+02, 3.33351755e+02, 3.37160863e+02, 3.40994915e+02,\n",
       "       3.44853952e+02, 3.48738017e+02, 3.52647154e+02, 3.56581404e+02,\n",
       "       3.60540809e+02, 3.64525413e+02, 3.68535256e+02, 3.72570381e+02,\n",
       "       3.76630830e+02, 3.80716644e+02, 3.84827865e+02, 3.88964534e+02,\n",
       "       3.93126693e+02, 3.97314382e+02, 4.01527643e+02, 4.05766517e+02,\n",
       "       4.10031045e+02, 4.14321267e+02, 4.18637224e+02, 4.22978956e+02,\n",
       "       4.27346504e+02, 4.31739908e+02, 4.36159208e+02, 4.40604444e+02,\n",
       "       4.45075656e+02, 4.49572884e+02, 4.54096168e+02, 4.58645547e+02,\n",
       "       4.63221061e+02, 4.67822749e+02, 4.72450650e+02, 4.77104803e+02,\n",
       "       4.81785249e+02, 4.86492024e+02, 4.91225170e+02, 4.95984723e+02,\n",
       "       5.00770723e+02, 5.05583208e+02, 5.10422217e+02, 5.15287789e+02,\n",
       "       5.20179960e+02, 5.25098771e+02, 5.30044258e+02, 5.35016459e+02,\n",
       "       5.40015413e+02, 5.45041157e+02, 5.50093729e+02, 5.55173166e+02,\n",
       "       5.60279506e+02, 5.65412786e+02, 5.70573044e+02, 5.75760317e+02,\n",
       "       5.80974642e+02, 5.86216056e+02, 5.91484595e+02, 5.96780297e+02,\n",
       "       6.02103199e+02, 6.07453336e+02, 6.12830746e+02, 6.18235466e+02,\n",
       "       6.23667531e+02, 6.29126977e+02, 6.34613842e+02, 6.40128161e+02,\n",
       "       6.45669970e+02, 6.51239306e+02, 6.56836203e+02, 6.62460699e+02,\n",
       "       6.68112828e+02, 6.73792626e+02, 6.79500129e+02, 6.85235372e+02,\n",
       "       6.90998391e+02, 6.96789221e+02, 7.02607897e+02, 7.08454454e+02,\n",
       "       7.14328928e+02, 7.20231353e+02, 7.26161764e+02, 7.32120197e+02,\n",
       "       7.38106685e+02, 7.44121264e+02, 7.50163968e+02, 7.56234831e+02,\n",
       "       7.62333889e+02, 7.68461175e+02, 7.74616724e+02, 7.80800570e+02,\n",
       "       7.87012747e+02, 7.93253290e+02, 7.99522231e+02, 8.05819606e+02,\n",
       "       8.12145448e+02, 8.18499790e+02, 8.24882667e+02, 8.31294112e+02,\n",
       "       8.37734159e+02, 8.44202841e+02, 8.50700192e+02, 8.57226245e+02,\n",
       "       8.63781033e+02, 8.70364589e+02, 8.76976947e+02, 8.83618140e+02,\n",
       "       8.90288200e+02, 8.96987162e+02, 9.03715057e+02, 9.10471918e+02,\n",
       "       9.17257778e+02, 9.24072670e+02, 9.30916627e+02, 9.37789680e+02,\n",
       "       9.44691863e+02, 9.51623208e+02, 9.58583747e+02, 9.65573513e+02,\n",
       "       9.72592537e+02, 9.79640852e+02, 9.86718491e+02, 9.93825484e+02,\n",
       "       1.00096186e+03, 1.00812766e+03, 1.01532291e+03, 1.02254765e+03,\n",
       "       1.02980189e+03, 1.03708568e+03, 1.04439906e+03, 1.05174203e+03,\n",
       "       1.05911465e+03, 1.06651695e+03, 1.07394894e+03, 1.08141067e+03,\n",
       "       1.08890217e+03, 1.09642346e+03, 1.10397458e+03, 1.11155556e+03,\n",
       "       1.11916643e+03, 1.12680722e+03, 1.13447797e+03, 1.14217869e+03,\n",
       "       1.14990943e+03, 1.15767022e+03, 1.16546108e+03, 1.17328204e+03,\n",
       "       1.18113315e+03, 1.18901442e+03, 1.19692588e+03, 1.20486758e+03,\n",
       "       1.21283953e+03, 1.22084177e+03, 1.22887433e+03, 1.23693723e+03,\n",
       "       1.24503052e+03, 1.25315421e+03, 1.26130835e+03, 1.26949295e+03,\n",
       "       1.27770805e+03, 1.28595368e+03, 1.29422987e+03, 1.30253665e+03,\n",
       "       1.31087404e+03, 1.31924208e+03, 1.32764080e+03, 1.33607022e+03,\n",
       "       1.34453039e+03, 1.35302131e+03, 1.36154303e+03, 1.37009558e+03,\n",
       "       1.37867898e+03, 1.38729326e+03])"
      ]
     },
     "execution_count": 61,
     "metadata": {},
     "output_type": "execute_result"
    }
   ],
   "source": [
    "#membuat yreg\n",
    "yreg = a*(xreg**b)\n",
    "yreg\n",
    "    "
   ]
  },
  {
   "cell_type": "code",
   "execution_count": 62,
   "metadata": {},
   "outputs": [
    {
     "data": {
      "text/plain": [
       "Text(0, 0.5, 'y-banyak orang')"
      ]
     },
     "execution_count": 62,
     "metadata": {},
     "output_type": "execute_result"
    },
    {
     "data": {
      "image/png": "[encoded data removed]",
      "text/plain": [
       "<Figure size 432x288 with 1 Axes>"
      ]
     },
     "metadata": {
      "needs_background": "light"
     },
     "output_type": "display_data"
    }
   ],
   "source": [
    "ax = plt.plot(x,y,'ro')\n",
    "plt.plot(xreg,yreg,'g')\n",
    "plt.grid()\n",
    "plt.xlabel('x-hari ke')\n",
    "plt.ylabel('y-banyak orang')"
   ]
  },
  {
   "cell_type": "markdown",
   "metadata": {},
   "source": [
    "#### Regresi Eksponensial"
   ]
  },
  {
   "attachments": {
    "image.png": {
     "image/png": "[encoded data removed]"
    }
   },
   "cell_type": "markdown",
   "metadata": {},
   "source": [
    "![image.png](attachment:image.png)"
   ]
  },
  {
   "attachments": {
    "image.png": {
     "image/png": "[encoded data removed]"
    }
   },
   "cell_type": "markdown",
   "metadata": {},
   "source": [
    "![image.png](attachment:image.png)"
   ]
  },
  {
   "attachments": {
    "image.png": {
     "image/png": "[encoded data removed]"
    }
   },
   "cell_type": "markdown",
   "metadata": {},
   "source": [
    "![image.png](attachment:image.png)"
   ]
  },
  {
   "cell_type": "markdown",
   "metadata": {},
   "source": [
    "**Linearisasi**"
   ]
  },
  {
   "cell_type": "code",
   "execution_count": 63,
   "metadata": {},
   "outputs": [
    {
     "data": {
      "text/plain": [
       "array([2.000e+00, 2.000e+00, 4.000e+00, 6.000e+00, 8.000e+00, 1.200e+01,\n",
       "       1.600e+01, 1.900e+01, 2.600e+01, 3.400e+01, 4.300e+01, 5.400e+01,\n",
       "       6.600e+01, 7.700e+01, 9.200e+01, 1.080e+02, 1.240e+02, 1.450e+02,\n",
       "       1.940e+02, 2.370e+02, 2.910e+02, 3.540e+02, 4.290e+02, 5.140e+02,\n",
       "       6.110e+02, 7.240e+02, 8.530e+02, 9.880e+02, 1.135e+03, 1.284e+03,\n",
       "       1.433e+03, 1.556e+03, 1.685e+03, 1.812e+03, 1.934e+03, 2.077e+03,\n",
       "       2.234e+03])"
      ]
     },
     "execution_count": 63,
     "metadata": {},
     "output_type": "execute_result"
    }
   ],
   "source": [
    "y = np.array ((2, 2, 4, 6, 8, 12, 16, 19, 26, 34, 43, 54, 66, 77, 92, 108, 124, 145, 194, 237, 291, 354, 429, 514, 611, 724, 853, 988, 1135, 1284, 1433, 1556, 1685, 1812, 1934, 2077, 2234))\n",
    "y = y.astype('float64')\n",
    "y"
   ]
  },
  {
   "cell_type": "code",
   "execution_count": 64,
   "metadata": {},
   "outputs": [
    {
     "data": {
      "text/plain": [
       "array([ 1.,  2.,  3.,  4.,  5.,  6.,  7.,  8.,  9., 10., 11., 12., 13.,\n",
       "       14., 15., 16., 17., 18., 19., 20., 21., 22., 23., 24., 25., 26.,\n",
       "       27., 28., 29., 30., 31., 32., 33., 34., 35., 36., 37.])"
      ]
     },
     "execution_count": 64,
     "metadata": {},
     "output_type": "execute_result"
    }
   ],
   "source": [
    "x = np.array((range(1,1+len(y))))\n",
    "x = x.astype('float64')\n",
    "x"
   ]
  },
  {
   "cell_type": "code",
   "execution_count": 65,
   "metadata": {},
   "outputs": [],
   "source": [
    "p = np.log(y)\n",
    "q = x"
   ]
  },
  {
   "cell_type": "markdown",
   "metadata": {},
   "source": [
    "**Hitung regresi linear**"
   ]
  },
  {
   "attachments": {
    "image.png": {
     "image/png": "[encoded data removed]"
    }
   },
   "cell_type": "markdown",
   "metadata": {},
   "source": [
    "![image.png](attachment:image.png)"
   ]
  },
  {
   "cell_type": "code",
   "execution_count": 66,
   "metadata": {},
   "outputs": [],
   "source": [
    "n = len(y)\n",
    "pq = p*q\n",
    "qq = q**2\n",
    "B = (n*pq.sum() - q.sum()*p.sum())/(n*qq.sum() - (q.sum())**2)\n",
    "A = p.mean()-B*q.mean()"
   ]
  },
  {
   "cell_type": "markdown",
   "metadata": {},
   "source": [
    "**Hasil persamaan linear**"
   ]
  },
  {
   "cell_type": "code",
   "execution_count": 67,
   "metadata": {},
   "outputs": [
    {
     "name": "stdout",
     "output_type": "stream",
     "text": [
      "p = 0.1926q + 1.3355\n"
     ]
    }
   ],
   "source": [
    "if A>0 :\n",
    "    print (\"p = {:.4f}q + {:.4f}\". format(B,A))\n",
    "else :\n",
    "    print (\"p = {:.4f}q {:.4f}\". format(B,A))"
   ]
  },
  {
   "cell_type": "markdown",
   "metadata": {},
   "source": [
    "**Hitung kembali dalam bentuk bilangan berpangkat**"
   ]
  },
  {
   "cell_type": "code",
   "execution_count": 68,
   "metadata": {},
   "outputs": [],
   "source": [
    "a = np.e**A\n",
    "b = B"
   ]
  },
  {
   "cell_type": "code",
   "execution_count": 69,
   "metadata": {},
   "outputs": [
    {
     "name": "stdout",
     "output_type": "stream",
     "text": [
      "y = 3.8021x^(0.1926)\n"
     ]
    }
   ],
   "source": [
    "print (\"y = {:.4f}x^({:.4f})\".format(a,b))"
   ]
  },
  {
   "cell_type": "markdown",
   "metadata": {},
   "source": [
    "**Koefisien Korelasi ( r ) dan Derajat Kesesuaian ( R ) r-square**"
   ]
  },
  {
   "cell_type": "code",
   "execution_count": 70,
   "metadata": {},
   "outputs": [
    {
     "name": "stdout",
     "output_type": "stream",
     "text": [
      "r = 0.9840 dan r^2 = 0.9682\n"
     ]
    }
   ],
   "source": [
    "yDt = ((p - p.mean())**2).sum()\n",
    "yD = ((p - (q*B) - A)**2).sum()\n",
    "r = np.sqrt((yDt-yD)/yDt)\n",
    "r2 = r**2\n",
    "print('r = {:.4f} dan r^2 = {:.4f}'.format(r,r2))"
   ]
  },
  {
   "cell_type": "markdown",
   "metadata": {},
   "source": [
    "**Plot data dan regresinya**"
   ]
  },
  {
   "cell_type": "code",
   "execution_count": 71,
   "metadata": {},
   "outputs": [
    {
     "data": {
      "text/plain": [
       "array([ 0. ,  0.1,  0.2,  0.3,  0.4,  0.5,  0.6,  0.7,  0.8,  0.9,  1. ,\n",
       "        1.1,  1.2,  1.3,  1.4,  1.5,  1.6,  1.7,  1.8,  1.9,  2. ,  2.1,\n",
       "        2.2,  2.3,  2.4,  2.5,  2.6,  2.7,  2.8,  2.9,  3. ,  3.1,  3.2,\n",
       "        3.3,  3.4,  3.5,  3.6,  3.7,  3.8,  3.9,  4. ,  4.1,  4.2,  4.3,\n",
       "        4.4,  4.5,  4.6,  4.7,  4.8,  4.9,  5. ,  5.1,  5.2,  5.3,  5.4,\n",
       "        5.5,  5.6,  5.7,  5.8,  5.9,  6. ,  6.1,  6.2,  6.3,  6.4,  6.5,\n",
       "        6.6,  6.7,  6.8,  6.9,  7. ,  7.1,  7.2,  7.3,  7.4,  7.5,  7.6,\n",
       "        7.7,  7.8,  7.9,  8. ,  8.1,  8.2,  8.3,  8.4,  8.5,  8.6,  8.7,\n",
       "        8.8,  8.9,  9. ,  9.1,  9.2,  9.3,  9.4,  9.5,  9.6,  9.7,  9.8,\n",
       "        9.9, 10. , 10.1, 10.2, 10.3, 10.4, 10.5, 10.6, 10.7, 10.8, 10.9,\n",
       "       11. , 11.1, 11.2, 11.3, 11.4, 11.5, 11.6, 11.7, 11.8, 11.9, 12. ,\n",
       "       12.1, 12.2, 12.3, 12.4, 12.5, 12.6, 12.7, 12.8, 12.9, 13. , 13.1,\n",
       "       13.2, 13.3, 13.4, 13.5, 13.6, 13.7, 13.8, 13.9, 14. , 14.1, 14.2,\n",
       "       14.3, 14.4, 14.5, 14.6, 14.7, 14.8, 14.9, 15. , 15.1, 15.2, 15.3,\n",
       "       15.4, 15.5, 15.6, 15.7, 15.8, 15.9, 16. , 16.1, 16.2, 16.3, 16.4,\n",
       "       16.5, 16.6, 16.7, 16.8, 16.9, 17. , 17.1, 17.2, 17.3, 17.4, 17.5,\n",
       "       17.6, 17.7, 17.8, 17.9, 18. , 18.1, 18.2, 18.3, 18.4, 18.5, 18.6,\n",
       "       18.7, 18.8, 18.9, 19. , 19.1, 19.2, 19.3, 19.4, 19.5, 19.6, 19.7,\n",
       "       19.8, 19.9, 20. , 20.1, 20.2, 20.3, 20.4, 20.5, 20.6, 20.7, 20.8,\n",
       "       20.9, 21. , 21.1, 21.2, 21.3, 21.4, 21.5, 21.6, 21.7, 21.8, 21.9,\n",
       "       22. , 22.1, 22.2, 22.3, 22.4, 22.5, 22.6, 22.7, 22.8, 22.9, 23. ,\n",
       "       23.1, 23.2, 23.3, 23.4, 23.5, 23.6, 23.7, 23.8, 23.9, 24. , 24.1,\n",
       "       24.2, 24.3, 24.4, 24.5, 24.6, 24.7, 24.8, 24.9, 25. , 25.1, 25.2,\n",
       "       25.3, 25.4, 25.5, 25.6, 25.7, 25.8, 25.9, 26. , 26.1, 26.2, 26.3,\n",
       "       26.4, 26.5, 26.6, 26.7, 26.8, 26.9, 27. , 27.1, 27.2, 27.3, 27.4,\n",
       "       27.5, 27.6, 27.7, 27.8, 27.9, 28. , 28.1, 28.2, 28.3, 28.4, 28.5,\n",
       "       28.6, 28.7, 28.8, 28.9, 29. , 29.1, 29.2, 29.3, 29.4, 29.5, 29.6,\n",
       "       29.7, 29.8, 29.9, 30. , 30.1, 30.2, 30.3, 30.4, 30.5, 30.6, 30.7,\n",
       "       30.8, 30.9, 31. , 31.1, 31.2, 31.3, 31.4, 31.5, 31.6, 31.7, 31.8,\n",
       "       31.9, 32. , 32.1, 32.2, 32.3, 32.4, 32.5, 32.6, 32.7, 32.8, 32.9,\n",
       "       33. , 33.1, 33.2, 33.3, 33.4, 33.5, 33.6, 33.7, 33.8, 33.9, 34. ,\n",
       "       34.1, 34.2, 34.3, 34.4, 34.5, 34.6, 34.7, 34.8, 34.9, 35. , 35.1,\n",
       "       35.2, 35.3, 35.4, 35.5, 35.6, 35.7, 35.8, 35.9, 36. , 36.1, 36.2,\n",
       "       36.3, 36.4, 36.5, 36.6, 36.7, 36.8, 36.9, 37. , 37.1, 37.2, 37.3,\n",
       "       37.4, 37.5, 37.6, 37.7, 37.8, 37.9])"
      ]
     },
     "execution_count": 71,
     "metadata": {},
     "output_type": "execute_result"
    }
   ],
   "source": [
    "#membuat xreg\n",
    "xreg = np.array(range(0,int((x[-1]+1)*10)))\n",
    "xreg = xreg/10 #memperhalus bentuk garis\n",
    "xreg = xreg.astype('float64')\n",
    "xreg"
   ]
  },
  {
   "cell_type": "code",
   "execution_count": 72,
   "metadata": {},
   "outputs": [
    {
     "data": {
      "text/plain": [
       "array([3.80206296e+00, 3.87599337e+00, 3.95136133e+00, 4.02819482e+00,\n",
       "       4.10652231e+00, 4.18637287e+00, 4.26777611e+00, 4.35076222e+00,\n",
       "       4.43536198e+00, 4.52160676e+00, 4.60952856e+00, 4.69915998e+00,\n",
       "       4.79053427e+00, 4.88368531e+00, 4.97864766e+00, 5.07545654e+00,\n",
       "       5.17414784e+00, 5.27475818e+00, 5.37732487e+00, 5.48188594e+00,\n",
       "       5.58848019e+00, 5.69714714e+00, 5.80792711e+00, 5.92086116e+00,\n",
       "       6.03599120e+00, 6.15335992e+00, 6.27301086e+00, 6.39498838e+00,\n",
       "       6.51933774e+00, 6.64610504e+00, 6.77533731e+00, 6.90708248e+00,\n",
       "       7.04138941e+00, 7.17830791e+00, 7.31788877e+00, 7.46018375e+00,\n",
       "       7.60524563e+00, 7.75312821e+00, 7.90388633e+00, 8.05757593e+00,\n",
       "       8.21425399e+00, 8.37397862e+00, 8.53680907e+00, 8.70280573e+00,\n",
       "       8.87203016e+00, 9.04454513e+00, 9.22041462e+00, 9.39970386e+00,\n",
       "       9.58247934e+00, 9.76880886e+00, 9.95876153e+00, 1.01524078e+01,\n",
       "       1.03498195e+01, 1.05510698e+01, 1.07562333e+01, 1.09653863e+01,\n",
       "       1.11786062e+01, 1.13959721e+01, 1.16175646e+01, 1.18434660e+01,\n",
       "       1.20737600e+01, 1.23085320e+01, 1.25478691e+01, 1.27918601e+01,\n",
       "       1.30405954e+01, 1.32941673e+01, 1.35526699e+01, 1.38161991e+01,\n",
       "       1.40848525e+01, 1.43587298e+01, 1.46379326e+01, 1.49225645e+01,\n",
       "       1.52127310e+01, 1.55085397e+01, 1.58101003e+01, 1.61175248e+01,\n",
       "       1.64309271e+01, 1.67504234e+01, 1.70761322e+01, 1.74081744e+01,\n",
       "       1.77466731e+01, 1.80917539e+01, 1.84435446e+01, 1.88021759e+01,\n",
       "       1.91677807e+01, 1.95404946e+01, 1.99204559e+01, 2.03078054e+01,\n",
       "       2.07026869e+01, 2.11052468e+01, 2.15156344e+01, 2.19340019e+01,\n",
       "       2.23605044e+01, 2.27953003e+01, 2.32385506e+01, 2.36904199e+01,\n",
       "       2.41510757e+01, 2.46206888e+01, 2.50994335e+01, 2.55874873e+01,\n",
       "       2.60850312e+01, 2.65922498e+01, 2.71093311e+01, 2.76364670e+01,\n",
       "       2.81738529e+01, 2.87216883e+01, 2.92801761e+01, 2.98495237e+01,\n",
       "       3.04299421e+01, 3.10216466e+01, 3.16248567e+01, 3.22397962e+01,\n",
       "       3.28666930e+01, 3.35057797e+01, 3.41572933e+01, 3.48214755e+01,\n",
       "       3.54985726e+01, 3.61888357e+01, 3.68925209e+01, 3.76098890e+01,\n",
       "       3.83412063e+01, 3.90867439e+01, 3.98467783e+01, 4.06215915e+01,\n",
       "       4.14114707e+01, 4.22167090e+01, 4.30376051e+01, 4.38744633e+01,\n",
       "       4.47275940e+01, 4.55973137e+01, 4.64839450e+01, 4.73878166e+01,\n",
       "       4.83092638e+01, 4.92486284e+01, 5.02062588e+01, 5.11825101e+01,\n",
       "       5.21777445e+01, 5.31923310e+01, 5.42266459e+01, 5.52810729e+01,\n",
       "       5.63560030e+01, 5.74518350e+01, 5.85689752e+01, 5.97078380e+01,\n",
       "       6.08688457e+01, 6.20524291e+01, 6.32590269e+01, 6.44890869e+01,\n",
       "       6.57430652e+01, 6.70214268e+01, 6.83246459e+01, 6.96532059e+01,\n",
       "       7.10075994e+01, 7.23883290e+01, 7.37959065e+01, 7.52308541e+01,\n",
       "       7.66937040e+01, 7.81849987e+01, 7.97052914e+01, 8.12551459e+01,\n",
       "       8.28351371e+01, 8.44458508e+01, 8.60878846e+01, 8.77618475e+01,\n",
       "       8.94683602e+01, 9.12080557e+01, 9.29815793e+01, 9.47895888e+01,\n",
       "       9.66327546e+01, 9.85117605e+01, 1.00427303e+02, 1.02380093e+02,\n",
       "       1.04370855e+02, 1.06400327e+02, 1.08469261e+02, 1.10578426e+02,\n",
       "       1.12728603e+02, 1.14920589e+02, 1.17155199e+02, 1.19433260e+02,\n",
       "       1.21755617e+02, 1.24123132e+02, 1.26536684e+02, 1.28997166e+02,\n",
       "       1.31505492e+02, 1.34062591e+02, 1.36669413e+02, 1.39326924e+02,\n",
       "       1.42036110e+02, 1.44797976e+02, 1.47613546e+02, 1.50483864e+02,\n",
       "       1.53409994e+02, 1.56393023e+02, 1.59434056e+02, 1.62534221e+02,\n",
       "       1.65694669e+02, 1.68916571e+02, 1.72201122e+02, 1.75549541e+02,\n",
       "       1.78963069e+02, 1.82442972e+02, 1.85990542e+02, 1.89607093e+02,\n",
       "       1.93293967e+02, 1.97052533e+02, 2.00884182e+02, 2.04790338e+02,\n",
       "       2.08772447e+02, 2.12831989e+02, 2.16970467e+02, 2.21189417e+02,\n",
       "       2.25490404e+02, 2.29875023e+02, 2.34344900e+02, 2.38901692e+02,\n",
       "       2.43547091e+02, 2.48282819e+02, 2.53110632e+02, 2.58032321e+02,\n",
       "       2.63049711e+02, 2.68164664e+02, 2.73379075e+02, 2.78694880e+02,\n",
       "       2.84114050e+02, 2.89638595e+02, 2.95270563e+02, 3.01012044e+02,\n",
       "       3.06865167e+02, 3.12832103e+02, 3.18915065e+02, 3.25116309e+02,\n",
       "       3.31438135e+02, 3.37882887e+02, 3.44452957e+02, 3.51150780e+02,\n",
       "       3.57978842e+02, 3.64939673e+02, 3.72035857e+02, 3.79270025e+02,\n",
       "       3.86644860e+02, 3.94163097e+02, 4.01827524e+02, 4.09640986e+02,\n",
       "       4.17606378e+02, 4.25726656e+02, 4.34004831e+02, 4.42443974e+02,\n",
       "       4.51047215e+02, 4.59817743e+02, 4.68758813e+02, 4.77873741e+02,\n",
       "       4.87165907e+02, 4.96638757e+02, 5.06295804e+02, 5.16140632e+02,\n",
       "       5.26176890e+02, 5.36408301e+02, 5.46838660e+02, 5.57471836e+02,\n",
       "       5.68311772e+02, 5.79362488e+02, 5.90628083e+02, 6.02112736e+02,\n",
       "       6.13820706e+02, 6.25756335e+02, 6.37924050e+02, 6.50328364e+02,\n",
       "       6.62973877e+02, 6.75865280e+02, 6.89007354e+02, 7.02404974e+02,\n",
       "       7.16063107e+02, 7.29986821e+02, 7.44181278e+02, 7.58651744e+02,\n",
       "       7.73403585e+02, 7.88442274e+02, 8.03773386e+02, 8.19402610e+02,\n",
       "       8.35335740e+02, 8.51578688e+02, 8.68137476e+02, 8.85018247e+02,\n",
       "       9.02227262e+02, 9.19770902e+02, 9.37655675e+02, 9.55888215e+02,\n",
       "       9.74475283e+02, 9.93423772e+02, 1.01274071e+03, 1.03243327e+03,\n",
       "       1.05250874e+03, 1.07297457e+03, 1.09383836e+03, 1.11510785e+03,\n",
       "       1.13679091e+03, 1.15889560e+03, 1.18143011e+03, 1.20440279e+03,\n",
       "       1.22782218e+03, 1.25169695e+03, 1.27603597e+03, 1.30084825e+03,\n",
       "       1.32614300e+03, 1.35192960e+03, 1.37821762e+03, 1.40501680e+03,\n",
       "       1.43233709e+03, 1.46018862e+03, 1.48858172e+03, 1.51752691e+03,\n",
       "       1.54703494e+03, 1.57711674e+03, 1.60778348e+03, 1.63904653e+03,\n",
       "       1.67091749e+03, 1.70340816e+03, 1.73653062e+03, 1.77029713e+03,\n",
       "       1.80472023e+03, 1.83981268e+03, 1.87558749e+03, 1.91205794e+03,\n",
       "       1.94923755e+03, 1.98714011e+03, 2.02577967e+03, 2.06517058e+03,\n",
       "       2.10532744e+03, 2.14626514e+03, 2.18799886e+03, 2.23054409e+03,\n",
       "       2.27391660e+03, 2.31813249e+03, 2.36320814e+03, 2.40916028e+03,\n",
       "       2.45600595e+03, 2.50376253e+03, 2.55244772e+03, 2.60207959e+03,\n",
       "       2.65267654e+03, 2.70425734e+03, 2.75684112e+03, 2.81044738e+03,\n",
       "       2.86509601e+03, 2.92080726e+03, 2.97760182e+03, 3.03550073e+03,\n",
       "       3.09452547e+03, 3.15469794e+03, 3.21604045e+03, 3.27857576e+03,\n",
       "       3.34232705e+03, 3.40731798e+03, 3.47357264e+03, 3.54111561e+03,\n",
       "       3.60997194e+03, 3.68016717e+03, 3.75172733e+03, 3.82467897e+03,\n",
       "       3.89904914e+03, 3.97486542e+03, 4.05215594e+03, 4.13094935e+03,\n",
       "       4.21127489e+03, 4.29316234e+03, 4.37664208e+03, 4.46174507e+03,\n",
       "       4.54850287e+03, 4.63694766e+03, 4.72711224e+03, 4.81903005e+03,\n",
       "       4.91273519e+03, 5.00826241e+03, 5.10564714e+03, 5.20492549e+03,\n",
       "       5.30613430e+03, 5.40931109e+03, 5.51449413e+03, 5.62172244e+03])"
      ]
     },
     "execution_count": 72,
     "metadata": {},
     "output_type": "execute_result"
    }
   ],
   "source": [
    "#membuat yreg\n",
    "yreg = a*np.e**(b*xreg)\n",
    "yreg"
   ]
  },
  {
   "cell_type": "code",
   "execution_count": 73,
   "metadata": {},
   "outputs": [
    {
     "data": {
      "text/plain": [
       "Text(0, 0.5, 'y-banyak orang')"
      ]
     },
     "execution_count": 73,
     "metadata": {},
     "output_type": "execute_result"
    },
    {
     "data": {
      "image/png": "[encoded data removed]",
      "text/plain": [
       "<Figure size 432x288 with 1 Axes>"
      ]
     },
     "metadata": {
      "needs_background": "light"
     },
     "output_type": "display_data"
    }
   ],
   "source": [
    "ax = plt.plot(x,y,'ro')\n",
    "plt.plot(xreg,yreg,'b')\n",
    "plt.grid()\n",
    "plt.xlabel('x-hari ke')\n",
    "plt.ylabel('y-banyak orang')"
   ]
  },
  {
   "cell_type": "markdown",
   "metadata": {},
   "source": [
    "**Selesai**"
   ]
  },
  {
   "cell_type": "markdown",
   "metadata": {},
   "source": [
    "#### Regresi Polinomial"
   ]
  },
  {
   "cell_type": "code",
   "execution_count": 74,
   "metadata": {},
   "outputs": [
    {
     "data": {
      "text/plain": [
       "array([2.000e+00, 2.000e+00, 4.000e+00, 6.000e+00, 8.000e+00, 1.200e+01,\n",
       "       1.600e+01, 1.900e+01, 2.600e+01, 3.400e+01, 4.300e+01, 5.400e+01,\n",
       "       6.600e+01, 7.700e+01, 9.200e+01, 1.080e+02, 1.240e+02, 1.450e+02,\n",
       "       1.940e+02, 2.370e+02, 2.910e+02, 3.540e+02, 4.290e+02, 5.140e+02,\n",
       "       6.110e+02, 7.240e+02, 8.530e+02, 9.880e+02, 1.135e+03, 1.284e+03,\n",
       "       1.433e+03, 1.556e+03, 1.685e+03, 1.812e+03, 1.934e+03, 2.077e+03,\n",
       "       2.234e+03])"
      ]
     },
     "execution_count": 74,
     "metadata": {},
     "output_type": "execute_result"
    }
   ],
   "source": [
    "y = np.array ((2, 2, 4, 6, 8, 12, 16, 19, 26, 34, 43, 54, 66, 77, 92, 108, 124, 145, 194, 237, 291, 354, 429, 514, 611, 724, 853, 988, 1135, 1284, 1433, 1556, 1685, 1812, 1934, 2077, 2234))\n",
    "y = y.astype('float64')\n",
    "y"
   ]
  },
  {
   "cell_type": "code",
   "execution_count": 75,
   "metadata": {},
   "outputs": [
    {
     "data": {
      "text/plain": [
       "array([ 1.,  2.,  3.,  4.,  5.,  6.,  7.,  8.,  9., 10., 11., 12., 13.,\n",
       "       14., 15., 16., 17., 18., 19., 20., 21., 22., 23., 24., 25., 26.,\n",
       "       27., 28., 29., 30., 31., 32., 33., 34., 35., 36., 37.])"
      ]
     },
     "execution_count": 75,
     "metadata": {},
     "output_type": "execute_result"
    }
   ],
   "source": [
    "x = np.array((range(1,1+len(y))))\n",
    "x = x.astype('float64')\n",
    "x"
   ]
  },
  {
   "cell_type": "markdown",
   "metadata": {},
   "source": [
    "**Membentuk regresi polinomial dari matriks**"
   ]
  },
  {
   "attachments": {
    "image.png": {
     "image/png": "[encoded data removed]"
    }
   },
   "cell_type": "markdown",
   "metadata": {},
   "source": [
    "![image.png](attachment:image.png)"
   ]
  },
  {
   "cell_type": "markdown",
   "metadata": {},
   "source": [
    "**Mendefinisikan elemen-elemen matriks kiri**"
   ]
  },
  {
   "cell_type": "code",
   "execution_count": 76,
   "metadata": {},
   "outputs": [
    {
     "data": {
      "text/plain": [
       "array([[3.70000000e+01, 7.03000000e+02, 1.75750000e+04, 4.94209000e+05],\n",
       "       [7.03000000e+02, 1.75750000e+04, 4.94209000e+05, 1.48227550e+07],\n",
       "       [1.75750000e+04, 4.94209000e+05, 1.48227550e+07, 4.63073833e+08],\n",
       "       [4.94209000e+05, 1.48227550e+07, 4.63073833e+08, 1.48792235e+10]])"
      ]
     },
     "execution_count": 76,
     "metadata": {},
     "output_type": "execute_result"
    }
   ],
   "source": [
    "n = len(y)\n",
    "a = x.sum()\n",
    "b = (x**2).sum()\n",
    "c = (x**3).sum()\n",
    "d = (x**4).sum()\n",
    "e = (x**5).sum()\n",
    "f = (x**6).sum()\n",
    "A = np.array(([n, a, b, c],\n",
    "    [a, b, c, d],\n",
    "    [b, c, d, e],\n",
    "    [c, d, e, f]))\n",
    "A"
   ]
  },
  {
   "cell_type": "markdown",
   "metadata": {},
   "source": [
    "**Mendefinisikan elemen-elemen matriks kanan**"
   ]
  },
  {
   "cell_type": "code",
   "execution_count": 77,
   "metadata": {},
   "outputs": [
    {
     "data": {
      "text/plain": [
       "array([[2.11830000e+04],\n",
       "       [6.49180000e+05],\n",
       "       [2.05634200e+07],\n",
       "       [6.66336352e+08]])"
      ]
     },
     "execution_count": 77,
     "metadata": {},
     "output_type": "execute_result"
    }
   ],
   "source": [
    "g = y.sum()\n",
    "h = (x*y).sum()\n",
    "i = ((x**2)*y).sum()\n",
    "j = ((x**3)*y).sum()\n",
    "B = np.array(([g],\n",
    "    [h],\n",
    "    [i],\n",
    "    [j]))\n",
    "B"
   ]
  },
  {
   "cell_type": "markdown",
   "metadata": {},
   "source": [
    "**Invers matriks sisi kiri**"
   ]
  },
  {
   "cell_type": "code",
   "execution_count": 78,
   "metadata": {},
   "outputs": [
    {
     "data": {
      "text/plain": [
       "array([[ 5.33348475e-01, -1.06505665e-01,  5.67794685e-03,\n",
       "        -8.83236177e-05],\n",
       "       [-1.06505665e-01,  2.69704945e-02, -1.59031041e-03,\n",
       "         2.61633389e-05],\n",
       "       [ 5.67794685e-03, -1.59031041e-03,  9.94215391e-05,\n",
       "        -1.69853111e-06],\n",
       "       [-8.83236177e-05,  2.61633389e-05, -1.69853111e-06,\n",
       "         2.97987914e-08]])"
      ]
     },
     "execution_count": 78,
     "metadata": {},
     "output_type": "execute_result"
    }
   ],
   "source": [
    "Ainv = np.linalg.inv(A)\n",
    "Ainv"
   ]
  },
  {
   "cell_type": "markdown",
   "metadata": {},
   "source": [
    "**Mencari nilai a0, a1, a2, dst dengan a = (A^-1)B namun di sini variabel a diganti dengan Y**"
   ]
  },
  {
   "cell_type": "code",
   "execution_count": 79,
   "metadata": {},
   "outputs": [
    {
     "name": "stdout",
     "output_type": "stream",
     "text": [
      "[[ 6.13415853e+01]\n",
      " [-1.60411135e+01]\n",
      " [ 5.32074500e-01]\n",
      " [ 4.21664818e-02]]\n"
     ]
    }
   ],
   "source": [
    "Y = Ainv.dot(B)\n",
    "print(Y)"
   ]
  },
  {
   "cell_type": "code",
   "execution_count": 80,
   "metadata": {},
   "outputs": [],
   "source": [
    "a0 = Y[0,0]\n",
    "a1 = Y[1,0]\n",
    "a2 = Y[2,0]\n",
    "a3 = Y[3,0]"
   ]
  },
  {
   "cell_type": "markdown",
   "metadata": {},
   "source": [
    "**Hasil persamaan regresi polinomial**"
   ]
  },
  {
   "cell_type": "code",
   "execution_count": 81,
   "metadata": {},
   "outputs": [
    {
     "name": "stdout",
     "output_type": "stream",
     "text": [
      "y = 0.0422x^3 + 0.5321X^2 + -16.0411x + 61.3416\n"
     ]
    }
   ],
   "source": [
    "print('y = {:.4f}x^3 + {:.4f}X^2 + {:.4f}x + {:.4f}'.format(a3, a2, a1, a0))"
   ]
  },
  {
   "cell_type": "code",
   "execution_count": 82,
   "metadata": {},
   "outputs": [
    {
     "data": {
      "text/plain": [
       "array([2.000e+00, 2.000e+00, 4.000e+00, 6.000e+00, 8.000e+00, 1.200e+01,\n",
       "       1.600e+01, 1.900e+01, 2.600e+01, 3.400e+01, 4.300e+01, 5.400e+01,\n",
       "       6.600e+01, 7.700e+01, 9.200e+01, 1.080e+02, 1.240e+02, 1.450e+02,\n",
       "       1.940e+02, 2.370e+02, 2.910e+02, 3.540e+02, 4.290e+02, 5.140e+02,\n",
       "       6.110e+02, 7.240e+02, 8.530e+02, 9.880e+02, 1.135e+03, 1.284e+03,\n",
       "       1.433e+03, 1.556e+03, 1.685e+03, 1.812e+03, 1.934e+03, 2.077e+03,\n",
       "       2.234e+03])"
      ]
     },
     "execution_count": 82,
     "metadata": {},
     "output_type": "execute_result"
    }
   ],
   "source": [
    "y"
   ]
  },
  {
   "cell_type": "markdown",
   "metadata": {},
   "source": [
    "**Koefisien Korelasi ( r ) dan Derajat Kesesuaian ( R ) r-square**"
   ]
  },
  {
   "cell_type": "code",
   "execution_count": 83,
   "metadata": {},
   "outputs": [
    {
     "name": "stdout",
     "output_type": "stream",
     "text": [
      "r = 0.9977 dan r^2 = 0.9682\n"
     ]
    }
   ],
   "source": [
    "yDt = (y-y.mean())**2\n",
    "yD = (y-a0-a1*x-a2*(x**2)-a3*(x**3))**2\n",
    "r = np.sqrt((yDt.sum()-yD.sum())/yDt.sum())\n",
    "R2 = r**2\n",
    "print('r = {:.4f} dan r^2 = {:.4f}'.format(r,r2))"
   ]
  },
  {
   "cell_type": "markdown",
   "metadata": {},
   "source": [
    "**Plot**"
   ]
  },
  {
   "cell_type": "code",
   "execution_count": 84,
   "metadata": {},
   "outputs": [
    {
     "data": {
      "text/plain": [
       "Text(0, 0.5, 'y')"
      ]
     },
     "execution_count": 84,
     "metadata": {},
     "output_type": "execute_result"
    },
    {
     "data": {
      "image/png": "[encoded data removed]",
      "text/plain": [
       "<Figure size 432x288 with 1 Axes>"
      ]
     },
     "metadata": {
      "needs_background": "light"
     },
     "output_type": "display_data"
    }
   ],
   "source": [
    "xreg = np.array(range(0,int((x[-1]+0.5)*10)))\n",
    "xreg = xreg/10\n",
    "yreg = a0 + a1*xreg + a2*(xreg**2) + a3*(xreg**3)\n",
    "ax = plt.plot(x,y,'ro')\n",
    "plt.plot(xreg,yreg,'b')\n",
    "plt.grid()\n",
    "plt.xlabel('x')\n",
    "plt.ylabel('y')"
   ]
  },
  {
   "cell_type": "markdown",
   "metadata": {},
   "source": [
    "**Perbandingan jika memakai polyfit dengan derajat dinaikkan**"
   ]
  },
  {
   "cell_type": "code",
   "execution_count": 85,
   "metadata": {
    "scrolled": true
   },
   "outputs": [
    {
     "data": {
      "image/png": "[encoded data removed]",
      "text/plain": [
       "<Figure size 432x288 with 1 Axes>"
      ]
     },
     "metadata": {
      "needs_background": "light"
     },
     "output_type": "display_data"
    }
   ],
   "source": [
    "regpoly = np.poly1d(np.polyfit(x, y, 5))\n",
    "\n",
    "myline = np.linspace(1, 65, 100)\n",
    "\n",
    "plt.scatter(x, y)\n",
    "plt.plot(myline, regpoly(myline), linewidth=3, color='r')\n",
    "plt.show()"
   ]
  },
  {
   "cell_type": "code",
   "execution_count": 86,
   "metadata": {
    "scrolled": true
   },
   "outputs": [
    {
     "name": "stdout",
     "output_type": "stream",
     "text": [
      "           5           4          3         2\n",
      "-0.000263 x + 0.02051 x - 0.4674 x + 4.507 x - 13.78 x + 12.34\n"
     ]
    }
   ],
   "source": [
    "print (regpoly)"
   ]
  },
  {
   "cell_type": "code",
   "execution_count": 87,
   "metadata": {},
   "outputs": [
    {
     "name": "stdout",
     "output_type": "stream",
     "text": [
      "0.9995657609961824\n"
     ]
    }
   ],
   "source": [
    "print(r2_score(y, regpoly(x)))"
   ]
  },
  {
   "cell_type": "code",
   "execution_count": null,
   "metadata": {},
   "outputs": [],
   "source": []
  }
 ],
 "metadata": {
  "kernelspec": {
   "display_name": "Python 3",
   "language": "python",
   "name": "python3"
  },
  "language_info": {
   "codemirror_mode": {
    "name": "ipython",
    "version": 3
   },
   "file_extension": ".py",
   "mimetype": "text/x-python",
   "name": "python",
   "nbconvert_exporter": "python",
   "pygments_lexer": "ipython3",
   "version": "3.7.6"
  },
  "toc": {
   "base_numbering": 1,
   "nav_menu": {},
   "number_sections": true,
   "sideBar": true,
   "skip_h1_title": false,
   "title_cell": "Table of Contents",
   "title_sidebar": "Contents",
   "toc_cell": false,
   "toc_position": {
    "height": "calc(100% - 180px)",
    "left": "10px",
    "top": "150px",
    "width": "286.957px"
   },
   "toc_section_display": true,
   "toc_window_display": true
  }
 },
 "nbformat": 4,
 "nbformat_minor": 4
}
