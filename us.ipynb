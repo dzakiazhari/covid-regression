{
 "cells": [
  {
   "cell_type": "markdown",
   "metadata": {},
   "source": [
    "# US (Amerika Serikat)"
   ]
  },
  {
   "cell_type": "markdown",
   "metadata": {},
   "source": [
    "## Basic Data (Import and Visualization)"
   ]
  },
  {
   "cell_type": "markdown",
   "metadata": {},
   "source": [
    "### Start (Importing Libraries)"
   ]
  },
  {
   "cell_type": "code",
   "execution_count": 9,
   "metadata": {},
   "outputs": [],
   "source": [
    "import matplotlib.pyplot as plt\n",
    "import numpy as np\n",
    "import pandas as pd\n",
    "import seaborn as sns\n",
    "from sklearn.metrics import r2_score\n",
    "%matplotlib inline"
   ]
  },
  {
   "cell_type": "markdown",
   "metadata": {},
   "source": [
    "### Read data and Plotting"
   ]
  },
  {
   "cell_type": "code",
   "execution_count": 10,
   "metadata": {},
   "outputs": [
    {
     "data": {
      "text/plain": [
       "pandas.core.frame.DataFrame"
      ]
     },
     "execution_count": 10,
     "metadata": {},
     "output_type": "execute_result"
    }
   ],
   "source": [
    "df = pd.read_csv('/Users/abdul/Documents/Academics/Metnum/UTS/dataset/csv/us.csv')\n",
    "type(df)"
   ]
  },
  {
   "cell_type": "code",
   "execution_count": 11,
   "metadata": {},
   "outputs": [
    {
     "data": {
      "text/plain": [
       "(41, 5)"
      ]
     },
     "execution_count": 11,
     "metadata": {},
     "output_type": "execute_result"
    }
   ],
   "source": [
    "df.shape"
   ]
  },
  {
   "cell_type": "code",
   "execution_count": 12,
   "metadata": {},
   "outputs": [],
   "source": [
    "df.columns\n",
    "df['Date'] = pd.to_datetime(df['Date'])\n",
    "df.set_index('Date', inplace=True)"
   ]
  },
  {
   "cell_type": "code",
   "execution_count": 13,
   "metadata": {},
   "outputs": [
    {
     "data": {
      "text/html": [
       "<div>\n",
       "<style scoped>\n",
       "    .dataframe tbody tr th:only-of-type {\n",
       "        vertical-align: middle;\n",
       "    }\n",
       "\n",
       "    .dataframe tbody tr th {\n",
       "        vertical-align: top;\n",
       "    }\n",
       "\n",
       "    .dataframe thead th {\n",
       "        text-align: right;\n",
       "    }\n",
       "</style>\n",
       "<table border=\"1\" class=\"dataframe\">\n",
       "  <thead>\n",
       "    <tr style=\"text-align: right;\">\n",
       "      <th></th>\n",
       "      <th>Confirmed</th>\n",
       "      <th>New</th>\n",
       "      <th>Deaths</th>\n",
       "      <th>Active</th>\n",
       "    </tr>\n",
       "    <tr>\n",
       "      <th>Date</th>\n",
       "      <th></th>\n",
       "      <th></th>\n",
       "      <th></th>\n",
       "      <th></th>\n",
       "    </tr>\n",
       "  </thead>\n",
       "  <tbody>\n",
       "    <tr>\n",
       "      <th>2020-02-15</th>\n",
       "      <td>15</td>\n",
       "      <td>0</td>\n",
       "      <td>0</td>\n",
       "      <td>12</td>\n",
       "    </tr>\n",
       "    <tr>\n",
       "      <th>2020-02-16</th>\n",
       "      <td>15</td>\n",
       "      <td>0</td>\n",
       "      <td>0</td>\n",
       "      <td>12</td>\n",
       "    </tr>\n",
       "    <tr>\n",
       "      <th>2020-02-17</th>\n",
       "      <td>15</td>\n",
       "      <td>0</td>\n",
       "      <td>0</td>\n",
       "      <td>12</td>\n",
       "    </tr>\n",
       "    <tr>\n",
       "      <th>2020-02-18</th>\n",
       "      <td>15</td>\n",
       "      <td>0</td>\n",
       "      <td>0</td>\n",
       "      <td>12</td>\n",
       "    </tr>\n",
       "    <tr>\n",
       "      <th>2020-02-19</th>\n",
       "      <td>15</td>\n",
       "      <td>0</td>\n",
       "      <td>0</td>\n",
       "      <td>12</td>\n",
       "    </tr>\n",
       "    <tr>\n",
       "      <th>2020-02-20</th>\n",
       "      <td>15</td>\n",
       "      <td>0</td>\n",
       "      <td>0</td>\n",
       "      <td>10</td>\n",
       "    </tr>\n",
       "    <tr>\n",
       "      <th>2020-02-21</th>\n",
       "      <td>35</td>\n",
       "      <td>20</td>\n",
       "      <td>0</td>\n",
       "      <td>29</td>\n",
       "    </tr>\n",
       "    <tr>\n",
       "      <th>2020-02-22</th>\n",
       "      <td>35</td>\n",
       "      <td>0</td>\n",
       "      <td>0</td>\n",
       "      <td>29</td>\n",
       "    </tr>\n",
       "    <tr>\n",
       "      <th>2020-02-23</th>\n",
       "      <td>35</td>\n",
       "      <td>0</td>\n",
       "      <td>0</td>\n",
       "      <td>28</td>\n",
       "    </tr>\n",
       "    <tr>\n",
       "      <th>2020-02-24</th>\n",
       "      <td>53</td>\n",
       "      <td>18</td>\n",
       "      <td>0</td>\n",
       "      <td>48</td>\n",
       "    </tr>\n",
       "    <tr>\n",
       "      <th>2020-02-25</th>\n",
       "      <td>57</td>\n",
       "      <td>4</td>\n",
       "      <td>0</td>\n",
       "      <td>51</td>\n",
       "    </tr>\n",
       "    <tr>\n",
       "      <th>2020-02-26</th>\n",
       "      <td>60</td>\n",
       "      <td>3</td>\n",
       "      <td>0</td>\n",
       "      <td>54</td>\n",
       "    </tr>\n",
       "    <tr>\n",
       "      <th>2020-02-27</th>\n",
       "      <td>60</td>\n",
       "      <td>0</td>\n",
       "      <td>0</td>\n",
       "      <td>54</td>\n",
       "    </tr>\n",
       "    <tr>\n",
       "      <th>2020-02-28</th>\n",
       "      <td>63</td>\n",
       "      <td>3</td>\n",
       "      <td>0</td>\n",
       "      <td>57</td>\n",
       "    </tr>\n",
       "    <tr>\n",
       "      <th>2020-02-29</th>\n",
       "      <td>68</td>\n",
       "      <td>5</td>\n",
       "      <td>1</td>\n",
       "      <td>60</td>\n",
       "    </tr>\n",
       "    <tr>\n",
       "      <th>2020-03-01</th>\n",
       "      <td>75</td>\n",
       "      <td>7</td>\n",
       "      <td>1</td>\n",
       "      <td>65</td>\n",
       "    </tr>\n",
       "    <tr>\n",
       "      <th>2020-03-02</th>\n",
       "      <td>100</td>\n",
       "      <td>25</td>\n",
       "      <td>6</td>\n",
       "      <td>85</td>\n",
       "    </tr>\n",
       "    <tr>\n",
       "      <th>2020-03-03</th>\n",
       "      <td>124</td>\n",
       "      <td>24</td>\n",
       "      <td>9</td>\n",
       "      <td>106</td>\n",
       "    </tr>\n",
       "    <tr>\n",
       "      <th>2020-03-04</th>\n",
       "      <td>158</td>\n",
       "      <td>34</td>\n",
       "      <td>11</td>\n",
       "      <td>138</td>\n",
       "    </tr>\n",
       "    <tr>\n",
       "      <th>2020-03-05</th>\n",
       "      <td>221</td>\n",
       "      <td>63</td>\n",
       "      <td>12</td>\n",
       "      <td>200</td>\n",
       "    </tr>\n",
       "    <tr>\n",
       "      <th>2020-03-06</th>\n",
       "      <td>319</td>\n",
       "      <td>98</td>\n",
       "      <td>15</td>\n",
       "      <td>289</td>\n",
       "    </tr>\n",
       "    <tr>\n",
       "      <th>2020-03-07</th>\n",
       "      <td>435</td>\n",
       "      <td>116</td>\n",
       "      <td>19</td>\n",
       "      <td>401</td>\n",
       "    </tr>\n",
       "    <tr>\n",
       "      <th>2020-03-08</th>\n",
       "      <td>541</td>\n",
       "      <td>106</td>\n",
       "      <td>22</td>\n",
       "      <td>504</td>\n",
       "    </tr>\n",
       "    <tr>\n",
       "      <th>2020-03-09</th>\n",
       "      <td>704</td>\n",
       "      <td>163</td>\n",
       "      <td>26</td>\n",
       "      <td>663</td>\n",
       "    </tr>\n",
       "    <tr>\n",
       "      <th>2020-03-10</th>\n",
       "      <td>994</td>\n",
       "      <td>290</td>\n",
       "      <td>30</td>\n",
       "      <td>949</td>\n",
       "    </tr>\n",
       "    <tr>\n",
       "      <th>2020-03-11</th>\n",
       "      <td>1301</td>\n",
       "      <td>307</td>\n",
       "      <td>38</td>\n",
       "      <td>1248</td>\n",
       "    </tr>\n",
       "    <tr>\n",
       "      <th>2020-03-12</th>\n",
       "      <td>1630</td>\n",
       "      <td>329</td>\n",
       "      <td>41</td>\n",
       "      <td>1581</td>\n",
       "    </tr>\n",
       "    <tr>\n",
       "      <th>2020-03-13</th>\n",
       "      <td>2183</td>\n",
       "      <td>553</td>\n",
       "      <td>48</td>\n",
       "      <td>2126</td>\n",
       "    </tr>\n",
       "    <tr>\n",
       "      <th>2020-03-14</th>\n",
       "      <td>2770</td>\n",
       "      <td>587</td>\n",
       "      <td>57</td>\n",
       "      <td>2664</td>\n",
       "    </tr>\n",
       "    <tr>\n",
       "      <th>2020-03-15</th>\n",
       "      <td>3603</td>\n",
       "      <td>833</td>\n",
       "      <td>69</td>\n",
       "      <td>3484</td>\n",
       "    </tr>\n",
       "    <tr>\n",
       "      <th>2020-03-16</th>\n",
       "      <td>4596</td>\n",
       "      <td>993</td>\n",
       "      <td>87</td>\n",
       "      <td>4434</td>\n",
       "    </tr>\n",
       "    <tr>\n",
       "      <th>2020-03-17</th>\n",
       "      <td>6344</td>\n",
       "      <td>1748</td>\n",
       "      <td>110</td>\n",
       "      <td>6127</td>\n",
       "    </tr>\n",
       "    <tr>\n",
       "      <th>2020-03-18</th>\n",
       "      <td>9197</td>\n",
       "      <td>2853</td>\n",
       "      <td>150</td>\n",
       "      <td>8940</td>\n",
       "    </tr>\n",
       "    <tr>\n",
       "      <th>2020-03-19</th>\n",
       "      <td>13779</td>\n",
       "      <td>4582</td>\n",
       "      <td>206</td>\n",
       "      <td>13464</td>\n",
       "    </tr>\n",
       "    <tr>\n",
       "      <th>2020-03-20</th>\n",
       "      <td>19367</td>\n",
       "      <td>5588</td>\n",
       "      <td>255</td>\n",
       "      <td>18965</td>\n",
       "    </tr>\n",
       "    <tr>\n",
       "      <th>2020-03-21</th>\n",
       "      <td>24192</td>\n",
       "      <td>4825</td>\n",
       "      <td>301</td>\n",
       "      <td>23720</td>\n",
       "    </tr>\n",
       "    <tr>\n",
       "      <th>2020-03-22</th>\n",
       "      <td>33592</td>\n",
       "      <td>9400</td>\n",
       "      <td>414</td>\n",
       "      <td>33000</td>\n",
       "    </tr>\n",
       "    <tr>\n",
       "      <th>2020-03-23</th>\n",
       "      <td>43781</td>\n",
       "      <td>10189</td>\n",
       "      <td>555</td>\n",
       "      <td>42930</td>\n",
       "    </tr>\n",
       "    <tr>\n",
       "      <th>2020-03-24</th>\n",
       "      <td>54856</td>\n",
       "      <td>11075</td>\n",
       "      <td>780</td>\n",
       "      <td>53697</td>\n",
       "    </tr>\n",
       "    <tr>\n",
       "      <th>2020-03-25</th>\n",
       "      <td>68211</td>\n",
       "      <td>13355</td>\n",
       "      <td>1027</td>\n",
       "      <td>66790</td>\n",
       "    </tr>\n",
       "    <tr>\n",
       "      <th>2020-03-26</th>\n",
       "      <td>85435</td>\n",
       "      <td>17224</td>\n",
       "      <td>1295</td>\n",
       "      <td>82272</td>\n",
       "    </tr>\n",
       "  </tbody>\n",
       "</table>\n",
       "</div>"
      ],
      "text/plain": [
       "            Confirmed    New  Deaths  Active\n",
       "Date                                        \n",
       "2020-02-15         15      0       0      12\n",
       "2020-02-16         15      0       0      12\n",
       "2020-02-17         15      0       0      12\n",
       "2020-02-18         15      0       0      12\n",
       "2020-02-19         15      0       0      12\n",
       "2020-02-20         15      0       0      10\n",
       "2020-02-21         35     20       0      29\n",
       "2020-02-22         35      0       0      29\n",
       "2020-02-23         35      0       0      28\n",
       "2020-02-24         53     18       0      48\n",
       "2020-02-25         57      4       0      51\n",
       "2020-02-26         60      3       0      54\n",
       "2020-02-27         60      0       0      54\n",
       "2020-02-28         63      3       0      57\n",
       "2020-02-29         68      5       1      60\n",
       "2020-03-01         75      7       1      65\n",
       "2020-03-02        100     25       6      85\n",
       "2020-03-03        124     24       9     106\n",
       "2020-03-04        158     34      11     138\n",
       "2020-03-05        221     63      12     200\n",
       "2020-03-06        319     98      15     289\n",
       "2020-03-07        435    116      19     401\n",
       "2020-03-08        541    106      22     504\n",
       "2020-03-09        704    163      26     663\n",
       "2020-03-10        994    290      30     949\n",
       "2020-03-11       1301    307      38    1248\n",
       "2020-03-12       1630    329      41    1581\n",
       "2020-03-13       2183    553      48    2126\n",
       "2020-03-14       2770    587      57    2664\n",
       "2020-03-15       3603    833      69    3484\n",
       "2020-03-16       4596    993      87    4434\n",
       "2020-03-17       6344   1748     110    6127\n",
       "2020-03-18       9197   2853     150    8940\n",
       "2020-03-19      13779   4582     206   13464\n",
       "2020-03-20      19367   5588     255   18965\n",
       "2020-03-21      24192   4825     301   23720\n",
       "2020-03-22      33592   9400     414   33000\n",
       "2020-03-23      43781  10189     555   42930\n",
       "2020-03-24      54856  11075     780   53697\n",
       "2020-03-25      68211  13355    1027   66790\n",
       "2020-03-26      85435  17224    1295   82272"
      ]
     },
     "execution_count": 13,
     "metadata": {},
     "output_type": "execute_result"
    }
   ],
   "source": [
    "df"
   ]
  },
  {
   "cell_type": "code",
   "execution_count": 14,
   "metadata": {},
   "outputs": [
    {
     "data": {
      "text/plain": [
       "<matplotlib.axes._subplots.AxesSubplot at 0x1da1c9cce48>"
      ]
     },
     "execution_count": 14,
     "metadata": {},
     "output_type": "execute_result"
    },
    {
     "data": {
      "image/png": "[encoded data removed]",
      "text/plain": [
       "<Figure size 1080x288 with 1 Axes>"
      ]
     },
     "metadata": {
      "needs_background": "light"
     },
     "output_type": "display_data"
    }
   ],
   "source": [
    "df.plot.area(y=[\"Active\", \"Confirmed\", \"Deaths\", \"New\"], figsize=(15,4), alpha=0.4, subplots=False, stacked=False)"
   ]
  },
  {
   "cell_type": "code",
   "execution_count": 15,
   "metadata": {},
   "outputs": [
    {
     "data": {
      "image/png": "[encoded data removed]",
      "text/plain": [
       "<Figure size 432x288 with 2 Axes>"
      ]
     },
     "metadata": {
      "needs_background": "light"
     },
     "output_type": "display_data"
    }
   ],
   "source": [
    "fig, ax = plt.subplots()\n",
    "ax2 = ax.twinx()\n",
    "ax.bar(df.index, df[\"Confirmed\"], color=(190/255,190/255,190/255,0.7), label='Confirmed')\n",
    "ax2.plot(df.index, df[\"Active\"], color='green', label='Active')\n",
    "ax.set_xticklabels(df.index)\n",
    "ax.legend(loc='best')\n",
    "ax2.legend(loc='best')\n",
    "ax.xaxis.grid(True)\n",
    "ax.yaxis.grid(True)\n",
    "ax.set_title('Banyak kasus aktif dibanding dengan total kasus')\n",
    "fig.autofmt_xdate()"
   ]
  },
  {
   "cell_type": "code",
   "execution_count": 16,
   "metadata": {},
   "outputs": [
    {
     "data": {
      "image/png": "[encoded data removed]",
      "text/plain": [
       "<Figure size 432x288 with 2 Axes>"
      ]
     },
     "metadata": {
      "needs_background": "light"
     },
     "output_type": "display_data"
    }
   ],
   "source": [
    "fig, ax3 = plt.subplots()\n",
    "ax4 = ax3.twinx()\n",
    "ax3.bar(df.index, df[\"New\"], color=(190/255,190/255,190/255,0.7), label='New')\n",
    "ax4.plot(df.index, df[\"Deaths\"], color='red', label='Deaths')\n",
    "ax3.set_xticklabels(df.index)\n",
    "ax3.legend(loc='best')\n",
    "ax4.legend(loc='best')\n",
    "ax3.xaxis.grid(True)\n",
    "ax4.yaxis.grid(True)\n",
    "ax3.set_title('Banyak kasus kematian dibanding dengan kasus baru')\n",
    "fig.autofmt_xdate()"
   ]
  },
  {
   "cell_type": "markdown",
   "metadata": {},
   "source": [
    "## Regressions"
   ]
  },
  {
   "cell_type": "markdown",
   "metadata": {},
   "source": [
    "### Active "
   ]
  },
  {
   "cell_type": "markdown",
   "metadata": {},
   "source": [
    "- Start: 15-Feb-2020\n",
    "- End: 26-Mar-2020\n",
    "- Range: 41 Days"
   ]
  },
  {
   "cell_type": "markdown",
   "metadata": {},
   "source": [
    "**Data**"
   ]
  },
  {
   "cell_type": "code",
   "execution_count": 17,
   "metadata": {},
   "outputs": [
    {
     "data": {
      "text/plain": [
       "array([1.2000e+01, 1.2000e+01, 1.2000e+01, 1.2000e+01, 1.2000e+01,\n",
       "       1.0000e+01, 2.9000e+01, 2.9000e+01, 2.8000e+01, 4.8000e+01,\n",
       "       5.1000e+01, 5.4000e+01, 5.4000e+01, 5.7000e+01, 6.0000e+01,\n",
       "       6.5000e+01, 8.5000e+01, 1.0600e+02, 1.3800e+02, 2.0000e+02,\n",
       "       2.8900e+02, 4.0100e+02, 5.0400e+02, 6.6300e+02, 9.4900e+02,\n",
       "       1.2480e+03, 1.5810e+03, 2.1260e+03, 2.6640e+03, 3.4840e+03,\n",
       "       4.4340e+03, 6.1270e+03, 8.9400e+03, 1.3464e+04, 1.8965e+04,\n",
       "       2.3720e+04, 3.3000e+04, 4.2930e+04, 5.3697e+04, 6.6790e+04,\n",
       "       8.2272e+04])"
      ]
     },
     "execution_count": 17,
     "metadata": {},
     "output_type": "execute_result"
    }
   ],
   "source": [
    "y = np.array ((12, 12, 12, 12, 12, 10, 29, 29, 28, 48, 51, 54, 54, 57, 60, 65, 85, 106, 138, 200, 289, 401, 504, 663, 949, 1248, 1581, 2126, 2664, 3484, 4434, 6127, 8940, 13464, 18965, 23720, 33000, 42930, 53697, 66790, 82272))\n",
    "y = y.astype('float64')\n",
    "y"
   ]
  },
  {
   "cell_type": "code",
   "execution_count": 18,
   "metadata": {},
   "outputs": [
    {
     "data": {
      "text/plain": [
       "array([ 1.,  2.,  3.,  4.,  5.,  6.,  7.,  8.,  9., 10., 11., 12., 13.,\n",
       "       14., 15., 16., 17., 18., 19., 20., 21., 22., 23., 24., 25., 26.,\n",
       "       27., 28., 29., 30., 31., 32., 33., 34., 35., 36., 37., 38., 39.,\n",
       "       40., 41.])"
      ]
     },
     "execution_count": 18,
     "metadata": {},
     "output_type": "execute_result"
    }
   ],
   "source": [
    "x = np.array((range(1,1+len(y))))\n",
    "x = x.astype('float64')\n",
    "x"
   ]
  },
  {
   "cell_type": "markdown",
   "metadata": {},
   "source": [
    "**Plot**"
   ]
  },
  {
   "cell_type": "code",
   "execution_count": 19,
   "metadata": {},
   "outputs": [
    {
     "data": {
      "text/plain": [
       "Text(0, 0.5, 'y-jumlah orang')"
      ]
     },
     "execution_count": 19,
     "metadata": {},
     "output_type": "execute_result"
    },
    {
     "data": {
      "image/png": "[encoded data removed]",
      "text/plain": [
       "<Figure size 432x288 with 1 Axes>"
      ]
     },
     "metadata": {
      "needs_background": "light"
     },
     "output_type": "display_data"
    }
   ],
   "source": [
    "ax = plt.plot(x,y,'ro')\n",
    "plt.grid()\n",
    "plt.xlabel('x-hari')\n",
    "plt.ylabel('y-jumlah orang')"
   ]
  },
  {
   "cell_type": "markdown",
   "metadata": {},
   "source": [
    "#### Regresi Berpangkat"
   ]
  },
  {
   "cell_type": "markdown",
   "metadata": {},
   "source": [
    "**Data**"
   ]
  },
  {
   "cell_type": "code",
   "execution_count": 20,
   "metadata": {},
   "outputs": [
    {
     "data": {
      "text/plain": [
       "array([1.2000e+01, 1.2000e+01, 1.2000e+01, 1.2000e+01, 1.2000e+01,\n",
       "       1.0000e+01, 2.9000e+01, 2.9000e+01, 2.8000e+01, 4.8000e+01,\n",
       "       5.1000e+01, 5.4000e+01, 5.4000e+01, 5.7000e+01, 6.0000e+01,\n",
       "       6.5000e+01, 8.5000e+01, 1.0600e+02, 1.3800e+02, 2.0000e+02,\n",
       "       2.8900e+02, 4.0100e+02, 5.0400e+02, 6.6300e+02, 9.4900e+02,\n",
       "       1.2480e+03, 1.5810e+03, 2.1260e+03, 2.6640e+03, 3.4840e+03,\n",
       "       4.4340e+03, 6.1270e+03, 8.9400e+03, 1.3464e+04, 1.8965e+04,\n",
       "       2.3720e+04, 3.3000e+04, 4.2930e+04, 5.3697e+04, 6.6790e+04,\n",
       "       8.2272e+04])"
      ]
     },
     "execution_count": 20,
     "metadata": {},
     "output_type": "execute_result"
    }
   ],
   "source": [
    "y = np.array ((12, 12, 12, 12, 12, 10, 29, 29, 28, 48, 51, 54, 54, 57, 60, 65, 85, 106, 138, 200, 289, 401, 504, 663, 949, 1248, 1581, 2126, 2664, 3484, 4434, 6127, 8940, 13464, 18965, 23720, 33000, 42930, 53697, 66790, 82272))\n",
    "y = y.astype('float64')\n",
    "y"
   ]
  },
  {
   "cell_type": "code",
   "execution_count": 21,
   "metadata": {},
   "outputs": [
    {
     "data": {
      "text/plain": [
       "array([ 1.,  2.,  3.,  4.,  5.,  6.,  7.,  8.,  9., 10., 11., 12., 13.,\n",
       "       14., 15., 16., 17., 18., 19., 20., 21., 22., 23., 24., 25., 26.,\n",
       "       27., 28., 29., 30., 31., 32., 33., 34., 35., 36., 37., 38., 39.,\n",
       "       40., 41.])"
      ]
     },
     "execution_count": 21,
     "metadata": {},
     "output_type": "execute_result"
    }
   ],
   "source": [
    "x = np.array((range(1,1+len(y))))\n",
    "x = x.astype('float64')\n",
    "x"
   ]
  },
  {
   "attachments": {
    "image.png": {
     "image/png": "[encoded data removed]"
    }
   },
   "cell_type": "markdown",
   "metadata": {},
   "source": [
    "![image.png](attachment:image.png)"
   ]
  },
  {
   "cell_type": "markdown",
   "metadata": {},
   "source": [
    "**Membuat xreg untuk plotting selanjutnya**"
   ]
  },
  {
   "cell_type": "code",
   "execution_count": 22,
   "metadata": {},
   "outputs": [
    {
     "data": {
      "text/plain": [
       "array([ 1. ,  1.1,  1.2,  1.3,  1.4,  1.5,  1.6,  1.7,  1.8,  1.9,  2. ,\n",
       "        2.1,  2.2,  2.3,  2.4,  2.5,  2.6,  2.7,  2.8,  2.9,  3. ,  3.1,\n",
       "        3.2,  3.3,  3.4,  3.5,  3.6,  3.7,  3.8,  3.9,  4. ,  4.1,  4.2,\n",
       "        4.3,  4.4,  4.5,  4.6,  4.7,  4.8,  4.9,  5. ,  5.1,  5.2,  5.3,\n",
       "        5.4,  5.5,  5.6,  5.7,  5.8,  5.9,  6. ,  6.1,  6.2,  6.3,  6.4,\n",
       "        6.5,  6.6,  6.7,  6.8,  6.9,  7. ,  7.1,  7.2,  7.3,  7.4,  7.5,\n",
       "        7.6,  7.7,  7.8,  7.9,  8. ,  8.1,  8.2,  8.3,  8.4,  8.5,  8.6,\n",
       "        8.7,  8.8,  8.9,  9. ,  9.1,  9.2,  9.3,  9.4,  9.5,  9.6,  9.7,\n",
       "        9.8,  9.9, 10. , 10.1, 10.2, 10.3, 10.4, 10.5, 10.6, 10.7, 10.8,\n",
       "       10.9, 11. , 11.1, 11.2, 11.3, 11.4, 11.5, 11.6, 11.7, 11.8, 11.9,\n",
       "       12. , 12.1, 12.2, 12.3, 12.4, 12.5, 12.6, 12.7, 12.8, 12.9, 13. ,\n",
       "       13.1, 13.2, 13.3, 13.4, 13.5, 13.6, 13.7, 13.8, 13.9, 14. , 14.1,\n",
       "       14.2, 14.3, 14.4, 14.5, 14.6, 14.7, 14.8, 14.9, 15. , 15.1, 15.2,\n",
       "       15.3, 15.4, 15.5, 15.6, 15.7, 15.8, 15.9, 16. , 16.1, 16.2, 16.3,\n",
       "       16.4, 16.5, 16.6, 16.7, 16.8, 16.9, 17. , 17.1, 17.2, 17.3, 17.4,\n",
       "       17.5, 17.6, 17.7, 17.8, 17.9, 18. , 18.1, 18.2, 18.3, 18.4, 18.5,\n",
       "       18.6, 18.7, 18.8, 18.9, 19. , 19.1, 19.2, 19.3, 19.4, 19.5, 19.6,\n",
       "       19.7, 19.8, 19.9, 20. , 20.1, 20.2, 20.3, 20.4, 20.5, 20.6, 20.7,\n",
       "       20.8, 20.9, 21. , 21.1, 21.2, 21.3, 21.4, 21.5, 21.6, 21.7, 21.8,\n",
       "       21.9, 22. , 22.1, 22.2, 22.3, 22.4, 22.5, 22.6, 22.7, 22.8, 22.9,\n",
       "       23. , 23.1, 23.2, 23.3, 23.4, 23.5, 23.6, 23.7, 23.8, 23.9, 24. ,\n",
       "       24.1, 24.2, 24.3, 24.4, 24.5, 24.6, 24.7, 24.8, 24.9, 25. , 25.1,\n",
       "       25.2, 25.3, 25.4, 25.5, 25.6, 25.7, 25.8, 25.9, 26. , 26.1, 26.2,\n",
       "       26.3, 26.4, 26.5, 26.6, 26.7, 26.8, 26.9, 27. , 27.1, 27.2, 27.3,\n",
       "       27.4, 27.5, 27.6, 27.7, 27.8, 27.9, 28. , 28.1, 28.2, 28.3, 28.4,\n",
       "       28.5, 28.6, 28.7, 28.8, 28.9, 29. , 29.1, 29.2, 29.3, 29.4, 29.5,\n",
       "       29.6, 29.7, 29.8, 29.9, 30. , 30.1, 30.2, 30.3, 30.4, 30.5, 30.6,\n",
       "       30.7, 30.8, 30.9, 31. , 31.1, 31.2, 31.3, 31.4, 31.5, 31.6, 31.7,\n",
       "       31.8, 31.9, 32. , 32.1, 32.2, 32.3, 32.4, 32.5, 32.6, 32.7, 32.8,\n",
       "       32.9, 33. , 33.1, 33.2, 33.3, 33.4, 33.5, 33.6, 33.7, 33.8, 33.9,\n",
       "       34. , 34.1, 34.2, 34.3, 34.4, 34.5, 34.6, 34.7, 34.8, 34.9, 35. ,\n",
       "       35.1, 35.2, 35.3, 35.4, 35.5, 35.6, 35.7, 35.8, 35.9, 36. , 36.1,\n",
       "       36.2, 36.3, 36.4, 36.5, 36.6, 36.7, 36.8, 36.9, 37. , 37.1, 37.2,\n",
       "       37.3, 37.4, 37.5, 37.6, 37.7, 37.8, 37.9, 38. , 38.1, 38.2, 38.3,\n",
       "       38.4, 38.5, 38.6, 38.7, 38.8, 38.9, 39. , 39.1, 39.2, 39.3, 39.4,\n",
       "       39.5, 39.6, 39.7, 39.8, 39.9, 40. , 40.1, 40.2, 40.3, 40.4, 40.5,\n",
       "       40.6, 40.7, 40.8, 40.9, 41. , 41.1, 41.2, 41.3, 41.4, 41.5, 41.6,\n",
       "       41.7, 41.8, 41.9])"
      ]
     },
     "execution_count": 22,
     "metadata": {},
     "output_type": "execute_result"
    }
   ],
   "source": [
    "#membuat xreg\n",
    "xreg = np.array(range(10,int((x[-1]+1)*10)))\n",
    "xreg = xreg/10 #memperhalus bentuk garis\n",
    "xreg = xreg.astype('float64')\n",
    "xreg"
   ]
  },
  {
   "cell_type": "markdown",
   "metadata": {},
   "source": [
    "**Regresi berpangkat**"
   ]
  },
  {
   "attachments": {
    "image.png": {
     "image/png": "[encoded data removed]"
    }
   },
   "cell_type": "markdown",
   "metadata": {},
   "source": [
    "![image.png](attachment:image.png)"
   ]
  },
  {
   "attachments": {
    "image.png": {
     "image/png": "[encoded data removed]"
    }
   },
   "cell_type": "markdown",
   "metadata": {},
   "source": [
    "![image.png](attachment:image.png)"
   ]
  },
  {
   "attachments": {
    "image.png": {
     "image/png": "[encoded data removed]"
    }
   },
   "cell_type": "markdown",
   "metadata": {},
   "source": [
    "![image.png](attachment:image.png)"
   ]
  },
  {
   "cell_type": "code",
   "execution_count": 23,
   "metadata": {},
   "outputs": [],
   "source": [
    "p = np.log10(y)\n",
    "q = np.log10(x)"
   ]
  },
  {
   "cell_type": "markdown",
   "metadata": {},
   "source": [
    "**Hitung regresi linear**"
   ]
  },
  {
   "cell_type": "code",
   "execution_count": 24,
   "metadata": {},
   "outputs": [],
   "source": [
    "n = len(y)\n",
    "pq = p*q\n",
    "qq = q**2\n",
    "B = (n*pq.sum() - q.sum()*p.sum())/(n*qq.sum() - (q.sum())**2)\n",
    "A = p.mean()-B*q.mean()"
   ]
  },
  {
   "cell_type": "markdown",
   "metadata": {},
   "source": [
    "**Hasil regresi linear**"
   ]
  },
  {
   "cell_type": "code",
   "execution_count": 25,
   "metadata": {},
   "outputs": [
    {
     "name": "stdout",
     "output_type": "stream",
     "text": [
      "p = 2.7828q -0.6954\n"
     ]
    }
   ],
   "source": [
    "if A>0 :\n",
    "    print (\"p = {:.4f}q + {:.4f}\". format(B,A))\n",
    "else :\n",
    "    print (\"p = {:.4f}q {:.4f}\". format(B,A))"
   ]
  },
  {
   "cell_type": "markdown",
   "metadata": {},
   "source": [
    "**Kembalikan ke bentuk pangkat**"
   ]
  },
  {
   "cell_type": "code",
   "execution_count": 26,
   "metadata": {},
   "outputs": [
    {
     "name": "stdout",
     "output_type": "stream",
     "text": [
      "y = 0.2017x^(2.7828)\n"
     ]
    }
   ],
   "source": [
    "a = 10**A #A=log(a)\n",
    "b = B\n",
    "print (\"y = {:.4f}x^({:.4f})\".format(a,b))"
   ]
  },
  {
   "cell_type": "markdown",
   "metadata": {},
   "source": [
    "**Koefisien Korelasi ( r ) dan Derajat Kesesuaian ( R ) r-square**"
   ]
  },
  {
   "cell_type": "code",
   "execution_count": 27,
   "metadata": {},
   "outputs": [
    {
     "name": "stdout",
     "output_type": "stream",
     "text": [
      "r = 0.8475 dan r^2 = 0.7182\n"
     ]
    }
   ],
   "source": [
    "yDt = ((p - p.mean())**2).sum()\n",
    "yD = ((p - (q*B) - A)**2).sum()\n",
    "r = np.sqrt((yDt-yD)/yDt)\n",
    "r2 = r**2\n",
    "print('r = {:.4f} dan r^2 = {:.4f}'.format(r,r2))"
   ]
  },
  {
   "cell_type": "markdown",
   "metadata": {},
   "source": [
    "**Plot**"
   ]
  },
  {
   "cell_type": "code",
   "execution_count": 28,
   "metadata": {},
   "outputs": [
    {
     "data": {
      "text/plain": [
       "array([2.01662186e-01, 2.62914114e-01, 3.34945088e-01, 4.18515138e-01,\n",
       "       5.14370626e-01, 6.23245526e-01, 7.45862489e-01, 8.82933763e-01,\n",
       "       1.03516198e+00, 1.20324084e+00, 1.38785573e+00, 1.58968421e+00,\n",
       "       1.80939653e+00, 2.04765606e+00, 2.30511961e+00, 2.58243785e+00,\n",
       "       2.88025555e+00, 3.19921194e+00, 3.53994090e+00, 3.90307124e+00,\n",
       "       4.28922690e+00, 4.69902718e+00, 5.13308691e+00, 5.59201661e+00,\n",
       "       6.07642268e+00, 6.58690754e+00, 7.12406978e+00, 7.68850427e+00,\n",
       "       8.28080232e+00, 8.90155177e+00, 9.55133711e+00, 1.02307396e+01,\n",
       "       1.09403373e+01, 1.16807052e+01, 1.24524155e+01, 1.32560374e+01,\n",
       "       1.40921372e+01, 1.49612785e+01, 1.58640225e+01, 1.68009275e+01,\n",
       "       1.77725494e+01, 1.87794416e+01, 1.98221553e+01, 2.09012391e+01,\n",
       "       2.20172394e+01, 2.31707004e+01, 2.43621640e+01, 2.55921703e+01,\n",
       "       2.68612568e+01, 2.81699595e+01, 2.95188118e+01, 3.09083458e+01,\n",
       "       3.23390911e+01, 3.38115757e+01, 3.53263257e+01, 3.68838655e+01,\n",
       "       3.84847176e+01, 4.01294027e+01, 4.18184400e+01, 4.35523467e+01,\n",
       "       4.53316387e+01, 4.71568301e+01, 4.90284334e+01, 5.09469595e+01,\n",
       "       5.29129179e+01, 5.49268165e+01, 5.69891617e+01, 5.91004585e+01,\n",
       "       6.12612104e+01, 6.34719195e+01, 6.57330865e+01, 6.80452107e+01,\n",
       "       7.04087901e+01, 7.28243213e+01, 7.52922997e+01, 7.78132193e+01,\n",
       "       8.03875729e+01, 8.30158519e+01, 8.56985466e+01, 8.84361461e+01,\n",
       "       9.12291381e+01, 9.40780095e+01, 9.69832455e+01, 9.99453305e+01,\n",
       "       1.02964748e+02, 1.06041979e+02, 1.09177506e+02, 1.12371807e+02,\n",
       "       1.15625363e+02, 1.18938650e+02, 1.22312145e+02, 1.25746323e+02,\n",
       "       1.29241660e+02, 1.32798628e+02, 1.36417701e+02, 1.40099349e+02,\n",
       "       1.43844044e+02, 1.47652255e+02, 1.51524450e+02, 1.55461097e+02,\n",
       "       1.59462663e+02, 1.63529614e+02, 1.67662414e+02, 1.71861528e+02,\n",
       "       1.76127418e+02, 1.80460547e+02, 1.84861376e+02, 1.89330365e+02,\n",
       "       1.93867975e+02, 1.98474663e+02, 2.03150888e+02, 2.07897106e+02,\n",
       "       2.12713774e+02, 2.17601348e+02, 2.22560281e+02, 2.27591028e+02,\n",
       "       2.32694041e+02, 2.37869773e+02, 2.43118675e+02, 2.48441198e+02,\n",
       "       2.53837792e+02, 2.59308906e+02, 2.64854988e+02, 2.70476485e+02,\n",
       "       2.76173846e+02, 2.81947515e+02, 2.87797939e+02, 2.93725562e+02,\n",
       "       2.99730827e+02, 3.05814180e+02, 3.11976061e+02, 3.18216913e+02,\n",
       "       3.24537178e+02, 3.30937295e+02, 3.37417705e+02, 3.43978847e+02,\n",
       "       3.50621160e+02, 3.57345081e+02, 3.64151047e+02, 3.71039496e+02,\n",
       "       3.78010863e+02, 3.85065583e+02, 3.92204092e+02, 3.99426823e+02,\n",
       "       4.06734210e+02, 4.14126686e+02, 4.21604682e+02, 4.29168631e+02,\n",
       "       4.36818964e+02, 4.44556110e+02, 4.52380500e+02, 4.60292564e+02,\n",
       "       4.68292729e+02, 4.76381424e+02, 4.84559077e+02, 4.92826113e+02,\n",
       "       5.01182961e+02, 5.09630045e+02, 5.18167791e+02, 5.26796623e+02,\n",
       "       5.35516967e+02, 5.44329244e+02, 5.53233879e+02, 5.62231294e+02,\n",
       "       5.71321911e+02, 5.80506152e+02, 5.89784437e+02, 5.99157187e+02,\n",
       "       6.08624821e+02, 6.18187760e+02, 6.27846422e+02, 6.37601226e+02,\n",
       "       6.47452588e+02, 6.57400928e+02, 6.67446661e+02, 6.77590204e+02,\n",
       "       6.87831974e+02, 6.98172384e+02, 7.08611851e+02, 7.19150789e+02,\n",
       "       7.29789611e+02, 7.40528731e+02, 7.51368562e+02, 7.62309518e+02,\n",
       "       7.73352009e+02, 7.84496447e+02, 7.95743244e+02, 8.07092810e+02,\n",
       "       8.18545556e+02, 8.30101891e+02, 8.41762225e+02, 8.53526967e+02,\n",
       "       8.65396524e+02, 8.77371305e+02, 8.89451718e+02, 9.01638170e+02,\n",
       "       9.13931067e+02, 9.26330816e+02, 9.38837823e+02, 9.51452492e+02,\n",
       "       9.64175229e+02, 9.77006439e+02, 9.89946526e+02, 1.00299589e+03,\n",
       "       1.01615494e+03, 1.02942408e+03, 1.04280371e+03, 1.05629423e+03,\n",
       "       1.06989604e+03, 1.08360954e+03, 1.09743514e+03, 1.11137324e+03,\n",
       "       1.12542423e+03, 1.13958852e+03, 1.15386650e+03, 1.16825858e+03,\n",
       "       1.18276515e+03, 1.19738661e+03, 1.21212336e+03, 1.22697579e+03,\n",
       "       1.24194431e+03, 1.25702930e+03, 1.27223117e+03, 1.28755032e+03,\n",
       "       1.30298713e+03, 1.31854200e+03, 1.33421533e+03, 1.35000751e+03,\n",
       "       1.36591893e+03, 1.38195000e+03, 1.39810110e+03, 1.41437262e+03,\n",
       "       1.43076496e+03, 1.44727851e+03, 1.46391367e+03, 1.48067081e+03,\n",
       "       1.49755035e+03, 1.51455266e+03, 1.53167813e+03, 1.54892717e+03,\n",
       "       1.56630015e+03, 1.58379746e+03, 1.60141950e+03, 1.61916666e+03,\n",
       "       1.63703932e+03, 1.65503787e+03, 1.67316269e+03, 1.69141419e+03,\n",
       "       1.70979273e+03, 1.72829872e+03, 1.74693254e+03, 1.76569456e+03,\n",
       "       1.78458519e+03, 1.80360480e+03, 1.82275378e+03, 1.84203251e+03,\n",
       "       1.86144139e+03, 1.88098079e+03, 1.90065109e+03, 1.92045269e+03,\n",
       "       1.94038596e+03, 1.96045129e+03, 1.98064905e+03, 2.00097964e+03,\n",
       "       2.02144344e+03, 2.04204082e+03, 2.06277217e+03, 2.08363787e+03,\n",
       "       2.10463830e+03, 2.12577385e+03, 2.14704488e+03, 2.16845178e+03,\n",
       "       2.18999494e+03, 2.21167472e+03, 2.23349152e+03, 2.25544570e+03,\n",
       "       2.27753765e+03, 2.29976774e+03, 2.32213636e+03, 2.34464388e+03,\n",
       "       2.36729068e+03, 2.39007714e+03, 2.41300362e+03, 2.43607052e+03,\n",
       "       2.45927820e+03, 2.48262704e+03, 2.50611742e+03, 2.52974971e+03,\n",
       "       2.55352429e+03, 2.57744153e+03, 2.60150181e+03, 2.62570550e+03,\n",
       "       2.65005297e+03, 2.67454461e+03, 2.69918078e+03, 2.72396185e+03,\n",
       "       2.74888820e+03, 2.77396021e+03, 2.79917824e+03, 2.82454267e+03,\n",
       "       2.85005387e+03, 2.87571220e+03, 2.90151805e+03, 2.92747178e+03,\n",
       "       2.95357377e+03, 2.97982438e+03, 3.00622399e+03, 3.03277296e+03,\n",
       "       3.05947166e+03, 3.08632048e+03, 3.11331976e+03, 3.14046989e+03,\n",
       "       3.16777123e+03, 3.19522415e+03, 3.22282903e+03, 3.25058622e+03,\n",
       "       3.27849609e+03, 3.30655902e+03, 3.33477537e+03, 3.36314550e+03,\n",
       "       3.39166979e+03, 3.42034860e+03, 3.44918230e+03, 3.47817126e+03,\n",
       "       3.50731583e+03, 3.53661639e+03, 3.56607330e+03, 3.59568692e+03,\n",
       "       3.62545763e+03, 3.65538579e+03, 3.68547175e+03, 3.71571589e+03,\n",
       "       3.74611857e+03, 3.77668015e+03, 3.80740100e+03, 3.83828148e+03,\n",
       "       3.86932195e+03, 3.90052277e+03, 3.93188432e+03, 3.96340695e+03,\n",
       "       3.99509102e+03, 4.02693689e+03, 4.05894494e+03, 4.09111551e+03,\n",
       "       4.12344897e+03, 4.15594568e+03, 4.18860601e+03, 4.22143031e+03,\n",
       "       4.25441894e+03, 4.28757227e+03, 4.32089065e+03, 4.35437444e+03,\n",
       "       4.38802400e+03, 4.42183970e+03, 4.45582189e+03, 4.48997093e+03,\n",
       "       4.52428718e+03, 4.55877100e+03, 4.59342274e+03, 4.62824277e+03,\n",
       "       4.66323144e+03, 4.69838911e+03, 4.73371614e+03, 4.76921288e+03,\n",
       "       4.80487969e+03, 4.84071694e+03, 4.87672496e+03, 4.91290413e+03,\n",
       "       4.94925480e+03, 4.98577732e+03, 5.02247204e+03, 5.05933934e+03,\n",
       "       5.09637955e+03, 5.13359304e+03, 5.17098016e+03, 5.20854127e+03,\n",
       "       5.24627672e+03, 5.28418686e+03, 5.32227205e+03, 5.36053264e+03,\n",
       "       5.39896899e+03, 5.43758144e+03, 5.47637037e+03, 5.51533611e+03,\n",
       "       5.55447901e+03, 5.59379945e+03, 5.63329775e+03, 5.67297429e+03,\n",
       "       5.71282940e+03, 5.75286345e+03, 5.79307677e+03, 5.83346974e+03,\n",
       "       5.87404269e+03, 5.91479598e+03, 5.95572996e+03, 5.99684498e+03,\n",
       "       6.03814139e+03, 6.07961954e+03, 6.12127978e+03, 6.16312247e+03,\n",
       "       6.20514794e+03, 6.24735656e+03, 6.28974867e+03, 6.33232462e+03,\n",
       "       6.37508476e+03, 6.41802944e+03, 6.46115901e+03, 6.50447381e+03,\n",
       "       6.54797420e+03, 6.59166052e+03])"
      ]
     },
     "execution_count": 28,
     "metadata": {},
     "output_type": "execute_result"
    }
   ],
   "source": [
    "#membuat yreg\n",
    "yreg = a*(xreg**b)\n",
    "yreg\n",
    "    "
   ]
  },
  {
   "cell_type": "code",
   "execution_count": 29,
   "metadata": {},
   "outputs": [
    {
     "data": {
      "text/plain": [
       "Text(0, 0.5, 'y-banyak orang')"
      ]
     },
     "execution_count": 29,
     "metadata": {},
     "output_type": "execute_result"
    },
    {
     "data": {
      "image/png": "[encoded data removed]",
      "text/plain": [
       "<Figure size 432x288 with 1 Axes>"
      ]
     },
     "metadata": {
      "needs_background": "light"
     },
     "output_type": "display_data"
    }
   ],
   "source": [
    "ax = plt.plot(x,y,'ro')\n",
    "plt.plot(xreg,yreg,'g')\n",
    "plt.grid()\n",
    "plt.xlabel('x-hari ke')\n",
    "plt.ylabel('y-banyak orang')"
   ]
  },
  {
   "cell_type": "markdown",
   "metadata": {},
   "source": [
    "#### Regresi Eksponensial"
   ]
  },
  {
   "attachments": {
    "image.png": {
     "image/png": "[encoded data removed]"
    }
   },
   "cell_type": "markdown",
   "metadata": {},
   "source": [
    "![image.png](attachment:image.png)"
   ]
  },
  {
   "attachments": {
    "image.png": {
     "image/png": "[encoded data removed]"
    }
   },
   "cell_type": "markdown",
   "metadata": {},
   "source": [
    "![image.png](attachment:image.png)"
   ]
  },
  {
   "attachments": {
    "image.png": {
     "image/png": "[encoded data removed]"
    }
   },
   "cell_type": "markdown",
   "metadata": {},
   "source": [
    "![image.png](attachment:image.png)"
   ]
  },
  {
   "cell_type": "markdown",
   "metadata": {},
   "source": [
    "**Linearisasi**"
   ]
  },
  {
   "cell_type": "code",
   "execution_count": 30,
   "metadata": {},
   "outputs": [
    {
     "data": {
      "text/plain": [
       "array([1.2000e+01, 1.2000e+01, 1.2000e+01, 1.2000e+01, 1.2000e+01,\n",
       "       1.0000e+01, 2.9000e+01, 2.9000e+01, 2.8000e+01, 4.8000e+01,\n",
       "       5.1000e+01, 5.4000e+01, 5.4000e+01, 5.7000e+01, 6.0000e+01,\n",
       "       6.5000e+01, 8.5000e+01, 1.0600e+02, 1.3800e+02, 2.0000e+02,\n",
       "       2.8900e+02, 4.0100e+02, 5.0400e+02, 6.6300e+02, 9.4900e+02,\n",
       "       1.2480e+03, 1.5810e+03, 2.1260e+03, 2.6640e+03, 3.4840e+03,\n",
       "       4.4340e+03, 6.1270e+03, 8.9400e+03, 1.3464e+04, 1.8965e+04,\n",
       "       2.3720e+04, 3.3000e+04, 4.2930e+04, 5.3697e+04, 6.6790e+04,\n",
       "       8.2272e+04])"
      ]
     },
     "execution_count": 30,
     "metadata": {},
     "output_type": "execute_result"
    }
   ],
   "source": [
    "y = np.array ((12, 12, 12, 12, 12, 10, 29, 29, 28, 48, 51, 54, 54, 57, 60, 65, 85, 106, 138, 200, 289, 401, 504, 663, 949, 1248, 1581, 2126, 2664, 3484, 4434, 6127, 8940, 13464, 18965, 23720, 33000, 42930, 53697, 66790, 82272))\n",
    "y = y.astype('float64')\n",
    "y"
   ]
  },
  {
   "cell_type": "code",
   "execution_count": 31,
   "metadata": {},
   "outputs": [
    {
     "data": {
      "text/plain": [
       "array([ 1.,  2.,  3.,  4.,  5.,  6.,  7.,  8.,  9., 10., 11., 12., 13.,\n",
       "       14., 15., 16., 17., 18., 19., 20., 21., 22., 23., 24., 25., 26.,\n",
       "       27., 28., 29., 30., 31., 32., 33., 34., 35., 36., 37., 38., 39.,\n",
       "       40., 41.])"
      ]
     },
     "execution_count": 31,
     "metadata": {},
     "output_type": "execute_result"
    }
   ],
   "source": [
    "x = np.array((range(1,1+len(y))))\n",
    "x = x.astype('float64')\n",
    "x"
   ]
  },
  {
   "cell_type": "code",
   "execution_count": 32,
   "metadata": {},
   "outputs": [],
   "source": [
    "p = np.log(y)\n",
    "q = x"
   ]
  },
  {
   "cell_type": "markdown",
   "metadata": {},
   "source": [
    "**Hitung regresi linear**"
   ]
  },
  {
   "attachments": {
    "image.png": {
     "image/png": "[encoded data removed]"
    }
   },
   "cell_type": "markdown",
   "metadata": {},
   "source": [
    "![image.png](attachment:image.png)"
   ]
  },
  {
   "cell_type": "code",
   "execution_count": 33,
   "metadata": {},
   "outputs": [],
   "source": [
    "n = len(y)\n",
    "pq = p*q\n",
    "qq = q**2\n",
    "B = (n*pq.sum() - q.sum()*p.sum())/(n*qq.sum() - (q.sum())**2)\n",
    "A = p.mean()-B*q.mean()"
   ]
  },
  {
   "cell_type": "markdown",
   "metadata": {},
   "source": [
    "**Hasil persamaan linear**"
   ]
  },
  {
   "cell_type": "code",
   "execution_count": 34,
   "metadata": {},
   "outputs": [
    {
     "name": "stdout",
     "output_type": "stream",
     "text": [
      "p = 0.2367q + 1.1674\n"
     ]
    }
   ],
   "source": [
    "if A>0 :\n",
    "    print (\"p = {:.4f}q + {:.4f}\". format(B,A))\n",
    "else :\n",
    "    print (\"p = {:.4f}q {:.4f}\". format(B,A))"
   ]
  },
  {
   "cell_type": "markdown",
   "metadata": {},
   "source": [
    "**Hitung kembali dalam bentuk bilangan berpangkat**"
   ]
  },
  {
   "cell_type": "code",
   "execution_count": 35,
   "metadata": {},
   "outputs": [],
   "source": [
    "a = np.e**A\n",
    "b = B"
   ]
  },
  {
   "cell_type": "code",
   "execution_count": 36,
   "metadata": {},
   "outputs": [
    {
     "name": "stdout",
     "output_type": "stream",
     "text": [
      "y = 3.2136x^(0.2367)\n"
     ]
    }
   ],
   "source": [
    "print (\"y = {:.4f}x^({:.4f})\".format(a,b))"
   ]
  },
  {
   "cell_type": "markdown",
   "metadata": {},
   "source": [
    "**Koefisien Korelasi ( r ) dan Derajat Kesesuaian ( R ) r-square**"
   ]
  },
  {
   "cell_type": "code",
   "execution_count": 37,
   "metadata": {},
   "outputs": [
    {
     "name": "stdout",
     "output_type": "stream",
     "text": [
      "r = 0.9867 dan r^2 = 0.9736\n"
     ]
    }
   ],
   "source": [
    "yDt = ((p - p.mean())**2).sum()\n",
    "yD = ((p - (q*B) - A)**2).sum()\n",
    "r = np.sqrt((yDt-yD)/yDt)\n",
    "r2 = r**2\n",
    "print('r = {:.4f} dan r^2 = {:.4f}'.format(r,r2))"
   ]
  },
  {
   "cell_type": "markdown",
   "metadata": {},
   "source": [
    "**Plot data dan regresinya**"
   ]
  },
  {
   "cell_type": "code",
   "execution_count": 38,
   "metadata": {},
   "outputs": [
    {
     "data": {
      "text/plain": [
       "array([ 0. ,  0.1,  0.2,  0.3,  0.4,  0.5,  0.6,  0.7,  0.8,  0.9,  1. ,\n",
       "        1.1,  1.2,  1.3,  1.4,  1.5,  1.6,  1.7,  1.8,  1.9,  2. ,  2.1,\n",
       "        2.2,  2.3,  2.4,  2.5,  2.6,  2.7,  2.8,  2.9,  3. ,  3.1,  3.2,\n",
       "        3.3,  3.4,  3.5,  3.6,  3.7,  3.8,  3.9,  4. ,  4.1,  4.2,  4.3,\n",
       "        4.4,  4.5,  4.6,  4.7,  4.8,  4.9,  5. ,  5.1,  5.2,  5.3,  5.4,\n",
       "        5.5,  5.6,  5.7,  5.8,  5.9,  6. ,  6.1,  6.2,  6.3,  6.4,  6.5,\n",
       "        6.6,  6.7,  6.8,  6.9,  7. ,  7.1,  7.2,  7.3,  7.4,  7.5,  7.6,\n",
       "        7.7,  7.8,  7.9,  8. ,  8.1,  8.2,  8.3,  8.4,  8.5,  8.6,  8.7,\n",
       "        8.8,  8.9,  9. ,  9.1,  9.2,  9.3,  9.4,  9.5,  9.6,  9.7,  9.8,\n",
       "        9.9, 10. , 10.1, 10.2, 10.3, 10.4, 10.5, 10.6, 10.7, 10.8, 10.9,\n",
       "       11. , 11.1, 11.2, 11.3, 11.4, 11.5, 11.6, 11.7, 11.8, 11.9, 12. ,\n",
       "       12.1, 12.2, 12.3, 12.4, 12.5, 12.6, 12.7, 12.8, 12.9, 13. , 13.1,\n",
       "       13.2, 13.3, 13.4, 13.5, 13.6, 13.7, 13.8, 13.9, 14. , 14.1, 14.2,\n",
       "       14.3, 14.4, 14.5, 14.6, 14.7, 14.8, 14.9, 15. , 15.1, 15.2, 15.3,\n",
       "       15.4, 15.5, 15.6, 15.7, 15.8, 15.9, 16. , 16.1, 16.2, 16.3, 16.4,\n",
       "       16.5, 16.6, 16.7, 16.8, 16.9, 17. , 17.1, 17.2, 17.3, 17.4, 17.5,\n",
       "       17.6, 17.7, 17.8, 17.9, 18. , 18.1, 18.2, 18.3, 18.4, 18.5, 18.6,\n",
       "       18.7, 18.8, 18.9, 19. , 19.1, 19.2, 19.3, 19.4, 19.5, 19.6, 19.7,\n",
       "       19.8, 19.9, 20. , 20.1, 20.2, 20.3, 20.4, 20.5, 20.6, 20.7, 20.8,\n",
       "       20.9, 21. , 21.1, 21.2, 21.3, 21.4, 21.5, 21.6, 21.7, 21.8, 21.9,\n",
       "       22. , 22.1, 22.2, 22.3, 22.4, 22.5, 22.6, 22.7, 22.8, 22.9, 23. ,\n",
       "       23.1, 23.2, 23.3, 23.4, 23.5, 23.6, 23.7, 23.8, 23.9, 24. , 24.1,\n",
       "       24.2, 24.3, 24.4, 24.5, 24.6, 24.7, 24.8, 24.9, 25. , 25.1, 25.2,\n",
       "       25.3, 25.4, 25.5, 25.6, 25.7, 25.8, 25.9, 26. , 26.1, 26.2, 26.3,\n",
       "       26.4, 26.5, 26.6, 26.7, 26.8, 26.9, 27. , 27.1, 27.2, 27.3, 27.4,\n",
       "       27.5, 27.6, 27.7, 27.8, 27.9, 28. , 28.1, 28.2, 28.3, 28.4, 28.5,\n",
       "       28.6, 28.7, 28.8, 28.9, 29. , 29.1, 29.2, 29.3, 29.4, 29.5, 29.6,\n",
       "       29.7, 29.8, 29.9, 30. , 30.1, 30.2, 30.3, 30.4, 30.5, 30.6, 30.7,\n",
       "       30.8, 30.9, 31. , 31.1, 31.2, 31.3, 31.4, 31.5, 31.6, 31.7, 31.8,\n",
       "       31.9, 32. , 32.1, 32.2, 32.3, 32.4, 32.5, 32.6, 32.7, 32.8, 32.9,\n",
       "       33. , 33.1, 33.2, 33.3, 33.4, 33.5, 33.6, 33.7, 33.8, 33.9, 34. ,\n",
       "       34.1, 34.2, 34.3, 34.4, 34.5, 34.6, 34.7, 34.8, 34.9, 35. , 35.1,\n",
       "       35.2, 35.3, 35.4, 35.5, 35.6, 35.7, 35.8, 35.9, 36. , 36.1, 36.2,\n",
       "       36.3, 36.4, 36.5, 36.6, 36.7, 36.8, 36.9, 37. , 37.1, 37.2, 37.3,\n",
       "       37.4, 37.5, 37.6, 37.7, 37.8, 37.9, 38. , 38.1, 38.2, 38.3, 38.4,\n",
       "       38.5, 38.6, 38.7, 38.8, 38.9, 39. , 39.1, 39.2, 39.3, 39.4, 39.5,\n",
       "       39.6, 39.7, 39.8, 39.9, 40. , 40.1, 40.2, 40.3, 40.4, 40.5, 40.6,\n",
       "       40.7, 40.8, 40.9, 41. , 41.1, 41.2, 41.3, 41.4, 41.5, 41.6, 41.7,\n",
       "       41.8, 41.9])"
      ]
     },
     "execution_count": 38,
     "metadata": {},
     "output_type": "execute_result"
    }
   ],
   "source": [
    "#membuat xreg\n",
    "xreg = np.array(range(0,int((x[-1]+1)*10)))\n",
    "xreg = xreg/10 #memperhalus bentuk garis\n",
    "xreg = xreg.astype('float64')\n",
    "xreg"
   ]
  },
  {
   "cell_type": "code",
   "execution_count": 39,
   "metadata": {},
   "outputs": [
    {
     "data": {
      "text/plain": [
       "array([3.21362540e+00, 3.29061071e+00, 3.36944028e+00, 3.45015828e+00,\n",
       "       3.53280995e+00, 3.61744162e+00, 3.70410071e+00, 3.79283581e+00,\n",
       "       3.88369663e+00, 3.97673411e+00, 4.07200038e+00, 4.16954884e+00,\n",
       "       4.26943417e+00, 4.37171234e+00, 4.47644068e+00, 4.58367787e+00,\n",
       "       4.69348404e+00, 4.80592070e+00, 4.92105090e+00, 5.03893913e+00,\n",
       "       5.15965149e+00, 5.28325563e+00, 5.40982081e+00, 5.53941798e+00,\n",
       "       5.67211976e+00, 5.80800053e+00, 5.94713646e+00, 6.08960551e+00,\n",
       "       6.23548753e+00, 6.38486429e+00, 6.53781951e+00, 6.69443891e+00,\n",
       "       6.85481027e+00, 7.01902347e+00, 7.18717054e+00, 7.35934573e+00,\n",
       "       7.53564554e+00, 7.71616877e+00, 7.90101659e+00, 8.09029261e+00,\n",
       "       8.28410291e+00, 8.48255611e+00, 8.68576344e+00, 8.89383879e+00,\n",
       "       9.10689876e+00, 9.32506279e+00, 9.54845313e+00, 9.77719498e+00,\n",
       "       1.00114166e+01, 1.02512491e+01, 1.04968271e+01, 1.07482881e+01,\n",
       "       1.10057731e+01, 1.12694264e+01, 1.15393957e+01, 1.18158324e+01,\n",
       "       1.20988914e+01, 1.23887313e+01, 1.26855146e+01, 1.29894076e+01,\n",
       "       1.33005807e+01, 1.36192082e+01, 1.39454687e+01, 1.42795450e+01,\n",
       "       1.46216245e+01, 1.49718988e+01, 1.53305642e+01, 1.56978217e+01,\n",
       "       1.60738773e+01, 1.64589416e+01, 1.68532305e+01, 1.72569649e+01,\n",
       "       1.76703712e+01, 1.80936810e+01, 1.85271315e+01, 1.89709658e+01,\n",
       "       1.94254325e+01, 1.98907863e+01, 2.03672881e+01, 2.08552050e+01,\n",
       "       2.13548104e+01, 2.18663842e+01, 2.23902133e+01, 2.29265912e+01,\n",
       "       2.34758185e+01, 2.40382030e+01, 2.46140600e+01, 2.52037121e+01,\n",
       "       2.58074899e+01, 2.64257317e+01, 2.70587841e+01, 2.77070019e+01,\n",
       "       2.83707482e+01, 2.90503952e+01, 2.97463238e+01, 3.04589240e+01,\n",
       "       3.11885952e+01, 3.19357462e+01, 3.27007960e+01, 3.34841733e+01,\n",
       "       3.42863170e+01, 3.51076768e+01, 3.59487131e+01, 3.68098971e+01,\n",
       "       3.76917116e+01, 3.85946508e+01, 3.95192207e+01, 4.04659394e+01,\n",
       "       4.14353377e+01, 4.24279589e+01, 4.34443591e+01, 4.44851081e+01,\n",
       "       4.55507893e+01, 4.66419998e+01, 4.77593512e+01, 4.89034698e+01,\n",
       "       5.00749968e+01, 5.12745888e+01, 5.25029181e+01, 5.37606731e+01,\n",
       "       5.50485588e+01, 5.63672970e+01, 5.77176267e+01, 5.91003048e+01,\n",
       "       6.05161063e+01, 6.19658245e+01, 6.34502720e+01, 6.49702809e+01,\n",
       "       6.65267029e+01, 6.81204104e+01, 6.97522967e+01, 7.14232762e+01,\n",
       "       7.31342856e+01, 7.48862838e+01, 7.66802527e+01, 7.85171977e+01,\n",
       "       8.03981484e+01, 8.23241590e+01, 8.42963089e+01, 8.63157035e+01,\n",
       "       8.83834745e+01, 9.05007808e+01, 9.26688091e+01, 9.48887745e+01,\n",
       "       9.71619212e+01, 9.94895232e+01, 1.01872885e+02, 1.04313342e+02,\n",
       "       1.06812263e+02, 1.09371048e+02, 1.11991131e+02, 1.14673980e+02,\n",
       "       1.17421099e+02, 1.20234028e+02, 1.23114343e+02, 1.26063659e+02,\n",
       "       1.29083628e+02, 1.32175944e+02, 1.35342338e+02, 1.38584587e+02,\n",
       "       1.41904506e+02, 1.45303958e+02, 1.48784846e+02, 1.52349122e+02,\n",
       "       1.55998783e+02, 1.59735876e+02, 1.63562493e+02, 1.67480781e+02,\n",
       "       1.71492935e+02, 1.75601204e+02, 1.79807890e+02, 1.84115352e+02,\n",
       "       1.88526002e+02, 1.93042313e+02, 1.97666817e+02, 2.02402105e+02,\n",
       "       2.07250831e+02, 2.12215713e+02, 2.17299533e+02, 2.22505140e+02,\n",
       "       2.27835453e+02, 2.33293458e+02, 2.38882214e+02, 2.44604854e+02,\n",
       "       2.50464586e+02, 2.56464692e+02, 2.62608537e+02, 2.68899562e+02,\n",
       "       2.75341295e+02, 2.81937346e+02, 2.88691411e+02, 2.95607275e+02,\n",
       "       3.02688816e+02, 3.09940001e+02, 3.17364895e+02, 3.24967659e+02,\n",
       "       3.32752554e+02, 3.40723944e+02, 3.48886295e+02, 3.57244183e+02,\n",
       "       3.65802291e+02, 3.74565417e+02, 3.83538471e+02, 3.92726483e+02,\n",
       "       4.02134603e+02, 4.11768102e+02, 4.21632381e+02, 4.31732967e+02,\n",
       "       4.42075522e+02, 4.52665842e+02, 4.63509863e+02, 4.74613662e+02,\n",
       "       4.85983463e+02, 4.97625638e+02, 5.09546712e+02, 5.21753365e+02,\n",
       "       5.34252441e+02, 5.47050943e+02, 5.60156044e+02, 5.73575091e+02,\n",
       "       5.87315602e+02, 6.01385281e+02, 6.15792011e+02, 6.30543867e+02,\n",
       "       6.45649117e+02, 6.61116228e+02, 6.76953867e+02, 6.93170911e+02,\n",
       "       7.09776449e+02, 7.26779788e+02, 7.44190457e+02, 7.62018215e+02,\n",
       "       7.80273053e+02, 7.98965202e+02, 8.18105138e+02, 8.37703589e+02,\n",
       "       8.57771539e+02, 8.78320234e+02, 8.99361192e+02, 9.20906206e+02,\n",
       "       9.42967349e+02, 9.65556988e+02, 9.88687781e+02, 1.01237269e+03,\n",
       "       1.03662500e+03, 1.06145829e+03, 1.08688649e+03, 1.11292384e+03,\n",
       "       1.13958494e+03, 1.16688473e+03, 1.19483852e+03, 1.22346196e+03,\n",
       "       1.25277110e+03, 1.28278237e+03, 1.31351258e+03, 1.34497897e+03,\n",
       "       1.37719916e+03, 1.41019121e+03, 1.44397362e+03, 1.47856532e+03,\n",
       "       1.51398570e+03, 1.55025460e+03, 1.58739235e+03, 1.62541978e+03,\n",
       "       1.66435818e+03, 1.70422939e+03, 1.74505576e+03, 1.78686015e+03,\n",
       "       1.82966601e+03, 1.87349731e+03, 1.91837864e+03, 1.96433514e+03,\n",
       "       2.01139257e+03, 2.05957731e+03, 2.10891635e+03, 2.15943736e+03,\n",
       "       2.21116864e+03, 2.26413919e+03, 2.31837870e+03, 2.37391756e+03,\n",
       "       2.43078691e+03, 2.48901862e+03, 2.54864532e+03, 2.60970043e+03,\n",
       "       2.67221817e+03, 2.73623358e+03, 2.80178254e+03, 2.86890178e+03,\n",
       "       2.93762893e+03, 3.00800249e+03, 3.08006192e+03, 3.15384760e+03,\n",
       "       3.22940088e+03, 3.30676411e+03, 3.38598064e+03, 3.46709488e+03,\n",
       "       3.55015229e+03, 3.63519941e+03, 3.72228391e+03, 3.81145459e+03,\n",
       "       3.90276145e+03, 3.99625564e+03, 4.09198957e+03, 4.19001689e+03,\n",
       "       4.29039255e+03, 4.39317280e+03, 4.49841524e+03, 4.60617885e+03,\n",
       "       4.71652405e+03, 4.82951266e+03, 4.94520802e+03, 5.06367496e+03,\n",
       "       5.18497989e+03, 5.30919079e+03, 5.43637727e+03, 5.56661062e+03,\n",
       "       5.69996383e+03, 5.83651164e+03, 5.97633057e+03, 6.11949899e+03,\n",
       "       6.26609714e+03, 6.41620718e+03, 6.56991325e+03, 6.72730148e+03,\n",
       "       6.88846009e+03, 7.05347940e+03, 7.22245190e+03, 7.39547229e+03,\n",
       "       7.57263754e+03, 7.75404694e+03, 7.93980217e+03, 8.13000734e+03,\n",
       "       8.32476904e+03, 8.52419644e+03, 8.72840130e+03, 8.93749807e+03,\n",
       "       9.15160395e+03, 9.37083892e+03, 9.59532587e+03, 9.82519061e+03,\n",
       "       1.00605620e+04, 1.03015719e+04, 1.05483554e+04, 1.08010508e+04,\n",
       "       1.10597998e+04, 1.13247473e+04, 1.15960419e+04, 1.18738356e+04,\n",
       "       1.21582841e+04, 1.24495468e+04, 1.27477870e+04, 1.30531718e+04,\n",
       "       1.33658724e+04, 1.36860640e+04, 1.40139261e+04, 1.43496424e+04,\n",
       "       1.46934011e+04, 1.50453948e+04, 1.54058209e+04, 1.57748814e+04,\n",
       "       1.61527829e+04, 1.65397375e+04, 1.69359619e+04, 1.73416783e+04,\n",
       "       1.77571139e+04, 1.81825017e+04, 1.86180800e+04, 1.90640930e+04,\n",
       "       1.95207907e+04, 1.99884289e+04, 2.04672699e+04, 2.09575819e+04,\n",
       "       2.14596398e+04, 2.19737249e+04, 2.25001254e+04, 2.30391364e+04,\n",
       "       2.35910598e+04, 2.41562050e+04, 2.47348888e+04, 2.53274355e+04,\n",
       "       2.59341772e+04, 2.65554540e+04, 2.71916140e+04, 2.78430137e+04,\n",
       "       2.85100184e+04, 2.91930018e+04, 2.98923466e+04, 3.06084449e+04,\n",
       "       3.13416980e+04, 3.20925168e+04, 3.28613221e+04, 3.36485449e+04,\n",
       "       3.44546264e+04, 3.52800182e+04, 3.61251830e+04, 3.69905946e+04,\n",
       "       3.78767378e+04, 3.87841094e+04, 3.97132180e+04, 4.06645842e+04,\n",
       "       4.16387412e+04, 4.26362350e+04, 4.36576247e+04, 4.47034827e+04,\n",
       "       4.57743952e+04, 4.68709624e+04, 4.79937988e+04, 4.91435338e+04,\n",
       "       5.03208117e+04, 5.15262924e+04, 5.27606515e+04, 5.40245808e+04,\n",
       "       5.53187886e+04, 5.66440004e+04, 5.80009588e+04, 5.93904244e+04,\n",
       "       6.08131759e+04, 6.22700108e+04, 6.37617454e+04, 6.52892158e+04])"
      ]
     },
     "execution_count": 39,
     "metadata": {},
     "output_type": "execute_result"
    }
   ],
   "source": [
    "#membuat yreg\n",
    "yreg = a*np.e**(b*xreg)\n",
    "yreg"
   ]
  },
  {
   "cell_type": "code",
   "execution_count": 40,
   "metadata": {},
   "outputs": [
    {
     "data": {
      "text/plain": [
       "Text(0, 0.5, 'y-banyak orang')"
      ]
     },
     "execution_count": 40,
     "metadata": {},
     "output_type": "execute_result"
    },
    {
     "data": {
      "image/png": "[encoded data removed]",
      "text/plain": [
       "<Figure size 432x288 with 1 Axes>"
      ]
     },
     "metadata": {
      "needs_background": "light"
     },
     "output_type": "display_data"
    }
   ],
   "source": [
    "ax = plt.plot(x,y,'ro')\n",
    "plt.plot(xreg,yreg,'b')\n",
    "plt.grid()\n",
    "plt.xlabel('x-hari ke')\n",
    "plt.ylabel('y-banyak orang')"
   ]
  },
  {
   "cell_type": "markdown",
   "metadata": {},
   "source": [
    "**Selesai**"
   ]
  },
  {
   "cell_type": "markdown",
   "metadata": {},
   "source": [
    "#### Regresi Polinomial"
   ]
  },
  {
   "cell_type": "code",
   "execution_count": 41,
   "metadata": {},
   "outputs": [
    {
     "data": {
      "text/plain": [
       "array([1.2000e+01, 1.2000e+01, 1.2000e+01, 1.2000e+01, 1.2000e+01,\n",
       "       1.0000e+01, 2.9000e+01, 2.9000e+01, 2.8000e+01, 4.8000e+01,\n",
       "       5.1000e+01, 5.4000e+01, 5.4000e+01, 5.7000e+01, 6.0000e+01,\n",
       "       6.5000e+01, 8.5000e+01, 1.0600e+02, 1.3800e+02, 2.0000e+02,\n",
       "       2.8900e+02, 4.0100e+02, 5.0400e+02, 6.6300e+02, 9.4900e+02,\n",
       "       1.2480e+03, 1.5810e+03, 2.1260e+03, 2.6640e+03, 3.4840e+03,\n",
       "       4.4340e+03, 6.1270e+03, 8.9400e+03, 1.3464e+04, 1.8965e+04,\n",
       "       2.3720e+04, 3.3000e+04, 4.2930e+04, 5.3697e+04, 6.6790e+04,\n",
       "       8.2272e+04])"
      ]
     },
     "execution_count": 41,
     "metadata": {},
     "output_type": "execute_result"
    }
   ],
   "source": [
    "y = np.array ((12, 12, 12, 12, 12, 10, 29, 29, 28, 48, 51, 54, 54, 57, 60, 65, 85, 106, 138, 200, 289, 401, 504, 663, 949, 1248, 1581, 2126, 2664, 3484, 4434, 6127, 8940, 13464, 18965, 23720, 33000, 42930, 53697, 66790, 82272))\n",
    "y = y.astype('float64')\n",
    "y"
   ]
  },
  {
   "cell_type": "code",
   "execution_count": 42,
   "metadata": {},
   "outputs": [
    {
     "data": {
      "text/plain": [
       "array([ 1.,  2.,  3.,  4.,  5.,  6.,  7.,  8.,  9., 10., 11., 12., 13.,\n",
       "       14., 15., 16., 17., 18., 19., 20., 21., 22., 23., 24., 25., 26.,\n",
       "       27., 28., 29., 30., 31., 32., 33., 34., 35., 36., 37., 38., 39.,\n",
       "       40., 41.])"
      ]
     },
     "execution_count": 42,
     "metadata": {},
     "output_type": "execute_result"
    }
   ],
   "source": [
    "x = np.array((range(1,1+len(y))))\n",
    "x = x.astype('float64')\n",
    "x"
   ]
  },
  {
   "cell_type": "markdown",
   "metadata": {},
   "source": [
    "**Membentuk regresi polinomial dari matriks**"
   ]
  },
  {
   "attachments": {
    "image.png": {
     "image/png": "[encoded data removed]"
    }
   },
   "cell_type": "markdown",
   "metadata": {},
   "source": [
    "![image.png](attachment:image.png)"
   ]
  },
  {
   "cell_type": "markdown",
   "metadata": {},
   "source": [
    "**Mendefinisikan elemen-elemen matriks kiri**"
   ]
  },
  {
   "cell_type": "code",
   "execution_count": 43,
   "metadata": {},
   "outputs": [
    {
     "data": {
      "text/plain": [
       "array([[4.10000000e+01, 8.61000000e+02, 2.38210000e+04, 7.41321000e+05],\n",
       "       [8.61000000e+02, 2.38210000e+04, 7.41321000e+05, 2.46070930e+07],\n",
       "       [2.38210000e+04, 7.41321000e+05, 2.46070930e+07, 8.50789401e+08],\n",
       "       [7.41321000e+05, 2.46070930e+07, 8.50789401e+08, 3.02550079e+10]])"
      ]
     },
     "execution_count": 43,
     "metadata": {},
     "output_type": "execute_result"
    }
   ],
   "source": [
    "n = len(y)\n",
    "a = x.sum()\n",
    "b = (x**2).sum()\n",
    "c = (x**3).sum()\n",
    "d = (x**4).sum()\n",
    "e = (x**5).sum()\n",
    "f = (x**6).sum()\n",
    "A = np.array(([n, a, b, c],\n",
    "    [a, b, c, d],\n",
    "    [b, c, d, e],\n",
    "    [c, d, e, f]))\n",
    "A"
   ]
  },
  {
   "cell_type": "markdown",
   "metadata": {},
   "source": [
    "**Mendefinisikan elemen-elemen matriks kanan**"
   ]
  },
  {
   "cell_type": "code",
   "execution_count": 44,
   "metadata": {},
   "outputs": [
    {
     "data": {
      "text/plain": [
       "array([[3.69322000e+05],\n",
       "       [1.39938740e+07],\n",
       "       [5.34679344e+08],\n",
       "       [2.05608394e+10]])"
      ]
     },
     "execution_count": 44,
     "metadata": {},
     "output_type": "execute_result"
    }
   ],
   "source": [
    "g = y.sum()\n",
    "h = (x*y).sum()\n",
    "i = ((x**2)*y).sum()\n",
    "j = ((x**3)*y).sum()\n",
    "B = np.array(([g],\n",
    "    [h],\n",
    "    [i],\n",
    "    [j]))\n",
    "B"
   ]
  },
  {
   "cell_type": "markdown",
   "metadata": {},
   "source": [
    "**Invers matriks sisi kiri**"
   ]
  },
  {
   "cell_type": "code",
   "execution_count": 45,
   "metadata": {},
   "outputs": [
    {
     "data": {
      "text/plain": [
       "array([[ 4.71264935e-01, -8.50613871e-02,  4.09795596e-03,\n",
       "        -5.76017906e-05],\n",
       "       [-8.50613871e-02,  1.95585587e-02, -1.04382586e-03,\n",
       "         1.55298092e-05],\n",
       "       [ 4.09795596e-03, -1.04382586e-03,  5.90991836e-05,\n",
       "        -9.13347631e-07],\n",
       "       [-5.76017906e-05,  1.55298092e-05, -9.13347631e-07,\n",
       "         1.44975814e-08]])"
      ]
     },
     "execution_count": 45,
     "metadata": {},
     "output_type": "execute_result"
    }
   ],
   "source": [
    "Ainv = np.linalg.inv(A)\n",
    "Ainv"
   ]
  },
  {
   "cell_type": "markdown",
   "metadata": {},
   "source": [
    "**Mencari nilai a0, a1, a2, dst dengan a = (A^-1)B namun di sini variabel a diganti dengan Y**"
   ]
  },
  {
   "cell_type": "code",
   "execution_count": 46,
   "metadata": {},
   "outputs": [
    {
     "name": "stdout",
     "output_type": "stream",
     "text": [
      "[[-9.53858349e+03]\n",
      " [ 3.47874971e+03]\n",
      " [-2.73783506e+02]\n",
      " [ 5.78291632e+00]]\n"
     ]
    }
   ],
   "source": [
    "Y = Ainv.dot(B)\n",
    "print(Y)"
   ]
  },
  {
   "cell_type": "code",
   "execution_count": 47,
   "metadata": {},
   "outputs": [],
   "source": [
    "a0 = Y[0,0]\n",
    "a1 = Y[1,0]\n",
    "a2 = Y[2,0]\n",
    "a3 = Y[3,0]"
   ]
  },
  {
   "cell_type": "markdown",
   "metadata": {},
   "source": [
    "**Hasil persamaan regresi polinomial**"
   ]
  },
  {
   "cell_type": "code",
   "execution_count": 48,
   "metadata": {},
   "outputs": [
    {
     "name": "stdout",
     "output_type": "stream",
     "text": [
      "y = 5.7829x^3 + -273.7835X^2 + 3478.7497x + -9538.5835\n"
     ]
    }
   ],
   "source": [
    "print('y = {:.4f}x^3 + {:.4f}X^2 + {:.4f}x + {:.4f}'.format(a3, a2, a1, a0))"
   ]
  },
  {
   "cell_type": "code",
   "execution_count": 49,
   "metadata": {},
   "outputs": [
    {
     "data": {
      "text/plain": [
       "array([1.2000e+01, 1.2000e+01, 1.2000e+01, 1.2000e+01, 1.2000e+01,\n",
       "       1.0000e+01, 2.9000e+01, 2.9000e+01, 2.8000e+01, 4.8000e+01,\n",
       "       5.1000e+01, 5.4000e+01, 5.4000e+01, 5.7000e+01, 6.0000e+01,\n",
       "       6.5000e+01, 8.5000e+01, 1.0600e+02, 1.3800e+02, 2.0000e+02,\n",
       "       2.8900e+02, 4.0100e+02, 5.0400e+02, 6.6300e+02, 9.4900e+02,\n",
       "       1.2480e+03, 1.5810e+03, 2.1260e+03, 2.6640e+03, 3.4840e+03,\n",
       "       4.4340e+03, 6.1270e+03, 8.9400e+03, 1.3464e+04, 1.8965e+04,\n",
       "       2.3720e+04, 3.3000e+04, 4.2930e+04, 5.3697e+04, 6.6790e+04,\n",
       "       8.2272e+04])"
      ]
     },
     "execution_count": 49,
     "metadata": {},
     "output_type": "execute_result"
    }
   ],
   "source": [
    "y"
   ]
  },
  {
   "cell_type": "markdown",
   "metadata": {},
   "source": [
    "**Koefisien Korelasi ( r ) dan Derajat Kesesuaian ( R ) r-square**"
   ]
  },
  {
   "cell_type": "code",
   "execution_count": 50,
   "metadata": {},
   "outputs": [
    {
     "name": "stdout",
     "output_type": "stream",
     "text": [
      "r = 0.9784 dan r^2 = 0.9736\n"
     ]
    }
   ],
   "source": [
    "yDt = (y-y.mean())**2\n",
    "yD = (y-a0-a1*x-a2*(x**2)-a3*(x**3))**2\n",
    "r = np.sqrt((yDt.sum()-yD.sum())/yDt.sum())\n",
    "R2 = r**2\n",
    "print('r = {:.4f} dan r^2 = {:.4f}'.format(r,r2))"
   ]
  },
  {
   "cell_type": "markdown",
   "metadata": {},
   "source": [
    "**Plot**"
   ]
  },
  {
   "cell_type": "code",
   "execution_count": 51,
   "metadata": {},
   "outputs": [
    {
     "data": {
      "text/plain": [
       "Text(0, 0.5, 'y')"
      ]
     },
     "execution_count": 51,
     "metadata": {},
     "output_type": "execute_result"
    },
    {
     "data": {
      "image/png": "[encoded data removed]",
      "text/plain": [
       "<Figure size 432x288 with 1 Axes>"
      ]
     },
     "metadata": {
      "needs_background": "light"
     },
     "output_type": "display_data"
    }
   ],
   "source": [
    "xreg = np.array(range(0,int((x[-1]+0.5)*10)))\n",
    "xreg = xreg/10\n",
    "yreg = a0 + a1*xreg + a2*(xreg**2) + a3*(xreg**3)\n",
    "ax = plt.plot(x,y,'ro')\n",
    "plt.plot(xreg,yreg,'b')\n",
    "plt.grid()\n",
    "plt.xlabel('x')\n",
    "plt.ylabel('y')"
   ]
  },
  {
   "cell_type": "markdown",
   "metadata": {},
   "source": [
    "**Perbandingan jika memakai polyfit dengan derajat dinaikkan**"
   ]
  },
  {
   "cell_type": "code",
   "execution_count": 52,
   "metadata": {},
   "outputs": [
    {
     "data": {
      "image/png": "[encoded data removed]",
      "text/plain": [
       "<Figure size 432x288 with 1 Axes>"
      ]
     },
     "metadata": {
      "needs_background": "light"
     },
     "output_type": "display_data"
    }
   ],
   "source": [
    "regpoly = np.poly1d(np.polyfit(x, y, 5))\n",
    "\n",
    "myline = np.linspace(1, len(y), 100)\n",
    "\n",
    "plt.scatter(x, y)\n",
    "plt.plot(myline, regpoly(myline), linewidth=3, color='r')\n",
    "plt.show()"
   ]
  },
  {
   "cell_type": "code",
   "execution_count": 53,
   "metadata": {},
   "outputs": [
    {
     "name": "stdout",
     "output_type": "stream",
     "text": [
      "          5          4        3         2\n",
      "0.008841 x - 0.6478 x + 17.1 x - 192.2 x + 848 x - 982.4\n"
     ]
    }
   ],
   "source": [
    "print (regpoly)"
   ]
  },
  {
   "cell_type": "code",
   "execution_count": 54,
   "metadata": {},
   "outputs": [
    {
     "name": "stdout",
     "output_type": "stream",
     "text": [
      "0.9994212939064825\n"
     ]
    }
   ],
   "source": [
    "print(r2_score(y, regpoly(x)))"
   ]
  },
  {
   "cell_type": "markdown",
   "metadata": {},
   "source": [
    "**Selesai**"
   ]
  },
  {
   "cell_type": "markdown",
   "metadata": {},
   "source": [
    "### Total Death"
   ]
  },
  {
   "cell_type": "markdown",
   "metadata": {},
   "source": [
    "- Start: 29-Feb-2020\n",
    "- End: 26-Mar-2020\n",
    "- Range: 27 Days"
   ]
  },
  {
   "cell_type": "markdown",
   "metadata": {},
   "source": [
    "**Data**"
   ]
  },
  {
   "cell_type": "code",
   "execution_count": 55,
   "metadata": {},
   "outputs": [
    {
     "data": {
      "text/plain": [
       "array([1.000e+00, 1.000e+00, 6.000e+00, 9.000e+00, 1.100e+01, 1.200e+01,\n",
       "       1.500e+01, 1.900e+01, 2.200e+01, 2.600e+01, 3.000e+01, 3.800e+01,\n",
       "       4.100e+01, 4.800e+01, 5.700e+01, 6.900e+01, 8.700e+01, 1.100e+02,\n",
       "       1.500e+02, 2.060e+02, 2.550e+02, 3.010e+02, 4.140e+02, 5.550e+02,\n",
       "       7.800e+02, 1.027e+03, 1.295e+03])"
      ]
     },
     "execution_count": 55,
     "metadata": {},
     "output_type": "execute_result"
    }
   ],
   "source": [
    "y = np.array ((1, 1, 6, 9, 11, 12, 15, 19, 22, 26, 30, 38, 41, 48, 57, 69, 87, 110, 150, 206, 255, 301, 414, 555, 780, 1027, 1295))\n",
    "y = y.astype('float64')\n",
    "y"
   ]
  },
  {
   "cell_type": "code",
   "execution_count": 56,
   "metadata": {},
   "outputs": [
    {
     "data": {
      "text/plain": [
       "array([ 1.,  2.,  3.,  4.,  5.,  6.,  7.,  8.,  9., 10., 11., 12., 13.,\n",
       "       14., 15., 16., 17., 18., 19., 20., 21., 22., 23., 24., 25., 26.,\n",
       "       27.])"
      ]
     },
     "execution_count": 56,
     "metadata": {},
     "output_type": "execute_result"
    }
   ],
   "source": [
    "x = np.array((range(1,1+len(y))))\n",
    "x = x.astype('float64')\n",
    "x"
   ]
  },
  {
   "cell_type": "markdown",
   "metadata": {},
   "source": [
    "**Plot**"
   ]
  },
  {
   "cell_type": "code",
   "execution_count": 57,
   "metadata": {},
   "outputs": [
    {
     "data": {
      "text/plain": [
       "Text(0, 0.5, 'y-jumlah orang')"
      ]
     },
     "execution_count": 57,
     "metadata": {},
     "output_type": "execute_result"
    },
    {
     "data": {
      "image/png": "[encoded data removed]",
      "text/plain": [
       "<Figure size 432x288 with 1 Axes>"
      ]
     },
     "metadata": {
      "needs_background": "light"
     },
     "output_type": "display_data"
    }
   ],
   "source": [
    "ax = plt.plot(x,y,'ro')\n",
    "plt.grid()\n",
    "plt.xlabel('x-hari')\n",
    "plt.ylabel('y-jumlah orang')"
   ]
  },
  {
   "cell_type": "markdown",
   "metadata": {},
   "source": [
    "#### Regresi Berpangkat"
   ]
  },
  {
   "cell_type": "markdown",
   "metadata": {},
   "source": [
    "**Data**"
   ]
  },
  {
   "cell_type": "code",
   "execution_count": 58,
   "metadata": {},
   "outputs": [
    {
     "data": {
      "text/plain": [
       "array([1.000e+00, 1.000e+00, 6.000e+00, 9.000e+00, 1.100e+01, 1.200e+01,\n",
       "       1.500e+01, 1.900e+01, 2.200e+01, 2.600e+01, 3.000e+01, 3.800e+01,\n",
       "       4.100e+01, 4.800e+01, 5.700e+01, 6.900e+01, 8.700e+01, 1.100e+02,\n",
       "       1.500e+02, 2.060e+02, 2.550e+02, 3.010e+02, 4.140e+02, 5.550e+02,\n",
       "       7.800e+02, 1.027e+03, 1.295e+03])"
      ]
     },
     "execution_count": 58,
     "metadata": {},
     "output_type": "execute_result"
    }
   ],
   "source": [
    "y = np.array ((1, 1, 6, 9, 11, 12, 15, 19, 22, 26, 30, 38, 41, 48, 57, 69, 87, 110, 150, 206, 255, 301, 414, 555, 780, 1027, 1295))\n",
    "y = y.astype('float64')\n",
    "y"
   ]
  },
  {
   "cell_type": "code",
   "execution_count": 59,
   "metadata": {},
   "outputs": [
    {
     "data": {
      "text/plain": [
       "array([ 1.,  2.,  3.,  4.,  5.,  6.,  7.,  8.,  9., 10., 11., 12., 13.,\n",
       "       14., 15., 16., 17., 18., 19., 20., 21., 22., 23., 24., 25., 26.,\n",
       "       27.])"
      ]
     },
     "execution_count": 59,
     "metadata": {},
     "output_type": "execute_result"
    }
   ],
   "source": [
    "x = np.array((range(1,1+len(y))))\n",
    "x = x.astype('float64')\n",
    "x"
   ]
  },
  {
   "attachments": {
    "image.png": {
     "image/png": "[encoded data removed]"
    }
   },
   "cell_type": "markdown",
   "metadata": {},
   "source": [
    "![image.png](attachment:image.png)"
   ]
  },
  {
   "cell_type": "markdown",
   "metadata": {},
   "source": [
    "**Membuat xreg untuk plotting selanjutnya**"
   ]
  },
  {
   "cell_type": "code",
   "execution_count": 60,
   "metadata": {},
   "outputs": [
    {
     "data": {
      "text/plain": [
       "array([ 1. ,  1.1,  1.2,  1.3,  1.4,  1.5,  1.6,  1.7,  1.8,  1.9,  2. ,\n",
       "        2.1,  2.2,  2.3,  2.4,  2.5,  2.6,  2.7,  2.8,  2.9,  3. ,  3.1,\n",
       "        3.2,  3.3,  3.4,  3.5,  3.6,  3.7,  3.8,  3.9,  4. ,  4.1,  4.2,\n",
       "        4.3,  4.4,  4.5,  4.6,  4.7,  4.8,  4.9,  5. ,  5.1,  5.2,  5.3,\n",
       "        5.4,  5.5,  5.6,  5.7,  5.8,  5.9,  6. ,  6.1,  6.2,  6.3,  6.4,\n",
       "        6.5,  6.6,  6.7,  6.8,  6.9,  7. ,  7.1,  7.2,  7.3,  7.4,  7.5,\n",
       "        7.6,  7.7,  7.8,  7.9,  8. ,  8.1,  8.2,  8.3,  8.4,  8.5,  8.6,\n",
       "        8.7,  8.8,  8.9,  9. ,  9.1,  9.2,  9.3,  9.4,  9.5,  9.6,  9.7,\n",
       "        9.8,  9.9, 10. , 10.1, 10.2, 10.3, 10.4, 10.5, 10.6, 10.7, 10.8,\n",
       "       10.9, 11. , 11.1, 11.2, 11.3, 11.4, 11.5, 11.6, 11.7, 11.8, 11.9,\n",
       "       12. , 12.1, 12.2, 12.3, 12.4, 12.5, 12.6, 12.7, 12.8, 12.9, 13. ,\n",
       "       13.1, 13.2, 13.3, 13.4, 13.5, 13.6, 13.7, 13.8, 13.9, 14. , 14.1,\n",
       "       14.2, 14.3, 14.4, 14.5, 14.6, 14.7, 14.8, 14.9, 15. , 15.1, 15.2,\n",
       "       15.3, 15.4, 15.5, 15.6, 15.7, 15.8, 15.9, 16. , 16.1, 16.2, 16.3,\n",
       "       16.4, 16.5, 16.6, 16.7, 16.8, 16.9, 17. , 17.1, 17.2, 17.3, 17.4,\n",
       "       17.5, 17.6, 17.7, 17.8, 17.9, 18. , 18.1, 18.2, 18.3, 18.4, 18.5,\n",
       "       18.6, 18.7, 18.8, 18.9, 19. , 19.1, 19.2, 19.3, 19.4, 19.5, 19.6,\n",
       "       19.7, 19.8, 19.9, 20. , 20.1, 20.2, 20.3, 20.4, 20.5, 20.6, 20.7,\n",
       "       20.8, 20.9, 21. , 21.1, 21.2, 21.3, 21.4, 21.5, 21.6, 21.7, 21.8,\n",
       "       21.9, 22. , 22.1, 22.2, 22.3, 22.4, 22.5, 22.6, 22.7, 22.8, 22.9,\n",
       "       23. , 23.1, 23.2, 23.3, 23.4, 23.5, 23.6, 23.7, 23.8, 23.9, 24. ,\n",
       "       24.1, 24.2, 24.3, 24.4, 24.5, 24.6, 24.7, 24.8, 24.9, 25. , 25.1,\n",
       "       25.2, 25.3, 25.4, 25.5, 25.6, 25.7, 25.8, 25.9, 26. , 26.1, 26.2,\n",
       "       26.3, 26.4, 26.5, 26.6, 26.7, 26.8, 26.9, 27. , 27.1, 27.2, 27.3,\n",
       "       27.4, 27.5, 27.6, 27.7, 27.8, 27.9])"
      ]
     },
     "execution_count": 60,
     "metadata": {},
     "output_type": "execute_result"
    }
   ],
   "source": [
    "#membuat xreg\n",
    "xreg = np.array(range(10,int((x[-1]+1)*10)))\n",
    "xreg = xreg/10 #memperhalus bentuk garis\n",
    "xreg = xreg.astype('float64')\n",
    "xreg"
   ]
  },
  {
   "cell_type": "markdown",
   "metadata": {},
   "source": [
    "**Regresi berpangkat**"
   ]
  },
  {
   "attachments": {
    "image.png": {
     "image/png": "[encoded data removed]"
    }
   },
   "cell_type": "markdown",
   "metadata": {},
   "source": [
    "![image.png](attachment:image.png)"
   ]
  },
  {
   "attachments": {
    "image.png": {
     "image/png": "[encoded data removed]"
    }
   },
   "cell_type": "markdown",
   "metadata": {},
   "source": [
    "![image.png](attachment:image.png)"
   ]
  },
  {
   "attachments": {
    "image.png": {
     "image/png": "[encoded data removed]"
    }
   },
   "cell_type": "markdown",
   "metadata": {},
   "source": [
    "![image.png](attachment:image.png)"
   ]
  },
  {
   "cell_type": "code",
   "execution_count": 61,
   "metadata": {},
   "outputs": [],
   "source": [
    "p = np.log10(y)\n",
    "q = np.log10(x)"
   ]
  },
  {
   "cell_type": "markdown",
   "metadata": {},
   "source": [
    "**Hitung regresi linear**"
   ]
  },
  {
   "cell_type": "code",
   "execution_count": 62,
   "metadata": {},
   "outputs": [],
   "source": [
    "n = len(y)\n",
    "pq = p*q\n",
    "qq = q**2\n",
    "B = (n*pq.sum() - q.sum()*p.sum())/(n*qq.sum() - (q.sum())**2)\n",
    "A = p.mean()-B*q.mean()"
   ]
  },
  {
   "cell_type": "markdown",
   "metadata": {},
   "source": [
    "**Hasil regresi linear**"
   ]
  },
  {
   "cell_type": "code",
   "execution_count": 63,
   "metadata": {},
   "outputs": [
    {
     "name": "stdout",
     "output_type": "stream",
     "text": [
      "p = 2.1399q -0.4908\n"
     ]
    }
   ],
   "source": [
    "if A>0 :\n",
    "    print (\"p = {:.4f}q + {:.4f}\". format(B,A))\n",
    "else :\n",
    "    print (\"p = {:.4f}q {:.4f}\". format(B,A))"
   ]
  },
  {
   "cell_type": "markdown",
   "metadata": {},
   "source": [
    "**Kembalikan ke bentuk pangkat**"
   ]
  },
  {
   "cell_type": "code",
   "execution_count": 64,
   "metadata": {},
   "outputs": [
    {
     "name": "stdout",
     "output_type": "stream",
     "text": [
      "y = 0.3230x^(2.1399)\n"
     ]
    }
   ],
   "source": [
    "a = 10**A #A=log(a)\n",
    "b = B\n",
    "print (\"y = {:.4f}x^({:.4f})\".format(a,b))"
   ]
  },
  {
   "cell_type": "markdown",
   "metadata": {},
   "source": [
    "**Koefisien Korelasi ( r ) dan Derajat Kesesuaian ( R ) r-square**"
   ]
  },
  {
   "cell_type": "code",
   "execution_count": 65,
   "metadata": {},
   "outputs": [
    {
     "name": "stdout",
     "output_type": "stream",
     "text": [
      "r = 0.9480 dan r^2 = 0.8986\n"
     ]
    }
   ],
   "source": [
    "yDt = ((p - p.mean())**2).sum()\n",
    "yD = ((p - (q*B) - A)**2).sum()\n",
    "r = np.sqrt((yDt-yD)/yDt)\n",
    "r2 = r**2\n",
    "print('r = {:.4f} dan r^2 = {:.4f}'.format(r,r2))"
   ]
  },
  {
   "cell_type": "markdown",
   "metadata": {},
   "source": [
    "**Plot**"
   ]
  },
  {
   "cell_type": "code",
   "execution_count": 66,
   "metadata": {},
   "outputs": [
    {
     "data": {
      "text/plain": [
       "array([3.23009412e-01, 3.96086269e-01, 4.77146861e-01, 5.66289047e-01,\n",
       "       6.63603891e-01, 7.69176611e-01, 8.83087331e-01, 1.00541170e+00,\n",
       "       1.13622140e+00, 1.27558456e+00, 1.42356615e+00, 1.58022823e+00,\n",
       "       1.74563026e+00, 1.91982932e+00, 2.10288027e+00, 2.29483598e+00,\n",
       "       2.49574745e+00, 2.70566395e+00, 2.92463315e+00, 3.15270123e+00,\n",
       "       3.38991294e+00, 3.63631177e+00, 3.89193994e+00, 4.15683853e+00,\n",
       "       4.43104754e+00, 4.71460592e+00, 5.00755166e+00, 5.30992183e+00,\n",
       "       5.62175261e+00, 5.94307935e+00, 6.27393663e+00, 6.61435825e+00,\n",
       "       6.96437730e+00, 7.32402619e+00, 7.69333667e+00, 8.07233984e+00,\n",
       "       8.46106623e+00, 8.85954578e+00, 9.26780786e+00, 9.68588133e+00,\n",
       "       1.01137945e+01, 1.05515753e+01, 1.09992510e+01, 1.14568485e+01,\n",
       "       1.19243944e+01, 1.24019146e+01, 1.28894348e+01, 1.33869802e+01,\n",
       "       1.38945757e+01, 1.44122458e+01, 1.49400145e+01, 1.54779057e+01,\n",
       "       1.60259427e+01, 1.65841487e+01, 1.71525465e+01, 1.77311584e+01,\n",
       "       1.83200068e+01, 1.89191134e+01, 1.95284999e+01, 2.01481877e+01,\n",
       "       2.07781976e+01, 2.14185506e+01, 2.20692673e+01, 2.27303677e+01,\n",
       "       2.34018722e+01, 2.40838004e+01, 2.47761719e+01, 2.54790061e+01,\n",
       "       2.61923222e+01, 2.69161390e+01, 2.76504754e+01, 2.83953498e+01,\n",
       "       2.91507806e+01, 2.99167859e+01, 3.06933836e+01, 3.14805914e+01,\n",
       "       3.22784271e+01, 3.30869079e+01, 3.39060512e+01, 3.47358738e+01,\n",
       "       3.55763929e+01, 3.64276250e+01, 3.72895867e+01, 3.81622945e+01,\n",
       "       3.90457646e+01, 3.99400131e+01, 4.08450561e+01, 4.17609092e+01,\n",
       "       4.26875883e+01, 4.36251087e+01, 4.45734861e+01, 4.55327355e+01,\n",
       "       4.65028722e+01, 4.74839111e+01, 4.84758672e+01, 4.94787552e+01,\n",
       "       5.04925897e+01, 5.15173854e+01, 5.25531565e+01, 5.35999174e+01,\n",
       "       5.46576822e+01, 5.57264651e+01, 5.68062799e+01, 5.78971405e+01,\n",
       "       5.89990607e+01, 6.01120541e+01, 6.12361342e+01, 6.23713144e+01,\n",
       "       6.35176081e+01, 6.46750286e+01, 6.58435890e+01, 6.70233022e+01,\n",
       "       6.82141813e+01, 6.94162392e+01, 7.06294886e+01, 7.18539421e+01,\n",
       "       7.30896124e+01, 7.43365120e+01, 7.55946533e+01, 7.68640486e+01,\n",
       "       7.81447103e+01, 7.94366504e+01, 8.07398811e+01, 8.20544143e+01,\n",
       "       8.33802621e+01, 8.47174363e+01, 8.60659486e+01, 8.74258108e+01,\n",
       "       8.87970345e+01, 9.01796313e+01, 9.15736126e+01, 9.29789900e+01,\n",
       "       9.43957746e+01, 9.58239779e+01, 9.72636110e+01, 9.87146850e+01,\n",
       "       1.00177211e+02, 1.01651200e+02, 1.03136664e+02, 1.04633612e+02,\n",
       "       1.06142055e+02, 1.07662006e+02, 1.09193473e+02, 1.10736469e+02,\n",
       "       1.12291002e+02, 1.13857085e+02, 1.15434727e+02, 1.17023938e+02,\n",
       "       1.18624730e+02, 1.20237113e+02, 1.21861095e+02, 1.23496689e+02,\n",
       "       1.25143904e+02, 1.26802749e+02, 1.28473236e+02, 1.30155374e+02,\n",
       "       1.31849172e+02, 1.33554642e+02, 1.35271791e+02, 1.37000632e+02,\n",
       "       1.38741172e+02, 1.40493422e+02, 1.42257391e+02, 1.44033089e+02,\n",
       "       1.45820525e+02, 1.47619709e+02, 1.49430651e+02, 1.51253359e+02,\n",
       "       1.53087843e+02, 1.54934112e+02, 1.56792176e+02, 1.58662043e+02,\n",
       "       1.60543724e+02, 1.62437226e+02, 1.64342559e+02, 1.66259732e+02,\n",
       "       1.68188754e+02, 1.70129634e+02, 1.72082381e+02, 1.74047004e+02,\n",
       "       1.76023511e+02, 1.78011911e+02, 1.80012213e+02, 1.82024426e+02,\n",
       "       1.84048559e+02, 1.86084619e+02, 1.88132616e+02, 1.90192558e+02,\n",
       "       1.92264453e+02, 1.94348311e+02, 1.96444139e+02, 1.98551946e+02,\n",
       "       2.00671740e+02, 2.02803530e+02, 2.04947324e+02, 2.07103130e+02,\n",
       "       2.09270956e+02, 2.11450811e+02, 2.13642702e+02, 2.15846638e+02,\n",
       "       2.18062627e+02, 2.20290677e+02, 2.22530796e+02, 2.24782992e+02,\n",
       "       2.27047272e+02, 2.29323646e+02, 2.31612120e+02, 2.33912702e+02,\n",
       "       2.36225401e+02, 2.38550224e+02, 2.40887179e+02, 2.43236274e+02,\n",
       "       2.45597516e+02, 2.47970913e+02, 2.50356473e+02, 2.52754203e+02,\n",
       "       2.55164111e+02, 2.57586204e+02, 2.60020490e+02, 2.62466977e+02,\n",
       "       2.64925671e+02, 2.67396581e+02, 2.69879714e+02, 2.72375077e+02,\n",
       "       2.74882677e+02, 2.77402522e+02, 2.79934619e+02, 2.82478976e+02,\n",
       "       2.85035600e+02, 2.87604497e+02, 2.90185675e+02, 2.92779142e+02,\n",
       "       2.95384904e+02, 2.98002969e+02, 3.00633343e+02, 3.03276034e+02,\n",
       "       3.05931049e+02, 3.08598395e+02, 3.11278078e+02, 3.13970106e+02,\n",
       "       3.16674486e+02, 3.19391225e+02, 3.22120329e+02, 3.24861805e+02,\n",
       "       3.27615661e+02, 3.30381903e+02, 3.33160538e+02, 3.35951572e+02,\n",
       "       3.38755013e+02, 3.41570868e+02, 3.44399142e+02, 3.47239842e+02,\n",
       "       3.50092976e+02, 3.52958550e+02, 3.55836571e+02, 3.58727045e+02,\n",
       "       3.61629978e+02, 3.64545378e+02, 3.67473251e+02, 3.70413603e+02,\n",
       "       3.73366441e+02, 3.76331771e+02, 3.79309600e+02, 3.82299935e+02,\n",
       "       3.85302781e+02, 3.88318145e+02, 3.91346034e+02, 3.94386454e+02,\n",
       "       3.97439411e+02, 4.00504911e+02])"
      ]
     },
     "execution_count": 66,
     "metadata": {},
     "output_type": "execute_result"
    }
   ],
   "source": [
    "#membuat yreg\n",
    "yreg = a*(xreg**b)\n",
    "yreg\n",
    "    "
   ]
  },
  {
   "cell_type": "code",
   "execution_count": 67,
   "metadata": {},
   "outputs": [
    {
     "data": {
      "text/plain": [
       "Text(0, 0.5, 'y-banyak orang')"
      ]
     },
     "execution_count": 67,
     "metadata": {},
     "output_type": "execute_result"
    },
    {
     "data": {
      "image/png": "[encoded data removed]",
      "text/plain": [
       "<Figure size 432x288 with 1 Axes>"
      ]
     },
     "metadata": {
      "needs_background": "light"
     },
     "output_type": "display_data"
    }
   ],
   "source": [
    "ax = plt.plot(x,y,'ro')\n",
    "plt.plot(xreg,yreg,'g')\n",
    "plt.grid()\n",
    "plt.xlabel('x-hari ke')\n",
    "plt.ylabel('y-banyak orang')"
   ]
  },
  {
   "cell_type": "markdown",
   "metadata": {},
   "source": [
    "#### Regresi Eksponensial"
   ]
  },
  {
   "attachments": {
    "image.png": {
     "image/png": "[encoded data removed]"
    }
   },
   "cell_type": "markdown",
   "metadata": {},
   "source": [
    "![image.png](attachment:image.png)"
   ]
  },
  {
   "attachments": {
    "image.png": {
     "image/png": "[encoded data removed]"
    }
   },
   "cell_type": "markdown",
   "metadata": {},
   "source": [
    "![image.png](attachment:image.png)"
   ]
  },
  {
   "attachments": {
    "image.png": {
     "image/png": "[encoded data removed]"
    }
   },
   "cell_type": "markdown",
   "metadata": {},
   "source": [
    "![image.png](attachment:image.png)"
   ]
  },
  {
   "cell_type": "markdown",
   "metadata": {},
   "source": [
    "**Linearisasi**"
   ]
  },
  {
   "cell_type": "code",
   "execution_count": 68,
   "metadata": {},
   "outputs": [
    {
     "data": {
      "text/plain": [
       "array([1.000e+00, 1.000e+00, 6.000e+00, 9.000e+00, 1.100e+01, 1.200e+01,\n",
       "       1.500e+01, 1.900e+01, 2.200e+01, 2.600e+01, 3.000e+01, 3.800e+01,\n",
       "       4.100e+01, 4.800e+01, 5.700e+01, 6.900e+01, 8.700e+01, 1.100e+02,\n",
       "       1.500e+02, 2.060e+02, 2.550e+02, 3.010e+02, 4.140e+02, 5.550e+02,\n",
       "       7.800e+02, 1.027e+03, 1.295e+03])"
      ]
     },
     "execution_count": 68,
     "metadata": {},
     "output_type": "execute_result"
    }
   ],
   "source": [
    "y = np.array ((1, 1, 6, 9, 11, 12, 15, 19, 22, 26, 30, 38, 41, 48, 57, 69, 87, 110, 150, 206, 255, 301, 414, 555, 780, 1027, 1295))\n",
    "y = y.astype('float64')\n",
    "y"
   ]
  },
  {
   "cell_type": "code",
   "execution_count": 69,
   "metadata": {},
   "outputs": [
    {
     "data": {
      "text/plain": [
       "array([ 1.,  2.,  3.,  4.,  5.,  6.,  7.,  8.,  9., 10., 11., 12., 13.,\n",
       "       14., 15., 16., 17., 18., 19., 20., 21., 22., 23., 24., 25., 26.,\n",
       "       27.])"
      ]
     },
     "execution_count": 69,
     "metadata": {},
     "output_type": "execute_result"
    }
   ],
   "source": [
    "x = np.array((range(1,1+len(y))))\n",
    "x = x.astype('float64')\n",
    "x"
   ]
  },
  {
   "cell_type": "code",
   "execution_count": 70,
   "metadata": {},
   "outputs": [],
   "source": [
    "p = np.log(y)\n",
    "q = x"
   ]
  },
  {
   "cell_type": "markdown",
   "metadata": {},
   "source": [
    "**Hitung regresi linear**"
   ]
  },
  {
   "attachments": {
    "image.png": {
     "image/png": "[encoded data removed]"
    }
   },
   "cell_type": "markdown",
   "metadata": {},
   "source": [
    "![image.png](attachment:image.png)"
   ]
  },
  {
   "cell_type": "code",
   "execution_count": 71,
   "metadata": {},
   "outputs": [],
   "source": [
    "n = len(y)\n",
    "pq = p*q\n",
    "qq = q**2\n",
    "B = (n*pq.sum() - q.sum()*p.sum())/(n*qq.sum() - (q.sum())**2)\n",
    "A = p.mean()-B*q.mean()"
   ]
  },
  {
   "cell_type": "markdown",
   "metadata": {},
   "source": [
    "**Hasil persamaan linear**"
   ]
  },
  {
   "cell_type": "code",
   "execution_count": 72,
   "metadata": {},
   "outputs": [
    {
     "name": "stdout",
     "output_type": "stream",
     "text": [
      "p = 0.2343q + 0.7062\n"
     ]
    }
   ],
   "source": [
    "if A>0 :\n",
    "    print (\"p = {:.4f}q + {:.4f}\". format(B,A))\n",
    "else :\n",
    "    print (\"p = {:.4f}q {:.4f}\". format(B,A))"
   ]
  },
  {
   "cell_type": "markdown",
   "metadata": {},
   "source": [
    "**Hitung kembali dalam bentuk bilangan berpangkat**"
   ]
  },
  {
   "cell_type": "code",
   "execution_count": 73,
   "metadata": {},
   "outputs": [],
   "source": [
    "a = np.e**A\n",
    "b = B"
   ]
  },
  {
   "cell_type": "code",
   "execution_count": 74,
   "metadata": {},
   "outputs": [
    {
     "name": "stdout",
     "output_type": "stream",
     "text": [
      "y = 2.0263x^(0.2343)\n"
     ]
    }
   ],
   "source": [
    "print (\"y = {:.4f}x^({:.4f})\".format(a,b))"
   ]
  },
  {
   "cell_type": "markdown",
   "metadata": {},
   "source": [
    "**Koefisien Korelasi ( r ) dan Derajat Kesesuaian ( R ) r-square**"
   ]
  },
  {
   "cell_type": "code",
   "execution_count": 75,
   "metadata": {},
   "outputs": [
    {
     "name": "stdout",
     "output_type": "stream",
     "text": [
      "r = 0.9793 dan r^2 = 0.9590\n"
     ]
    }
   ],
   "source": [
    "yDt = ((p - p.mean())**2).sum()\n",
    "yD = ((p - (q*B) - A)**2).sum()\n",
    "r = np.sqrt((yDt-yD)/yDt)\n",
    "r2 = r**2\n",
    "print('r = {:.4f} dan r^2 = {:.4f}'.format(r,r2))"
   ]
  },
  {
   "cell_type": "markdown",
   "metadata": {},
   "source": [
    "**Plot data dan regresinya**"
   ]
  },
  {
   "cell_type": "code",
   "execution_count": 76,
   "metadata": {},
   "outputs": [
    {
     "data": {
      "text/plain": [
       "array([ 0. ,  0.1,  0.2,  0.3,  0.4,  0.5,  0.6,  0.7,  0.8,  0.9,  1. ,\n",
       "        1.1,  1.2,  1.3,  1.4,  1.5,  1.6,  1.7,  1.8,  1.9,  2. ,  2.1,\n",
       "        2.2,  2.3,  2.4,  2.5,  2.6,  2.7,  2.8,  2.9,  3. ,  3.1,  3.2,\n",
       "        3.3,  3.4,  3.5,  3.6,  3.7,  3.8,  3.9,  4. ,  4.1,  4.2,  4.3,\n",
       "        4.4,  4.5,  4.6,  4.7,  4.8,  4.9,  5. ,  5.1,  5.2,  5.3,  5.4,\n",
       "        5.5,  5.6,  5.7,  5.8,  5.9,  6. ,  6.1,  6.2,  6.3,  6.4,  6.5,\n",
       "        6.6,  6.7,  6.8,  6.9,  7. ,  7.1,  7.2,  7.3,  7.4,  7.5,  7.6,\n",
       "        7.7,  7.8,  7.9,  8. ,  8.1,  8.2,  8.3,  8.4,  8.5,  8.6,  8.7,\n",
       "        8.8,  8.9,  9. ,  9.1,  9.2,  9.3,  9.4,  9.5,  9.6,  9.7,  9.8,\n",
       "        9.9, 10. , 10.1, 10.2, 10.3, 10.4, 10.5, 10.6, 10.7, 10.8, 10.9,\n",
       "       11. , 11.1, 11.2, 11.3, 11.4, 11.5, 11.6, 11.7, 11.8, 11.9, 12. ,\n",
       "       12.1, 12.2, 12.3, 12.4, 12.5, 12.6, 12.7, 12.8, 12.9, 13. , 13.1,\n",
       "       13.2, 13.3, 13.4, 13.5, 13.6, 13.7, 13.8, 13.9, 14. , 14.1, 14.2,\n",
       "       14.3, 14.4, 14.5, 14.6, 14.7, 14.8, 14.9, 15. , 15.1, 15.2, 15.3,\n",
       "       15.4, 15.5, 15.6, 15.7, 15.8, 15.9, 16. , 16.1, 16.2, 16.3, 16.4,\n",
       "       16.5, 16.6, 16.7, 16.8, 16.9, 17. , 17.1, 17.2, 17.3, 17.4, 17.5,\n",
       "       17.6, 17.7, 17.8, 17.9, 18. , 18.1, 18.2, 18.3, 18.4, 18.5, 18.6,\n",
       "       18.7, 18.8, 18.9, 19. , 19.1, 19.2, 19.3, 19.4, 19.5, 19.6, 19.7,\n",
       "       19.8, 19.9, 20. , 20.1, 20.2, 20.3, 20.4, 20.5, 20.6, 20.7, 20.8,\n",
       "       20.9, 21. , 21.1, 21.2, 21.3, 21.4, 21.5, 21.6, 21.7, 21.8, 21.9,\n",
       "       22. , 22.1, 22.2, 22.3, 22.4, 22.5, 22.6, 22.7, 22.8, 22.9, 23. ,\n",
       "       23.1, 23.2, 23.3, 23.4, 23.5, 23.6, 23.7, 23.8, 23.9, 24. , 24.1,\n",
       "       24.2, 24.3, 24.4, 24.5, 24.6, 24.7, 24.8, 24.9, 25. , 25.1, 25.2,\n",
       "       25.3, 25.4, 25.5, 25.6, 25.7, 25.8, 25.9, 26. , 26.1, 26.2, 26.3,\n",
       "       26.4, 26.5, 26.6, 26.7, 26.8, 26.9, 27. , 27.1, 27.2, 27.3, 27.4,\n",
       "       27.5, 27.6, 27.7, 27.8, 27.9])"
      ]
     },
     "execution_count": 76,
     "metadata": {},
     "output_type": "execute_result"
    }
   ],
   "source": [
    "#membuat xreg\n",
    "xreg = np.array(range(0,int((x[-1]+1)*10)))\n",
    "xreg = xreg/10 #memperhalus bentuk garis\n",
    "xreg = xreg.astype('float64')\n",
    "xreg"
   ]
  },
  {
   "cell_type": "code",
   "execution_count": 77,
   "metadata": {},
   "outputs": [
    {
     "data": {
      "text/plain": [
       "array([   2.02626983,    2.07430559,    2.12348012,    2.1738204 ,\n",
       "          2.22535407,    2.27810943,    2.33211543,    2.38740172,\n",
       "          2.44399866,    2.50193731,    2.56124949,    2.62196775,\n",
       "          2.68412542,    2.74775664,    2.81289633,    2.87958026,\n",
       "          2.94784503,    3.01772811,    3.08926788,    3.16250361,\n",
       "          3.2374755 ,    3.31422471,    3.39279338,    3.47322463,\n",
       "          3.55556263,    3.63985257,    3.72614074,    3.81447449,\n",
       "          3.90490233,    3.99747389,    4.09224001,    4.18925269,\n",
       "          4.28856521,    4.39023208,    4.49430911,    4.60085345,\n",
       "          4.70992358,    4.82157938,    4.93588215,    5.05289464,\n",
       "          5.17268108,    5.29530725,    5.42084044,    5.5493496 ,\n",
       "          5.68090525,    5.81557963,    5.95344666,    6.09458204,\n",
       "          6.23906325,    6.3869696 ,    6.53838229,    6.69338445,\n",
       "          6.85206116,    7.01449955,    7.18078878,    7.35102014,\n",
       "          7.5252871 ,    7.70368531,    7.88631273,    8.07326959,\n",
       "          8.26465856,    8.46058468,    8.66115553,    8.86648121,\n",
       "          9.07667444,    9.29185062,    9.51212787,    9.73762712,\n",
       "          9.96847218,   10.20478976,   10.4467096 ,   10.69436452,\n",
       "         10.94789046,   11.20742662,   11.47311548,   11.74510289,\n",
       "         12.02353816,   12.30857416,   12.60036737,   12.89907797,\n",
       "         13.20486996,   13.5179112 ,   13.83837356,   14.16643295,\n",
       "         14.50226949,   14.84606754,   15.19801583,   15.55830758,\n",
       "         15.92714059,   16.30471735,   16.69124512,   17.08693611,\n",
       "         17.49200756,   17.90668183,   18.33118657,   18.76575484,\n",
       "         19.21062519,   19.66604187,   20.13225488,   20.60952017,\n",
       "         21.09809975,   21.59826185,   22.11028103,   22.6344384 ,\n",
       "         23.1710217 ,   23.72032551,   24.2826514 ,   24.85830806,\n",
       "         25.44761153,   26.05088532,   26.66846062,   27.30067647,\n",
       "         27.94787995,   28.61042635,   29.28867941,   29.98301147,\n",
       "         30.69380372,   31.42144636,   32.16633886,   32.92889016,\n",
       "         33.70951888,   34.50865357,   35.32673295,   36.16420613,\n",
       "         37.02153287,   37.89918382,   38.7976408 ,   39.71739705,\n",
       "         40.65895751,   41.62283907,   42.60957088,   43.61969465,\n",
       "         44.65376492,   45.71234938,   46.79602917,   47.90539921,\n",
       "         49.04106853,   50.2036606 ,   51.39381366,   52.61218108,\n",
       "         53.85943172,   55.13625032,   56.44333781,   57.78141177,\n",
       "         59.15120678,   60.55347483,   61.98898576,   63.45852762,\n",
       "         64.96290717,   66.5029503 ,   68.07950246,   69.69342915,\n",
       "         71.3456164 ,   73.03697122,   74.76842214,   76.54091971,\n",
       "         78.35543698,   80.21297011,   82.11453885,   84.06118713,\n",
       "         86.05398362,   88.09402234,   90.18242324,   92.32033281,\n",
       "         94.50892474,   96.74940052,   99.04299013,  101.39095273,\n",
       "        103.7945773 ,  106.2551834 ,  108.77412186,  111.35277552,\n",
       "        113.99256004,  116.69492461,  119.46135279,  122.29336329,\n",
       "        125.19251085,  128.16038705,  131.1986212 ,  134.30888125,\n",
       "        137.49287468,  140.75234945,  144.08909496,  147.50494302,\n",
       "        151.00176888,  154.58149224,  158.24607831,  161.99753889,\n",
       "        165.83793347,  169.76937036,  173.79400786,  177.91405542,\n",
       "        182.13177489,  186.44948173,  190.86954628,  195.39439509,\n",
       "        200.02651222,  204.76844064,  209.62278358,  214.592206  ,\n",
       "        219.67943603,  224.88726647,  230.21855635,  235.67623244,\n",
       "        241.26329093,  246.98279903,  252.83789663,  258.83179811,\n",
       "        264.96779401,  271.24925289,  277.67962317,  284.26243503,\n",
       "        291.00130231,  297.89992454,  304.96208896,  312.19167258,\n",
       "        319.59264432,  327.16906719,  334.92510052,  342.86500226,\n",
       "        350.99313127,  359.31394977,  367.83202575,  376.55203549,\n",
       "        385.47876614,  394.61711833,  403.97210885,  413.54887346,\n",
       "        423.35266963,  433.38887949,  443.66301276,  454.18070976,\n",
       "        464.94774454,  475.97002802,  487.25361126,  498.80468877,\n",
       "        510.62960188,  522.7348423 ,  535.12705558,  547.81304487,\n",
       "        560.79977456,  574.09437415,  587.70414215,  601.63655012,\n",
       "        615.89924671,  630.50006191,  645.44701132,  660.74830059,\n",
       "        676.41232986,  692.44769844,  708.86320947,  725.66787481,\n",
       "        742.87091994,  760.48178905,  778.51015021,  796.96590072,\n",
       "        815.85917246,  835.20033755,  855.00001395,  875.26907137,\n",
       "        896.0186372 ,  917.26010259,  939.00512878,  961.26565342,\n",
       "        984.05389717, 1007.38237041, 1031.2638801 , 1055.71153678,\n",
       "       1080.73876182, 1106.35929476, 1132.58720086, 1159.43687879,\n",
       "       1186.92306861, 1215.06085977, 1243.86569946, 1273.35340107,\n",
       "       1303.54015287, 1334.44252688, 1366.07748801, 1398.46240332])"
      ]
     },
     "execution_count": 77,
     "metadata": {},
     "output_type": "execute_result"
    }
   ],
   "source": [
    "#membuat yreg\n",
    "yreg = a*np.e**(b*xreg)\n",
    "yreg"
   ]
  },
  {
   "cell_type": "code",
   "execution_count": 78,
   "metadata": {},
   "outputs": [
    {
     "data": {
      "text/plain": [
       "Text(0, 0.5, 'y-banyak orang')"
      ]
     },
     "execution_count": 78,
     "metadata": {},
     "output_type": "execute_result"
    },
    {
     "data": {
      "image/png": "[encoded data removed]",
      "text/plain": [
       "<Figure size 432x288 with 1 Axes>"
      ]
     },
     "metadata": {
      "needs_background": "light"
     },
     "output_type": "display_data"
    }
   ],
   "source": [
    "ax = plt.plot(x,y,'ro')\n",
    "plt.plot(xreg,yreg,'b')\n",
    "plt.grid()\n",
    "plt.xlabel('x-hari ke')\n",
    "plt.ylabel('y-banyak orang')"
   ]
  },
  {
   "cell_type": "markdown",
   "metadata": {},
   "source": [
    "**Selesai**"
   ]
  },
  {
   "cell_type": "markdown",
   "metadata": {},
   "source": [
    "#### Regresi Polinomial"
   ]
  },
  {
   "cell_type": "code",
   "execution_count": 79,
   "metadata": {},
   "outputs": [
    {
     "data": {
      "text/plain": [
       "array([1.000e+00, 1.000e+00, 6.000e+00, 9.000e+00, 1.100e+01, 1.200e+01,\n",
       "       1.500e+01, 1.900e+01, 2.200e+01, 2.600e+01, 3.000e+01, 3.800e+01,\n",
       "       4.100e+01, 4.800e+01, 5.700e+01, 6.900e+01, 8.700e+01, 1.100e+02,\n",
       "       1.500e+02, 2.060e+02, 2.550e+02, 3.010e+02, 4.140e+02, 5.550e+02,\n",
       "       7.800e+02, 1.027e+03, 1.295e+03])"
      ]
     },
     "execution_count": 79,
     "metadata": {},
     "output_type": "execute_result"
    }
   ],
   "source": [
    "y = np.array ((1, 1, 6, 9, 11, 12, 15, 19, 22, 26, 30, 38, 41, 48, 57, 69, 87, 110, 150, 206, 255, 301, 414, 555, 780, 1027, 1295))\n",
    "y = y.astype('float64')\n",
    "y"
   ]
  },
  {
   "cell_type": "code",
   "execution_count": 80,
   "metadata": {},
   "outputs": [
    {
     "data": {
      "text/plain": [
       "array([ 1.,  2.,  3.,  4.,  5.,  6.,  7.,  8.,  9., 10., 11., 12., 13.,\n",
       "       14., 15., 16., 17., 18., 19., 20., 21., 22., 23., 24., 25., 26.,\n",
       "       27.])"
      ]
     },
     "execution_count": 80,
     "metadata": {},
     "output_type": "execute_result"
    }
   ],
   "source": [
    "x = np.array((range(1,1+len(y))))\n",
    "x = x.astype('float64')\n",
    "x"
   ]
  },
  {
   "cell_type": "markdown",
   "metadata": {},
   "source": [
    "**Membentuk regresi polinomial dari matriks**"
   ]
  },
  {
   "attachments": {
    "image.png": {
     "image/png": "[encoded data removed]"
    }
   },
   "cell_type": "markdown",
   "metadata": {},
   "source": [
    "![image.png](attachment:image.png)"
   ]
  },
  {
   "cell_type": "markdown",
   "metadata": {},
   "source": [
    "**Mendefinisikan elemen-elemen matriks kiri**"
   ]
  },
  {
   "cell_type": "code",
   "execution_count": 81,
   "metadata": {},
   "outputs": [
    {
     "data": {
      "text/plain": [
       "array([[2.70000000e+01, 3.78000000e+02, 6.93000000e+03, 1.42884000e+05],\n",
       "       [3.78000000e+02, 6.93000000e+03, 1.42884000e+05, 3.14206200e+06],\n",
       "       [6.93000000e+03, 1.42884000e+05, 3.14206200e+06, 7.19659080e+07],\n",
       "       [1.42884000e+05, 3.14206200e+06, 7.19659080e+07, 1.69521759e+09]])"
      ]
     },
     "execution_count": 81,
     "metadata": {},
     "output_type": "execute_result"
    }
   ],
   "source": [
    "n = len(y)\n",
    "a = x.sum()\n",
    "b = (x**2).sum()\n",
    "c = (x**3).sum()\n",
    "d = (x**4).sum()\n",
    "e = (x**5).sum()\n",
    "f = (x**6).sum()\n",
    "A = np.array(([n, a, b, c],\n",
    "    [a, b, c, d],\n",
    "    [b, c, d, e],\n",
    "    [c, d, e, f]))\n",
    "A"
   ]
  },
  {
   "cell_type": "markdown",
   "metadata": {},
   "source": [
    "**Mendefinisikan elemen-elemen matriks kanan**"
   ]
  },
  {
   "cell_type": "code",
   "execution_count": 82,
   "metadata": {},
   "outputs": [
    {
     "data": {
      "text/plain": [
       "array([[5.5850000e+03],\n",
       "       [1.3126400e+05],\n",
       "       [3.1831360e+06],\n",
       "       [7.8613406e+07]])"
      ]
     },
     "execution_count": 82,
     "metadata": {},
     "output_type": "execute_result"
    }
   ],
   "source": [
    "g = y.sum()\n",
    "h = (x*y).sum()\n",
    "i = ((x**2)*y).sum()\n",
    "j = ((x**3)*y).sum()\n",
    "B = np.array(([g],\n",
    "    [h],\n",
    "    [i],\n",
    "    [j]))\n",
    "B"
   ]
  },
  {
   "cell_type": "markdown",
   "metadata": {},
   "source": [
    "**Invers matriks sisi kiri**"
   ]
  },
  {
   "cell_type": "code",
   "execution_count": 83,
   "metadata": {},
   "outputs": [
    {
     "data": {
      "text/plain": [
       "array([[ 7.92877493e-01, -2.15622032e-01,  1.56695157e-02,\n",
       "        -3.32383666e-04],\n",
       "       [-2.15622032e-01,  7.31260828e-02, -5.84373056e-03,\n",
       "         1.30715744e-04],\n",
       "       [ 1.56695157e-02, -5.84373056e-03,  4.94014287e-04,\n",
       "        -1.14615057e-05],\n",
       "       [-3.32383666e-04,  1.30715744e-04, -1.14615057e-05,\n",
       "         2.72892993e-07]])"
      ]
     },
     "execution_count": 83,
     "metadata": {},
     "output_type": "execute_result"
    }
   ],
   "source": [
    "Ainv = np.linalg.inv(A)\n",
    "Ainv"
   ]
  },
  {
   "cell_type": "markdown",
   "metadata": {},
   "source": [
    "**Mencari nilai a0, a1, a2, dst dengan a = (A^-1)B namun di sini variabel a diganti dengan Y**"
   ]
  },
  {
   "cell_type": "code",
   "execution_count": 84,
   "metadata": {},
   "outputs": [
    {
     "name": "stdout",
     "output_type": "stream",
     "text": [
      "[[-126.8022792 ]\n",
      " [  69.19380751]\n",
      " [  -8.07054299]\n",
      " [   0.27142483]]\n"
     ]
    }
   ],
   "source": [
    "Y = Ainv.dot(B)\n",
    "print(Y)"
   ]
  },
  {
   "cell_type": "code",
   "execution_count": 85,
   "metadata": {},
   "outputs": [],
   "source": [
    "a0 = Y[0,0]\n",
    "a1 = Y[1,0]\n",
    "a2 = Y[2,0]\n",
    "a3 = Y[3,0]"
   ]
  },
  {
   "cell_type": "markdown",
   "metadata": {},
   "source": [
    "**Hasil persamaan regresi polinomial**"
   ]
  },
  {
   "cell_type": "code",
   "execution_count": 86,
   "metadata": {},
   "outputs": [
    {
     "name": "stdout",
     "output_type": "stream",
     "text": [
      "y = 0.2714x^3 + -8.0705X^2 + 69.1938x + -126.8023\n"
     ]
    }
   ],
   "source": [
    "print('y = {:.4f}x^3 + {:.4f}X^2 + {:.4f}x + {:.4f}'.format(a3, a2, a1, a0))"
   ]
  },
  {
   "cell_type": "code",
   "execution_count": 87,
   "metadata": {},
   "outputs": [
    {
     "data": {
      "text/plain": [
       "array([1.000e+00, 1.000e+00, 6.000e+00, 9.000e+00, 1.100e+01, 1.200e+01,\n",
       "       1.500e+01, 1.900e+01, 2.200e+01, 2.600e+01, 3.000e+01, 3.800e+01,\n",
       "       4.100e+01, 4.800e+01, 5.700e+01, 6.900e+01, 8.700e+01, 1.100e+02,\n",
       "       1.500e+02, 2.060e+02, 2.550e+02, 3.010e+02, 4.140e+02, 5.550e+02,\n",
       "       7.800e+02, 1.027e+03, 1.295e+03])"
      ]
     },
     "execution_count": 87,
     "metadata": {},
     "output_type": "execute_result"
    }
   ],
   "source": [
    "y"
   ]
  },
  {
   "cell_type": "markdown",
   "metadata": {},
   "source": [
    "**Koefisien Korelasi ( r ) dan Derajat Kesesuaian ( R ) r-square**"
   ]
  },
  {
   "cell_type": "code",
   "execution_count": 88,
   "metadata": {},
   "outputs": [
    {
     "name": "stdout",
     "output_type": "stream",
     "text": [
      "r = 0.9907 dan r^2 = 0.9590\n"
     ]
    }
   ],
   "source": [
    "yDt = (y-y.mean())**2\n",
    "yD = (y-a0-a1*x-a2*(x**2)-a3*(x**3))**2\n",
    "r = np.sqrt((yDt.sum()-yD.sum())/yDt.sum())\n",
    "R2 = r**2\n",
    "print('r = {:.4f} dan r^2 = {:.4f}'.format(r,r2))"
   ]
  },
  {
   "cell_type": "markdown",
   "metadata": {},
   "source": [
    "**Plot**"
   ]
  },
  {
   "cell_type": "code",
   "execution_count": 89,
   "metadata": {},
   "outputs": [
    {
     "data": {
      "text/plain": [
       "Text(0, 0.5, 'y')"
      ]
     },
     "execution_count": 89,
     "metadata": {},
     "output_type": "execute_result"
    },
    {
     "data": {
      "image/png": "[encoded data removed]",
      "text/plain": [
       "<Figure size 432x288 with 1 Axes>"
      ]
     },
     "metadata": {
      "needs_background": "light"
     },
     "output_type": "display_data"
    }
   ],
   "source": [
    "xreg = np.array(range(0,int((x[-1]+0.5)*10)))\n",
    "xreg = xreg/10\n",
    "yreg = a0 + a1*xreg + a2*(xreg**2) + a3*(xreg**3)\n",
    "ax = plt.plot(x,y,'ro')\n",
    "plt.plot(xreg,yreg,'b')\n",
    "plt.grid()\n",
    "plt.xlabel('x')\n",
    "plt.ylabel('y')"
   ]
  },
  {
   "cell_type": "markdown",
   "metadata": {},
   "source": [
    "**Perbandingan jika memakai polyfit dengan derajat dinaikkan**"
   ]
  },
  {
   "cell_type": "code",
   "execution_count": 90,
   "metadata": {},
   "outputs": [
    {
     "data": {
      "image/png": "[encoded data removed]",
      "text/plain": [
       "<Figure size 432x288 with 1 Axes>"
      ]
     },
     "metadata": {
      "needs_background": "light"
     },
     "output_type": "display_data"
    }
   ],
   "source": [
    "regpoly = np.poly1d(np.polyfit(x, y, 5))\n",
    "\n",
    "myline = np.linspace(1, len(y), 100)\n",
    "\n",
    "plt.scatter(x, y)\n",
    "plt.plot(myline, regpoly(myline), linewidth=3, color='r')\n",
    "plt.show()"
   ]
  },
  {
   "cell_type": "code",
   "execution_count": 91,
   "metadata": {},
   "outputs": [
    {
     "name": "stdout",
     "output_type": "stream",
     "text": [
      "           5           4          3         2\n",
      "0.0007434 x - 0.03527 x + 0.6404 x - 5.093 x + 18.94 x - 17.21\n"
     ]
    }
   ],
   "source": [
    "print (regpoly)"
   ]
  },
  {
   "cell_type": "code",
   "execution_count": 92,
   "metadata": {},
   "outputs": [
    {
     "name": "stdout",
     "output_type": "stream",
     "text": [
      "0.9989363000946645\n"
     ]
    }
   ],
   "source": [
    "print(r2_score(y, regpoly(x)))"
   ]
  },
  {
   "cell_type": "markdown",
   "metadata": {},
   "source": [
    "**Selesai**"
   ]
  },
  {
   "cell_type": "code",
   "execution_count": null,
   "metadata": {},
   "outputs": [],
   "source": []
  }
 ],
 "metadata": {
  "kernelspec": {
   "display_name": "Python 3",
   "language": "python",
   "name": "python3"
  },
  "language_info": {
   "codemirror_mode": {
    "name": "ipython",
    "version": 3
   },
   "file_extension": ".py",
   "mimetype": "text/x-python",
   "name": "python",
   "nbconvert_exporter": "python",
   "pygments_lexer": "ipython3",
   "version": "3.7.6"
  },
  "toc": {
   "base_numbering": 1,
   "nav_menu": {},
   "number_sections": true,
   "sideBar": true,
   "skip_h1_title": false,
   "title_cell": "Table of Contents",
   "title_sidebar": "Contents",
   "toc_cell": false,
   "toc_position": {
    "height": "calc(100% - 180px)",
    "left": "10px",
    "top": "150px",
    "width": "286.957px"
   },
   "toc_section_display": true,
   "toc_window_display": true
  }
 },
 "nbformat": 4,
 "nbformat_minor": 4
}
